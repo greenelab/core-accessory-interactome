{
 "cells": [
  {
   "cell_type": "markdown",
   "id": "8b172f36",
   "metadata": {},
   "source": [
    "# Explore differences in aromatic amino acid genes\n",
    "\n",
    "This notebook compares the expression activity of genes related to the aromatic amino acid pathway between PAO1 and PA14 strains using both RNA-seq and array compendia. The goal is to determine if the differences in expression activity between PAO1 vs PA14 are consistent using both RNA-seq and array compendia."
   ]
  },
  {
   "cell_type": "code",
   "execution_count": 1,
   "id": "e21d679a",
   "metadata": {},
   "outputs": [],
   "source": [
    "%load_ext autoreload\n",
    "%autoreload 2\n",
    "%matplotlib inline\n",
    "import os\n",
    "import json\n",
    "import pandas as pd\n",
    "import matplotlib.pyplot as plt\n",
    "from scripts import paths"
   ]
  },
  {
   "cell_type": "markdown",
   "id": "3a8cde1d",
   "metadata": {},
   "source": [
    "## Load expression compendia"
   ]
  },
  {
   "cell_type": "code",
   "execution_count": 2,
   "id": "0d2511b8",
   "metadata": {},
   "outputs": [],
   "source": [
    "# RNA-seq compendia files\n",
    "rnaseq_pao1_compendium_filename = paths.PAO1_COMPENDIUM\n",
    "rnaseq_pa14_compendium_filename = paths.PA14_COMPENDIUM\n",
    "\n",
    "# Array compendia files\n",
    "array_pao1_compendium_filename = paths.PAO1_COMPENDIUM_ARRAY\n",
    "array_pa14_compendium_filename = paths.PA14_COMPENDIUM_ARRAY"
   ]
  },
  {
   "cell_type": "code",
   "execution_count": 3,
   "id": "bede8349",
   "metadata": {},
   "outputs": [],
   "source": [
    "# Load expression data\n",
    "rnaseq_pao1_compendium = pd.read_csv(\n",
    "    rnaseq_pao1_compendium_filename, sep=\"\\t\", index_col=0, header=0\n",
    ")\n",
    "rnaseq_pa14_compendium = pd.read_csv(\n",
    "    rnaseq_pa14_compendium_filename, sep=\"\\t\", index_col=0, header=0\n",
    ")\n",
    "\n",
    "array_pao1_compendium = pd.read_csv(\n",
    "    array_pao1_compendium_filename, sep=\"\\t\", index_col=0, header=0\n",
    ")\n",
    "array_pa14_compendium = pd.read_csv(\n",
    "    array_pa14_compendium_filename, sep=\"\\t\", index_col=0, header=0\n",
    ")"
   ]
  },
  {
   "cell_type": "markdown",
   "id": "530cc08a",
   "metadata": {},
   "source": [
    "## Load KEGG pathways"
   ]
  },
  {
   "cell_type": "code",
   "execution_count": 4,
   "id": "2be44607",
   "metadata": {},
   "outputs": [],
   "source": [
    "# Load KEGG pathway data\n",
    "pao1_pathway_filename = \"../3_core_core_analysis/pao1_kegg_annot.tsv\"\n",
    "pa14_pathway_filename = \"../3_core_core_analysis/pa14_kegg_annot.tsv\""
   ]
  },
  {
   "cell_type": "code",
   "execution_count": 5,
   "id": "7079b79c",
   "metadata": {},
   "outputs": [],
   "source": [
    "pao1_pathways = pd.read_csv(pao1_pathway_filename, sep=\"\\t\", header=0, index_col=0)\n",
    "pa14_pathways = pd.read_csv(pa14_pathway_filename, sep=\"\\t\", header=0, index_col=0)"
   ]
  },
  {
   "cell_type": "code",
   "execution_count": 6,
   "id": "d8767262",
   "metadata": {},
   "outputs": [
    {
     "name": "stdout",
     "output_type": "stream",
     "text": [
      "(123, 3)\n"
     ]
    },
    {
     "data": {
      "text/html": [
       "<div>\n",
       "<style scoped>\n",
       "    .dataframe tbody tr th:only-of-type {\n",
       "        vertical-align: middle;\n",
       "    }\n",
       "\n",
       "    .dataframe tbody tr th {\n",
       "        vertical-align: top;\n",
       "    }\n",
       "\n",
       "    .dataframe thead th {\n",
       "        text-align: right;\n",
       "    }\n",
       "</style>\n",
       "<table border=\"1\" class=\"dataframe\">\n",
       "  <thead>\n",
       "    <tr style=\"text-align: right;\">\n",
       "      <th></th>\n",
       "      <th>pathway_name</th>\n",
       "      <th>num_genes</th>\n",
       "      <th>gene_ids</th>\n",
       "    </tr>\n",
       "    <tr>\n",
       "      <th>pathway_id_name</th>\n",
       "      <th></th>\n",
       "      <th></th>\n",
       "      <th></th>\n",
       "    </tr>\n",
       "  </thead>\n",
       "  <tbody>\n",
       "    <tr>\n",
       "      <th>path:pae00010 : Glycolysis / Gluconeogenesis</th>\n",
       "      <td>Glycolysis / Gluconeogenesis</td>\n",
       "      <td>37</td>\n",
       "      <td>['PA3193', 'PA4732', 'PA5110', 'PA0555', 'PA47...</td>\n",
       "    </tr>\n",
       "    <tr>\n",
       "      <th>path:pae00020 : Citrate cycle (TCA cycle)</th>\n",
       "      <td>Citrate cycle (TCA cycle)</td>\n",
       "      <td>28</td>\n",
       "      <td>['PA1580', 'PA1562', 'PA1787', 'PA2623', 'PA26...</td>\n",
       "    </tr>\n",
       "    <tr>\n",
       "      <th>path:pae00030 : Pentose phosphate pathway</th>\n",
       "      <td>Pentose phosphate pathway</td>\n",
       "      <td>28</td>\n",
       "      <td>['PA4732', 'PA5439', 'PA3183', 'PA3182', 'PA42...</td>\n",
       "    </tr>\n",
       "    <tr>\n",
       "      <th>path:pae00040 : Pentose and glucuronate interconversions</th>\n",
       "      <td>Pentose and glucuronate interconversions</td>\n",
       "      <td>8</td>\n",
       "      <td>['PA2022', 'PA3559', 'PA2023', 'PA0607', 'PA23...</td>\n",
       "    </tr>\n",
       "    <tr>\n",
       "      <th>path:pae00051 : Fructose and mannose metabolism</th>\n",
       "      <td>Fructose and mannose metabolism</td>\n",
       "      <td>19</td>\n",
       "      <td>['PA2344', 'PA3551', 'PA2232', 'PA5452', 'PA53...</td>\n",
       "    </tr>\n",
       "  </tbody>\n",
       "</table>\n",
       "</div>"
      ],
      "text/plain": [
       "                                                                                pathway_name  \\\n",
       "pathway_id_name                                                                                \n",
       "path:pae00010 : Glycolysis / Gluconeogenesis                    Glycolysis / Gluconeogenesis   \n",
       "path:pae00020 : Citrate cycle (TCA cycle)                          Citrate cycle (TCA cycle)   \n",
       "path:pae00030 : Pentose phosphate pathway                          Pentose phosphate pathway   \n",
       "path:pae00040 : Pentose and glucuronate interco...  Pentose and glucuronate interconversions   \n",
       "path:pae00051 : Fructose and mannose metabolism              Fructose and mannose metabolism   \n",
       "\n",
       "                                                    num_genes  \\\n",
       "pathway_id_name                                                 \n",
       "path:pae00010 : Glycolysis / Gluconeogenesis               37   \n",
       "path:pae00020 : Citrate cycle (TCA cycle)                  28   \n",
       "path:pae00030 : Pentose phosphate pathway                  28   \n",
       "path:pae00040 : Pentose and glucuronate interco...          8   \n",
       "path:pae00051 : Fructose and mannose metabolism            19   \n",
       "\n",
       "                                                                                             gene_ids  \n",
       "pathway_id_name                                                                                        \n",
       "path:pae00010 : Glycolysis / Gluconeogenesis        ['PA3193', 'PA4732', 'PA5110', 'PA0555', 'PA47...  \n",
       "path:pae00020 : Citrate cycle (TCA cycle)           ['PA1580', 'PA1562', 'PA1787', 'PA2623', 'PA26...  \n",
       "path:pae00030 : Pentose phosphate pathway           ['PA4732', 'PA5439', 'PA3183', 'PA3182', 'PA42...  \n",
       "path:pae00040 : Pentose and glucuronate interco...  ['PA2022', 'PA3559', 'PA2023', 'PA0607', 'PA23...  \n",
       "path:pae00051 : Fructose and mannose metabolism     ['PA2344', 'PA3551', 'PA2232', 'PA5452', 'PA53...  "
      ]
     },
     "execution_count": 6,
     "metadata": {},
     "output_type": "execute_result"
    }
   ],
   "source": [
    "print(pao1_pathways.shape)\n",
    "pao1_pathways.head()"
   ]
  },
  {
   "cell_type": "code",
   "execution_count": 7,
   "id": "165c716f",
   "metadata": {},
   "outputs": [
    {
     "name": "stdout",
     "output_type": "stream",
     "text": [
      "(123, 3)\n"
     ]
    },
    {
     "data": {
      "text/html": [
       "<div>\n",
       "<style scoped>\n",
       "    .dataframe tbody tr th:only-of-type {\n",
       "        vertical-align: middle;\n",
       "    }\n",
       "\n",
       "    .dataframe tbody tr th {\n",
       "        vertical-align: top;\n",
       "    }\n",
       "\n",
       "    .dataframe thead th {\n",
       "        text-align: right;\n",
       "    }\n",
       "</style>\n",
       "<table border=\"1\" class=\"dataframe\">\n",
       "  <thead>\n",
       "    <tr style=\"text-align: right;\">\n",
       "      <th></th>\n",
       "      <th>pathway_name</th>\n",
       "      <th>num_genes</th>\n",
       "      <th>gene_ids</th>\n",
       "    </tr>\n",
       "    <tr>\n",
       "      <th>pathway_id_name</th>\n",
       "      <th></th>\n",
       "      <th></th>\n",
       "      <th></th>\n",
       "    </tr>\n",
       "  </thead>\n",
       "  <tbody>\n",
       "    <tr>\n",
       "      <th>path:pau00010 : Glycolysis / Gluconeogenesis</th>\n",
       "      <td>Glycolysis / Gluconeogenesis</td>\n",
       "      <td>37</td>\n",
       "      <td>['PA14_22930', 'PA14_62620', 'PA14_67490', 'PA...</td>\n",
       "    </tr>\n",
       "    <tr>\n",
       "      <th>path:pau00020 : Citrate cycle (TCA cycle)</th>\n",
       "      <td>Citrate cycle (TCA cycle)</td>\n",
       "      <td>28</td>\n",
       "      <td>['PA14_44070', 'PA14_44290', 'PA14_41470', 'PA...</td>\n",
       "    </tr>\n",
       "    <tr>\n",
       "      <th>path:pau00030 : Pentose phosphate pathway</th>\n",
       "      <td>Pentose phosphate pathway</td>\n",
       "      <td>28</td>\n",
       "      <td>['PA14_62620', 'PA14_71800', 'PA14_23070', 'PA...</td>\n",
       "    </tr>\n",
       "    <tr>\n",
       "      <th>path:pau00040 : Pentose and glucuronate interconversions</th>\n",
       "      <td>Pentose and glucuronate interconversions</td>\n",
       "      <td>8</td>\n",
       "      <td>['PA14_38360', 'PA14_18300', 'PA14_38350', 'PA...</td>\n",
       "    </tr>\n",
       "    <tr>\n",
       "      <th>path:pau00051 : Fructose and mannose metabolism</th>\n",
       "      <td>Fructose and mannose metabolism</td>\n",
       "      <td>18</td>\n",
       "      <td>['PA14_34340', 'PA14_18380', 'PA14_71970', 'PA...</td>\n",
       "    </tr>\n",
       "  </tbody>\n",
       "</table>\n",
       "</div>"
      ],
      "text/plain": [
       "                                                                                pathway_name  \\\n",
       "pathway_id_name                                                                                \n",
       "path:pau00010 : Glycolysis / Gluconeogenesis                    Glycolysis / Gluconeogenesis   \n",
       "path:pau00020 : Citrate cycle (TCA cycle)                          Citrate cycle (TCA cycle)   \n",
       "path:pau00030 : Pentose phosphate pathway                          Pentose phosphate pathway   \n",
       "path:pau00040 : Pentose and glucuronate interco...  Pentose and glucuronate interconversions   \n",
       "path:pau00051 : Fructose and mannose metabolism              Fructose and mannose metabolism   \n",
       "\n",
       "                                                    num_genes  \\\n",
       "pathway_id_name                                                 \n",
       "path:pau00010 : Glycolysis / Gluconeogenesis               37   \n",
       "path:pau00020 : Citrate cycle (TCA cycle)                  28   \n",
       "path:pau00030 : Pentose phosphate pathway                  28   \n",
       "path:pau00040 : Pentose and glucuronate interco...          8   \n",
       "path:pau00051 : Fructose and mannose metabolism            18   \n",
       "\n",
       "                                                                                             gene_ids  \n",
       "pathway_id_name                                                                                        \n",
       "path:pau00010 : Glycolysis / Gluconeogenesis        ['PA14_22930', 'PA14_62620', 'PA14_67490', 'PA...  \n",
       "path:pau00020 : Citrate cycle (TCA cycle)           ['PA14_44070', 'PA14_44290', 'PA14_41470', 'PA...  \n",
       "path:pau00030 : Pentose phosphate pathway           ['PA14_62620', 'PA14_71800', 'PA14_23070', 'PA...  \n",
       "path:pau00040 : Pentose and glucuronate interco...  ['PA14_38360', 'PA14_18300', 'PA14_38350', 'PA...  \n",
       "path:pau00051 : Fructose and mannose metabolism     ['PA14_34340', 'PA14_18380', 'PA14_71970', 'PA...  "
      ]
     },
     "execution_count": 7,
     "metadata": {},
     "output_type": "execute_result"
    }
   ],
   "source": [
    "print(pa14_pathways.shape)\n",
    "pa14_pathways.head()"
   ]
  },
  {
   "cell_type": "markdown",
   "id": "b90e4524",
   "metadata": {},
   "source": [
    "## Get aromatic amino acid genes"
   ]
  },
  {
   "cell_type": "code",
   "execution_count": 8,
   "id": "7c2fea32",
   "metadata": {},
   "outputs": [],
   "source": [
    "# Aromatic amino acid pathways\n",
    "# Are there others to include?\n",
    "# https://docs.google.com/spreadsheets/d/1pDehBGTyCN0hTrlvbBNymeI640Sl68XlUBwBU8aPZTA/edit#gid=2100140648\n",
    "pao1_aa_pathways = [\n",
    "    \"path:pae00362 : Benzoate degradation\",\n",
    "    \"path:pae00350 : Tyrosine metabolism\",\n",
    "    \"path:pae00620 : Pyruvate metabolism\",\n",
    "    \"path:pae01220 : Degradation of aromatic compounds\",\n",
    "]\n",
    "\n",
    "pa14_aa_pathways = [\n",
    "    \"path:pau00362 : Benzoate degradation\",\n",
    "    \"path:pau00350 : Tyrosine metabolism\",\n",
    "    \"path:pau00620 : Pyruvate metabolism\",\n",
    "    \"path:pau01220 : Degradation of aromatic compounds\",\n",
    "]"
   ]
  },
  {
   "cell_type": "code",
   "execution_count": 9,
   "id": "9b423a5d",
   "metadata": {},
   "outputs": [],
   "source": [
    "# Select associated gene sets\n",
    "def get_associated_genes(pathway_db, selected_pathways):\n",
    "    aa_genes = set()\n",
    "    for gene_set in pathway_db.loc[selected_pathways, \"gene_ids\"]:\n",
    "        gene_set_processed = set(json.loads(gene_set.replace(\"'\", '\"')))\n",
    "        aa_genes = aa_genes.union(gene_set_processed)\n",
    "\n",
    "    return list(aa_genes)"
   ]
  },
  {
   "cell_type": "code",
   "execution_count": 10,
   "id": "b2045d5a",
   "metadata": {},
   "outputs": [
    {
     "name": "stdout",
     "output_type": "stream",
     "text": [
      "['PA0447', 'PA3452', 'PA2531', 'PA4847', 'PA1587', 'PA3896', 'PA4329', 'PA4470', 'PA4848', 'PA5436', 'PA5192', 'PA2007', 'PA4123', 'PA0480', 'PA0232', 'PA1821', 'PA3524', 'PA0954', 'PA2382', 'PA0927', 'PA4127', 'PA0247', 'PA4829', 'PA4733', 'PA4771', 'PA0482', 'PA0230', 'PA1748', 'PA3687', 'PA2553', 'PA2266', 'PA1628', 'PA4092', 'PA4486', 'PA2940', 'PA3589', 'PA1017', 'PA2470', 'PA1736', 'PA0231', 'PA4152', 'PA0836', 'PA1966', 'PA0494', 'PA3165', 'PA1498', 'PA2001', 'PA1629', 'PA2108', 'PA3139', 'PA4640', 'PA1982', 'PA4772', 'PA1217', 'PA4122', 'PA1737', 'PA0265', 'PA3629', 'PA3454', 'PA0153', 'PA0870', 'PA4022', 'PA2517', 'PA4128', 'PA5435', 'PA5016', 'PA0832', 'PA4333', 'PA0421', 'PA4872', 'PA1813', 'PA2009', 'PA4124', 'PA3426', 'PA1027', 'PA3792', 'PA3013', 'PA2508', 'PA1770', 'PA2555', 'PA5046', 'PA0854', 'PA4899', 'PA2473', 'PA0710', 'PA2507', 'PA4447', 'PA0493', 'PA1984', 'PA1135', 'PA4785', 'PA5427', 'PA0865', 'PA2509', 'PA5015', 'PA3925', 'PA3112', 'PA0228', 'PA4091', 'PA0242', 'PA2250', 'PA3014', 'PA4978', 'PA2471', 'PA5445', 'PA2515', 'PA2518', 'PA4073', 'PA4125', 'PA3471', 'PA3590', 'PA3226', 'PA5111', 'PA0154', 'PA0968', 'PA2516', 'PA4121', 'PA0835', 'PA0887', 'PA2275', 'PA2008', 'PA3639', 'PA5297'] 123\n"
     ]
    }
   ],
   "source": [
    "pao1_aa_genes = get_associated_genes(pao1_pathways, pao1_aa_pathways)\n",
    "print(pao1_aa_genes, len(pao1_aa_genes))"
   ]
  },
  {
   "cell_type": "code",
   "execution_count": 11,
   "id": "b30ab040",
   "metadata": {},
   "outputs": [
    {
     "name": "stdout",
     "output_type": "stream",
     "text": [
      "['PA14_32690', 'PA14_19470', 'PA14_53510', 'PA14_63250', 'PA14_56300', 'PA14_11190', 'PA14_62630', 'PA14_02790', 'PA14_38530', 'PA14_31820', 'PA14_53470', 'PA14_38630', 'PA14_58220', 'PA14_64740', 'PA14_41080', 'PA14_35150', 'PA14_17400', 'PA14_02840', 'PA14_37340', 'PA14_66680', 'PA14_55130', 'PA14_32100', 'PA14_15030', 'PA14_63850', 'PA14_38860', 'PA14_57770', 'PA14_05480', 'PA14_32230', 'PA14_45050', 'PA14_10620', 'PA14_31530', 'PA14_06450', 'PA14_11000', 'PA14_61400', 'PA14_05840', 'PA14_25080', 'PA14_03050', 'PA14_63090', 'PA14_51170', 'PA14_71740', 'PA14_13090', 'PA14_64110', 'PA14_10640', 'PA14_01910', 'PA14_69925', 'PA14_26010', 'PA14_52800', 'PA14_02850', 'PA14_53220', 'PA14_32240', 'PA14_43460', 'PA14_10630', 'PA14_32110', 'PA14_17860', 'PA14_41950', 'PA14_10570', 'PA14_41670', 'PA14_10650', 'PA14_19430', 'PA14_53070', 'PA14_10240', 'PA14_66290', 'PA14_40980', 'PA14_58030', 'PA14_71720', 'PA14_19190', 'PA14_17270', 'PA14_32670', 'PA14_66310', 'PA14_25090', 'PA14_10590', 'PA14_42090', 'PA14_51920', 'PA14_64100', 'PA14_06430', 'PA14_56240', 'PA14_23500', 'PA14_71890', 'PA14_38840', 'PA14_63100', 'PA14_49710', 'PA14_67500', 'PA14_71630', 'PA14_51050', 'PA14_42080', 'PA14_32080', 'PA14_10610', 'PA14_06270', 'PA14_68580', 'PA14_32220', 'PA14_32130', 'PA14_13500', 'PA14_31500', 'PA14_64440', 'PA14_18750', 'PA14_38510', 'PA14_23860', 'PA14_43970', 'PA14_01900', 'PA14_35490', 'PA14_52270', 'PA14_16690', 'PA14_53480', 'PA14_43440', 'PA14_03430', 'PA14_23290', 'PA14_22460', 'PA14_19740', 'PA14_11810', 'PA14_06290', 'PA14_38550', 'PA14_32650', 'PA14_51770', 'PA14_02830', 'PA14_10990', 'PA14_35270', 'PA14_33860', 'PA14_65810', 'PA14_53010', 'PA14_39100', 'PA14_03000'] 121\n"
     ]
    }
   ],
   "source": [
    "pa14_aa_genes = get_associated_genes(pa14_pathways, pa14_aa_pathways)\n",
    "print(pa14_aa_genes, len(pa14_aa_genes))"
   ]
  },
  {
   "cell_type": "markdown",
   "id": "a9902f09",
   "metadata": {},
   "source": [
    "## Get expression activity of aromatic amino acid genes"
   ]
  },
  {
   "cell_type": "code",
   "execution_count": 12,
   "id": "6b04f390",
   "metadata": {},
   "outputs": [
    {
     "data": {
      "text/html": [
       "<div>\n",
       "<style scoped>\n",
       "    .dataframe tbody tr th:only-of-type {\n",
       "        vertical-align: middle;\n",
       "    }\n",
       "\n",
       "    .dataframe tbody tr th {\n",
       "        vertical-align: top;\n",
       "    }\n",
       "\n",
       "    .dataframe thead th {\n",
       "        text-align: right;\n",
       "    }\n",
       "</style>\n",
       "<table border=\"1\" class=\"dataframe\">\n",
       "  <thead>\n",
       "    <tr style=\"text-align: right;\">\n",
       "      <th></th>\n",
       "      <th>PA0447</th>\n",
       "      <th>PA3452</th>\n",
       "      <th>PA2531</th>\n",
       "      <th>PA4847</th>\n",
       "      <th>PA1587</th>\n",
       "      <th>PA3896</th>\n",
       "      <th>PA4329</th>\n",
       "      <th>PA4470</th>\n",
       "      <th>PA4848</th>\n",
       "      <th>PA5436</th>\n",
       "      <th>...</th>\n",
       "      <th>PA0154</th>\n",
       "      <th>PA0968</th>\n",
       "      <th>PA2516</th>\n",
       "      <th>PA4121</th>\n",
       "      <th>PA0835</th>\n",
       "      <th>PA0887</th>\n",
       "      <th>PA2275</th>\n",
       "      <th>PA2008</th>\n",
       "      <th>PA3639</th>\n",
       "      <th>PA5297</th>\n",
       "    </tr>\n",
       "  </thead>\n",
       "  <tbody>\n",
       "    <tr>\n",
       "      <th>ERX541571</th>\n",
       "      <td>400.965702</td>\n",
       "      <td>5465.663720</td>\n",
       "      <td>110.265568</td>\n",
       "      <td>508.725234</td>\n",
       "      <td>4380.550290</td>\n",
       "      <td>100.241425</td>\n",
       "      <td>182.940601</td>\n",
       "      <td>80.193140</td>\n",
       "      <td>7290.057662</td>\n",
       "      <td>132.819889</td>\n",
       "      <td>...</td>\n",
       "      <td>32.578463</td>\n",
       "      <td>1170.318642</td>\n",
       "      <td>15.036214</td>\n",
       "      <td>35.084499</td>\n",
       "      <td>631.520980</td>\n",
       "      <td>1566.272272</td>\n",
       "      <td>40.096570</td>\n",
       "      <td>75.181069</td>\n",
       "      <td>1445.982561</td>\n",
       "      <td>275.663920</td>\n",
       "    </tr>\n",
       "    <tr>\n",
       "      <th>ERX541572</th>\n",
       "      <td>283.378761</td>\n",
       "      <td>4613.347501</td>\n",
       "      <td>127.740685</td>\n",
       "      <td>462.509377</td>\n",
       "      <td>4299.134781</td>\n",
       "      <td>152.701509</td>\n",
       "      <td>189.408602</td>\n",
       "      <td>64.604484</td>\n",
       "      <td>7266.536213</td>\n",
       "      <td>124.804118</td>\n",
       "      <td>...</td>\n",
       "      <td>24.960824</td>\n",
       "      <td>1723.765107</td>\n",
       "      <td>22.024256</td>\n",
       "      <td>4.404851</td>\n",
       "      <td>569.694090</td>\n",
       "      <td>2447.628989</td>\n",
       "      <td>38.175377</td>\n",
       "      <td>88.097024</td>\n",
       "      <td>1741.384512</td>\n",
       "      <td>161.511211</td>\n",
       "    </tr>\n",
       "    <tr>\n",
       "      <th>ERX541573</th>\n",
       "      <td>116.985057</td>\n",
       "      <td>765.003403</td>\n",
       "      <td>139.330517</td>\n",
       "      <td>804.436569</td>\n",
       "      <td>2571.042366</td>\n",
       "      <td>136.701639</td>\n",
       "      <td>202.423581</td>\n",
       "      <td>115.670618</td>\n",
       "      <td>6787.762157</td>\n",
       "      <td>260.258890</td>\n",
       "      <td>...</td>\n",
       "      <td>42.062043</td>\n",
       "      <td>1892.791926</td>\n",
       "      <td>10.515511</td>\n",
       "      <td>6.572194</td>\n",
       "      <td>640.131714</td>\n",
       "      <td>7180.779370</td>\n",
       "      <td>32.860971</td>\n",
       "      <td>223.454602</td>\n",
       "      <td>1422.222822</td>\n",
       "      <td>165.619294</td>\n",
       "    </tr>\n",
       "    <tr>\n",
       "      <th>ERX541574</th>\n",
       "      <td>123.771727</td>\n",
       "      <td>621.238862</td>\n",
       "      <td>164.235561</td>\n",
       "      <td>664.082921</td>\n",
       "      <td>2784.863863</td>\n",
       "      <td>149.954208</td>\n",
       "      <td>245.163229</td>\n",
       "      <td>83.307893</td>\n",
       "      <td>8073.724976</td>\n",
       "      <td>266.585259</td>\n",
       "      <td>...</td>\n",
       "      <td>52.364962</td>\n",
       "      <td>1930.362900</td>\n",
       "      <td>4.760451</td>\n",
       "      <td>7.140677</td>\n",
       "      <td>428.440594</td>\n",
       "      <td>4039.242714</td>\n",
       "      <td>28.562706</td>\n",
       "      <td>233.262101</td>\n",
       "      <td>963.991337</td>\n",
       "      <td>164.235561</td>\n",
       "    </tr>\n",
       "    <tr>\n",
       "      <th>ERX541575</th>\n",
       "      <td>94.852347</td>\n",
       "      <td>1017.686640</td>\n",
       "      <td>124.493705</td>\n",
       "      <td>853.671123</td>\n",
       "      <td>2414.782668</td>\n",
       "      <td>154.135064</td>\n",
       "      <td>231.202596</td>\n",
       "      <td>94.852347</td>\n",
       "      <td>5102.265833</td>\n",
       "      <td>306.294037</td>\n",
       "      <td>...</td>\n",
       "      <td>49.402264</td>\n",
       "      <td>2406.878306</td>\n",
       "      <td>23.713087</td>\n",
       "      <td>1.976091</td>\n",
       "      <td>353.720211</td>\n",
       "      <td>4637.884551</td>\n",
       "      <td>19.760906</td>\n",
       "      <td>124.493705</td>\n",
       "      <td>1505.781009</td>\n",
       "      <td>169.943788</td>\n",
       "    </tr>\n",
       "  </tbody>\n",
       "</table>\n",
       "<p>5 rows × 123 columns</p>\n",
       "</div>"
      ],
      "text/plain": [
       "               PA0447       PA3452      PA2531      PA4847       PA1587  \\\n",
       "ERX541571  400.965702  5465.663720  110.265568  508.725234  4380.550290   \n",
       "ERX541572  283.378761  4613.347501  127.740685  462.509377  4299.134781   \n",
       "ERX541573  116.985057   765.003403  139.330517  804.436569  2571.042366   \n",
       "ERX541574  123.771727   621.238862  164.235561  664.082921  2784.863863   \n",
       "ERX541575   94.852347  1017.686640  124.493705  853.671123  2414.782668   \n",
       "\n",
       "               PA3896      PA4329      PA4470       PA4848      PA5436  ...  \\\n",
       "ERX541571  100.241425  182.940601   80.193140  7290.057662  132.819889  ...   \n",
       "ERX541572  152.701509  189.408602   64.604484  7266.536213  124.804118  ...   \n",
       "ERX541573  136.701639  202.423581  115.670618  6787.762157  260.258890  ...   \n",
       "ERX541574  149.954208  245.163229   83.307893  8073.724976  266.585259  ...   \n",
       "ERX541575  154.135064  231.202596   94.852347  5102.265833  306.294037  ...   \n",
       "\n",
       "              PA0154       PA0968     PA2516     PA4121      PA0835  \\\n",
       "ERX541571  32.578463  1170.318642  15.036214  35.084499  631.520980   \n",
       "ERX541572  24.960824  1723.765107  22.024256   4.404851  569.694090   \n",
       "ERX541573  42.062043  1892.791926  10.515511   6.572194  640.131714   \n",
       "ERX541574  52.364962  1930.362900   4.760451   7.140677  428.440594   \n",
       "ERX541575  49.402264  2406.878306  23.713087   1.976091  353.720211   \n",
       "\n",
       "                PA0887     PA2275      PA2008       PA3639      PA5297  \n",
       "ERX541571  1566.272272  40.096570   75.181069  1445.982561  275.663920  \n",
       "ERX541572  2447.628989  38.175377   88.097024  1741.384512  161.511211  \n",
       "ERX541573  7180.779370  32.860971  223.454602  1422.222822  165.619294  \n",
       "ERX541574  4039.242714  28.562706  233.262101   963.991337  164.235561  \n",
       "ERX541575  4637.884551  19.760906  124.493705  1505.781009  169.943788  \n",
       "\n",
       "[5 rows x 123 columns]"
      ]
     },
     "execution_count": 12,
     "metadata": {},
     "output_type": "execute_result"
    }
   ],
   "source": [
    "# Select rna-seq genes that are related to AA pathways\n",
    "rnaseq_pao1_aa_expression = rnaseq_pao1_compendium[pao1_aa_genes]\n",
    "rnaseq_pa14_aa_expression = rnaseq_pa14_compendium[pa14_aa_genes]\n",
    "\n",
    "rnaseq_pao1_aa_expression.head()"
   ]
  },
  {
   "cell_type": "code",
   "execution_count": 13,
   "id": "baa99575",
   "metadata": {},
   "outputs": [
    {
     "data": {
      "text/html": [
       "<div>\n",
       "<style scoped>\n",
       "    .dataframe tbody tr th:only-of-type {\n",
       "        vertical-align: middle;\n",
       "    }\n",
       "\n",
       "    .dataframe tbody tr th {\n",
       "        vertical-align: top;\n",
       "    }\n",
       "\n",
       "    .dataframe thead th {\n",
       "        text-align: right;\n",
       "    }\n",
       "</style>\n",
       "<table border=\"1\" class=\"dataframe\">\n",
       "  <thead>\n",
       "    <tr style=\"text-align: right;\">\n",
       "      <th></th>\n",
       "      <th>PA3452</th>\n",
       "      <th>PA2531</th>\n",
       "      <th>PA1587</th>\n",
       "      <th>PA4329</th>\n",
       "      <th>PA4470</th>\n",
       "      <th>PA4848</th>\n",
       "      <th>PA3524</th>\n",
       "      <th>PA0954</th>\n",
       "      <th>PA0927</th>\n",
       "      <th>PA0247</th>\n",
       "      <th>...</th>\n",
       "      <th>PA3590</th>\n",
       "      <th>PA3226</th>\n",
       "      <th>PA0154</th>\n",
       "      <th>PA0968</th>\n",
       "      <th>PA4121</th>\n",
       "      <th>PA2516</th>\n",
       "      <th>PA0835</th>\n",
       "      <th>PA3639</th>\n",
       "      <th>PA0887</th>\n",
       "      <th>PA2509</th>\n",
       "    </tr>\n",
       "  </thead>\n",
       "  <tbody>\n",
       "    <tr>\n",
       "      <th>GSM92174.CEL</th>\n",
       "      <td>6.702584</td>\n",
       "      <td>6.619592</td>\n",
       "      <td>10.139970</td>\n",
       "      <td>10.071413</td>\n",
       "      <td>9.641198</td>\n",
       "      <td>9.251546</td>\n",
       "      <td>8.247743</td>\n",
       "      <td>6.683608</td>\n",
       "      <td>7.686544</td>\n",
       "      <td>6.042704</td>\n",
       "      <td>...</td>\n",
       "      <td>6.508075</td>\n",
       "      <td>7.435273</td>\n",
       "      <td>9.888153</td>\n",
       "      <td>8.354572</td>\n",
       "      <td>5.868986</td>\n",
       "      <td>5.798473</td>\n",
       "      <td>8.876875</td>\n",
       "      <td>7.746923</td>\n",
       "      <td>12.712979</td>\n",
       "      <td>5.702281</td>\n",
       "    </tr>\n",
       "    <tr>\n",
       "      <th>GSM629178.CEL</th>\n",
       "      <td>9.563090</td>\n",
       "      <td>6.384079</td>\n",
       "      <td>10.878184</td>\n",
       "      <td>10.321643</td>\n",
       "      <td>6.250481</td>\n",
       "      <td>10.536418</td>\n",
       "      <td>9.936431</td>\n",
       "      <td>6.214632</td>\n",
       "      <td>7.161619</td>\n",
       "      <td>5.793044</td>\n",
       "      <td>...</td>\n",
       "      <td>6.174423</td>\n",
       "      <td>6.951654</td>\n",
       "      <td>7.250878</td>\n",
       "      <td>9.553712</td>\n",
       "      <td>6.187437</td>\n",
       "      <td>5.911328</td>\n",
       "      <td>8.883359</td>\n",
       "      <td>9.028361</td>\n",
       "      <td>11.173653</td>\n",
       "      <td>5.488186</td>\n",
       "    </tr>\n",
       "    <tr>\n",
       "      <th>MBU_JGOLD_pakA1.CEL</th>\n",
       "      <td>7.242215</td>\n",
       "      <td>6.898976</td>\n",
       "      <td>9.470220</td>\n",
       "      <td>8.820462</td>\n",
       "      <td>10.433906</td>\n",
       "      <td>8.144151</td>\n",
       "      <td>8.620363</td>\n",
       "      <td>6.510976</td>\n",
       "      <td>6.736870</td>\n",
       "      <td>5.860376</td>\n",
       "      <td>...</td>\n",
       "      <td>6.501579</td>\n",
       "      <td>8.641465</td>\n",
       "      <td>7.725667</td>\n",
       "      <td>8.596650</td>\n",
       "      <td>5.813497</td>\n",
       "      <td>6.386882</td>\n",
       "      <td>7.683518</td>\n",
       "      <td>7.686158</td>\n",
       "      <td>11.355140</td>\n",
       "      <td>5.876882</td>\n",
       "    </tr>\n",
       "    <tr>\n",
       "      <th>GSM838206_OXYR-LB-1_Pae_G1a.CEL</th>\n",
       "      <td>6.161731</td>\n",
       "      <td>6.401400</td>\n",
       "      <td>9.815225</td>\n",
       "      <td>9.611355</td>\n",
       "      <td>6.349506</td>\n",
       "      <td>8.868361</td>\n",
       "      <td>9.210089</td>\n",
       "      <td>7.880940</td>\n",
       "      <td>7.203974</td>\n",
       "      <td>6.139236</td>\n",
       "      <td>...</td>\n",
       "      <td>6.347774</td>\n",
       "      <td>6.875030</td>\n",
       "      <td>8.021694</td>\n",
       "      <td>8.053113</td>\n",
       "      <td>5.979658</td>\n",
       "      <td>5.829577</td>\n",
       "      <td>8.676601</td>\n",
       "      <td>8.647822</td>\n",
       "      <td>12.609323</td>\n",
       "      <td>6.881116</td>\n",
       "    </tr>\n",
       "    <tr>\n",
       "      <th>GSM267248.CEL</th>\n",
       "      <td>7.632249</td>\n",
       "      <td>7.075901</td>\n",
       "      <td>9.887665</td>\n",
       "      <td>10.029942</td>\n",
       "      <td>6.070739</td>\n",
       "      <td>9.938050</td>\n",
       "      <td>9.473968</td>\n",
       "      <td>5.738971</td>\n",
       "      <td>6.968943</td>\n",
       "      <td>6.123059</td>\n",
       "      <td>...</td>\n",
       "      <td>6.778437</td>\n",
       "      <td>6.672580</td>\n",
       "      <td>7.775345</td>\n",
       "      <td>8.937982</td>\n",
       "      <td>6.445793</td>\n",
       "      <td>5.679869</td>\n",
       "      <td>9.091717</td>\n",
       "      <td>8.322194</td>\n",
       "      <td>7.252386</td>\n",
       "      <td>6.615613</td>\n",
       "    </tr>\n",
       "  </tbody>\n",
       "</table>\n",
       "<p>5 rows × 122 columns</p>\n",
       "</div>"
      ],
      "text/plain": [
       "                                   PA3452    PA2531     PA1587     PA4329  \\\n",
       "GSM92174.CEL                     6.702584  6.619592  10.139970  10.071413   \n",
       "GSM629178.CEL                    9.563090  6.384079  10.878184  10.321643   \n",
       "MBU_JGOLD_pakA1.CEL              7.242215  6.898976   9.470220   8.820462   \n",
       "GSM838206_OXYR-LB-1_Pae_G1a.CEL  6.161731  6.401400   9.815225   9.611355   \n",
       "GSM267248.CEL                    7.632249  7.075901   9.887665  10.029942   \n",
       "\n",
       "                                    PA4470     PA4848    PA3524    PA0954  \\\n",
       "GSM92174.CEL                      9.641198   9.251546  8.247743  6.683608   \n",
       "GSM629178.CEL                     6.250481  10.536418  9.936431  6.214632   \n",
       "MBU_JGOLD_pakA1.CEL              10.433906   8.144151  8.620363  6.510976   \n",
       "GSM838206_OXYR-LB-1_Pae_G1a.CEL   6.349506   8.868361  9.210089  7.880940   \n",
       "GSM267248.CEL                     6.070739   9.938050  9.473968  5.738971   \n",
       "\n",
       "                                   PA0927    PA0247  ...    PA3590    PA3226  \\\n",
       "GSM92174.CEL                     7.686544  6.042704  ...  6.508075  7.435273   \n",
       "GSM629178.CEL                    7.161619  5.793044  ...  6.174423  6.951654   \n",
       "MBU_JGOLD_pakA1.CEL              6.736870  5.860376  ...  6.501579  8.641465   \n",
       "GSM838206_OXYR-LB-1_Pae_G1a.CEL  7.203974  6.139236  ...  6.347774  6.875030   \n",
       "GSM267248.CEL                    6.968943  6.123059  ...  6.778437  6.672580   \n",
       "\n",
       "                                   PA0154    PA0968    PA4121    PA2516  \\\n",
       "GSM92174.CEL                     9.888153  8.354572  5.868986  5.798473   \n",
       "GSM629178.CEL                    7.250878  9.553712  6.187437  5.911328   \n",
       "MBU_JGOLD_pakA1.CEL              7.725667  8.596650  5.813497  6.386882   \n",
       "GSM838206_OXYR-LB-1_Pae_G1a.CEL  8.021694  8.053113  5.979658  5.829577   \n",
       "GSM267248.CEL                    7.775345  8.937982  6.445793  5.679869   \n",
       "\n",
       "                                   PA0835    PA3639     PA0887    PA2509  \n",
       "GSM92174.CEL                     8.876875  7.746923  12.712979  5.702281  \n",
       "GSM629178.CEL                    8.883359  9.028361  11.173653  5.488186  \n",
       "MBU_JGOLD_pakA1.CEL              7.683518  7.686158  11.355140  5.876882  \n",
       "GSM838206_OXYR-LB-1_Pae_G1a.CEL  8.676601  8.647822  12.609323  6.881116  \n",
       "GSM267248.CEL                    9.091717  8.322194   7.252386  6.615613  \n",
       "\n",
       "[5 rows x 122 columns]"
      ]
     },
     "execution_count": 13,
     "metadata": {},
     "output_type": "execute_result"
    }
   ],
   "source": [
    "# Select array genes that are related to AA pathways\n",
    "shared_pao1_aa_genes = set(pao1_aa_genes).intersection(array_pao1_compendium.columns)\n",
    "array_pao1_aa_expression = array_pao1_compendium[shared_pao1_aa_genes]\n",
    "array_pa14_aa_expression = array_pa14_compendium[shared_pao1_aa_genes]\n",
    "\n",
    "array_pao1_aa_expression.head()"
   ]
  },
  {
   "cell_type": "code",
   "execution_count": 14,
   "id": "286107e8",
   "metadata": {},
   "outputs": [],
   "source": [
    "# Calculate median across samples\n",
    "rnaseq_pao1_aa_expression_median = rnaseq_pao1_aa_expression.median()\n",
    "rnaseq_pa14_aa_expression_median = rnaseq_pa14_aa_expression.median()\n",
    "\n",
    "array_pao1_aa_expression_median = array_pao1_aa_expression.median()\n",
    "array_pa14_aa_expression_median = array_pa14_aa_expression.median()"
   ]
  },
  {
   "cell_type": "code",
   "execution_count": 15,
   "id": "929de58a",
   "metadata": {},
   "outputs": [
    {
     "data": {
      "text/plain": [
       "38.512788560844484"
      ]
     },
     "execution_count": 15,
     "metadata": {},
     "output_type": "execute_result"
    }
   ],
   "source": [
    "# Calculate difference in median of medians\n",
    "diff_rnaseq = abs(\n",
    "    rnaseq_pao1_aa_expression_median.median()\n",
    "    - rnaseq_pa14_aa_expression_median.median()\n",
    ")\n",
    "diff_rnaseq"
   ]
  },
  {
   "cell_type": "code",
   "execution_count": 16,
   "id": "055d142c",
   "metadata": {},
   "outputs": [
    {
     "data": {
      "text/plain": [
       "0.037075178674999876"
      ]
     },
     "execution_count": 16,
     "metadata": {},
     "output_type": "execute_result"
    }
   ],
   "source": [
    "diff_array = abs(\n",
    "    array_pao1_aa_expression_median.median() - array_pa14_aa_expression_median.median()\n",
    ")\n",
    "diff_array"
   ]
  },
  {
   "cell_type": "markdown",
   "id": "ef6a8653",
   "metadata": {},
   "source": [
    "## Plot"
   ]
  },
  {
   "cell_type": "code",
   "execution_count": 17,
   "id": "e3661d0b",
   "metadata": {},
   "outputs": [
    {
     "name": "stderr",
     "output_type": "stream",
     "text": [
      "/home/alexandra/anaconda3/envs/core_acc/lib/python3.7/site-packages/matplotlib/__init__.py:886: MatplotlibDeprecationWarning: \n",
      "examples.directory is deprecated; in the future, examples will be found relative to the 'datapath' directory.\n",
      "  \"found relative to the 'datapath' directory.\".format(key))\n"
     ]
    },
    {
     "data": {
      "text/plain": [
       "Text(0.5, 0, 'Median expression')"
      ]
     },
     "execution_count": 17,
     "metadata": {},
     "output_type": "execute_result"
    },
    {
     "data": {
      "image/png": "[encoded data removed]",
      "text/plain": [
       "<Figure size 432x288 with 1 Axes>"
      ]
     },
     "metadata": {
      "needs_background": "light"
     },
     "output_type": "display_data"
    }
   ],
   "source": [
    "# Plot box plot of rna-seq and array\n",
    "rnaseq_pao1_aa_expression_median.plot(kind=\"density\", label=\"PAO1\", legend=True)\n",
    "rnaseq_pa14_aa_expression_median.plot(kind=\"density\", label=\"PA14\", legend=True)\n",
    "plt.title(\"Median expression of AA genes using RNA-seq\")\n",
    "plt.xlabel(\"Median expression\")"
   ]
  },
  {
   "cell_type": "code",
   "execution_count": 18,
   "id": "e66aa30b",
   "metadata": {},
   "outputs": [
    {
     "data": {
      "text/plain": [
       "Text(0.5, 0, 'Median expression')"
      ]
     },
     "execution_count": 18,
     "metadata": {},
     "output_type": "execute_result"
    },
    {
     "data": {
      "image/png": "[encoded data removed]",
      "text/plain": [
       "<Figure size 432x288 with 1 Axes>"
      ]
     },
     "metadata": {
      "needs_background": "light"
     },
     "output_type": "display_data"
    }
   ],
   "source": [
    "array_pao1_aa_expression_median.plot(kind=\"density\", label=\"PAO1\", legend=True)\n",
    "array_pa14_aa_expression_median.plot(kind=\"density\", label=\"PA14\", legend=True)\n",
    "plt.title(\"Median expression of AA genes using array\")\n",
    "plt.xlabel(\"Median expression\")"
   ]
  }
 ],
 "metadata": {
  "jupytext": {
   "formats": "ipynb,py"
  },
  "kernelspec": {
   "display_name": "Python [conda env:core_acc] *",
   "language": "python",
   "name": "conda-env-core_acc-py"
  },
  "language_info": {
   "codemirror_mode": {
    "name": "ipython",
    "version": 3
   },
   "file_extension": ".py",
   "mimetype": "text/x-python",
   "name": "python",
   "nbconvert_exporter": "python",
   "pygments_lexer": "ipython3",
   "version": "3.7.10"
  }
 },
 "nbformat": 4,
 "nbformat_minor": 5
}
