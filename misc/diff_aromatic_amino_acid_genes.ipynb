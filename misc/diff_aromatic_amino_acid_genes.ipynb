{
 "cells": [
  {
   "cell_type": "markdown",
   "id": "8b172f36",
   "metadata": {},
   "source": [
    "# Explore differences in aromatic amino acid genes\n",
    "\n",
    "This notebook compares the expression activity of genes related to the aromatic amino acid pathway between PAO1 and PA14 strains using both RNA-seq and array compendia. The goal is to determine if the differences in expression activity between PAO1 vs PA14 are consistent using both RNA-seq and array compendia."
   ]
  },
  {
   "cell_type": "code",
   "execution_count": 1,
   "id": "e21d679a",
   "metadata": {},
   "outputs": [],
   "source": [
    "%load_ext autoreload\n",
    "%autoreload 2\n",
    "%matplotlib inline\n",
    "import os\n",
    "import json\n",
    "import pandas as pd\n",
    "from scripts import paths"
   ]
  },
  {
   "cell_type": "markdown",
   "id": "3a8cde1d",
   "metadata": {},
   "source": [
    "## Load expression compendia"
   ]
  },
  {
   "cell_type": "code",
   "execution_count": 2,
   "id": "0d2511b8",
   "metadata": {},
   "outputs": [],
   "source": [
    "# RNA-seq compendia files\n",
    "rnaseq_pao1_compendium_filename = paths.PAO1_COMPENDIUM\n",
    "rnaseq_pa14_compendium_filename = paths.PA14_COMPENDIUM\n",
    "\n",
    "# Array compendia files\n",
    "array_pao1_compendium_filename = paths.PAO1_COMPENDIUM_ARRAY\n",
    "array_pa14_compendium_filename = paths.PA14_COMPENDIUM_ARRAY"
   ]
  },
  {
   "cell_type": "code",
   "execution_count": 3,
   "id": "bede8349",
   "metadata": {},
   "outputs": [],
   "source": [
    "# Load expression data\n",
    "rnaseq_pao1_compendium = pd.read_csv(\n",
    "    rnaseq_pao1_compendium_filename, sep=\"\\t\", index_col=0, header=0\n",
    ")\n",
    "rnaseq_pa14_compendium = pd.read_csv(\n",
    "    rnaseq_pa14_compendium_filename, sep=\"\\t\", index_col=0, header=0\n",
    ")\n",
    "\n",
    "array_pao1_compendium = pd.read_csv(\n",
    "    array_pao1_compendium_filename, sep=\"\\t\", index_col=0, header=0\n",
    ")\n",
    "array_pa14_compendium = pd.read_csv(\n",
    "    array_pa14_compendium_filename, sep=\"\\t\", index_col=0, header=0\n",
    ")"
   ]
  },
  {
   "cell_type": "markdown",
   "id": "530cc08a",
   "metadata": {},
   "source": [
    "## Load KEGG pathways"
   ]
  },
  {
   "cell_type": "code",
   "execution_count": 4,
   "id": "2be44607",
   "metadata": {},
   "outputs": [],
   "source": [
    "# Load KEGG pathway data\n",
    "pao1_pathway_filename = \"../3_core_core_analysis/pao1_kegg_annot.tsv\"\n",
    "pa14_pathway_filename = \"../3_core_core_analysis/pa14_kegg_annot.tsv\""
   ]
  },
  {
   "cell_type": "code",
   "execution_count": 5,
   "id": "7079b79c",
   "metadata": {},
   "outputs": [],
   "source": [
    "pao1_pathways = pd.read_csv(pao1_pathway_filename, sep=\"\\t\", header=0, index_col=0)\n",
    "pa14_pathways = pd.read_csv(pa14_pathway_filename, sep=\"\\t\", header=0, index_col=0)"
   ]
  },
  {
   "cell_type": "code",
   "execution_count": 6,
   "id": "d8767262",
   "metadata": {},
   "outputs": [
    {
     "name": "stdout",
     "output_type": "stream",
     "text": [
      "(123, 3)\n"
     ]
    },
    {
     "data": {
      "text/html": [
       "<div>\n",
       "<style scoped>\n",
       "    .dataframe tbody tr th:only-of-type {\n",
       "        vertical-align: middle;\n",
       "    }\n",
       "\n",
       "    .dataframe tbody tr th {\n",
       "        vertical-align: top;\n",
       "    }\n",
       "\n",
       "    .dataframe thead th {\n",
       "        text-align: right;\n",
       "    }\n",
       "</style>\n",
       "<table border=\"1\" class=\"dataframe\">\n",
       "  <thead>\n",
       "    <tr style=\"text-align: right;\">\n",
       "      <th></th>\n",
       "      <th>pathway_name</th>\n",
       "      <th>num_genes</th>\n",
       "      <th>gene_ids</th>\n",
       "    </tr>\n",
       "    <tr>\n",
       "      <th>pathway_id_name</th>\n",
       "      <th></th>\n",
       "      <th></th>\n",
       "      <th></th>\n",
       "    </tr>\n",
       "  </thead>\n",
       "  <tbody>\n",
       "    <tr>\n",
       "      <th>path:pae00010 : Glycolysis / Gluconeogenesis</th>\n",
       "      <td>Glycolysis / Gluconeogenesis</td>\n",
       "      <td>37</td>\n",
       "      <td>['PA3193', 'PA4732', 'PA5110', 'PA0555', 'PA47...</td>\n",
       "    </tr>\n",
       "    <tr>\n",
       "      <th>path:pae00020 : Citrate cycle (TCA cycle)</th>\n",
       "      <td>Citrate cycle (TCA cycle)</td>\n",
       "      <td>28</td>\n",
       "      <td>['PA1580', 'PA1562', 'PA1787', 'PA2623', 'PA26...</td>\n",
       "    </tr>\n",
       "    <tr>\n",
       "      <th>path:pae00030 : Pentose phosphate pathway</th>\n",
       "      <td>Pentose phosphate pathway</td>\n",
       "      <td>28</td>\n",
       "      <td>['PA4732', 'PA5439', 'PA3183', 'PA3182', 'PA42...</td>\n",
       "    </tr>\n",
       "    <tr>\n",
       "      <th>path:pae00040 : Pentose and glucuronate interconversions</th>\n",
       "      <td>Pentose and glucuronate interconversions</td>\n",
       "      <td>8</td>\n",
       "      <td>['PA2022', 'PA3559', 'PA2023', 'PA0607', 'PA23...</td>\n",
       "    </tr>\n",
       "    <tr>\n",
       "      <th>path:pae00051 : Fructose and mannose metabolism</th>\n",
       "      <td>Fructose and mannose metabolism</td>\n",
       "      <td>19</td>\n",
       "      <td>['PA2344', 'PA3551', 'PA2232', 'PA5452', 'PA53...</td>\n",
       "    </tr>\n",
       "  </tbody>\n",
       "</table>\n",
       "</div>"
      ],
      "text/plain": [
       "                                                                                pathway_name  \\\n",
       "pathway_id_name                                                                                \n",
       "path:pae00010 : Glycolysis / Gluconeogenesis                    Glycolysis / Gluconeogenesis   \n",
       "path:pae00020 : Citrate cycle (TCA cycle)                          Citrate cycle (TCA cycle)   \n",
       "path:pae00030 : Pentose phosphate pathway                          Pentose phosphate pathway   \n",
       "path:pae00040 : Pentose and glucuronate interco...  Pentose and glucuronate interconversions   \n",
       "path:pae00051 : Fructose and mannose metabolism              Fructose and mannose metabolism   \n",
       "\n",
       "                                                    num_genes  \\\n",
       "pathway_id_name                                                 \n",
       "path:pae00010 : Glycolysis / Gluconeogenesis               37   \n",
       "path:pae00020 : Citrate cycle (TCA cycle)                  28   \n",
       "path:pae00030 : Pentose phosphate pathway                  28   \n",
       "path:pae00040 : Pentose and glucuronate interco...          8   \n",
       "path:pae00051 : Fructose and mannose metabolism            19   \n",
       "\n",
       "                                                                                             gene_ids  \n",
       "pathway_id_name                                                                                        \n",
       "path:pae00010 : Glycolysis / Gluconeogenesis        ['PA3193', 'PA4732', 'PA5110', 'PA0555', 'PA47...  \n",
       "path:pae00020 : Citrate cycle (TCA cycle)           ['PA1580', 'PA1562', 'PA1787', 'PA2623', 'PA26...  \n",
       "path:pae00030 : Pentose phosphate pathway           ['PA4732', 'PA5439', 'PA3183', 'PA3182', 'PA42...  \n",
       "path:pae00040 : Pentose and glucuronate interco...  ['PA2022', 'PA3559', 'PA2023', 'PA0607', 'PA23...  \n",
       "path:pae00051 : Fructose and mannose metabolism     ['PA2344', 'PA3551', 'PA2232', 'PA5452', 'PA53...  "
      ]
     },
     "execution_count": 6,
     "metadata": {},
     "output_type": "execute_result"
    }
   ],
   "source": [
    "print(pao1_pathways.shape)\n",
    "pao1_pathways.head()"
   ]
  },
  {
   "cell_type": "code",
   "execution_count": 7,
   "id": "165c716f",
   "metadata": {},
   "outputs": [
    {
     "name": "stdout",
     "output_type": "stream",
     "text": [
      "(123, 3)\n"
     ]
    },
    {
     "data": {
      "text/html": [
       "<div>\n",
       "<style scoped>\n",
       "    .dataframe tbody tr th:only-of-type {\n",
       "        vertical-align: middle;\n",
       "    }\n",
       "\n",
       "    .dataframe tbody tr th {\n",
       "        vertical-align: top;\n",
       "    }\n",
       "\n",
       "    .dataframe thead th {\n",
       "        text-align: right;\n",
       "    }\n",
       "</style>\n",
       "<table border=\"1\" class=\"dataframe\">\n",
       "  <thead>\n",
       "    <tr style=\"text-align: right;\">\n",
       "      <th></th>\n",
       "      <th>pathway_name</th>\n",
       "      <th>num_genes</th>\n",
       "      <th>gene_ids</th>\n",
       "    </tr>\n",
       "    <tr>\n",
       "      <th>pathway_id_name</th>\n",
       "      <th></th>\n",
       "      <th></th>\n",
       "      <th></th>\n",
       "    </tr>\n",
       "  </thead>\n",
       "  <tbody>\n",
       "    <tr>\n",
       "      <th>path:pau00010 : Glycolysis / Gluconeogenesis</th>\n",
       "      <td>Glycolysis / Gluconeogenesis</td>\n",
       "      <td>37</td>\n",
       "      <td>['PA14_22930', 'PA14_62620', 'PA14_67490', 'PA...</td>\n",
       "    </tr>\n",
       "    <tr>\n",
       "      <th>path:pau00020 : Citrate cycle (TCA cycle)</th>\n",
       "      <td>Citrate cycle (TCA cycle)</td>\n",
       "      <td>28</td>\n",
       "      <td>['PA14_44070', 'PA14_44290', 'PA14_41470', 'PA...</td>\n",
       "    </tr>\n",
       "    <tr>\n",
       "      <th>path:pau00030 : Pentose phosphate pathway</th>\n",
       "      <td>Pentose phosphate pathway</td>\n",
       "      <td>28</td>\n",
       "      <td>['PA14_62620', 'PA14_71800', 'PA14_23070', 'PA...</td>\n",
       "    </tr>\n",
       "    <tr>\n",
       "      <th>path:pau00040 : Pentose and glucuronate interconversions</th>\n",
       "      <td>Pentose and glucuronate interconversions</td>\n",
       "      <td>8</td>\n",
       "      <td>['PA14_38360', 'PA14_18300', 'PA14_38350', 'PA...</td>\n",
       "    </tr>\n",
       "    <tr>\n",
       "      <th>path:pau00051 : Fructose and mannose metabolism</th>\n",
       "      <td>Fructose and mannose metabolism</td>\n",
       "      <td>18</td>\n",
       "      <td>['PA14_34340', 'PA14_18380', 'PA14_71970', 'PA...</td>\n",
       "    </tr>\n",
       "  </tbody>\n",
       "</table>\n",
       "</div>"
      ],
      "text/plain": [
       "                                                                                pathway_name  \\\n",
       "pathway_id_name                                                                                \n",
       "path:pau00010 : Glycolysis / Gluconeogenesis                    Glycolysis / Gluconeogenesis   \n",
       "path:pau00020 : Citrate cycle (TCA cycle)                          Citrate cycle (TCA cycle)   \n",
       "path:pau00030 : Pentose phosphate pathway                          Pentose phosphate pathway   \n",
       "path:pau00040 : Pentose and glucuronate interco...  Pentose and glucuronate interconversions   \n",
       "path:pau00051 : Fructose and mannose metabolism              Fructose and mannose metabolism   \n",
       "\n",
       "                                                    num_genes  \\\n",
       "pathway_id_name                                                 \n",
       "path:pau00010 : Glycolysis / Gluconeogenesis               37   \n",
       "path:pau00020 : Citrate cycle (TCA cycle)                  28   \n",
       "path:pau00030 : Pentose phosphate pathway                  28   \n",
       "path:pau00040 : Pentose and glucuronate interco...          8   \n",
       "path:pau00051 : Fructose and mannose metabolism            18   \n",
       "\n",
       "                                                                                             gene_ids  \n",
       "pathway_id_name                                                                                        \n",
       "path:pau00010 : Glycolysis / Gluconeogenesis        ['PA14_22930', 'PA14_62620', 'PA14_67490', 'PA...  \n",
       "path:pau00020 : Citrate cycle (TCA cycle)           ['PA14_44070', 'PA14_44290', 'PA14_41470', 'PA...  \n",
       "path:pau00030 : Pentose phosphate pathway           ['PA14_62620', 'PA14_71800', 'PA14_23070', 'PA...  \n",
       "path:pau00040 : Pentose and glucuronate interco...  ['PA14_38360', 'PA14_18300', 'PA14_38350', 'PA...  \n",
       "path:pau00051 : Fructose and mannose metabolism     ['PA14_34340', 'PA14_18380', 'PA14_71970', 'PA...  "
      ]
     },
     "execution_count": 7,
     "metadata": {},
     "output_type": "execute_result"
    }
   ],
   "source": [
    "print(pa14_pathways.shape)\n",
    "pa14_pathways.head()"
   ]
  },
  {
   "cell_type": "markdown",
   "id": "b90e4524",
   "metadata": {},
   "source": [
    "## Get aromatic amino acid genes"
   ]
  },
  {
   "cell_type": "code",
   "execution_count": 8,
   "id": "7c2fea32",
   "metadata": {},
   "outputs": [],
   "source": [
    "# Aromatic amino acid pathways\n",
    "# Are there others to include?\n",
    "# https://docs.google.com/spreadsheets/d/1pDehBGTyCN0hTrlvbBNymeI640Sl68XlUBwBU8aPZTA/edit#gid=2100140648\n",
    "pao1_aa_pathways = [\n",
    "    \"path:pae00362 : Benzoate degradation\",\n",
    "    \"path:pae00350 : Tyrosine metabolism\",\n",
    "    \"path:pae00620 : Pyruvate metabolism\",\n",
    "    \"path:pae01220 : Degradation of aromatic compounds\",\n",
    "]\n",
    "\n",
    "pa14_aa_pathways = [\n",
    "    \"path:pau00362 : Benzoate degradation\",\n",
    "    \"path:pau00350 : Tyrosine metabolism\",\n",
    "    \"path:pau00620 : Pyruvate metabolism\",\n",
    "    \"path:pau01220 : Degradation of aromatic compounds\",\n",
    "]"
   ]
  },
  {
   "cell_type": "code",
   "execution_count": 9,
   "id": "9b423a5d",
   "metadata": {},
   "outputs": [],
   "source": [
    "# Select associated gene sets\n",
    "def get_associated_genes(pathway_db, selected_pathways):\n",
    "    aa_genes = set()\n",
    "    for gene_set in pathway_db.loc[selected_pathways, \"gene_ids\"]:\n",
    "        gene_set_processed = set(json.loads(gene_set.replace(\"'\", '\"')))\n",
    "        aa_genes = aa_genes.union(gene_set_processed)\n",
    "\n",
    "    return list(aa_genes)"
   ]
  },
  {
   "cell_type": "code",
   "execution_count": 10,
   "id": "b2045d5a",
   "metadata": {},
   "outputs": [
    {
     "name": "stdout",
     "output_type": "stream",
     "text": [
      "['PA3226', 'PA1017', 'PA2250', 'PA4829', 'PA1984', 'PA3590', 'PA0854', 'PA2266', 'PA1027', 'PA1813', 'PA4124', 'PA4486', 'PA0228', 'PA3524', 'PA3014', 'PA2517', 'PA0482', 'PA1587', 'PA4092', 'PA4470', 'PA0836', 'PA5192', 'PA4733', 'PA5111', 'PA0231', 'PA4128', 'PA0421', 'PA0887', 'PA1736', 'PA3471', 'PA4899', 'PA4022', 'PA3426', 'PA4152', 'PA0480', 'PA1982', 'PA5015', 'PA4848', 'PA2518', 'PA5046', 'PA3639', 'PA4073', 'PA1135', 'PA3687', 'PA2275', 'PA4333', 'PA0870', 'PA3896', 'PA4123', 'PA2516', 'PA3454', 'PA4121', 'PA2555', 'PA4447', 'PA4771', 'PA4772', 'PA4091', 'PA0832', 'PA2508', 'PA2108', 'PA1737', 'PA3013', 'PA0927', 'PA1770', 'PA2470', 'PA5427', 'PA0493', 'PA1629', 'PA0954', 'PA5297', 'PA0968', 'PA1748', 'PA1821', 'PA4872', 'PA2008', 'PA0153', 'PA5445', 'PA5436', 'PA2509', 'PA0242', 'PA0865', 'PA3629', 'PA3452', 'PA0230', 'PA3112', 'PA2515', 'PA0232', 'PA2001', 'PA2507', 'PA0247', 'PA2471', 'PA1628', 'PA0835', 'PA3925', 'PA0265', 'PA2940', 'PA4329', 'PA4847', 'PA2531', 'PA0710', 'PA1966', 'PA2382', 'PA2473', 'PA4122', 'PA4978', 'PA2553', 'PA1498', 'PA4640', 'PA0447', 'PA0494', 'PA3589', 'PA4785', 'PA4125', 'PA2009', 'PA2007', 'PA3139', 'PA3165', 'PA0154', 'PA5435', 'PA5016', 'PA4127', 'PA1217', 'PA3792'] 123\n"
     ]
    }
   ],
   "source": [
    "pao1_aa_genes = get_associated_genes(pao1_pathways, pao1_aa_pathways)\n",
    "print(pao1_aa_genes, len(pao1_aa_genes))"
   ]
  },
  {
   "cell_type": "code",
   "execution_count": 11,
   "id": "b30ab040",
   "metadata": {},
   "outputs": [
    {
     "name": "stdout",
     "output_type": "stream",
     "text": [
      "['PA14_19190', 'PA14_40980', 'PA14_68580', 'PA14_32130', 'PA14_26010', 'PA14_02840', 'PA14_15030', 'PA14_63250', 'PA14_43970', 'PA14_38860', 'PA14_64440', 'PA14_06290', 'PA14_25080', 'PA14_41670', 'PA14_31530', 'PA14_10590', 'PA14_71630', 'PA14_66310', 'PA14_38840', 'PA14_10990', 'PA14_35270', 'PA14_38550', 'PA14_53010', 'PA14_01900', 'PA14_42090', 'PA14_41080', 'PA14_17270', 'PA14_11000', 'PA14_06430', 'PA14_17400', 'PA14_19470', 'PA14_58030', 'PA14_32650', 'PA14_16690', 'PA14_63100', 'PA14_32110', 'PA14_62630', 'PA14_06450', 'PA14_11190', 'PA14_53220', 'PA14_02850', 'PA14_10640', 'PA14_35490', 'PA14_52800', 'PA14_01910', 'PA14_66680', 'PA14_56300', 'PA14_55130', 'PA14_32230', 'PA14_64740', 'PA14_03000', 'PA14_64110', 'PA14_10610', 'PA14_51050', 'PA14_13500', 'PA14_10240', 'PA14_11810', 'PA14_63090', 'PA14_57770', 'PA14_51920', 'PA14_63850', 'PA14_71720', 'PA14_33860', 'PA14_23500', 'PA14_02830', 'PA14_19740', 'PA14_31500', 'PA14_17860', 'PA14_25090', 'PA14_53510', 'PA14_05840', 'PA14_69925', 'PA14_51770', 'PA14_19430', 'PA14_43440', 'PA14_10620', 'PA14_32690', 'PA14_49710', 'PA14_22460', 'PA14_32080', 'PA14_71740', 'PA14_53480', 'PA14_67500', 'PA14_10570', 'PA14_53470', 'PA14_61400', 'PA14_13090', 'PA14_37340', 'PA14_43460', 'PA14_65810', 'PA14_52270', 'PA14_51170', 'PA14_10650', 'PA14_38630', 'PA14_53070', 'PA14_10630', 'PA14_39100', 'PA14_38510', 'PA14_35150', 'PA14_66290', 'PA14_18750', 'PA14_56240', 'PA14_38530', 'PA14_23290', 'PA14_32240', 'PA14_02790', 'PA14_58220', 'PA14_05480', 'PA14_41950', 'PA14_64100', 'PA14_32220', 'PA14_32100', 'PA14_03430', 'PA14_45050', 'PA14_03050', 'PA14_42080', 'PA14_31820', 'PA14_71890', 'PA14_06270', 'PA14_32670', 'PA14_23860'] 121\n"
     ]
    }
   ],
   "source": [
    "pa14_aa_genes = get_associated_genes(pa14_pathways, pa14_aa_pathways)\n",
    "print(pa14_aa_genes, len(pa14_aa_genes))"
   ]
  },
  {
   "cell_type": "markdown",
   "id": "a9902f09",
   "metadata": {},
   "source": [
    "## Get expression activity of aromatic amino acid genes"
   ]
  },
  {
   "cell_type": "code",
   "execution_count": 12,
   "id": "6b04f390",
   "metadata": {},
   "outputs": [
    {
     "data": {
      "text/html": [
       "<div>\n",
       "<style scoped>\n",
       "    .dataframe tbody tr th:only-of-type {\n",
       "        vertical-align: middle;\n",
       "    }\n",
       "\n",
       "    .dataframe tbody tr th {\n",
       "        vertical-align: top;\n",
       "    }\n",
       "\n",
       "    .dataframe thead th {\n",
       "        text-align: right;\n",
       "    }\n",
       "</style>\n",
       "<table border=\"1\" class=\"dataframe\">\n",
       "  <thead>\n",
       "    <tr style=\"text-align: right;\">\n",
       "      <th></th>\n",
       "      <th>PA3226</th>\n",
       "      <th>PA1017</th>\n",
       "      <th>PA2250</th>\n",
       "      <th>PA4829</th>\n",
       "      <th>PA1984</th>\n",
       "      <th>PA3590</th>\n",
       "      <th>PA0854</th>\n",
       "      <th>PA2266</th>\n",
       "      <th>PA1027</th>\n",
       "      <th>PA1813</th>\n",
       "      <th>...</th>\n",
       "      <th>PA2009</th>\n",
       "      <th>PA2007</th>\n",
       "      <th>PA3139</th>\n",
       "      <th>PA3165</th>\n",
       "      <th>PA0154</th>\n",
       "      <th>PA5435</th>\n",
       "      <th>PA5016</th>\n",
       "      <th>PA4127</th>\n",
       "      <th>PA1217</th>\n",
       "      <th>PA3792</th>\n",
       "    </tr>\n",
       "  </thead>\n",
       "  <tbody>\n",
       "    <tr>\n",
       "      <th>ERX541571</th>\n",
       "      <td>380.917417</td>\n",
       "      <td>55.132784</td>\n",
       "      <td>1413.404098</td>\n",
       "      <td>330.796704</td>\n",
       "      <td>5.012071</td>\n",
       "      <td>60.144855</td>\n",
       "      <td>395.953630</td>\n",
       "      <td>330.796704</td>\n",
       "      <td>32.578463</td>\n",
       "      <td>70.168998</td>\n",
       "      <td>...</td>\n",
       "      <td>370.893274</td>\n",
       "      <td>200.482851</td>\n",
       "      <td>1528.681737</td>\n",
       "      <td>448.580379</td>\n",
       "      <td>32.578463</td>\n",
       "      <td>731.762405</td>\n",
       "      <td>436.050200</td>\n",
       "      <td>17.542249</td>\n",
       "      <td>60.144855</td>\n",
       "      <td>320.772561</td>\n",
       "    </tr>\n",
       "    <tr>\n",
       "      <th>ERX541572</th>\n",
       "      <td>303.934734</td>\n",
       "      <td>48.453363</td>\n",
       "      <td>1339.074768</td>\n",
       "      <td>295.125031</td>\n",
       "      <td>7.341419</td>\n",
       "      <td>58.731349</td>\n",
       "      <td>480.128782</td>\n",
       "      <td>167.384346</td>\n",
       "      <td>22.024256</td>\n",
       "      <td>70.477619</td>\n",
       "      <td>...</td>\n",
       "      <td>509.494457</td>\n",
       "      <td>283.378761</td>\n",
       "      <td>1521.141951</td>\n",
       "      <td>418.460865</td>\n",
       "      <td>24.960824</td>\n",
       "      <td>477.192214</td>\n",
       "      <td>450.763107</td>\n",
       "      <td>27.897391</td>\n",
       "      <td>92.501875</td>\n",
       "      <td>233.457114</td>\n",
       "    </tr>\n",
       "    <tr>\n",
       "      <th>ERX541573</th>\n",
       "      <td>140.644956</td>\n",
       "      <td>92.010719</td>\n",
       "      <td>1895.420804</td>\n",
       "      <td>119.613934</td>\n",
       "      <td>6.572194</td>\n",
       "      <td>73.608575</td>\n",
       "      <td>625.672887</td>\n",
       "      <td>107.783985</td>\n",
       "      <td>23.659899</td>\n",
       "      <td>70.979697</td>\n",
       "      <td>...</td>\n",
       "      <td>778.147792</td>\n",
       "      <td>383.816141</td>\n",
       "      <td>1436.681649</td>\n",
       "      <td>449.538082</td>\n",
       "      <td>42.062043</td>\n",
       "      <td>1100.185307</td>\n",
       "      <td>563.894261</td>\n",
       "      <td>39.433165</td>\n",
       "      <td>106.469546</td>\n",
       "      <td>423.249306</td>\n",
       "    </tr>\n",
       "    <tr>\n",
       "      <th>ERX541574</th>\n",
       "      <td>216.600523</td>\n",
       "      <td>85.688119</td>\n",
       "      <td>1742.325083</td>\n",
       "      <td>140.433306</td>\n",
       "      <td>38.083608</td>\n",
       "      <td>88.068344</td>\n",
       "      <td>625.999313</td>\n",
       "      <td>92.828795</td>\n",
       "      <td>40.463834</td>\n",
       "      <td>95.209021</td>\n",
       "      <td>...</td>\n",
       "      <td>864.021865</td>\n",
       "      <td>354.653603</td>\n",
       "      <td>1125.846673</td>\n",
       "      <td>366.554731</td>\n",
       "      <td>52.364962</td>\n",
       "      <td>1190.112762</td>\n",
       "      <td>771.193070</td>\n",
       "      <td>30.942932</td>\n",
       "      <td>102.349698</td>\n",
       "      <td>421.299918</td>\n",
       "    </tr>\n",
       "    <tr>\n",
       "      <th>ERX541575</th>\n",
       "      <td>132.398068</td>\n",
       "      <td>55.330536</td>\n",
       "      <td>946.547380</td>\n",
       "      <td>94.852347</td>\n",
       "      <td>9.880453</td>\n",
       "      <td>53.354445</td>\n",
       "      <td>543.424905</td>\n",
       "      <td>138.326339</td>\n",
       "      <td>25.689177</td>\n",
       "      <td>86.947985</td>\n",
       "      <td>...</td>\n",
       "      <td>482.166097</td>\n",
       "      <td>306.294037</td>\n",
       "      <td>1019.662730</td>\n",
       "      <td>373.481116</td>\n",
       "      <td>49.402264</td>\n",
       "      <td>944.571289</td>\n",
       "      <td>628.396799</td>\n",
       "      <td>25.689177</td>\n",
       "      <td>116.589343</td>\n",
       "      <td>383.361569</td>\n",
       "    </tr>\n",
       "  </tbody>\n",
       "</table>\n",
       "<p>5 rows × 123 columns</p>\n",
       "</div>"
      ],
      "text/plain": [
       "               PA3226     PA1017       PA2250      PA4829     PA1984  \\\n",
       "ERX541571  380.917417  55.132784  1413.404098  330.796704   5.012071   \n",
       "ERX541572  303.934734  48.453363  1339.074768  295.125031   7.341419   \n",
       "ERX541573  140.644956  92.010719  1895.420804  119.613934   6.572194   \n",
       "ERX541574  216.600523  85.688119  1742.325083  140.433306  38.083608   \n",
       "ERX541575  132.398068  55.330536   946.547380   94.852347   9.880453   \n",
       "\n",
       "              PA3590      PA0854      PA2266     PA1027     PA1813  ...  \\\n",
       "ERX541571  60.144855  395.953630  330.796704  32.578463  70.168998  ...   \n",
       "ERX541572  58.731349  480.128782  167.384346  22.024256  70.477619  ...   \n",
       "ERX541573  73.608575  625.672887  107.783985  23.659899  70.979697  ...   \n",
       "ERX541574  88.068344  625.999313   92.828795  40.463834  95.209021  ...   \n",
       "ERX541575  53.354445  543.424905  138.326339  25.689177  86.947985  ...   \n",
       "\n",
       "               PA2009      PA2007       PA3139      PA3165     PA0154  \\\n",
       "ERX541571  370.893274  200.482851  1528.681737  448.580379  32.578463   \n",
       "ERX541572  509.494457  283.378761  1521.141951  418.460865  24.960824   \n",
       "ERX541573  778.147792  383.816141  1436.681649  449.538082  42.062043   \n",
       "ERX541574  864.021865  354.653603  1125.846673  366.554731  52.364962   \n",
       "ERX541575  482.166097  306.294037  1019.662730  373.481116  49.402264   \n",
       "\n",
       "                PA5435      PA5016     PA4127      PA1217      PA3792  \n",
       "ERX541571   731.762405  436.050200  17.542249   60.144855  320.772561  \n",
       "ERX541572   477.192214  450.763107  27.897391   92.501875  233.457114  \n",
       "ERX541573  1100.185307  563.894261  39.433165  106.469546  423.249306  \n",
       "ERX541574  1190.112762  771.193070  30.942932  102.349698  421.299918  \n",
       "ERX541575   944.571289  628.396799  25.689177  116.589343  383.361569  \n",
       "\n",
       "[5 rows x 123 columns]"
      ]
     },
     "execution_count": 12,
     "metadata": {},
     "output_type": "execute_result"
    }
   ],
   "source": [
    "# Select rna-seq genes that are related to AA pathways\n",
    "rnaseq_pao1_aa_expression = rnaseq_pao1_compendium[pao1_aa_genes]\n",
    "rnaseq_pa14_aa_expression = rnaseq_pa14_compendium[pa14_aa_genes]\n",
    "\n",
    "rnaseq_pao1_aa_expression.head()"
   ]
  },
  {
   "cell_type": "code",
   "execution_count": 14,
   "id": "baa99575",
   "metadata": {},
   "outputs": [
    {
     "data": {
      "text/html": [
       "<div>\n",
       "<style scoped>\n",
       "    .dataframe tbody tr th:only-of-type {\n",
       "        vertical-align: middle;\n",
       "    }\n",
       "\n",
       "    .dataframe tbody tr th {\n",
       "        vertical-align: top;\n",
       "    }\n",
       "\n",
       "    .dataframe thead th {\n",
       "        text-align: right;\n",
       "    }\n",
       "</style>\n",
       "<table border=\"1\" class=\"dataframe\">\n",
       "  <thead>\n",
       "    <tr style=\"text-align: right;\">\n",
       "      <th></th>\n",
       "      <th>PA3226</th>\n",
       "      <th>PA1984</th>\n",
       "      <th>PA0854</th>\n",
       "      <th>PA2266</th>\n",
       "      <th>PA1027</th>\n",
       "      <th>PA4124</th>\n",
       "      <th>PA0228</th>\n",
       "      <th>PA2517</th>\n",
       "      <th>PA0836</th>\n",
       "      <th>PA5192</th>\n",
       "      <th>...</th>\n",
       "      <th>PA2382</th>\n",
       "      <th>PA4640</th>\n",
       "      <th>PA4122</th>\n",
       "      <th>PA1498</th>\n",
       "      <th>PA0447</th>\n",
       "      <th>PA4125</th>\n",
       "      <th>PA2009</th>\n",
       "      <th>PA2007</th>\n",
       "      <th>PA4127</th>\n",
       "      <th>PA1217</th>\n",
       "    </tr>\n",
       "  </thead>\n",
       "  <tbody>\n",
       "    <tr>\n",
       "      <th>GSM92174.CEL</th>\n",
       "      <td>7.435273</td>\n",
       "      <td>11.264071</td>\n",
       "      <td>9.441087</td>\n",
       "      <td>6.095651</td>\n",
       "      <td>7.527532</td>\n",
       "      <td>6.357438</td>\n",
       "      <td>5.993891</td>\n",
       "      <td>5.855233</td>\n",
       "      <td>9.184667</td>\n",
       "      <td>9.459215</td>\n",
       "      <td>...</td>\n",
       "      <td>6.640453</td>\n",
       "      <td>9.530207</td>\n",
       "      <td>6.724334</td>\n",
       "      <td>5.897372</td>\n",
       "      <td>10.190707</td>\n",
       "      <td>5.850938</td>\n",
       "      <td>11.609192</td>\n",
       "      <td>11.097755</td>\n",
       "      <td>5.820213</td>\n",
       "      <td>7.575525</td>\n",
       "    </tr>\n",
       "    <tr>\n",
       "      <th>GSM629178.CEL</th>\n",
       "      <td>6.951654</td>\n",
       "      <td>9.291225</td>\n",
       "      <td>8.124462</td>\n",
       "      <td>7.595058</td>\n",
       "      <td>6.517399</td>\n",
       "      <td>5.719590</td>\n",
       "      <td>5.970415</td>\n",
       "      <td>6.308576</td>\n",
       "      <td>10.047936</td>\n",
       "      <td>11.122368</td>\n",
       "      <td>...</td>\n",
       "      <td>6.571567</td>\n",
       "      <td>9.752692</td>\n",
       "      <td>6.759864</td>\n",
       "      <td>5.957895</td>\n",
       "      <td>7.888101</td>\n",
       "      <td>5.899503</td>\n",
       "      <td>8.592038</td>\n",
       "      <td>7.525897</td>\n",
       "      <td>5.616565</td>\n",
       "      <td>5.974559</td>\n",
       "    </tr>\n",
       "    <tr>\n",
       "      <th>MBU_JGOLD_pakA1.CEL</th>\n",
       "      <td>8.641465</td>\n",
       "      <td>8.683847</td>\n",
       "      <td>8.982144</td>\n",
       "      <td>8.988543</td>\n",
       "      <td>7.223027</td>\n",
       "      <td>5.743715</td>\n",
       "      <td>5.730533</td>\n",
       "      <td>6.085422</td>\n",
       "      <td>8.955857</td>\n",
       "      <td>7.925593</td>\n",
       "      <td>...</td>\n",
       "      <td>6.101220</td>\n",
       "      <td>7.992762</td>\n",
       "      <td>7.118185</td>\n",
       "      <td>6.698049</td>\n",
       "      <td>7.767961</td>\n",
       "      <td>5.721639</td>\n",
       "      <td>7.095766</td>\n",
       "      <td>7.356634</td>\n",
       "      <td>5.764248</td>\n",
       "      <td>8.233182</td>\n",
       "    </tr>\n",
       "    <tr>\n",
       "      <th>GSM838206_OXYR-LB-1_Pae_G1a.CEL</th>\n",
       "      <td>6.875030</td>\n",
       "      <td>8.757921</td>\n",
       "      <td>8.412259</td>\n",
       "      <td>6.612961</td>\n",
       "      <td>7.297092</td>\n",
       "      <td>5.809898</td>\n",
       "      <td>6.263723</td>\n",
       "      <td>5.891293</td>\n",
       "      <td>9.261823</td>\n",
       "      <td>9.450347</td>\n",
       "      <td>...</td>\n",
       "      <td>6.068757</td>\n",
       "      <td>9.112787</td>\n",
       "      <td>6.831301</td>\n",
       "      <td>5.836923</td>\n",
       "      <td>10.670299</td>\n",
       "      <td>5.779466</td>\n",
       "      <td>10.597141</td>\n",
       "      <td>9.634626</td>\n",
       "      <td>6.144811</td>\n",
       "      <td>7.346786</td>\n",
       "    </tr>\n",
       "    <tr>\n",
       "      <th>GSM267248.CEL</th>\n",
       "      <td>6.672580</td>\n",
       "      <td>8.305613</td>\n",
       "      <td>7.487909</td>\n",
       "      <td>6.987447</td>\n",
       "      <td>6.962826</td>\n",
       "      <td>6.220918</td>\n",
       "      <td>6.486583</td>\n",
       "      <td>6.687925</td>\n",
       "      <td>10.386336</td>\n",
       "      <td>10.256900</td>\n",
       "      <td>...</td>\n",
       "      <td>6.626859</td>\n",
       "      <td>7.339937</td>\n",
       "      <td>7.585963</td>\n",
       "      <td>6.451791</td>\n",
       "      <td>7.820443</td>\n",
       "      <td>6.473380</td>\n",
       "      <td>6.780304</td>\n",
       "      <td>6.289794</td>\n",
       "      <td>5.866177</td>\n",
       "      <td>6.151821</td>\n",
       "    </tr>\n",
       "  </tbody>\n",
       "</table>\n",
       "<p>5 rows × 122 columns</p>\n",
       "</div>"
      ],
      "text/plain": [
       "                                   PA3226     PA1984    PA0854    PA2266  \\\n",
       "GSM92174.CEL                     7.435273  11.264071  9.441087  6.095651   \n",
       "GSM629178.CEL                    6.951654   9.291225  8.124462  7.595058   \n",
       "MBU_JGOLD_pakA1.CEL              8.641465   8.683847  8.982144  8.988543   \n",
       "GSM838206_OXYR-LB-1_Pae_G1a.CEL  6.875030   8.757921  8.412259  6.612961   \n",
       "GSM267248.CEL                    6.672580   8.305613  7.487909  6.987447   \n",
       "\n",
       "                                   PA1027    PA4124    PA0228    PA2517  \\\n",
       "GSM92174.CEL                     7.527532  6.357438  5.993891  5.855233   \n",
       "GSM629178.CEL                    6.517399  5.719590  5.970415  6.308576   \n",
       "MBU_JGOLD_pakA1.CEL              7.223027  5.743715  5.730533  6.085422   \n",
       "GSM838206_OXYR-LB-1_Pae_G1a.CEL  7.297092  5.809898  6.263723  5.891293   \n",
       "GSM267248.CEL                    6.962826  6.220918  6.486583  6.687925   \n",
       "\n",
       "                                    PA0836     PA5192  ...    PA2382  \\\n",
       "GSM92174.CEL                      9.184667   9.459215  ...  6.640453   \n",
       "GSM629178.CEL                    10.047936  11.122368  ...  6.571567   \n",
       "MBU_JGOLD_pakA1.CEL               8.955857   7.925593  ...  6.101220   \n",
       "GSM838206_OXYR-LB-1_Pae_G1a.CEL   9.261823   9.450347  ...  6.068757   \n",
       "GSM267248.CEL                    10.386336  10.256900  ...  6.626859   \n",
       "\n",
       "                                   PA4640    PA4122    PA1498     PA0447  \\\n",
       "GSM92174.CEL                     9.530207  6.724334  5.897372  10.190707   \n",
       "GSM629178.CEL                    9.752692  6.759864  5.957895   7.888101   \n",
       "MBU_JGOLD_pakA1.CEL              7.992762  7.118185  6.698049   7.767961   \n",
       "GSM838206_OXYR-LB-1_Pae_G1a.CEL  9.112787  6.831301  5.836923  10.670299   \n",
       "GSM267248.CEL                    7.339937  7.585963  6.451791   7.820443   \n",
       "\n",
       "                                   PA4125     PA2009     PA2007    PA4127  \\\n",
       "GSM92174.CEL                     5.850938  11.609192  11.097755  5.820213   \n",
       "GSM629178.CEL                    5.899503   8.592038   7.525897  5.616565   \n",
       "MBU_JGOLD_pakA1.CEL              5.721639   7.095766   7.356634  5.764248   \n",
       "GSM838206_OXYR-LB-1_Pae_G1a.CEL  5.779466  10.597141   9.634626  6.144811   \n",
       "GSM267248.CEL                    6.473380   6.780304   6.289794  5.866177   \n",
       "\n",
       "                                   PA1217  \n",
       "GSM92174.CEL                     7.575525  \n",
       "GSM629178.CEL                    5.974559  \n",
       "MBU_JGOLD_pakA1.CEL              8.233182  \n",
       "GSM838206_OXYR-LB-1_Pae_G1a.CEL  7.346786  \n",
       "GSM267248.CEL                    6.151821  \n",
       "\n",
       "[5 rows x 122 columns]"
      ]
     },
     "execution_count": 14,
     "metadata": {},
     "output_type": "execute_result"
    }
   ],
   "source": [
    "# Select array genes that are related to AA pathways\n",
    "shared_pao1_aa_genes = set(pao1_aa_genes).intersection(array_pao1_compendium.columns)\n",
    "array_pao1_aa_expression = array_pao1_compendium[shared_pao1_aa_genes]\n",
    "array_pa14_aa_expression = array_pa14_compendium[shared_pao1_aa_genes]\n",
    "\n",
    "array_pao1_aa_expression.head()"
   ]
  },
  {
   "cell_type": "code",
   "execution_count": 15,
   "id": "286107e8",
   "metadata": {},
   "outputs": [],
   "source": [
    "# Calculate median across samples\n",
    "rnaseq_pao1_aa_expression_median = rnaseq_pao1_aa_expression.median()\n",
    "rnaseq_pa14_aa_expression_median = rnaseq_pa14_aa_expression.median()\n",
    "\n",
    "array_pao1_aa_expression_median = array_pao1_aa_expression.median()\n",
    "array_pa14_aa_expression_median = array_pa14_aa_expression.median()"
   ]
  },
  {
   "cell_type": "code",
   "execution_count": 18,
   "id": "929de58a",
   "metadata": {},
   "outputs": [
    {
     "data": {
      "text/plain": [
       "38.512788560844484"
      ]
     },
     "execution_count": 18,
     "metadata": {},
     "output_type": "execute_result"
    }
   ],
   "source": [
    "# Calculate difference in median of medians\n",
    "diff_rnaseq = abs(\n",
    "    rnaseq_pao1_aa_expression_median.median()\n",
    "    - rnaseq_pa14_aa_expression_median.median()\n",
    ")\n",
    "diff_rnaseq"
   ]
  },
  {
   "cell_type": "code",
   "execution_count": 19,
   "id": "055d142c",
   "metadata": {},
   "outputs": [
    {
     "data": {
      "text/plain": [
       "0.037075178674999876"
      ]
     },
     "execution_count": 19,
     "metadata": {},
     "output_type": "execute_result"
    }
   ],
   "source": [
    "diff_array = abs(\n",
    "    array_pao1_aa_expression_median.median() - array_pa14_aa_expression_median.median()\n",
    ")\n",
    "diff_array"
   ]
  },
  {
   "cell_type": "markdown",
   "id": "ef6a8653",
   "metadata": {},
   "source": [
    "## Plot"
   ]
  },
  {
   "cell_type": "code",
   "execution_count": 26,
   "id": "e3661d0b",
   "metadata": {},
   "outputs": [
    {
     "data": {
      "text/plain": [
       "<matplotlib.axes._subplots.AxesSubplot at 0x7fed953c9550>"
      ]
     },
     "execution_count": 26,
     "metadata": {},
     "output_type": "execute_result"
    },
    {
     "data": {
      "image/png": "[encoded data removed]",
      "text/plain": [
       "<Figure size 432x288 with 1 Axes>"
      ]
     },
     "metadata": {
      "needs_background": "light"
     },
     "output_type": "display_data"
    }
   ],
   "source": [
    "# Plot box plot of rna-seq and array\n",
    "rnaseq_pao1_aa_expression_median.plot(kind=\"density\")\n",
    "rnaseq_pa14_aa_expression_median.plot(kind=\"density\")"
   ]
  },
  {
   "cell_type": "code",
   "execution_count": 25,
   "id": "e66aa30b",
   "metadata": {},
   "outputs": [
    {
     "name": "stderr",
     "output_type": "stream",
     "text": [
      "/home/alexandra/anaconda3/envs/core_acc/lib/python3.7/site-packages/matplotlib/__init__.py:886: MatplotlibDeprecationWarning: \n",
      "examples.directory is deprecated; in the future, examples will be found relative to the 'datapath' directory.\n",
      "  \"found relative to the 'datapath' directory.\".format(key))\n"
     ]
    },
    {
     "data": {
      "text/plain": [
       "<matplotlib.axes._subplots.AxesSubplot at 0x7fed95456310>"
      ]
     },
     "execution_count": 25,
     "metadata": {},
     "output_type": "execute_result"
    },
    {
     "data": {
      "image/png": "[encoded data removed]",
      "text/plain": [
       "<Figure size 432x288 with 1 Axes>"
      ]
     },
     "metadata": {
      "needs_background": "light"
     },
     "output_type": "display_data"
    }
   ],
   "source": [
    "array_pao1_aa_expression_median.plot(kind=\"density\")\n",
    "array_pa14_aa_expression_median.plot(kind=\"density\")"
   ]
  }
 ],
 "metadata": {
  "jupytext": {
   "formats": "ipynb,py"
  },
  "kernelspec": {
   "display_name": "Python [conda env:core_acc] *",
   "language": "python",
   "name": "conda-env-core_acc-py"
  },
  "language_info": {
   "codemirror_mode": {
    "name": "ipython",
    "version": 3
   },
   "file_extension": ".py",
   "mimetype": "text/x-python",
   "name": "python",
   "nbconvert_exporter": "python",
   "pygments_lexer": "ipython3",
   "version": "3.7.10"
  }
 },
 "nbformat": 4,
 "nbformat_minor": 5
}
