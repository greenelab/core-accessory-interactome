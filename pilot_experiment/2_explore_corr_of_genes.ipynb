{
 "cells": [
  {
   "cell_type": "markdown",
   "metadata": {},
   "source": [
    "# Explore correlation of genes\n",
    "This notebook performs a first pass exploration of the data. In particular, this notebook examines the types of interactions that exist between genes and how coordinated groups of genes are: core-core, core-accessory, accessory-accessory "
   ]
  },
  {
   "cell_type": "code",
   "execution_count": 1,
   "metadata": {},
   "outputs": [
    {
     "name": "stderr",
     "output_type": "stream",
     "text": [
      "/home/alexandra/anaconda3/envs/core-acc/lib/python3.7/site-packages/matplotlib/__init__.py:886: MatplotlibDeprecationWarning: \n",
      "examples.directory is deprecated; in the future, examples will be found relative to the 'datapath' directory.\n",
      "  \"found relative to the 'datapath' directory.\".format(key))\n"
     ]
    }
   ],
   "source": [
    "import pandas as pd\n",
    "import os\n",
    "import numpy as np\n",
    "import seaborn as sns\n",
    "import matplotlib.pyplot as plt\n",
    "import pickle\n",
    "\n",
    "np.random.seed(123)"
   ]
  },
  {
   "cell_type": "code",
   "execution_count": 2,
   "metadata": {},
   "outputs": [],
   "source": [
    "# User - which experiments to use\n",
    "which_experiments = \"All\""
   ]
  },
  {
   "cell_type": "code",
   "execution_count": 3,
   "metadata": {},
   "outputs": [],
   "source": [
    "# Input\n",
    "base_dir = os.path.abspath(os.path.join(os.getcwd(),\"../\"))\n",
    "\n",
    "real_expression_file = os.path.join(\n",
    "    base_dir,\n",
    "    \"pilot_experiment\",\n",
    "    \"data\",\n",
    "    \"input\",\n",
    "    \"selected_\"+which_experiments+\"_data.tsv\")\n",
    "\n",
    "shuffled_expression_file = os.path.join(\n",
    "    base_dir,\n",
    "    \"pilot_experiment\",\n",
    "    \"data\",\n",
    "    \"input\",\n",
    "    \"shuffled_\"+which_experiments+\"_selected_data.tsv\")\n",
    "\n",
    "gene_annot_file = os.path.join(\n",
    "    base_dir,\n",
    "    \"pilot_experiment\",\n",
    "    \"data\",\n",
    "    \"annotations\",\n",
    "    \"selected_gene_annotations.txt\")"
   ]
  },
  {
   "cell_type": "code",
   "execution_count": 4,
   "metadata": {},
   "outputs": [],
   "source": [
    "# Output directory to store gene ids and correlation outputs\n",
    "base_intermediate_dir = os.path.join(\n",
    "    base_dir,\n",
    "    \"pilot_experiment\",\n",
    "    \"data\",\n",
    "    \"tmp\")"
   ]
  },
  {
   "cell_type": "code",
   "execution_count": 5,
   "metadata": {},
   "outputs": [
    {
     "data": {
      "text/html": [
       "<div>\n",
       "<style scoped>\n",
       "    .dataframe tbody tr th:only-of-type {\n",
       "        vertical-align: middle;\n",
       "    }\n",
       "\n",
       "    .dataframe tbody tr th {\n",
       "        vertical-align: top;\n",
       "    }\n",
       "\n",
       "    .dataframe thead th {\n",
       "        text-align: right;\n",
       "    }\n",
       "</style>\n",
       "<table border=\"1\" class=\"dataframe\">\n",
       "  <thead>\n",
       "    <tr style=\"text-align: right;\">\n",
       "      <th></th>\n",
       "      <th>PA0001</th>\n",
       "      <th>PA0002</th>\n",
       "      <th>PA0003</th>\n",
       "      <th>PA0004</th>\n",
       "      <th>PA0005</th>\n",
       "      <th>PA0006</th>\n",
       "      <th>PA0007</th>\n",
       "      <th>PA0008</th>\n",
       "      <th>PA0009</th>\n",
       "      <th>PA0010</th>\n",
       "      <th>...</th>\n",
       "      <th>PA5561</th>\n",
       "      <th>PA5562</th>\n",
       "      <th>PA5563</th>\n",
       "      <th>PA5564</th>\n",
       "      <th>PA5565</th>\n",
       "      <th>PA5566</th>\n",
       "      <th>PA5567</th>\n",
       "      <th>PA5568</th>\n",
       "      <th>PA5569</th>\n",
       "      <th>PA5570</th>\n",
       "    </tr>\n",
       "  </thead>\n",
       "  <tbody>\n",
       "    <tr>\n",
       "      <th>GSM199982.CEL</th>\n",
       "      <td>8.636051</td>\n",
       "      <td>10.064033</td>\n",
       "      <td>8.380518</td>\n",
       "      <td>9.061947</td>\n",
       "      <td>6.795202</td>\n",
       "      <td>6.784250</td>\n",
       "      <td>8.833868</td>\n",
       "      <td>8.107349</td>\n",
       "      <td>8.027142</td>\n",
       "      <td>5.205947</td>\n",
       "      <td>...</td>\n",
       "      <td>6.014054</td>\n",
       "      <td>8.899033</td>\n",
       "      <td>8.744948</td>\n",
       "      <td>8.041866</td>\n",
       "      <td>8.429772</td>\n",
       "      <td>5.831018</td>\n",
       "      <td>7.087497</td>\n",
       "      <td>9.160298</td>\n",
       "      <td>10.233729</td>\n",
       "      <td>8.417952</td>\n",
       "    </tr>\n",
       "    <tr>\n",
       "      <th>GSM199983.CEL</th>\n",
       "      <td>8.491452</td>\n",
       "      <td>10.135200</td>\n",
       "      <td>8.410486</td>\n",
       "      <td>9.159002</td>\n",
       "      <td>6.667518</td>\n",
       "      <td>6.763448</td>\n",
       "      <td>9.027041</td>\n",
       "      <td>8.417649</td>\n",
       "      <td>8.076362</td>\n",
       "      <td>5.140327</td>\n",
       "      <td>...</td>\n",
       "      <td>6.317830</td>\n",
       "      <td>8.527190</td>\n",
       "      <td>8.705585</td>\n",
       "      <td>8.078922</td>\n",
       "      <td>8.301734</td>\n",
       "      <td>5.857462</td>\n",
       "      <td>6.650517</td>\n",
       "      <td>8.992757</td>\n",
       "      <td>10.281689</td>\n",
       "      <td>8.721675</td>\n",
       "    </tr>\n",
       "    <tr>\n",
       "      <th>GSM199984.CEL</th>\n",
       "      <td>8.263999</td>\n",
       "      <td>10.355626</td>\n",
       "      <td>8.398946</td>\n",
       "      <td>9.469057</td>\n",
       "      <td>6.963805</td>\n",
       "      <td>7.263057</td>\n",
       "      <td>8.928576</td>\n",
       "      <td>8.633771</td>\n",
       "      <td>8.045749</td>\n",
       "      <td>5.154168</td>\n",
       "      <td>...</td>\n",
       "      <td>6.132991</td>\n",
       "      <td>8.327817</td>\n",
       "      <td>8.499879</td>\n",
       "      <td>8.236025</td>\n",
       "      <td>8.139740</td>\n",
       "      <td>6.523433</td>\n",
       "      <td>6.925561</td>\n",
       "      <td>9.281547</td>\n",
       "      <td>10.420944</td>\n",
       "      <td>8.622205</td>\n",
       "    </tr>\n",
       "    <tr>\n",
       "      <th>GSM199985.CEL</th>\n",
       "      <td>8.347746</td>\n",
       "      <td>10.304444</td>\n",
       "      <td>8.424055</td>\n",
       "      <td>9.234425</td>\n",
       "      <td>6.836557</td>\n",
       "      <td>7.077712</td>\n",
       "      <td>8.480591</td>\n",
       "      <td>8.669057</td>\n",
       "      <td>7.930413</td>\n",
       "      <td>5.375658</td>\n",
       "      <td>...</td>\n",
       "      <td>6.487283</td>\n",
       "      <td>8.663676</td>\n",
       "      <td>8.679060</td>\n",
       "      <td>8.130365</td>\n",
       "      <td>8.423268</td>\n",
       "      <td>6.111759</td>\n",
       "      <td>7.011567</td>\n",
       "      <td>9.448470</td>\n",
       "      <td>10.538009</td>\n",
       "      <td>8.674091</td>\n",
       "    </tr>\n",
       "    <tr>\n",
       "      <th>GSM199986.CEL</th>\n",
       "      <td>8.403669</td>\n",
       "      <td>10.477428</td>\n",
       "      <td>8.347729</td>\n",
       "      <td>9.199735</td>\n",
       "      <td>6.670236</td>\n",
       "      <td>7.205898</td>\n",
       "      <td>8.197988</td>\n",
       "      <td>8.496536</td>\n",
       "      <td>8.170460</td>\n",
       "      <td>5.307389</td>\n",
       "      <td>...</td>\n",
       "      <td>5.967711</td>\n",
       "      <td>8.590509</td>\n",
       "      <td>8.730627</td>\n",
       "      <td>8.246411</td>\n",
       "      <td>8.196166</td>\n",
       "      <td>6.124699</td>\n",
       "      <td>6.833999</td>\n",
       "      <td>9.145378</td>\n",
       "      <td>10.372600</td>\n",
       "      <td>8.760325</td>\n",
       "    </tr>\n",
       "  </tbody>\n",
       "</table>\n",
       "<p>5 rows × 5549 columns</p>\n",
       "</div>"
      ],
      "text/plain": [
       "                 PA0001     PA0002    PA0003    PA0004    PA0005    PA0006  \\\n",
       "GSM199982.CEL  8.636051  10.064033  8.380518  9.061947  6.795202  6.784250   \n",
       "GSM199983.CEL  8.491452  10.135200  8.410486  9.159002  6.667518  6.763448   \n",
       "GSM199984.CEL  8.263999  10.355626  8.398946  9.469057  6.963805  7.263057   \n",
       "GSM199985.CEL  8.347746  10.304444  8.424055  9.234425  6.836557  7.077712   \n",
       "GSM199986.CEL  8.403669  10.477428  8.347729  9.199735  6.670236  7.205898   \n",
       "\n",
       "                 PA0007    PA0008    PA0009    PA0010  ...    PA5561  \\\n",
       "GSM199982.CEL  8.833868  8.107349  8.027142  5.205947  ...  6.014054   \n",
       "GSM199983.CEL  9.027041  8.417649  8.076362  5.140327  ...  6.317830   \n",
       "GSM199984.CEL  8.928576  8.633771  8.045749  5.154168  ...  6.132991   \n",
       "GSM199985.CEL  8.480591  8.669057  7.930413  5.375658  ...  6.487283   \n",
       "GSM199986.CEL  8.197988  8.496536  8.170460  5.307389  ...  5.967711   \n",
       "\n",
       "                 PA5562    PA5563    PA5564    PA5565    PA5566    PA5567  \\\n",
       "GSM199982.CEL  8.899033  8.744948  8.041866  8.429772  5.831018  7.087497   \n",
       "GSM199983.CEL  8.527190  8.705585  8.078922  8.301734  5.857462  6.650517   \n",
       "GSM199984.CEL  8.327817  8.499879  8.236025  8.139740  6.523433  6.925561   \n",
       "GSM199985.CEL  8.663676  8.679060  8.130365  8.423268  6.111759  7.011567   \n",
       "GSM199986.CEL  8.590509  8.730627  8.246411  8.196166  6.124699  6.833999   \n",
       "\n",
       "                 PA5568     PA5569    PA5570  \n",
       "GSM199982.CEL  9.160298  10.233729  8.417952  \n",
       "GSM199983.CEL  8.992757  10.281689  8.721675  \n",
       "GSM199984.CEL  9.281547  10.420944  8.622205  \n",
       "GSM199985.CEL  9.448470  10.538009  8.674091  \n",
       "GSM199986.CEL  9.145378  10.372600  8.760325  \n",
       "\n",
       "[5 rows x 5549 columns]"
      ]
     },
     "execution_count": 5,
     "metadata": {},
     "output_type": "execute_result"
    }
   ],
   "source": [
    "# Read data\n",
    "real_expression = pd.read_csv(\n",
    "    real_expression_file,\n",
    "    header=0,\n",
    "    sep='\\t',\n",
    "    index_col=0)\n",
    "\n",
    "shuffled_expression = pd.read_csv(\n",
    "    shuffled_expression_file,\n",
    "    header=0,\n",
    "    sep='\\t',\n",
    "    index_col=0)\n",
    "\n",
    "gene_annot = pd.read_csv(\n",
    "    gene_annot_file,\n",
    "    header=0,\n",
    "    sep='\\t',\n",
    "    index_col=0)\n",
    "\n",
    "real_expression.head()"
   ]
  },
  {
   "cell_type": "code",
   "execution_count": 6,
   "metadata": {},
   "outputs": [
    {
     "data": {
      "text/html": [
       "<div>\n",
       "<style scoped>\n",
       "    .dataframe tbody tr th:only-of-type {\n",
       "        vertical-align: middle;\n",
       "    }\n",
       "\n",
       "    .dataframe tbody tr th {\n",
       "        vertical-align: top;\n",
       "    }\n",
       "\n",
       "    .dataframe thead th {\n",
       "        text-align: right;\n",
       "    }\n",
       "</style>\n",
       "<table border=\"1\" class=\"dataframe\">\n",
       "  <thead>\n",
       "    <tr style=\"text-align: right;\">\n",
       "      <th></th>\n",
       "      <th>PA0001</th>\n",
       "      <th>PA0002</th>\n",
       "      <th>PA0003</th>\n",
       "      <th>PA0004</th>\n",
       "      <th>PA0005</th>\n",
       "      <th>PA0006</th>\n",
       "      <th>PA0007</th>\n",
       "      <th>PA0008</th>\n",
       "      <th>PA0009</th>\n",
       "      <th>PA0010</th>\n",
       "      <th>...</th>\n",
       "      <th>PA5561</th>\n",
       "      <th>PA5562</th>\n",
       "      <th>PA5563</th>\n",
       "      <th>PA5564</th>\n",
       "      <th>PA5565</th>\n",
       "      <th>PA5566</th>\n",
       "      <th>PA5567</th>\n",
       "      <th>PA5568</th>\n",
       "      <th>PA5569</th>\n",
       "      <th>PA5570</th>\n",
       "    </tr>\n",
       "  </thead>\n",
       "  <tbody>\n",
       "    <tr>\n",
       "      <th>GSM199982.CEL</th>\n",
       "      <td>10.837881</td>\n",
       "      <td>8.904057</td>\n",
       "      <td>11.172992</td>\n",
       "      <td>10.458792</td>\n",
       "      <td>7.684270</td>\n",
       "      <td>6.114975</td>\n",
       "      <td>6.899252</td>\n",
       "      <td>5.638874</td>\n",
       "      <td>6.145684</td>\n",
       "      <td>7.230005</td>\n",
       "      <td>...</td>\n",
       "      <td>8.292481</td>\n",
       "      <td>10.634235</td>\n",
       "      <td>10.019208</td>\n",
       "      <td>7.531529</td>\n",
       "      <td>6.422509</td>\n",
       "      <td>6.461301</td>\n",
       "      <td>7.415562</td>\n",
       "      <td>8.514831</td>\n",
       "      <td>8.026999</td>\n",
       "      <td>7.567658</td>\n",
       "    </tr>\n",
       "    <tr>\n",
       "      <th>GSM199983.CEL</th>\n",
       "      <td>5.596448</td>\n",
       "      <td>10.385802</td>\n",
       "      <td>6.890892</td>\n",
       "      <td>6.851788</td>\n",
       "      <td>6.950957</td>\n",
       "      <td>5.990967</td>\n",
       "      <td>6.267584</td>\n",
       "      <td>5.824965</td>\n",
       "      <td>7.083234</td>\n",
       "      <td>6.139283</td>\n",
       "      <td>...</td>\n",
       "      <td>7.789983</td>\n",
       "      <td>7.343376</td>\n",
       "      <td>7.999389</td>\n",
       "      <td>11.623925</td>\n",
       "      <td>7.632578</td>\n",
       "      <td>7.279764</td>\n",
       "      <td>7.726634</td>\n",
       "      <td>6.106827</td>\n",
       "      <td>9.363894</td>\n",
       "      <td>9.083947</td>\n",
       "    </tr>\n",
       "    <tr>\n",
       "      <th>GSM199984.CEL</th>\n",
       "      <td>4.904255</td>\n",
       "      <td>6.103126</td>\n",
       "      <td>7.280301</td>\n",
       "      <td>7.879790</td>\n",
       "      <td>7.145437</td>\n",
       "      <td>7.407836</td>\n",
       "      <td>9.947346</td>\n",
       "      <td>5.387494</td>\n",
       "      <td>6.607630</td>\n",
       "      <td>8.412064</td>\n",
       "      <td>...</td>\n",
       "      <td>7.567537</td>\n",
       "      <td>6.451945</td>\n",
       "      <td>6.758640</td>\n",
       "      <td>7.132889</td>\n",
       "      <td>7.538096</td>\n",
       "      <td>8.782252</td>\n",
       "      <td>7.594909</td>\n",
       "      <td>6.869504</td>\n",
       "      <td>5.671040</td>\n",
       "      <td>6.259513</td>\n",
       "    </tr>\n",
       "    <tr>\n",
       "      <th>GSM199985.CEL</th>\n",
       "      <td>6.353337</td>\n",
       "      <td>8.856485</td>\n",
       "      <td>6.692699</td>\n",
       "      <td>5.554002</td>\n",
       "      <td>6.003842</td>\n",
       "      <td>6.891476</td>\n",
       "      <td>7.864947</td>\n",
       "      <td>9.283682</td>\n",
       "      <td>8.022714</td>\n",
       "      <td>7.926165</td>\n",
       "      <td>...</td>\n",
       "      <td>8.184130</td>\n",
       "      <td>6.156754</td>\n",
       "      <td>4.916358</td>\n",
       "      <td>7.571704</td>\n",
       "      <td>7.124978</td>\n",
       "      <td>6.343584</td>\n",
       "      <td>8.375090</td>\n",
       "      <td>7.730910</td>\n",
       "      <td>6.732438</td>\n",
       "      <td>10.890905</td>\n",
       "    </tr>\n",
       "    <tr>\n",
       "      <th>GSM199986.CEL</th>\n",
       "      <td>7.175142</td>\n",
       "      <td>10.105979</td>\n",
       "      <td>8.887840</td>\n",
       "      <td>8.982119</td>\n",
       "      <td>7.530019</td>\n",
       "      <td>10.297373</td>\n",
       "      <td>8.197101</td>\n",
       "      <td>6.892012</td>\n",
       "      <td>7.938998</td>\n",
       "      <td>7.224743</td>\n",
       "      <td>...</td>\n",
       "      <td>9.624392</td>\n",
       "      <td>5.899815</td>\n",
       "      <td>6.673313</td>\n",
       "      <td>7.306681</td>\n",
       "      <td>5.967711</td>\n",
       "      <td>8.617965</td>\n",
       "      <td>8.087511</td>\n",
       "      <td>9.694851</td>\n",
       "      <td>5.018796</td>\n",
       "      <td>8.552922</td>\n",
       "    </tr>\n",
       "  </tbody>\n",
       "</table>\n",
       "<p>5 rows × 5549 columns</p>\n",
       "</div>"
      ],
      "text/plain": [
       "                  PA0001     PA0002     PA0003     PA0004    PA0005  \\\n",
       "GSM199982.CEL  10.837881   8.904057  11.172992  10.458792  7.684270   \n",
       "GSM199983.CEL   5.596448  10.385802   6.890892   6.851788  6.950957   \n",
       "GSM199984.CEL   4.904255   6.103126   7.280301   7.879790  7.145437   \n",
       "GSM199985.CEL   6.353337   8.856485   6.692699   5.554002  6.003842   \n",
       "GSM199986.CEL   7.175142  10.105979   8.887840   8.982119  7.530019   \n",
       "\n",
       "                  PA0006    PA0007    PA0008    PA0009    PA0010  ...  \\\n",
       "GSM199982.CEL   6.114975  6.899252  5.638874  6.145684  7.230005  ...   \n",
       "GSM199983.CEL   5.990967  6.267584  5.824965  7.083234  6.139283  ...   \n",
       "GSM199984.CEL   7.407836  9.947346  5.387494  6.607630  8.412064  ...   \n",
       "GSM199985.CEL   6.891476  7.864947  9.283682  8.022714  7.926165  ...   \n",
       "GSM199986.CEL  10.297373  8.197101  6.892012  7.938998  7.224743  ...   \n",
       "\n",
       "                 PA5561     PA5562     PA5563     PA5564    PA5565    PA5566  \\\n",
       "GSM199982.CEL  8.292481  10.634235  10.019208   7.531529  6.422509  6.461301   \n",
       "GSM199983.CEL  7.789983   7.343376   7.999389  11.623925  7.632578  7.279764   \n",
       "GSM199984.CEL  7.567537   6.451945   6.758640   7.132889  7.538096  8.782252   \n",
       "GSM199985.CEL  8.184130   6.156754   4.916358   7.571704  7.124978  6.343584   \n",
       "GSM199986.CEL  9.624392   5.899815   6.673313   7.306681  5.967711  8.617965   \n",
       "\n",
       "                 PA5567    PA5568    PA5569     PA5570  \n",
       "GSM199982.CEL  7.415562  8.514831  8.026999   7.567658  \n",
       "GSM199983.CEL  7.726634  6.106827  9.363894   9.083947  \n",
       "GSM199984.CEL  7.594909  6.869504  5.671040   6.259513  \n",
       "GSM199985.CEL  8.375090  7.730910  6.732438  10.890905  \n",
       "GSM199986.CEL  8.087511  9.694851  5.018796   8.552922  \n",
       "\n",
       "[5 rows x 5549 columns]"
      ]
     },
     "execution_count": 6,
     "metadata": {},
     "output_type": "execute_result"
    }
   ],
   "source": [
    "shuffled_expression.head()"
   ]
  },
  {
   "cell_type": "code",
   "execution_count": 7,
   "metadata": {},
   "outputs": [
    {
     "data": {
      "text/html": [
       "<div>\n",
       "<style scoped>\n",
       "    .dataframe tbody tr th:only-of-type {\n",
       "        vertical-align: middle;\n",
       "    }\n",
       "\n",
       "    .dataframe tbody tr th {\n",
       "        vertical-align: top;\n",
       "    }\n",
       "\n",
       "    .dataframe thead th {\n",
       "        text-align: right;\n",
       "    }\n",
       "</style>\n",
       "<table border=\"1\" class=\"dataframe\">\n",
       "  <thead>\n",
       "    <tr style=\"text-align: right;\">\n",
       "      <th></th>\n",
       "      <th>annotation</th>\n",
       "    </tr>\n",
       "    <tr>\n",
       "      <th>PAO1_gene_id</th>\n",
       "      <th></th>\n",
       "    </tr>\n",
       "  </thead>\n",
       "  <tbody>\n",
       "    <tr>\n",
       "      <th>PA0001</th>\n",
       "      <td>core</td>\n",
       "    </tr>\n",
       "    <tr>\n",
       "      <th>PA0002</th>\n",
       "      <td>core</td>\n",
       "    </tr>\n",
       "    <tr>\n",
       "      <th>PA0003</th>\n",
       "      <td>core</td>\n",
       "    </tr>\n",
       "    <tr>\n",
       "      <th>PA0004</th>\n",
       "      <td>core</td>\n",
       "    </tr>\n",
       "    <tr>\n",
       "      <th>PA0005</th>\n",
       "      <td>core</td>\n",
       "    </tr>\n",
       "  </tbody>\n",
       "</table>\n",
       "</div>"
      ],
      "text/plain": [
       "             annotation\n",
       "PAO1_gene_id           \n",
       "PA0001             core\n",
       "PA0002             core\n",
       "PA0003             core\n",
       "PA0004             core\n",
       "PA0005             core"
      ]
     },
     "execution_count": 7,
     "metadata": {},
     "output_type": "execute_result"
    }
   ],
   "source": [
    "gene_annot.head()"
   ]
  },
  {
   "cell_type": "code",
   "execution_count": 8,
   "metadata": {},
   "outputs": [],
   "source": [
    "# Group genes by core and accessory annotation\n",
    "core_gene_ids = list(gene_annot[gene_annot['annotation'] == 'core'].index)\n",
    "acc_gene_ids = list(gene_annot[gene_annot['annotation'] == 'accessory'].index)"
   ]
  },
  {
   "cell_type": "code",
   "execution_count": 9,
   "metadata": {},
   "outputs": [],
   "source": [
    "# Pickle gene ids\n",
    "pickle.dump(core_gene_ids, open(\n",
    "    os.path.join(\n",
    "        base_intermediate_dir,\n",
    "        \"core_gene_ids.pickle\"),\n",
    "    \"wb\"))\n",
    "pickle.dump(acc_gene_ids, open(\n",
    "    os.path.join(\n",
    "        base_intermediate_dir,\n",
    "        \"acc_gene_ids.pickle\"),\n",
    "    \"wb\"))"
   ]
  },
  {
   "cell_type": "markdown",
   "metadata": {},
   "source": [
    "## Get groups of expression data"
   ]
  },
  {
   "cell_type": "code",
   "execution_count": 10,
   "metadata": {},
   "outputs": [],
   "source": [
    "# Get core-core gene expression\n",
    "real_core_expression = real_expression[core_gene_ids]"
   ]
  },
  {
   "cell_type": "code",
   "execution_count": 11,
   "metadata": {},
   "outputs": [],
   "source": [
    "# Get accessory-accessory gene expression\n",
    "real_acc_expression = real_expression[acc_gene_ids]"
   ]
  },
  {
   "cell_type": "markdown",
   "metadata": {},
   "source": [
    "## Calculate correlation between gene profiles"
   ]
  },
  {
   "cell_type": "code",
   "execution_count": 12,
   "metadata": {},
   "outputs": [],
   "source": [
    "# Get correlation of core-core genes\n",
    "real_core_corr = real_core_expression.corr(method='pearson')"
   ]
  },
  {
   "cell_type": "code",
   "execution_count": 13,
   "metadata": {},
   "outputs": [],
   "source": [
    "# Get correlation of accessory-accessory genes\n",
    "real_acc_corr = real_acc_expression.corr(method='pearson')"
   ]
  },
  {
   "cell_type": "code",
   "execution_count": 14,
   "metadata": {},
   "outputs": [],
   "source": [
    "# Get correlation of all genes\n",
    "real_all_corr = real_expression.corr(method='pearson')\n",
    "\n",
    "# Save \n",
    "pickle.dump(real_all_corr, open(\n",
    "    os.path.join(\n",
    "        base_intermediate_dir,\n",
    "        \"real_all_corr.pickle\"),\n",
    "    \"wb\"))"
   ]
  },
  {
   "cell_type": "code",
   "execution_count": 15,
   "metadata": {},
   "outputs": [],
   "source": [
    "# Get correlation of core-accessory genes\n",
    "real_core_acc_corr = real_all_corr.loc[core_gene_ids, acc_gene_ids]"
   ]
  },
  {
   "cell_type": "code",
   "execution_count": 16,
   "metadata": {},
   "outputs": [],
   "source": [
    "# Get correlation of control dataset\n",
    "shuffled_all_corr = shuffled_expression.corr(method='pearson')\n",
    "\n",
    "# Save\n",
    "pickle.dump(shuffled_all_corr, open(\n",
    "    os.path.join(\n",
    "        base_intermediate_dir,\n",
    "        \"shuffled_all_corr.pickle\"),\n",
    "    \"wb\"))"
   ]
  },
  {
   "cell_type": "markdown",
   "metadata": {},
   "source": [
    "## Plot distribution of correlation scores"
   ]
  },
  {
   "cell_type": "code",
   "execution_count": 17,
   "metadata": {},
   "outputs": [
    {
     "name": "stdout",
     "output_type": "stream",
     "text": [
      "(14297878, 2)\n",
      "mean  0.010372947759549042\n",
      "median  0.007456769314072234\n",
      "var  0.16080468110273974\n"
     ]
    },
    {
     "data": {
      "text/html": [
       "<div>\n",
       "<style scoped>\n",
       "    .dataframe tbody tr th:only-of-type {\n",
       "        vertical-align: middle;\n",
       "    }\n",
       "\n",
       "    .dataframe tbody tr th {\n",
       "        vertical-align: top;\n",
       "    }\n",
       "\n",
       "    .dataframe thead th {\n",
       "        text-align: right;\n",
       "    }\n",
       "</style>\n",
       "<table border=\"1\" class=\"dataframe\">\n",
       "  <thead>\n",
       "    <tr style=\"text-align: right;\">\n",
       "      <th></th>\n",
       "      <th>corr_score</th>\n",
       "      <th>group</th>\n",
       "    </tr>\n",
       "  </thead>\n",
       "  <tbody>\n",
       "    <tr>\n",
       "      <th>0</th>\n",
       "      <td>0.516128</td>\n",
       "      <td>core</td>\n",
       "    </tr>\n",
       "    <tr>\n",
       "      <th>1</th>\n",
       "      <td>0.543192</td>\n",
       "      <td>core</td>\n",
       "    </tr>\n",
       "    <tr>\n",
       "      <th>2</th>\n",
       "      <td>0.405760</td>\n",
       "      <td>core</td>\n",
       "    </tr>\n",
       "    <tr>\n",
       "      <th>3</th>\n",
       "      <td>0.751646</td>\n",
       "      <td>core</td>\n",
       "    </tr>\n",
       "    <tr>\n",
       "      <th>4</th>\n",
       "      <td>0.316448</td>\n",
       "      <td>core</td>\n",
       "    </tr>\n",
       "  </tbody>\n",
       "</table>\n",
       "</div>"
      ],
      "text/plain": [
       "   corr_score group\n",
       "0    0.516128  core\n",
       "1    0.543192  core\n",
       "2    0.405760  core\n",
       "3    0.751646  core\n",
       "4    0.316448  core"
      ]
     },
     "execution_count": 17,
     "metadata": {},
     "output_type": "execute_result"
    }
   ],
   "source": [
    "# Flatten and get only upper triangle values from correlation matrix\n",
    "# Core gene correlations\n",
    "real_core_corr_score = real_core_corr.values[np.triu_indices(n=len(real_core_corr), k=1)]\n",
    "core_labels = np.repeat(['core'],len(real_core_corr_score))\n",
    "\n",
    "real_core_corr_df = pd.DataFrame(data={'corr_score': real_core_corr_score,\n",
    "                                      'group': core_labels})\n",
    "\n",
    "print(real_core_corr_df.shape)\n",
    "print('mean ', np.mean(real_core_corr_score))\n",
    "print('median ', np.median(real_core_corr_score))\n",
    "print('var ', np.var(real_core_corr_score))\n",
    "real_core_corr_df.head()"
   ]
  },
  {
   "cell_type": "code",
   "execution_count": 18,
   "metadata": {},
   "outputs": [
    {
     "name": "stdout",
     "output_type": "stream",
     "text": [
      "(20100, 2)\n",
      "mean  0.22947422122217992\n",
      "median  0.26296363966208863\n",
      "var  0.16490536896979813\n"
     ]
    },
    {
     "data": {
      "text/html": [
       "<div>\n",
       "<style scoped>\n",
       "    .dataframe tbody tr th:only-of-type {\n",
       "        vertical-align: middle;\n",
       "    }\n",
       "\n",
       "    .dataframe tbody tr th {\n",
       "        vertical-align: top;\n",
       "    }\n",
       "\n",
       "    .dataframe thead th {\n",
       "        text-align: right;\n",
       "    }\n",
       "</style>\n",
       "<table border=\"1\" class=\"dataframe\">\n",
       "  <thead>\n",
       "    <tr style=\"text-align: right;\">\n",
       "      <th></th>\n",
       "      <th>corr_score</th>\n",
       "      <th>group</th>\n",
       "    </tr>\n",
       "  </thead>\n",
       "  <tbody>\n",
       "    <tr>\n",
       "      <th>0</th>\n",
       "      <td>0.466594</td>\n",
       "      <td>accessory</td>\n",
       "    </tr>\n",
       "    <tr>\n",
       "      <th>1</th>\n",
       "      <td>0.803976</td>\n",
       "      <td>accessory</td>\n",
       "    </tr>\n",
       "    <tr>\n",
       "      <th>2</th>\n",
       "      <td>0.480722</td>\n",
       "      <td>accessory</td>\n",
       "    </tr>\n",
       "    <tr>\n",
       "      <th>3</th>\n",
       "      <td>0.065659</td>\n",
       "      <td>accessory</td>\n",
       "    </tr>\n",
       "    <tr>\n",
       "      <th>4</th>\n",
       "      <td>-0.086922</td>\n",
       "      <td>accessory</td>\n",
       "    </tr>\n",
       "  </tbody>\n",
       "</table>\n",
       "</div>"
      ],
      "text/plain": [
       "   corr_score      group\n",
       "0    0.466594  accessory\n",
       "1    0.803976  accessory\n",
       "2    0.480722  accessory\n",
       "3    0.065659  accessory\n",
       "4   -0.086922  accessory"
      ]
     },
     "execution_count": 18,
     "metadata": {},
     "output_type": "execute_result"
    }
   ],
   "source": [
    "# Flatten and get only upper triangle values from correlation matrix\n",
    "# Accessory gene correlations\n",
    "real_acc_corr_score = real_acc_corr.values[np.triu_indices(n=len(real_acc_corr), k=1)]\n",
    "acc_labels = np.repeat(['accessory'],len(real_acc_corr_score))\n",
    "\n",
    "real_acc_corr_df = pd.DataFrame(data={'corr_score': real_acc_corr_score,\n",
    "                                     'group': acc_labels})\n",
    "\n",
    "print(real_acc_corr_df.shape)\n",
    "print('mean ', np.mean(real_acc_corr_score))\n",
    "print('median ', np.median(real_acc_corr_score))\n",
    "print('var ', np.var(real_acc_corr_score))\n",
    "real_acc_corr_df.head()"
   ]
  },
  {
   "cell_type": "code",
   "execution_count": 19,
   "metadata": {},
   "outputs": [
    {
     "name": "stdout",
     "output_type": "stream",
     "text": [
      "(1074948, 2)\n",
      "mean  -0.03627563717478298\n",
      "median  -0.06019519521746647\n",
      "var  0.1510097885622644\n"
     ]
    },
    {
     "data": {
      "text/html": [
       "<div>\n",
       "<style scoped>\n",
       "    .dataframe tbody tr th:only-of-type {\n",
       "        vertical-align: middle;\n",
       "    }\n",
       "\n",
       "    .dataframe tbody tr th {\n",
       "        vertical-align: top;\n",
       "    }\n",
       "\n",
       "    .dataframe thead th {\n",
       "        text-align: right;\n",
       "    }\n",
       "</style>\n",
       "<table border=\"1\" class=\"dataframe\">\n",
       "  <thead>\n",
       "    <tr style=\"text-align: right;\">\n",
       "      <th></th>\n",
       "      <th>corr_score</th>\n",
       "      <th>group</th>\n",
       "    </tr>\n",
       "  </thead>\n",
       "  <tbody>\n",
       "    <tr>\n",
       "      <th>0</th>\n",
       "      <td>-0.415606</td>\n",
       "      <td>core-acc</td>\n",
       "    </tr>\n",
       "    <tr>\n",
       "      <th>1</th>\n",
       "      <td>-0.434026</td>\n",
       "      <td>core-acc</td>\n",
       "    </tr>\n",
       "    <tr>\n",
       "      <th>2</th>\n",
       "      <td>-0.345888</td>\n",
       "      <td>core-acc</td>\n",
       "    </tr>\n",
       "    <tr>\n",
       "      <th>3</th>\n",
       "      <td>-0.535991</td>\n",
       "      <td>core-acc</td>\n",
       "    </tr>\n",
       "    <tr>\n",
       "      <th>4</th>\n",
       "      <td>-0.521372</td>\n",
       "      <td>core-acc</td>\n",
       "    </tr>\n",
       "  </tbody>\n",
       "</table>\n",
       "</div>"
      ],
      "text/plain": [
       "   corr_score     group\n",
       "0   -0.415606  core-acc\n",
       "1   -0.434026  core-acc\n",
       "2   -0.345888  core-acc\n",
       "3   -0.535991  core-acc\n",
       "4   -0.521372  core-acc"
      ]
     },
     "execution_count": 19,
     "metadata": {},
     "output_type": "execute_result"
    }
   ],
   "source": [
    "# Flatten and get only upper triangle values from correlation matrix\n",
    "# Core-accessory gene correlations\n",
    "real_core_acc_corr_score = real_core_acc_corr.values.flatten().tolist()\n",
    "core_acc_labels = np.repeat(['core-acc'],len(real_core_acc_corr_score))\n",
    "\n",
    "real_core_acc_corr_df = pd.DataFrame(data={'corr_score': list(real_core_acc_corr_score),\n",
    "                                           'group': core_acc_labels})\n",
    "\n",
    "print(real_core_acc_corr_df.shape)\n",
    "print('mean ', np.mean(real_core_acc_corr_score))\n",
    "print('median ', np.median(real_core_acc_corr_score))\n",
    "print('var ', np.var(real_core_acc_corr_score))\n",
    "real_core_acc_corr_df.head()"
   ]
  },
  {
   "cell_type": "code",
   "execution_count": 20,
   "metadata": {},
   "outputs": [
    {
     "name": "stdout",
     "output_type": "stream",
     "text": [
      "(15392926, 2)\n",
      "mean  0.007401396575492733\n",
      "median  0.002845114159033611\n",
      "var  0.16033184015966406\n"
     ]
    },
    {
     "data": {
      "text/html": [
       "<div>\n",
       "<style scoped>\n",
       "    .dataframe tbody tr th:only-of-type {\n",
       "        vertical-align: middle;\n",
       "    }\n",
       "\n",
       "    .dataframe tbody tr th {\n",
       "        vertical-align: top;\n",
       "    }\n",
       "\n",
       "    .dataframe thead th {\n",
       "        text-align: right;\n",
       "    }\n",
       "</style>\n",
       "<table border=\"1\" class=\"dataframe\">\n",
       "  <thead>\n",
       "    <tr style=\"text-align: right;\">\n",
       "      <th></th>\n",
       "      <th>corr_score</th>\n",
       "      <th>group</th>\n",
       "    </tr>\n",
       "  </thead>\n",
       "  <tbody>\n",
       "    <tr>\n",
       "      <th>0</th>\n",
       "      <td>0.516128</td>\n",
       "      <td>all</td>\n",
       "    </tr>\n",
       "    <tr>\n",
       "      <th>1</th>\n",
       "      <td>0.543192</td>\n",
       "      <td>all</td>\n",
       "    </tr>\n",
       "    <tr>\n",
       "      <th>2</th>\n",
       "      <td>0.405760</td>\n",
       "      <td>all</td>\n",
       "    </tr>\n",
       "    <tr>\n",
       "      <th>3</th>\n",
       "      <td>0.751646</td>\n",
       "      <td>all</td>\n",
       "    </tr>\n",
       "    <tr>\n",
       "      <th>4</th>\n",
       "      <td>0.316448</td>\n",
       "      <td>all</td>\n",
       "    </tr>\n",
       "  </tbody>\n",
       "</table>\n",
       "</div>"
      ],
      "text/plain": [
       "   corr_score group\n",
       "0    0.516128   all\n",
       "1    0.543192   all\n",
       "2    0.405760   all\n",
       "3    0.751646   all\n",
       "4    0.316448   all"
      ]
     },
     "execution_count": 20,
     "metadata": {},
     "output_type": "execute_result"
    }
   ],
   "source": [
    "# Flatten and get only upper triangle values from correlation matrix\n",
    "# All gene correlations\n",
    "real_all_corr_score = real_all_corr.values[np.triu_indices(n=len(real_all_corr), k=1)]\n",
    "all_labels = np.repeat(['all'],len(real_all_corr_score))\n",
    "\n",
    "real_all_corr_df = pd.DataFrame(data={'corr_score': real_all_corr_score,\n",
    "                                     'group': all_labels})\n",
    "\n",
    "print(real_all_corr_df.shape)\n",
    "print('mean ', np.mean(real_all_corr_score))\n",
    "print('median ', np.median(real_all_corr_score))\n",
    "print('var ', np.var(real_all_corr_score))\n",
    "real_all_corr_df.head()"
   ]
  },
  {
   "cell_type": "code",
   "execution_count": 21,
   "metadata": {},
   "outputs": [
    {
     "name": "stdout",
     "output_type": "stream",
     "text": [
      "(15392926, 2)\n",
      "mean  0.0017065863021919658\n",
      "median  -0.0017892662770804266\n",
      "var  0.026846526817879583\n"
     ]
    },
    {
     "data": {
      "text/html": [
       "<div>\n",
       "<style scoped>\n",
       "    .dataframe tbody tr th:only-of-type {\n",
       "        vertical-align: middle;\n",
       "    }\n",
       "\n",
       "    .dataframe tbody tr th {\n",
       "        vertical-align: top;\n",
       "    }\n",
       "\n",
       "    .dataframe thead th {\n",
       "        text-align: right;\n",
       "    }\n",
       "</style>\n",
       "<table border=\"1\" class=\"dataframe\">\n",
       "  <thead>\n",
       "    <tr style=\"text-align: right;\">\n",
       "      <th></th>\n",
       "      <th>corr_score</th>\n",
       "      <th>group</th>\n",
       "    </tr>\n",
       "  </thead>\n",
       "  <tbody>\n",
       "    <tr>\n",
       "      <th>0</th>\n",
       "      <td>0.062303</td>\n",
       "      <td>shuffled</td>\n",
       "    </tr>\n",
       "    <tr>\n",
       "      <th>1</th>\n",
       "      <td>0.153933</td>\n",
       "      <td>shuffled</td>\n",
       "    </tr>\n",
       "    <tr>\n",
       "      <th>2</th>\n",
       "      <td>-0.023481</td>\n",
       "      <td>shuffled</td>\n",
       "    </tr>\n",
       "    <tr>\n",
       "      <th>3</th>\n",
       "      <td>0.041114</td>\n",
       "      <td>shuffled</td>\n",
       "    </tr>\n",
       "    <tr>\n",
       "      <th>4</th>\n",
       "      <td>0.008609</td>\n",
       "      <td>shuffled</td>\n",
       "    </tr>\n",
       "  </tbody>\n",
       "</table>\n",
       "</div>"
      ],
      "text/plain": [
       "   corr_score     group\n",
       "0    0.062303  shuffled\n",
       "1    0.153933  shuffled\n",
       "2   -0.023481  shuffled\n",
       "3    0.041114  shuffled\n",
       "4    0.008609  shuffled"
      ]
     },
     "execution_count": 21,
     "metadata": {},
     "output_type": "execute_result"
    }
   ],
   "source": [
    "# Flatten and get only upper triangle values from correlation matrix\n",
    "# Shuffled gene correlations\n",
    "shuffled_all_corr_score = shuffled_all_corr.values[np.triu_indices(n=len(shuffled_all_corr), k=1)]\n",
    "shuffled_all_labels = np.repeat(['shuffled'],len(real_all_corr_score))\n",
    "\n",
    "shuffled_all_corr_df = pd.DataFrame(data={'corr_score': shuffled_all_corr_score,\n",
    "                                          'group': shuffled_all_labels})\n",
    "\n",
    "print(shuffled_all_corr_df.shape)\n",
    "print('mean ', np.mean(shuffled_all_corr_score))\n",
    "print('median ', np.median(shuffled_all_corr_score))\n",
    "print('var ', np.var(shuffled_all_corr_score))\n",
    "shuffled_all_corr_df.head()"
   ]
  },
  {
   "cell_type": "code",
   "execution_count": 22,
   "metadata": {},
   "outputs": [
    {
     "name": "stdout",
     "output_type": "stream",
     "text": [
      "(46178778, 2)\n"
     ]
    },
    {
     "data": {
      "text/html": [
       "<div>\n",
       "<style scoped>\n",
       "    .dataframe tbody tr th:only-of-type {\n",
       "        vertical-align: middle;\n",
       "    }\n",
       "\n",
       "    .dataframe tbody tr th {\n",
       "        vertical-align: top;\n",
       "    }\n",
       "\n",
       "    .dataframe thead th {\n",
       "        text-align: right;\n",
       "    }\n",
       "</style>\n",
       "<table border=\"1\" class=\"dataframe\">\n",
       "  <thead>\n",
       "    <tr style=\"text-align: right;\">\n",
       "      <th></th>\n",
       "      <th>corr_score</th>\n",
       "      <th>group</th>\n",
       "    </tr>\n",
       "  </thead>\n",
       "  <tbody>\n",
       "    <tr>\n",
       "      <th>0</th>\n",
       "      <td>0.516128</td>\n",
       "      <td>core</td>\n",
       "    </tr>\n",
       "    <tr>\n",
       "      <th>1</th>\n",
       "      <td>0.543192</td>\n",
       "      <td>core</td>\n",
       "    </tr>\n",
       "    <tr>\n",
       "      <th>2</th>\n",
       "      <td>0.405760</td>\n",
       "      <td>core</td>\n",
       "    </tr>\n",
       "    <tr>\n",
       "      <th>3</th>\n",
       "      <td>0.751646</td>\n",
       "      <td>core</td>\n",
       "    </tr>\n",
       "    <tr>\n",
       "      <th>4</th>\n",
       "      <td>0.316448</td>\n",
       "      <td>core</td>\n",
       "    </tr>\n",
       "  </tbody>\n",
       "</table>\n",
       "</div>"
      ],
      "text/plain": [
       "   corr_score group\n",
       "0    0.516128  core\n",
       "1    0.543192  core\n",
       "2    0.405760  core\n",
       "3    0.751646  core\n",
       "4    0.316448  core"
      ]
     },
     "execution_count": 22,
     "metadata": {},
     "output_type": "execute_result"
    }
   ],
   "source": [
    "# Create df\n",
    "corr_scores_df = pd.concat([real_core_corr_df,\n",
    "                            real_acc_corr_df,\n",
    "                            real_core_acc_corr_df,\n",
    "                            real_all_corr_df,\n",
    "                            shuffled_all_corr_df],\n",
    "                           ignore_index=True)\n",
    "\n",
    "print(corr_scores_df.shape)\n",
    "corr_scores_df.head()"
   ]
  },
  {
   "cell_type": "code",
   "execution_count": 23,
   "metadata": {},
   "outputs": [],
   "source": [
    "sns.set()"
   ]
  },
  {
   "cell_type": "code",
   "execution_count": 24,
   "metadata": {},
   "outputs": [
    {
     "data": {
      "text/plain": [
       "Text(0.5, 1.0, 'Distribution of correlation scores per group')"
      ]
     },
     "execution_count": 24,
     "metadata": {},
     "output_type": "execute_result"
    },
    {
     "data": {
      "image/png": "[encoded data removed]",
      "text/plain": [
       "<Figure size 432x288 with 1 Axes>"
      ]
     },
     "metadata": {},
     "output_type": "display_data"
    }
   ],
   "source": [
    "# Plot all correlation scores\n",
    "sns.boxplot(data=corr_scores_df,\n",
    "           x='group',\n",
    "           y='corr_score',\n",
    "           palette='Set3').set_title('Distribution of correlation scores per group')"
   ]
  },
  {
   "cell_type": "code",
   "execution_count": 25,
   "metadata": {},
   "outputs": [
    {
     "name": "stderr",
     "output_type": "stream",
     "text": [
      "/home/alexandra/anaconda3/envs/core-acc/lib/python3.7/site-packages/scipy/stats/stats.py:1713: FutureWarning: Using a non-tuple sequence for multidimensional indexing is deprecated; use `arr[tuple(seq)]` instead of `arr[seq]`. In the future this will be interpreted as an array index, `arr[np.array(seq)]`, which will result either in an error or a different result.\n",
      "  return np.add.reduce(sorted[indexer] * weights, axis=axis) / sumval\n"
     ]
    },
    {
     "data": {
      "text/plain": [
       "Text(0, 0.5, 'Probability Density')"
      ]
     },
     "execution_count": 25,
     "metadata": {},
     "output_type": "execute_result"
    },
    {
     "data": {
      "image/png": "[encoded data removed]",
      "text/plain": [
       "<Figure size 432x288 with 1 Axes>"
      ]
     },
     "metadata": {},
     "output_type": "display_data"
    }
   ],
   "source": [
    "# Distribution plot for core genes\n",
    "sns.distplot(real_core_corr_score, \n",
    "             label='core', \n",
    "             color='red',\n",
    "             hist = False, \n",
    "             kde = True,\n",
    "             kde_kws = {'shade': True}\n",
    "            )\n",
    "\n",
    "sns.distplot(real_acc_corr_score,\n",
    "             label='accessory',\n",
    "             color='blue',\n",
    "             hist = False, \n",
    "             kde = True,\n",
    "             kde_kws = {'shade': True}\n",
    "            )\n",
    "sns.distplot(real_core_acc_corr_score, \n",
    "             label='core-accessory', \n",
    "             color='purple',\n",
    "             hist = False, \n",
    "             kde = True,\n",
    "             kde_kws = {'shade': True}\n",
    "            )\n",
    "sns.distplot(shuffled_all_corr_score,\n",
    "             label='shuffled', \n",
    "             color='grey',\n",
    "             hist = False, \n",
    "             kde = True,\n",
    "             kde_kws = {'shade': True}\n",
    "            )\n",
    "\n",
    "plt.legend(prop={'size': 12})\n",
    "plt.title('Probability density of correlation scores per group')\n",
    "plt.ylabel('Probability Density')"
   ]
  },
  {
   "cell_type": "code",
   "execution_count": 26,
   "metadata": {},
   "outputs": [
    {
     "data": {
      "image/png": "[encoded data removed]",
      "text/plain": [
       "<Figure size 576x576 with 4 Axes>"
      ]
     },
     "metadata": {},
     "output_type": "display_data"
    }
   ],
   "source": [
    "# Get bins using all data\n",
    "hist, bins_corr = np.histogram(np.concatenate([real_core_corr_score,\n",
    "                                              real_acc_corr_score,\n",
    "                                              real_core_acc_corr_score,\n",
    "                                              shuffled_all_corr_score]))\n",
    "\n",
    "# Set up the matplotlib figure\n",
    "fig, axes = plt.subplots(ncols=2, nrows=2, figsize=(8,8))\n",
    "\n",
    "# Distribution plot for core genes\n",
    "sns.distplot(real_core_corr_score, \n",
    "             label='core', \n",
    "             color='red',\n",
    "             bins=bins_corr,\n",
    "             kde=False,\n",
    "             ax=axes[0,0]\n",
    "            )\n",
    "\n",
    "sns.distplot(real_acc_corr_score,\n",
    "             label='accessory',\n",
    "             color='blue',\n",
    "             bins=bins_corr,\n",
    "             kde=False,\n",
    "             ax=axes[0,1]\n",
    "            )\n",
    "sns.distplot(real_core_acc_corr_score, \n",
    "             label='core-accessory', \n",
    "             color='purple',\n",
    "             bins=bins_corr,\n",
    "             kde=False,\n",
    "             ax=axes[1,0]\n",
    "            )\n",
    "sns.distplot(shuffled_all_corr_score,\n",
    "             label='shuffled', \n",
    "             color='grey',\n",
    "             bins=bins_corr,\n",
    "             kde=False,\n",
    "             ax=axes[1,1]\n",
    "            )\n",
    "\n",
    "plt.suptitle('Histogram of correlation scores per group')\n",
    "axes[0,0].set_title('Core-Core')\n",
    "axes[0,1].set_title('Accessory-Accessory')\n",
    "axes[1,0].set_title('Core-Accessory')\n",
    "axes[1,1].set_title('Shuffled')\n",
    "fig.text(0.5, 0.01, 'Correlation between genes', ha='center', fontsize=12)\n",
    "fig.text(0.01, 0.5, 'Count', ha='center', rotation=90, fontsize=12)\n",
    "plt.tight_layout(pad=0.4, \n",
    "                 w_pad=0.5,\n",
    "                 h_pad=1.0,\n",
    "                 rect=[0, 0.03, 1, 0.95])"
   ]
  },
  {
   "cell_type": "markdown",
   "metadata": {},
   "source": [
    "**Note about visualizations:**\n",
    "* Based on the density plot, we observed a shift in the accessory-accessory gene correlation scores. This density plot represents the probability of a random variable falling within a particular range of values (P(0 <= X <= 0.5)). This probability is given by the integral of this variable's PDF over that range -- that is it is given by the area under the density function. So there is a higher likelihood of correlation scores > 0.5 for accessory-accessory genes compared to core-core genes. But the *exact probability* of accessory-accessory genes having a correlation score > 0.5 is not known from just visually inspecting the density plot. To get the exact probability we would need to calculate the integral from 0.5 onward.\n",
    "* While the shift if very clear to see in the density plot, the meaning of the y-axis is not as intuitive, so we also plot histograms for each group of genes. The histogram also shows a shift in the accessory-accessory gene correlation scores and also shows that the number of accessory-accessory interactions is orders of magnitude lower compared to core-core interactions.\n",
    "\n",
    "https://towardsdatascience.com/histograms-and-density-plots-in-python-f6bda88f5ac0\n",
    "\n",
    "**Some sanity checks:**\n",
    "* Shuffled dataset has very little correlation between genes, as expected since we have disrupted the inherent relationships between genes through our permutation process\n",
    "* Since core genes comprise 97% of the total genes, the mean correlation for all genes is the same as the core gene set\n",
    "\n",
    "**Overall observations:**\n",
    "* Looking at the density plot for the accessory-accessory gene correlation scores, the scores are shifted to the right.\n",
    "* The shift in acc-acc genes having higher correlation scores is more prominent in mixed sample datasets (`which_experiment == 'All'`). This shift is especially prominent in the PA14-only dataset (`which_experiment == 'PA14'`), where the accessory genes are absent."
   ]
  },
  {
   "cell_type": "markdown",
   "metadata": {},
   "source": [
    "## Examine expression of genes per group\n",
    "**Question**\n",
    "Is the reason for this shift because the accessory genes are absent? In other words, is the expression values for ALL accessory genes very low in across samples and so that is why they are all very correlated?"
   ]
  },
  {
   "cell_type": "code",
   "execution_count": 27,
   "metadata": {},
   "outputs": [],
   "source": [
    "# Get mean, max, min expression per core gene\n",
    "mean_real_core_expression = real_core_expression.mean()\n",
    "max_real_core_expression = real_core_expression.max()\n",
    "min_real_core_expression = real_core_expression.min()"
   ]
  },
  {
   "cell_type": "code",
   "execution_count": 28,
   "metadata": {},
   "outputs": [],
   "source": [
    "# Get mean, max, min expression per accessory gene\n",
    "mean_real_acc_expression = real_acc_expression.mean()\n",
    "max_real_acc_expression = real_acc_expression.max()\n",
    "min_real_acc_expression = real_acc_expression.min()"
   ]
  },
  {
   "cell_type": "code",
   "execution_count": 29,
   "metadata": {},
   "outputs": [
    {
     "data": {
      "text/plain": [
       "Text(0.5, 0, 'Mean gene expression')"
      ]
     },
     "execution_count": 29,
     "metadata": {},
     "output_type": "execute_result"
    },
    {
     "data": {
      "image/png": "[encoded data removed]",
      "text/plain": [
       "<Figure size 432x288 with 1 Axes>"
      ]
     },
     "metadata": {},
     "output_type": "display_data"
    }
   ],
   "source": [
    "# Distribution plot for core genes\n",
    "sns.distplot(mean_real_core_expression, \n",
    "             label='core', \n",
    "             color='red',\n",
    "             hist = False, \n",
    "             kde = True,\n",
    "             kde_kws = {'shade': True}\n",
    "            )\n",
    "\n",
    "sns.distplot(mean_real_acc_expression,\n",
    "             label='accessory',\n",
    "             color='blue',\n",
    "             hist = False, \n",
    "             kde = True,\n",
    "             kde_kws = {'shade': True}\n",
    "            )\n",
    "\n",
    "plt.legend(prop={'size': 12})\n",
    "plt.title('Probability density of mean gene expression')\n",
    "plt.ylabel('Probability Density')\n",
    "plt.xlabel('Mean gene expression')"
   ]
  },
  {
   "cell_type": "code",
   "execution_count": 30,
   "metadata": {},
   "outputs": [
    {
     "data": {
      "image/png": "[encoded data removed]",
      "text/plain": [
       "<Figure size 432x432 with 2 Axes>"
      ]
     },
     "metadata": {},
     "output_type": "display_data"
    }
   ],
   "source": [
    "# Get bins using all data\n",
    "hist, bins_expression = np.histogram(np.concatenate([mean_real_core_expression,\n",
    "                                              mean_real_acc_expression]))\n",
    "\n",
    "\n",
    "# Set up the matplotlib figure\n",
    "fig, axes = plt.subplots(ncols=2, nrows=1, figsize=(6,6))\n",
    "\n",
    "# Distribution plot for core genes\n",
    "sns.distplot(mean_real_core_expression, \n",
    "             label='core', \n",
    "             color='red',\n",
    "             bins=bins_expression,\n",
    "             kde=False,\n",
    "             ax=axes[0]\n",
    "            )\n",
    "\n",
    "sns.distplot(mean_real_acc_expression,\n",
    "             label='accessory',\n",
    "             color='blue',\n",
    "             bins=bins_expression,\n",
    "             kde=False,\n",
    "             ax=axes[1]\n",
    "            )\n",
    "\n",
    "plt.suptitle('Histogram of gene expression per group')\n",
    "axes[0].set_title('Core-Core')\n",
    "axes[1].set_title('Accessory-Accessory')\n",
    "fig.text(0.5, 0.01, 'Gene expression', ha='center', fontsize=12)\n",
    "fig.text(0.01, 0.5, 'Count', ha='center', rotation=90, fontsize=12)\n",
    "plt.tight_layout(pad=0.4, \n",
    "                 w_pad=0.5,\n",
    "                 h_pad=1.0,\n",
    "                 rect=[0, 0.03, 1, 0.95])"
   ]
  },
  {
   "cell_type": "markdown",
   "metadata": {},
   "source": [
    "**Take away**:\n",
    "* If high corr(acc, acc) was due to gene absence, then I would’ve expected the average expression of accessory genes to be tightly spread near 0. But instead we see that average gene expression of accessory genes is similar to the core gene expression, even using only PA14 strains\n",
    "* What can explain this? "
   ]
  }
 ],
 "metadata": {
  "kernelspec": {
   "display_name": "Python [conda env:core-acc] *",
   "language": "python",
   "name": "conda-env-core-acc-py"
  },
  "language_info": {
   "codemirror_mode": {
    "name": "ipython",
    "version": 3
   },
   "file_extension": ".py",
   "mimetype": "text/x-python",
   "name": "python",
   "nbconvert_exporter": "python",
   "pygments_lexer": "ipython3",
   "version": "3.7.6"
  }
 },
 "nbformat": 4,
 "nbformat_minor": 4
}
