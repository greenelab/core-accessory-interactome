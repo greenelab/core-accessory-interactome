{
 "cells": [
  {
   "cell_type": "markdown",
   "metadata": {},
   "source": [
    "# Explore composition of correlated genes\n",
    "\n",
    "This notebook explores deeper into the genes that are found based on their correlation score."
   ]
  },
  {
   "cell_type": "code",
   "execution_count": 1,
   "metadata": {},
   "outputs": [
    {
     "name": "stderr",
     "output_type": "stream",
     "text": [
      "/home/alexandra/anaconda3/envs/core_acc/lib/python3.7/site-packages/matplotlib/__init__.py:886: MatplotlibDeprecationWarning: \n",
      "examples.directory is deprecated; in the future, examples will be found relative to the 'datapath' directory.\n",
      "  \"found relative to the 'datapath' directory.\".format(key))\n"
     ]
    }
   ],
   "source": [
    "import pandas as pd\n",
    "import os\n",
    "import numpy as np\n",
    "import seaborn as sns\n",
    "import matplotlib.pyplot as plt\n",
    "from matplotlib_venn import venn2\n",
    "import pickle\n",
    "import scipy as sc\n",
    "\n",
    "import warnings\n",
    "warnings.filterwarnings(action='ignore')\n",
    "\n",
    "np.random.seed(123)"
   ]
  },
  {
   "cell_type": "code",
   "execution_count": 2,
   "metadata": {},
   "outputs": [],
   "source": [
    "# Input\n",
    "base_dir = os.path.abspath(os.path.join(os.getcwd(),\"../\"))\n",
    "local_dir = \"/home/alexandra/Documents/\"\n",
    "\n",
    "base_intermediate_dir = os.path.join(\n",
    "    base_dir,\n",
    "    \"pilot_experiment\",\n",
    "    \"data\",\n",
    "    \"tmp\")\n",
    "\n",
    "real_expression_all_file = os.path.join(\n",
    "    base_dir,\n",
    "    \"pilot_experiment\",\n",
    "    \"data\",\n",
    "    \"input\",\n",
    "    \"selected_All_data.tsv\")\n",
    "\n",
    "real_expression_pao1_file = os.path.join(\n",
    "    base_dir,\n",
    "    \"pilot_experiment\",\n",
    "    \"data\",\n",
    "    \"input\",\n",
    "    \"selected_PAO1_data.tsv\")\n",
    "\n",
    "real_expression_pa14_file = os.path.join(\n",
    "    base_dir,\n",
    "    \"pilot_experiment\",\n",
    "    \"data\",\n",
    "    \"input\",\n",
    "    \"selected_PA14_data.tsv\")\n",
    "\n",
    "core_gene_ids_file = os.path.join(\n",
    "    base_intermediate_dir,\n",
    "    \"core_gene_ids.pickle\")\n",
    "\n",
    "acc_gene_ids_file = os.path.join(\n",
    "    base_intermediate_dir,\n",
    "    \"acc_gene_ids.pickle\")"
   ]
  },
  {
   "cell_type": "code",
   "execution_count": 3,
   "metadata": {},
   "outputs": [],
   "source": [
    "# Read expression data\n",
    "real_expression_all = pd.read_csv(\n",
    "    real_expression_all_file,\n",
    "    header=0,\n",
    "    sep='\\t',\n",
    "    index_col=0)\n",
    "\n",
    "real_expression_pao1 = pd.read_csv(\n",
    "    real_expression_pao1_file,\n",
    "    header=0,\n",
    "    sep='\\t',\n",
    "    index_col=0)\n",
    "\n",
    "real_expression_pa14 = pd.read_csv(\n",
    "    real_expression_pa14_file,\n",
    "    header=0,\n",
    "    sep='\\t',\n",
    "    index_col=0)"
   ]
  },
  {
   "cell_type": "code",
   "execution_count": 4,
   "metadata": {},
   "outputs": [],
   "source": [
    "# Read in gene ids\n",
    "core_gene_ids = pickle.load(open(core_gene_ids_file, \"rb\"))\n",
    "acc_gene_ids = pickle.load(open(acc_gene_ids_file, \"rb\"))"
   ]
  },
  {
   "cell_type": "code",
   "execution_count": 5,
   "metadata": {},
   "outputs": [],
   "source": [
    "# Get core-core gene expression\n",
    "real_core_expression_all = real_expression_all[core_gene_ids]\n",
    "real_core_expression_pao1 = real_expression_pao1[core_gene_ids]\n",
    "real_core_expression_pa14 = real_expression_pa14[core_gene_ids]"
   ]
  },
  {
   "cell_type": "code",
   "execution_count": 6,
   "metadata": {},
   "outputs": [],
   "source": [
    "# Get accessory-accessory gene expression\n",
    "real_acc_expression_all = real_expression_all[acc_gene_ids]\n",
    "real_acc_expression_pao1 = real_expression_pao1[acc_gene_ids]\n",
    "real_acc_expression_pa14 = real_expression_pa14[acc_gene_ids]"
   ]
  },
  {
   "cell_type": "markdown",
   "metadata": {},
   "source": [
    "## Evolution of PAO1 and PA14\n",
    "\n",
    "Whole-genome phylogenetic analysis found two major groups (PAO1, PA14) using the core genome\n",
    "The PA14 and PAO1 clonal complexes have diverged evolutionary based on SNPs that were present in most isolates of one group and absent in all isolates of the other\n",
    "\n",
    "References:\n",
    "* https://www.ncbi.nlm.nih.gov/pmc/articles/PMC6690169/\n",
    "* https://www.ncbi.nlm.nih.gov/pmc/articles/PMC7197496/\n",
    "* https://www.pnas.org/content/pnas/105/8/3100.full.pdf\n",
    "\n",
    "**Question:** Since PA14 and PAO1 have diverged, what accessory genes from PAO1 are shared with PA14 strains as they evolve and adapt?"
   ]
  },
  {
   "cell_type": "code",
   "execution_count": 7,
   "metadata": {},
   "outputs": [],
   "source": [
    "# Get correlation of accessory-accessory genes\n",
    "real_acc_corr_pao1 = real_acc_expression_pao1.corr(method='pearson')\n",
    "real_acc_corr_pa14 = real_acc_expression_pa14.corr(method='pearson')"
   ]
  },
  {
   "cell_type": "code",
   "execution_count": 8,
   "metadata": {},
   "outputs": [
    {
     "name": "stdout",
     "output_type": "stream",
     "text": [
      "(20100, 3)\n",
      "(20100, 3)\n"
     ]
    }
   ],
   "source": [
    "# Reshape correlation data\n",
    "real_acc_corr_pao1 = real_acc_corr_pao1.where(np.triu(np.ones(real_acc_corr_pao1.shape), k=1).astype(np.bool))\n",
    "real_acc_corr_pao1 = real_acc_corr_pao1.stack().reset_index()\n",
    "real_acc_corr_pao1.columns = ['in gene','out gene','corr score']\n",
    "\n",
    "real_acc_corr_pa14 = real_acc_corr_pa14.where(np.triu(np.ones(real_acc_corr_pa14.shape), k=1).astype(np.bool))\n",
    "real_acc_corr_pa14 = real_acc_corr_pa14.stack().reset_index()\n",
    "real_acc_corr_pa14.columns = ['in gene','out gene','corr score']\n",
    "\n",
    "print(real_acc_corr_pao1.shape)\n",
    "print(real_acc_corr_pa14.shape)"
   ]
  },
  {
   "cell_type": "code",
   "execution_count": 9,
   "metadata": {},
   "outputs": [
    {
     "name": "stdout",
     "output_type": "stream",
     "text": [
      "(6880, 3)\n",
      "(9293, 3)\n"
     ]
    },
    {
     "data": {
      "text/html": [
       "<div>\n",
       "<style scoped>\n",
       "    .dataframe tbody tr th:only-of-type {\n",
       "        vertical-align: middle;\n",
       "    }\n",
       "\n",
       "    .dataframe tbody tr th {\n",
       "        vertical-align: top;\n",
       "    }\n",
       "\n",
       "    .dataframe thead th {\n",
       "        text-align: right;\n",
       "    }\n",
       "</style>\n",
       "<table border=\"1\" class=\"dataframe\">\n",
       "  <thead>\n",
       "    <tr style=\"text-align: right;\">\n",
       "      <th></th>\n",
       "      <th>in gene</th>\n",
       "      <th>out gene</th>\n",
       "      <th>corr score</th>\n",
       "    </tr>\n",
       "  </thead>\n",
       "  <tbody>\n",
       "    <tr>\n",
       "      <th>0</th>\n",
       "      <td>PA0053</td>\n",
       "      <td>PA0095</td>\n",
       "      <td>0.892283</td>\n",
       "    </tr>\n",
       "    <tr>\n",
       "      <th>1</th>\n",
       "      <td>PA0053</td>\n",
       "      <td>PA0100</td>\n",
       "      <td>0.771820</td>\n",
       "    </tr>\n",
       "    <tr>\n",
       "      <th>11</th>\n",
       "      <td>PA0053</td>\n",
       "      <td>PA0257</td>\n",
       "      <td>0.873920</td>\n",
       "    </tr>\n",
       "    <tr>\n",
       "      <th>12</th>\n",
       "      <td>PA0053</td>\n",
       "      <td>PA0258</td>\n",
       "      <td>0.938533</td>\n",
       "    </tr>\n",
       "    <tr>\n",
       "      <th>13</th>\n",
       "      <td>PA0053</td>\n",
       "      <td>PA0445</td>\n",
       "      <td>0.670422</td>\n",
       "    </tr>\n",
       "  </tbody>\n",
       "</table>\n",
       "</div>"
      ],
      "text/plain": [
       "   in gene out gene  corr score\n",
       "0   PA0053   PA0095    0.892283\n",
       "1   PA0053   PA0100    0.771820\n",
       "11  PA0053   PA0257    0.873920\n",
       "12  PA0053   PA0258    0.938533\n",
       "13  PA0053   PA0445    0.670422"
      ]
     },
     "execution_count": 9,
     "metadata": {},
     "output_type": "execute_result"
    }
   ],
   "source": [
    "# Get only highly correlated relationships\n",
    "highly_acc_corr_pao1 = real_acc_corr_pao1[real_acc_corr_pao1['corr score']>0.5]\n",
    "highly_acc_corr_pa14 = real_acc_corr_pa14[real_acc_corr_pa14['corr score']>0.5]\n",
    "\n",
    "print(highly_acc_corr_pao1.shape)\n",
    "print(highly_acc_corr_pa14.shape)\n",
    "highly_acc_corr_pao1.head()"
   ]
  },
  {
   "cell_type": "code",
   "execution_count": 10,
   "metadata": {},
   "outputs": [
    {
     "data": {
      "text/html": [
       "<div>\n",
       "<style scoped>\n",
       "    .dataframe tbody tr th:only-of-type {\n",
       "        vertical-align: middle;\n",
       "    }\n",
       "\n",
       "    .dataframe tbody tr th {\n",
       "        vertical-align: top;\n",
       "    }\n",
       "\n",
       "    .dataframe thead th {\n",
       "        text-align: right;\n",
       "    }\n",
       "</style>\n",
       "<table border=\"1\" class=\"dataframe\">\n",
       "  <thead>\n",
       "    <tr style=\"text-align: right;\">\n",
       "      <th></th>\n",
       "      <th>in gene</th>\n",
       "      <th>out gene</th>\n",
       "      <th>corr score</th>\n",
       "    </tr>\n",
       "  </thead>\n",
       "  <tbody>\n",
       "    <tr>\n",
       "      <th>4</th>\n",
       "      <td>PA0053</td>\n",
       "      <td>PA0188</td>\n",
       "      <td>0.604890</td>\n",
       "    </tr>\n",
       "    <tr>\n",
       "      <th>5</th>\n",
       "      <td>PA0053</td>\n",
       "      <td>PA0202</td>\n",
       "      <td>0.758231</td>\n",
       "    </tr>\n",
       "    <tr>\n",
       "      <th>6</th>\n",
       "      <td>PA0053</td>\n",
       "      <td>PA0203</td>\n",
       "      <td>0.694165</td>\n",
       "    </tr>\n",
       "    <tr>\n",
       "      <th>7</th>\n",
       "      <td>PA0053</td>\n",
       "      <td>PA0204</td>\n",
       "      <td>0.721027</td>\n",
       "    </tr>\n",
       "    <tr>\n",
       "      <th>8</th>\n",
       "      <td>PA0053</td>\n",
       "      <td>PA0205</td>\n",
       "      <td>0.582750</td>\n",
       "    </tr>\n",
       "  </tbody>\n",
       "</table>\n",
       "</div>"
      ],
      "text/plain": [
       "  in gene out gene  corr score\n",
       "4  PA0053   PA0188    0.604890\n",
       "5  PA0053   PA0202    0.758231\n",
       "6  PA0053   PA0203    0.694165\n",
       "7  PA0053   PA0204    0.721027\n",
       "8  PA0053   PA0205    0.582750"
      ]
     },
     "execution_count": 10,
     "metadata": {},
     "output_type": "execute_result"
    }
   ],
   "source": [
    "highly_acc_corr_pa14.head()"
   ]
  },
  {
   "cell_type": "code",
   "execution_count": 11,
   "metadata": {},
   "outputs": [
    {
     "name": "stdout",
     "output_type": "stream",
     "text": [
      "199\n"
     ]
    }
   ],
   "source": [
    "# Get genes that are highly correlated in PAO1\n",
    "highly_acc_genes_pao1 = np.unique(np.concatenate([highly_acc_corr_pao1['in gene'].values,\n",
    "                                                  highly_acc_corr_pao1['out gene'].values]\n",
    "                                                )\n",
    "                                 )\n",
    "\n",
    "print(len(highly_acc_genes_pao1))"
   ]
  },
  {
   "cell_type": "code",
   "execution_count": 12,
   "metadata": {},
   "outputs": [
    {
     "name": "stdout",
     "output_type": "stream",
     "text": [
      "201\n"
     ]
    }
   ],
   "source": [
    "# Get genes that are highly correlated in PA14\n",
    "highly_acc_genes_pa14 = np.unique(np.concatenate([highly_acc_corr_pa14['in gene'].values,\n",
    "                                                  highly_acc_corr_pa14['out gene'].values]\n",
    "                                                )\n",
    "                                 )\n",
    "\n",
    "print(len(highly_acc_genes_pa14))"
   ]
  },
  {
   "cell_type": "code",
   "execution_count": 13,
   "metadata": {},
   "outputs": [
    {
     "name": "stdout",
     "output_type": "stream",
     "text": [
      "Accessory genes highly correlated with other accessory genes in PAO1 and PA14:  199\n",
      "Accessory genes highly correlated with other accessory genes in PAO1 only:  0\n",
      "Accessory genes highly correlated with other accessory genes in PA14 only:  2\n"
     ]
    }
   ],
   "source": [
    "shared_acc_genes = set(highly_acc_genes_pao1).intersection(set(highly_acc_genes_pa14))\n",
    "pao1_acc_genes = set(highly_acc_genes_pao1).difference(set(highly_acc_genes_pa14))\n",
    "pa14_acc_genes = set(highly_acc_genes_pa14).difference(set(highly_acc_genes_pao1))\n",
    "\n",
    "print(\"Accessory genes highly correlated with other accessory genes in PAO1 and PA14: \", len(shared_acc_genes))\n",
    "print(\"Accessory genes highly correlated with other accessory genes in PAO1 only: \", len(pao1_acc_genes))\n",
    "print(\"Accessory genes highly correlated with other accessory genes in PA14 only: \", len(pa14_acc_genes))"
   ]
  },
  {
   "cell_type": "code",
   "execution_count": 14,
   "metadata": {},
   "outputs": [
    {
     "data": {
      "image/png": "[encoded data removed]",
      "text/plain": [
       "<Figure size 432x288 with 1 Axes>"
      ]
     },
     "metadata": {},
     "output_type": "display_data"
    }
   ],
   "source": [
    "venn2([set(highly_acc_genes_pao1), set(highly_acc_genes_pa14)],\n",
    "      set_labels = ('PAO1', 'PA14'),\n",
    "      set_colors=('red', 'green'),\n",
    "      alpha=0.5\n",
    "     )\n",
    "plt.show()"
   ]
  },
  {
   "cell_type": "markdown",
   "metadata": {},
   "source": [
    "Recall our definition of core and accessory genes. **core gene** = genes that are homologous between PAO1 and PA14; **accessory gene** in this case are PAO1-specific genes (since the array we are using is using the PAO1 reference genome).\n",
    "\n",
    "**Observations:**\n",
    "* 199 accessory genes that are highly connected with other accessory genes in both PAO1 and PA14 background\n",
    "* 2 accessory genes that are highly connected with other accessory genes in only PA14 strains background -- niche genes?\n",
    "* Highly correlated accessory genes are conserved across strains\n",
    "\n",
    "What are these \"accessory genes in both PAO1 and PA14\"? \n",
    "* Say gene X is an accessory gene, meaning gene X is PAO1-specific and not present in PA14. There can still be some cross hybridization with the array such that we can detect some level of expression for gene X in PA14 samples.  \n",
    "* Then, say accessory gene X is highly correlated with accessory gene Y using PAO1 only samples. Accessory gene X is also highly correlated with some other accessory gene Z using PA14 samples. So gene X is higher correlated in both PAO1 and PA14\n",
    "* So it’s not that gene X is actually present in both strains PAO1 and PA14, it’s just that gene X is present in the array so there will be some expression because of cross-hybridization that can lead gene X being highly correlated with other genes."
   ]
  },
  {
   "cell_type": "markdown",
   "metadata": {},
   "source": [
    "## Accessory relationships with core or other accessory genes\n",
    "\n",
    "**Definition:** \n",
    "Accessory genes can be strain-specific, so they are unique genes or they can be partially conserved, so shared with some strains but not all, call these flexible genes\n",
    "\n",
    "[Jiao et. al.](https://pubmed.ncbi.nlm.nih.gov/29795552), who found that more conserved genes (like flexible genes) in S. fredii (Sinorhizobium fredii) were more strongly connected in the co-expression network. This intuition is that as Pseudomonas adapts, newly acquired accessory genes will be integrated into the existing/core regulatory network of the recipient strain. In other words we would expect flexible and core genes to be co-expressed compared to unique and core genes. \n",
    "\n",
    "**Question:** Are accessory genes more highly correlated with core genes vs accessory genes? Are the genes that are highly correlated with accessory genes strain-specific?"
   ]
  },
  {
   "cell_type": "code",
   "execution_count": 15,
   "metadata": {},
   "outputs": [],
   "source": [
    "real_corr_pao1 = real_expression_pao1.corr(method='pearson')"
   ]
  },
  {
   "cell_type": "code",
   "execution_count": 16,
   "metadata": {},
   "outputs": [],
   "source": [
    "# Get correlation of core-accessory genes\n",
    "real_core_acc_corr_pao1 = real_corr_pao1.loc[core_gene_ids, acc_gene_ids]"
   ]
  },
  {
   "cell_type": "code",
   "execution_count": 17,
   "metadata": {},
   "outputs": [],
   "source": [
    "# Reshape correlation data\n",
    "real_core_acc_corr_pao1 = real_core_acc_corr_pao1.where(\n",
    "    np.triu(\n",
    "        np.ones(real_core_acc_corr_pao1.shape), k=1).astype(np.bool))\n",
    "real_core_acc_corr_pao1 = real_core_acc_corr_pao1.stack().reset_index()\n",
    "real_core_acc_corr_pao1.columns = ['in gene','out gene','corr score']"
   ]
  },
  {
   "cell_type": "code",
   "execution_count": 18,
   "metadata": {
    "scrolled": true
   },
   "outputs": [
    {
     "name": "stdout",
     "output_type": "stream",
     "text": [
      "(4341, 3)\n"
     ]
    },
    {
     "data": {
      "text/html": [
       "<div>\n",
       "<style scoped>\n",
       "    .dataframe tbody tr th:only-of-type {\n",
       "        vertical-align: middle;\n",
       "    }\n",
       "\n",
       "    .dataframe tbody tr th {\n",
       "        vertical-align: top;\n",
       "    }\n",
       "\n",
       "    .dataframe thead th {\n",
       "        text-align: right;\n",
       "    }\n",
       "</style>\n",
       "<table border=\"1\" class=\"dataframe\">\n",
       "  <thead>\n",
       "    <tr style=\"text-align: right;\">\n",
       "      <th></th>\n",
       "      <th>in gene</th>\n",
       "      <th>out gene</th>\n",
       "      <th>corr score</th>\n",
       "    </tr>\n",
       "  </thead>\n",
       "  <tbody>\n",
       "    <tr>\n",
       "      <th>0</th>\n",
       "      <td>PA0001</td>\n",
       "      <td>PA0095</td>\n",
       "      <td>-0.795914</td>\n",
       "    </tr>\n",
       "    <tr>\n",
       "      <th>1</th>\n",
       "      <td>PA0001</td>\n",
       "      <td>PA0100</td>\n",
       "      <td>-0.906186</td>\n",
       "    </tr>\n",
       "    <tr>\n",
       "      <th>2</th>\n",
       "      <td>PA0001</td>\n",
       "      <td>PA0135</td>\n",
       "      <td>-0.830546</td>\n",
       "    </tr>\n",
       "    <tr>\n",
       "      <th>8</th>\n",
       "      <td>PA0001</td>\n",
       "      <td>PA0205</td>\n",
       "      <td>-0.515965</td>\n",
       "    </tr>\n",
       "    <tr>\n",
       "      <th>11</th>\n",
       "      <td>PA0001</td>\n",
       "      <td>PA0257</td>\n",
       "      <td>-0.905672</td>\n",
       "    </tr>\n",
       "  </tbody>\n",
       "</table>\n",
       "</div>"
      ],
      "text/plain": [
       "   in gene out gene  corr score\n",
       "0   PA0001   PA0095   -0.795914\n",
       "1   PA0001   PA0100   -0.906186\n",
       "2   PA0001   PA0135   -0.830546\n",
       "8   PA0001   PA0205   -0.515965\n",
       "11  PA0001   PA0257   -0.905672"
      ]
     },
     "execution_count": 18,
     "metadata": {},
     "output_type": "execute_result"
    }
   ],
   "source": [
    "# Get only highly correlated relationships\n",
    "highly_core_acc_corr_pao1 = real_core_acc_corr_pao1[real_core_acc_corr_pao1['corr score']<-0.5]\n",
    "\n",
    "print(highly_core_acc_corr_pao1.shape)\n",
    "highly_core_acc_corr_pao1.head()"
   ]
  },
  {
   "cell_type": "code",
   "execution_count": 19,
   "metadata": {},
   "outputs": [
    {
     "name": "stdout",
     "output_type": "stream",
     "text": [
      "377\n"
     ]
    }
   ],
   "source": [
    "# Get genes that are highly correlated in PAO1\n",
    "highly_core_acc_genes_pao1 = np.unique(np.concatenate([highly_core_acc_corr_pao1['in gene'].values,\n",
    "                                                       highly_core_acc_corr_pao1['out gene'].values]\n",
    "                                                )\n",
    "                                 )\n",
    "\n",
    "print(len(highly_core_acc_genes_pao1))"
   ]
  },
  {
   "cell_type": "code",
   "execution_count": 20,
   "metadata": {},
   "outputs": [],
   "source": [
    "# Get only accessory genes from core-acc relationships\n",
    "highly_core_Acc_genes_pao1 = set(highly_core_acc_genes_pao1).intersection(acc_gene_ids)"
   ]
  },
  {
   "cell_type": "code",
   "execution_count": 21,
   "metadata": {},
   "outputs": [],
   "source": [
    "# Create df components\n",
    "acc_gene_ids = []\n",
    "correlated_gene_ids = []\n",
    "corr_score = []\n",
    "\n",
    "for acc_gene in highly_core_Acc_genes_pao1:\n",
    "    rows_found = highly_core_acc_corr_pao1[(highly_core_acc_corr_pao1['in gene'] == acc_gene) | \n",
    "                          (highly_core_acc_corr_pao1['out gene'] == acc_gene)\n",
    "                         ]\n",
    "    if acc_gene in rows_found['in gene'].values:\n",
    "        col = 'in gene'\n",
    "        correlated_col = 'out gene'\n",
    "    else:\n",
    "        col = 'out gene'\n",
    "        correlated_col = 'in gene'\n",
    "        \n",
    "    acc_gene_ids.extend(rows_found[col].values)\n",
    "    correlated_gene_ids.extend(rows_found[correlated_col].values)\n",
    "    corr_score.extend(rows_found['corr score'].values)"
   ]
  },
  {
   "cell_type": "code",
   "execution_count": 22,
   "metadata": {},
   "outputs": [
    {
     "data": {
      "text/html": [
       "<div>\n",
       "<style scoped>\n",
       "    .dataframe tbody tr th:only-of-type {\n",
       "        vertical-align: middle;\n",
       "    }\n",
       "\n",
       "    .dataframe tbody tr th {\n",
       "        vertical-align: top;\n",
       "    }\n",
       "\n",
       "    .dataframe thead th {\n",
       "        text-align: right;\n",
       "    }\n",
       "</style>\n",
       "<table border=\"1\" class=\"dataframe\">\n",
       "  <thead>\n",
       "    <tr style=\"text-align: right;\">\n",
       "      <th></th>\n",
       "      <th>Accessory gene name</th>\n",
       "      <th>Correlated gene name</th>\n",
       "      <th>Correlation score</th>\n",
       "    </tr>\n",
       "  </thead>\n",
       "  <tbody>\n",
       "    <tr>\n",
       "      <th>4336</th>\n",
       "      <td>PA1150</td>\n",
       "      <td>PA0018</td>\n",
       "      <td>-0.767842</td>\n",
       "    </tr>\n",
       "    <tr>\n",
       "      <th>4337</th>\n",
       "      <td>PA1150</td>\n",
       "      <td>PA0019</td>\n",
       "      <td>-0.922655</td>\n",
       "    </tr>\n",
       "    <tr>\n",
       "      <th>4338</th>\n",
       "      <td>PA1150</td>\n",
       "      <td>PA0021</td>\n",
       "      <td>-0.740205</td>\n",
       "    </tr>\n",
       "    <tr>\n",
       "      <th>4339</th>\n",
       "      <td>PA1150</td>\n",
       "      <td>PA0024</td>\n",
       "      <td>-0.506168</td>\n",
       "    </tr>\n",
       "    <tr>\n",
       "      <th>4340</th>\n",
       "      <td>PA1150</td>\n",
       "      <td>PA0031</td>\n",
       "      <td>-0.678294</td>\n",
       "    </tr>\n",
       "  </tbody>\n",
       "</table>\n",
       "</div>"
      ],
      "text/plain": [
       "     Accessory gene name Correlated gene name  Correlation score\n",
       "4336              PA1150               PA0018          -0.767842\n",
       "4337              PA1150               PA0019          -0.922655\n",
       "4338              PA1150               PA0021          -0.740205\n",
       "4339              PA1150               PA0024          -0.506168\n",
       "4340              PA1150               PA0031          -0.678294"
      ]
     },
     "execution_count": 22,
     "metadata": {},
     "output_type": "execute_result"
    }
   ],
   "source": [
    "# Initialize df\n",
    "df = pd.DataFrame(data = {'Accessory gene name': acc_gene_ids,\n",
    "                          'Correlated gene name': correlated_gene_ids,\n",
    "                          'Correlation score': corr_score,\n",
    "    \n",
    "})\n",
    "df.tail()"
   ]
  },
  {
   "cell_type": "code",
   "execution_count": 23,
   "metadata": {},
   "outputs": [],
   "source": [
    "# Get paired relationship\n",
    "relationship = []\n",
    "for index, row in df.iterrows():\n",
    "    correlated_gene = row['Correlated gene name']\n",
    "    if correlated_gene in acc_gene_ids:\n",
    "        relationship.append('acc-acc')\n",
    "    else:\n",
    "        relationship.append('acc-core')"
   ]
  },
  {
   "cell_type": "code",
   "execution_count": 24,
   "metadata": {},
   "outputs": [
    {
     "data": {
      "text/html": [
       "<div>\n",
       "<style scoped>\n",
       "    .dataframe tbody tr th:only-of-type {\n",
       "        vertical-align: middle;\n",
       "    }\n",
       "\n",
       "    .dataframe tbody tr th {\n",
       "        vertical-align: top;\n",
       "    }\n",
       "\n",
       "    .dataframe thead th {\n",
       "        text-align: right;\n",
       "    }\n",
       "</style>\n",
       "<table border=\"1\" class=\"dataframe\">\n",
       "  <thead>\n",
       "    <tr style=\"text-align: right;\">\n",
       "      <th></th>\n",
       "      <th>Accessory gene name</th>\n",
       "      <th>Correlated gene name</th>\n",
       "      <th>Correlation score</th>\n",
       "      <th>Relationship</th>\n",
       "    </tr>\n",
       "  </thead>\n",
       "  <tbody>\n",
       "    <tr>\n",
       "      <th>0</th>\n",
       "      <td>PA3701</td>\n",
       "      <td>PA0008</td>\n",
       "      <td>-0.857459</td>\n",
       "      <td>acc-core</td>\n",
       "    </tr>\n",
       "    <tr>\n",
       "      <th>1</th>\n",
       "      <td>PA3701</td>\n",
       "      <td>PA0022</td>\n",
       "      <td>-0.654642</td>\n",
       "      <td>acc-core</td>\n",
       "    </tr>\n",
       "    <tr>\n",
       "      <th>2</th>\n",
       "      <td>PA3701</td>\n",
       "      <td>PA0023</td>\n",
       "      <td>-0.891241</td>\n",
       "      <td>acc-core</td>\n",
       "    </tr>\n",
       "    <tr>\n",
       "      <th>3</th>\n",
       "      <td>PA3701</td>\n",
       "      <td>PA0025</td>\n",
       "      <td>-0.654275</td>\n",
       "      <td>acc-core</td>\n",
       "    </tr>\n",
       "    <tr>\n",
       "      <th>4</th>\n",
       "      <td>PA3701</td>\n",
       "      <td>PA0026</td>\n",
       "      <td>-0.610651</td>\n",
       "      <td>acc-core</td>\n",
       "    </tr>\n",
       "  </tbody>\n",
       "</table>\n",
       "</div>"
      ],
      "text/plain": [
       "  Accessory gene name Correlated gene name  Correlation score Relationship\n",
       "0              PA3701               PA0008          -0.857459     acc-core\n",
       "1              PA3701               PA0022          -0.654642     acc-core\n",
       "2              PA3701               PA0023          -0.891241     acc-core\n",
       "3              PA3701               PA0025          -0.654275     acc-core\n",
       "4              PA3701               PA0026          -0.610651     acc-core"
      ]
     },
     "execution_count": 24,
     "metadata": {},
     "output_type": "execute_result"
    }
   ],
   "source": [
    "df['Relationship'] = relationship\n",
    "df.head()"
   ]
  },
  {
   "cell_type": "code",
   "execution_count": 25,
   "metadata": {},
   "outputs": [],
   "source": [
    "# Replace gene ids with gene names when available\n",
    "# Gene number to gene name file\n",
    "gene_name_file = os.path.join(\n",
    "    base_dir,\n",
    "    \"pilot_experiment\",\n",
    "    \"data\",\n",
    "    \"annotations\",\n",
    "    \"Pseudomonas_aeruginosa_PAO1_107.csv\")\n",
    "\n",
    "gene_name_mapping = pd.read_csv(\n",
    "    gene_name_file,\n",
    "    header=0,\n",
    "    sep=',',\n",
    "    index_col=0)"
   ]
  },
  {
   "cell_type": "code",
   "execution_count": 26,
   "metadata": {},
   "outputs": [
    {
     "data": {
      "text/html": [
       "<div>\n",
       "<style scoped>\n",
       "    .dataframe tbody tr th:only-of-type {\n",
       "        vertical-align: middle;\n",
       "    }\n",
       "\n",
       "    .dataframe tbody tr th {\n",
       "        vertical-align: top;\n",
       "    }\n",
       "\n",
       "    .dataframe thead th {\n",
       "        text-align: right;\n",
       "    }\n",
       "</style>\n",
       "<table border=\"1\" class=\"dataframe\">\n",
       "  <thead>\n",
       "    <tr style=\"text-align: right;\">\n",
       "      <th></th>\n",
       "      <th>Name</th>\n",
       "    </tr>\n",
       "    <tr>\n",
       "      <th>Locus Tag</th>\n",
       "      <th></th>\n",
       "    </tr>\n",
       "  </thead>\n",
       "  <tbody>\n",
       "    <tr>\n",
       "      <th>PA0001</th>\n",
       "      <td>dnaA</td>\n",
       "    </tr>\n",
       "    <tr>\n",
       "      <th>PA0002</th>\n",
       "      <td>dnaN</td>\n",
       "    </tr>\n",
       "    <tr>\n",
       "      <th>PA0003</th>\n",
       "      <td>recF</td>\n",
       "    </tr>\n",
       "    <tr>\n",
       "      <th>PA0004</th>\n",
       "      <td>gyrB</td>\n",
       "    </tr>\n",
       "    <tr>\n",
       "      <th>PA0005</th>\n",
       "      <td>lptA</td>\n",
       "    </tr>\n",
       "  </tbody>\n",
       "</table>\n",
       "</div>"
      ],
      "text/plain": [
       "           Name\n",
       "Locus Tag      \n",
       "PA0001     dnaA\n",
       "PA0002     dnaN\n",
       "PA0003     recF\n",
       "PA0004     gyrB\n",
       "PA0005     lptA"
      ]
     },
     "execution_count": 26,
     "metadata": {},
     "output_type": "execute_result"
    }
   ],
   "source": [
    "# Format gene id\n",
    "gene_name_mapping = gene_name_mapping[[\"Locus Tag\", \"Name\"]]\n",
    "\n",
    "gene_name_mapping.set_index(\"Locus Tag\", inplace=True)\n",
    "gene_name_mapping.index = gene_name_mapping.index.str.strip(\"\\\"\")\n",
    "gene_name_mapping.head()"
   ]
  },
  {
   "cell_type": "code",
   "execution_count": 27,
   "metadata": {},
   "outputs": [],
   "source": [
    "# Create dictionary to use for mapping\n",
    "gene_name_mapping_dict = gene_name_mapping.T.to_dict('index')\n",
    "gene_name_mapping_dict = gene_name_mapping_dict['Name']"
   ]
  },
  {
   "cell_type": "markdown",
   "metadata": {},
   "source": [
    "This table contains the following columns:\n",
    "1. All accessory genes that are highly correlated with either a core or accessory gene\n",
    "2. What gene that accessory gene is correlated with\n",
    "3. What the correlation score is\n",
    "4. If the relationship is accessory-core or accessory-accessory"
   ]
  },
  {
   "cell_type": "code",
   "execution_count": 28,
   "metadata": {},
   "outputs": [
    {
     "data": {
      "text/html": [
       "<div>\n",
       "<style scoped>\n",
       "    .dataframe tbody tr th:only-of-type {\n",
       "        vertical-align: middle;\n",
       "    }\n",
       "\n",
       "    .dataframe tbody tr th {\n",
       "        vertical-align: top;\n",
       "    }\n",
       "\n",
       "    .dataframe thead th {\n",
       "        text-align: right;\n",
       "    }\n",
       "</style>\n",
       "<table border=\"1\" class=\"dataframe\">\n",
       "  <thead>\n",
       "    <tr style=\"text-align: right;\">\n",
       "      <th></th>\n",
       "      <th>Accessory gene name</th>\n",
       "      <th>Correlated gene name</th>\n",
       "      <th>Correlation score</th>\n",
       "      <th>Relationship</th>\n",
       "    </tr>\n",
       "  </thead>\n",
       "  <tbody>\n",
       "    <tr>\n",
       "      <th>0</th>\n",
       "      <td>peptide chain release factor 2(prfB)</td>\n",
       "      <td>glyS</td>\n",
       "      <td>-0.857459</td>\n",
       "      <td>acc-core</td>\n",
       "    </tr>\n",
       "    <tr>\n",
       "      <th>1</th>\n",
       "      <td>peptide chain release factor 2(prfB)</td>\n",
       "      <td>PA0022</td>\n",
       "      <td>-0.654642</td>\n",
       "      <td>acc-core</td>\n",
       "    </tr>\n",
       "    <tr>\n",
       "      <th>2</th>\n",
       "      <td>peptide chain release factor 2(prfB)</td>\n",
       "      <td>qor</td>\n",
       "      <td>-0.891241</td>\n",
       "      <td>acc-core</td>\n",
       "    </tr>\n",
       "    <tr>\n",
       "      <th>3</th>\n",
       "      <td>peptide chain release factor 2(prfB)</td>\n",
       "      <td>aroE</td>\n",
       "      <td>-0.654275</td>\n",
       "      <td>acc-core</td>\n",
       "    </tr>\n",
       "    <tr>\n",
       "      <th>4</th>\n",
       "      <td>peptide chain release factor 2(prfB)</td>\n",
       "      <td>plcB</td>\n",
       "      <td>-0.610651</td>\n",
       "      <td>acc-core</td>\n",
       "    </tr>\n",
       "  </tbody>\n",
       "</table>\n",
       "</div>"
      ],
      "text/plain": [
       "                    Accessory gene name Correlated gene name  \\\n",
       "0  peptide chain release factor 2(prfB)                 glyS   \n",
       "1  peptide chain release factor 2(prfB)               PA0022   \n",
       "2  peptide chain release factor 2(prfB)                  qor   \n",
       "3  peptide chain release factor 2(prfB)                 aroE   \n",
       "4  peptide chain release factor 2(prfB)                 plcB   \n",
       "\n",
       "   Correlation score Relationship  \n",
       "0          -0.857459     acc-core  \n",
       "1          -0.654642     acc-core  \n",
       "2          -0.891241     acc-core  \n",
       "3          -0.654275     acc-core  \n",
       "4          -0.610651     acc-core  "
      ]
     },
     "execution_count": 28,
     "metadata": {},
     "output_type": "execute_result"
    }
   ],
   "source": [
    "# Replace gene ids with gene names\n",
    "df['Accessory gene name'] = df['Accessory gene name'].map(gene_name_mapping_dict).fillna(df['Accessory gene name'])\n",
    "df['Correlated gene name'] = df['Correlated gene name'].map(gene_name_mapping_dict).fillna(df['Correlated gene name'])\n",
    "df.head()"
   ]
  },
  {
   "cell_type": "code",
   "execution_count": 29,
   "metadata": {},
   "outputs": [
    {
     "data": {
      "text/html": [
       "<div>\n",
       "<style scoped>\n",
       "    .dataframe tbody tr th:only-of-type {\n",
       "        vertical-align: middle;\n",
       "    }\n",
       "\n",
       "    .dataframe tbody tr th {\n",
       "        vertical-align: top;\n",
       "    }\n",
       "\n",
       "    .dataframe thead th {\n",
       "        text-align: right;\n",
       "    }\n",
       "</style>\n",
       "<table border=\"1\" class=\"dataframe\">\n",
       "  <thead>\n",
       "    <tr style=\"text-align: right;\">\n",
       "      <th></th>\n",
       "      <th>Accessory gene name</th>\n",
       "      <th>Correlated gene name</th>\n",
       "      <th>Correlation score</th>\n",
       "      <th>Relationship</th>\n",
       "    </tr>\n",
       "  </thead>\n",
       "  <tbody>\n",
       "    <tr>\n",
       "      <th>4336</th>\n",
       "      <td>pys2</td>\n",
       "      <td>fmt</td>\n",
       "      <td>-0.767842</td>\n",
       "      <td>acc-core</td>\n",
       "    </tr>\n",
       "    <tr>\n",
       "      <th>4337</th>\n",
       "      <td>pys2</td>\n",
       "      <td>def</td>\n",
       "      <td>-0.922655</td>\n",
       "      <td>acc-core</td>\n",
       "    </tr>\n",
       "    <tr>\n",
       "      <th>4338</th>\n",
       "      <td>pys2</td>\n",
       "      <td>PA0021</td>\n",
       "      <td>-0.740205</td>\n",
       "      <td>acc-core</td>\n",
       "    </tr>\n",
       "    <tr>\n",
       "      <th>4339</th>\n",
       "      <td>pys2</td>\n",
       "      <td>hemF</td>\n",
       "      <td>-0.506168</td>\n",
       "      <td>acc-core</td>\n",
       "    </tr>\n",
       "    <tr>\n",
       "      <th>4340</th>\n",
       "      <td>pys2</td>\n",
       "      <td>betC</td>\n",
       "      <td>-0.678294</td>\n",
       "      <td>acc-core</td>\n",
       "    </tr>\n",
       "  </tbody>\n",
       "</table>\n",
       "</div>"
      ],
      "text/plain": [
       "     Accessory gene name Correlated gene name  Correlation score Relationship\n",
       "4336                pys2                  fmt          -0.767842     acc-core\n",
       "4337                pys2                  def          -0.922655     acc-core\n",
       "4338                pys2               PA0021          -0.740205     acc-core\n",
       "4339                pys2                 hemF          -0.506168     acc-core\n",
       "4340                pys2                 betC          -0.678294     acc-core"
      ]
     },
     "execution_count": 29,
     "metadata": {},
     "output_type": "execute_result"
    }
   ],
   "source": [
    "df.tail()"
   ]
  },
  {
   "cell_type": "code",
   "execution_count": 30,
   "metadata": {},
   "outputs": [],
   "source": [
    "# Save\n",
    "output_file = os.path.join(\n",
    "    local_dir,\n",
    "    \"Data\",\n",
    "    \"Core_accessory\",\n",
    "    \"highly_corr_accessory_genes.csv\")\n",
    "\n",
    "df.to_csv(output_file, sep='\\t', index=False)"
   ]
  },
  {
   "cell_type": "code",
   "execution_count": 31,
   "metadata": {},
   "outputs": [
    {
     "name": "stdout",
     "output_type": "stream",
     "text": [
      "Accessory genes highly correlated with other accessory and core genes:  187\n",
      "Accessory genes highly correlated with only core genes:  1\n",
      "Accessory genes highly correlated with only accessory genes:  12\n"
     ]
    }
   ],
   "source": [
    "# Get counts\n",
    "shared_acc_genes = set(highly_acc_genes_pao1).intersection(set(highly_core_Acc_genes_pao1))\n",
    "core_acc_genes = set(highly_core_Acc_genes_pao1).difference(set(highly_acc_genes_pao1))\n",
    "acc_genes = set(highly_acc_genes_pao1).difference(set(highly_core_Acc_genes_pao1))\n",
    "\n",
    "print(\"Accessory genes highly correlated with other accessory and core genes: \", len(shared_acc_genes))\n",
    "print(\"Accessory genes highly correlated with only core genes: \", len(core_acc_genes))\n",
    "print(\"Accessory genes highly correlated with only accessory genes: \", len(acc_genes))"
   ]
  },
  {
   "cell_type": "code",
   "execution_count": 32,
   "metadata": {},
   "outputs": [
    {
     "data": {
      "image/png": "[encoded data removed]",
      "text/plain": [
       "<Figure size 432x288 with 1 Axes>"
      ]
     },
     "metadata": {},
     "output_type": "display_data"
    }
   ],
   "source": [
    "venn2([set(highly_core_Acc_genes_pao1), set(highly_acc_genes_pao1)],\n",
    "      set_labels = ('highly correlated with core', 'highly correlated with acc'),\n",
    "      set_colors=('red', 'green'),\n",
    "      alpha=0.5\n",
    "     )\n",
    "plt.show()"
   ]
  },
  {
   "cell_type": "markdown",
   "metadata": {},
   "source": [
    "**Observation:** Given the set of all accessory genes that are highly correlated with other accessory genes (correlation score > 0.5), all except 2 accessory genes are highly correlated in PAO1 samples and PA14 samples. There are two accessory gene that are only highly correlated in PA14 strains.\n",
    "\n",
    "*Note:* For this analysis we are ignorning which gene pair has a high score and focused on if the gene is highly correlated to any accessory gene. This is why we have generated the dataframe to tell us more about who is connected to who."
   ]
  },
  {
   "cell_type": "markdown",
   "metadata": {},
   "source": [
    "## Examine expression of genes per group\n",
    "**Question**\n",
    "Is the reason for this shift because the accessory genes are absent? In other words, is the expression values for ALL accessory genes very low in across samples and so that is why they are all very correlated?"
   ]
  },
  {
   "cell_type": "code",
   "execution_count": 33,
   "metadata": {},
   "outputs": [],
   "source": [
    "# Get mean, max, min expression per core gene\n",
    "mean_real_core_expression = real_core_expression_pa14.mean()\n",
    "max_real_core_expression = real_core_expression_pa14.max()\n",
    "min_real_core_expression = real_core_expression_pa14.min()"
   ]
  },
  {
   "cell_type": "code",
   "execution_count": 34,
   "metadata": {},
   "outputs": [],
   "source": [
    "# Get mean, max, min expression per accessory gene\n",
    "mean_real_acc_expression = real_acc_expression_pa14.mean()\n",
    "max_real_acc_expression = real_acc_expression_pa14.max()\n",
    "min_real_acc_expression = real_acc_expression_pa14.min()"
   ]
  },
  {
   "cell_type": "code",
   "execution_count": 35,
   "metadata": {},
   "outputs": [
    {
     "data": {
      "text/plain": [
       "Text(0.5, 0, 'Mean gene expression')"
      ]
     },
     "execution_count": 35,
     "metadata": {},
     "output_type": "execute_result"
    },
    {
     "data": {
      "image/png": "[encoded data removed]",
      "text/plain": [
       "<Figure size 432x288 with 1 Axes>"
      ]
     },
     "metadata": {
      "needs_background": "light"
     },
     "output_type": "display_data"
    }
   ],
   "source": [
    "# Distribution plot for core genes\n",
    "sns.distplot(mean_real_core_expression, \n",
    "             label='core', \n",
    "             color='red',\n",
    "             hist = False, \n",
    "             kde = True,\n",
    "             kde_kws = {'shade': True}\n",
    "            )\n",
    "\n",
    "sns.distplot(mean_real_acc_expression,\n",
    "             label='accessory',\n",
    "             color='blue',\n",
    "             hist = False, \n",
    "             kde = True,\n",
    "             kde_kws = {'shade': True}\n",
    "            )\n",
    "\n",
    "plt.legend(prop={'size': 12})\n",
    "plt.title('Probability density of mean gene expression (PA14 data)',\n",
    "         fontsize=16)\n",
    "plt.ylabel('Probability Density', fontsize=14)\n",
    "plt.xlabel('Mean gene expression', fontsize=14)"
   ]
  },
  {
   "cell_type": "code",
   "execution_count": 36,
   "metadata": {},
   "outputs": [
    {
     "data": {
      "image/png": "[encoded data removed]",
      "text/plain": [
       "<Figure size 432x432 with 2 Axes>"
      ]
     },
     "metadata": {
      "needs_background": "light"
     },
     "output_type": "display_data"
    }
   ],
   "source": [
    "# Get bins using all data\n",
    "hist, bins_expression = np.histogram(np.concatenate([mean_real_core_expression,\n",
    "                                              mean_real_acc_expression]))\n",
    "\n",
    "\n",
    "# Set up the matplotlib figure\n",
    "fig, axes = plt.subplots(ncols=2, nrows=1, figsize=(6,6))\n",
    "\n",
    "# Distribution plot for core genes\n",
    "sns.distplot(mean_real_core_expression, \n",
    "             label='core', \n",
    "             color='red',\n",
    "             bins=bins_expression,\n",
    "             kde=False,\n",
    "             ax=axes[0]\n",
    "            )\n",
    "\n",
    "sns.distplot(mean_real_acc_expression,\n",
    "             label='accessory',\n",
    "             color='blue',\n",
    "             bins=bins_expression,\n",
    "             kde=False,\n",
    "             ax=axes[1]\n",
    "            )\n",
    "\n",
    "plt.suptitle('Histogram of gene expression per group (PA14 data)',\n",
    "            fontsize=16)\n",
    "axes[0].set_title('Core-Core')\n",
    "axes[1].set_title('Accessory-Accessory')\n",
    "fig.text(0.5, 0.01, 'Gene expression', ha='center', fontsize=14)\n",
    "fig.text(0.01, 0.5, 'Count', ha='center', rotation=90, fontsize=14)\n",
    "plt.tight_layout(pad=0.4, \n",
    "                 w_pad=0.5,\n",
    "                 h_pad=1.0,\n",
    "                 rect=[0, 0.03, 1, 0.95])"
   ]
  },
  {
   "cell_type": "markdown",
   "metadata": {},
   "source": [
    "**Take away**:\n",
    "* If high corr(acc, acc) was due to gene absence, then I would’ve expected the average expression of accessory genes to be tightly spread near 0. But instead we see that average gene expression of accessory genes is similar to the core gene expression, even using only PA14 strains\n",
    "* What can explain this? "
   ]
  }
 ],
 "metadata": {
  "kernelspec": {
   "display_name": "Python [conda env:core_acc] *",
   "language": "python",
   "name": "conda-env-core_acc-py"
  },
  "language_info": {
   "codemirror_mode": {
    "name": "ipython",
    "version": 3
   },
   "file_extension": ".py",
   "mimetype": "text/x-python",
   "name": "python",
   "nbconvert_exporter": "python",
   "pygments_lexer": "ipython3",
   "version": "3.7.6"
  }
 },
 "nbformat": 4,
 "nbformat_minor": 4
}