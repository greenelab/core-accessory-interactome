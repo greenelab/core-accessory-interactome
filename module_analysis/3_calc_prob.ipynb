{
 "cells": [
  {
   "cell_type": "markdown",
   "id": "f1c0b0ec",
   "metadata": {},
   "source": [
    "# Calculate conditional probability\n",
    "\n",
    "Now that we have labels for which module is mostly core, mostly accessory or mixed, we can ask our original question: How is the expression of different gene groups coordinated? Specifically we can ask: Are accessory genes more likely to be co-expressed with other accessory genes?\n",
    "\n",
    "To answer this we can calculate the following conditional probability:\n",
    "$$\n",
    "Pr(\\text{gene x in an acc module | gene x is acc gene}) = \\frac{Pr(\\text{gene x in acc module}\\cap \\text{gene x is acc gene})}{Pr(\\text{gene x is acc gene})}\n",
    "$$\n",
    "\n",
    "A similar probability can be calculated for core genes co-expressed with other core genes."
   ]
  },
  {
   "cell_type": "code",
   "execution_count": 1,
   "id": "b715227d",
   "metadata": {},
   "outputs": [],
   "source": [
    "%load_ext autoreload\n",
    "%autoreload 2\n",
    "%matplotlib inline\n",
    "import os\n",
    "import pandas as pd\n",
    "import numpy as np\n",
    "from core_acc_modules import utils, paths"
   ]
  },
  {
   "cell_type": "code",
   "execution_count": 2,
   "id": "e1862f7a",
   "metadata": {},
   "outputs": [],
   "source": [
    "# User params\n",
    "method = \"affinity\""
   ]
  },
  {
   "cell_type": "code",
   "execution_count": 3,
   "id": "1bab71ea",
   "metadata": {},
   "outputs": [],
   "source": [
    "# Import module memberships -- import annotated df\n",
    "pao1_membership_filename = os.path.join(\n",
    "    paths.LOCAL_DATA_DIR, f\"pao1_gene_module_annotated_{method}.tsv\"\n",
    ")\n",
    "pa14_membership_filename = os.path.join(\n",
    "    paths.LOCAL_DATA_DIR, f\"pa14_gene_module_annotated_{method}.tsv\"\n",
    ")\n",
    "\n",
    "pao1_membership = pd.read_csv(pao1_membership_filename, sep=\"\\t\", index_col=0, header=0)\n",
    "pa14_membership = pd.read_csv(pa14_membership_filename, sep=\"\\t\", index_col=0, header=0)"
   ]
  },
  {
   "cell_type": "code",
   "execution_count": 4,
   "id": "e847af92",
   "metadata": {},
   "outputs": [
    {
     "data": {
      "text/html": [
       "<div>\n",
       "<style scoped>\n",
       "    .dataframe tbody tr th:only-of-type {\n",
       "        vertical-align: middle;\n",
       "    }\n",
       "\n",
       "    .dataframe tbody tr th {\n",
       "        vertical-align: top;\n",
       "    }\n",
       "\n",
       "    .dataframe thead th {\n",
       "        text-align: right;\n",
       "    }\n",
       "</style>\n",
       "<table border=\"1\" class=\"dataframe\">\n",
       "  <thead>\n",
       "    <tr style=\"text-align: right;\">\n",
       "      <th></th>\n",
       "      <th>module id</th>\n",
       "      <th>num core</th>\n",
       "      <th>num acc</th>\n",
       "      <th>odds ratio</th>\n",
       "      <th>p-value</th>\n",
       "      <th>module label</th>\n",
       "      <th>num core in module</th>\n",
       "      <th>num acc in module</th>\n",
       "      <th>num core outside module</th>\n",
       "      <th>num acc outside module</th>\n",
       "      <th>...</th>\n",
       "      <th>PqsR_regulon</th>\n",
       "      <th>QscR_regulon</th>\n",
       "      <th>VreI_regulon</th>\n",
       "      <th>Zur_regulon</th>\n",
       "      <th>Anr_short_list</th>\n",
       "      <th>PhoB_short_list</th>\n",
       "      <th>AlgU_short_list</th>\n",
       "      <th>LasR_short_list</th>\n",
       "      <th>RhlR_short_list</th>\n",
       "      <th>PqsR_short_list</th>\n",
       "    </tr>\n",
       "  </thead>\n",
       "  <tbody>\n",
       "    <tr>\n",
       "      <th>PA0001</th>\n",
       "      <td>415</td>\n",
       "      <td>NaN</td>\n",
       "      <td>NaN</td>\n",
       "      <td>0.493271</td>\n",
       "      <td>0.407427</td>\n",
       "      <td>mixed</td>\n",
       "      <td>12.0</td>\n",
       "      <td>0.0</td>\n",
       "      <td>5349.0</td>\n",
       "      <td>202.0</td>\n",
       "      <td>...</td>\n",
       "      <td>False</td>\n",
       "      <td>False</td>\n",
       "      <td>False</td>\n",
       "      <td>False</td>\n",
       "      <td>False</td>\n",
       "      <td>False</td>\n",
       "      <td>False</td>\n",
       "      <td>False</td>\n",
       "      <td>False</td>\n",
       "      <td>False</td>\n",
       "    </tr>\n",
       "    <tr>\n",
       "      <th>PA0006</th>\n",
       "      <td>415</td>\n",
       "      <td>NaN</td>\n",
       "      <td>NaN</td>\n",
       "      <td>0.493271</td>\n",
       "      <td>0.407427</td>\n",
       "      <td>mixed</td>\n",
       "      <td>12.0</td>\n",
       "      <td>0.0</td>\n",
       "      <td>5349.0</td>\n",
       "      <td>202.0</td>\n",
       "      <td>...</td>\n",
       "      <td>False</td>\n",
       "      <td>False</td>\n",
       "      <td>False</td>\n",
       "      <td>False</td>\n",
       "      <td>False</td>\n",
       "      <td>False</td>\n",
       "      <td>False</td>\n",
       "      <td>False</td>\n",
       "      <td>False</td>\n",
       "      <td>False</td>\n",
       "    </tr>\n",
       "    <tr>\n",
       "      <th>PA1440</th>\n",
       "      <td>415</td>\n",
       "      <td>NaN</td>\n",
       "      <td>NaN</td>\n",
       "      <td>0.493271</td>\n",
       "      <td>0.407427</td>\n",
       "      <td>mixed</td>\n",
       "      <td>12.0</td>\n",
       "      <td>0.0</td>\n",
       "      <td>5349.0</td>\n",
       "      <td>202.0</td>\n",
       "      <td>...</td>\n",
       "      <td>False</td>\n",
       "      <td>False</td>\n",
       "      <td>False</td>\n",
       "      <td>False</td>\n",
       "      <td>False</td>\n",
       "      <td>False</td>\n",
       "      <td>False</td>\n",
       "      <td>False</td>\n",
       "      <td>False</td>\n",
       "      <td>False</td>\n",
       "    </tr>\n",
       "    <tr>\n",
       "      <th>PA1544</th>\n",
       "      <td>415</td>\n",
       "      <td>NaN</td>\n",
       "      <td>NaN</td>\n",
       "      <td>0.493271</td>\n",
       "      <td>0.407427</td>\n",
       "      <td>mixed</td>\n",
       "      <td>12.0</td>\n",
       "      <td>0.0</td>\n",
       "      <td>5349.0</td>\n",
       "      <td>202.0</td>\n",
       "      <td>...</td>\n",
       "      <td>False</td>\n",
       "      <td>False</td>\n",
       "      <td>False</td>\n",
       "      <td>False</td>\n",
       "      <td>False</td>\n",
       "      <td>False</td>\n",
       "      <td>False</td>\n",
       "      <td>False</td>\n",
       "      <td>False</td>\n",
       "      <td>False</td>\n",
       "    </tr>\n",
       "    <tr>\n",
       "      <th>PA1741</th>\n",
       "      <td>415</td>\n",
       "      <td>NaN</td>\n",
       "      <td>NaN</td>\n",
       "      <td>0.493271</td>\n",
       "      <td>0.407427</td>\n",
       "      <td>mixed</td>\n",
       "      <td>12.0</td>\n",
       "      <td>0.0</td>\n",
       "      <td>5349.0</td>\n",
       "      <td>202.0</td>\n",
       "      <td>...</td>\n",
       "      <td>False</td>\n",
       "      <td>False</td>\n",
       "      <td>False</td>\n",
       "      <td>False</td>\n",
       "      <td>False</td>\n",
       "      <td>False</td>\n",
       "      <td>False</td>\n",
       "      <td>False</td>\n",
       "      <td>False</td>\n",
       "      <td>False</td>\n",
       "    </tr>\n",
       "  </tbody>\n",
       "</table>\n",
       "<p>5 rows × 1339 columns</p>\n",
       "</div>"
      ],
      "text/plain": [
       "        module id  num core  num acc  odds ratio   p-value module label  \\\n",
       "PA0001        415       NaN      NaN    0.493271  0.407427        mixed   \n",
       "PA0006        415       NaN      NaN    0.493271  0.407427        mixed   \n",
       "PA1440        415       NaN      NaN    0.493271  0.407427        mixed   \n",
       "PA1544        415       NaN      NaN    0.493271  0.407427        mixed   \n",
       "PA1741        415       NaN      NaN    0.493271  0.407427        mixed   \n",
       "\n",
       "        num core in module  num acc in module  num core outside module  \\\n",
       "PA0001                12.0                0.0                   5349.0   \n",
       "PA0006                12.0                0.0                   5349.0   \n",
       "PA1440                12.0                0.0                   5349.0   \n",
       "PA1544                12.0                0.0                   5349.0   \n",
       "PA1741                12.0                0.0                   5349.0   \n",
       "\n",
       "        num acc outside module  ...  PqsR_regulon  QscR_regulon  VreI_regulon  \\\n",
       "PA0001                   202.0  ...         False         False         False   \n",
       "PA0006                   202.0  ...         False         False         False   \n",
       "PA1440                   202.0  ...         False         False         False   \n",
       "PA1544                   202.0  ...         False         False         False   \n",
       "PA1741                   202.0  ...         False         False         False   \n",
       "\n",
       "       Zur_regulon  Anr_short_list  PhoB_short_list  AlgU_short_list  \\\n",
       "PA0001       False           False            False            False   \n",
       "PA0006       False           False            False            False   \n",
       "PA1440       False           False            False            False   \n",
       "PA1544       False           False            False            False   \n",
       "PA1741       False           False            False            False   \n",
       "\n",
       "        LasR_short_list  RhlR_short_list  PqsR_short_list  \n",
       "PA0001            False            False            False  \n",
       "PA0006            False            False            False  \n",
       "PA1440            False            False            False  \n",
       "PA1544            False            False            False  \n",
       "PA1741            False            False            False  \n",
       "\n",
       "[5 rows x 1339 columns]"
      ]
     },
     "execution_count": 4,
     "metadata": {},
     "output_type": "execute_result"
    }
   ],
   "source": [
    "pao1_membership.head()"
   ]
  },
  {
   "cell_type": "code",
   "execution_count": 5,
   "id": "07b81413",
   "metadata": {
    "scrolled": true
   },
   "outputs": [
    {
     "data": {
      "text/html": [
       "<div>\n",
       "<style scoped>\n",
       "    .dataframe tbody tr th:only-of-type {\n",
       "        vertical-align: middle;\n",
       "    }\n",
       "\n",
       "    .dataframe tbody tr th {\n",
       "        vertical-align: top;\n",
       "    }\n",
       "\n",
       "    .dataframe thead th {\n",
       "        text-align: right;\n",
       "    }\n",
       "</style>\n",
       "<table border=\"1\" class=\"dataframe\">\n",
       "  <thead>\n",
       "    <tr style=\"text-align: right;\">\n",
       "      <th></th>\n",
       "      <th>module id</th>\n",
       "      <th>num core</th>\n",
       "      <th>num acc</th>\n",
       "      <th>odds ratio</th>\n",
       "      <th>p-value</th>\n",
       "      <th>module label</th>\n",
       "      <th>num core in module</th>\n",
       "      <th>num acc in module</th>\n",
       "      <th>num core outside module</th>\n",
       "      <th>num acc outside module</th>\n",
       "      <th>...</th>\n",
       "      <th>PqsR_regulon</th>\n",
       "      <th>QscR_regulon</th>\n",
       "      <th>VreI_regulon</th>\n",
       "      <th>Zur_regulon</th>\n",
       "      <th>Anr_short_list</th>\n",
       "      <th>PhoB_short_list</th>\n",
       "      <th>AlgU_short_list</th>\n",
       "      <th>LasR_short_list</th>\n",
       "      <th>RhlR_short_list</th>\n",
       "      <th>PqsR_short_list</th>\n",
       "    </tr>\n",
       "  </thead>\n",
       "  <tbody>\n",
       "    <tr>\n",
       "      <th>PA14_00010</th>\n",
       "      <td>537</td>\n",
       "      <td>NaN</td>\n",
       "      <td>NaN</td>\n",
       "      <td>0.900000</td>\n",
       "      <td>1.000000</td>\n",
       "      <td>mixed</td>\n",
       "      <td>8.0</td>\n",
       "      <td>0.0</td>\n",
       "      <td>5349.0</td>\n",
       "      <td>534.0</td>\n",
       "      <td>...</td>\n",
       "      <td>False</td>\n",
       "      <td>False</td>\n",
       "      <td>False</td>\n",
       "      <td>False</td>\n",
       "      <td>False</td>\n",
       "      <td>False</td>\n",
       "      <td>False</td>\n",
       "      <td>False</td>\n",
       "      <td>False</td>\n",
       "      <td>False</td>\n",
       "    </tr>\n",
       "    <tr>\n",
       "      <th>PA14_00020</th>\n",
       "      <td>537</td>\n",
       "      <td>NaN</td>\n",
       "      <td>NaN</td>\n",
       "      <td>0.900000</td>\n",
       "      <td>1.000000</td>\n",
       "      <td>mixed</td>\n",
       "      <td>8.0</td>\n",
       "      <td>0.0</td>\n",
       "      <td>5349.0</td>\n",
       "      <td>534.0</td>\n",
       "      <td>...</td>\n",
       "      <td>False</td>\n",
       "      <td>False</td>\n",
       "      <td>False</td>\n",
       "      <td>False</td>\n",
       "      <td>False</td>\n",
       "      <td>False</td>\n",
       "      <td>False</td>\n",
       "      <td>False</td>\n",
       "      <td>False</td>\n",
       "      <td>False</td>\n",
       "    </tr>\n",
       "    <tr>\n",
       "      <th>PA14_00030</th>\n",
       "      <td>537</td>\n",
       "      <td>NaN</td>\n",
       "      <td>NaN</td>\n",
       "      <td>0.900000</td>\n",
       "      <td>1.000000</td>\n",
       "      <td>mixed</td>\n",
       "      <td>8.0</td>\n",
       "      <td>0.0</td>\n",
       "      <td>5349.0</td>\n",
       "      <td>534.0</td>\n",
       "      <td>...</td>\n",
       "      <td>False</td>\n",
       "      <td>False</td>\n",
       "      <td>False</td>\n",
       "      <td>False</td>\n",
       "      <td>False</td>\n",
       "      <td>False</td>\n",
       "      <td>False</td>\n",
       "      <td>False</td>\n",
       "      <td>False</td>\n",
       "      <td>False</td>\n",
       "    </tr>\n",
       "    <tr>\n",
       "      <th>PA14_00050</th>\n",
       "      <td>252</td>\n",
       "      <td>NaN</td>\n",
       "      <td>NaN</td>\n",
       "      <td>0.799850</td>\n",
       "      <td>0.576226</td>\n",
       "      <td>mixed</td>\n",
       "      <td>7.0</td>\n",
       "      <td>0.0</td>\n",
       "      <td>5350.0</td>\n",
       "      <td>534.0</td>\n",
       "      <td>...</td>\n",
       "      <td>False</td>\n",
       "      <td>False</td>\n",
       "      <td>False</td>\n",
       "      <td>False</td>\n",
       "      <td>False</td>\n",
       "      <td>False</td>\n",
       "      <td>False</td>\n",
       "      <td>False</td>\n",
       "      <td>False</td>\n",
       "      <td>False</td>\n",
       "    </tr>\n",
       "    <tr>\n",
       "      <th>PA14_00060</th>\n",
       "      <td>276</td>\n",
       "      <td>NaN</td>\n",
       "      <td>NaN</td>\n",
       "      <td>1.201125</td>\n",
       "      <td>1.000000</td>\n",
       "      <td>mixed</td>\n",
       "      <td>23.0</td>\n",
       "      <td>1.0</td>\n",
       "      <td>5334.0</td>\n",
       "      <td>533.0</td>\n",
       "      <td>...</td>\n",
       "      <td>False</td>\n",
       "      <td>False</td>\n",
       "      <td>False</td>\n",
       "      <td>False</td>\n",
       "      <td>False</td>\n",
       "      <td>False</td>\n",
       "      <td>False</td>\n",
       "      <td>False</td>\n",
       "      <td>False</td>\n",
       "      <td>False</td>\n",
       "    </tr>\n",
       "  </tbody>\n",
       "</table>\n",
       "<p>5 rows × 1339 columns</p>\n",
       "</div>"
      ],
      "text/plain": [
       "            module id  num core  num acc  odds ratio   p-value module label  \\\n",
       "PA14_00010        537       NaN      NaN    0.900000  1.000000        mixed   \n",
       "PA14_00020        537       NaN      NaN    0.900000  1.000000        mixed   \n",
       "PA14_00030        537       NaN      NaN    0.900000  1.000000        mixed   \n",
       "PA14_00050        252       NaN      NaN    0.799850  0.576226        mixed   \n",
       "PA14_00060        276       NaN      NaN    1.201125  1.000000        mixed   \n",
       "\n",
       "            num core in module  num acc in module  num core outside module  \\\n",
       "PA14_00010                 8.0                0.0                   5349.0   \n",
       "PA14_00020                 8.0                0.0                   5349.0   \n",
       "PA14_00030                 8.0                0.0                   5349.0   \n",
       "PA14_00050                 7.0                0.0                   5350.0   \n",
       "PA14_00060                23.0                1.0                   5334.0   \n",
       "\n",
       "            num acc outside module  ...  PqsR_regulon  QscR_regulon  \\\n",
       "PA14_00010                   534.0  ...         False         False   \n",
       "PA14_00020                   534.0  ...         False         False   \n",
       "PA14_00030                   534.0  ...         False         False   \n",
       "PA14_00050                   534.0  ...         False         False   \n",
       "PA14_00060                   533.0  ...         False         False   \n",
       "\n",
       "            VreI_regulon Zur_regulon Anr_short_list PhoB_short_list  \\\n",
       "PA14_00010         False       False          False           False   \n",
       "PA14_00020         False       False          False           False   \n",
       "PA14_00030         False       False          False           False   \n",
       "PA14_00050         False       False          False           False   \n",
       "PA14_00060         False       False          False           False   \n",
       "\n",
       "           AlgU_short_list LasR_short_list RhlR_short_list PqsR_short_list  \n",
       "PA14_00010           False           False           False           False  \n",
       "PA14_00020           False           False           False           False  \n",
       "PA14_00030           False           False           False           False  \n",
       "PA14_00050           False           False           False           False  \n",
       "PA14_00060           False           False           False           False  \n",
       "\n",
       "[5 rows x 1339 columns]"
      ]
     },
     "execution_count": 5,
     "metadata": {},
     "output_type": "execute_result"
    }
   ],
   "source": [
    "pa14_membership.head()"
   ]
  },
  {
   "cell_type": "markdown",
   "id": "b49ffbf3",
   "metadata": {},
   "source": [
    "## Get core/accessory annotations"
   ]
  },
  {
   "cell_type": "code",
   "execution_count": 6,
   "id": "37698ac4",
   "metadata": {},
   "outputs": [],
   "source": [
    "# Read in expression data\n",
    "pao1_expression_filename = paths.PAO1_COMPENDIUM\n",
    "pa14_expression_filename = paths.PA14_COMPENDIUM\n",
    "\n",
    "pao1_expression = pd.read_csv(pao1_expression_filename, sep=\"\\t\", index_col=0, header=0)\n",
    "pa14_expression = pd.read_csv(pa14_expression_filename, sep=\"\\t\", index_col=0, header=0)"
   ]
  },
  {
   "cell_type": "code",
   "execution_count": 7,
   "id": "35fe709c",
   "metadata": {},
   "outputs": [
    {
     "name": "stdout",
     "output_type": "stream",
     "text": [
      "Number of PAO1 core genes: 5366\n",
      "Number of PA14 core genes: 5363\n",
      "Number of PAO1 core genes in my dataset: 5361\n",
      "Number of PA14 core genes in my dataset: 5357\n",
      "Number of PAO1-specific genes: 202\n",
      "Number of PA14-specific genes: 534\n"
     ]
    }
   ],
   "source": [
    "pao1_annot_filename = paths.GENE_PAO1_ANNOT\n",
    "pa14_annot_filename = paths.GENE_PA14_ANNOT\n",
    "\n",
    "core_acc_dict = utils.get_my_core_acc_genes(\n",
    "    pao1_annot_filename, pa14_annot_filename, pao1_expression, pa14_expression\n",
    ")"
   ]
  },
  {
   "cell_type": "code",
   "execution_count": 8,
   "id": "14a5c8d1",
   "metadata": {},
   "outputs": [],
   "source": [
    "pao1_core = core_acc_dict[\"core_pao1\"]\n",
    "pa14_core = core_acc_dict[\"core_pa14\"]\n",
    "pao1_acc = core_acc_dict[\"acc_pao1\"]\n",
    "pa14_acc = core_acc_dict[\"acc_pa14\"]"
   ]
  },
  {
   "cell_type": "markdown",
   "id": "1c3a194e",
   "metadata": {},
   "source": [
    "## Calculate likelihood\n",
    "$Pr(\\text{gene x in acc module}\\cap \\text{gene x is acc gene})$ is the number of accessory genes in accessory modules"
   ]
  },
  {
   "cell_type": "code",
   "execution_count": 9,
   "id": "b90ad558",
   "metadata": {
    "scrolled": true
   },
   "outputs": [],
   "source": [
    "# Get subset of df\n",
    "pao1_subset = pao1_membership[[\"module id\", \"module label\", \"num acc in module\"]]\n",
    "pao1_subset = pao1_subset.set_index(\"module id\")\n",
    "pao1_subset = pao1_subset.drop_duplicates()"
   ]
  },
  {
   "cell_type": "code",
   "execution_count": 10,
   "id": "9f82051a",
   "metadata": {},
   "outputs": [],
   "source": [
    "pa14_subset = pa14_membership[[\"module id\", \"module label\", \"num acc in module\"]]\n",
    "pa14_subset = pa14_subset.set_index(\"module id\")\n",
    "pa14_subset = pa14_subset.drop_duplicates()"
   ]
  },
  {
   "cell_type": "code",
   "execution_count": 11,
   "id": "6b79c403",
   "metadata": {
    "scrolled": true
   },
   "outputs": [],
   "source": [
    "# Get number of accessory genes in \"mostly accessory\" modules\n",
    "num_acc_gene_in_acc_mod_pao1 = pao1_subset.loc[\n",
    "    pao1_subset[\"module label\"] == \"mostly accessory\", \"num acc in module\"\n",
    "].sum()\n",
    "num_acc_gene_in_acc_mod_pa14 = pa14_subset.loc[\n",
    "    pa14_subset[\"module label\"] == \"mostly accessory\", \"num acc in module\"\n",
    "].sum()"
   ]
  },
  {
   "cell_type": "code",
   "execution_count": null,
   "id": "c65f68c1",
   "metadata": {},
   "outputs": [],
   "source": [
    "# Currently there are no mostly core modules, so this is a placeholder\n",
    "# Get number of core genes in \"mostly core\" modules\n",
    "\"\"\"num_core_gene_in_core_mod_pao1 = pao1_subset.loc[\n",
    "    pao1_subset[\"module label\"] == \"mostly core\", \"num core in module\"\n",
    "].sum()\n",
    "num_core_gene_in_core_mod_pa14 = pa14_subset.loc[\n",
    "    pa14_subset[\"module label\"] == \"mostly core\", \"num core in module\"\n",
    "].sum()\"\"\""
   ]
  },
  {
   "cell_type": "code",
   "execution_count": 12,
   "id": "af85b5c9",
   "metadata": {},
   "outputs": [],
   "source": [
    "lik_pao1_acc = num_acc_gene_in_acc_mod_pao1 / (len(pao1_core) + len(pao1_acc))\n",
    "lik_pa14_acc = num_acc_gene_in_acc_mod_pa14 / (len(pa14_core) + len(pa14_acc))"
   ]
  },
  {
   "cell_type": "code",
   "execution_count": null,
   "id": "d51a0a4e",
   "metadata": {},
   "outputs": [],
   "source": [
    "# Currently there are no mostly core modules, so this is a placeholder\n",
    "# lik_pao1_core = num_core_gene_in_core_mod_pao1 / (len(pao1_core) + len(pao1_acc))\n",
    "# lik_pa14_core = num_core_gene_in_core_mod_pa14 / (len(pa14_core) + len(pa14_acc))"
   ]
  },
  {
   "cell_type": "code",
   "execution_count": 13,
   "id": "376e2fcd",
   "metadata": {},
   "outputs": [
    {
     "data": {
      "text/plain": [
       "99.0"
      ]
     },
     "execution_count": 13,
     "metadata": {},
     "output_type": "execute_result"
    }
   ],
   "source": [
    "num_acc_gene_in_acc_mod_pao1"
   ]
  },
  {
   "cell_type": "code",
   "execution_count": 14,
   "id": "80a15de0",
   "metadata": {},
   "outputs": [
    {
     "data": {
      "text/plain": [
       "200.0"
      ]
     },
     "execution_count": 14,
     "metadata": {},
     "output_type": "execute_result"
    }
   ],
   "source": [
    "num_acc_gene_in_acc_mod_pa14"
   ]
  },
  {
   "cell_type": "code",
   "execution_count": 15,
   "id": "a6ce0379",
   "metadata": {},
   "outputs": [
    {
     "name": "stdout",
     "output_type": "stream",
     "text": [
      "0.017796153154772603\n",
      "0.03395009336275675\n"
     ]
    }
   ],
   "source": [
    "print(lik_pao1_acc)\n",
    "print(lik_pa14_acc)"
   ]
  },
  {
   "cell_type": "code",
   "execution_count": null,
   "id": "dd73c002",
   "metadata": {},
   "outputs": [],
   "source": [
    "# Currently there are no mostly core modules, so this is a placeholder\n",
    "# print(lik_pao1_core)\n",
    "# print(lik_pa14_core)"
   ]
  },
  {
   "cell_type": "markdown",
   "id": "bd39b919",
   "metadata": {},
   "source": [
    "### Caclulate prior distribution\n",
    "$Pr(\\text{gene x is acc gene})$ is the number of accessory genes divided by the total number of genes\n",
    "\n",
    "Similarly for core genes"
   ]
  },
  {
   "cell_type": "code",
   "execution_count": 16,
   "id": "33a91cde",
   "metadata": {},
   "outputs": [],
   "source": [
    "pr_pao1_acc = len(pao1_acc) / (len(pao1_core) + len(pao1_acc))\n",
    "pr_pa14_acc = len(pa14_acc) / (len(pa14_core) + len(pa14_acc))"
   ]
  },
  {
   "cell_type": "code",
   "execution_count": null,
   "id": "43e67dc0",
   "metadata": {},
   "outputs": [],
   "source": [
    "pr_pao1_core = len(pao1_core) / (len(pao1_core) + len(pao1_acc))\n",
    "pr_pa14_core = len(pa14_core) / (len(pa14_core) + len(pa14_acc))"
   ]
  },
  {
   "cell_type": "code",
   "execution_count": 17,
   "id": "9a8d77e8",
   "metadata": {},
   "outputs": [
    {
     "name": "stdout",
     "output_type": "stream",
     "text": [
      "0.036311342800647135\n",
      "0.09064674927856052\n"
     ]
    }
   ],
   "source": [
    "print(pr_pao1_acc)\n",
    "print(pr_pa14_acc)"
   ]
  },
  {
   "cell_type": "code",
   "execution_count": null,
   "id": "a868ac37",
   "metadata": {},
   "outputs": [],
   "source": [
    "print(pr_pao1_core)\n",
    "print(pr_pa14_core)"
   ]
  },
  {
   "cell_type": "markdown",
   "id": "8569ffb8",
   "metadata": {},
   "source": [
    "## Calculate conditional probability"
   ]
  },
  {
   "cell_type": "code",
   "execution_count": 18,
   "id": "9945469c",
   "metadata": {},
   "outputs": [
    {
     "name": "stdout",
     "output_type": "stream",
     "text": [
      "Probability of accessory gene being co-expressed with another accessory gene in PAO1 is 0.49009900990099003\n",
      "Probability of accessory gene being co-expressed with another accessory gene in PA14 is 0.3745318352059925\n"
     ]
    }
   ],
   "source": [
    "pr_acc2acc_pao1 = lik_pao1_acc / pr_pao1_acc\n",
    "pr_acc2acc_pa14 = lik_pa14_acc / pr_pa14_acc\n",
    "\n",
    "print(\n",
    "    f\"Probability of accessory gene being co-expressed with another accessory gene in PAO1 is {pr_acc2acc_pao1}\"\n",
    ")\n",
    "print(\n",
    "    f\"Probability of accessory gene being co-expressed with another accessory gene in PA14 is {pr_acc2acc_pa14}\"\n",
    ")"
   ]
  },
  {
   "cell_type": "code",
   "execution_count": null,
   "id": "885d3062",
   "metadata": {},
   "outputs": [],
   "source": [
    "# Currently there are no mostly core modules, so this is a placeholder\n",
    "\"\"\"pr_core2core_pao1 = lik_pao1_core / pr_pao1_core\n",
    "pr_core2core_pa14 = lik_pa14_core / pr_pa14_core\n",
    "\n",
    "print(\n",
    "    f\"Probability of core gene being co-expressed with another core gene in PAO1 is {pr_core2core_pao1}\"\n",
    ")\n",
    "print(\n",
    "    f\"Probability of core gene being co-expressed with another core gene in PA14 is {pr_core2core_pa14}\"\n",
    ")\"\"\""
   ]
  }
 ],
 "metadata": {
  "jupytext": {
   "formats": "ipynb,py"
  },
  "kernelspec": {
   "display_name": "Python [conda env:core_acc] *",
   "language": "python",
   "name": "conda-env-core_acc-py"
  },
  "language_info": {
   "codemirror_mode": {
    "name": "ipython",
    "version": 3
   },
   "file_extension": ".py",
   "mimetype": "text/x-python",
   "name": "python",
   "nbconvert_exporter": "python",
   "pygments_lexer": "ipython3",
   "version": "3.7.10"
  }
 },
 "nbformat": 4,
 "nbformat_minor": 5
}
