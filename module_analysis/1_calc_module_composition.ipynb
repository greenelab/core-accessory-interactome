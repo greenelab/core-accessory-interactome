{
 "cells": [
  {
   "cell_type": "markdown",
   "id": "ea778dfd",
   "metadata": {},
   "source": [
    "# Module composition\n",
    "\n",
    "Given our co-acting gene modules, we will now calculate the composition of those modules - are modules predominantly core, predominantly accessory or mixed.\n",
    "\n",
    "To label modules we will use the [Fisher's exact test](https://en.wikipedia.org/wiki/Fisher%27s_exact_test) which is used to determine whether there is a significant association between two categorical variables in a contingency table (i.e two classifications of the data). Fisher’s exact test is used to determine if there is an association between the two classifications. In our case our classification are: whether a gene is core or accessory and whether the gene is inside a given module or outside. In other words, we want to determine if there is a statistically significant association between gene group and our given module. To do this we compare the ratio of core vs accessory genes within a given module are significantly different to the ratio of core vs accessory outside that module."
   ]
  },
  {
   "cell_type": "code",
   "execution_count": 1,
   "id": "b172d982",
   "metadata": {},
   "outputs": [
    {
     "name": "stderr",
     "output_type": "stream",
     "text": [
      "/home/alexandra/anaconda3/envs/core_acc/lib/python3.7/site-packages/matplotlib/__init__.py:886: MatplotlibDeprecationWarning: \n",
      "examples.directory is deprecated; in the future, examples will be found relative to the 'datapath' directory.\n",
      "  \"found relative to the 'datapath' directory.\".format(key))\n"
     ]
    }
   ],
   "source": [
    "%load_ext autoreload\n",
    "%autoreload 2\n",
    "%matplotlib inline\n",
    "import os\n",
    "import random\n",
    "import scipy\n",
    "import pandas as pd\n",
    "import numpy as np\n",
    "import seaborn as sns\n",
    "import matplotlib.pyplot as plt\n",
    "from statsmodels.stats.multitest import multipletests\n",
    "from core_acc_modules import utils, paths\n",
    "\n",
    "random.seed(1)"
   ]
  },
  {
   "cell_type": "code",
   "execution_count": 2,
   "id": "252f6832",
   "metadata": {},
   "outputs": [],
   "source": [
    "# User params\n",
    "method = \"affinity\""
   ]
  },
  {
   "cell_type": "markdown",
   "id": "137fe447",
   "metadata": {},
   "source": [
    "### Import module memberships"
   ]
  },
  {
   "cell_type": "code",
   "execution_count": 3,
   "id": "7746c742",
   "metadata": {},
   "outputs": [],
   "source": [
    "# Import module memberships\n",
    "pao1_membership_filename = os.path.join(\n",
    "    paths.LOCAL_DATA_DIR, f\"pao1_modules_{method}.tsv\"\n",
    ")\n",
    "pa14_membership_filename = os.path.join(\n",
    "    paths.LOCAL_DATA_DIR, f\"pa14_modules_{method}.tsv\"\n",
    ")\n",
    "\n",
    "pao1_membership = pd.read_csv(pao1_membership_filename, sep=\"\\t\", index_col=0, header=0)\n",
    "pa14_membership = pd.read_csv(pa14_membership_filename, sep=\"\\t\", index_col=0, header=0)"
   ]
  },
  {
   "cell_type": "code",
   "execution_count": 4,
   "id": "e5afca81",
   "metadata": {},
   "outputs": [
    {
     "data": {
      "text/html": [
       "<div>\n",
       "<style scoped>\n",
       "    .dataframe tbody tr th:only-of-type {\n",
       "        vertical-align: middle;\n",
       "    }\n",
       "\n",
       "    .dataframe tbody tr th {\n",
       "        vertical-align: top;\n",
       "    }\n",
       "\n",
       "    .dataframe thead th {\n",
       "        text-align: right;\n",
       "    }\n",
       "</style>\n",
       "<table border=\"1\" class=\"dataframe\">\n",
       "  <thead>\n",
       "    <tr style=\"text-align: right;\">\n",
       "      <th></th>\n",
       "      <th>module id</th>\n",
       "    </tr>\n",
       "  </thead>\n",
       "  <tbody>\n",
       "    <tr>\n",
       "      <th>PA0001</th>\n",
       "      <td>390</td>\n",
       "    </tr>\n",
       "    <tr>\n",
       "      <th>PA0002</th>\n",
       "      <td>0</td>\n",
       "    </tr>\n",
       "    <tr>\n",
       "      <th>PA0003</th>\n",
       "      <td>491</td>\n",
       "    </tr>\n",
       "    <tr>\n",
       "      <th>PA0004</th>\n",
       "      <td>298</td>\n",
       "    </tr>\n",
       "    <tr>\n",
       "      <th>PA0005</th>\n",
       "      <td>522</td>\n",
       "    </tr>\n",
       "  </tbody>\n",
       "</table>\n",
       "</div>"
      ],
      "text/plain": [
       "        module id\n",
       "PA0001        390\n",
       "PA0002          0\n",
       "PA0003        491\n",
       "PA0004        298\n",
       "PA0005        522"
      ]
     },
     "execution_count": 4,
     "metadata": {},
     "output_type": "execute_result"
    }
   ],
   "source": [
    "pao1_membership.head()"
   ]
  },
  {
   "cell_type": "code",
   "execution_count": 5,
   "id": "e64a541e",
   "metadata": {},
   "outputs": [
    {
     "data": {
      "text/html": [
       "<div>\n",
       "<style scoped>\n",
       "    .dataframe tbody tr th:only-of-type {\n",
       "        vertical-align: middle;\n",
       "    }\n",
       "\n",
       "    .dataframe tbody tr th {\n",
       "        vertical-align: top;\n",
       "    }\n",
       "\n",
       "    .dataframe thead th {\n",
       "        text-align: right;\n",
       "    }\n",
       "</style>\n",
       "<table border=\"1\" class=\"dataframe\">\n",
       "  <thead>\n",
       "    <tr style=\"text-align: right;\">\n",
       "      <th></th>\n",
       "      <th>module id</th>\n",
       "    </tr>\n",
       "  </thead>\n",
       "  <tbody>\n",
       "    <tr>\n",
       "      <th>PA14_55610</th>\n",
       "      <td>425</td>\n",
       "    </tr>\n",
       "    <tr>\n",
       "      <th>PA14_55600</th>\n",
       "      <td>168</td>\n",
       "    </tr>\n",
       "    <tr>\n",
       "      <th>PA14_55590</th>\n",
       "      <td>425</td>\n",
       "    </tr>\n",
       "    <tr>\n",
       "      <th>PA14_55580</th>\n",
       "      <td>379</td>\n",
       "    </tr>\n",
       "    <tr>\n",
       "      <th>PA14_55570</th>\n",
       "      <td>189</td>\n",
       "    </tr>\n",
       "  </tbody>\n",
       "</table>\n",
       "</div>"
      ],
      "text/plain": [
       "            module id\n",
       "PA14_55610        425\n",
       "PA14_55600        168\n",
       "PA14_55590        425\n",
       "PA14_55580        379\n",
       "PA14_55570        189"
      ]
     },
     "execution_count": 5,
     "metadata": {},
     "output_type": "execute_result"
    }
   ],
   "source": [
    "pa14_membership.head()"
   ]
  },
  {
   "cell_type": "markdown",
   "id": "666b3052",
   "metadata": {},
   "source": [
    "### Map core/accessory labels to genes"
   ]
  },
  {
   "cell_type": "code",
   "execution_count": 6,
   "id": "953be866",
   "metadata": {},
   "outputs": [],
   "source": [
    "# Read in expression data\n",
    "pao1_expression_filename = paths.PAO1_COMPENDIUM\n",
    "pa14_expression_filename = paths.PA14_COMPENDIUM\n",
    "\n",
    "pao1_expression = pd.read_csv(pao1_expression_filename, sep=\"\\t\", index_col=0, header=0)\n",
    "pa14_expression = pd.read_csv(pa14_expression_filename, sep=\"\\t\", index_col=0, header=0)"
   ]
  },
  {
   "cell_type": "code",
   "execution_count": 7,
   "id": "f52e5f4e",
   "metadata": {},
   "outputs": [
    {
     "name": "stdout",
     "output_type": "stream",
     "text": [
      "Number of PAO1 core genes: 5366\n",
      "Number of PA14 core genes: 5363\n",
      "Number of PAO1 core genes in my dataset: 5361\n",
      "Number of PA14 core genes in my dataset: 5361\n",
      "Number of PAO1-specific genes: 202\n",
      "Number of PA14-specific genes: 530\n"
     ]
    }
   ],
   "source": [
    "pao1_annot_filename = paths.GENE_PAO1_ANNOT\n",
    "pa14_annot_filename = paths.GENE_PA14_ANNOT\n",
    "\n",
    "core_acc_dict = utils.get_my_core_acc_genes(\n",
    "    pao1_annot_filename, pa14_annot_filename, pao1_expression, pa14_expression\n",
    ")"
   ]
  },
  {
   "cell_type": "code",
   "execution_count": 8,
   "id": "b63056f9",
   "metadata": {},
   "outputs": [],
   "source": [
    "pao1_core = core_acc_dict[\"core_pao1\"]\n",
    "pa14_core = core_acc_dict[\"core_pa14\"]\n",
    "pao1_acc = core_acc_dict[\"acc_pao1\"]\n",
    "pa14_acc = core_acc_dict[\"acc_pa14\"]"
   ]
  },
  {
   "cell_type": "markdown",
   "id": "fbec1a6e",
   "metadata": {},
   "source": [
    "### Fisher's exact test"
   ]
  },
  {
   "cell_type": "code",
   "execution_count": 9,
   "id": "7623c7cf",
   "metadata": {},
   "outputs": [],
   "source": [
    "# Get list of modules ids\n",
    "pao1_module_ids = pao1_membership[\"module id\"].unique()\n",
    "pa14_module_ids = pa14_membership[\"module id\"].unique()"
   ]
  },
  {
   "cell_type": "code",
   "execution_count": 10,
   "id": "7f5784f6",
   "metadata": {},
   "outputs": [],
   "source": [
    "pao1_gene_group_composition = pd.DataFrame(\n",
    "    index=pao1_module_ids,\n",
    "    columns=[\"num core\", \"num acc\", \"odds ratio\", \"p-value\", \"module label\"],\n",
    ")\n",
    "pa14_gene_group_composition = pd.DataFrame(\n",
    "    index=pa14_module_ids,\n",
    "    columns=[\"num core\", \"num acc\", \"odds ratio\", \"p-value\", \"module label\"],\n",
    ")"
   ]
  },
  {
   "cell_type": "code",
   "execution_count": 11,
   "id": "a32b6323",
   "metadata": {},
   "outputs": [
    {
     "data": {
      "text/html": [
       "<div>\n",
       "<style scoped>\n",
       "    .dataframe tbody tr th:only-of-type {\n",
       "        vertical-align: middle;\n",
       "    }\n",
       "\n",
       "    .dataframe tbody tr th {\n",
       "        vertical-align: top;\n",
       "    }\n",
       "\n",
       "    .dataframe thead th {\n",
       "        text-align: right;\n",
       "    }\n",
       "</style>\n",
       "<table border=\"1\" class=\"dataframe\">\n",
       "  <thead>\n",
       "    <tr style=\"text-align: right;\">\n",
       "      <th></th>\n",
       "      <th>num core</th>\n",
       "      <th>num acc</th>\n",
       "      <th>odds ratio</th>\n",
       "      <th>p-value</th>\n",
       "      <th>module label</th>\n",
       "    </tr>\n",
       "  </thead>\n",
       "  <tbody>\n",
       "    <tr>\n",
       "      <th>390</th>\n",
       "      <td>NaN</td>\n",
       "      <td>NaN</td>\n",
       "      <td>NaN</td>\n",
       "      <td>NaN</td>\n",
       "      <td>NaN</td>\n",
       "    </tr>\n",
       "    <tr>\n",
       "      <th>0</th>\n",
       "      <td>NaN</td>\n",
       "      <td>NaN</td>\n",
       "      <td>NaN</td>\n",
       "      <td>NaN</td>\n",
       "      <td>NaN</td>\n",
       "    </tr>\n",
       "    <tr>\n",
       "      <th>491</th>\n",
       "      <td>NaN</td>\n",
       "      <td>NaN</td>\n",
       "      <td>NaN</td>\n",
       "      <td>NaN</td>\n",
       "      <td>NaN</td>\n",
       "    </tr>\n",
       "    <tr>\n",
       "      <th>298</th>\n",
       "      <td>NaN</td>\n",
       "      <td>NaN</td>\n",
       "      <td>NaN</td>\n",
       "      <td>NaN</td>\n",
       "      <td>NaN</td>\n",
       "    </tr>\n",
       "    <tr>\n",
       "      <th>522</th>\n",
       "      <td>NaN</td>\n",
       "      <td>NaN</td>\n",
       "      <td>NaN</td>\n",
       "      <td>NaN</td>\n",
       "      <td>NaN</td>\n",
       "    </tr>\n",
       "  </tbody>\n",
       "</table>\n",
       "</div>"
      ],
      "text/plain": [
       "    num core num acc odds ratio p-value module label\n",
       "390      NaN     NaN        NaN     NaN          NaN\n",
       "0        NaN     NaN        NaN     NaN          NaN\n",
       "491      NaN     NaN        NaN     NaN          NaN\n",
       "298      NaN     NaN        NaN     NaN          NaN\n",
       "522      NaN     NaN        NaN     NaN          NaN"
      ]
     },
     "execution_count": 11,
     "metadata": {},
     "output_type": "execute_result"
    }
   ],
   "source": [
    "pao1_gene_group_composition.head()"
   ]
  },
  {
   "cell_type": "code",
   "execution_count": 12,
   "id": "192b5c5e",
   "metadata": {},
   "outputs": [],
   "source": [
    "def label_modules(\n",
    "    module_ids_list,\n",
    "    membership_df,\n",
    "    core_genes_list,\n",
    "    acc_genes_list,\n",
    "    mult_test_correction,\n",
    "    out_df,\n",
    "):\n",
    "    all_genes = list(membership_df.index)\n",
    "\n",
    "    for module_id in module_ids_list:\n",
    "        # Find genes in module and outside module\n",
    "        genes_in_module = list(\n",
    "            membership_df[membership_df[\"module id\"] == module_id].index\n",
    "        )\n",
    "        genes_outside_module = list(set(all_genes).difference(genes_in_module))\n",
    "\n",
    "        # Get core and accessory in module\n",
    "        core_genes_in_module = [\n",
    "            gene for gene in genes_in_module if gene in core_genes_list\n",
    "        ]\n",
    "        acc_genes_in_module = [\n",
    "            gene for gene in genes_in_module if gene in acc_genes_list\n",
    "        ]\n",
    "\n",
    "        # Get core and accessory genes outside of module\n",
    "        core_genes_outside_module = [\n",
    "            gene for gene in genes_outside_module if gene in core_genes_list\n",
    "        ]\n",
    "        acc_genes_outside_module = [\n",
    "            gene for gene in genes_outside_module if gene in acc_genes_list\n",
    "        ]\n",
    "\n",
    "        # Check\n",
    "        assert len(all_genes) == len(core_genes_in_module) + len(\n",
    "            acc_genes_in_module\n",
    "        ) + len(core_genes_outside_module) + len(acc_genes_outside_module)\n",
    "        assert len(genes_in_module) == len(core_genes_in_module) + len(\n",
    "            acc_genes_in_module\n",
    "        )\n",
    "\n",
    "        # Make contingency table\n",
    "        # -----|inside module|outside module\n",
    "        # core | # genes     | # genes\n",
    "        # acc  | # genes     | # genes\n",
    "        observed_contingency_table = np.array(\n",
    "            [\n",
    "                [len(core_genes_in_module), len(core_genes_outside_module)],\n",
    "                [len(acc_genes_in_module), len(acc_genes_outside_module)],\n",
    "            ]\n",
    "        )\n",
    "\n",
    "        # Add 1 to avoid inf\n",
    "        observed_contingency_table = observed_contingency_table + 1\n",
    "\n",
    "        # H0: The probability that the gene is core is the same\n",
    "        # whether or not you're in the module or outside\n",
    "        # H1: The probability that a gene is core is higher or lower inside the module\n",
    "        # than outside the module\n",
    "        odds_ratio, pval = scipy.stats.fisher_exact(observed_contingency_table)\n",
    "\n",
    "        # If using two separate one-sided tests\n",
    "        # odds_ratio, pval_greater = scipy.stats.fisher_exact(\n",
    "        #    observed_contingency_table, alternative=\"greater\"\n",
    "        # )\n",
    "        # odds_ratio, pval_less = scipy.stats.fisher_exact(\n",
    "        #    observed_contingency_table, alternative=\"less\"\n",
    "        # )\n",
    "\n",
    "        # Fill in df\n",
    "        out_df.loc[module_id, \"num core in module\"] = len(core_genes_in_module)\n",
    "        out_df.loc[module_id, \"num acc in module\"] = len(acc_genes_in_module)\n",
    "        out_df.loc[module_id, \"num core outside module\"] = len(\n",
    "            core_genes_outside_module\n",
    "        )\n",
    "        out_df.loc[module_id, \"num acc outside module\"] = len(acc_genes_outside_module)\n",
    "        out_df.loc[module_id, \"odds ratio\"] = odds_ratio\n",
    "        out_df.loc[module_id, \"p-value\"] = pval\n",
    "\n",
    "        # Given the small sizes of the modules I think this is why\n",
    "        # most of the findings are not significant\n",
    "\n",
    "        # Bonferrroni corrected p-value\n",
    "        if mult_test_correction == \"bonferroni\":\n",
    "            if odds_ratio > 1 and pval < 0.05 / len(all_genes):\n",
    "                out_df.loc[module_id, \"module label\"] = \"mostly core\"\n",
    "            elif odds_ratio < 1 and pval < 0.05 / len(all_genes):\n",
    "                out_df.loc[module_id, \"module label\"] = \"mostly accessory\"\n",
    "            else:\n",
    "                out_df.loc[module_id, \"module label\"] = \"mixed\"\n",
    "\n",
    "        # If using two separate one-sided tests\n",
    "        # if odds_ratio > 1 and pval_greater < 0.05/len(all_genes):\n",
    "        #    out_df.loc[module_id, \"module label\"] = \"mostly core\"\n",
    "        # elif odds_ratio < 1 and pval_less < 0.05/len(all_genes):\n",
    "        #    out_df.loc[module_id, \"module label\"] = \"mostly accessory\"\n",
    "        # else:\n",
    "        #    out_df.loc[module_id, \"module label\"] = \"mixed\"\n",
    "\n",
    "    # FDR multiple testing correction with FDR\n",
    "    if mult_test_correction == \"fdr\":\n",
    "        sign, cpval, alphacSidak, alphacBonferroni = multipletests(\n",
    "            out_df[\"p-value\"], alpha=0.05, method=\"fdr_bh\"\n",
    "        )\n",
    "\n",
    "        # Add columns\n",
    "        out_df[\"significant\"] = sign\n",
    "        out_df[\"FDR corrected p-value\"] = cpval\n",
    "\n",
    "        # Label modules\n",
    "        out_df[\"module label\"] = \"mixed\"\n",
    "        out_df.loc[\n",
    "            (out_df[\"odds ratio\"] > 1) & (out_df[\"significant\"] == True), \"module label\"\n",
    "        ] = \"mostly core\"\n",
    "        out_df.loc[\n",
    "            (out_df[\"odds ratio\"] < 1) & (out_df[\"significant\"] == True), \"module label\"\n",
    "        ] = \"mostly accessory\"\n",
    "\n",
    "    return out_df"
   ]
  },
  {
   "cell_type": "code",
   "execution_count": 13,
   "id": "06a325be",
   "metadata": {
    "scrolled": true
   },
   "outputs": [
    {
     "name": "stdout",
     "output_type": "stream",
     "text": [
      "CPU times: user 1min 56s, sys: 0 ns, total: 1min 56s\n",
      "Wall time: 1min 56s\n"
     ]
    }
   ],
   "source": [
    "%%time\n",
    "# Get labels for PAO1 compendium\n",
    "pao1_module_labels = label_modules(\n",
    "    pao1_module_ids,\n",
    "    pao1_membership,\n",
    "    pao1_core,\n",
    "    pao1_acc,\n",
    "    \"fdr\",\n",
    "    pao1_gene_group_composition,\n",
    ")"
   ]
  },
  {
   "cell_type": "code",
   "execution_count": 14,
   "id": "438596cf",
   "metadata": {},
   "outputs": [
    {
     "name": "stdout",
     "output_type": "stream",
     "text": [
      "CPU times: user 2min 28s, sys: 0 ns, total: 2min 28s\n",
      "Wall time: 2min 28s\n"
     ]
    }
   ],
   "source": [
    "%%time\n",
    "# Get labels of PA14 compendium\n",
    "pa14_module_labels = label_modules(\n",
    "    pa14_module_ids,\n",
    "    pa14_membership,\n",
    "    pa14_core,\n",
    "    pa14_acc,\n",
    "    \"fdr\",\n",
    "    pa14_gene_group_composition,\n",
    ")"
   ]
  },
  {
   "cell_type": "code",
   "execution_count": 15,
   "id": "9214ea4c",
   "metadata": {},
   "outputs": [
    {
     "data": {
      "text/html": [
       "<div>\n",
       "<style scoped>\n",
       "    .dataframe tbody tr th:only-of-type {\n",
       "        vertical-align: middle;\n",
       "    }\n",
       "\n",
       "    .dataframe tbody tr th {\n",
       "        vertical-align: top;\n",
       "    }\n",
       "\n",
       "    .dataframe thead th {\n",
       "        text-align: right;\n",
       "    }\n",
       "</style>\n",
       "<table border=\"1\" class=\"dataframe\">\n",
       "  <thead>\n",
       "    <tr style=\"text-align: right;\">\n",
       "      <th></th>\n",
       "      <th>num core</th>\n",
       "      <th>num acc</th>\n",
       "      <th>odds ratio</th>\n",
       "      <th>p-value</th>\n",
       "      <th>module label</th>\n",
       "      <th>num core in module</th>\n",
       "      <th>num acc in module</th>\n",
       "      <th>num core outside module</th>\n",
       "      <th>num acc outside module</th>\n",
       "      <th>significant</th>\n",
       "      <th>FDR corrected p-value</th>\n",
       "    </tr>\n",
       "  </thead>\n",
       "  <tbody>\n",
       "    <tr>\n",
       "      <th>390</th>\n",
       "      <td>NaN</td>\n",
       "      <td>NaN</td>\n",
       "      <td>0.493271</td>\n",
       "      <td>0.407427</td>\n",
       "      <td>mixed</td>\n",
       "      <td>12.0</td>\n",
       "      <td>0.0</td>\n",
       "      <td>5349.0</td>\n",
       "      <td>202.0</td>\n",
       "      <td>False</td>\n",
       "      <td>0.484787</td>\n",
       "    </tr>\n",
       "    <tr>\n",
       "      <th>0</th>\n",
       "      <td>NaN</td>\n",
       "      <td>NaN</td>\n",
       "      <td>0.569372</td>\n",
       "      <td>0.45017</td>\n",
       "      <td>mixed</td>\n",
       "      <td>14.0</td>\n",
       "      <td>0.0</td>\n",
       "      <td>5347.0</td>\n",
       "      <td>202.0</td>\n",
       "      <td>False</td>\n",
       "      <td>0.497835</td>\n",
       "    </tr>\n",
       "    <tr>\n",
       "      <th>491</th>\n",
       "      <td>NaN</td>\n",
       "      <td>NaN</td>\n",
       "      <td>0.455242</td>\n",
       "      <td>0.384832</td>\n",
       "      <td>mixed</td>\n",
       "      <td>11.0</td>\n",
       "      <td>0.0</td>\n",
       "      <td>5350.0</td>\n",
       "      <td>202.0</td>\n",
       "      <td>False</td>\n",
       "      <td>0.484787</td>\n",
       "    </tr>\n",
       "    <tr>\n",
       "      <th>298</th>\n",
       "      <td>NaN</td>\n",
       "      <td>NaN</td>\n",
       "      <td>0.417227</td>\n",
       "      <td>0.36138</td>\n",
       "      <td>mixed</td>\n",
       "      <td>10.0</td>\n",
       "      <td>0.0</td>\n",
       "      <td>5351.0</td>\n",
       "      <td>202.0</td>\n",
       "      <td>False</td>\n",
       "      <td>0.484787</td>\n",
       "    </tr>\n",
       "    <tr>\n",
       "      <th>522</th>\n",
       "      <td>NaN</td>\n",
       "      <td>NaN</td>\n",
       "      <td>0.759873</td>\n",
       "      <td>0.544075</td>\n",
       "      <td>mixed</td>\n",
       "      <td>19.0</td>\n",
       "      <td>0.0</td>\n",
       "      <td>5342.0</td>\n",
       "      <td>202.0</td>\n",
       "      <td>False</td>\n",
       "      <td>0.55996</td>\n",
       "    </tr>\n",
       "  </tbody>\n",
       "</table>\n",
       "</div>"
      ],
      "text/plain": [
       "    num core num acc odds ratio   p-value module label  num core in module  \\\n",
       "390      NaN     NaN   0.493271  0.407427        mixed                12.0   \n",
       "0        NaN     NaN   0.569372   0.45017        mixed                14.0   \n",
       "491      NaN     NaN   0.455242  0.384832        mixed                11.0   \n",
       "298      NaN     NaN   0.417227   0.36138        mixed                10.0   \n",
       "522      NaN     NaN   0.759873  0.544075        mixed                19.0   \n",
       "\n",
       "     num acc in module  num core outside module  num acc outside module  \\\n",
       "390                0.0                   5349.0                   202.0   \n",
       "0                  0.0                   5347.0                   202.0   \n",
       "491                0.0                   5350.0                   202.0   \n",
       "298                0.0                   5351.0                   202.0   \n",
       "522                0.0                   5342.0                   202.0   \n",
       "\n",
       "     significant FDR corrected p-value  \n",
       "390        False              0.484787  \n",
       "0          False              0.497835  \n",
       "491        False              0.484787  \n",
       "298        False              0.484787  \n",
       "522        False               0.55996  "
      ]
     },
     "execution_count": 15,
     "metadata": {},
     "output_type": "execute_result"
    }
   ],
   "source": [
    "pao1_module_labels.head()"
   ]
  },
  {
   "cell_type": "code",
   "execution_count": 16,
   "id": "00035de2",
   "metadata": {},
   "outputs": [
    {
     "data": {
      "text/html": [
       "<div>\n",
       "<style scoped>\n",
       "    .dataframe tbody tr th:only-of-type {\n",
       "        vertical-align: middle;\n",
       "    }\n",
       "\n",
       "    .dataframe tbody tr th {\n",
       "        vertical-align: top;\n",
       "    }\n",
       "\n",
       "    .dataframe thead th {\n",
       "        text-align: right;\n",
       "    }\n",
       "</style>\n",
       "<table border=\"1\" class=\"dataframe\">\n",
       "  <thead>\n",
       "    <tr style=\"text-align: right;\">\n",
       "      <th></th>\n",
       "      <th>num core</th>\n",
       "      <th>num acc</th>\n",
       "      <th>odds ratio</th>\n",
       "      <th>p-value</th>\n",
       "      <th>module label</th>\n",
       "      <th>num core in module</th>\n",
       "      <th>num acc in module</th>\n",
       "      <th>num core outside module</th>\n",
       "      <th>num acc outside module</th>\n",
       "      <th>significant</th>\n",
       "      <th>FDR corrected p-value</th>\n",
       "    </tr>\n",
       "  </thead>\n",
       "  <tbody>\n",
       "    <tr>\n",
       "      <th>425</th>\n",
       "      <td>NaN</td>\n",
       "      <td>NaN</td>\n",
       "      <td>1.19081</td>\n",
       "      <td>1</td>\n",
       "      <td>mixed</td>\n",
       "      <td>11.0</td>\n",
       "      <td>0.0</td>\n",
       "      <td>5350.0</td>\n",
       "      <td>530.0</td>\n",
       "      <td>False</td>\n",
       "      <td>1</td>\n",
       "    </tr>\n",
       "    <tr>\n",
       "      <th>168</th>\n",
       "      <td>NaN</td>\n",
       "      <td>NaN</td>\n",
       "      <td>0.445461</td>\n",
       "      <td>0.261116</td>\n",
       "      <td>mixed</td>\n",
       "      <td>8.0</td>\n",
       "      <td>1.0</td>\n",
       "      <td>5353.0</td>\n",
       "      <td>529.0</td>\n",
       "      <td>False</td>\n",
       "      <td>0.978098</td>\n",
       "    </tr>\n",
       "    <tr>\n",
       "      <th>379</th>\n",
       "      <td>NaN</td>\n",
       "      <td>NaN</td>\n",
       "      <td>0.560731</td>\n",
       "      <td>0.418151</td>\n",
       "      <td>mixed</td>\n",
       "      <td>16.0</td>\n",
       "      <td>2.0</td>\n",
       "      <td>5345.0</td>\n",
       "      <td>528.0</td>\n",
       "      <td>False</td>\n",
       "      <td>0.978098</td>\n",
       "    </tr>\n",
       "    <tr>\n",
       "      <th>189</th>\n",
       "      <td>NaN</td>\n",
       "      <td>NaN</td>\n",
       "      <td>0.991967</td>\n",
       "      <td>1</td>\n",
       "      <td>mixed</td>\n",
       "      <td>9.0</td>\n",
       "      <td>0.0</td>\n",
       "      <td>5352.0</td>\n",
       "      <td>530.0</td>\n",
       "      <td>False</td>\n",
       "      <td>1</td>\n",
       "    </tr>\n",
       "    <tr>\n",
       "      <th>255</th>\n",
       "      <td>NaN</td>\n",
       "      <td>NaN</td>\n",
       "      <td>0.45397</td>\n",
       "      <td>0.102266</td>\n",
       "      <td>mixed</td>\n",
       "      <td>22.0</td>\n",
       "      <td>4.0</td>\n",
       "      <td>5339.0</td>\n",
       "      <td>526.0</td>\n",
       "      <td>False</td>\n",
       "      <td>0.859574</td>\n",
       "    </tr>\n",
       "  </tbody>\n",
       "</table>\n",
       "</div>"
      ],
      "text/plain": [
       "    num core num acc odds ratio   p-value module label  num core in module  \\\n",
       "425      NaN     NaN    1.19081         1        mixed                11.0   \n",
       "168      NaN     NaN   0.445461  0.261116        mixed                 8.0   \n",
       "379      NaN     NaN   0.560731  0.418151        mixed                16.0   \n",
       "189      NaN     NaN   0.991967         1        mixed                 9.0   \n",
       "255      NaN     NaN    0.45397  0.102266        mixed                22.0   \n",
       "\n",
       "     num acc in module  num core outside module  num acc outside module  \\\n",
       "425                0.0                   5350.0                   530.0   \n",
       "168                1.0                   5353.0                   529.0   \n",
       "379                2.0                   5345.0                   528.0   \n",
       "189                0.0                   5352.0                   530.0   \n",
       "255                4.0                   5339.0                   526.0   \n",
       "\n",
       "     significant FDR corrected p-value  \n",
       "425        False                     1  \n",
       "168        False              0.978098  \n",
       "379        False              0.978098  \n",
       "189        False                     1  \n",
       "255        False              0.859574  "
      ]
     },
     "execution_count": 16,
     "metadata": {},
     "output_type": "execute_result"
    }
   ],
   "source": [
    "pa14_module_labels.head()"
   ]
  },
  {
   "cell_type": "code",
   "execution_count": 17,
   "id": "0fb17bda",
   "metadata": {},
   "outputs": [
    {
     "data": {
      "text/plain": [
       "<seaborn.axisgrid.FacetGrid at 0x7ff52df69b50>"
      ]
     },
     "execution_count": 17,
     "metadata": {},
     "output_type": "execute_result"
    },
    {
     "data": {
      "image/png": "[encoded data removed]",
      "text/plain": [
       "<Figure size 360x360 with 1 Axes>"
      ]
     },
     "metadata": {
      "needs_background": "light"
     },
     "output_type": "display_data"
    },
    {
     "data": {
      "image/png": "[encoded data removed]",
      "text/plain": [
       "<Figure size 360x360 with 1 Axes>"
      ]
     },
     "metadata": {
      "needs_background": "light"
     },
     "output_type": "display_data"
    }
   ],
   "source": [
    "# Distribution of p-values\n",
    "sns.displot(pao1_module_labels[\"p-value\"])\n",
    "sns.displot(pa14_module_labels[\"p-value\"])"
   ]
  },
  {
   "cell_type": "markdown",
   "id": "953e2f36",
   "metadata": {},
   "source": [
    "### Examine module composition"
   ]
  },
  {
   "cell_type": "code",
   "execution_count": 18,
   "id": "4e950f7f",
   "metadata": {},
   "outputs": [
    {
     "data": {
      "text/plain": [
       "mixed               545\n",
       "mostly accessory     19\n",
       "Name: module label, dtype: int64"
      ]
     },
     "execution_count": 18,
     "metadata": {},
     "output_type": "execute_result"
    }
   ],
   "source": [
    "pao1_module_labels[\"module label\"].value_counts()"
   ]
  },
  {
   "cell_type": "code",
   "execution_count": 19,
   "id": "66ed42d4",
   "metadata": {},
   "outputs": [
    {
     "data": {
      "text/plain": [
       "mixed               558\n",
       "mostly accessory     35\n",
       "Name: module label, dtype: int64"
      ]
     },
     "execution_count": 19,
     "metadata": {},
     "output_type": "execute_result"
    }
   ],
   "source": [
    "pa14_module_labels[\"module label\"].value_counts()"
   ]
  },
  {
   "cell_type": "code",
   "execution_count": 20,
   "id": "ec5d0d72",
   "metadata": {
    "scrolled": true
   },
   "outputs": [],
   "source": [
    "# Add size of modules to df\n",
    "pao1_module_labels[\"size\"] = pao1_membership[\"module id\"].value_counts()\n",
    "pa14_module_labels[\"size\"] = pa14_membership[\"module id\"].value_counts()"
   ]
  },
  {
   "cell_type": "code",
   "execution_count": 21,
   "id": "0665466d",
   "metadata": {
    "scrolled": true
   },
   "outputs": [
    {
     "data": {
      "text/html": [
       "<div>\n",
       "<style scoped>\n",
       "    .dataframe tbody tr th:only-of-type {\n",
       "        vertical-align: middle;\n",
       "    }\n",
       "\n",
       "    .dataframe tbody tr th {\n",
       "        vertical-align: top;\n",
       "    }\n",
       "\n",
       "    .dataframe thead th {\n",
       "        text-align: right;\n",
       "    }\n",
       "</style>\n",
       "<table border=\"1\" class=\"dataframe\">\n",
       "  <thead>\n",
       "    <tr style=\"text-align: right;\">\n",
       "      <th></th>\n",
       "      <th>num core</th>\n",
       "      <th>num acc</th>\n",
       "      <th>odds ratio</th>\n",
       "      <th>p-value</th>\n",
       "      <th>module label</th>\n",
       "      <th>num core in module</th>\n",
       "      <th>num acc in module</th>\n",
       "      <th>num core outside module</th>\n",
       "      <th>num acc outside module</th>\n",
       "      <th>significant</th>\n",
       "      <th>FDR corrected p-value</th>\n",
       "      <th>size</th>\n",
       "    </tr>\n",
       "  </thead>\n",
       "  <tbody>\n",
       "    <tr>\n",
       "      <th>390</th>\n",
       "      <td>NaN</td>\n",
       "      <td>NaN</td>\n",
       "      <td>0.493271</td>\n",
       "      <td>0.407427</td>\n",
       "      <td>mixed</td>\n",
       "      <td>12.0</td>\n",
       "      <td>0.0</td>\n",
       "      <td>5349.0</td>\n",
       "      <td>202.0</td>\n",
       "      <td>False</td>\n",
       "      <td>0.484787</td>\n",
       "      <td>12</td>\n",
       "    </tr>\n",
       "    <tr>\n",
       "      <th>0</th>\n",
       "      <td>NaN</td>\n",
       "      <td>NaN</td>\n",
       "      <td>0.569372</td>\n",
       "      <td>0.45017</td>\n",
       "      <td>mixed</td>\n",
       "      <td>14.0</td>\n",
       "      <td>0.0</td>\n",
       "      <td>5347.0</td>\n",
       "      <td>202.0</td>\n",
       "      <td>False</td>\n",
       "      <td>0.497835</td>\n",
       "      <td>14</td>\n",
       "    </tr>\n",
       "    <tr>\n",
       "      <th>491</th>\n",
       "      <td>NaN</td>\n",
       "      <td>NaN</td>\n",
       "      <td>0.455242</td>\n",
       "      <td>0.384832</td>\n",
       "      <td>mixed</td>\n",
       "      <td>11.0</td>\n",
       "      <td>0.0</td>\n",
       "      <td>5350.0</td>\n",
       "      <td>202.0</td>\n",
       "      <td>False</td>\n",
       "      <td>0.484787</td>\n",
       "      <td>11</td>\n",
       "    </tr>\n",
       "    <tr>\n",
       "      <th>298</th>\n",
       "      <td>NaN</td>\n",
       "      <td>NaN</td>\n",
       "      <td>0.417227</td>\n",
       "      <td>0.36138</td>\n",
       "      <td>mixed</td>\n",
       "      <td>10.0</td>\n",
       "      <td>0.0</td>\n",
       "      <td>5351.0</td>\n",
       "      <td>202.0</td>\n",
       "      <td>False</td>\n",
       "      <td>0.484787</td>\n",
       "      <td>10</td>\n",
       "    </tr>\n",
       "    <tr>\n",
       "      <th>522</th>\n",
       "      <td>NaN</td>\n",
       "      <td>NaN</td>\n",
       "      <td>0.759873</td>\n",
       "      <td>0.544075</td>\n",
       "      <td>mixed</td>\n",
       "      <td>19.0</td>\n",
       "      <td>0.0</td>\n",
       "      <td>5342.0</td>\n",
       "      <td>202.0</td>\n",
       "      <td>False</td>\n",
       "      <td>0.55996</td>\n",
       "      <td>19</td>\n",
       "    </tr>\n",
       "  </tbody>\n",
       "</table>\n",
       "</div>"
      ],
      "text/plain": [
       "    num core num acc odds ratio   p-value module label  num core in module  \\\n",
       "390      NaN     NaN   0.493271  0.407427        mixed                12.0   \n",
       "0        NaN     NaN   0.569372   0.45017        mixed                14.0   \n",
       "491      NaN     NaN   0.455242  0.384832        mixed                11.0   \n",
       "298      NaN     NaN   0.417227   0.36138        mixed                10.0   \n",
       "522      NaN     NaN   0.759873  0.544075        mixed                19.0   \n",
       "\n",
       "     num acc in module  num core outside module  num acc outside module  \\\n",
       "390                0.0                   5349.0                   202.0   \n",
       "0                  0.0                   5347.0                   202.0   \n",
       "491                0.0                   5350.0                   202.0   \n",
       "298                0.0                   5351.0                   202.0   \n",
       "522                0.0                   5342.0                   202.0   \n",
       "\n",
       "     significant FDR corrected p-value  size  \n",
       "390        False              0.484787    12  \n",
       "0          False              0.497835    14  \n",
       "491        False              0.484787    11  \n",
       "298        False              0.484787    10  \n",
       "522        False               0.55996    19  "
      ]
     },
     "execution_count": 21,
     "metadata": {},
     "output_type": "execute_result"
    }
   ],
   "source": [
    "pao1_module_labels.head()"
   ]
  },
  {
   "cell_type": "code",
   "execution_count": 22,
   "id": "15d27db2",
   "metadata": {},
   "outputs": [
    {
     "data": {
      "text/html": [
       "<div>\n",
       "<style scoped>\n",
       "    .dataframe tbody tr th:only-of-type {\n",
       "        vertical-align: middle;\n",
       "    }\n",
       "\n",
       "    .dataframe tbody tr th {\n",
       "        vertical-align: top;\n",
       "    }\n",
       "\n",
       "    .dataframe thead th {\n",
       "        text-align: right;\n",
       "    }\n",
       "</style>\n",
       "<table border=\"1\" class=\"dataframe\">\n",
       "  <thead>\n",
       "    <tr style=\"text-align: right;\">\n",
       "      <th></th>\n",
       "      <th>num core</th>\n",
       "      <th>num acc</th>\n",
       "      <th>odds ratio</th>\n",
       "      <th>p-value</th>\n",
       "      <th>module label</th>\n",
       "      <th>num core in module</th>\n",
       "      <th>num acc in module</th>\n",
       "      <th>num core outside module</th>\n",
       "      <th>num acc outside module</th>\n",
       "      <th>significant</th>\n",
       "      <th>FDR corrected p-value</th>\n",
       "      <th>size</th>\n",
       "    </tr>\n",
       "  </thead>\n",
       "  <tbody>\n",
       "    <tr>\n",
       "      <th>425</th>\n",
       "      <td>NaN</td>\n",
       "      <td>NaN</td>\n",
       "      <td>1.19081</td>\n",
       "      <td>1</td>\n",
       "      <td>mixed</td>\n",
       "      <td>11.0</td>\n",
       "      <td>0.0</td>\n",
       "      <td>5350.0</td>\n",
       "      <td>530.0</td>\n",
       "      <td>False</td>\n",
       "      <td>1</td>\n",
       "      <td>11</td>\n",
       "    </tr>\n",
       "    <tr>\n",
       "      <th>168</th>\n",
       "      <td>NaN</td>\n",
       "      <td>NaN</td>\n",
       "      <td>0.445461</td>\n",
       "      <td>0.261116</td>\n",
       "      <td>mixed</td>\n",
       "      <td>8.0</td>\n",
       "      <td>1.0</td>\n",
       "      <td>5353.0</td>\n",
       "      <td>529.0</td>\n",
       "      <td>False</td>\n",
       "      <td>0.978098</td>\n",
       "      <td>9</td>\n",
       "    </tr>\n",
       "    <tr>\n",
       "      <th>379</th>\n",
       "      <td>NaN</td>\n",
       "      <td>NaN</td>\n",
       "      <td>0.560731</td>\n",
       "      <td>0.418151</td>\n",
       "      <td>mixed</td>\n",
       "      <td>16.0</td>\n",
       "      <td>2.0</td>\n",
       "      <td>5345.0</td>\n",
       "      <td>528.0</td>\n",
       "      <td>False</td>\n",
       "      <td>0.978098</td>\n",
       "      <td>18</td>\n",
       "    </tr>\n",
       "    <tr>\n",
       "      <th>189</th>\n",
       "      <td>NaN</td>\n",
       "      <td>NaN</td>\n",
       "      <td>0.991967</td>\n",
       "      <td>1</td>\n",
       "      <td>mixed</td>\n",
       "      <td>9.0</td>\n",
       "      <td>0.0</td>\n",
       "      <td>5352.0</td>\n",
       "      <td>530.0</td>\n",
       "      <td>False</td>\n",
       "      <td>1</td>\n",
       "      <td>9</td>\n",
       "    </tr>\n",
       "    <tr>\n",
       "      <th>255</th>\n",
       "      <td>NaN</td>\n",
       "      <td>NaN</td>\n",
       "      <td>0.45397</td>\n",
       "      <td>0.102266</td>\n",
       "      <td>mixed</td>\n",
       "      <td>22.0</td>\n",
       "      <td>4.0</td>\n",
       "      <td>5339.0</td>\n",
       "      <td>526.0</td>\n",
       "      <td>False</td>\n",
       "      <td>0.859574</td>\n",
       "      <td>26</td>\n",
       "    </tr>\n",
       "  </tbody>\n",
       "</table>\n",
       "</div>"
      ],
      "text/plain": [
       "    num core num acc odds ratio   p-value module label  num core in module  \\\n",
       "425      NaN     NaN    1.19081         1        mixed                11.0   \n",
       "168      NaN     NaN   0.445461  0.261116        mixed                 8.0   \n",
       "379      NaN     NaN   0.560731  0.418151        mixed                16.0   \n",
       "189      NaN     NaN   0.991967         1        mixed                 9.0   \n",
       "255      NaN     NaN    0.45397  0.102266        mixed                22.0   \n",
       "\n",
       "     num acc in module  num core outside module  num acc outside module  \\\n",
       "425                0.0                   5350.0                   530.0   \n",
       "168                1.0                   5353.0                   529.0   \n",
       "379                2.0                   5345.0                   528.0   \n",
       "189                0.0                   5352.0                   530.0   \n",
       "255                4.0                   5339.0                   526.0   \n",
       "\n",
       "     significant FDR corrected p-value  size  \n",
       "425        False                     1    11  \n",
       "168        False              0.978098     9  \n",
       "379        False              0.978098    18  \n",
       "189        False                     1     9  \n",
       "255        False              0.859574    26  "
      ]
     },
     "execution_count": 22,
     "metadata": {},
     "output_type": "execute_result"
    }
   ],
   "source": [
    "pa14_module_labels.head()"
   ]
  },
  {
   "cell_type": "code",
   "execution_count": 23,
   "id": "5c521ed7",
   "metadata": {},
   "outputs": [
    {
     "data": {
      "text/plain": [
       "Text(0.5, 1.0, 'Size distribution of PAO1 mostly core modules')"
      ]
     },
     "execution_count": 23,
     "metadata": {},
     "output_type": "execute_result"
    },
    {
     "data": {
      "image/png": "[encoded data removed]",
      "text/plain": [
       "<Figure size 360x360 with 1 Axes>"
      ]
     },
     "metadata": {
      "needs_background": "light"
     },
     "output_type": "display_data"
    },
    {
     "data": {
      "image/png": "[encoded data removed]",
      "text/plain": [
       "<Figure size 360x360 with 1 Axes>"
      ]
     },
     "metadata": {
      "needs_background": "light"
     },
     "output_type": "display_data"
    },
    {
     "data": {
      "image/png": "[encoded data removed]",
      "text/plain": [
       "<Figure size 360x360 with 1 Axes>"
      ]
     },
     "metadata": {
      "needs_background": "light"
     },
     "output_type": "display_data"
    }
   ],
   "source": [
    "# Size distributions of PAO1 modules\n",
    "f1 = sns.displot(\n",
    "    pao1_module_labels.loc[pao1_module_labels[\"module label\"] == \"mixed\", \"size\"]\n",
    ")\n",
    "plt.title(\"Size distribution of PAO1 mixed modules\")\n",
    "\n",
    "f2 = sns.displot(\n",
    "    pao1_module_labels.loc[\n",
    "        pao1_module_labels[\"module label\"] == \"mostly accessory\", \"size\"\n",
    "    ]\n",
    ")\n",
    "plt.title(\"Size distribution of PAO1 mostly accessory modules\")\n",
    "\n",
    "f3 = sns.displot(\n",
    "    pao1_module_labels.loc[pao1_module_labels[\"module label\"] == \"mostly core\", \"size\"]\n",
    ")\n",
    "plt.title(\"Size distribution of PAO1 mostly core modules\")"
   ]
  },
  {
   "cell_type": "code",
   "execution_count": 24,
   "id": "93aa572b",
   "metadata": {},
   "outputs": [
    {
     "data": {
      "text/plain": [
       "Text(0.5, 1.0, 'Size distribution of PA14 mostly core modules')"
      ]
     },
     "execution_count": 24,
     "metadata": {},
     "output_type": "execute_result"
    },
    {
     "data": {
      "image/png": "[encoded data removed]",
      "text/plain": [
       "<Figure size 360x360 with 1 Axes>"
      ]
     },
     "metadata": {
      "needs_background": "light"
     },
     "output_type": "display_data"
    },
    {
     "data": {
      "image/png": "[encoded data removed]",
      "text/plain": [
       "<Figure size 360x360 with 1 Axes>"
      ]
     },
     "metadata": {
      "needs_background": "light"
     },
     "output_type": "display_data"
    },
    {
     "data": {
      "image/png": "[encoded data removed]",
      "text/plain": [
       "<Figure size 360x360 with 1 Axes>"
      ]
     },
     "metadata": {
      "needs_background": "light"
     },
     "output_type": "display_data"
    }
   ],
   "source": [
    "# Size distributions of PA14 moduels\n",
    "g1 = sns.displot(\n",
    "    pa14_module_labels.loc[pa14_module_labels[\"module label\"] == \"mixed\", \"size\"]\n",
    ")\n",
    "plt.title(\"Size distribution of PA14 mixed modules\")\n",
    "\n",
    "g2 = sns.displot(\n",
    "    pa14_module_labels.loc[\n",
    "        pa14_module_labels[\"module label\"] == \"mostly accessory\", \"size\"\n",
    "    ]\n",
    ")\n",
    "plt.title(\"Size distribution of PA14 mostly accessory modules\")\n",
    "\n",
    "g3 = sns.displot(\n",
    "    pa14_module_labels.loc[pa14_module_labels[\"module label\"] == \"mostly core\", \"size\"]\n",
    ")\n",
    "plt.title(\"Size distribution of PA14 mostly core modules\")"
   ]
  },
  {
   "cell_type": "code",
   "execution_count": 25,
   "id": "02d67ce8",
   "metadata": {},
   "outputs": [],
   "source": [
    "# Save\n",
    "pao1_module_labels.to_csv(\n",
    "    os.path.join(paths.LOCAL_DATA_DIR, \"pao1_gene_module_labels.tsv\"), sep=\"\\t\"\n",
    ")\n",
    "pa14_module_labels.to_csv(\n",
    "    os.path.join(paths.LOCAL_DATA_DIR, \"pa14_gene_module_labels.tsv\"), sep=\"\\t\"\n",
    ")"
   ]
  },
  {
   "cell_type": "code",
   "execution_count": 26,
   "id": "ce7a1bb0",
   "metadata": {},
   "outputs": [],
   "source": [
    "# TO DO: Compare the composition across partitions\n",
    "# Save the matrix that maps module id to module label per partition\n",
    "# In another notebook look through module labels per partition\n",
    "# Calculate consistency of labeling using ARI for each pair of partitions"
   ]
  },
  {
   "cell_type": "markdown",
   "id": "f6ff6b78",
   "metadata": {},
   "source": [
    "**Takeaway:**\n",
    "* Most modules are mixed, some are mostly accessory. Only PA14 compendium have some mostly core modules\n",
    "* PAO1, PA14 mixed and mostly accessory modules have similar sizes"
   ]
  }
 ],
 "metadata": {
  "jupytext": {
   "encoding": "# -*- coding: utf-8 -*-",
   "formats": "ipynb,py"
  },
  "kernelspec": {
   "display_name": "Python [conda env:core_acc] *",
   "language": "python",
   "name": "conda-env-core_acc-py"
  },
  "language_info": {
   "codemirror_mode": {
    "name": "ipython",
    "version": 3
   },
   "file_extension": ".py",
   "mimetype": "text/x-python",
   "name": "python",
   "nbconvert_exporter": "python",
   "pygments_lexer": "ipython3",
   "version": "3.7.10"
  }
 },
 "nbformat": 4,
 "nbformat_minor": 5
}
