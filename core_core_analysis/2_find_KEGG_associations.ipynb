{
 "cells": [
  {
   "cell_type": "markdown",
   "id": "b6349d10",
   "metadata": {},
   "source": [
    "# Find KEGG associations\n",
    "\n",
    "This notebokk will create a table that has the KEGG pathways that are associated with the most stable and least stable core genes."
   ]
  },
  {
   "cell_type": "code",
   "execution_count": 1,
   "id": "0b84cda9",
   "metadata": {},
   "outputs": [],
   "source": [
    "%load_ext autoreload\n",
    "%autoreload 2\n",
    "%matplotlib inline\n",
    "import os\n",
    "import random\n",
    "import pandas as pd\n",
    "from core_acc_modules import paths, utils, modules\n",
    "\n",
    "random.seed(1)"
   ]
  },
  {
   "cell_type": "code",
   "execution_count": 2,
   "id": "054d6b0d",
   "metadata": {},
   "outputs": [],
   "source": [
    "# Output files\n",
    "pao1_core_stable_similarity_filename = \"pao1_core_stable_associations.tsv\"\n",
    "pa14_core_stable_similarity_filename = \"pa14_core_stable_associations.tsv\""
   ]
  },
  {
   "cell_type": "code",
   "execution_count": 3,
   "id": "99c9083d",
   "metadata": {},
   "outputs": [],
   "source": [
    "# Load transcriptional similarity df\n",
    "pao1_similarity_scores_filename = \"pao1_similarity_scores.tsv\"\n",
    "pa14_similarity_scores_filename = \"pa14_similarity_scores.tsv\"\n",
    "\n",
    "pao1_similarity_scores = pd.read_csv(\n",
    "    pao1_similarity_scores_filename, sep=\"\\t\", header=0, index_col=0\n",
    ")\n",
    "pa14_similarity_scores = pd.read_csv(\n",
    "    pa14_similarity_scores_filename, sep=\"\\t\", header=0, index_col=0\n",
    ")"
   ]
  },
  {
   "cell_type": "code",
   "execution_count": 4,
   "id": "9914d96c",
   "metadata": {},
   "outputs": [
    {
     "data": {
      "text/html": [
       "<div>\n",
       "<style scoped>\n",
       "    .dataframe tbody tr th:only-of-type {\n",
       "        vertical-align: middle;\n",
       "    }\n",
       "\n",
       "    .dataframe tbody tr th {\n",
       "        vertical-align: top;\n",
       "    }\n",
       "\n",
       "    .dataframe thead th {\n",
       "        text-align: right;\n",
       "    }\n",
       "</style>\n",
       "<table border=\"1\" class=\"dataframe\">\n",
       "  <thead>\n",
       "    <tr style=\"text-align: right;\">\n",
       "      <th></th>\n",
       "      <th>PA14 homolog id</th>\n",
       "      <th>Transcriptional similarity across strains</th>\n",
       "      <th>P-value</th>\n",
       "      <th>Name</th>\n",
       "      <th>label</th>\n",
       "    </tr>\n",
       "    <tr>\n",
       "      <th>PAO1 id</th>\n",
       "      <th></th>\n",
       "      <th></th>\n",
       "      <th></th>\n",
       "      <th></th>\n",
       "      <th></th>\n",
       "    </tr>\n",
       "  </thead>\n",
       "  <tbody>\n",
       "    <tr>\n",
       "      <th>PA1842</th>\n",
       "      <td>PA14_40690</td>\n",
       "      <td>0.269544</td>\n",
       "      <td>1.064307e-89</td>\n",
       "      <td>NaN</td>\n",
       "      <td>NaN</td>\n",
       "    </tr>\n",
       "    <tr>\n",
       "      <th>PA3037</th>\n",
       "      <td>PA14_24810</td>\n",
       "      <td>0.318441</td>\n",
       "      <td>2.444181e-126</td>\n",
       "      <td>NaN</td>\n",
       "      <td>NaN</td>\n",
       "    </tr>\n",
       "    <tr>\n",
       "      <th>PA2560</th>\n",
       "      <td>PA14_31420</td>\n",
       "      <td>0.321269</td>\n",
       "      <td>1.107483e-128</td>\n",
       "      <td>NaN</td>\n",
       "      <td>NaN</td>\n",
       "    </tr>\n",
       "    <tr>\n",
       "      <th>PA3677</th>\n",
       "      <td>PA14_16800</td>\n",
       "      <td>0.212203</td>\n",
       "      <td>1.628802e-55</td>\n",
       "      <td>mexJ</td>\n",
       "      <td>NaN</td>\n",
       "    </tr>\n",
       "    <tr>\n",
       "      <th>PA5381</th>\n",
       "      <td>PA14_71080</td>\n",
       "      <td>0.380869</td>\n",
       "      <td>3.054638e-184</td>\n",
       "      <td>NaN</td>\n",
       "      <td>NaN</td>\n",
       "    </tr>\n",
       "  </tbody>\n",
       "</table>\n",
       "</div>"
      ],
      "text/plain": [
       "        PA14 homolog id  Transcriptional similarity across strains  \\\n",
       "PAO1 id                                                              \n",
       "PA1842       PA14_40690                                   0.269544   \n",
       "PA3037       PA14_24810                                   0.318441   \n",
       "PA2560       PA14_31420                                   0.321269   \n",
       "PA3677       PA14_16800                                   0.212203   \n",
       "PA5381       PA14_71080                                   0.380869   \n",
       "\n",
       "               P-value  Name label  \n",
       "PAO1 id                             \n",
       "PA1842    1.064307e-89   NaN   NaN  \n",
       "PA3037   2.444181e-126   NaN   NaN  \n",
       "PA2560   1.107483e-128   NaN   NaN  \n",
       "PA3677    1.628802e-55  mexJ   NaN  \n",
       "PA5381   3.054638e-184   NaN   NaN  "
      ]
     },
     "execution_count": 4,
     "metadata": {},
     "output_type": "execute_result"
    }
   ],
   "source": [
    "pao1_similarity_scores.head()"
   ]
  },
  {
   "cell_type": "code",
   "execution_count": 5,
   "id": "6301ef4e",
   "metadata": {},
   "outputs": [],
   "source": [
    "# Load KEGG pathway data\n",
    "pao1_pathway_filename = \"https://raw.githubusercontent.com/greenelab/adage/7a4eda39d360b224268921dc1f2c14b32788ab16/Node_interpretation/pseudomonas_KEGG_terms.txt\"\n",
    "\n",
    "pao1_pathways = pd.read_csv(pao1_pathway_filename, sep=\"\\t\", index_col=0, header=None)"
   ]
  },
  {
   "cell_type": "code",
   "execution_count": 6,
   "id": "2fe86544",
   "metadata": {},
   "outputs": [
    {
     "data": {
      "text/html": [
       "<div>\n",
       "<style scoped>\n",
       "    .dataframe tbody tr th:only-of-type {\n",
       "        vertical-align: middle;\n",
       "    }\n",
       "\n",
       "    .dataframe tbody tr th {\n",
       "        vertical-align: top;\n",
       "    }\n",
       "\n",
       "    .dataframe thead th {\n",
       "        text-align: right;\n",
       "    }\n",
       "</style>\n",
       "<table border=\"1\" class=\"dataframe\">\n",
       "  <thead>\n",
       "    <tr style=\"text-align: right;\">\n",
       "      <th></th>\n",
       "      <th>1</th>\n",
       "      <th>2</th>\n",
       "    </tr>\n",
       "    <tr>\n",
       "      <th>0</th>\n",
       "      <th></th>\n",
       "      <th></th>\n",
       "    </tr>\n",
       "  </thead>\n",
       "  <tbody>\n",
       "    <tr>\n",
       "      <th>KEGG-Pathway-pae00072: Synthesis and degradation of ketone bodies</th>\n",
       "      <td>10</td>\n",
       "      <td>{PA2553, PA3925, PA1736, PA2003, PA2011, PA200...</td>\n",
       "    </tr>\n",
       "    <tr>\n",
       "      <th>KEGG-Pathway-pae00071: Fatty acid degradation</th>\n",
       "      <td>32</td>\n",
       "      <td>{PA3300, PA3014, PA3589, PA5020, PA1736, PA392...</td>\n",
       "    </tr>\n",
       "    <tr>\n",
       "      <th>KEGG-Pathway-pae00903: Limonene and pinene degradation</th>\n",
       "      <td>9</td>\n",
       "      <td>{PA3014, PA2475, PA4899, PA1027, PA1748, PA342...</td>\n",
       "    </tr>\n",
       "    <tr>\n",
       "      <th>KEGG-Pathway-pae00380: Tryptophan metabolism</th>\n",
       "      <td>27</td>\n",
       "      <td>{PA1585, PA2579, PA3014, PA0704, PA2147, PA358...</td>\n",
       "    </tr>\n",
       "    <tr>\n",
       "      <th>KEGG-Pathway-pae00900: Terpenoid backbone biosynthesis</th>\n",
       "      <td>16</td>\n",
       "      <td>{PA2553, PA3925, PA1736, PA3650, PA3633, PA362...</td>\n",
       "    </tr>\n",
       "  </tbody>\n",
       "</table>\n",
       "</div>"
      ],
      "text/plain": [
       "                                                     1  \\\n",
       "0                                                        \n",
       "KEGG-Pathway-pae00072: Synthesis and degradatio...  10   \n",
       "KEGG-Pathway-pae00071: Fatty acid degradation       32   \n",
       "KEGG-Pathway-pae00903: Limonene and pinene degr...   9   \n",
       "KEGG-Pathway-pae00380: Tryptophan metabolism        27   \n",
       "KEGG-Pathway-pae00900: Terpenoid backbone biosy...  16   \n",
       "\n",
       "                                                                                                    2  \n",
       "0                                                                                                      \n",
       "KEGG-Pathway-pae00072: Synthesis and degradatio...  {PA2553, PA3925, PA1736, PA2003, PA2011, PA200...  \n",
       "KEGG-Pathway-pae00071: Fatty acid degradation       {PA3300, PA3014, PA3589, PA5020, PA1736, PA392...  \n",
       "KEGG-Pathway-pae00903: Limonene and pinene degr...  {PA3014, PA2475, PA4899, PA1027, PA1748, PA342...  \n",
       "KEGG-Pathway-pae00380: Tryptophan metabolism        {PA1585, PA2579, PA3014, PA0704, PA2147, PA358...  \n",
       "KEGG-Pathway-pae00900: Terpenoid backbone biosy...  {PA2553, PA3925, PA1736, PA3650, PA3633, PA362...  "
      ]
     },
     "execution_count": 6,
     "metadata": {},
     "output_type": "execute_result"
    }
   ],
   "source": [
    "pao1_pathways[2] = pao1_pathways[2].str.split(\";\").apply(set)\n",
    "pao1_pathways.index = pao1_pathways.index.str.split(\" - \").str[0]\n",
    "pao1_pathways.head()"
   ]
  },
  {
   "cell_type": "markdown",
   "id": "43fe578a",
   "metadata": {},
   "source": [
    "## Pathway annotations to PA14\n",
    "\n",
    "The annotations we have are only for PAO1 genes, so we will map PAO1 core genes to PA14 core genes to add annotations to PA14. This is possible since we are focused on only core genes, which have homologs between PAO1 and PA14"
   ]
  },
  {
   "cell_type": "code",
   "execution_count": 7,
   "id": "5a0084e9",
   "metadata": {},
   "outputs": [],
   "source": [
    "pao1_annotation_filename = paths.GENE_PAO1_ANNOT\n",
    "gene_mapping_pao1 = utils.get_pao1_pa14_gene_map(pao1_annotation_filename, \"pao1\")"
   ]
  },
  {
   "cell_type": "code",
   "execution_count": 8,
   "id": "241abe87",
   "metadata": {},
   "outputs": [],
   "source": [
    "gene_mapping_pao1 = gene_mapping_pao1[\"PA14_ID\"].to_frame()"
   ]
  },
  {
   "cell_type": "markdown",
   "id": "9dfb1ae0",
   "metadata": {},
   "source": [
    "## Get pathway associations for most and least stable genes"
   ]
  },
  {
   "cell_type": "code",
   "execution_count": 9,
   "id": "b3ca10f5",
   "metadata": {},
   "outputs": [],
   "source": [
    "# Get most and least stable core genes\n",
    "most_stable_genes = pao1_similarity_scores[\n",
    "    pao1_similarity_scores[\"label\"] == \"most stable\"\n",
    "].index\n",
    "least_stable_genes = pao1_similarity_scores[\n",
    "    pao1_similarity_scores[\"label\"] == \"least stable\"\n",
    "].index"
   ]
  },
  {
   "cell_type": "code",
   "execution_count": 10,
   "id": "a3ffb14c",
   "metadata": {},
   "outputs": [],
   "source": [
    "def get_associated_pathways(genes_):\n",
    "    rows = []\n",
    "    for gene_id in genes_:\n",
    "        pathway_bool = [\n",
    "            gene_id in pao1_pathways.loc[pathway, 2] for pathway in pao1_pathways.index\n",
    "        ]\n",
    "        found_pathways = list(pao1_pathways[pathway_bool].index)\n",
    "        rows.append({\"gene id\": gene_id, \"pathways present\": found_pathways})\n",
    "    return pd.DataFrame(rows)"
   ]
  },
  {
   "cell_type": "code",
   "execution_count": 11,
   "id": "bad6d52d",
   "metadata": {},
   "outputs": [
    {
     "data": {
      "text/html": [
       "<div>\n",
       "<style scoped>\n",
       "    .dataframe tbody tr th:only-of-type {\n",
       "        vertical-align: middle;\n",
       "    }\n",
       "\n",
       "    .dataframe tbody tr th {\n",
       "        vertical-align: top;\n",
       "    }\n",
       "\n",
       "    .dataframe thead th {\n",
       "        text-align: right;\n",
       "    }\n",
       "</style>\n",
       "<table border=\"1\" class=\"dataframe\">\n",
       "  <thead>\n",
       "    <tr style=\"text-align: right;\">\n",
       "      <th></th>\n",
       "      <th>gene id</th>\n",
       "      <th>pathways present</th>\n",
       "    </tr>\n",
       "  </thead>\n",
       "  <tbody>\n",
       "    <tr>\n",
       "      <th>0</th>\n",
       "      <td>PA4112</td>\n",
       "      <td>[]</td>\n",
       "    </tr>\n",
       "    <tr>\n",
       "      <th>1</th>\n",
       "      <td>PA4414</td>\n",
       "      <td>[KEGG-Pathway-pae00471: D-Glutamine and D-glut...</td>\n",
       "    </tr>\n",
       "    <tr>\n",
       "      <th>2</th>\n",
       "      <td>PA4481</td>\n",
       "      <td>[]</td>\n",
       "    </tr>\n",
       "    <tr>\n",
       "      <th>3</th>\n",
       "      <td>PA3449</td>\n",
       "      <td>[KEGG-Pathway-pae00920: Sulfur metabolism, KEG...</td>\n",
       "    </tr>\n",
       "    <tr>\n",
       "      <th>4</th>\n",
       "      <td>PA4563</td>\n",
       "      <td>[KEGG-Pathway-pae03010: Ribosome, KEGG-Module-...</td>\n",
       "    </tr>\n",
       "  </tbody>\n",
       "</table>\n",
       "</div>"
      ],
      "text/plain": [
       "  gene id                                   pathways present\n",
       "0  PA4112                                                 []\n",
       "1  PA4414  [KEGG-Pathway-pae00471: D-Glutamine and D-glut...\n",
       "2  PA4481                                                 []\n",
       "3  PA3449  [KEGG-Pathway-pae00920: Sulfur metabolism, KEG...\n",
       "4  PA4563  [KEGG-Pathway-pae03010: Ribosome, KEGG-Module-..."
      ]
     },
     "execution_count": 11,
     "metadata": {},
     "output_type": "execute_result"
    }
   ],
   "source": [
    "most_stable_associations = get_associated_pathways(most_stable_genes)\n",
    "most_stable_associations.head()"
   ]
  },
  {
   "cell_type": "code",
   "execution_count": 12,
   "id": "de0e3cc8",
   "metadata": {},
   "outputs": [
    {
     "data": {
      "text/html": [
       "<div>\n",
       "<style scoped>\n",
       "    .dataframe tbody tr th:only-of-type {\n",
       "        vertical-align: middle;\n",
       "    }\n",
       "\n",
       "    .dataframe tbody tr th {\n",
       "        vertical-align: top;\n",
       "    }\n",
       "\n",
       "    .dataframe thead th {\n",
       "        text-align: right;\n",
       "    }\n",
       "</style>\n",
       "<table border=\"1\" class=\"dataframe\">\n",
       "  <thead>\n",
       "    <tr style=\"text-align: right;\">\n",
       "      <th></th>\n",
       "      <th>gene id</th>\n",
       "      <th>pathways present</th>\n",
       "    </tr>\n",
       "  </thead>\n",
       "  <tbody>\n",
       "    <tr>\n",
       "      <th>0</th>\n",
       "      <td>PA0850</td>\n",
       "      <td>[]</td>\n",
       "    </tr>\n",
       "    <tr>\n",
       "      <th>1</th>\n",
       "      <td>PA2283</td>\n",
       "      <td>[]</td>\n",
       "    </tr>\n",
       "    <tr>\n",
       "      <th>2</th>\n",
       "      <td>PA0346</td>\n",
       "      <td>[]</td>\n",
       "    </tr>\n",
       "    <tr>\n",
       "      <th>3</th>\n",
       "      <td>PA1633</td>\n",
       "      <td>[]</td>\n",
       "    </tr>\n",
       "    <tr>\n",
       "      <th>4</th>\n",
       "      <td>PA1195</td>\n",
       "      <td>[]</td>\n",
       "    </tr>\n",
       "  </tbody>\n",
       "</table>\n",
       "</div>"
      ],
      "text/plain": [
       "  gene id pathways present\n",
       "0  PA0850               []\n",
       "1  PA2283               []\n",
       "2  PA0346               []\n",
       "3  PA1633               []\n",
       "4  PA1195               []"
      ]
     },
     "execution_count": 12,
     "metadata": {},
     "output_type": "execute_result"
    }
   ],
   "source": [
    "least_stable_associations = get_associated_pathways(least_stable_genes)\n",
    "least_stable_associations.head()"
   ]
  },
  {
   "cell_type": "code",
   "execution_count": 13,
   "id": "df1ef30e",
   "metadata": {},
   "outputs": [],
   "source": [
    "# Add label for most and least stable core genes\n",
    "most_stable_associations[\"label\"] = \"most stable\"\n",
    "least_stable_associations[\"label\"] = \"least stable\""
   ]
  },
  {
   "cell_type": "code",
   "execution_count": 14,
   "id": "0402cad9",
   "metadata": {},
   "outputs": [
    {
     "data": {
      "text/html": [
       "<div>\n",
       "<style scoped>\n",
       "    .dataframe tbody tr th:only-of-type {\n",
       "        vertical-align: middle;\n",
       "    }\n",
       "\n",
       "    .dataframe tbody tr th {\n",
       "        vertical-align: top;\n",
       "    }\n",
       "\n",
       "    .dataframe thead th {\n",
       "        text-align: right;\n",
       "    }\n",
       "</style>\n",
       "<table border=\"1\" class=\"dataframe\">\n",
       "  <thead>\n",
       "    <tr style=\"text-align: right;\">\n",
       "      <th></th>\n",
       "      <th>pathways present</th>\n",
       "      <th>label</th>\n",
       "    </tr>\n",
       "    <tr>\n",
       "      <th>gene id</th>\n",
       "      <th></th>\n",
       "      <th></th>\n",
       "    </tr>\n",
       "  </thead>\n",
       "  <tbody>\n",
       "    <tr>\n",
       "      <th>PA4112</th>\n",
       "      <td>[]</td>\n",
       "      <td>most stable</td>\n",
       "    </tr>\n",
       "    <tr>\n",
       "      <th>PA4414</th>\n",
       "      <td>[KEGG-Pathway-pae00471: D-Glutamine and D-glut...</td>\n",
       "      <td>most stable</td>\n",
       "    </tr>\n",
       "    <tr>\n",
       "      <th>PA4481</th>\n",
       "      <td>[]</td>\n",
       "      <td>most stable</td>\n",
       "    </tr>\n",
       "    <tr>\n",
       "      <th>PA3449</th>\n",
       "      <td>[KEGG-Pathway-pae00920: Sulfur metabolism, KEG...</td>\n",
       "      <td>most stable</td>\n",
       "    </tr>\n",
       "    <tr>\n",
       "      <th>PA4563</th>\n",
       "      <td>[KEGG-Pathway-pae03010: Ribosome, KEGG-Module-...</td>\n",
       "      <td>most stable</td>\n",
       "    </tr>\n",
       "  </tbody>\n",
       "</table>\n",
       "</div>"
      ],
      "text/plain": [
       "                                          pathways present        label\n",
       "gene id                                                                \n",
       "PA4112                                                  []  most stable\n",
       "PA4414   [KEGG-Pathway-pae00471: D-Glutamine and D-glut...  most stable\n",
       "PA4481                                                  []  most stable\n",
       "PA3449   [KEGG-Pathway-pae00920: Sulfur metabolism, KEG...  most stable\n",
       "PA4563   [KEGG-Pathway-pae03010: Ribosome, KEGG-Module-...  most stable"
      ]
     },
     "execution_count": 14,
     "metadata": {},
     "output_type": "execute_result"
    }
   ],
   "source": [
    "# Concatenate dataframes\n",
    "pao1_all_associations = pd.concat([most_stable_associations, least_stable_associations])\n",
    "pao1_all_associations.set_index(\"gene id\", inplace=True)\n",
    "pao1_all_associations.head()\n",
    "\n",
    "# TO DO: Rename index col"
   ]
  },
  {
   "cell_type": "code",
   "execution_count": 15,
   "id": "a7c3b717",
   "metadata": {},
   "outputs": [
    {
     "data": {
      "text/html": [
       "<div>\n",
       "<style scoped>\n",
       "    .dataframe tbody tr th:only-of-type {\n",
       "        vertical-align: middle;\n",
       "    }\n",
       "\n",
       "    .dataframe tbody tr th {\n",
       "        vertical-align: top;\n",
       "    }\n",
       "\n",
       "    .dataframe thead th {\n",
       "        text-align: right;\n",
       "    }\n",
       "</style>\n",
       "<table border=\"1\" class=\"dataframe\">\n",
       "  <thead>\n",
       "    <tr style=\"text-align: right;\">\n",
       "      <th></th>\n",
       "      <th>pathways present</th>\n",
       "      <th>label</th>\n",
       "    </tr>\n",
       "    <tr>\n",
       "      <th>PA14_ID</th>\n",
       "      <th></th>\n",
       "      <th></th>\n",
       "    </tr>\n",
       "  </thead>\n",
       "  <tbody>\n",
       "    <tr>\n",
       "      <th>PA14_10770</th>\n",
       "      <td>[]</td>\n",
       "      <td>most stable</td>\n",
       "    </tr>\n",
       "    <tr>\n",
       "      <th>PA14_57370</th>\n",
       "      <td>[KEGG-Pathway-pae00471: D-Glutamine and D-glut...</td>\n",
       "      <td>most stable</td>\n",
       "    </tr>\n",
       "    <tr>\n",
       "      <th>PA14_58150</th>\n",
       "      <td>[]</td>\n",
       "      <td>most stable</td>\n",
       "    </tr>\n",
       "    <tr>\n",
       "      <th>PA14_19500</th>\n",
       "      <td>[KEGG-Pathway-pae00920: Sulfur metabolism, KEG...</td>\n",
       "      <td>most stable</td>\n",
       "    </tr>\n",
       "    <tr>\n",
       "      <th>PA14_60400</th>\n",
       "      <td>[KEGG-Pathway-pae03010: Ribosome, KEGG-Module-...</td>\n",
       "      <td>most stable</td>\n",
       "    </tr>\n",
       "  </tbody>\n",
       "</table>\n",
       "</div>"
      ],
      "text/plain": [
       "                                             pathways present        label\n",
       "PA14_ID                                                                   \n",
       "PA14_10770                                                 []  most stable\n",
       "PA14_57370  [KEGG-Pathway-pae00471: D-Glutamine and D-glut...  most stable\n",
       "PA14_58150                                                 []  most stable\n",
       "PA14_19500  [KEGG-Pathway-pae00920: Sulfur metabolism, KEG...  most stable\n",
       "PA14_60400  [KEGG-Pathway-pae03010: Ribosome, KEGG-Module-...  most stable"
      ]
     },
     "execution_count": 15,
     "metadata": {},
     "output_type": "execute_result"
    }
   ],
   "source": [
    "# Map PA14 gene ids\n",
    "pa14_all_associations = pao1_all_associations.merge(\n",
    "    gene_mapping_pao1, left_index=True, right_index=True\n",
    ")\n",
    "pa14_all_associations.set_index(\"PA14_ID\", inplace=True)\n",
    "pa14_all_associations.head()"
   ]
  },
  {
   "cell_type": "code",
   "execution_count": 16,
   "id": "ad2f6245",
   "metadata": {},
   "outputs": [],
   "source": [
    "# Save\n",
    "pao1_all_associations.to_csv(pao1_core_stable_similarity_filename, sep=\"\\t\")\n",
    "pa14_all_associations.to_csv(pa14_core_stable_similarity_filename, sep=\"\\t\")"
   ]
  }
 ],
 "metadata": {
  "jupytext": {
   "formats": "ipynb,py"
  },
  "kernelspec": {
   "display_name": "Python [conda env:core_acc] *",
   "language": "python",
   "name": "conda-env-core_acc-py"
  },
  "language_info": {
   "codemirror_mode": {
    "name": "ipython",
    "version": 3
   },
   "file_extension": ".py",
   "mimetype": "text/x-python",
   "name": "python",
   "nbconvert_exporter": "python",
   "pygments_lexer": "ipython3",
   "version": "3.7.10"
  }
 },
 "nbformat": 4,
 "nbformat_minor": 5
}
