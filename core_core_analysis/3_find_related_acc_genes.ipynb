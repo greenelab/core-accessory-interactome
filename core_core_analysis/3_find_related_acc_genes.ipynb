{
 "cells": [
  {
   "cell_type": "markdown",
   "id": "9087d56b",
   "metadata": {},
   "source": [
    "# Find co-expressed accessory genes\n",
    "\n",
    "From the [core-acc analysis](../core_acc_analysis/stable_gene_relationships.ipynb) we observed that least stable core genes tended to be highly co-expressed with more accessory genes compared to the most stable core genes. Therefore, this notebook reports the accessory genes that the least core genes are most co-expressed with."
   ]
  },
  {
   "cell_type": "code",
   "execution_count": 1,
   "id": "3bc405ba",
   "metadata": {},
   "outputs": [],
   "source": [
    "%load_ext autoreload\n",
    "%autoreload 2\n",
    "%matplotlib inline\n",
    "import os\n",
    "import random\n",
    "import scipy\n",
    "import pandas as pd\n",
    "from core_acc_modules import utils, paths, gene_relationships\n",
    "\n",
    "random.seed(1)"
   ]
  },
  {
   "cell_type": "code",
   "execution_count": 2,
   "id": "7b53f6c7",
   "metadata": {},
   "outputs": [],
   "source": [
    "# User params\n",
    "use_operon = True"
   ]
  },
  {
   "cell_type": "markdown",
   "id": "d3f21cc7",
   "metadata": {},
   "source": [
    "### Load correlation matrix"
   ]
  },
  {
   "cell_type": "code",
   "execution_count": 3,
   "id": "bc3bce97",
   "metadata": {},
   "outputs": [],
   "source": [
    "# Load correlation matrix\n",
    "pao1_corr_filename = paths.PAO1_CORR_LOG_SPELL\n",
    "pa14_corr_filename = paths.PA14_CORR_LOG_SPELL\n",
    "\n",
    "pao1_corr = pd.read_csv(pao1_corr_filename, sep=\"\\t\", index_col=0, header=0)\n",
    "pa14_corr = pd.read_csv(pa14_corr_filename, sep=\"\\t\", index_col=0, header=0)"
   ]
  },
  {
   "cell_type": "code",
   "execution_count": 4,
   "id": "4a6689ee",
   "metadata": {},
   "outputs": [
    {
     "name": "stdout",
     "output_type": "stream",
     "text": [
      "(5563, 0)\n"
     ]
    },
    {
     "data": {
      "text/html": [
       "<div>\n",
       "<style scoped>\n",
       "    .dataframe tbody tr th:only-of-type {\n",
       "        vertical-align: middle;\n",
       "    }\n",
       "\n",
       "    .dataframe tbody tr th {\n",
       "        vertical-align: top;\n",
       "    }\n",
       "\n",
       "    .dataframe thead th {\n",
       "        text-align: right;\n",
       "    }\n",
       "</style>\n",
       "<table border=\"1\" class=\"dataframe\">\n",
       "  <thead>\n",
       "    <tr style=\"text-align: right;\">\n",
       "      <th></th>\n",
       "    </tr>\n",
       "  </thead>\n",
       "  <tbody>\n",
       "    <tr>\n",
       "      <th>PA0001</th>\n",
       "    </tr>\n",
       "    <tr>\n",
       "      <th>PA0002</th>\n",
       "    </tr>\n",
       "    <tr>\n",
       "      <th>PA0003</th>\n",
       "    </tr>\n",
       "    <tr>\n",
       "      <th>PA0004</th>\n",
       "    </tr>\n",
       "    <tr>\n",
       "      <th>PA0005</th>\n",
       "    </tr>\n",
       "  </tbody>\n",
       "</table>\n",
       "</div>"
      ],
      "text/plain": [
       "Empty DataFrame\n",
       "Columns: []\n",
       "Index: [PA0001, PA0002, PA0003, PA0004, PA0005]"
      ]
     },
     "execution_count": 4,
     "metadata": {},
     "output_type": "execute_result"
    }
   ],
   "source": [
    "# Make a dataframe with gene ids\n",
    "pao1_membership = pd.DataFrame(data=[], index=pao1_corr.index)\n",
    "print(pao1_membership.shape)\n",
    "pao1_membership.head()"
   ]
  },
  {
   "cell_type": "code",
   "execution_count": 5,
   "id": "b86bad5c",
   "metadata": {},
   "outputs": [
    {
     "name": "stdout",
     "output_type": "stream",
     "text": [
      "(5891, 0)\n"
     ]
    },
    {
     "data": {
      "text/html": [
       "<div>\n",
       "<style scoped>\n",
       "    .dataframe tbody tr th:only-of-type {\n",
       "        vertical-align: middle;\n",
       "    }\n",
       "\n",
       "    .dataframe tbody tr th {\n",
       "        vertical-align: top;\n",
       "    }\n",
       "\n",
       "    .dataframe thead th {\n",
       "        text-align: right;\n",
       "    }\n",
       "</style>\n",
       "<table border=\"1\" class=\"dataframe\">\n",
       "  <thead>\n",
       "    <tr style=\"text-align: right;\">\n",
       "      <th></th>\n",
       "    </tr>\n",
       "  </thead>\n",
       "  <tbody>\n",
       "    <tr>\n",
       "      <th>PA14_55610</th>\n",
       "    </tr>\n",
       "    <tr>\n",
       "      <th>PA14_55600</th>\n",
       "    </tr>\n",
       "    <tr>\n",
       "      <th>PA14_55590</th>\n",
       "    </tr>\n",
       "    <tr>\n",
       "      <th>PA14_55580</th>\n",
       "    </tr>\n",
       "    <tr>\n",
       "      <th>PA14_55570</th>\n",
       "    </tr>\n",
       "  </tbody>\n",
       "</table>\n",
       "</div>"
      ],
      "text/plain": [
       "Empty DataFrame\n",
       "Columns: []\n",
       "Index: [PA14_55610, PA14_55600, PA14_55590, PA14_55580, PA14_55570]"
      ]
     },
     "execution_count": 5,
     "metadata": {},
     "output_type": "execute_result"
    }
   ],
   "source": [
    "pa14_membership = pd.DataFrame(data=[], index=pa14_corr.index)\n",
    "print(pa14_membership.shape)\n",
    "pa14_membership.head()"
   ]
  },
  {
   "cell_type": "markdown",
   "id": "1a3f28ec",
   "metadata": {},
   "source": [
    "### Load and get least stable core genes"
   ]
  },
  {
   "cell_type": "code",
   "execution_count": 6,
   "id": "faca9c82",
   "metadata": {},
   "outputs": [],
   "source": [
    "# Load transcriptional similarity df\n",
    "# These are the subset of genes that we will consider\n",
    "pao1_similarity_scores_filename = \"pao1_similarity_scores.tsv\"\n",
    "pa14_similarity_scores_filename = \"pa14_similarity_scores.tsv\"\n",
    "\n",
    "pao1_similarity_scores = pd.read_csv(\n",
    "    pao1_similarity_scores_filename, sep=\"\\t\", header=0, index_col=0\n",
    ")\n",
    "pa14_similarity_scores = pd.read_csv(\n",
    "    pa14_similarity_scores_filename, sep=\"\\t\", header=0, index_col=0\n",
    ")"
   ]
  },
  {
   "cell_type": "code",
   "execution_count": 7,
   "id": "958a2f69",
   "metadata": {},
   "outputs": [],
   "source": [
    "# Get most and least stable core genes\n",
    "pao1_least_stable_genes = list(\n",
    "    pao1_similarity_scores[pao1_similarity_scores[\"label\"] == \"least stable\"].index\n",
    ")\n",
    "\n",
    "pa14_least_stable_genes = list(\n",
    "    pa14_similarity_scores[pa14_similarity_scores[\"label\"] == \"least stable\"].index\n",
    ")"
   ]
  },
  {
   "cell_type": "markdown",
   "id": "63244eb5",
   "metadata": {},
   "source": [
    "### Load core/accessory gene labels"
   ]
  },
  {
   "cell_type": "code",
   "execution_count": 8,
   "id": "74439b3e",
   "metadata": {},
   "outputs": [],
   "source": [
    "# Read in expression data\n",
    "pao1_expression_filename = paths.PAO1_COMPENDIUM\n",
    "pa14_expression_filename = paths.PA14_COMPENDIUM\n",
    "\n",
    "pao1_expression = pd.read_csv(pao1_expression_filename, sep=\"\\t\", index_col=0, header=0)\n",
    "pa14_expression = pd.read_csv(pa14_expression_filename, sep=\"\\t\", index_col=0, header=0)"
   ]
  },
  {
   "cell_type": "code",
   "execution_count": 9,
   "id": "cfde312c",
   "metadata": {},
   "outputs": [
    {
     "name": "stdout",
     "output_type": "stream",
     "text": [
      "Number of PAO1 core genes: 5366\n",
      "Number of PA14 core genes: 5363\n",
      "Number of PAO1 core genes in my dataset: 5361\n",
      "Number of PA14 core genes in my dataset: 5357\n",
      "Number of PAO1-specific genes: 202\n",
      "Number of PA14-specific genes: 534\n"
     ]
    }
   ],
   "source": [
    "pao1_annot_filename = paths.GENE_PAO1_ANNOT\n",
    "pa14_annot_filename = paths.GENE_PA14_ANNOT\n",
    "\n",
    "core_acc_dict = utils.get_my_core_acc_genes(\n",
    "    pao1_annot_filename, pa14_annot_filename, pao1_expression, pa14_expression\n",
    ")"
   ]
  },
  {
   "cell_type": "code",
   "execution_count": 10,
   "id": "153c6bf1",
   "metadata": {},
   "outputs": [],
   "source": [
    "pao1_core = core_acc_dict[\"core_pao1\"]\n",
    "pa14_core = core_acc_dict[\"core_pa14\"]\n",
    "pao1_acc = core_acc_dict[\"acc_pao1\"]\n",
    "pa14_acc = core_acc_dict[\"acc_pa14\"]"
   ]
  },
  {
   "cell_type": "code",
   "execution_count": 11,
   "id": "e1df9376",
   "metadata": {},
   "outputs": [],
   "source": [
    "pao1_membership.loc[pao1_core, \"core/acc\"] = \"core\"\n",
    "pao1_membership.loc[pao1_acc, \"core/acc\"] = \"acc\""
   ]
  },
  {
   "cell_type": "code",
   "execution_count": 12,
   "id": "a561712c",
   "metadata": {},
   "outputs": [],
   "source": [
    "# pa14_acc_shared = set(pa14_acc).intersection(pa14_gene_module_labels.index)\n",
    "pa14_membership.loc[pa14_core, \"core/acc\"] = \"core\"\n",
    "pa14_membership.loc[pa14_acc, \"core/acc\"] = \"acc\""
   ]
  },
  {
   "cell_type": "code",
   "execution_count": 13,
   "id": "2aab5282",
   "metadata": {},
   "outputs": [],
   "source": [
    "# Drop \"module id\" column\n",
    "pao1_arr = pao1_membership\n",
    "pa14_arr = pa14_membership"
   ]
  },
  {
   "cell_type": "code",
   "execution_count": 14,
   "id": "6d9eb390",
   "metadata": {},
   "outputs": [],
   "source": [
    "# Make sure to sort by gene id\n",
    "# NOTE PA14 gene ids don't increment by 1, but by 10 or 20 are we missing some genes?\n",
    "pao1_arr = pao1_arr.sort_index()\n",
    "pa14_arr = pa14_arr.sort_index()"
   ]
  },
  {
   "cell_type": "markdown",
   "id": "73261566",
   "metadata": {},
   "source": [
    "### Load operon annotations"
   ]
  },
  {
   "cell_type": "code",
   "execution_count": 15,
   "id": "36b58db7",
   "metadata": {},
   "outputs": [],
   "source": [
    "pao1_operon_filename = paths.PAO1_OPERON\n",
    "pa14_operon_filename = paths.PA14_OPERON"
   ]
  },
  {
   "cell_type": "code",
   "execution_count": 16,
   "id": "c41c9248",
   "metadata": {},
   "outputs": [],
   "source": [
    "pao1_operon = pd.read_csv(pao1_operon_filename, index_col=0, header=0)\n",
    "pa14_operon = pd.read_csv(pa14_operon_filename, index_col=0, header=0)"
   ]
  },
  {
   "cell_type": "code",
   "execution_count": 17,
   "id": "df77e603",
   "metadata": {},
   "outputs": [],
   "source": [
    "pao1_operon = pao1_operon.set_index(\"locus_tag\")\n",
    "pa14_operon = pa14_operon.set_index(\"locus_tag\")"
   ]
  },
  {
   "cell_type": "code",
   "execution_count": 18,
   "id": "bd9aead4",
   "metadata": {},
   "outputs": [],
   "source": [
    "# There are 247 PAO1 genes with multiple annotations\n",
    "# This operon df contains annotations from predicted operons based on DOOR database\n",
    "# predictions which make up the majority of the operons) as well as some that\n",
    "# are curated (i.e. PseudoCAP)\n",
    "# There are some that have multiple PseudoCAP annotations too\n",
    "\n",
    "# Here we will keep the last PseudoCAP annotations\n",
    "# Note: Do we want to discard these annotations all together\n",
    "# or will these need to be carefully curated to determine which to keep?\n",
    "# We will use the curated annotation here\n",
    "pao1_operon = pao1_operon[~pao1_operon.index.duplicated(keep=\"last\")]\n",
    "pa14_operon = pa14_operon[~pa14_operon.index.duplicated(keep=\"last\")]"
   ]
  },
  {
   "cell_type": "code",
   "execution_count": 19,
   "id": "e7fd753b",
   "metadata": {},
   "outputs": [],
   "source": [
    "# Only include columns for gene id and operon_name\n",
    "pao1_operon = pao1_operon[\"operon_name\"].to_frame()\n",
    "pa14_operon = pa14_operon[\"operon_name\"].to_frame()"
   ]
  },
  {
   "cell_type": "code",
   "execution_count": 20,
   "id": "3bc4a68d",
   "metadata": {},
   "outputs": [],
   "source": [
    "if use_operon:\n",
    "    pao1_operon_expression_to_use = pao1_operon\n",
    "    pa14_operon_expression_to_use = pa14_operon\n",
    "else:\n",
    "    pao1_operon_expression_to_use = None\n",
    "    pa14_operon_expression_to_use = None"
   ]
  },
  {
   "cell_type": "markdown",
   "id": "d22be3ea",
   "metadata": {},
   "source": [
    "### Find all accessory genes co-expressed with least stable core genes"
   ]
  },
  {
   "cell_type": "code",
   "execution_count": 21,
   "id": "35ac930f",
   "metadata": {},
   "outputs": [
    {
     "name": "stdout",
     "output_type": "stream",
     "text": [
      "CPU times: user 2min 18s, sys: 3.4 ms, total: 2min 18s\n",
      "Wall time: 2min 18s\n"
     ]
    }
   ],
   "source": [
    "%%time\n",
    "pao1_least_acc_relationships = gene_relationships.find_related_acc_genes(\n",
    "    pao1_corr,\n",
    "    pao1_least_stable_genes,\n",
    "    pao1_arr,\n",
    "    10,\n",
    "    pao1_operon_expression_to_use,\n",
    ")"
   ]
  },
  {
   "cell_type": "code",
   "execution_count": 22,
   "id": "a24b4bac",
   "metadata": {},
   "outputs": [
    {
     "data": {
      "text/html": [
       "<div>\n",
       "<style scoped>\n",
       "    .dataframe tbody tr th:only-of-type {\n",
       "        vertical-align: middle;\n",
       "    }\n",
       "\n",
       "    .dataframe tbody tr th {\n",
       "        vertical-align: top;\n",
       "    }\n",
       "\n",
       "    .dataframe thead th {\n",
       "        text-align: right;\n",
       "    }\n",
       "</style>\n",
       "<table border=\"1\" class=\"dataframe\">\n",
       "  <thead>\n",
       "    <tr style=\"text-align: right;\">\n",
       "      <th></th>\n",
       "      <th>Related acc genes</th>\n",
       "    </tr>\n",
       "    <tr>\n",
       "      <th>gene id</th>\n",
       "      <th></th>\n",
       "    </tr>\n",
       "  </thead>\n",
       "  <tbody>\n",
       "    <tr>\n",
       "      <th>PA0850</th>\n",
       "      <td>No accessory genes</td>\n",
       "    </tr>\n",
       "    <tr>\n",
       "      <th>PA2283</th>\n",
       "      <td>[PA2336]</td>\n",
       "    </tr>\n",
       "    <tr>\n",
       "      <th>PA0346</th>\n",
       "      <td>No accessory genes</td>\n",
       "    </tr>\n",
       "    <tr>\n",
       "      <th>PA1633</th>\n",
       "      <td>No accessory genes</td>\n",
       "    </tr>\n",
       "    <tr>\n",
       "      <th>PA1195</th>\n",
       "      <td>No accessory genes</td>\n",
       "    </tr>\n",
       "  </tbody>\n",
       "</table>\n",
       "</div>"
      ],
      "text/plain": [
       "          Related acc genes\n",
       "gene id                    \n",
       "PA0850   No accessory genes\n",
       "PA2283             [PA2336]\n",
       "PA0346   No accessory genes\n",
       "PA1633   No accessory genes\n",
       "PA1195   No accessory genes"
      ]
     },
     "execution_count": 22,
     "metadata": {},
     "output_type": "execute_result"
    }
   ],
   "source": [
    "pao1_least_acc_relationships.head()"
   ]
  },
  {
   "cell_type": "code",
   "execution_count": 23,
   "id": "b7e5882d",
   "metadata": {},
   "outputs": [
    {
     "name": "stdout",
     "output_type": "stream",
     "text": [
      "CPU times: user 2min 29s, sys: 3.97 ms, total: 2min 29s\n",
      "Wall time: 2min 29s\n"
     ]
    }
   ],
   "source": [
    "%%time\n",
    "pa14_least_acc_relationships = gene_relationships.find_related_acc_genes(\n",
    "    pa14_corr,\n",
    "    pa14_least_stable_genes,\n",
    "    pa14_arr,\n",
    "    10,\n",
    "    pa14_operon_expression_to_use,\n",
    ")"
   ]
  },
  {
   "cell_type": "code",
   "execution_count": 24,
   "id": "a223807b",
   "metadata": {},
   "outputs": [
    {
     "data": {
      "text/html": [
       "<div>\n",
       "<style scoped>\n",
       "    .dataframe tbody tr th:only-of-type {\n",
       "        vertical-align: middle;\n",
       "    }\n",
       "\n",
       "    .dataframe tbody tr th {\n",
       "        vertical-align: top;\n",
       "    }\n",
       "\n",
       "    .dataframe thead th {\n",
       "        text-align: right;\n",
       "    }\n",
       "</style>\n",
       "<table border=\"1\" class=\"dataframe\">\n",
       "  <thead>\n",
       "    <tr style=\"text-align: right;\">\n",
       "      <th></th>\n",
       "      <th>Related acc genes</th>\n",
       "    </tr>\n",
       "    <tr>\n",
       "      <th>gene id</th>\n",
       "      <th></th>\n",
       "    </tr>\n",
       "  </thead>\n",
       "  <tbody>\n",
       "    <tr>\n",
       "      <th>PA14_00600</th>\n",
       "      <td>No accessory genes</td>\n",
       "    </tr>\n",
       "    <tr>\n",
       "      <th>PA14_01600</th>\n",
       "      <td>[PA14_30950, PA14_44230, PA14_30870]</td>\n",
       "    </tr>\n",
       "    <tr>\n",
       "      <th>PA14_01910</th>\n",
       "      <td>No accessory genes</td>\n",
       "    </tr>\n",
       "    <tr>\n",
       "      <th>PA14_01980</th>\n",
       "      <td>No accessory genes</td>\n",
       "    </tr>\n",
       "    <tr>\n",
       "      <th>PA14_02300</th>\n",
       "      <td>No accessory genes</td>\n",
       "    </tr>\n",
       "  </tbody>\n",
       "</table>\n",
       "</div>"
      ],
      "text/plain": [
       "                               Related acc genes\n",
       "gene id                                         \n",
       "PA14_00600                    No accessory genes\n",
       "PA14_01600  [PA14_30950, PA14_44230, PA14_30870]\n",
       "PA14_01910                    No accessory genes\n",
       "PA14_01980                    No accessory genes\n",
       "PA14_02300                    No accessory genes"
      ]
     },
     "execution_count": 24,
     "metadata": {},
     "output_type": "execute_result"
    }
   ],
   "source": [
    "pa14_least_acc_relationships.head()"
   ]
  },
  {
   "cell_type": "markdown",
   "id": "ef76cf74",
   "metadata": {},
   "source": [
    "### Add accessory gene list to core-core annotation df"
   ]
  },
  {
   "cell_type": "code",
   "execution_count": 25,
   "id": "150f33d9",
   "metadata": {},
   "outputs": [],
   "source": [
    "# Load current core-core annotations\n",
    "pao1_core_stable_similarity_filename = \"pao1_core_stable_associations.tsv\"\n",
    "pa14_core_stable_similarity_filename = \"pa14_core_stable_associations.tsv\""
   ]
  },
  {
   "cell_type": "code",
   "execution_count": 26,
   "id": "fcc5dafe",
   "metadata": {},
   "outputs": [],
   "source": [
    "pao1_all_associations = pd.read_csv(\n",
    "    pao1_core_stable_similarity_filename, sep=\"\\t\", header=0, index_col=0\n",
    ")\n",
    "pa14_all_associations = pd.read_csv(\n",
    "    pa14_core_stable_similarity_filename, sep=\"\\t\", header=0, index_col=0\n",
    ")"
   ]
  },
  {
   "cell_type": "code",
   "execution_count": 27,
   "id": "38f9ec5b",
   "metadata": {},
   "outputs": [
    {
     "name": "stdout",
     "output_type": "stream",
     "text": [
      "(682, 6)\n",
      "(682, 6)\n"
     ]
    }
   ],
   "source": [
    "print(pao1_all_associations.shape)\n",
    "print(pa14_all_associations.shape)"
   ]
  },
  {
   "cell_type": "code",
   "execution_count": 28,
   "id": "14d79fec",
   "metadata": {},
   "outputs": [],
   "source": [
    "# Merge KEGG associations with transcriptional similarity information\n",
    "pao1_all_associations = pao1_all_associations.merge(\n",
    "    pao1_least_acc_relationships, left_index=True, right_index=True, how=\"left\"\n",
    ")\n",
    "pa14_all_associations = pa14_all_associations.merge(\n",
    "    pa14_least_acc_relationships, left_index=True, right_index=True, how=\"left\"\n",
    ")"
   ]
  },
  {
   "cell_type": "code",
   "execution_count": 29,
   "id": "1948ec8b",
   "metadata": {},
   "outputs": [
    {
     "name": "stdout",
     "output_type": "stream",
     "text": [
      "(682, 7)\n",
      "(682, 7)\n"
     ]
    }
   ],
   "source": [
    "# Check that the dimension is consistent before and after merge\n",
    "print(pao1_all_associations.shape)\n",
    "print(pa14_all_associations.shape)"
   ]
  },
  {
   "cell_type": "code",
   "execution_count": 32,
   "id": "cd934be7",
   "metadata": {},
   "outputs": [],
   "source": [
    "# Reorder columns\n",
    "pao1_all_associations = pao1_all_associations[\n",
    "    [\n",
    "        \"Name\",\n",
    "        \"PA14 homolog id\",\n",
    "        \"pathways present\",\n",
    "        \"Transcriptional similarity across strains\",\n",
    "        \"P-value\",\n",
    "        \"label\",\n",
    "        \"Related acc genes\",\n",
    "    ]\n",
    "]\n",
    "\n",
    "pa14_all_associations = pa14_all_associations[\n",
    "    [\n",
    "        \"Name\",\n",
    "        \"PAO1 homolog id\",\n",
    "        \"pathways present\",\n",
    "        \"Transcriptional similarity across strains\",\n",
    "        \"P-value\",\n",
    "        \"label\",\n",
    "        \"Related acc genes\",\n",
    "    ]\n",
    "]"
   ]
  },
  {
   "cell_type": "code",
   "execution_count": 35,
   "id": "a2cf2548",
   "metadata": {},
   "outputs": [
    {
     "data": {
      "text/html": [
       "<div>\n",
       "<style scoped>\n",
       "    .dataframe tbody tr th:only-of-type {\n",
       "        vertical-align: middle;\n",
       "    }\n",
       "\n",
       "    .dataframe tbody tr th {\n",
       "        vertical-align: top;\n",
       "    }\n",
       "\n",
       "    .dataframe thead th {\n",
       "        text-align: right;\n",
       "    }\n",
       "</style>\n",
       "<table border=\"1\" class=\"dataframe\">\n",
       "  <thead>\n",
       "    <tr style=\"text-align: right;\">\n",
       "      <th></th>\n",
       "      <th>Name</th>\n",
       "      <th>PA14 homolog id</th>\n",
       "      <th>pathways present</th>\n",
       "      <th>Transcriptional similarity across strains</th>\n",
       "      <th>P-value</th>\n",
       "      <th>label</th>\n",
       "      <th>Related acc genes</th>\n",
       "    </tr>\n",
       "    <tr>\n",
       "      <th>gene id</th>\n",
       "      <th></th>\n",
       "      <th></th>\n",
       "      <th></th>\n",
       "      <th></th>\n",
       "      <th></th>\n",
       "      <th></th>\n",
       "      <th></th>\n",
       "    </tr>\n",
       "  </thead>\n",
       "  <tbody>\n",
       "    <tr>\n",
       "      <th>PA1367</th>\n",
       "      <td>NaN</td>\n",
       "      <td>PA14_46630</td>\n",
       "      <td>[]</td>\n",
       "      <td>0.186353</td>\n",
       "      <td>5.331981e-43</td>\n",
       "      <td>least stable</td>\n",
       "      <td>No accessory genes</td>\n",
       "    </tr>\n",
       "    <tr>\n",
       "      <th>PA0320</th>\n",
       "      <td>carO</td>\n",
       "      <td>PA14_04180</td>\n",
       "      <td>[]</td>\n",
       "      <td>0.176029</td>\n",
       "      <td>1.750260e-38</td>\n",
       "      <td>least stable</td>\n",
       "      <td>No accessory genes</td>\n",
       "    </tr>\n",
       "    <tr>\n",
       "      <th>PA4799</th>\n",
       "      <td>NaN</td>\n",
       "      <td>PA14_63390</td>\n",
       "      <td>[]</td>\n",
       "      <td>0.194570</td>\n",
       "      <td>8.656657e-47</td>\n",
       "      <td>least stable</td>\n",
       "      <td>No accessory genes</td>\n",
       "    </tr>\n",
       "    <tr>\n",
       "      <th>PA0978</th>\n",
       "      <td>NaN</td>\n",
       "      <td>PA14_51630</td>\n",
       "      <td>[]</td>\n",
       "      <td>0.113417</td>\n",
       "      <td>8.802946e-17</td>\n",
       "      <td>least stable</td>\n",
       "      <td>[PA1937, PA2225]</td>\n",
       "    </tr>\n",
       "    <tr>\n",
       "      <th>PA2723</th>\n",
       "      <td>NaN</td>\n",
       "      <td>PA14_28940</td>\n",
       "      <td>[]</td>\n",
       "      <td>0.165376</td>\n",
       "      <td>4.163685e-34</td>\n",
       "      <td>least stable</td>\n",
       "      <td>[PA5265, PA3066, PA5264, PA0258, PA2296]</td>\n",
       "    </tr>\n",
       "  </tbody>\n",
       "</table>\n",
       "</div>"
      ],
      "text/plain": [
       "         Name PA14 homolog id pathways present  \\\n",
       "gene id                                          \n",
       "PA1367    NaN      PA14_46630               []   \n",
       "PA0320   carO      PA14_04180               []   \n",
       "PA4799    NaN      PA14_63390               []   \n",
       "PA0978    NaN      PA14_51630               []   \n",
       "PA2723    NaN      PA14_28940               []   \n",
       "\n",
       "         Transcriptional similarity across strains       P-value  \\\n",
       "gene id                                                            \n",
       "PA1367                                    0.186353  5.331981e-43   \n",
       "PA0320                                    0.176029  1.750260e-38   \n",
       "PA4799                                    0.194570  8.656657e-47   \n",
       "PA0978                                    0.113417  8.802946e-17   \n",
       "PA2723                                    0.165376  4.163685e-34   \n",
       "\n",
       "                label                         Related acc genes  \n",
       "gene id                                                          \n",
       "PA1367   least stable                        No accessory genes  \n",
       "PA0320   least stable                        No accessory genes  \n",
       "PA4799   least stable                        No accessory genes  \n",
       "PA0978   least stable                          [PA1937, PA2225]  \n",
       "PA2723   least stable  [PA5265, PA3066, PA5264, PA0258, PA2296]  "
      ]
     },
     "execution_count": 35,
     "metadata": {},
     "output_type": "execute_result"
    }
   ],
   "source": [
    "pao1_all_associations.sort_values(by=\"label\").head()"
   ]
  },
  {
   "cell_type": "code",
   "execution_count": 36,
   "id": "48d79e02",
   "metadata": {},
   "outputs": [
    {
     "data": {
      "text/html": [
       "<div>\n",
       "<style scoped>\n",
       "    .dataframe tbody tr th:only-of-type {\n",
       "        vertical-align: middle;\n",
       "    }\n",
       "\n",
       "    .dataframe tbody tr th {\n",
       "        vertical-align: top;\n",
       "    }\n",
       "\n",
       "    .dataframe thead th {\n",
       "        text-align: right;\n",
       "    }\n",
       "</style>\n",
       "<table border=\"1\" class=\"dataframe\">\n",
       "  <thead>\n",
       "    <tr style=\"text-align: right;\">\n",
       "      <th></th>\n",
       "      <th>Name</th>\n",
       "      <th>PAO1 homolog id</th>\n",
       "      <th>pathways present</th>\n",
       "      <th>Transcriptional similarity across strains</th>\n",
       "      <th>P-value</th>\n",
       "      <th>label</th>\n",
       "      <th>Related acc genes</th>\n",
       "    </tr>\n",
       "  </thead>\n",
       "  <tbody>\n",
       "    <tr>\n",
       "      <th>PA14_35690</th>\n",
       "      <td>pslE</td>\n",
       "      <td>PA2235</td>\n",
       "      <td>[]</td>\n",
       "      <td>0.175337</td>\n",
       "      <td>3.277333e-38</td>\n",
       "      <td>least stable</td>\n",
       "      <td>[PA14_31070, PA14_10120, PA14_33970, PA14_20520]</td>\n",
       "    </tr>\n",
       "    <tr>\n",
       "      <th>PA14_48770</th>\n",
       "      <td>NaN</td>\n",
       "      <td>PA1201</td>\n",
       "      <td>[]</td>\n",
       "      <td>0.182194</td>\n",
       "      <td>3.602779e-41</td>\n",
       "      <td>least stable</td>\n",
       "      <td>No accessory genes</td>\n",
       "    </tr>\n",
       "    <tr>\n",
       "      <th>PA14_11670</th>\n",
       "      <td>mucE</td>\n",
       "      <td>PA4033</td>\n",
       "      <td>[]</td>\n",
       "      <td>0.179098</td>\n",
       "      <td>8.084179e-40</td>\n",
       "      <td>least stable</td>\n",
       "      <td>[PA14_58980]</td>\n",
       "    </tr>\n",
       "    <tr>\n",
       "      <th>PA14_60070</th>\n",
       "      <td>NaN</td>\n",
       "      <td>PA1939</td>\n",
       "      <td>[]</td>\n",
       "      <td>0.192158</td>\n",
       "      <td>1.104447e-45</td>\n",
       "      <td>least stable</td>\n",
       "      <td>[PA14_60120, PA14_60110, PA14_59780, PA14_5917...</td>\n",
       "    </tr>\n",
       "    <tr>\n",
       "      <th>PA14_59960</th>\n",
       "      <td>NaN</td>\n",
       "      <td>PA0982</td>\n",
       "      <td>[]</td>\n",
       "      <td>0.135936</td>\n",
       "      <td>1.706603e-23</td>\n",
       "      <td>least stable</td>\n",
       "      <td>[PA14_59350, PA14_59830, PA14_59060, PA14_6002...</td>\n",
       "    </tr>\n",
       "  </tbody>\n",
       "</table>\n",
       "</div>"
      ],
      "text/plain": [
       "            Name PAO1 homolog id pathways present  \\\n",
       "PA14_35690  pslE          PA2235               []   \n",
       "PA14_48770   NaN          PA1201               []   \n",
       "PA14_11670  mucE          PA4033               []   \n",
       "PA14_60070   NaN          PA1939               []   \n",
       "PA14_59960   NaN          PA0982               []   \n",
       "\n",
       "            Transcriptional similarity across strains       P-value  \\\n",
       "PA14_35690                                   0.175337  3.277333e-38   \n",
       "PA14_48770                                   0.182194  3.602779e-41   \n",
       "PA14_11670                                   0.179098  8.084179e-40   \n",
       "PA14_60070                                   0.192158  1.104447e-45   \n",
       "PA14_59960                                   0.135936  1.706603e-23   \n",
       "\n",
       "                   label                                  Related acc genes  \n",
       "PA14_35690  least stable   [PA14_31070, PA14_10120, PA14_33970, PA14_20520]  \n",
       "PA14_48770  least stable                                 No accessory genes  \n",
       "PA14_11670  least stable                                       [PA14_58980]  \n",
       "PA14_60070  least stable  [PA14_60120, PA14_60110, PA14_59780, PA14_5917...  \n",
       "PA14_59960  least stable  [PA14_59350, PA14_59830, PA14_59060, PA14_6002...  "
      ]
     },
     "execution_count": 36,
     "metadata": {},
     "output_type": "execute_result"
    }
   ],
   "source": [
    "pa14_all_associations.sort_values(by=\"label\").head()"
   ]
  },
  {
   "cell_type": "code",
   "execution_count": 37,
   "id": "08639342",
   "metadata": {},
   "outputs": [],
   "source": [
    "# Save\n",
    "pao1_all_associations.to_csv(pao1_core_stable_similarity_filename, sep=\"\\t\")\n",
    "pa14_all_associations.to_csv(pa14_core_stable_similarity_filename, sep=\"\\t\")"
   ]
  }
 ],
 "metadata": {
  "jupytext": {
   "formats": "ipynb,py"
  },
  "kernelspec": {
   "display_name": "Python [conda env:core_acc] *",
   "language": "python",
   "name": "conda-env-core_acc-py"
  },
  "language_info": {
   "codemirror_mode": {
    "name": "ipython",
    "version": 3
   },
   "file_extension": ".py",
   "mimetype": "text/x-python",
   "name": "python",
   "nbconvert_exporter": "python",
   "pygments_lexer": "ipython3",
   "version": "3.7.10"
  }
 },
 "nbformat": 4,
 "nbformat_minor": 5
}
