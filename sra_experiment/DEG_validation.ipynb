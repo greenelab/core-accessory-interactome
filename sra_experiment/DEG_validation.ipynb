{
 "cells": [
  {
   "cell_type": "markdown",
   "metadata": {},
   "source": [
    "# Differential expression validation\n",
    "This notebook performs a differential expression (DE) analysis comparing PAO1 samples vs PA14 samples. We can compare our results with those published in the literature as an additional step to validate that our RNA-seq processing are reasonable."
   ]
  },
  {
   "cell_type": "code",
   "execution_count": 1,
   "metadata": {},
   "outputs": [
    {
     "name": "stderr",
     "output_type": "stream",
     "text": [
      "/home/alexandra/anaconda3/envs/core_acc/lib/python3.7/site-packages/matplotlib/__init__.py:886: MatplotlibDeprecationWarning: \n",
      "examples.directory is deprecated; in the future, examples will be found relative to the 'datapath' directory.\n",
      "  \"found relative to the 'datapath' directory.\".format(key))\n"
     ]
    }
   ],
   "source": [
    "%load_ext autoreload\n",
    "%load_ext rpy2.ipython\n",
    "%autoreload 2\n",
    "\n",
    "import pandas as pd\n",
    "import seaborn as sns\n",
    "import numpy as np\n",
    "from core_acc_modules import utils, paths\n",
    "from rpy2.robjects import pandas2ri\n",
    "pandas2ri.activate()"
   ]
  },
  {
   "cell_type": "code",
   "execution_count": 2,
   "metadata": {},
   "outputs": [
    {
     "data": {
      "text/plain": [
       "'# Get raw read counts using PAO1 reference\\n# Read through all sample subdirectories in quant/\\n# Within each sample subdirectory, get quant.sf file\\ndata_dir = paths.PAO1_QUANT\\n\\nexpression_data = pd.DataFrame(\\n    pd.read_csv(file, sep=\"\\t\", index_col=0)[\"NumReads\"].\\n    rename(file.parent.name.split(\"_\")[0]) \\n    for file in data_dir.rglob(\"*/quant.sf\"))    \\n\\n# Map gene ids to gene names\\npao1_fasta_file = paths.PAO1_REF\\n\\nseq_id_to_gene_id_pao1 = utils.dict_gene_num_to_ids(pao1_fasta_file)\\n\\nexpression_data.rename(mapper=seq_id_to_gene_id_pao1, axis=\"columns\", inplace=True)\\n\\nexpression_data.head()'"
      ]
     },
     "execution_count": 2,
     "metadata": {},
     "output_type": "execute_result"
    }
   ],
   "source": [
    "\"\"\"# Get raw read counts using PAO1 reference\n",
    "# Read through all sample subdirectories in quant/\n",
    "# Within each sample subdirectory, get quant.sf file\n",
    "data_dir = paths.PAO1_QUANT\n",
    "\n",
    "expression_data = pd.DataFrame(\n",
    "    pd.read_csv(file, sep=\"\\t\", index_col=0)[\"NumReads\"].\n",
    "    rename(file.parent.name.split(\"_\")[0]) \n",
    "    for file in data_dir.rglob(\"*/quant.sf\"))    \n",
    "\n",
    "# Map gene ids to gene names\n",
    "pao1_fasta_file = paths.PAO1_REF\n",
    "\n",
    "seq_id_to_gene_id_pao1 = utils.dict_gene_num_to_ids(pao1_fasta_file)\n",
    "\n",
    "expression_data.rename(mapper=seq_id_to_gene_id_pao1, axis=\"columns\", inplace=True)\n",
    "\n",
    "expression_data.head()\"\"\""
   ]
  },
  {
   "cell_type": "code",
   "execution_count": 3,
   "metadata": {},
   "outputs": [
    {
     "name": "stdout",
     "output_type": "stream",
     "text": [
      "(28, 5685)\n"
     ]
    },
    {
     "data": {
      "text/html": [
       "<div>\n",
       "<style scoped>\n",
       "    .dataframe tbody tr th:only-of-type {\n",
       "        vertical-align: middle;\n",
       "    }\n",
       "\n",
       "    .dataframe tbody tr th {\n",
       "        vertical-align: top;\n",
       "    }\n",
       "\n",
       "    .dataframe thead th {\n",
       "        text-align: right;\n",
       "    }\n",
       "</style>\n",
       "<table border=\"1\" class=\"dataframe\">\n",
       "  <thead>\n",
       "    <tr style=\"text-align: right;\">\n",
       "      <th></th>\n",
       "      <th>PA0001</th>\n",
       "      <th>PA0002</th>\n",
       "      <th>PA0003</th>\n",
       "      <th>PA0004</th>\n",
       "      <th>PA0005</th>\n",
       "      <th>PA0006</th>\n",
       "      <th>PA0007</th>\n",
       "      <th>PA0008</th>\n",
       "      <th>PA0009</th>\n",
       "      <th>PA0010</th>\n",
       "      <th>...</th>\n",
       "      <th>PA5561</th>\n",
       "      <th>PA5562</th>\n",
       "      <th>PA5563</th>\n",
       "      <th>PA5564</th>\n",
       "      <th>PA5565</th>\n",
       "      <th>PA5566</th>\n",
       "      <th>PA5567</th>\n",
       "      <th>PA5568</th>\n",
       "      <th>PA5569</th>\n",
       "      <th>PA5570</th>\n",
       "    </tr>\n",
       "  </thead>\n",
       "  <tbody>\n",
       "    <tr>\n",
       "      <th>SRR7886564</th>\n",
       "      <td>231.716766</td>\n",
       "      <td>190.742049</td>\n",
       "      <td>251.434363</td>\n",
       "      <td>244.575451</td>\n",
       "      <td>232.667420</td>\n",
       "      <td>338.778285</td>\n",
       "      <td>154.619466</td>\n",
       "      <td>135.309196</td>\n",
       "      <td>197.297614</td>\n",
       "      <td>208.656767</td>\n",
       "      <td>...</td>\n",
       "      <td>384.006646</td>\n",
       "      <td>160.423009</td>\n",
       "      <td>217.461069</td>\n",
       "      <td>156.885980</td>\n",
       "      <td>207.875748</td>\n",
       "      <td>401.447266</td>\n",
       "      <td>243.877369</td>\n",
       "      <td>242.992502</td>\n",
       "      <td>246.314856</td>\n",
       "      <td>2505.558825</td>\n",
       "    </tr>\n",
       "    <tr>\n",
       "      <th>SRR7886563</th>\n",
       "      <td>221.861101</td>\n",
       "      <td>206.228200</td>\n",
       "      <td>262.510896</td>\n",
       "      <td>236.227489</td>\n",
       "      <td>218.772353</td>\n",
       "      <td>277.169311</td>\n",
       "      <td>172.770017</td>\n",
       "      <td>131.655150</td>\n",
       "      <td>203.906846</td>\n",
       "      <td>195.419829</td>\n",
       "      <td>...</td>\n",
       "      <td>422.431994</td>\n",
       "      <td>186.070549</td>\n",
       "      <td>221.798564</td>\n",
       "      <td>169.894611</td>\n",
       "      <td>206.047320</td>\n",
       "      <td>364.537806</td>\n",
       "      <td>220.715998</td>\n",
       "      <td>222.137392</td>\n",
       "      <td>290.767265</td>\n",
       "      <td>1822.432926</td>\n",
       "    </tr>\n",
       "    <tr>\n",
       "      <th>SRR7886556</th>\n",
       "      <td>239.035540</td>\n",
       "      <td>214.717657</td>\n",
       "      <td>274.756361</td>\n",
       "      <td>234.900934</td>\n",
       "      <td>211.425667</td>\n",
       "      <td>331.008247</td>\n",
       "      <td>182.534175</td>\n",
       "      <td>151.789441</td>\n",
       "      <td>177.389040</td>\n",
       "      <td>214.459340</td>\n",
       "      <td>...</td>\n",
       "      <td>313.613041</td>\n",
       "      <td>203.419543</td>\n",
       "      <td>219.460975</td>\n",
       "      <td>122.112693</td>\n",
       "      <td>216.618620</td>\n",
       "      <td>356.472812</td>\n",
       "      <td>204.935818</td>\n",
       "      <td>236.919636</td>\n",
       "      <td>344.232315</td>\n",
       "      <td>840.672326</td>\n",
       "    </tr>\n",
       "    <tr>\n",
       "      <th>SRR7886554</th>\n",
       "      <td>207.540231</td>\n",
       "      <td>225.539932</td>\n",
       "      <td>225.249527</td>\n",
       "      <td>219.545459</td>\n",
       "      <td>187.796107</td>\n",
       "      <td>288.503175</td>\n",
       "      <td>170.652752</td>\n",
       "      <td>152.999445</td>\n",
       "      <td>178.938258</td>\n",
       "      <td>189.161895</td>\n",
       "      <td>...</td>\n",
       "      <td>310.622609</td>\n",
       "      <td>162.000331</td>\n",
       "      <td>226.673993</td>\n",
       "      <td>151.294458</td>\n",
       "      <td>188.400366</td>\n",
       "      <td>344.227676</td>\n",
       "      <td>230.639268</td>\n",
       "      <td>215.712007</td>\n",
       "      <td>231.559415</td>\n",
       "      <td>2818.206826</td>\n",
       "    </tr>\n",
       "    <tr>\n",
       "      <th>SRR11809604</th>\n",
       "      <td>260.594079</td>\n",
       "      <td>246.812776</td>\n",
       "      <td>266.252334</td>\n",
       "      <td>265.965475</td>\n",
       "      <td>221.272292</td>\n",
       "      <td>326.553412</td>\n",
       "      <td>168.113136</td>\n",
       "      <td>173.746496</td>\n",
       "      <td>222.402769</td>\n",
       "      <td>211.535415</td>\n",
       "      <td>...</td>\n",
       "      <td>407.532934</td>\n",
       "      <td>218.539998</td>\n",
       "      <td>230.043668</td>\n",
       "      <td>167.621171</td>\n",
       "      <td>229.045395</td>\n",
       "      <td>376.025690</td>\n",
       "      <td>245.817934</td>\n",
       "      <td>271.991984</td>\n",
       "      <td>330.510694</td>\n",
       "      <td>3013.898920</td>\n",
       "    </tr>\n",
       "  </tbody>\n",
       "</table>\n",
       "<p>5 rows × 5685 columns</p>\n",
       "</div>"
      ],
      "text/plain": [
       "                 PA0001      PA0002      PA0003      PA0004      PA0005  \\\n",
       "SRR7886564   231.716766  190.742049  251.434363  244.575451  232.667420   \n",
       "SRR7886563   221.861101  206.228200  262.510896  236.227489  218.772353   \n",
       "SRR7886556   239.035540  214.717657  274.756361  234.900934  211.425667   \n",
       "SRR7886554   207.540231  225.539932  225.249527  219.545459  187.796107   \n",
       "SRR11809604  260.594079  246.812776  266.252334  265.965475  221.272292   \n",
       "\n",
       "                 PA0006      PA0007      PA0008      PA0009      PA0010  ...  \\\n",
       "SRR7886564   338.778285  154.619466  135.309196  197.297614  208.656767  ...   \n",
       "SRR7886563   277.169311  172.770017  131.655150  203.906846  195.419829  ...   \n",
       "SRR7886556   331.008247  182.534175  151.789441  177.389040  214.459340  ...   \n",
       "SRR7886554   288.503175  170.652752  152.999445  178.938258  189.161895  ...   \n",
       "SRR11809604  326.553412  168.113136  173.746496  222.402769  211.535415  ...   \n",
       "\n",
       "                 PA5561      PA5562      PA5563      PA5564      PA5565  \\\n",
       "SRR7886564   384.006646  160.423009  217.461069  156.885980  207.875748   \n",
       "SRR7886563   422.431994  186.070549  221.798564  169.894611  206.047320   \n",
       "SRR7886556   313.613041  203.419543  219.460975  122.112693  216.618620   \n",
       "SRR7886554   310.622609  162.000331  226.673993  151.294458  188.400366   \n",
       "SRR11809604  407.532934  218.539998  230.043668  167.621171  229.045395   \n",
       "\n",
       "                 PA5566      PA5567      PA5568      PA5569       PA5570  \n",
       "SRR7886564   401.447266  243.877369  242.992502  246.314856  2505.558825  \n",
       "SRR7886563   364.537806  220.715998  222.137392  290.767265  1822.432926  \n",
       "SRR7886556   356.472812  204.935818  236.919636  344.232315   840.672326  \n",
       "SRR7886554   344.227676  230.639268  215.712007  231.559415  2818.206826  \n",
       "SRR11809604  376.025690  245.817934  271.991984  330.510694  3013.898920  \n",
       "\n",
       "[5 rows x 5685 columns]"
      ]
     },
     "execution_count": 3,
     "metadata": {},
     "output_type": "execute_result"
    }
   ],
   "source": [
    "# Load gene expression using PAO1 reference\n",
    "expression_data = pd.read_csv(paths.PAO1_GE, sep='\\t', header=0, index_col=0)\n",
    "print(expression_data.shape)\n",
    "expression_data.head()"
   ]
  },
  {
   "cell_type": "markdown",
   "metadata": {},
   "source": [
    "### Get core genes"
   ]
  },
  {
   "cell_type": "code",
   "execution_count": 4,
   "metadata": {},
   "outputs": [
    {
     "name": "stdout",
     "output_type": "stream",
     "text": [
      "Number of PAO1 core genes: 5366\n",
      "Number of PA14 core genes: 5363\n",
      "(28, 5363)\n"
     ]
    },
    {
     "data": {
      "text/html": [
       "<div>\n",
       "<style scoped>\n",
       "    .dataframe tbody tr th:only-of-type {\n",
       "        vertical-align: middle;\n",
       "    }\n",
       "\n",
       "    .dataframe tbody tr th {\n",
       "        vertical-align: top;\n",
       "    }\n",
       "\n",
       "    .dataframe thead th {\n",
       "        text-align: right;\n",
       "    }\n",
       "</style>\n",
       "<table border=\"1\" class=\"dataframe\">\n",
       "  <thead>\n",
       "    <tr style=\"text-align: right;\">\n",
       "      <th></th>\n",
       "      <th>PA3924</th>\n",
       "      <th>PA5437</th>\n",
       "      <th>PA3314</th>\n",
       "      <th>PA2287</th>\n",
       "      <th>PA4590</th>\n",
       "      <th>PA1358</th>\n",
       "      <th>PA1999</th>\n",
       "      <th>PA1308</th>\n",
       "      <th>PA3726</th>\n",
       "      <th>PA0902</th>\n",
       "      <th>...</th>\n",
       "      <th>PA5543</th>\n",
       "      <th>PA5294</th>\n",
       "      <th>PA3727</th>\n",
       "      <th>PA5504</th>\n",
       "      <th>PA3939</th>\n",
       "      <th>PA0052</th>\n",
       "      <th>PA0326</th>\n",
       "      <th>PA4568</th>\n",
       "      <th>PA2325</th>\n",
       "      <th>PA0115</th>\n",
       "    </tr>\n",
       "  </thead>\n",
       "  <tbody>\n",
       "    <tr>\n",
       "      <th>SRR7886564</th>\n",
       "      <td>201.225395</td>\n",
       "      <td>165.821484</td>\n",
       "      <td>108.757449</td>\n",
       "      <td>129.261293</td>\n",
       "      <td>193.194414</td>\n",
       "      <td>226.216771</td>\n",
       "      <td>151.011108</td>\n",
       "      <td>197.711190</td>\n",
       "      <td>217.327403</td>\n",
       "      <td>109.549144</td>\n",
       "      <td>...</td>\n",
       "      <td>213.471936</td>\n",
       "      <td>154.962333</td>\n",
       "      <td>140.565369</td>\n",
       "      <td>220.980327</td>\n",
       "      <td>0.000000</td>\n",
       "      <td>243.990721</td>\n",
       "      <td>142.914756</td>\n",
       "      <td>459.972222</td>\n",
       "      <td>113.382434</td>\n",
       "      <td>308.898418</td>\n",
       "    </tr>\n",
       "    <tr>\n",
       "      <th>SRR7886563</th>\n",
       "      <td>201.796471</td>\n",
       "      <td>186.897736</td>\n",
       "      <td>83.002950</td>\n",
       "      <td>116.179767</td>\n",
       "      <td>205.688706</td>\n",
       "      <td>173.228898</td>\n",
       "      <td>177.366807</td>\n",
       "      <td>185.066717</td>\n",
       "      <td>186.431383</td>\n",
       "      <td>84.516347</td>\n",
       "      <td>...</td>\n",
       "      <td>232.832438</td>\n",
       "      <td>135.180177</td>\n",
       "      <td>138.273625</td>\n",
       "      <td>209.941209</td>\n",
       "      <td>0.000000</td>\n",
       "      <td>204.072687</td>\n",
       "      <td>141.128909</td>\n",
       "      <td>396.268775</td>\n",
       "      <td>121.381609</td>\n",
       "      <td>274.417413</td>\n",
       "    </tr>\n",
       "    <tr>\n",
       "      <th>SRR7886556</th>\n",
       "      <td>169.658888</td>\n",
       "      <td>206.470220</td>\n",
       "      <td>112.858680</td>\n",
       "      <td>120.656780</td>\n",
       "      <td>218.670221</td>\n",
       "      <td>191.960835</td>\n",
       "      <td>155.349382</td>\n",
       "      <td>184.785549</td>\n",
       "      <td>189.187145</td>\n",
       "      <td>89.238612</td>\n",
       "      <td>...</td>\n",
       "      <td>203.943701</td>\n",
       "      <td>152.431971</td>\n",
       "      <td>167.296779</td>\n",
       "      <td>251.578478</td>\n",
       "      <td>0.000000</td>\n",
       "      <td>218.299357</td>\n",
       "      <td>156.081171</td>\n",
       "      <td>318.044287</td>\n",
       "      <td>143.806846</td>\n",
       "      <td>313.491681</td>\n",
       "    </tr>\n",
       "    <tr>\n",
       "      <th>SRR7886554</th>\n",
       "      <td>189.016406</td>\n",
       "      <td>180.470531</td>\n",
       "      <td>126.252842</td>\n",
       "      <td>147.127973</td>\n",
       "      <td>171.824830</td>\n",
       "      <td>247.199283</td>\n",
       "      <td>129.703172</td>\n",
       "      <td>235.702724</td>\n",
       "      <td>212.267416</td>\n",
       "      <td>101.848199</td>\n",
       "      <td>...</td>\n",
       "      <td>219.985575</td>\n",
       "      <td>146.968990</td>\n",
       "      <td>140.446312</td>\n",
       "      <td>262.965069</td>\n",
       "      <td>0.000000</td>\n",
       "      <td>173.699884</td>\n",
       "      <td>144.808035</td>\n",
       "      <td>255.974719</td>\n",
       "      <td>129.727435</td>\n",
       "      <td>306.820288</td>\n",
       "    </tr>\n",
       "    <tr>\n",
       "      <th>SRR11809604</th>\n",
       "      <td>161.961554</td>\n",
       "      <td>204.190959</td>\n",
       "      <td>102.810651</td>\n",
       "      <td>93.401236</td>\n",
       "      <td>236.612969</td>\n",
       "      <td>158.100256</td>\n",
       "      <td>97.576616</td>\n",
       "      <td>180.867453</td>\n",
       "      <td>179.277420</td>\n",
       "      <td>107.095895</td>\n",
       "      <td>...</td>\n",
       "      <td>242.863546</td>\n",
       "      <td>161.200611</td>\n",
       "      <td>147.191150</td>\n",
       "      <td>257.283210</td>\n",
       "      <td>137.951062</td>\n",
       "      <td>284.872508</td>\n",
       "      <td>154.883849</td>\n",
       "      <td>304.887372</td>\n",
       "      <td>93.976078</td>\n",
       "      <td>267.348621</td>\n",
       "    </tr>\n",
       "  </tbody>\n",
       "</table>\n",
       "<p>5 rows × 5363 columns</p>\n",
       "</div>"
      ],
      "text/plain": [
       "                 PA3924      PA5437      PA3314      PA2287      PA4590  \\\n",
       "SRR7886564   201.225395  165.821484  108.757449  129.261293  193.194414   \n",
       "SRR7886563   201.796471  186.897736   83.002950  116.179767  205.688706   \n",
       "SRR7886556   169.658888  206.470220  112.858680  120.656780  218.670221   \n",
       "SRR7886554   189.016406  180.470531  126.252842  147.127973  171.824830   \n",
       "SRR11809604  161.961554  204.190959  102.810651   93.401236  236.612969   \n",
       "\n",
       "                 PA1358      PA1999      PA1308      PA3726      PA0902  ...  \\\n",
       "SRR7886564   226.216771  151.011108  197.711190  217.327403  109.549144  ...   \n",
       "SRR7886563   173.228898  177.366807  185.066717  186.431383   84.516347  ...   \n",
       "SRR7886556   191.960835  155.349382  184.785549  189.187145   89.238612  ...   \n",
       "SRR7886554   247.199283  129.703172  235.702724  212.267416  101.848199  ...   \n",
       "SRR11809604  158.100256   97.576616  180.867453  179.277420  107.095895  ...   \n",
       "\n",
       "                 PA5543      PA5294      PA3727      PA5504      PA3939  \\\n",
       "SRR7886564   213.471936  154.962333  140.565369  220.980327    0.000000   \n",
       "SRR7886563   232.832438  135.180177  138.273625  209.941209    0.000000   \n",
       "SRR7886556   203.943701  152.431971  167.296779  251.578478    0.000000   \n",
       "SRR7886554   219.985575  146.968990  140.446312  262.965069    0.000000   \n",
       "SRR11809604  242.863546  161.200611  147.191150  257.283210  137.951062   \n",
       "\n",
       "                 PA0052      PA0326      PA4568      PA2325      PA0115  \n",
       "SRR7886564   243.990721  142.914756  459.972222  113.382434  308.898418  \n",
       "SRR7886563   204.072687  141.128909  396.268775  121.381609  274.417413  \n",
       "SRR7886556   218.299357  156.081171  318.044287  143.806846  313.491681  \n",
       "SRR7886554   173.699884  144.808035  255.974719  129.727435  306.820288  \n",
       "SRR11809604  284.872508  154.883849  304.887372   93.976078  267.348621  \n",
       "\n",
       "[5 rows x 5363 columns]"
      ]
     },
     "execution_count": 4,
     "metadata": {},
     "output_type": "execute_result"
    }
   ],
   "source": [
    "# Get mapping between PAO1 and PA14 genes using PAO1 reference\n",
    "gene_annot_file = paths.GENE_PAO1_ANNOT\n",
    "gene_mapping_pao1 = utils.get_pao1_pa14_gene_map(gene_annot_file, 'pao1')\n",
    "gene_annot_file = paths.GENE_PA14_ANNOT\n",
    "gene_mapping_pa14 = utils.get_pao1_pa14_gene_map(gene_annot_file, 'pa14')\n",
    "\n",
    "core_pao1_genes, core_pa14_genes = utils.get_core_genes(gene_mapping_pao1,\n",
    "                                                        gene_mapping_pa14,\n",
    "                                                        False)\n",
    "print(f\"Number of PAO1 core genes: {len(core_pao1_genes)}\")\n",
    "print(f\"Number of PA14 core genes: {len(core_pa14_genes)}\")\n",
    "\n",
    "core_pao1_genes = set(core_pao1_genes) - set([\"PA4215\", \"PA4214\",\"PA4213\"])\n",
    "\n",
    "expression_data = expression_data.reindex(columns=core_pao1_genes)\n",
    "print(expression_data.shape)\n",
    "expression_data.head()"
   ]
  },
  {
   "cell_type": "code",
   "execution_count": 5,
   "metadata": {},
   "outputs": [],
   "source": [
    "# Convert values to integers for DE analysis\n",
    "# Not sure why the \"Numreads\" values are floats\n",
    "#expression_data = expression_data.astype(int)"
   ]
  },
  {
   "cell_type": "code",
   "execution_count": 6,
   "metadata": {},
   "outputs": [],
   "source": [
    "# Save file\n",
    "expression_data.to_csv(paths.PAO1_GE_DE, sep='\\t')"
   ]
  },
  {
   "cell_type": "markdown",
   "metadata": {},
   "source": [
    "### Differential expression analysis"
   ]
  },
  {
   "cell_type": "code",
   "execution_count": 7,
   "metadata": {
    "scrolled": true
   },
   "outputs": [],
   "source": [
    "%%R\n",
    "# Select 59\n",
    "# Run one time\n",
    "if (!requireNamespace(\"BiocManager\", quietly = TRUE))\n",
    "    install.packages(\"BiocManager\")\n",
    "#BiocManager::install(\"DESeq2\")\n",
    "#BiocManager::install(\"limma\")"
   ]
  },
  {
   "cell_type": "code",
   "execution_count": 8,
   "metadata": {
    "scrolled": true
   },
   "outputs": [
    {
     "data": {
      "text/plain": [
       "NULL\n"
      ]
     },
     "metadata": {},
     "output_type": "display_data"
    }
   ],
   "source": [
    "%%R\n",
    "# Load the DESeq2 library\n",
    "#library(\"DESeq2\")"
   ]
  },
  {
   "cell_type": "code",
   "execution_count": 9,
   "metadata": {},
   "outputs": [],
   "source": [
    "# Files to load into DE analysis (R)\n",
    "metadata_file = str(paths.SAMPLE_ANNOT)\n",
    "expression_data_file = str(paths.PAO1_GE_DE)\n",
    "out_file = str(paths.DE_STATS)"
   ]
  },
  {
   "cell_type": "code",
   "execution_count": 10,
   "metadata": {},
   "outputs": [
    {
     "name": "stdout",
     "output_type": "stream",
     "text": [
      "sample ids don't match, going to re-order gene expression samples\n"
     ]
    }
   ],
   "source": [
    "# Check ordering of sample ids\n",
    "utils.check_sample_ordering(expression_data_file, metadata_file)"
   ]
  },
  {
   "cell_type": "code",
   "execution_count": 11,
   "metadata": {},
   "outputs": [
    {
     "data": {
      "text/plain": [
       "'%%R -i metadata_file -i expression_data_file -i out_file\\nexpression_data <- t(as.matrix(read.csv(expression_data_file, sep=\"\\t\", header=TRUE, row.names=1)))\\nmetadata <- as.matrix(read.csv(metadata_file, sep=\"\\t\", header=TRUE, row.names=1))\\n\\nprint(\"Checking sample ordering...\")\\nprint(all.equal(colnames(expression_data), rownames(metadata)))\\n\\ngroup <- interaction(metadata[,1])\\n\\nmm <- model.matrix(~0 + group)\\n\\n#print(head(expression_data))\\n\\nddset <- DESeqDataSetFromMatrix(expression_data, colData=metadata, design = ~genotype)\\nprint(ddset)\\nprint(head( assay(ddset) ))\\nprint(colData(ddset))\\ndeseq_object <- DESeq(ddset)\\nprint(deseq_object)\\n\\ndeseq_results <- results(deseq_object)\\ndeseq_results\\n\\ndeseq_results_df <-  as.data.frame(deseq_results)\\n\\nwrite.table(deseq_results_df, file = out_file, row.names = T, sep = \"\\t\", quote = F)\\n\\n# this is of class DESeqResults -- we want a data.frame\\n#deseq_df <- deseq_results %>%\\n  # make into data.frame\\n#  as.data.frame() %>%\\n  # the gene names are rownames -- let\\'s make this it\\'s own column for easy \\n  # display\\n#  tibble::rownames_to_column(var = \"Gene\")\\n\\n#deseq_df %>%\\n  # let\\'s sort by statistic -- the highest values should be what is up in the\\n  # MYCN amplified cell lines\\n#  dplyr::arrange(dplyr::desc(stat))\\n\\n#readr::write_tsv(deseq_df, path = deseq_df_file)'"
      ]
     },
     "execution_count": 11,
     "metadata": {},
     "output_type": "execute_result"
    }
   ],
   "source": [
    "\"\"\"%%R -i metadata_file -i expression_data_file -i out_file\n",
    "expression_data <- t(as.matrix(read.csv(expression_data_file, sep=\"\\t\", header=TRUE, row.names=1)))\n",
    "metadata <- as.matrix(read.csv(metadata_file, sep=\"\\t\", header=TRUE, row.names=1))\n",
    "\n",
    "print(\"Checking sample ordering...\")\n",
    "print(all.equal(colnames(expression_data), rownames(metadata)))\n",
    "\n",
    "group <- interaction(metadata[,1])\n",
    "\n",
    "mm <- model.matrix(~0 + group)\n",
    "\n",
    "#print(head(expression_data))\n",
    "\n",
    "ddset <- DESeqDataSetFromMatrix(expression_data, colData=metadata, design = ~genotype)\n",
    "print(ddset)\n",
    "print(head( assay(ddset) ))\n",
    "print(colData(ddset))\n",
    "deseq_object <- DESeq(ddset)\n",
    "print(deseq_object)\n",
    "\n",
    "deseq_results <- results(deseq_object)\n",
    "deseq_results\n",
    "\n",
    "deseq_results_df <-  as.data.frame(deseq_results)\n",
    "\n",
    "write.table(deseq_results_df, file = out_file, row.names = T, sep = \"\\t\", quote = F)\n",
    "\n",
    "# this is of class DESeqResults -- we want a data.frame\n",
    "#deseq_df <- deseq_results %>%\n",
    "  # make into data.frame\n",
    "#  as.data.frame() %>%\n",
    "  # the gene names are rownames -- let's make this it's own column for easy \n",
    "  # display\n",
    "#  tibble::rownames_to_column(var = \"Gene\")\n",
    "\n",
    "#deseq_df %>%\n",
    "  # let's sort by statistic -- the highest values should be what is up in the\n",
    "  # MYCN amplified cell lines\n",
    "#  dplyr::arrange(dplyr::desc(stat))\n",
    "\n",
    "#readr::write_tsv(deseq_df, path = deseq_df_file)\"\"\""
   ]
  },
  {
   "cell_type": "code",
   "execution_count": 13,
   "metadata": {},
   "outputs": [],
   "source": [
    "%%R\n",
    "library(\"limma\")"
   ]
  },
  {
   "cell_type": "code",
   "execution_count": 14,
   "metadata": {
    "scrolled": true
   },
   "outputs": [
    {
     "data": {
      "text/plain": [
       "[1] 164\n"
      ]
     },
     "metadata": {},
     "output_type": "display_data"
    }
   ],
   "source": [
    "%%R -i metadata_file -i expression_data_file -i out_file\n",
    "source('../core_acc_modules/DE_analysis.R')\n",
    "\n",
    "get_DE_stats(metadata_file,\n",
    "             expression_data_file,\n",
    "             out_file)"
   ]
  },
  {
   "cell_type": "code",
   "execution_count": 15,
   "metadata": {},
   "outputs": [
    {
     "name": "stdout",
     "output_type": "stream",
     "text": [
      "(5363, 6)\n"
     ]
    },
    {
     "data": {
      "text/html": [
       "<div>\n",
       "<style scoped>\n",
       "    .dataframe tbody tr th:only-of-type {\n",
       "        vertical-align: middle;\n",
       "    }\n",
       "\n",
       "    .dataframe tbody tr th {\n",
       "        vertical-align: top;\n",
       "    }\n",
       "\n",
       "    .dataframe thead th {\n",
       "        text-align: right;\n",
       "    }\n",
       "</style>\n",
       "<table border=\"1\" class=\"dataframe\">\n",
       "  <thead>\n",
       "    <tr style=\"text-align: right;\">\n",
       "      <th></th>\n",
       "      <th>logFC</th>\n",
       "      <th>AveExpr</th>\n",
       "      <th>t</th>\n",
       "      <th>P.Value</th>\n",
       "      <th>adj.P.Val</th>\n",
       "      <th>B</th>\n",
       "    </tr>\n",
       "  </thead>\n",
       "  <tbody>\n",
       "    <tr>\n",
       "      <th>PA4554</th>\n",
       "      <td>-160.955149</td>\n",
       "      <td>74.823019</td>\n",
       "      <td>-55.380599</td>\n",
       "      <td>2.584897e-30</td>\n",
       "      <td>9.041440e-27</td>\n",
       "      <td>0.263434</td>\n",
       "    </tr>\n",
       "    <tr>\n",
       "      <th>PA0690</th>\n",
       "      <td>-124.335008</td>\n",
       "      <td>65.198640</td>\n",
       "      <td>-54.856328</td>\n",
       "      <td>3.371784e-30</td>\n",
       "      <td>9.041440e-27</td>\n",
       "      <td>0.262383</td>\n",
       "    </tr>\n",
       "    <tr>\n",
       "      <th>PA4553</th>\n",
       "      <td>-227.857396</td>\n",
       "      <td>105.790934</td>\n",
       "      <td>-43.819972</td>\n",
       "      <td>1.765574e-27</td>\n",
       "      <td>3.043870e-24</td>\n",
       "      <td>0.230958</td>\n",
       "    </tr>\n",
       "    <tr>\n",
       "      <th>PA3148</th>\n",
       "      <td>-280.568869</td>\n",
       "      <td>130.520299</td>\n",
       "      <td>-43.425342</td>\n",
       "      <td>2.270274e-27</td>\n",
       "      <td>3.043870e-24</td>\n",
       "      <td>0.229383</td>\n",
       "    </tr>\n",
       "    <tr>\n",
       "      <th>PA0688</th>\n",
       "      <td>-151.029617</td>\n",
       "      <td>70.161667</td>\n",
       "      <td>-39.776955</td>\n",
       "      <td>2.592738e-26</td>\n",
       "      <td>2.780971e-23</td>\n",
       "      <td>0.212594</td>\n",
       "    </tr>\n",
       "  </tbody>\n",
       "</table>\n",
       "</div>"
      ],
      "text/plain": [
       "             logFC     AveExpr          t       P.Value     adj.P.Val  \\\n",
       "PA4554 -160.955149   74.823019 -55.380599  2.584897e-30  9.041440e-27   \n",
       "PA0690 -124.335008   65.198640 -54.856328  3.371784e-30  9.041440e-27   \n",
       "PA4553 -227.857396  105.790934 -43.819972  1.765574e-27  3.043870e-24   \n",
       "PA3148 -280.568869  130.520299 -43.425342  2.270274e-27  3.043870e-24   \n",
       "PA0688 -151.029617   70.161667 -39.776955  2.592738e-26  2.780971e-23   \n",
       "\n",
       "               B  \n",
       "PA4554  0.263434  \n",
       "PA0690  0.262383  \n",
       "PA4553  0.230958  \n",
       "PA3148  0.229383  \n",
       "PA0688  0.212594  "
      ]
     },
     "execution_count": 15,
     "metadata": {},
     "output_type": "execute_result"
    }
   ],
   "source": [
    "# Read in DE stats file\n",
    "DE_stats = pd.read_csv(paths.DE_STATS, sep='\\t', header=0, index_col=0)\n",
    "print(DE_stats.shape)\n",
    "DE_stats.head()"
   ]
  },
  {
   "cell_type": "markdown",
   "metadata": {},
   "source": [
    "### Add gene names for ease of interpretation"
   ]
  },
  {
   "cell_type": "code",
   "execution_count": 16,
   "metadata": {},
   "outputs": [
    {
     "name": "stdout",
     "output_type": "stream",
     "text": [
      "(5704, 1)\n"
     ]
    },
    {
     "name": "stderr",
     "output_type": "stream",
     "text": [
      "/home/alexandra/anaconda3/envs/core_acc/lib/python3.7/site-packages/ipykernel_launcher.py:6: FutureWarning: read_table is deprecated, use read_csv instead.\n",
      "  \n"
     ]
    },
    {
     "data": {
      "text/html": [
       "<div>\n",
       "<style scoped>\n",
       "    .dataframe tbody tr th:only-of-type {\n",
       "        vertical-align: middle;\n",
       "    }\n",
       "\n",
       "    .dataframe tbody tr th {\n",
       "        vertical-align: top;\n",
       "    }\n",
       "\n",
       "    .dataframe thead th {\n",
       "        text-align: right;\n",
       "    }\n",
       "</style>\n",
       "<table border=\"1\" class=\"dataframe\">\n",
       "  <thead>\n",
       "    <tr style=\"text-align: right;\">\n",
       "      <th></th>\n",
       "      <th>Name</th>\n",
       "    </tr>\n",
       "    <tr>\n",
       "      <th>Locus Tag</th>\n",
       "      <th></th>\n",
       "    </tr>\n",
       "  </thead>\n",
       "  <tbody>\n",
       "    <tr>\n",
       "      <th>PA0001\"</th>\n",
       "      <td>dnaA</td>\n",
       "    </tr>\n",
       "    <tr>\n",
       "      <th>PA0002\"</th>\n",
       "      <td>dnaN</td>\n",
       "    </tr>\n",
       "    <tr>\n",
       "      <th>PA0003\"</th>\n",
       "      <td>recF</td>\n",
       "    </tr>\n",
       "    <tr>\n",
       "      <th>PA0004\"</th>\n",
       "      <td>gyrB</td>\n",
       "    </tr>\n",
       "    <tr>\n",
       "      <th>PA0005\"</th>\n",
       "      <td>lptA</td>\n",
       "    </tr>\n",
       "  </tbody>\n",
       "</table>\n",
       "</div>"
      ],
      "text/plain": [
       "           Name\n",
       "Locus Tag      \n",
       "PA0001\"    dnaA\n",
       "PA0002\"    dnaN\n",
       "PA0003\"    recF\n",
       "PA0004\"    gyrB\n",
       "PA0005\"    lptA"
      ]
     },
     "execution_count": 16,
     "metadata": {},
     "output_type": "execute_result"
    }
   ],
   "source": [
    "# Read gene number to name mapping\n",
    "gene_name_mapping = pd.read_table(\n",
    "    paths.GENE_ID2NAME,\n",
    "    header=0,\n",
    "    sep=',',\n",
    "    index_col=0)\n",
    "\n",
    "gene_name_mapping = gene_name_mapping[[\"Locus Tag\", \"Name\"]]\n",
    "\n",
    "gene_name_mapping.set_index(\"Locus Tag\", inplace=True)\n",
    "print(gene_name_mapping.shape)\n",
    "gene_name_mapping.head()"
   ]
  },
  {
   "cell_type": "code",
   "execution_count": 17,
   "metadata": {},
   "outputs": [
    {
     "name": "stdout",
     "output_type": "stream",
     "text": [
      "(2215, 1)\n"
     ]
    },
    {
     "data": {
      "text/html": [
       "<div>\n",
       "<style scoped>\n",
       "    .dataframe tbody tr th:only-of-type {\n",
       "        vertical-align: middle;\n",
       "    }\n",
       "\n",
       "    .dataframe tbody tr th {\n",
       "        vertical-align: top;\n",
       "    }\n",
       "\n",
       "    .dataframe thead th {\n",
       "        text-align: right;\n",
       "    }\n",
       "</style>\n",
       "<table border=\"1\" class=\"dataframe\">\n",
       "  <thead>\n",
       "    <tr style=\"text-align: right;\">\n",
       "      <th></th>\n",
       "      <th>Name</th>\n",
       "    </tr>\n",
       "    <tr>\n",
       "      <th>Locus Tag</th>\n",
       "      <th></th>\n",
       "    </tr>\n",
       "  </thead>\n",
       "  <tbody>\n",
       "    <tr>\n",
       "      <th>PA0001</th>\n",
       "      <td>dnaA</td>\n",
       "    </tr>\n",
       "    <tr>\n",
       "      <th>PA0002</th>\n",
       "      <td>dnaN</td>\n",
       "    </tr>\n",
       "    <tr>\n",
       "      <th>PA0003</th>\n",
       "      <td>recF</td>\n",
       "    </tr>\n",
       "    <tr>\n",
       "      <th>PA0004</th>\n",
       "      <td>gyrB</td>\n",
       "    </tr>\n",
       "    <tr>\n",
       "      <th>PA0005</th>\n",
       "      <td>lptA</td>\n",
       "    </tr>\n",
       "    <tr>\n",
       "      <th>PA0008</th>\n",
       "      <td>glyS</td>\n",
       "    </tr>\n",
       "    <tr>\n",
       "      <th>PA0009</th>\n",
       "      <td>glyQ</td>\n",
       "    </tr>\n",
       "    <tr>\n",
       "      <th>PA0010</th>\n",
       "      <td>tag</td>\n",
       "    </tr>\n",
       "    <tr>\n",
       "      <th>PA0011</th>\n",
       "      <td>htrB1</td>\n",
       "    </tr>\n",
       "    <tr>\n",
       "      <th>PA0016</th>\n",
       "      <td>trkA</td>\n",
       "    </tr>\n",
       "  </tbody>\n",
       "</table>\n",
       "</div>"
      ],
      "text/plain": [
       "            Name\n",
       "Locus Tag       \n",
       "PA0001      dnaA\n",
       "PA0002      dnaN\n",
       "PA0003      recF\n",
       "PA0004      gyrB\n",
       "PA0005      lptA\n",
       "PA0008      glyS\n",
       "PA0009      glyQ\n",
       "PA0010       tag\n",
       "PA0011     htrB1\n",
       "PA0016      trkA"
      ]
     },
     "execution_count": 17,
     "metadata": {},
     "output_type": "execute_result"
    }
   ],
   "source": [
    "# Format gene numbers to remove extraneous quotes\n",
    "gene_number = gene_name_mapping.index\n",
    "gene_name_mapping.index = gene_number.str.strip(\"\\\"\")\n",
    "\n",
    "gene_name_mapping.dropna(inplace=True)\n",
    "print(gene_name_mapping.shape)\n",
    "gene_name_mapping.head(10)"
   ]
  },
  {
   "cell_type": "code",
   "execution_count": 18,
   "metadata": {},
   "outputs": [],
   "source": [
    "# Remove duplicate mapping\n",
    "# Not sure which mapping is correct in this case\n",
    "# PA4527 maps to pilC and still frameshift type 4 fimbrial biogenesis protein PilC (putative pseudogene)\n",
    "gene_name_mapping = gene_name_mapping[~gene_name_mapping.index.duplicated(keep=False)]"
   ]
  },
  {
   "cell_type": "code",
   "execution_count": 19,
   "metadata": {},
   "outputs": [
    {
     "data": {
      "text/html": [
       "<div>\n",
       "<style scoped>\n",
       "    .dataframe tbody tr th:only-of-type {\n",
       "        vertical-align: middle;\n",
       "    }\n",
       "\n",
       "    .dataframe tbody tr th {\n",
       "        vertical-align: top;\n",
       "    }\n",
       "\n",
       "    .dataframe thead th {\n",
       "        text-align: right;\n",
       "    }\n",
       "</style>\n",
       "<table border=\"1\" class=\"dataframe\">\n",
       "  <thead>\n",
       "    <tr style=\"text-align: right;\">\n",
       "      <th></th>\n",
       "      <th>logFC</th>\n",
       "      <th>AveExpr</th>\n",
       "      <th>t</th>\n",
       "      <th>P.Value</th>\n",
       "      <th>adj.P.Val</th>\n",
       "      <th>B</th>\n",
       "      <th>Gene Name</th>\n",
       "    </tr>\n",
       "  </thead>\n",
       "  <tbody>\n",
       "    <tr>\n",
       "      <th>PA4554</th>\n",
       "      <td>-160.955149</td>\n",
       "      <td>74.823019</td>\n",
       "      <td>-55.380599</td>\n",
       "      <td>2.584897e-30</td>\n",
       "      <td>9.041440e-27</td>\n",
       "      <td>0.263434</td>\n",
       "      <td>pilY1</td>\n",
       "    </tr>\n",
       "    <tr>\n",
       "      <th>PA0690</th>\n",
       "      <td>-124.335008</td>\n",
       "      <td>65.198640</td>\n",
       "      <td>-54.856328</td>\n",
       "      <td>3.371784e-30</td>\n",
       "      <td>9.041440e-27</td>\n",
       "      <td>0.262383</td>\n",
       "      <td>pdtA</td>\n",
       "    </tr>\n",
       "    <tr>\n",
       "      <th>PA4553</th>\n",
       "      <td>-227.857396</td>\n",
       "      <td>105.790934</td>\n",
       "      <td>-43.819972</td>\n",
       "      <td>1.765574e-27</td>\n",
       "      <td>3.043870e-24</td>\n",
       "      <td>0.230958</td>\n",
       "      <td>pilX</td>\n",
       "    </tr>\n",
       "    <tr>\n",
       "      <th>PA3148</th>\n",
       "      <td>-280.568869</td>\n",
       "      <td>130.520299</td>\n",
       "      <td>-43.425342</td>\n",
       "      <td>2.270274e-27</td>\n",
       "      <td>3.043870e-24</td>\n",
       "      <td>0.229383</td>\n",
       "      <td>wbpI</td>\n",
       "    </tr>\n",
       "    <tr>\n",
       "      <th>PA0688</th>\n",
       "      <td>-151.029617</td>\n",
       "      <td>70.161667</td>\n",
       "      <td>-39.776955</td>\n",
       "      <td>2.592738e-26</td>\n",
       "      <td>2.780971e-23</td>\n",
       "      <td>0.212594</td>\n",
       "      <td>lapA</td>\n",
       "    </tr>\n",
       "  </tbody>\n",
       "</table>\n",
       "</div>"
      ],
      "text/plain": [
       "             logFC     AveExpr          t       P.Value     adj.P.Val  \\\n",
       "PA4554 -160.955149   74.823019 -55.380599  2.584897e-30  9.041440e-27   \n",
       "PA0690 -124.335008   65.198640 -54.856328  3.371784e-30  9.041440e-27   \n",
       "PA4553 -227.857396  105.790934 -43.819972  1.765574e-27  3.043870e-24   \n",
       "PA3148 -280.568869  130.520299 -43.425342  2.270274e-27  3.043870e-24   \n",
       "PA0688 -151.029617   70.161667 -39.776955  2.592738e-26  2.780971e-23   \n",
       "\n",
       "               B Gene Name  \n",
       "PA4554  0.263434     pilY1  \n",
       "PA0690  0.262383      pdtA  \n",
       "PA4553  0.230958      pilX  \n",
       "PA3148  0.229383      wbpI  \n",
       "PA0688  0.212594      lapA  "
      ]
     },
     "execution_count": 19,
     "metadata": {},
     "output_type": "execute_result"
    }
   ],
   "source": [
    "# Add gene names\n",
    "#gene_name_mapping_dict = gene_name_mapping.to_dict()\n",
    "DE_stats['Gene Name'] = DE_stats.index.map(gene_name_mapping[\"Name\"])\n",
    "DE_stats.head()"
   ]
  },
  {
   "cell_type": "code",
   "execution_count": 20,
   "metadata": {},
   "outputs": [
    {
     "data": {
      "text/plain": [
       "<matplotlib.axes._subplots.AxesSubplot at 0x7fd23ba46910>"
      ]
     },
     "execution_count": 20,
     "metadata": {},
     "output_type": "execute_result"
    },
    {
     "data": {
      "image/png": "[encoded data removed]",
      "text/plain": [
       "<Figure size 432x288 with 1 Axes>"
      ]
     },
     "metadata": {
      "needs_background": "light"
     },
     "output_type": "display_data"
    }
   ],
   "source": [
    "# Plot\n",
    "#DE_stats[\"-log10(padj)\"] = -np.log10(DE_stats[\"padj\"])\n",
    "#sns.scatterplot(data=DE_stats, x=\"log2FoldChange\", y=\"-log10(padj)\")\n",
    "\n",
    "DE_stats[\"-log10(padj)\"] = -np.log10(DE_stats[\"adj.P.Val\"])\n",
    "sns.scatterplot(data=DE_stats, x=\"logFC\", y=\"-log10(padj)\")"
   ]
  },
  {
   "cell_type": "markdown",
   "metadata": {},
   "source": [
    "### Compare out results with publication"
   ]
  },
  {
   "cell_type": "code",
   "execution_count": 22,
   "metadata": {
    "scrolled": true
   },
   "outputs": [
    {
     "name": "stdout",
     "output_type": "stream",
     "text": [
      "(975, 8)\n"
     ]
    },
    {
     "data": {
      "text/html": [
       "<div>\n",
       "<style scoped>\n",
       "    .dataframe tbody tr th:only-of-type {\n",
       "        vertical-align: middle;\n",
       "    }\n",
       "\n",
       "    .dataframe tbody tr th {\n",
       "        vertical-align: top;\n",
       "    }\n",
       "\n",
       "    .dataframe thead th {\n",
       "        text-align: right;\n",
       "    }\n",
       "</style>\n",
       "<table border=\"1\" class=\"dataframe\">\n",
       "  <thead>\n",
       "    <tr style=\"text-align: right;\">\n",
       "      <th></th>\n",
       "      <th>logFC</th>\n",
       "      <th>AveExpr</th>\n",
       "      <th>t</th>\n",
       "      <th>P.Value</th>\n",
       "      <th>adj.P.Val</th>\n",
       "      <th>B</th>\n",
       "      <th>Gene Name</th>\n",
       "      <th>-log10(padj)</th>\n",
       "    </tr>\n",
       "  </thead>\n",
       "  <tbody>\n",
       "    <tr>\n",
       "      <th>PA4554</th>\n",
       "      <td>-160.955149</td>\n",
       "      <td>74.823019</td>\n",
       "      <td>-55.380599</td>\n",
       "      <td>2.584897e-30</td>\n",
       "      <td>9.041440e-27</td>\n",
       "      <td>0.263434</td>\n",
       "      <td>pilY1</td>\n",
       "      <td>26.043762</td>\n",
       "    </tr>\n",
       "    <tr>\n",
       "      <th>PA0690</th>\n",
       "      <td>-124.335008</td>\n",
       "      <td>65.198640</td>\n",
       "      <td>-54.856328</td>\n",
       "      <td>3.371784e-30</td>\n",
       "      <td>9.041440e-27</td>\n",
       "      <td>0.262383</td>\n",
       "      <td>pdtA</td>\n",
       "      <td>26.043762</td>\n",
       "    </tr>\n",
       "    <tr>\n",
       "      <th>PA4553</th>\n",
       "      <td>-227.857396</td>\n",
       "      <td>105.790934</td>\n",
       "      <td>-43.819972</td>\n",
       "      <td>1.765574e-27</td>\n",
       "      <td>3.043870e-24</td>\n",
       "      <td>0.230958</td>\n",
       "      <td>pilX</td>\n",
       "      <td>23.516574</td>\n",
       "    </tr>\n",
       "    <tr>\n",
       "      <th>PA3148</th>\n",
       "      <td>-280.568869</td>\n",
       "      <td>130.520299</td>\n",
       "      <td>-43.425342</td>\n",
       "      <td>2.270274e-27</td>\n",
       "      <td>3.043870e-24</td>\n",
       "      <td>0.229383</td>\n",
       "      <td>wbpI</td>\n",
       "      <td>23.516574</td>\n",
       "    </tr>\n",
       "    <tr>\n",
       "      <th>PA0688</th>\n",
       "      <td>-151.029617</td>\n",
       "      <td>70.161667</td>\n",
       "      <td>-39.776955</td>\n",
       "      <td>2.592738e-26</td>\n",
       "      <td>2.780971e-23</td>\n",
       "      <td>0.212594</td>\n",
       "      <td>lapA</td>\n",
       "      <td>22.555804</td>\n",
       "    </tr>\n",
       "  </tbody>\n",
       "</table>\n",
       "</div>"
      ],
      "text/plain": [
       "             logFC     AveExpr          t       P.Value     adj.P.Val  \\\n",
       "PA4554 -160.955149   74.823019 -55.380599  2.584897e-30  9.041440e-27   \n",
       "PA0690 -124.335008   65.198640 -54.856328  3.371784e-30  9.041440e-27   \n",
       "PA4553 -227.857396  105.790934 -43.819972  1.765574e-27  3.043870e-24   \n",
       "PA3148 -280.568869  130.520299 -43.425342  2.270274e-27  3.043870e-24   \n",
       "PA0688 -151.029617   70.161667 -39.776955  2.592738e-26  2.780971e-23   \n",
       "\n",
       "               B Gene Name  -log10(padj)  \n",
       "PA4554  0.263434     pilY1     26.043762  \n",
       "PA0690  0.262383      pdtA     26.043762  \n",
       "PA4553  0.230958      pilX     23.516574  \n",
       "PA3148  0.229383      wbpI     23.516574  \n",
       "PA0688  0.212594      lapA     22.555804  "
      ]
     },
     "execution_count": 22,
     "metadata": {},
     "output_type": "execute_result"
    }
   ],
   "source": [
    "# Get number of DEGs\n",
    "#selected_DE_stats = DE_stats[(DE_stats['padj']<0.05) & (abs(DE_stats['log2FoldChange'])>1)]\n",
    "selected_DE_stats = DE_stats[(DE_stats['adj.P.Val']<0.05) & (abs(DE_stats['logFC'])>1)]\n",
    "\n",
    "print(selected_DE_stats.shape)\n",
    "selected_DE_stats.head()"
   ]
  },
  {
   "cell_type": "code",
   "execution_count": 23,
   "metadata": {},
   "outputs": [
    {
     "name": "stdout",
     "output_type": "stream",
     "text": [
      "PA3432\n",
      "PA4685\n"
     ]
    }
   ],
   "source": [
    "# Compare our findings against Sana et. al.\n",
    "degs_sana = [\"PA3431\", \"PA3432\", \"PA1244\", \"PA4685\"]\n",
    "for gene in degs_sana:\n",
    "    if gene in list(selected_DE_stats.index):\n",
    "        print(gene)"
   ]
  },
  {
   "cell_type": "code",
   "execution_count": 24,
   "metadata": {},
   "outputs": [
    {
     "data": {
      "text/plain": [
       "False"
      ]
     },
     "execution_count": 24,
     "metadata": {},
     "output_type": "execute_result"
    }
   ],
   "source": [
    "# Compare our findings against Kim et. al.\n",
    "'PA4236' in list(selected_DE_stats.index)"
   ]
  },
  {
   "cell_type": "markdown",
   "metadata": {},
   "source": [
    "**Conclusions:**\n",
    "* Our DE analysis found ~1K significantly differentially expressed genes\n",
    "* [Sana et. al](https://jb.asm.org/content/201/21/e00362-19) found ~ 2K DEGs between 2 strains where QS genes were DEGs. \n",
    "* We found 2/4 genes highlighted in the Sana et. al. publication. But we're missing the main qsIA gene (PA1244) that the paper found to be more highly expressed in PAO1 vs PA14. One caveat to this publication is that its only looking at 2 strains so perhaps this explains the difference.\n",
    "* [Kim et. al.](https://link.springer.com/content/pdf/10.1007/s12275-019-9225-1.pdf) found katA (PA4236) is highly expressed in PAO1 but not PA14 strain. \n",
    "* We did not find the katA gene in our analysis. One caveat to this publication is that its only looking at 2 strains so perhaps this explains the difference."
   ]
  }
 ],
 "metadata": {
  "kernelspec": {
   "display_name": "Python [conda env:core_acc] *",
   "language": "python",
   "name": "conda-env-core_acc-py"
  },
  "language_info": {
   "codemirror_mode": {
    "name": "ipython",
    "version": 3
   },
   "file_extension": ".py",
   "mimetype": "text/x-python",
   "name": "python",
   "nbconvert_exporter": "python",
   "pygments_lexer": "ipython3",
   "version": "3.7.8"
  }
 },
 "nbformat": 4,
 "nbformat_minor": 4
}
