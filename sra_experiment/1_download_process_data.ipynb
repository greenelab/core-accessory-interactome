{
 "cells": [
  {
   "cell_type": "markdown",
   "metadata": {},
   "source": [
    "# Download and process SRA data"
   ]
  },
  {
   "cell_type": "code",
   "execution_count": 1,
   "metadata": {},
   "outputs": [
    {
     "name": "stderr",
     "output_type": "stream",
     "text": [
      "/home/alexandra/anaconda3/envs/core_acc/lib/python3.7/site-packages/matplotlib/__init__.py:886: MatplotlibDeprecationWarning: \n",
      "examples.directory is deprecated; in the future, examples will be found relative to the 'datapath' directory.\n",
      "  \"found relative to the 'datapath' directory.\".format(key))\n"
     ]
    }
   ],
   "source": [
    "%load_ext autoreload\n",
    "%autoreload 2\n",
    "\n",
    "import os\n",
    "from pathlib import Path\n",
    "import pandas as pd\n",
    "import numpy as np\n",
    "import umap\n",
    "import seaborn as sns\n",
    "import matplotlib.pyplot as plt\n",
    "from core_acc_modules import utils, paths\n",
    "from plotnine import (ggplot,\n",
    "                      labs,  \n",
    "                      geom_point,\n",
    "                      aes, \n",
    "                      ggsave,\n",
    "                      theme,\n",
    "                      theme_bw,\n",
    "                      scale_color_manual,\n",
    "                      guides, \n",
    "                      guide_legend,\n",
    "                      element_blank,\n",
    "                      element_text,\n",
    "                      element_rect,\n",
    "                      element_line,\n",
    "                      coords)\n",
    "\n",
    "np.random.seed(123)"
   ]
  },
  {
   "cell_type": "markdown",
   "metadata": {},
   "source": [
    "### Setup SRA toolkit"
   ]
  },
  {
   "cell_type": "code",
   "execution_count": 2,
   "metadata": {},
   "outputs": [],
   "source": [
    "# Download latest version of compiled binaries of NCBI SRA toolkit \n",
    "if not os.path.exists(\"sratoolkit.current-centos_linux64.tar.gz\"):\n",
    "    ! wget \"ftp://ftp-trace.ncbi.nlm.nih.gov/sra/sdk/current/sratoolkit.current-centos_linux64.tar.gz\""
   ]
  },
  {
   "cell_type": "code",
   "execution_count": 3,
   "metadata": {},
   "outputs": [
    {
     "name": "stdout",
     "output_type": "stream",
     "text": [
      "^C\r\n"
     ]
    }
   ],
   "source": [
    "# Extract tar.gz file \n",
    "if os.path.exists(\"sratoolkit.current-centos_linux64.tar.gz\"):\n",
    "    ! tar -xzf sratoolkit.current-centos_linux64.tar.gz\n",
    "\n",
    "# add binaries to path using export path or editing ~/.bashrc file\n",
    "! export PATH=$PATH:sratoolkit.2.10.7-centos_linux64/bin\n",
    "\n",
    "# Now SRA binaries added to path and ready to use"
   ]
  },
  {
   "cell_type": "markdown",
   "metadata": {},
   "source": [
    "### Download SRA data\n",
    "\n",
    "Two SRA projects were selected:\n",
    "* [PRJNA633671](https://www.ncbi.nlm.nih.gov/bioproject/PRJNA633671) 13 PAO1 samples isolated from pig burn wound after 3 (3), 14(5), 28(5) days post infection\n",
    "* [PRJNA491911](https://www.ncbi.nlm.nih.gov/bioproject/PRJNA491911) 15 PA14 samples isolated from pig burn wound after 3 (5), 14 (5), 28 (5) days post infection"
   ]
  },
  {
   "cell_type": "code",
   "execution_count": 4,
   "metadata": {
    "scrolled": true
   },
   "outputs": [
    {
     "name": "stdout",
     "output_type": "stream",
     "text": [
      "\n",
      "2020-07-16T14:05:44 prefetch.2.8.2: 1) 'SRR11809598' is found locally\n",
      "2020-07-16T14:05:44 prefetch.2.8.2: 'SRR11809598' has 0 unresolved dependencies\n",
      "\n",
      "2020-07-16T14:05:45 prefetch.2.8.2: 2) 'SRR11809599' is found locally\n",
      "^C\n"
     ]
    }
   ],
   "source": [
    "# Download sra data files\n",
    "! prefetch --option-file data/metadata/sra_acc.txt "
   ]
  },
  {
   "cell_type": "markdown",
   "metadata": {},
   "source": [
    "### Get FASTQ files associated with SRA downloads\n",
    "\n",
    "The fastq files store the RNA-seq results, including: sequencing and quality scores for each base call.\n",
    "\n",
    "Here is a nice blog to explain how to read fastq files: https://thesequencingcenter.com/knowledge-base/fastq-files/\n",
    "\n",
    "The fastq files gives the sequence of a read at a given location. Our goal is to map these reads to a reference genome so that we can quantify the number of reads that are at a given location, to determine the level of expression."
   ]
  },
  {
   "cell_type": "code",
   "execution_count": 5,
   "metadata": {},
   "outputs": [
    {
     "name": "stdout",
     "output_type": "stream",
     "text": [
      "mkdir: cannot create directory ‘/home/alexandra/ncbi/public/fastq’: File exists\r\n"
     ]
    }
   ],
   "source": [
    "!mkdir $paths.FASTQ_DIR"
   ]
  },
  {
   "cell_type": "code",
   "execution_count": 6,
   "metadata": {
    "scrolled": true
   },
   "outputs": [
    {
     "name": "stdout",
     "output_type": "stream",
     "text": [
      "Read 2101445 spots for /home/alexandra/ncbi/public/sra/SRR11809598.sra\n",
      "Written 2101445 spots for /home/alexandra/ncbi/public/sra/SRR11809598.sra\n",
      "^C\n",
      "2020-07-16T14:06:06 fastq-dump.2.8.2 err: libs/kapp/unix/sysmain.c:75:Quitting: process canceled while executing process - failed /home/alexandra/ncbi/public/sra/SRR11809599.sra\n",
      "2020-07-16T14:06:06 fastq-dump.2.8.2 err: libs/kapp/unix/sysmain.c:75:Quitting: process canceled while executing process - failed /home/alexandra/ncbi/public/sra/SRR11809600.sra\n"
     ]
    }
   ],
   "source": [
    "!fastq-dump $paths.SRA_DIR/* --split-files --outdir $paths.FASTQ_DIR/"
   ]
  },
  {
   "cell_type": "markdown",
   "metadata": {},
   "source": [
    "### Obtain a transcriptome and build an index\n",
    "\n",
    "Here we are using [Salmon](https://combine-lab.github.io/salmon/)\n",
    "\n",
    "**Input:**\n",
    "* Target transcriptome\n",
    "* This transcriptome is given to Salmon in the form of a (possibly compressed) multi-FASTA file, with each entry providing the sequence of a transcript\n",
    "* DNA sequences (genes) that get transcribed as mRNA (transcripts). Should we look at reference transcipts or genes?\n",
    "* We downloaded the `GENE DNA` file for `Pseudomonas aeruginosa PAO1 (Reference)` and `Pseudomonas aeruginosa UCBPP-PA14` from  http://www.pseudomonas.com/strain/download\n",
    "\n",
    "**!!!** Georgia is using PAO1 reference from ensembl: ftp://ftp.ensemblgenomes.org/pub/bacteria/release-47/fasta/bacteria_13_collection/\n",
    "Don't see an equivalent for PA14.\n",
    "\n",
    "**Note:** For prokaryotes, transcripts and genes have a more 1-1 mapping so we're using genes for our reference transcriptome and so we don't need to use tximport to map transcript quants to genes. \n",
    "\n",
    "**Output:**\n",
    "* The index is a structure that salmon uses to quasi-map RNA-seq reads during quantification\n",
    "* [Quasi-map](https://academic.oup.com/bioinformatics/article/32/12/i192/2288985) is a way to map sequenced fragments (single or paired-end reads) to a target transcriptome. Quasi-mapping produces what we refer to as fragment mapping information. In particular, it provides, for each query (fragment), the reference sequences (transcripts), strand and position from which the query may have likely originated. In many cases, this mapping information is sufficient for downstream analysis like quantification.\n",
    "\n",
    "*Algorithm:*\n",
    "\n",
    "For a query read r through repeated application of: \n",
    "1. Determining the next hash table k-mer that starts past the current query position\n",
    "2. Computing the maximum mappable prefix (MMP) of the query beginning with this k-mer\n",
    "3. Determining the next informative position (NIP) by performing a longest common prefix (LCP) query on two specifically chosen suffixes in the SA"
   ]
  },
  {
   "cell_type": "code",
   "execution_count": 7,
   "metadata": {
    "scrolled": true
   },
   "outputs": [
    {
     "name": "stdout",
     "output_type": "stream",
     "text": [
      "Version Info: This is the most recent version of salmon.\n",
      "[2020-07-16 10:06:07.925] [jLog] [warning] The salmon index is being built without any decoy sequences.  It is recommended that decoy sequence (either computed auxiliary decoy sequence or the genome of the organism) be provided during indexing. Further details can be found at https://salmon.readthedocs.io/en/latest/salmon.html#preparing-transcriptome-indices-mapping-based-mode.\n",
      "[2020-07-16 10:06:07.925] [jLog] [info] building index\n",
      "out : /home/alexandra/Documents/Data/Core_accessory/pao1_index\n",
      "\u001b[00m[2020-07-16 10:06:07.925] [puff::index::jointLog] [info] Running fixFasta\n",
      "\u001b[00m\n",
      "[Step 1 of 4] : counting k-mers\n",
      "\n",
      "\u001b[35m[2020-07-16 10:06:08.091] [puff::index::jointLog] [warning] Removed 34 transcripts that were sequence duplicates of indexed transcripts.\n",
      "\u001b[00m\u001b[35m[2020-07-16 10:06:08.091] [puff::index::jointLog] [warning] If you wish to retain duplicate transcripts, please use the `--keepDuplicates` flag\n",
      "\u001b[00m^C\n"
     ]
    }
   ],
   "source": [
    "# Get PAO1 index\n",
    "! salmon index -t $paths.PAO1_REF -i $paths.PAO1_INDEX"
   ]
  },
  {
   "cell_type": "code",
   "execution_count": 8,
   "metadata": {
    "scrolled": true
   },
   "outputs": [
    {
     "name": "stdout",
     "output_type": "stream",
     "text": [
      "Version Info: This is the most recent version of salmon.\n",
      "[2020-07-16 10:06:10.396] [jLog] [warning] The salmon index is being built without any decoy sequences.  It is recommended that decoy sequence (either computed auxiliary decoy sequence or the genome of the organism) be provided during indexing. Further details can be found at https://salmon.readthedocs.io/en/latest/salmon.html#preparing-transcriptome-indices-mapping-based-mode.\n",
      "[2020-07-16 10:06:10.396] [jLog] [info] building index\n",
      "out : /home/alexandra/Documents/Data/Core_accessory/pa14_index\n",
      "\u001b[00m[2020-07-16 10:06:10.396] [puff::index::jointLog] [info] Running fixFasta\n",
      "\u001b[00m\n",
      "[Step 1 of 4] : counting k-mers\n",
      "\n",
      "\u001b[35m[2020-07-16 10:06:10.535] [puff::index::jointLog] [warning] Removed 37 transcripts that were sequence duplicates of indexed transcripts.\n",
      "\u001b[00m\u001b[35m[2020-07-16 10:06:10.535] [puff::index::jointLog] [warning] If you wish to retain duplicate transcripts, please use the `--keepDuplicates` flag\n",
      "\u001b[00m\u001b[00m[2020-07-16 10:06:10.721] [puff::index::jointLog] [info] Replaced 3 non-ATCG nucleotides\n",
      "\u001b[00m\u001b[00m[2020-07-16 10:06:10.721] [puff::index::jointLog] [info] Clipped poly-A tails from 0 transcripts\n",
      "\u001b[00mwrote 5959 cleaned references\n",
      "\u001b[00m[2020-07-16 10:06:10.979] [puff::index::jointLog] [info] Filter size not provided; estimating from number of distinct k-mers\n",
      "\u001b[00m\u001b[00m[2020-07-16 10:06:11.034] [puff::index::jointLog] [info] ntHll estimated 5599628 distinct k-mers, setting filter size to 2^27\n",
      "\u001b[00mThreads = 2\n",
      "Vertex length = 31\n",
      "Hash functions = 5\n",
      "Filter size = 134217728\n",
      "Capacity = 2\n",
      "Files: \n",
      "/home/alexandra/Documents/Data/Core_accessory/pa14_index/ref_k31_fixed.fa\n",
      "--------------------------------------------------------------------------------\n",
      "Round 0, 0:134217728\n",
      "Pass\tFilling\tFiltering\n",
      "1\t0\t1\t\n",
      "2\t1\t0\n",
      "True junctions count = 1467\n",
      "False junctions count = 23677\n",
      "Hash table size = 25144\n",
      "Candidate marks count = 27199\n",
      "--------------------------------------------------------------------------------\n",
      "Reallocating bifurcations time: 0\n",
      "True marks count: 15045\n",
      "Edges construction time: 0\n",
      "--------------------------------------------------------------------------------\n",
      "Distinct junctions = 1467\n",
      "\n",
      "allowedIn: 11\n",
      "Max Junction ID: 13266\n",
      "seen.size():106137 kmerInfo.size():13267\n",
      "approximateContigTotalLength: 5435809\n",
      "counters for complex kmers:\n",
      "(prec>1 & succ>1)=63 | (succ>1 & isStart)=0 | (prec>1 & isEnd)=0 | (isStart & isEnd)=0\n",
      "contig count: 8094 element count: 5890652 complex nodes: 63\n",
      "# of ones in rank vector: 8093\n",
      "\u001b[00m[2020-07-16 10:06:13.663] [puff::index::jointLog] [info] Starting the Pufferfish indexing by reading the GFA binary file.\n",
      "\u001b[00m\u001b[00m[2020-07-16 10:06:13.663] [puff::index::jointLog] [info] Setting the index/BinaryGfa directory /home/alexandra/Documents/Data/Core_accessory/pa14_index\n",
      "\u001b[00msize = 5890652\n",
      "-----------------------------------------\n",
      "| Loading contigs | Time = 789.61 us\n",
      "-----------------------------------------\n",
      "size = 5890652\n",
      "-----------------------------------------\n",
      "| Loading contig boundaries | Time = 392.65 us\n",
      "-----------------------------------------\n",
      "Number of ones: 8093\n",
      "Number of ones per inventory item: 512\n",
      "Inventory entries filled: 16\n",
      "8093\n",
      "\u001b[00m[2020-07-16 10:06:13.674] [puff::index::jointLog] [info] Done wrapping the rank vector with a rank9sel structure.\n",
      "\u001b[00m\u001b[00m[2020-07-16 10:06:13.674] [puff::index::jointLog] [info] contig count for validation: 8,093\n",
      "\u001b[00m\u001b[00m[2020-07-16 10:06:13.676] [puff::index::jointLog] [info] Total # of Contigs : 8,093\n",
      "\u001b[00m\u001b[00m[2020-07-16 10:06:13.676] [puff::index::jointLog] [info] Total # of numerical Contigs : 8,093\n",
      "\u001b[00m\u001b[00m[2020-07-16 10:06:13.676] [puff::index::jointLog] [info] Total # of contig vec entries: 9,227\n",
      "\u001b[00m\u001b[00m[2020-07-16 10:06:13.676] [puff::index::jointLog] [info] bits per offset entry 14\n",
      "\u001b[00m\u001b[00m[2020-07-16 10:06:13.676] [puff::index::jointLog] [info] Done constructing the contig vector. 8094\n",
      "\u001b[00m\u001b[00m[2020-07-16 10:06:13.677] [puff::index::jointLog] [info] # segments = 8,093\n",
      "\u001b[00m\u001b[00m[2020-07-16 10:06:13.677] [puff::index::jointLog] [info] total length = 5,890,652\n",
      "\u001b[00m\u001b[00m[2020-07-16 10:06:13.678] [puff::index::jointLog] [info] Reading the reference files ...\n",
      "\u001b[00m\u001b[00m[2020-07-16 10:06:13.766] [puff::index::jointLog] [info] positional integer width = 23\n",
      "\u001b[00m\u001b[00m[2020-07-16 10:06:13.766] [puff::index::jointLog] [info] seqSize = 5,890,652\n",
      "\u001b[00m\u001b[00m[2020-07-16 10:06:13.766] [puff::index::jointLog] [info] rankSize = 5,890,652\n",
      "\u001b[00m\u001b[00m[2020-07-16 10:06:13.766] [puff::index::jointLog] [info] edgeVecSize = 0\n",
      "\u001b[00m\u001b[00m[2020-07-16 10:06:13.766] [puff::index::jointLog] [info] num keys = 5,647,862\n",
      "\u001b[00mfor info, total work write each  : 2.331    total work inram from level 3 : 4.322  total work raw : 25.000 \n",
      "[Building BooPHF]  100  %   elapsed:   0 min 0  sec   remaining:   0 min 0  sec\n",
      "Bitarray        29598784  bits (100.00 %)   (array + ranks )\n",
      "final hash             0  bits (0.00 %) (nb in final hash 0)\n",
      "\u001b[00m[2020-07-16 10:06:13.973] [puff::index::jointLog] [info] mphf size = 3.52845 MB\n",
      "\u001b[00m\u001b[00m[2020-07-16 10:06:13.978] [puff::index::jointLog] [info] chunk size = 2,945,326\n",
      "\u001b[00m\u001b[00m[2020-07-16 10:06:13.978] [puff::index::jointLog] [info] chunk 0 = [0, 2,945,326)\n",
      "\u001b[00m\u001b[00m[2020-07-16 10:06:13.978] [puff::index::jointLog] [info] chunk 1 = [2,945,326, 5,890,622)\n",
      "\u001b[00m\u001b[00m[2020-07-16 10:06:14.305] [puff::index::jointLog] [info] finished populating pos vector\n",
      "\u001b[00m\u001b[00m[2020-07-16 10:06:14.305] [puff::index::jointLog] [info] writing index components\n",
      "\u001b[00m\u001b[00m[2020-07-16 10:06:14.959] [puff::index::jointLog] [info] finished writing dense pufferfish index\n",
      "\u001b[00m[2020-07-16 10:06:14.968] [jLog] [info] done building index\n"
     ]
    }
   ],
   "source": [
    "# Get PA14 index\n",
    "! salmon index -t $paths.PA14_REF -i $paths.PA14_INDEX"
   ]
  },
  {
   "cell_type": "markdown",
   "metadata": {},
   "source": [
    "### Quantify gene expression\n",
    "Now that we have our index built and all of our data downloaded, we’re ready to quantify our samples\n",
    "\n",
    "**Input:**\n",
    "* Index of reference transcriptome\n",
    "* FASTQ of experimental samples\n",
    "\n",
    "**Output:**\n",
    "\n",
    "After the salmon commands finish running, you should have a directory named quants, which will have a sub-directory for each sample. These sub-directories contain the quantification results of salmon, as well as a lot of other information salmon records about the sample and the run. \n",
    "\n",
    "The main output file (called `quant.sf`). Inside the quantification file for sample DRR016125 in quants/DRR016125/quant.sf, you’ll see a TSV format file listing the name (`Name`) of each transcript, its length (`Length`), effective length (`EffectiveLength`), and its abundance in terms of Transcripts Per Million (`TPM`) and estimated number of reads (`NumReads`) originating from this transcript.\n",
    "\n",
    "**For each sample we have read counts per gene (where the genes are based on the reference gene file provided above).** "
   ]
  },
  {
   "cell_type": "markdown",
   "metadata": {},
   "source": [
    "#### Get quants using PAO1 reference"
   ]
  },
  {
   "cell_type": "code",
   "execution_count": null,
   "metadata": {
    "scrolled": true
   },
   "outputs": [],
   "source": [
    "%%bash -s $paths.PAO1_QUANT $paths.FASTQ_DIR $paths.PAO1_INDEX\n",
    "mkdir $1\n",
    "\n",
    "for FILE_PATH in $2/*;\n",
    "do\n",
    "\n",
    "# get file name\n",
    "sample_name=`basename ${FILE_PATH}`\n",
    "\n",
    "# remove extension from file name\n",
    "sample_name=\"${sample_name%_*}\"\n",
    "\n",
    "# get base path\n",
    "base_name=${FILE_PATH%/*}\n",
    "\n",
    "echo \"Processing sample ${sample_name}\"\n",
    "\n",
    "salmon quant -i $3 -l A \\\n",
    "            -1 ${base_name}/${sample_name}_1.fastq \\\n",
    "            -2 ${base_name}/${sample_name}_2.fastq \\\n",
    "            -p 8 --validateMappings -o $1/${sample_name}_quant\n",
    "done"
   ]
  },
  {
   "cell_type": "markdown",
   "metadata": {},
   "source": [
    "#### Get quants using PA14 reference"
   ]
  },
  {
   "cell_type": "code",
   "execution_count": null,
   "metadata": {},
   "outputs": [],
   "source": [
    "%%bash -s $paths.PA14_QUANT $paths.FASTQ_DIR $paths.PA14_INDEX\n",
    "mkdir $1\n",
    "\n",
    "for FILE_PATH in $2/*;\n",
    "do\n",
    "\n",
    "# get file name\n",
    "sample_name=`basename ${FILE_PATH}`\n",
    "\n",
    "# remove extension from file name\n",
    "sample_name=\"${sample_name%_*}\"\n",
    "\n",
    "# get base path\n",
    "base_name=${FILE_PATH%/*}\n",
    "\n",
    "echo \"Processing sample ${sample_name}\"\n",
    "\n",
    "salmon quant -i $3 -l A \\\n",
    "            -1 ${base_name}/${sample_name}_1.fastq \\\n",
    "            -2 ${base_name}/${sample_name}_2.fastq \\\n",
    "            -p 8 --validateMappings -o $1/${sample_name}_quant\n",
    "done"
   ]
  },
  {
   "cell_type": "markdown",
   "metadata": {},
   "source": [
    "### Consolidate sample quantification to gene expression dataframe"
   ]
  },
  {
   "cell_type": "code",
   "execution_count": 2,
   "metadata": {},
   "outputs": [
    {
     "data": {
      "text/html": [
       "<div>\n",
       "<style scoped>\n",
       "    .dataframe tbody tr th:only-of-type {\n",
       "        vertical-align: middle;\n",
       "    }\n",
       "\n",
       "    .dataframe tbody tr th {\n",
       "        vertical-align: top;\n",
       "    }\n",
       "\n",
       "    .dataframe thead th {\n",
       "        text-align: right;\n",
       "    }\n",
       "</style>\n",
       "<table border=\"1\" class=\"dataframe\">\n",
       "  <thead>\n",
       "    <tr style=\"text-align: right;\">\n",
       "      <th>Name</th>\n",
       "      <th>PGD134012</th>\n",
       "      <th>PGD134018</th>\n",
       "      <th>PGD134020</th>\n",
       "      <th>PGD134022</th>\n",
       "      <th>PGD134024</th>\n",
       "      <th>PGD134014</th>\n",
       "      <th>PGD134016</th>\n",
       "      <th>PGD134026</th>\n",
       "      <th>PGD134030</th>\n",
       "      <th>PGD134032</th>\n",
       "      <th>...</th>\n",
       "      <th>PGD133904</th>\n",
       "      <th>PGD133906</th>\n",
       "      <th>PGD133902</th>\n",
       "      <th>PGD133898</th>\n",
       "      <th>PGD133900</th>\n",
       "      <th>PGD133894</th>\n",
       "      <th>PGD133896</th>\n",
       "      <th>PGD133892</th>\n",
       "      <th>PGD133884</th>\n",
       "      <th>PGD133886</th>\n",
       "    </tr>\n",
       "  </thead>\n",
       "  <tbody>\n",
       "    <tr>\n",
       "      <th>SRR7886564</th>\n",
       "      <td>231.716766</td>\n",
       "      <td>190.742049</td>\n",
       "      <td>251.434363</td>\n",
       "      <td>244.575451</td>\n",
       "      <td>232.667420</td>\n",
       "      <td>338.778285</td>\n",
       "      <td>154.619466</td>\n",
       "      <td>135.309196</td>\n",
       "      <td>197.297614</td>\n",
       "      <td>208.656767</td>\n",
       "      <td>...</td>\n",
       "      <td>384.006646</td>\n",
       "      <td>160.423009</td>\n",
       "      <td>217.461069</td>\n",
       "      <td>156.885980</td>\n",
       "      <td>207.875748</td>\n",
       "      <td>401.447266</td>\n",
       "      <td>243.877369</td>\n",
       "      <td>242.992502</td>\n",
       "      <td>246.314856</td>\n",
       "      <td>2505.558825</td>\n",
       "    </tr>\n",
       "    <tr>\n",
       "      <th>SRR7886563</th>\n",
       "      <td>221.861101</td>\n",
       "      <td>206.228200</td>\n",
       "      <td>262.510896</td>\n",
       "      <td>236.227489</td>\n",
       "      <td>218.772353</td>\n",
       "      <td>277.169311</td>\n",
       "      <td>172.770017</td>\n",
       "      <td>131.655150</td>\n",
       "      <td>203.906846</td>\n",
       "      <td>195.419829</td>\n",
       "      <td>...</td>\n",
       "      <td>422.431994</td>\n",
       "      <td>186.070549</td>\n",
       "      <td>221.798564</td>\n",
       "      <td>169.894611</td>\n",
       "      <td>206.047320</td>\n",
       "      <td>364.537806</td>\n",
       "      <td>220.715998</td>\n",
       "      <td>222.137392</td>\n",
       "      <td>290.767265</td>\n",
       "      <td>1822.432926</td>\n",
       "    </tr>\n",
       "    <tr>\n",
       "      <th>SRR7886556</th>\n",
       "      <td>239.035540</td>\n",
       "      <td>214.717657</td>\n",
       "      <td>274.756361</td>\n",
       "      <td>234.900934</td>\n",
       "      <td>211.425667</td>\n",
       "      <td>331.008247</td>\n",
       "      <td>182.534175</td>\n",
       "      <td>151.789441</td>\n",
       "      <td>177.389040</td>\n",
       "      <td>214.459340</td>\n",
       "      <td>...</td>\n",
       "      <td>313.613041</td>\n",
       "      <td>203.419543</td>\n",
       "      <td>219.460975</td>\n",
       "      <td>122.112693</td>\n",
       "      <td>216.618620</td>\n",
       "      <td>356.472812</td>\n",
       "      <td>204.935818</td>\n",
       "      <td>236.919636</td>\n",
       "      <td>344.232315</td>\n",
       "      <td>840.672326</td>\n",
       "    </tr>\n",
       "    <tr>\n",
       "      <th>SRR7886554</th>\n",
       "      <td>207.540231</td>\n",
       "      <td>225.539932</td>\n",
       "      <td>225.249527</td>\n",
       "      <td>219.545459</td>\n",
       "      <td>187.796107</td>\n",
       "      <td>288.503175</td>\n",
       "      <td>170.652752</td>\n",
       "      <td>152.999445</td>\n",
       "      <td>178.938258</td>\n",
       "      <td>189.161895</td>\n",
       "      <td>...</td>\n",
       "      <td>310.622609</td>\n",
       "      <td>162.000331</td>\n",
       "      <td>226.673993</td>\n",
       "      <td>151.294458</td>\n",
       "      <td>188.400366</td>\n",
       "      <td>344.227676</td>\n",
       "      <td>230.639268</td>\n",
       "      <td>215.712007</td>\n",
       "      <td>231.559415</td>\n",
       "      <td>2818.206826</td>\n",
       "    </tr>\n",
       "    <tr>\n",
       "      <th>SRR11809604</th>\n",
       "      <td>260.594079</td>\n",
       "      <td>246.812776</td>\n",
       "      <td>266.252334</td>\n",
       "      <td>265.965475</td>\n",
       "      <td>221.272292</td>\n",
       "      <td>326.553412</td>\n",
       "      <td>168.113136</td>\n",
       "      <td>173.746496</td>\n",
       "      <td>222.402769</td>\n",
       "      <td>211.535415</td>\n",
       "      <td>...</td>\n",
       "      <td>407.532934</td>\n",
       "      <td>218.539998</td>\n",
       "      <td>230.043668</td>\n",
       "      <td>167.621171</td>\n",
       "      <td>229.045395</td>\n",
       "      <td>376.025690</td>\n",
       "      <td>245.817934</td>\n",
       "      <td>271.991984</td>\n",
       "      <td>330.510694</td>\n",
       "      <td>3013.898920</td>\n",
       "    </tr>\n",
       "  </tbody>\n",
       "</table>\n",
       "<p>5 rows × 5685 columns</p>\n",
       "</div>"
      ],
      "text/plain": [
       "Name          PGD134012   PGD134018   PGD134020   PGD134022   PGD134024  \\\n",
       "SRR7886564   231.716766  190.742049  251.434363  244.575451  232.667420   \n",
       "SRR7886563   221.861101  206.228200  262.510896  236.227489  218.772353   \n",
       "SRR7886556   239.035540  214.717657  274.756361  234.900934  211.425667   \n",
       "SRR7886554   207.540231  225.539932  225.249527  219.545459  187.796107   \n",
       "SRR11809604  260.594079  246.812776  266.252334  265.965475  221.272292   \n",
       "\n",
       "Name          PGD134014   PGD134016   PGD134026   PGD134030   PGD134032  ...  \\\n",
       "SRR7886564   338.778285  154.619466  135.309196  197.297614  208.656767  ...   \n",
       "SRR7886563   277.169311  172.770017  131.655150  203.906846  195.419829  ...   \n",
       "SRR7886556   331.008247  182.534175  151.789441  177.389040  214.459340  ...   \n",
       "SRR7886554   288.503175  170.652752  152.999445  178.938258  189.161895  ...   \n",
       "SRR11809604  326.553412  168.113136  173.746496  222.402769  211.535415  ...   \n",
       "\n",
       "Name          PGD133904   PGD133906   PGD133902   PGD133898   PGD133900  \\\n",
       "SRR7886564   384.006646  160.423009  217.461069  156.885980  207.875748   \n",
       "SRR7886563   422.431994  186.070549  221.798564  169.894611  206.047320   \n",
       "SRR7886556   313.613041  203.419543  219.460975  122.112693  216.618620   \n",
       "SRR7886554   310.622609  162.000331  226.673993  151.294458  188.400366   \n",
       "SRR11809604  407.532934  218.539998  230.043668  167.621171  229.045395   \n",
       "\n",
       "Name          PGD133894   PGD133896   PGD133892   PGD133884    PGD133886  \n",
       "SRR7886564   401.447266  243.877369  242.992502  246.314856  2505.558825  \n",
       "SRR7886563   364.537806  220.715998  222.137392  290.767265  1822.432926  \n",
       "SRR7886556   356.472812  204.935818  236.919636  344.232315   840.672326  \n",
       "SRR7886554   344.227676  230.639268  215.712007  231.559415  2818.206826  \n",
       "SRR11809604  376.025690  245.817934  271.991984  330.510694  3013.898920  \n",
       "\n",
       "[5 rows x 5685 columns]"
      ]
     },
     "execution_count": 2,
     "metadata": {},
     "output_type": "execute_result"
    }
   ],
   "source": [
    "# PAO1\n",
    "# Read through all sample subdirectories in quant/\n",
    "# Within each sample subdirectory, get quant.sf file\n",
    "data_dir = paths.PAO1_QUANT\n",
    "\n",
    "expression_pao1_df = pd.DataFrame(\n",
    "    pd.read_csv(file, sep=\"\\t\", index_col=0)[\"TPM\"].\n",
    "    rename(file.parent.name.split(\"_\")[0]) \n",
    "    for file in data_dir.rglob(\"*/quant.sf\"))    \n",
    "\n",
    "expression_pao1_df.head()"
   ]
  },
  {
   "cell_type": "code",
   "execution_count": 3,
   "metadata": {},
   "outputs": [
    {
     "data": {
      "text/html": [
       "<div>\n",
       "<style scoped>\n",
       "    .dataframe tbody tr th:only-of-type {\n",
       "        vertical-align: middle;\n",
       "    }\n",
       "\n",
       "    .dataframe tbody tr th {\n",
       "        vertical-align: top;\n",
       "    }\n",
       "\n",
       "    .dataframe thead th {\n",
       "        text-align: right;\n",
       "    }\n",
       "</style>\n",
       "<table border=\"1\" class=\"dataframe\">\n",
       "  <thead>\n",
       "    <tr style=\"text-align: right;\">\n",
       "      <th>Name</th>\n",
       "      <th>PGD1650835</th>\n",
       "      <th>PGD1650837</th>\n",
       "      <th>PGD1650839</th>\n",
       "      <th>PGD1650841</th>\n",
       "      <th>PGD1650843</th>\n",
       "      <th>PGD1650845</th>\n",
       "      <th>PGD1650847</th>\n",
       "      <th>PGD1650849</th>\n",
       "      <th>PGD1650851</th>\n",
       "      <th>PGD1650853</th>\n",
       "      <th>...</th>\n",
       "      <th>PGD1662756</th>\n",
       "      <th>PGD1662758</th>\n",
       "      <th>PGD1662760</th>\n",
       "      <th>PGD1662762</th>\n",
       "      <th>PGD1662764</th>\n",
       "      <th>PGD1662766</th>\n",
       "      <th>PGD1662768</th>\n",
       "      <th>PGD1662770</th>\n",
       "      <th>PGD1662772</th>\n",
       "      <th>PGD1662774</th>\n",
       "    </tr>\n",
       "  </thead>\n",
       "  <tbody>\n",
       "    <tr>\n",
       "      <th>SRR7886564</th>\n",
       "      <td>192.751566</td>\n",
       "      <td>158.720852</td>\n",
       "      <td>214.625977</td>\n",
       "      <td>202.781724</td>\n",
       "      <td>191.179817</td>\n",
       "      <td>284.389596</td>\n",
       "      <td>128.577961</td>\n",
       "      <td>111.754485</td>\n",
       "      <td>169.494706</td>\n",
       "      <td>181.962984</td>\n",
       "      <td>...</td>\n",
       "      <td>206.279768</td>\n",
       "      <td>318.390036</td>\n",
       "      <td>137.651423</td>\n",
       "      <td>176.686931</td>\n",
       "      <td>128.913082</td>\n",
       "      <td>172.640748</td>\n",
       "      <td>325.020691</td>\n",
       "      <td>207.769043</td>\n",
       "      <td>203.636922</td>\n",
       "      <td>198.203200</td>\n",
       "    </tr>\n",
       "    <tr>\n",
       "      <th>SRR7886563</th>\n",
       "      <td>185.983215</td>\n",
       "      <td>176.439379</td>\n",
       "      <td>226.761790</td>\n",
       "      <td>199.513132</td>\n",
       "      <td>181.198447</td>\n",
       "      <td>239.846511</td>\n",
       "      <td>148.182413</td>\n",
       "      <td>112.657855</td>\n",
       "      <td>173.914475</td>\n",
       "      <td>171.601826</td>\n",
       "      <td>...</td>\n",
       "      <td>214.476862</td>\n",
       "      <td>349.078921</td>\n",
       "      <td>160.861156</td>\n",
       "      <td>179.750922</td>\n",
       "      <td>147.525041</td>\n",
       "      <td>173.583246</td>\n",
       "      <td>327.571838</td>\n",
       "      <td>190.270258</td>\n",
       "      <td>187.372917</td>\n",
       "      <td>233.744611</td>\n",
       "    </tr>\n",
       "    <tr>\n",
       "      <th>SRR7886556</th>\n",
       "      <td>206.748915</td>\n",
       "      <td>182.729266</td>\n",
       "      <td>239.196084</td>\n",
       "      <td>204.343926</td>\n",
       "      <td>177.187986</td>\n",
       "      <td>281.314948</td>\n",
       "      <td>156.850235</td>\n",
       "      <td>130.633713</td>\n",
       "      <td>157.585184</td>\n",
       "      <td>183.599883</td>\n",
       "      <td>...</td>\n",
       "      <td>184.616302</td>\n",
       "      <td>266.232608</td>\n",
       "      <td>176.685663</td>\n",
       "      <td>187.728499</td>\n",
       "      <td>108.815371</td>\n",
       "      <td>185.383883</td>\n",
       "      <td>340.062547</td>\n",
       "      <td>179.374152</td>\n",
       "      <td>204.736395</td>\n",
       "      <td>291.297672</td>\n",
       "    </tr>\n",
       "    <tr>\n",
       "      <th>SRR7886554</th>\n",
       "      <td>178.712632</td>\n",
       "      <td>195.405128</td>\n",
       "      <td>192.601298</td>\n",
       "      <td>189.711862</td>\n",
       "      <td>163.103589</td>\n",
       "      <td>247.902597</td>\n",
       "      <td>147.759718</td>\n",
       "      <td>131.743631</td>\n",
       "      <td>154.767938</td>\n",
       "      <td>166.681838</td>\n",
       "      <td>...</td>\n",
       "      <td>194.691422</td>\n",
       "      <td>275.855294</td>\n",
       "      <td>140.845634</td>\n",
       "      <td>185.965077</td>\n",
       "      <td>128.547185</td>\n",
       "      <td>161.737315</td>\n",
       "      <td>316.978296</td>\n",
       "      <td>199.480049</td>\n",
       "      <td>185.434862</td>\n",
       "      <td>196.146236</td>\n",
       "    </tr>\n",
       "    <tr>\n",
       "      <th>SRR11809604</th>\n",
       "      <td>267.172256</td>\n",
       "      <td>254.701994</td>\n",
       "      <td>268.632842</td>\n",
       "      <td>271.423306</td>\n",
       "      <td>230.751676</td>\n",
       "      <td>333.398729</td>\n",
       "      <td>172.382798</td>\n",
       "      <td>176.970012</td>\n",
       "      <td>226.526855</td>\n",
       "      <td>217.921393</td>\n",
       "      <td>...</td>\n",
       "      <td>282.869988</td>\n",
       "      <td>416.355983</td>\n",
       "      <td>217.909341</td>\n",
       "      <td>242.660331</td>\n",
       "      <td>166.928443</td>\n",
       "      <td>234.798051</td>\n",
       "      <td>360.379467</td>\n",
       "      <td>248.561672</td>\n",
       "      <td>279.092208</td>\n",
       "      <td>340.206229</td>\n",
       "    </tr>\n",
       "  </tbody>\n",
       "</table>\n",
       "<p>5 rows × 5959 columns</p>\n",
       "</div>"
      ],
      "text/plain": [
       "Name         PGD1650835  PGD1650837  PGD1650839  PGD1650841  PGD1650843  \\\n",
       "SRR7886564   192.751566  158.720852  214.625977  202.781724  191.179817   \n",
       "SRR7886563   185.983215  176.439379  226.761790  199.513132  181.198447   \n",
       "SRR7886556   206.748915  182.729266  239.196084  204.343926  177.187986   \n",
       "SRR7886554   178.712632  195.405128  192.601298  189.711862  163.103589   \n",
       "SRR11809604  267.172256  254.701994  268.632842  271.423306  230.751676   \n",
       "\n",
       "Name         PGD1650845  PGD1650847  PGD1650849  PGD1650851  PGD1650853  ...  \\\n",
       "SRR7886564   284.389596  128.577961  111.754485  169.494706  181.962984  ...   \n",
       "SRR7886563   239.846511  148.182413  112.657855  173.914475  171.601826  ...   \n",
       "SRR7886556   281.314948  156.850235  130.633713  157.585184  183.599883  ...   \n",
       "SRR7886554   247.902597  147.759718  131.743631  154.767938  166.681838  ...   \n",
       "SRR11809604  333.398729  172.382798  176.970012  226.526855  217.921393  ...   \n",
       "\n",
       "Name         PGD1662756  PGD1662758  PGD1662760  PGD1662762  PGD1662764  \\\n",
       "SRR7886564   206.279768  318.390036  137.651423  176.686931  128.913082   \n",
       "SRR7886563   214.476862  349.078921  160.861156  179.750922  147.525041   \n",
       "SRR7886556   184.616302  266.232608  176.685663  187.728499  108.815371   \n",
       "SRR7886554   194.691422  275.855294  140.845634  185.965077  128.547185   \n",
       "SRR11809604  282.869988  416.355983  217.909341  242.660331  166.928443   \n",
       "\n",
       "Name         PGD1662766  PGD1662768  PGD1662770  PGD1662772  PGD1662774  \n",
       "SRR7886564   172.640748  325.020691  207.769043  203.636922  198.203200  \n",
       "SRR7886563   173.583246  327.571838  190.270258  187.372917  233.744611  \n",
       "SRR7886556   185.383883  340.062547  179.374152  204.736395  291.297672  \n",
       "SRR7886554   161.737315  316.978296  199.480049  185.434862  196.146236  \n",
       "SRR11809604  234.798051  360.379467  248.561672  279.092208  340.206229  \n",
       "\n",
       "[5 rows x 5959 columns]"
      ]
     },
     "execution_count": 3,
     "metadata": {},
     "output_type": "execute_result"
    }
   ],
   "source": [
    "# PA14\n",
    "data_dir = paths.PA14_QUANT\n",
    "\n",
    "expression_pa14_df = pd.DataFrame(\n",
    "    pd.read_csv(file, sep=\"\\t\", index_col=0)[\"TPM\"].\n",
    "    rename(file.parent.name.split(\"_\")[0]) \n",
    "    for file in data_dir.rglob(\"*/quant.sf\"))    \n",
    "\n",
    "expression_pa14_df.head()"
   ]
  },
  {
   "cell_type": "code",
   "execution_count": 4,
   "metadata": {},
   "outputs": [],
   "source": [
    "# Map gene ids to gene names\n",
    "pa14_fasta_file = paths.PA14_REF\n",
    "pao1_fasta_file = paths.PAO1_REF\n",
    "\n",
    "seq_id_to_gene_id_pao1 = utils.dict_gene_num_to_ids(pao1_fasta_file)\n",
    "seq_id_to_gene_id_pa14 = utils.dict_gene_num_to_ids(pa14_fasta_file)\n",
    "\n",
    "expression_pao1_df.rename(mapper=seq_id_to_gene_id_pao1, axis=\"columns\", inplace=True)\n",
    "expression_pa14_df.rename(mapper=seq_id_to_gene_id_pa14, axis=\"columns\", inplace=True)"
   ]
  },
  {
   "cell_type": "code",
   "execution_count": 5,
   "metadata": {},
   "outputs": [],
   "source": [
    "# Save gene expression data\n",
    "expression_pao1_df.to_csv(paths.PAO1_GE, sep='\\t')\n",
    "expression_pa14_df.to_csv(paths.PA14_GE, sep='\\t')"
   ]
  },
  {
   "cell_type": "markdown",
   "metadata": {},
   "source": [
    "### Quick validation\n",
    "Here we want to validate that we've processed the samples correctly using Salmon."
   ]
  },
  {
   "cell_type": "code",
   "execution_count": 6,
   "metadata": {},
   "outputs": [
    {
     "name": "stdout",
     "output_type": "stream",
     "text": [
      "5363\n",
      "322\n"
     ]
    }
   ],
   "source": [
    "# Get PAO1 core and accessory genes\n",
    "gene_mapping = utils.get_pao1_pa14_gene_map(paths.GENE_PAO1_ANNOT, 'pao1')\n",
    "core_genes = utils.get_core_genes(gene_mapping)\n",
    "acc_genes = list(set(expression_pao1_df.columns) - set(core_genes))\n",
    "\n",
    "print(len(core_genes))\n",
    "print(len(acc_genes))"
   ]
  },
  {
   "cell_type": "code",
   "execution_count": 7,
   "metadata": {},
   "outputs": [],
   "source": [
    "assert(\"PA0053\" in acc_genes)"
   ]
  },
  {
   "cell_type": "code",
   "execution_count": 8,
   "metadata": {},
   "outputs": [],
   "source": [
    "# Load in sample annotation file\n",
    "sample_annot_file = paths.SAMPLE_ANNOT\n",
    "pao1_ids, pa14_ids = utils.get_sample_grps(sample_annot_file)"
   ]
  },
  {
   "cell_type": "code",
   "execution_count": 9,
   "metadata": {},
   "outputs": [
    {
     "data": {
      "text/plain": [
       "False"
      ]
     },
     "execution_count": 9,
     "metadata": {},
     "output_type": "execute_result"
    }
   ],
   "source": [
    "# Examine PA14 samples in PAO1-specific genes (PAO1 reference)\n",
    "pa14_samples_pao1_genes_pao1_ref = expression_pao1_df.loc[pa14_ids,acc_genes]\n",
    "pa14_samples_pao1_genes_pao1_ref_mean = pa14_samples_pao1_genes_pao1_ref.mean()\n",
    "pa14_samples_pao1_genes_pao1_ref_mean.isna().any()"
   ]
  },
  {
   "cell_type": "code",
   "execution_count": 10,
   "metadata": {},
   "outputs": [
    {
     "data": {
      "text/plain": [
       "Series([], dtype: float64)"
      ]
     },
     "execution_count": 10,
     "metadata": {},
     "output_type": "execute_result"
    }
   ],
   "source": [
    "# Examine PA14 samples in core genes\n",
    "pa14_samples_core_genes_pao1_ref = expression_pao1_df.loc[pa14_ids,core_genes]\n",
    "pa14_samples_core_genes_pao1_ref_mean = pa14_samples_core_genes_pao1_ref.mean()\n",
    "pa14_samples_core_genes_pao1_ref_mean.isna().any()\n",
    "pa14_samples_core_genes_pao1_ref_mean[pa14_samples_core_genes_pao1_ref_mean.isna()]"
   ]
  },
  {
   "cell_type": "code",
   "execution_count": 11,
   "metadata": {},
   "outputs": [
    {
     "data": {
      "image/png": "[encoded data removed]",
      "text/plain": [
       "<Figure size 432x432 with 2 Axes>"
      ]
     },
     "metadata": {},
     "output_type": "display_data"
    }
   ],
   "source": [
    "# Plot\n",
    "sns.set()\n",
    "\n",
    "# Set up the matplotlib figure\n",
    "fig, axes = plt.subplots(ncols=2, nrows=1, figsize=(6,6))\n",
    "\n",
    "# Distribution plot for core genes\n",
    "sns.distplot(pa14_samples_core_genes_pao1_ref_mean.values,\n",
    "             label='PA14 samples core genes',\n",
    "             color='red',\n",
    "             #bins=bins_expression,\n",
    "             kde=False,\n",
    "             ax=axes[0]\n",
    "            )\n",
    "\n",
    "sns.distplot(pa14_samples_pao1_genes_pao1_ref_mean.values, \n",
    "             label='PA14 samples PAO1 specific genes', \n",
    "             color='blue',\n",
    "             #bins=bins_expression,\n",
    "             kde=False,\n",
    "             ax=axes[1]\n",
    "            )\n",
    "\n",
    "fig.xlim=(0,10)\n",
    "plt.suptitle('Histogram of mean gene expression of PA14 samples (PAO1 reference)',\n",
    "            fontsize=16)\n",
    "fig.text(0.5, 0.01, 'Mean gene expression', ha='center', fontsize=14)\n",
    "fig.text(0.01, 0.5, 'Count', ha='center', rotation=90, fontsize=14)\n",
    "plt.tight_layout(pad=0.4, \n",
    "                 w_pad=0.5,\n",
    "                 h_pad=1.0,\n",
    "                 rect=[0, 0.03, 1, 0.95])\n"
   ]
  },
  {
   "cell_type": "markdown",
   "metadata": {},
   "source": [
    "**Takeaway**:\n",
    "The plot above is taking all PA14 samples and looking at the distribution of mean gene expression(across samples) in two cases: (blue) mean gene expression for PAO1-specific genes (i.e. genes absent in PA14 strains) and (red) mean gene expression for core genes (i.e. genes shared by both PAO1 and PA14 strains). \n",
    "\n",
    "If we processed the data correctly, we'd expect that the mean expression of PAO1-specific genes (shown in blue) (ie. those PAO1 genes that do not have a PA14 homolog) have 0 expression in PA14 samples. We see that most PAO1-specific genes do have 0 expression. In comparison the mean expression of the core genes are mainly nonzero. "
   ]
  },
  {
   "cell_type": "markdown",
   "metadata": {},
   "source": [
    "#### Visualize clustering of gene expression"
   ]
  },
  {
   "cell_type": "code",
   "execution_count": 12,
   "metadata": {},
   "outputs": [
    {
     "data": {
      "text/html": [
       "<div>\n",
       "<style scoped>\n",
       "    .dataframe tbody tr th:only-of-type {\n",
       "        vertical-align: middle;\n",
       "    }\n",
       "\n",
       "    .dataframe tbody tr th {\n",
       "        vertical-align: top;\n",
       "    }\n",
       "\n",
       "    .dataframe thead th {\n",
       "        text-align: right;\n",
       "    }\n",
       "</style>\n",
       "<table border=\"1\" class=\"dataframe\">\n",
       "  <thead>\n",
       "    <tr style=\"text-align: right;\">\n",
       "      <th></th>\n",
       "      <th>1</th>\n",
       "      <th>2</th>\n",
       "      <th>genotype</th>\n",
       "    </tr>\n",
       "  </thead>\n",
       "  <tbody>\n",
       "    <tr>\n",
       "      <th>SRR7886564</th>\n",
       "      <td>10.723884</td>\n",
       "      <td>4.385249</td>\n",
       "      <td>PA14</td>\n",
       "    </tr>\n",
       "    <tr>\n",
       "      <th>SRR7886563</th>\n",
       "      <td>9.722832</td>\n",
       "      <td>4.629465</td>\n",
       "      <td>PA14</td>\n",
       "    </tr>\n",
       "    <tr>\n",
       "      <th>SRR7886556</th>\n",
       "      <td>9.381337</td>\n",
       "      <td>3.961981</td>\n",
       "      <td>PA14</td>\n",
       "    </tr>\n",
       "    <tr>\n",
       "      <th>SRR7886554</th>\n",
       "      <td>11.154778</td>\n",
       "      <td>4.745639</td>\n",
       "      <td>PA14</td>\n",
       "    </tr>\n",
       "    <tr>\n",
       "      <th>SRR11809604</th>\n",
       "      <td>5.541141</td>\n",
       "      <td>12.608292</td>\n",
       "      <td>PAO1</td>\n",
       "    </tr>\n",
       "  </tbody>\n",
       "</table>\n",
       "</div>"
      ],
      "text/plain": [
       "                     1          2 genotype\n",
       "SRR7886564   10.723884   4.385249     PA14\n",
       "SRR7886563    9.722832   4.629465     PA14\n",
       "SRR7886556    9.381337   3.961981     PA14\n",
       "SRR7886554   11.154778   4.745639     PA14\n",
       "SRR11809604   5.541141  12.608292     PAO1"
      ]
     },
     "execution_count": 12,
     "metadata": {},
     "output_type": "execute_result"
    }
   ],
   "source": [
    "# Embed expression data into low dimensional space\n",
    "model = umap.UMAP(random_state=123).fit(expression_pao1_df)\n",
    "pao1_encoded = model.transform(expression_pao1_df)\n",
    "\n",
    "pao1_encoded_df = pd.DataFrame(data=pao1_encoded,\n",
    "                               index=expression_pao1_df.index,\n",
    "                               columns=['1','2'])\n",
    "\n",
    "# Add label\n",
    "pao1_encoded_df['genotype'] = 'PAO1'\n",
    "pao1_encoded_df.loc[pa14_ids,'genotype'] = 'PA14'\n",
    "\n",
    "pao1_encoded_df.head()"
   ]
  },
  {
   "cell_type": "code",
   "execution_count": 13,
   "metadata": {},
   "outputs": [
    {
     "data": {
      "text/html": [
       "<div>\n",
       "<style scoped>\n",
       "    .dataframe tbody tr th:only-of-type {\n",
       "        vertical-align: middle;\n",
       "    }\n",
       "\n",
       "    .dataframe tbody tr th {\n",
       "        vertical-align: top;\n",
       "    }\n",
       "\n",
       "    .dataframe thead th {\n",
       "        text-align: right;\n",
       "    }\n",
       "</style>\n",
       "<table border=\"1\" class=\"dataframe\">\n",
       "  <thead>\n",
       "    <tr style=\"text-align: right;\">\n",
       "      <th></th>\n",
       "      <th>1</th>\n",
       "      <th>2</th>\n",
       "      <th>genotype</th>\n",
       "    </tr>\n",
       "  </thead>\n",
       "  <tbody>\n",
       "    <tr>\n",
       "      <th>SRR7886564</th>\n",
       "      <td>15.637930</td>\n",
       "      <td>5.601377</td>\n",
       "      <td>PA14</td>\n",
       "    </tr>\n",
       "    <tr>\n",
       "      <th>SRR7886563</th>\n",
       "      <td>14.639805</td>\n",
       "      <td>5.799588</td>\n",
       "      <td>PA14</td>\n",
       "    </tr>\n",
       "    <tr>\n",
       "      <th>SRR7886556</th>\n",
       "      <td>15.243623</td>\n",
       "      <td>6.814339</td>\n",
       "      <td>PA14</td>\n",
       "    </tr>\n",
       "    <tr>\n",
       "      <th>SRR7886554</th>\n",
       "      <td>15.435246</td>\n",
       "      <td>7.174043</td>\n",
       "      <td>PA14</td>\n",
       "    </tr>\n",
       "    <tr>\n",
       "      <th>SRR11809604</th>\n",
       "      <td>2.105994</td>\n",
       "      <td>11.735582</td>\n",
       "      <td>PAO1</td>\n",
       "    </tr>\n",
       "  </tbody>\n",
       "</table>\n",
       "</div>"
      ],
      "text/plain": [
       "                     1          2 genotype\n",
       "SRR7886564   15.637930   5.601377     PA14\n",
       "SRR7886563   14.639805   5.799588     PA14\n",
       "SRR7886556   15.243623   6.814339     PA14\n",
       "SRR7886554   15.435246   7.174043     PA14\n",
       "SRR11809604   2.105994  11.735582     PAO1"
      ]
     },
     "execution_count": 13,
     "metadata": {},
     "output_type": "execute_result"
    }
   ],
   "source": [
    "# Embed expression data into low dimensional space\n",
    "model = umap.UMAP(random_state=123).fit(expression_pa14_df)\n",
    "pa14_encoded = model.transform(expression_pa14_df)\n",
    "\n",
    "pa14_encoded_df = pd.DataFrame(data=pa14_encoded,\n",
    "                               index=expression_pa14_df.index,\n",
    "                               columns=['1','2'])\n",
    "\n",
    "# Add label\n",
    "pa14_encoded_df['genotype'] = 'PAO1'\n",
    "pa14_encoded_df.loc[pa14_ids,'genotype'] = 'PA14'\n",
    "\n",
    "pa14_encoded_df.head()"
   ]
  },
  {
   "cell_type": "code",
   "execution_count": 14,
   "metadata": {},
   "outputs": [
    {
     "name": "stderr",
     "output_type": "stream",
     "text": [
      "/home/alexandra/anaconda3/envs/core_acc/lib/python3.7/site-packages/matplotlib/__init__.py:886: MatplotlibDeprecationWarning: \n",
      "examples.directory is deprecated; in the future, examples will be found relative to the 'datapath' directory.\n",
      "  \"found relative to the 'datapath' directory.\".format(key))\n"
     ]
    },
    {
     "data": {
      "image/png": "[encoded data removed]",
      "text/plain": [
       "<Figure size 640x480 with 1 Axes>"
      ]
     },
     "metadata": {},
     "output_type": "display_data"
    },
    {
     "name": "stdout",
     "output_type": "stream",
     "text": [
      "<ggplot: (8745101893821)>\n"
     ]
    }
   ],
   "source": [
    "# Plot PAO1\n",
    "fig = ggplot(pao1_encoded_df, aes(x='1', y='2'))\n",
    "fig += geom_point(aes(color='genotype'), alpha=0.5)\n",
    "fig += labs(x ='UMAP 1',\n",
    "            y = 'UMAP 2',\n",
    "            title = 'RNA-seq expression using PAO1 reference')\n",
    "fig += theme_bw()\n",
    "fig += theme(\n",
    "    legend_title_align = \"center\",\n",
    "    plot_background=element_rect(fill='white'),\n",
    "    legend_key=element_rect(fill='white', colour='white'), \n",
    "    legend_title=element_text(family='sans-serif', size=15),\n",
    "    legend_text=element_text(family='sans-serif', size=12),\n",
    "    plot_title=element_text(family='sans-serif', size=15),\n",
    "    axis_text=element_text(family='sans-serif', size=12),\n",
    "    axis_title=element_text(family='sans-serif', size=15)\n",
    "    )\n",
    "fig += guides(colour=guide_legend(override_aes={'alpha': 1}))\n",
    "\n",
    "print(fig)"
   ]
  },
  {
   "cell_type": "code",
   "execution_count": 15,
   "metadata": {},
   "outputs": [
    {
     "data": {
      "image/png": "[encoded data removed]",
      "text/plain": [
       "<Figure size 640x480 with 1 Axes>"
      ]
     },
     "metadata": {},
     "output_type": "display_data"
    },
    {
     "name": "stdout",
     "output_type": "stream",
     "text": [
      "<ggplot: (8745103059049)>\n"
     ]
    }
   ],
   "source": [
    "# Plot PA14\n",
    "fig = ggplot(pa14_encoded_df, aes(x='1', y='2'))\n",
    "fig += geom_point(aes(color='genotype'), alpha=0.5)\n",
    "fig += labs(x ='UMAP 1',\n",
    "            y = 'UMAP 2',\n",
    "            title = 'RNA-seq expression using PA14 reference')\n",
    "fig += theme_bw()\n",
    "fig += theme(\n",
    "    legend_title_align = \"center\",\n",
    "    plot_background=element_rect(fill='white'),\n",
    "    legend_key=element_rect(fill='white', colour='white'), \n",
    "    legend_title=element_text(family='sans-serif', size=15),\n",
    "    legend_text=element_text(family='sans-serif', size=12),\n",
    "    plot_title=element_text(family='sans-serif', size=15),\n",
    "    axis_text=element_text(family='sans-serif', size=12),\n",
    "    axis_title=element_text(family='sans-serif', size=15)\n",
    "    )\n",
    "fig += guides(colour=guide_legend(override_aes={'alpha': 1}))\n",
    "\n",
    "print(fig)"
   ]
  },
  {
   "cell_type": "markdown",
   "metadata": {},
   "source": [
    "**Takeaway:**\n",
    "This plot is showing the clustering of samples using both the PAO1 reference transcriptome and the PA14 reference transcriptome. The plot shows that the samples clustering by genotype, as expected."
   ]
  }
 ],
 "metadata": {
  "kernelspec": {
   "display_name": "Python [conda env:core_acc] *",
   "language": "python",
   "name": "conda-env-core_acc-py"
  },
  "language_info": {
   "codemirror_mode": {
    "name": "ipython",
    "version": 3
   },
   "file_extension": ".py",
   "mimetype": "text/x-python",
   "name": "python",
   "nbconvert_exporter": "python",
   "pygments_lexer": "ipython3",
   "version": "3.7.6"
  }
 },
 "nbformat": 4,
 "nbformat_minor": 4
}
