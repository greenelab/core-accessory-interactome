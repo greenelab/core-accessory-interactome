{
 "cells": [
  {
   "cell_type": "markdown",
   "metadata": {},
   "source": [
    "# Identify generic genes and pathways\n",
    "\n",
    "This notebook is meant to identify common differentially expressed genes in the PAO1 and PA14 compendia"
   ]
  },
  {
   "cell_type": "code",
   "execution_count": 1,
   "metadata": {},
   "outputs": [
    {
     "name": "stderr",
     "output_type": "stream",
     "text": [
      "/home/alexandra/anaconda3/envs/generic_expression_new/lib/python3.7/site-packages/matplotlib/__init__.py:886: MatplotlibDeprecationWarning: \n",
      "examples.directory is deprecated; in the future, examples will be found relative to the 'datapath' directory.\n",
      "  \"found relative to the 'datapath' directory.\".format(key))\n",
      "Using TensorFlow backend.\n"
     ]
    }
   ],
   "source": [
    "%load_ext autoreload\n",
    "%load_ext rpy2.ipython\n",
    "%autoreload 2\n",
    "%matplotlib inline\n",
    "\n",
    "import os\n",
    "import sys\n",
    "import glob\n",
    "import pandas as pd\n",
    "import numpy as np\n",
    "import seaborn as sns\n",
    "import pickle\n",
    "import scipy.stats as ss\n",
    "from keras.models import load_model\n",
    "from rpy2.robjects import pandas2ri\n",
    "from ponyo import utils, simulate_expression_data\n",
    "from generic_expression_patterns_modules import process, stats, ranking\n",
    "\n",
    "pandas2ri.activate()\n",
    "\n",
    "np.random.seed(123)"
   ]
  },
  {
   "cell_type": "code",
   "execution_count": 2,
   "metadata": {},
   "outputs": [],
   "source": [
    "# Read in config variables\n",
    "base_dir = os.path.abspath(os.path.join(os.getcwd(), \"../\"))\n",
    "\n",
    "config_filename = \"config_pseudomonas_pa14_rnaseq.tsv\"\n",
    "params = utils.read_config(config_filename)"
   ]
  },
  {
   "cell_type": "code",
   "execution_count": 3,
   "metadata": {},
   "outputs": [],
   "source": [
    "# Load params\n",
    "local_dir = params[\"local_dir\"]\n",
    "dataset_name = params[\"dataset_name\"]\n",
    "NN_architecture = params[\"NN_architecture\"]\n",
    "num_runs = params[\"num_simulated\"]\n",
    "project_id = params[\"project_id\"]\n",
    "metadata_col_id = params[\"metadata_colname\"]\n",
    "raw_template_filename = params[\"raw_template_filename\"]\n",
    "processed_template_filename = params[\"processed_template_filename\"]\n",
    "normalized_compendium_filename = params[\"normalized_compendium_filename\"]\n",
    "scaler_filename = params[\"scaler_filename\"]\n",
    "col_to_rank_genes = params[\"rank_genes_by\"]\n",
    "logFC_name = params[\"DE_logFC_name\"]\n",
    "pvalue_name = params[\"DE_pvalue_name\"]\n",
    "latent_dim = params[\"latent_dim\"]\n",
    "\n",
    "# Load metadata file with grouping assignments for samples\n",
    "sample_id_metadata_filename = os.path.join(\n",
    "    base_dir, dataset_name, \"data\", \"metadata\", f\"{project_id}_process_samples.tsv\"\n",
    ")\n",
    "\n",
    "# Load metadata file with grouping assignments for samples\n",
    "metadata_filename = os.path.join(\n",
    "    base_dir, dataset_name, \"data\", \"metadata\", f\"{project_id}_groups.tsv\"\n",
    ")\n",
    "\n",
    "# Load pickled file\n",
    "scaler = pickle.load(open(scaler_filename, \"rb\"))\n",
    "\n",
    "# Percentile threshold to identify generic genes\n",
    "percentile_threshold = 80.0\n",
    "\n",
    "metadata_simulate_filename = \"data/metadata/SraRunTable.csv\"\n",
    "metadata_delimiter = \",\"\n",
    "experiment_id_colname = \"SRA_study\""
   ]
  },
  {
   "cell_type": "code",
   "execution_count": 4,
   "metadata": {},
   "outputs": [],
   "source": [
    "# Output files\n",
    "gene_summary_filename = os.path.join(\n",
    "    base_dir, dataset_name, f\"generic_gene_summary_{project_id}.tsv\"\n",
    ")"
   ]
  },
  {
   "cell_type": "markdown",
   "metadata": {},
   "source": [
    "## Need to customize code from ponyo\n",
    "\n",
    "The current simulation-related function in ponyo, `get_sample_ids` assumes that the user is using one of two different metadata files (one associated with the pseudomonas compendium and another associated with recount2). The compendium dataset we are using here has a slightly different format for their metadata file.\n",
    "\n",
    "Here we are temporarily writing our own function customized for this Pa RNA-seq compendia"
   ]
  },
  {
   "cell_type": "markdown",
   "metadata": {},
   "source": [
    "### Simulate experiments using selected template experiment\n",
    "Workflow:\n",
    "\n",
    "1. Get the gene expression data for the selected template experiment\n",
    "2. Encode this experiment into a latent space using the trained VAE model\n",
    "3. Linearly shift the encoded template experiment in the latent space\n",
    "4. Decode the samples. This results in a new experiment\n",
    "5. Repeat steps 1-4 to get multiple simulated experiments"
   ]
  },
  {
   "cell_type": "code",
   "execution_count": 5,
   "metadata": {
    "scrolled": true
   },
   "outputs": [
    {
     "name": "stdout",
     "output_type": "stream",
     "text": [
      "WARNING:tensorflow:From /home/alexandra/anaconda3/envs/generic_expression_new/lib/python3.7/site-packages/tensorflow_core/python/ops/resource_variable_ops.py:1630: calling BaseResourceVariable.__init__ (from tensorflow.python.ops.resource_variable_ops) with constraint is deprecated and will be removed in a future version.\n",
      "Instructions for updating:\n",
      "If using Keras pass *_constraint arguments to layers.\n",
      "WARNING:tensorflow:From /home/alexandra/anaconda3/envs/generic_expression_new/lib/python3.7/site-packages/keras/backend/tensorflow_backend.py:422: The name tf.global_variables is deprecated. Please use tf.compat.v1.global_variables instead.\n",
      "\n"
     ]
    }
   ],
   "source": [
    "# Simulate multiple experiments\n",
    "# This step creates the following files in \"<local_dir>/pseudo_experiment/\" directory:\n",
    "#   - selected_simulated_data_SRP012656_<n>.txt\n",
    "#   - selected_simulated_encoded_data_SRP012656_<n>.txt\n",
    "#   - template_normalized_data_SRP012656_test.txt\n",
    "# in which \"<n>\" is an integer in the range of [0, num_runs-1]\n",
    "os.makedirs(os.path.join(local_dir, \"pseudo_experiment\"), exist_ok=True)\n",
    "simulate_expression_data.shift_template_experiment(\n",
    "    normalized_compendium_filename,\n",
    "    NN_architecture,\n",
    "    latent_dim,\n",
    "    dataset_name,\n",
    "    scaler,\n",
    "    metadata_simulate_filename,\n",
    "    metadata_delimiter,\n",
    "    experiment_id_colname,\n",
    "    metadata_col_id,\n",
    "    project_id,\n",
    "    local_dir,\n",
    "    base_dir,\n",
    "    num_runs,\n",
    ")"
   ]
  },
  {
   "cell_type": "code",
   "execution_count": 6,
   "metadata": {},
   "outputs": [],
   "source": [
    "simulated_filename = os.path.join(\n",
    "    local_dir, \"pseudo_experiment\", f\"selected_simulated_data_{project_id}_1.txt\"\n",
    ")\n",
    "\n",
    "test = pd.read_csv(simulated_filename, sep=\"\\t\", index_col=0, header=0)"
   ]
  },
  {
   "cell_type": "code",
   "execution_count": 7,
   "metadata": {},
   "outputs": [
    {
     "data": {
      "text/html": [
       "<div>\n",
       "<style scoped>\n",
       "    .dataframe tbody tr th:only-of-type {\n",
       "        vertical-align: middle;\n",
       "    }\n",
       "\n",
       "    .dataframe tbody tr th {\n",
       "        vertical-align: top;\n",
       "    }\n",
       "\n",
       "    .dataframe thead th {\n",
       "        text-align: right;\n",
       "    }\n",
       "</style>\n",
       "<table border=\"1\" class=\"dataframe\">\n",
       "  <thead>\n",
       "    <tr style=\"text-align: right;\">\n",
       "      <th></th>\n",
       "      <th>PA14_55610</th>\n",
       "      <th>PA14_55600</th>\n",
       "      <th>PA14_55590</th>\n",
       "      <th>PA14_55580</th>\n",
       "      <th>PA14_55570</th>\n",
       "      <th>PA14_55560</th>\n",
       "      <th>PA14_55550</th>\n",
       "      <th>PA14_55540</th>\n",
       "      <th>PA14_55530</th>\n",
       "      <th>PA14_55520</th>\n",
       "      <th>...</th>\n",
       "      <th>PA14_19205</th>\n",
       "      <th>PA14_17675</th>\n",
       "      <th>PA14_67975</th>\n",
       "      <th>PA14_36345</th>\n",
       "      <th>PA14_43405</th>\n",
       "      <th>PA14_38825</th>\n",
       "      <th>PA14_24245</th>\n",
       "      <th>PA14_28895</th>\n",
       "      <th>PA14_55117</th>\n",
       "      <th>PA14_59845</th>\n",
       "    </tr>\n",
       "  </thead>\n",
       "  <tbody>\n",
       "    <tr>\n",
       "      <th>SRX1740204</th>\n",
       "      <td>108.457</td>\n",
       "      <td>23.304</td>\n",
       "      <td>11.661</td>\n",
       "      <td>74.478</td>\n",
       "      <td>19.033</td>\n",
       "      <td>20.979</td>\n",
       "      <td>10.483</td>\n",
       "      <td>13.171</td>\n",
       "      <td>20.299</td>\n",
       "      <td>3.600</td>\n",
       "      <td>...</td>\n",
       "      <td>33.618</td>\n",
       "      <td>60.495</td>\n",
       "      <td>967.708</td>\n",
       "      <td>148.018</td>\n",
       "      <td>0.790</td>\n",
       "      <td>24.859</td>\n",
       "      <td>547.994</td>\n",
       "      <td>516.105</td>\n",
       "      <td>98.500</td>\n",
       "      <td>659.155</td>\n",
       "    </tr>\n",
       "    <tr>\n",
       "      <th>SRX1740205</th>\n",
       "      <td>97.308</td>\n",
       "      <td>22.479</td>\n",
       "      <td>12.075</td>\n",
       "      <td>90.603</td>\n",
       "      <td>18.791</td>\n",
       "      <td>18.553</td>\n",
       "      <td>9.729</td>\n",
       "      <td>11.395</td>\n",
       "      <td>16.378</td>\n",
       "      <td>3.814</td>\n",
       "      <td>...</td>\n",
       "      <td>34.071</td>\n",
       "      <td>74.172</td>\n",
       "      <td>1176.308</td>\n",
       "      <td>153.484</td>\n",
       "      <td>0.424</td>\n",
       "      <td>22.592</td>\n",
       "      <td>456.569</td>\n",
       "      <td>537.056</td>\n",
       "      <td>110.732</td>\n",
       "      <td>789.196</td>\n",
       "    </tr>\n",
       "    <tr>\n",
       "      <th>SRX1740206</th>\n",
       "      <td>96.949</td>\n",
       "      <td>19.345</td>\n",
       "      <td>8.523</td>\n",
       "      <td>52.971</td>\n",
       "      <td>17.182</td>\n",
       "      <td>17.137</td>\n",
       "      <td>8.177</td>\n",
       "      <td>9.307</td>\n",
       "      <td>22.402</td>\n",
       "      <td>2.754</td>\n",
       "      <td>...</td>\n",
       "      <td>31.230</td>\n",
       "      <td>43.395</td>\n",
       "      <td>825.210</td>\n",
       "      <td>133.042</td>\n",
       "      <td>0.698</td>\n",
       "      <td>22.207</td>\n",
       "      <td>502.118</td>\n",
       "      <td>435.063</td>\n",
       "      <td>80.944</td>\n",
       "      <td>456.160</td>\n",
       "    </tr>\n",
       "    <tr>\n",
       "      <th>SRX1740207</th>\n",
       "      <td>106.399</td>\n",
       "      <td>13.168</td>\n",
       "      <td>7.097</td>\n",
       "      <td>42.125</td>\n",
       "      <td>19.117</td>\n",
       "      <td>9.358</td>\n",
       "      <td>6.780</td>\n",
       "      <td>6.207</td>\n",
       "      <td>33.088</td>\n",
       "      <td>1.991</td>\n",
       "      <td>...</td>\n",
       "      <td>24.550</td>\n",
       "      <td>23.455</td>\n",
       "      <td>522.668</td>\n",
       "      <td>169.872</td>\n",
       "      <td>0.605</td>\n",
       "      <td>14.838</td>\n",
       "      <td>662.735</td>\n",
       "      <td>428.306</td>\n",
       "      <td>71.678</td>\n",
       "      <td>703.271</td>\n",
       "    </tr>\n",
       "    <tr>\n",
       "      <th>SRX1740208</th>\n",
       "      <td>107.137</td>\n",
       "      <td>18.678</td>\n",
       "      <td>7.791</td>\n",
       "      <td>40.422</td>\n",
       "      <td>15.935</td>\n",
       "      <td>15.217</td>\n",
       "      <td>8.390</td>\n",
       "      <td>8.160</td>\n",
       "      <td>30.171</td>\n",
       "      <td>3.009</td>\n",
       "      <td>...</td>\n",
       "      <td>26.392</td>\n",
       "      <td>30.089</td>\n",
       "      <td>615.890</td>\n",
       "      <td>110.763</td>\n",
       "      <td>0.357</td>\n",
       "      <td>15.669</td>\n",
       "      <td>577.687</td>\n",
       "      <td>452.273</td>\n",
       "      <td>70.703</td>\n",
       "      <td>384.951</td>\n",
       "    </tr>\n",
       "  </tbody>\n",
       "</table>\n",
       "<p>5 rows × 5887 columns</p>\n",
       "</div>"
      ],
      "text/plain": [
       "            PA14_55610  PA14_55600  PA14_55590  PA14_55580  PA14_55570  \\\n",
       "SRX1740204     108.457      23.304      11.661      74.478      19.033   \n",
       "SRX1740205      97.308      22.479      12.075      90.603      18.791   \n",
       "SRX1740206      96.949      19.345       8.523      52.971      17.182   \n",
       "SRX1740207     106.399      13.168       7.097      42.125      19.117   \n",
       "SRX1740208     107.137      18.678       7.791      40.422      15.935   \n",
       "\n",
       "            PA14_55560  PA14_55550  PA14_55540  PA14_55530  PA14_55520  \\\n",
       "SRX1740204      20.979      10.483      13.171      20.299       3.600   \n",
       "SRX1740205      18.553       9.729      11.395      16.378       3.814   \n",
       "SRX1740206      17.137       8.177       9.307      22.402       2.754   \n",
       "SRX1740207       9.358       6.780       6.207      33.088       1.991   \n",
       "SRX1740208      15.217       8.390       8.160      30.171       3.009   \n",
       "\n",
       "               ...      PA14_19205  PA14_17675  PA14_67975  PA14_36345  \\\n",
       "SRX1740204     ...          33.618      60.495     967.708     148.018   \n",
       "SRX1740205     ...          34.071      74.172    1176.308     153.484   \n",
       "SRX1740206     ...          31.230      43.395     825.210     133.042   \n",
       "SRX1740207     ...          24.550      23.455     522.668     169.872   \n",
       "SRX1740208     ...          26.392      30.089     615.890     110.763   \n",
       "\n",
       "            PA14_43405  PA14_38825  PA14_24245  PA14_28895  PA14_55117  \\\n",
       "SRX1740204       0.790      24.859     547.994     516.105      98.500   \n",
       "SRX1740205       0.424      22.592     456.569     537.056     110.732   \n",
       "SRX1740206       0.698      22.207     502.118     435.063      80.944   \n",
       "SRX1740207       0.605      14.838     662.735     428.306      71.678   \n",
       "SRX1740208       0.357      15.669     577.687     452.273      70.703   \n",
       "\n",
       "            PA14_59845  \n",
       "SRX1740204     659.155  \n",
       "SRX1740205     789.196  \n",
       "SRX1740206     456.160  \n",
       "SRX1740207     703.271  \n",
       "SRX1740208     384.951  \n",
       "\n",
       "[5 rows x 5887 columns]"
      ]
     },
     "execution_count": 7,
     "metadata": {},
     "output_type": "execute_result"
    }
   ],
   "source": [
    "test.head()"
   ]
  },
  {
   "cell_type": "markdown",
   "metadata": {},
   "source": [
    "### Process template and simulated data\n",
    "\n",
    "* Remove samples not required for comparison.\n",
    "* Make sure ordering of samples matches metadata for proper comparison"
   ]
  },
  {
   "cell_type": "code",
   "execution_count": 8,
   "metadata": {
    "scrolled": true
   },
   "outputs": [
    {
     "name": "stdout",
     "output_type": "stream",
     "text": [
      "sample ids are ordered correctly\n",
      "sample ids are ordered correctly\n",
      "sample ids are ordered correctly\n",
      "sample ids are ordered correctly\n",
      "sample ids are ordered correctly\n",
      "sample ids are ordered correctly\n",
      "sample ids are ordered correctly\n",
      "sample ids are ordered correctly\n",
      "sample ids are ordered correctly\n",
      "sample ids are ordered correctly\n",
      "sample ids are ordered correctly\n",
      "sample ids are ordered correctly\n",
      "sample ids are ordered correctly\n",
      "sample ids are ordered correctly\n",
      "sample ids are ordered correctly\n",
      "sample ids are ordered correctly\n",
      "sample ids are ordered correctly\n",
      "sample ids are ordered correctly\n",
      "sample ids are ordered correctly\n",
      "sample ids are ordered correctly\n",
      "sample ids are ordered correctly\n",
      "sample ids are ordered correctly\n",
      "sample ids are ordered correctly\n",
      "sample ids are ordered correctly\n",
      "sample ids are ordered correctly\n",
      "sample ids are ordered correctly\n"
     ]
    }
   ],
   "source": [
    "if not os.path.exists(sample_id_metadata_filename):\n",
    "    sample_id_metadata_filename = None\n",
    "\n",
    "stats.process_samples_for_DESeq(\n",
    "    raw_template_filename,\n",
    "    metadata_filename,\n",
    "    processed_template_filename,\n",
    "    sample_id_metadata_filename,\n",
    ")\n",
    "\n",
    "for i in range(num_runs):\n",
    "    simulated_filename = os.path.join(\n",
    "        local_dir, \"pseudo_experiment\", f\"selected_simulated_data_{project_id}_{i}.txt\"\n",
    "    )\n",
    "    stats.process_samples_for_DESeq(\n",
    "        simulated_filename,\n",
    "        metadata_filename,\n",
    "        None,\n",
    "        sample_id_metadata_filename,\n",
    "    )"
   ]
  },
  {
   "cell_type": "code",
   "execution_count": 9,
   "metadata": {},
   "outputs": [],
   "source": [
    "# Quick check\n",
    "template_data = pd.read_csv(\n",
    "    processed_template_filename, header=0, index_col=0, sep=\"\\t\"\n",
    ")\n",
    "\n",
    "assert template_data.shape[0] == 6"
   ]
  },
  {
   "cell_type": "code",
   "execution_count": 10,
   "metadata": {},
   "outputs": [
    {
     "data": {
      "text/html": [
       "<div>\n",
       "<style scoped>\n",
       "    .dataframe tbody tr th:only-of-type {\n",
       "        vertical-align: middle;\n",
       "    }\n",
       "\n",
       "    .dataframe tbody tr th {\n",
       "        vertical-align: top;\n",
       "    }\n",
       "\n",
       "    .dataframe thead th {\n",
       "        text-align: right;\n",
       "    }\n",
       "</style>\n",
       "<table border=\"1\" class=\"dataframe\">\n",
       "  <thead>\n",
       "    <tr style=\"text-align: right;\">\n",
       "      <th></th>\n",
       "      <th>PA14_55610</th>\n",
       "      <th>PA14_55600</th>\n",
       "      <th>PA14_55590</th>\n",
       "      <th>PA14_55580</th>\n",
       "      <th>PA14_55570</th>\n",
       "      <th>PA14_55560</th>\n",
       "      <th>PA14_55550</th>\n",
       "      <th>PA14_55540</th>\n",
       "      <th>PA14_55530</th>\n",
       "      <th>PA14_55520</th>\n",
       "      <th>...</th>\n",
       "      <th>PA14_19205</th>\n",
       "      <th>PA14_17675</th>\n",
       "      <th>PA14_67975</th>\n",
       "      <th>PA14_36345</th>\n",
       "      <th>PA14_43405</th>\n",
       "      <th>PA14_38825</th>\n",
       "      <th>PA14_24245</th>\n",
       "      <th>PA14_28895</th>\n",
       "      <th>PA14_55117</th>\n",
       "      <th>PA14_59845</th>\n",
       "    </tr>\n",
       "  </thead>\n",
       "  <tbody>\n",
       "    <tr>\n",
       "      <th>SRX1740204</th>\n",
       "      <td>179</td>\n",
       "      <td>76</td>\n",
       "      <td>33</td>\n",
       "      <td>1142</td>\n",
       "      <td>356</td>\n",
       "      <td>104</td>\n",
       "      <td>31</td>\n",
       "      <td>85</td>\n",
       "      <td>75</td>\n",
       "      <td>5</td>\n",
       "      <td>...</td>\n",
       "      <td>48</td>\n",
       "      <td>19</td>\n",
       "      <td>261</td>\n",
       "      <td>275</td>\n",
       "      <td>0</td>\n",
       "      <td>56</td>\n",
       "      <td>135</td>\n",
       "      <td>156</td>\n",
       "      <td>63</td>\n",
       "      <td>261</td>\n",
       "    </tr>\n",
       "    <tr>\n",
       "      <th>SRX1740205</th>\n",
       "      <td>160</td>\n",
       "      <td>65</td>\n",
       "      <td>31</td>\n",
       "      <td>1395</td>\n",
       "      <td>435</td>\n",
       "      <td>115</td>\n",
       "      <td>37</td>\n",
       "      <td>101</td>\n",
       "      <td>58</td>\n",
       "      <td>4</td>\n",
       "      <td>...</td>\n",
       "      <td>45</td>\n",
       "      <td>25</td>\n",
       "      <td>389</td>\n",
       "      <td>251</td>\n",
       "      <td>0</td>\n",
       "      <td>116</td>\n",
       "      <td>125</td>\n",
       "      <td>164</td>\n",
       "      <td>58</td>\n",
       "      <td>296</td>\n",
       "    </tr>\n",
       "    <tr>\n",
       "      <th>SRX1740206</th>\n",
       "      <td>156</td>\n",
       "      <td>69</td>\n",
       "      <td>34</td>\n",
       "      <td>695</td>\n",
       "      <td>207</td>\n",
       "      <td>56</td>\n",
       "      <td>20</td>\n",
       "      <td>52</td>\n",
       "      <td>55</td>\n",
       "      <td>4</td>\n",
       "      <td>...</td>\n",
       "      <td>38</td>\n",
       "      <td>23</td>\n",
       "      <td>253</td>\n",
       "      <td>341</td>\n",
       "      <td>1</td>\n",
       "      <td>126</td>\n",
       "      <td>133</td>\n",
       "      <td>136</td>\n",
       "      <td>56</td>\n",
       "      <td>306</td>\n",
       "    </tr>\n",
       "    <tr>\n",
       "      <th>SRX1740207</th>\n",
       "      <td>230</td>\n",
       "      <td>54</td>\n",
       "      <td>20</td>\n",
       "      <td>474</td>\n",
       "      <td>174</td>\n",
       "      <td>39</td>\n",
       "      <td>15</td>\n",
       "      <td>47</td>\n",
       "      <td>74</td>\n",
       "      <td>5</td>\n",
       "      <td>...</td>\n",
       "      <td>20</td>\n",
       "      <td>24</td>\n",
       "      <td>173</td>\n",
       "      <td>483</td>\n",
       "      <td>0</td>\n",
       "      <td>113</td>\n",
       "      <td>197</td>\n",
       "      <td>102</td>\n",
       "      <td>72</td>\n",
       "      <td>390</td>\n",
       "    </tr>\n",
       "    <tr>\n",
       "      <th>SRX1740208</th>\n",
       "      <td>199</td>\n",
       "      <td>64</td>\n",
       "      <td>32</td>\n",
       "      <td>562</td>\n",
       "      <td>169</td>\n",
       "      <td>59</td>\n",
       "      <td>19</td>\n",
       "      <td>52</td>\n",
       "      <td>86</td>\n",
       "      <td>8</td>\n",
       "      <td>...</td>\n",
       "      <td>27</td>\n",
       "      <td>21</td>\n",
       "      <td>165</td>\n",
       "      <td>368</td>\n",
       "      <td>1</td>\n",
       "      <td>95</td>\n",
       "      <td>143</td>\n",
       "      <td>125</td>\n",
       "      <td>71</td>\n",
       "      <td>330</td>\n",
       "    </tr>\n",
       "  </tbody>\n",
       "</table>\n",
       "<p>5 rows × 5887 columns</p>\n",
       "</div>"
      ],
      "text/plain": [
       "            PA14_55610  PA14_55600  PA14_55590  PA14_55580  PA14_55570  \\\n",
       "SRX1740204         179          76          33        1142         356   \n",
       "SRX1740205         160          65          31        1395         435   \n",
       "SRX1740206         156          69          34         695         207   \n",
       "SRX1740207         230          54          20         474         174   \n",
       "SRX1740208         199          64          32         562         169   \n",
       "\n",
       "            PA14_55560  PA14_55550  PA14_55540  PA14_55530  PA14_55520  \\\n",
       "SRX1740204         104          31          85          75           5   \n",
       "SRX1740205         115          37         101          58           4   \n",
       "SRX1740206          56          20          52          55           4   \n",
       "SRX1740207          39          15          47          74           5   \n",
       "SRX1740208          59          19          52          86           8   \n",
       "\n",
       "               ...      PA14_19205  PA14_17675  PA14_67975  PA14_36345  \\\n",
       "SRX1740204     ...              48          19         261         275   \n",
       "SRX1740205     ...              45          25         389         251   \n",
       "SRX1740206     ...              38          23         253         341   \n",
       "SRX1740207     ...              20          24         173         483   \n",
       "SRX1740208     ...              27          21         165         368   \n",
       "\n",
       "            PA14_43405  PA14_38825  PA14_24245  PA14_28895  PA14_55117  \\\n",
       "SRX1740204           0          56         135         156          63   \n",
       "SRX1740205           0         116         125         164          58   \n",
       "SRX1740206           1         126         133         136          56   \n",
       "SRX1740207           0         113         197         102          72   \n",
       "SRX1740208           1          95         143         125          71   \n",
       "\n",
       "            PA14_59845  \n",
       "SRX1740204         261  \n",
       "SRX1740205         296  \n",
       "SRX1740206         306  \n",
       "SRX1740207         390  \n",
       "SRX1740208         330  \n",
       "\n",
       "[5 rows x 5887 columns]"
      ]
     },
     "execution_count": 10,
     "metadata": {},
     "output_type": "execute_result"
    }
   ],
   "source": [
    "template_data.head()"
   ]
  },
  {
   "cell_type": "markdown",
   "metadata": {},
   "source": [
    "### Differential expression analysis"
   ]
  },
  {
   "cell_type": "code",
   "execution_count": 11,
   "metadata": {},
   "outputs": [],
   "source": [
    "# Create subdirectory: \"<local_dir>/DE_stats/\"\n",
    "os.makedirs(os.path.join(local_dir, \"DE_stats\"), exist_ok=True)"
   ]
  },
  {
   "cell_type": "code",
   "execution_count": 12,
   "metadata": {
    "scrolled": true
   },
   "outputs": [
    {
     "name": "stderr",
     "output_type": "stream",
     "text": [
      "R[write to console]: Loading required package: S4Vectors\n",
      "\n",
      "R[write to console]: Loading required package: stats4\n",
      "\n",
      "R[write to console]: Loading required package: BiocGenerics\n",
      "\n",
      "R[write to console]: Loading required package: parallel\n",
      "\n",
      "R[write to console]: \n",
      "Attaching package: ‘BiocGenerics’\n",
      "\n",
      "\n",
      "R[write to console]: The following objects are masked from ‘package:parallel’:\n",
      "\n",
      "    clusterApply, clusterApplyLB, clusterCall, clusterEvalQ,\n",
      "    clusterExport, clusterMap, parApply, parCapply, parLapply,\n",
      "    parLapplyLB, parRapply, parSapply, parSapplyLB\n",
      "\n",
      "\n",
      "R[write to console]: The following object is masked from ‘package:limma’:\n",
      "\n",
      "    plotMA\n",
      "\n",
      "\n",
      "R[write to console]: The following objects are masked from ‘package:stats’:\n",
      "\n",
      "    IQR, mad, sd, var, xtabs\n",
      "\n",
      "\n",
      "R[write to console]: The following objects are masked from ‘package:base’:\n",
      "\n",
      "    anyDuplicated, append, as.data.frame, basename, cbind, colnames,\n",
      "    dirname, do.call, duplicated, eval, evalq, Filter, Find, get, grep,\n",
      "    grepl, intersect, is.unsorted, lapply, Map, mapply, match, mget,\n",
      "    order, paste, pmax, pmax.int, pmin, pmin.int, Position, rank,\n",
      "    rbind, Reduce, rownames, sapply, setdiff, sort, table, tapply,\n",
      "    union, unique, unsplit, which, which.max, which.min\n",
      "\n",
      "\n",
      "R[write to console]: \n",
      "Attaching package: ‘S4Vectors’\n",
      "\n",
      "\n",
      "R[write to console]: The following object is masked from ‘package:base’:\n",
      "\n",
      "    expand.grid\n",
      "\n",
      "\n",
      "R[write to console]: Loading required package: IRanges\n",
      "\n",
      "R[write to console]: Loading required package: GenomicRanges\n",
      "\n",
      "R[write to console]: Loading required package: GenomeInfoDb\n",
      "\n",
      "R[write to console]: Loading required package: SummarizedExperiment\n",
      "\n",
      "R[write to console]: Loading required package: Biobase\n",
      "\n",
      "R[write to console]: Welcome to Bioconductor\n",
      "\n",
      "    Vignettes contain introductory material; view with\n",
      "    'browseVignettes()'. To cite Bioconductor, see\n",
      "    'citation(\"Biobase\")', and for packages 'citation(\"pkgname\")'.\n",
      "\n",
      "\n",
      "R[write to console]: Loading required package: DelayedArray\n",
      "\n",
      "R[write to console]: Loading required package: matrixStats\n",
      "\n",
      "R[write to console]: \n",
      "Attaching package: ‘matrixStats’\n",
      "\n",
      "\n",
      "R[write to console]: The following objects are masked from ‘package:Biobase’:\n",
      "\n",
      "    anyMissing, rowMedians\n",
      "\n",
      "\n",
      "R[write to console]: Loading required package: BiocParallel\n",
      "\n",
      "R[write to console]: \n",
      "Attaching package: ‘DelayedArray’\n",
      "\n",
      "\n",
      "R[write to console]: The following objects are masked from ‘package:matrixStats’:\n",
      "\n",
      "    colMaxs, colMins, colRanges, rowMaxs, rowMins, rowRanges\n",
      "\n",
      "\n",
      "R[write to console]: The following objects are masked from ‘package:base’:\n",
      "\n",
      "    aperm, apply, rowsum\n",
      "\n",
      "\n"
     ]
    },
    {
     "name": "stdout",
     "output_type": "stream",
     "text": [
      "[1] \"Checking sample ordering...\"\n",
      "[1] TRUE\n"
     ]
    },
    {
     "name": "stderr",
     "output_type": "stream",
     "text": [
      "R[write to console]:   the design formula contains one or more numeric variables with integer values,\n",
      "  specifying a model with increasing fold change for higher values.\n",
      "  did you mean for this to be a factor? if so, first convert\n",
      "  this variable to a factor using the factor() function\n",
      "\n"
     ]
    }
   ],
   "source": [
    "%%R -i metadata_filename -i project_id -i processed_template_filename -i local_dir -i base_dir\n",
    "\n",
    "source('generic_expression_patterns_modules/DE_analysis.R')\n",
    "\n",
    "get_DE_stats_DESeq(metadata_filename,\n",
    "                   project_id,\n",
    "                   processed_template_filename,\n",
    "                   \"template\",\n",
    "                   local_dir,\n",
    "                   \"real\")"
   ]
  },
  {
   "cell_type": "code",
   "execution_count": 13,
   "metadata": {},
   "outputs": [
    {
     "name": "stdout",
     "output_type": "stream",
     "text": [
      "[1] \"Checking sample ordering...\"\n",
      "[1] TRUE\n"
     ]
    },
    {
     "name": "stderr",
     "output_type": "stream",
     "text": [
      "R[write to console]:   the design formula contains one or more numeric variables with integer values,\n",
      "  specifying a model with increasing fold change for higher values.\n",
      "  did you mean for this to be a factor? if so, first convert\n",
      "  this variable to a factor using the factor() function\n",
      "\n"
     ]
    },
    {
     "name": "stdout",
     "output_type": "stream",
     "text": [
      "[1] \"Checking sample ordering...\"\n",
      "[1] TRUE\n"
     ]
    },
    {
     "name": "stderr",
     "output_type": "stream",
     "text": [
      "R[write to console]:   the design formula contains one or more numeric variables with integer values,\n",
      "  specifying a model with increasing fold change for higher values.\n",
      "  did you mean for this to be a factor? if so, first convert\n",
      "  this variable to a factor using the factor() function\n",
      "\n"
     ]
    },
    {
     "name": "stdout",
     "output_type": "stream",
     "text": [
      "[1] \"Checking sample ordering...\"\n",
      "[1] TRUE\n"
     ]
    },
    {
     "name": "stderr",
     "output_type": "stream",
     "text": [
      "R[write to console]:   the design formula contains one or more numeric variables with integer values,\n",
      "  specifying a model with increasing fold change for higher values.\n",
      "  did you mean for this to be a factor? if so, first convert\n",
      "  this variable to a factor using the factor() function\n",
      "\n"
     ]
    },
    {
     "name": "stdout",
     "output_type": "stream",
     "text": [
      "[1] \"Checking sample ordering...\"\n",
      "[1] TRUE\n"
     ]
    },
    {
     "name": "stderr",
     "output_type": "stream",
     "text": [
      "R[write to console]:   the design formula contains one or more numeric variables with integer values,\n",
      "  specifying a model with increasing fold change for higher values.\n",
      "  did you mean for this to be a factor? if so, first convert\n",
      "  this variable to a factor using the factor() function\n",
      "\n"
     ]
    },
    {
     "name": "stdout",
     "output_type": "stream",
     "text": [
      "[1] \"Checking sample ordering...\"\n",
      "[1] TRUE\n"
     ]
    },
    {
     "name": "stderr",
     "output_type": "stream",
     "text": [
      "R[write to console]:   the design formula contains one or more numeric variables with integer values,\n",
      "  specifying a model with increasing fold change for higher values.\n",
      "  did you mean for this to be a factor? if so, first convert\n",
      "  this variable to a factor using the factor() function\n",
      "\n"
     ]
    },
    {
     "name": "stdout",
     "output_type": "stream",
     "text": [
      "[1] \"Checking sample ordering...\"\n",
      "[1] TRUE\n"
     ]
    },
    {
     "name": "stderr",
     "output_type": "stream",
     "text": [
      "R[write to console]:   the design formula contains one or more numeric variables with integer values,\n",
      "  specifying a model with increasing fold change for higher values.\n",
      "  did you mean for this to be a factor? if so, first convert\n",
      "  this variable to a factor using the factor() function\n",
      "\n"
     ]
    },
    {
     "name": "stdout",
     "output_type": "stream",
     "text": [
      "[1] \"Checking sample ordering...\"\n",
      "[1] TRUE\n"
     ]
    },
    {
     "name": "stderr",
     "output_type": "stream",
     "text": [
      "R[write to console]:   the design formula contains one or more numeric variables with integer values,\n",
      "  specifying a model with increasing fold change for higher values.\n",
      "  did you mean for this to be a factor? if so, first convert\n",
      "  this variable to a factor using the factor() function\n",
      "\n"
     ]
    },
    {
     "name": "stdout",
     "output_type": "stream",
     "text": [
      "[1] \"Checking sample ordering...\"\n",
      "[1] TRUE\n"
     ]
    },
    {
     "name": "stderr",
     "output_type": "stream",
     "text": [
      "R[write to console]:   the design formula contains one or more numeric variables with integer values,\n",
      "  specifying a model with increasing fold change for higher values.\n",
      "  did you mean for this to be a factor? if so, first convert\n",
      "  this variable to a factor using the factor() function\n",
      "\n"
     ]
    },
    {
     "name": "stdout",
     "output_type": "stream",
     "text": [
      "[1] \"Checking sample ordering...\"\n",
      "[1] TRUE\n"
     ]
    },
    {
     "name": "stderr",
     "output_type": "stream",
     "text": [
      "R[write to console]:   the design formula contains one or more numeric variables with integer values,\n",
      "  specifying a model with increasing fold change for higher values.\n",
      "  did you mean for this to be a factor? if so, first convert\n",
      "  this variable to a factor using the factor() function\n",
      "\n"
     ]
    },
    {
     "name": "stdout",
     "output_type": "stream",
     "text": [
      "[1] \"Checking sample ordering...\"\n",
      "[1] TRUE\n"
     ]
    },
    {
     "name": "stderr",
     "output_type": "stream",
     "text": [
      "R[write to console]:   the design formula contains one or more numeric variables with integer values,\n",
      "  specifying a model with increasing fold change for higher values.\n",
      "  did you mean for this to be a factor? if so, first convert\n",
      "  this variable to a factor using the factor() function\n",
      "\n"
     ]
    },
    {
     "name": "stdout",
     "output_type": "stream",
     "text": [
      "[1] \"Checking sample ordering...\"\n",
      "[1] TRUE\n"
     ]
    },
    {
     "name": "stderr",
     "output_type": "stream",
     "text": [
      "R[write to console]:   the design formula contains one or more numeric variables with integer values,\n",
      "  specifying a model with increasing fold change for higher values.\n",
      "  did you mean for this to be a factor? if so, first convert\n",
      "  this variable to a factor using the factor() function\n",
      "\n"
     ]
    },
    {
     "name": "stdout",
     "output_type": "stream",
     "text": [
      "[1] \"Checking sample ordering...\"\n",
      "[1] TRUE\n"
     ]
    },
    {
     "name": "stderr",
     "output_type": "stream",
     "text": [
      "R[write to console]:   the design formula contains one or more numeric variables with integer values,\n",
      "  specifying a model with increasing fold change for higher values.\n",
      "  did you mean for this to be a factor? if so, first convert\n",
      "  this variable to a factor using the factor() function\n",
      "\n"
     ]
    },
    {
     "name": "stdout",
     "output_type": "stream",
     "text": [
      "[1] \"Checking sample ordering...\"\n",
      "[1] TRUE\n"
     ]
    },
    {
     "name": "stderr",
     "output_type": "stream",
     "text": [
      "R[write to console]:   the design formula contains one or more numeric variables with integer values,\n",
      "  specifying a model with increasing fold change for higher values.\n",
      "  did you mean for this to be a factor? if so, first convert\n",
      "  this variable to a factor using the factor() function\n",
      "\n"
     ]
    },
    {
     "name": "stdout",
     "output_type": "stream",
     "text": [
      "[1] \"Checking sample ordering...\"\n",
      "[1] TRUE\n"
     ]
    },
    {
     "name": "stderr",
     "output_type": "stream",
     "text": [
      "R[write to console]:   the design formula contains one or more numeric variables with integer values,\n",
      "  specifying a model with increasing fold change for higher values.\n",
      "  did you mean for this to be a factor? if so, first convert\n",
      "  this variable to a factor using the factor() function\n",
      "\n"
     ]
    },
    {
     "name": "stdout",
     "output_type": "stream",
     "text": [
      "[1] \"Checking sample ordering...\"\n",
      "[1] TRUE\n"
     ]
    },
    {
     "name": "stderr",
     "output_type": "stream",
     "text": [
      "R[write to console]:   the design formula contains one or more numeric variables with integer values,\n",
      "  specifying a model with increasing fold change for higher values.\n",
      "  did you mean for this to be a factor? if so, first convert\n",
      "  this variable to a factor using the factor() function\n",
      "\n"
     ]
    },
    {
     "name": "stdout",
     "output_type": "stream",
     "text": [
      "[1] \"Checking sample ordering...\"\n",
      "[1] TRUE\n"
     ]
    },
    {
     "name": "stderr",
     "output_type": "stream",
     "text": [
      "R[write to console]:   the design formula contains one or more numeric variables with integer values,\n",
      "  specifying a model with increasing fold change for higher values.\n",
      "  did you mean for this to be a factor? if so, first convert\n",
      "  this variable to a factor using the factor() function\n",
      "\n"
     ]
    },
    {
     "name": "stdout",
     "output_type": "stream",
     "text": [
      "[1] \"Checking sample ordering...\"\n",
      "[1] TRUE\n"
     ]
    },
    {
     "name": "stderr",
     "output_type": "stream",
     "text": [
      "R[write to console]:   the design formula contains one or more numeric variables with integer values,\n",
      "  specifying a model with increasing fold change for higher values.\n",
      "  did you mean for this to be a factor? if so, first convert\n",
      "  this variable to a factor using the factor() function\n",
      "\n"
     ]
    },
    {
     "name": "stdout",
     "output_type": "stream",
     "text": [
      "[1] \"Checking sample ordering...\"\n",
      "[1] TRUE\n"
     ]
    },
    {
     "name": "stderr",
     "output_type": "stream",
     "text": [
      "R[write to console]:   the design formula contains one or more numeric variables with integer values,\n",
      "  specifying a model with increasing fold change for higher values.\n",
      "  did you mean for this to be a factor? if so, first convert\n",
      "  this variable to a factor using the factor() function\n",
      "\n"
     ]
    },
    {
     "name": "stdout",
     "output_type": "stream",
     "text": [
      "[1] \"Checking sample ordering...\"\n",
      "[1] TRUE\n"
     ]
    },
    {
     "name": "stderr",
     "output_type": "stream",
     "text": [
      "R[write to console]:   the design formula contains one or more numeric variables with integer values,\n",
      "  specifying a model with increasing fold change for higher values.\n",
      "  did you mean for this to be a factor? if so, first convert\n",
      "  this variable to a factor using the factor() function\n",
      "\n"
     ]
    },
    {
     "name": "stdout",
     "output_type": "stream",
     "text": [
      "[1] \"Checking sample ordering...\"\n",
      "[1] TRUE\n"
     ]
    },
    {
     "name": "stderr",
     "output_type": "stream",
     "text": [
      "R[write to console]:   the design formula contains one or more numeric variables with integer values,\n",
      "  specifying a model with increasing fold change for higher values.\n",
      "  did you mean for this to be a factor? if so, first convert\n",
      "  this variable to a factor using the factor() function\n",
      "\n"
     ]
    },
    {
     "name": "stdout",
     "output_type": "stream",
     "text": [
      "[1] \"Checking sample ordering...\"\n",
      "[1] TRUE\n"
     ]
    },
    {
     "name": "stderr",
     "output_type": "stream",
     "text": [
      "R[write to console]:   the design formula contains one or more numeric variables with integer values,\n",
      "  specifying a model with increasing fold change for higher values.\n",
      "  did you mean for this to be a factor? if so, first convert\n",
      "  this variable to a factor using the factor() function\n",
      "\n"
     ]
    },
    {
     "name": "stdout",
     "output_type": "stream",
     "text": [
      "[1] \"Checking sample ordering...\"\n",
      "[1] TRUE\n"
     ]
    },
    {
     "name": "stderr",
     "output_type": "stream",
     "text": [
      "R[write to console]:   the design formula contains one or more numeric variables with integer values,\n",
      "  specifying a model with increasing fold change for higher values.\n",
      "  did you mean for this to be a factor? if so, first convert\n",
      "  this variable to a factor using the factor() function\n",
      "\n"
     ]
    },
    {
     "name": "stdout",
     "output_type": "stream",
     "text": [
      "[1] \"Checking sample ordering...\"\n",
      "[1] TRUE\n"
     ]
    },
    {
     "name": "stderr",
     "output_type": "stream",
     "text": [
      "R[write to console]:   the design formula contains one or more numeric variables with integer values,\n",
      "  specifying a model with increasing fold change for higher values.\n",
      "  did you mean for this to be a factor? if so, first convert\n",
      "  this variable to a factor using the factor() function\n",
      "\n"
     ]
    },
    {
     "name": "stdout",
     "output_type": "stream",
     "text": [
      "[1] \"Checking sample ordering...\"\n",
      "[1] TRUE\n"
     ]
    },
    {
     "name": "stderr",
     "output_type": "stream",
     "text": [
      "R[write to console]:   the design formula contains one or more numeric variables with integer values,\n",
      "  specifying a model with increasing fold change for higher values.\n",
      "  did you mean for this to be a factor? if so, first convert\n",
      "  this variable to a factor using the factor() function\n",
      "\n"
     ]
    },
    {
     "name": "stdout",
     "output_type": "stream",
     "text": [
      "[1] \"Checking sample ordering...\"\n",
      "[1] TRUE\n"
     ]
    },
    {
     "name": "stderr",
     "output_type": "stream",
     "text": [
      "R[write to console]:   the design formula contains one or more numeric variables with integer values,\n",
      "  specifying a model with increasing fold change for higher values.\n",
      "  did you mean for this to be a factor? if so, first convert\n",
      "  this variable to a factor using the factor() function\n",
      "\n"
     ]
    }
   ],
   "source": [
    "%%R -i metadata_filename -i project_id -i base_dir -i local_dir -i num_runs -o num_sign_DEGs_simulated\n",
    "\n",
    "source('generic_expression_patterns_modules/DE_analysis.R')\n",
    "\n",
    "num_sign_DEGs_simulated <- c()\n",
    "\n",
    "for (i in 0:(num_runs-1)){\n",
    "    simulated_data_filename <- paste(\n",
    "        local_dir,\n",
    "        \"pseudo_experiment/selected_simulated_data_\",\n",
    "        project_id,\n",
    "        \"_\",\n",
    "        i,\n",
    "        \".txt\",\n",
    "        sep=\"\"\n",
    "    )\n",
    "\n",
    "    run_output <- get_DE_stats_DESeq(\n",
    "        metadata_filename,\n",
    "        project_id,\n",
    "        simulated_data_filename,\n",
    "        \"simulated\",\n",
    "        local_dir,\n",
    "        i\n",
    "    )\n",
    "    num_sign_DEGs_simulated <- c(num_sign_DEGs_simulated, run_output)\n",
    "}"
   ]
  },
  {
   "cell_type": "markdown",
   "metadata": {},
   "source": [
    "### Rank genes"
   ]
  },
  {
   "cell_type": "code",
   "execution_count": 14,
   "metadata": {
    "scrolled": true
   },
   "outputs": [
    {
     "name": "stderr",
     "output_type": "stream",
     "text": [
      "/home/alexandra/anaconda3/envs/generic_expression_new/lib/python3.7/site-packages/pandas/core/reshape/merge.py:544: UserWarning: merging between different levels can give an unintended result (2 levels on the left, 1 on the right)\n",
      "  warnings.warn(msg, UserWarning)\n"
     ]
    }
   ],
   "source": [
    "analysis_type = \"DE\"\n",
    "template_DE_stats_filename = os.path.join(\n",
    "    local_dir, \"DE_stats\", f\"DE_stats_template_data_{project_id}_real.txt\"\n",
    ")\n",
    "template_DE_stats, simulated_DE_summary_stats = ranking.process_and_rank_genes_pathways(\n",
    "    template_DE_stats_filename,\n",
    "    local_dir,\n",
    "    num_runs,\n",
    "    project_id,\n",
    "    analysis_type,\n",
    "    col_to_rank_genes,\n",
    "    logFC_name,\n",
    "    pvalue_name,\n",
    ")"
   ]
  },
  {
   "cell_type": "markdown",
   "metadata": {},
   "source": [
    "### Gene summary table"
   ]
  },
  {
   "cell_type": "code",
   "execution_count": 15,
   "metadata": {
    "scrolled": true
   },
   "outputs": [
    {
     "data": {
      "text/html": [
       "<div>\n",
       "<style scoped>\n",
       "    .dataframe tbody tr th:only-of-type {\n",
       "        vertical-align: middle;\n",
       "    }\n",
       "\n",
       "    .dataframe tbody tr th {\n",
       "        vertical-align: top;\n",
       "    }\n",
       "\n",
       "    .dataframe thead th {\n",
       "        text-align: right;\n",
       "    }\n",
       "</style>\n",
       "<table border=\"1\" class=\"dataframe\">\n",
       "  <thead>\n",
       "    <tr style=\"text-align: right;\">\n",
       "      <th></th>\n",
       "      <th>Gene ID</th>\n",
       "      <th>Adj P-value (Real)</th>\n",
       "      <th>Rank (Real)</th>\n",
       "      <th>abs(log2FoldChange) (Real)</th>\n",
       "      <th>log2FoldChange (Real)</th>\n",
       "      <th>Median adj p-value (simulated)</th>\n",
       "      <th>Rank (simulated)</th>\n",
       "      <th>Percentile (simulated)</th>\n",
       "      <th>Percent DE (simulated)</th>\n",
       "      <th>Mean abs(log2FoldChange) (simulated)</th>\n",
       "      <th>Std deviation (simulated)</th>\n",
       "      <th>Number of experiments (simulated)</th>\n",
       "      <th>Z score</th>\n",
       "    </tr>\n",
       "  </thead>\n",
       "  <tbody>\n",
       "    <tr>\n",
       "      <th>PA14_12590</th>\n",
       "      <td>PA14_12590</td>\n",
       "      <td>2.652220e-01</td>\n",
       "      <td>5787.0</td>\n",
       "      <td>1.517699</td>\n",
       "      <td>1.517699</td>\n",
       "      <td>0.961931</td>\n",
       "      <td>171.0</td>\n",
       "      <td>2.888209</td>\n",
       "      <td>0.0</td>\n",
       "      <td>0.089182</td>\n",
       "      <td>0.068138</td>\n",
       "      <td>25</td>\n",
       "      <td>20.965209</td>\n",
       "    </tr>\n",
       "    <tr>\n",
       "      <th>PA14_12610</th>\n",
       "      <td>PA14_12610</td>\n",
       "      <td>5.925633e-03</td>\n",
       "      <td>5815.0</td>\n",
       "      <td>1.729972</td>\n",
       "      <td>1.729972</td>\n",
       "      <td>0.941117</td>\n",
       "      <td>291.0</td>\n",
       "      <td>4.926945</td>\n",
       "      <td>0.0</td>\n",
       "      <td>0.095261</td>\n",
       "      <td>0.095386</td>\n",
       "      <td>25</td>\n",
       "      <td>17.137815</td>\n",
       "    </tr>\n",
       "    <tr>\n",
       "      <th>PA14_71110</th>\n",
       "      <td>PA14_71110</td>\n",
       "      <td>1.432568e-07</td>\n",
       "      <td>5882.0</td>\n",
       "      <td>3.252741</td>\n",
       "      <td>-3.252741</td>\n",
       "      <td>0.978880</td>\n",
       "      <td>3574.0</td>\n",
       "      <td>60.703364</td>\n",
       "      <td>0.0</td>\n",
       "      <td>0.193255</td>\n",
       "      <td>0.179803</td>\n",
       "      <td>25</td>\n",
       "      <td>17.015766</td>\n",
       "    </tr>\n",
       "    <tr>\n",
       "      <th>PA14_29970</th>\n",
       "      <td>PA14_29970</td>\n",
       "      <td>1.511605e-04</td>\n",
       "      <td>5253.0</td>\n",
       "      <td>0.843700</td>\n",
       "      <td>-0.843700</td>\n",
       "      <td>0.751547</td>\n",
       "      <td>528.0</td>\n",
       "      <td>8.953449</td>\n",
       "      <td>0.0</td>\n",
       "      <td>0.081700</td>\n",
       "      <td>0.047345</td>\n",
       "      <td>25</td>\n",
       "      <td>16.094521</td>\n",
       "    </tr>\n",
       "    <tr>\n",
       "      <th>PA14_55740</th>\n",
       "      <td>PA14_55740</td>\n",
       "      <td>3.441146e-01</td>\n",
       "      <td>5733.0</td>\n",
       "      <td>1.357010</td>\n",
       "      <td>-1.357010</td>\n",
       "      <td>0.896201</td>\n",
       "      <td>1975.0</td>\n",
       "      <td>33.537207</td>\n",
       "      <td>0.0</td>\n",
       "      <td>0.116937</td>\n",
       "      <td>0.080351</td>\n",
       "      <td>25</td>\n",
       "      <td>15.433212</td>\n",
       "    </tr>\n",
       "  </tbody>\n",
       "</table>\n",
       "</div>"
      ],
      "text/plain": [
       "               Gene ID  Adj P-value (Real)  Rank (Real)  \\\n",
       "PA14_12590  PA14_12590        2.652220e-01       5787.0   \n",
       "PA14_12610  PA14_12610        5.925633e-03       5815.0   \n",
       "PA14_71110  PA14_71110        1.432568e-07       5882.0   \n",
       "PA14_29970  PA14_29970        1.511605e-04       5253.0   \n",
       "PA14_55740  PA14_55740        3.441146e-01       5733.0   \n",
       "\n",
       "            abs(log2FoldChange) (Real)  log2FoldChange (Real)  \\\n",
       "PA14_12590                    1.517699               1.517699   \n",
       "PA14_12610                    1.729972               1.729972   \n",
       "PA14_71110                    3.252741              -3.252741   \n",
       "PA14_29970                    0.843700              -0.843700   \n",
       "PA14_55740                    1.357010              -1.357010   \n",
       "\n",
       "            Median adj p-value (simulated)  Rank (simulated)  \\\n",
       "PA14_12590                        0.961931             171.0   \n",
       "PA14_12610                        0.941117             291.0   \n",
       "PA14_71110                        0.978880            3574.0   \n",
       "PA14_29970                        0.751547             528.0   \n",
       "PA14_55740                        0.896201            1975.0   \n",
       "\n",
       "            Percentile (simulated)  Percent DE (simulated)  \\\n",
       "PA14_12590                2.888209                     0.0   \n",
       "PA14_12610                4.926945                     0.0   \n",
       "PA14_71110               60.703364                     0.0   \n",
       "PA14_29970                8.953449                     0.0   \n",
       "PA14_55740               33.537207                     0.0   \n",
       "\n",
       "            Mean abs(log2FoldChange) (simulated)  Std deviation (simulated)  \\\n",
       "PA14_12590                              0.089182                   0.068138   \n",
       "PA14_12610                              0.095261                   0.095386   \n",
       "PA14_71110                              0.193255                   0.179803   \n",
       "PA14_29970                              0.081700                   0.047345   \n",
       "PA14_55740                              0.116937                   0.080351   \n",
       "\n",
       "            Number of experiments (simulated)    Z score  \n",
       "PA14_12590                                 25  20.965209  \n",
       "PA14_12610                                 25  17.137815  \n",
       "PA14_71110                                 25  17.015766  \n",
       "PA14_29970                                 25  16.094521  \n",
       "PA14_55740                                 25  15.433212  "
      ]
     },
     "execution_count": 15,
     "metadata": {},
     "output_type": "execute_result"
    }
   ],
   "source": [
    "summary_gene_ranks = ranking.generate_summary_table(\n",
    "    template_DE_stats_filename,\n",
    "    template_DE_stats,\n",
    "    simulated_DE_summary_stats,\n",
    "    col_to_rank_genes,\n",
    "    local_dir,\n",
    "    \"gene\",\n",
    "    params,\n",
    ")\n",
    "\n",
    "summary_gene_ranks.sort_values(by=\"Z score\", ascending=False).head()"
   ]
  },
  {
   "cell_type": "code",
   "execution_count": 16,
   "metadata": {},
   "outputs": [
    {
     "data": {
      "text/html": [
       "<div>\n",
       "<style scoped>\n",
       "    .dataframe tbody tr th:only-of-type {\n",
       "        vertical-align: middle;\n",
       "    }\n",
       "\n",
       "    .dataframe tbody tr th {\n",
       "        vertical-align: top;\n",
       "    }\n",
       "\n",
       "    .dataframe thead th {\n",
       "        text-align: right;\n",
       "    }\n",
       "</style>\n",
       "<table border=\"1\" class=\"dataframe\">\n",
       "  <thead>\n",
       "    <tr style=\"text-align: right;\">\n",
       "      <th></th>\n",
       "      <th>Gene ID</th>\n",
       "      <th>Adj P-value (Real)</th>\n",
       "      <th>Rank (Real)</th>\n",
       "      <th>abs(log2FoldChange) (Real)</th>\n",
       "      <th>log2FoldChange (Real)</th>\n",
       "      <th>Median adj p-value (simulated)</th>\n",
       "      <th>Rank (simulated)</th>\n",
       "      <th>Percentile (simulated)</th>\n",
       "      <th>Percent DE (simulated)</th>\n",
       "      <th>Mean abs(log2FoldChange) (simulated)</th>\n",
       "      <th>Std deviation (simulated)</th>\n",
       "      <th>Number of experiments (simulated)</th>\n",
       "      <th>Z score</th>\n",
       "      <th>Gene Name</th>\n",
       "    </tr>\n",
       "  </thead>\n",
       "  <tbody>\n",
       "    <tr>\n",
       "      <th>PA14_12590</th>\n",
       "      <td>PA14_12590</td>\n",
       "      <td>2.652220e-01</td>\n",
       "      <td>5787.0</td>\n",
       "      <td>1.517699</td>\n",
       "      <td>1.517699</td>\n",
       "      <td>0.961931</td>\n",
       "      <td>171.0</td>\n",
       "      <td>2.888209</td>\n",
       "      <td>0.0</td>\n",
       "      <td>0.089182</td>\n",
       "      <td>0.068138</td>\n",
       "      <td>25</td>\n",
       "      <td>20.965209</td>\n",
       "      <td>NaN</td>\n",
       "    </tr>\n",
       "    <tr>\n",
       "      <th>PA14_12610</th>\n",
       "      <td>PA14_12610</td>\n",
       "      <td>5.925633e-03</td>\n",
       "      <td>5815.0</td>\n",
       "      <td>1.729972</td>\n",
       "      <td>1.729972</td>\n",
       "      <td>0.941117</td>\n",
       "      <td>291.0</td>\n",
       "      <td>4.926945</td>\n",
       "      <td>0.0</td>\n",
       "      <td>0.095261</td>\n",
       "      <td>0.095386</td>\n",
       "      <td>25</td>\n",
       "      <td>17.137815</td>\n",
       "      <td>NaN</td>\n",
       "    </tr>\n",
       "    <tr>\n",
       "      <th>PA14_71110</th>\n",
       "      <td>PA14_71110</td>\n",
       "      <td>1.432568e-07</td>\n",
       "      <td>5882.0</td>\n",
       "      <td>3.252741</td>\n",
       "      <td>-3.252741</td>\n",
       "      <td>0.978880</td>\n",
       "      <td>3574.0</td>\n",
       "      <td>60.703364</td>\n",
       "      <td>0.0</td>\n",
       "      <td>0.193255</td>\n",
       "      <td>0.179803</td>\n",
       "      <td>25</td>\n",
       "      <td>17.015766</td>\n",
       "      <td>NaN</td>\n",
       "    </tr>\n",
       "    <tr>\n",
       "      <th>PA14_29970</th>\n",
       "      <td>PA14_29970</td>\n",
       "      <td>1.511605e-04</td>\n",
       "      <td>5253.0</td>\n",
       "      <td>0.843700</td>\n",
       "      <td>-0.843700</td>\n",
       "      <td>0.751547</td>\n",
       "      <td>528.0</td>\n",
       "      <td>8.953449</td>\n",
       "      <td>0.0</td>\n",
       "      <td>0.081700</td>\n",
       "      <td>0.047345</td>\n",
       "      <td>25</td>\n",
       "      <td>16.094521</td>\n",
       "      <td>NaN</td>\n",
       "    </tr>\n",
       "    <tr>\n",
       "      <th>PA14_55740</th>\n",
       "      <td>PA14_55740</td>\n",
       "      <td>3.441146e-01</td>\n",
       "      <td>5733.0</td>\n",
       "      <td>1.357010</td>\n",
       "      <td>-1.357010</td>\n",
       "      <td>0.896201</td>\n",
       "      <td>1975.0</td>\n",
       "      <td>33.537207</td>\n",
       "      <td>0.0</td>\n",
       "      <td>0.116937</td>\n",
       "      <td>0.080351</td>\n",
       "      <td>25</td>\n",
       "      <td>15.433212</td>\n",
       "      <td>NaN</td>\n",
       "    </tr>\n",
       "  </tbody>\n",
       "</table>\n",
       "</div>"
      ],
      "text/plain": [
       "               Gene ID  Adj P-value (Real)  Rank (Real)  \\\n",
       "PA14_12590  PA14_12590        2.652220e-01       5787.0   \n",
       "PA14_12610  PA14_12610        5.925633e-03       5815.0   \n",
       "PA14_71110  PA14_71110        1.432568e-07       5882.0   \n",
       "PA14_29970  PA14_29970        1.511605e-04       5253.0   \n",
       "PA14_55740  PA14_55740        3.441146e-01       5733.0   \n",
       "\n",
       "            abs(log2FoldChange) (Real)  log2FoldChange (Real)  \\\n",
       "PA14_12590                    1.517699               1.517699   \n",
       "PA14_12610                    1.729972               1.729972   \n",
       "PA14_71110                    3.252741              -3.252741   \n",
       "PA14_29970                    0.843700              -0.843700   \n",
       "PA14_55740                    1.357010              -1.357010   \n",
       "\n",
       "            Median adj p-value (simulated)  Rank (simulated)  \\\n",
       "PA14_12590                        0.961931             171.0   \n",
       "PA14_12610                        0.941117             291.0   \n",
       "PA14_71110                        0.978880            3574.0   \n",
       "PA14_29970                        0.751547             528.0   \n",
       "PA14_55740                        0.896201            1975.0   \n",
       "\n",
       "            Percentile (simulated)  Percent DE (simulated)  \\\n",
       "PA14_12590                2.888209                     0.0   \n",
       "PA14_12610                4.926945                     0.0   \n",
       "PA14_71110               60.703364                     0.0   \n",
       "PA14_29970                8.953449                     0.0   \n",
       "PA14_55740               33.537207                     0.0   \n",
       "\n",
       "            Mean abs(log2FoldChange) (simulated)  Std deviation (simulated)  \\\n",
       "PA14_12590                              0.089182                   0.068138   \n",
       "PA14_12610                              0.095261                   0.095386   \n",
       "PA14_71110                              0.193255                   0.179803   \n",
       "PA14_29970                              0.081700                   0.047345   \n",
       "PA14_55740                              0.116937                   0.080351   \n",
       "\n",
       "            Number of experiments (simulated)    Z score Gene Name  \n",
       "PA14_12590                                 25  20.965209       NaN  \n",
       "PA14_12610                                 25  17.137815       NaN  \n",
       "PA14_71110                                 25  17.015766       NaN  \n",
       "PA14_29970                                 25  16.094521       NaN  \n",
       "PA14_55740                                 25  15.433212       NaN  "
      ]
     },
     "execution_count": 16,
     "metadata": {},
     "output_type": "execute_result"
    }
   ],
   "source": [
    "# Add gene name as column to summary dataframe\n",
    "summary_gene_ranks = ranking.add_pseudomonas_gene_name_col(summary_gene_ranks, base_dir)\n",
    "summary_gene_ranks.sort_values(by=\"Z score\", ascending=False).head()"
   ]
  },
  {
   "cell_type": "code",
   "execution_count": 17,
   "metadata": {},
   "outputs": [
    {
     "data": {
      "text/html": [
       "<div>\n",
       "<style scoped>\n",
       "    .dataframe tbody tr th:only-of-type {\n",
       "        vertical-align: middle;\n",
       "    }\n",
       "\n",
       "    .dataframe tbody tr th {\n",
       "        vertical-align: top;\n",
       "    }\n",
       "\n",
       "    .dataframe thead th {\n",
       "        text-align: right;\n",
       "    }\n",
       "</style>\n",
       "<table border=\"1\" class=\"dataframe\">\n",
       "  <thead>\n",
       "    <tr style=\"text-align: right;\">\n",
       "      <th></th>\n",
       "      <th>Gene ID</th>\n",
       "      <th>Adj P-value (Real)</th>\n",
       "      <th>Rank (Real)</th>\n",
       "      <th>abs(log2FoldChange) (Real)</th>\n",
       "      <th>log2FoldChange (Real)</th>\n",
       "      <th>Median adj p-value (simulated)</th>\n",
       "      <th>Rank (simulated)</th>\n",
       "      <th>Percentile (simulated)</th>\n",
       "      <th>Percent DE (simulated)</th>\n",
       "      <th>Mean abs(log2FoldChange) (simulated)</th>\n",
       "      <th>Std deviation (simulated)</th>\n",
       "      <th>Number of experiments (simulated)</th>\n",
       "      <th>Z score</th>\n",
       "      <th>Gene Name</th>\n",
       "    </tr>\n",
       "  </thead>\n",
       "  <tbody>\n",
       "    <tr>\n",
       "      <th>PA14_04180</th>\n",
       "      <td>PA14_04180</td>\n",
       "      <td>3.312040e-10</td>\n",
       "      <td>5854.0</td>\n",
       "      <td>2.278527</td>\n",
       "      <td>2.278527</td>\n",
       "      <td>0.065610</td>\n",
       "      <td>5887.0</td>\n",
       "      <td>100.000000</td>\n",
       "      <td>0.32</td>\n",
       "      <td>1.138699</td>\n",
       "      <td>0.646991</td>\n",
       "      <td>25</td>\n",
       "      <td>1.761737</td>\n",
       "      <td>NaN</td>\n",
       "    </tr>\n",
       "    <tr>\n",
       "      <th>PA14_33820</th>\n",
       "      <td>PA14_33820</td>\n",
       "      <td>3.200995e-01</td>\n",
       "      <td>3626.0</td>\n",
       "      <td>0.405696</td>\n",
       "      <td>0.405696</td>\n",
       "      <td>0.004348</td>\n",
       "      <td>5886.0</td>\n",
       "      <td>99.983011</td>\n",
       "      <td>0.36</td>\n",
       "      <td>0.960776</td>\n",
       "      <td>0.492441</td>\n",
       "      <td>25</td>\n",
       "      <td>-1.127199</td>\n",
       "      <td>NaN</td>\n",
       "    </tr>\n",
       "    <tr>\n",
       "      <th>PA14_33260</th>\n",
       "      <td>PA14_33260</td>\n",
       "      <td>9.659442e-01</td>\n",
       "      <td>458.0</td>\n",
       "      <td>0.044518</td>\n",
       "      <td>-0.044518</td>\n",
       "      <td>0.007860</td>\n",
       "      <td>5885.0</td>\n",
       "      <td>99.966021</td>\n",
       "      <td>0.44</td>\n",
       "      <td>0.927844</td>\n",
       "      <td>0.557307</td>\n",
       "      <td>25</td>\n",
       "      <td>-1.584990</td>\n",
       "      <td>NaN</td>\n",
       "    </tr>\n",
       "    <tr>\n",
       "      <th>PA14_33810</th>\n",
       "      <td>PA14_33810</td>\n",
       "      <td>9.074648e-02</td>\n",
       "      <td>5434.0</td>\n",
       "      <td>0.969030</td>\n",
       "      <td>0.969030</td>\n",
       "      <td>0.011575</td>\n",
       "      <td>5884.0</td>\n",
       "      <td>99.949032</td>\n",
       "      <td>0.36</td>\n",
       "      <td>0.910661</td>\n",
       "      <td>0.520156</td>\n",
       "      <td>25</td>\n",
       "      <td>0.112214</td>\n",
       "      <td>NaN</td>\n",
       "    </tr>\n",
       "    <tr>\n",
       "      <th>PA14_33710</th>\n",
       "      <td>PA14_33710</td>\n",
       "      <td>1.270346e-01</td>\n",
       "      <td>4978.0</td>\n",
       "      <td>0.718402</td>\n",
       "      <td>0.718402</td>\n",
       "      <td>0.017577</td>\n",
       "      <td>5883.0</td>\n",
       "      <td>99.932042</td>\n",
       "      <td>0.36</td>\n",
       "      <td>0.880121</td>\n",
       "      <td>0.380394</td>\n",
       "      <td>25</td>\n",
       "      <td>-0.425136</td>\n",
       "      <td>NaN</td>\n",
       "    </tr>\n",
       "  </tbody>\n",
       "</table>\n",
       "</div>"
      ],
      "text/plain": [
       "               Gene ID  Adj P-value (Real)  Rank (Real)  \\\n",
       "PA14_04180  PA14_04180        3.312040e-10       5854.0   \n",
       "PA14_33820  PA14_33820        3.200995e-01       3626.0   \n",
       "PA14_33260  PA14_33260        9.659442e-01        458.0   \n",
       "PA14_33810  PA14_33810        9.074648e-02       5434.0   \n",
       "PA14_33710  PA14_33710        1.270346e-01       4978.0   \n",
       "\n",
       "            abs(log2FoldChange) (Real)  log2FoldChange (Real)  \\\n",
       "PA14_04180                    2.278527               2.278527   \n",
       "PA14_33820                    0.405696               0.405696   \n",
       "PA14_33260                    0.044518              -0.044518   \n",
       "PA14_33810                    0.969030               0.969030   \n",
       "PA14_33710                    0.718402               0.718402   \n",
       "\n",
       "            Median adj p-value (simulated)  Rank (simulated)  \\\n",
       "PA14_04180                        0.065610            5887.0   \n",
       "PA14_33820                        0.004348            5886.0   \n",
       "PA14_33260                        0.007860            5885.0   \n",
       "PA14_33810                        0.011575            5884.0   \n",
       "PA14_33710                        0.017577            5883.0   \n",
       "\n",
       "            Percentile (simulated)  Percent DE (simulated)  \\\n",
       "PA14_04180              100.000000                    0.32   \n",
       "PA14_33820               99.983011                    0.36   \n",
       "PA14_33260               99.966021                    0.44   \n",
       "PA14_33810               99.949032                    0.36   \n",
       "PA14_33710               99.932042                    0.36   \n",
       "\n",
       "            Mean abs(log2FoldChange) (simulated)  Std deviation (simulated)  \\\n",
       "PA14_04180                              1.138699                   0.646991   \n",
       "PA14_33820                              0.960776                   0.492441   \n",
       "PA14_33260                              0.927844                   0.557307   \n",
       "PA14_33810                              0.910661                   0.520156   \n",
       "PA14_33710                              0.880121                   0.380394   \n",
       "\n",
       "            Number of experiments (simulated)   Z score Gene Name  \n",
       "PA14_04180                                 25  1.761737       NaN  \n",
       "PA14_33820                                 25 -1.127199       NaN  \n",
       "PA14_33260                                 25 -1.584990       NaN  \n",
       "PA14_33810                                 25  0.112214       NaN  \n",
       "PA14_33710                                 25 -0.425136       NaN  "
      ]
     },
     "execution_count": 17,
     "metadata": {},
     "output_type": "execute_result"
    }
   ],
   "source": [
    "summary_gene_ranks.sort_values(by=\"Percentile (simulated)\", ascending=False).head()"
   ]
  },
  {
   "cell_type": "code",
   "execution_count": 18,
   "metadata": {},
   "outputs": [
    {
     "data": {
      "text/plain": [
       "Gene ID                                 False\n",
       "Adj P-value (Real)                       True\n",
       "Rank (Real)                              True\n",
       "abs(log2FoldChange) (Real)               True\n",
       "log2FoldChange (Real)                    True\n",
       "Median adj p-value (simulated)          False\n",
       "Rank (simulated)                        False\n",
       "Percentile (simulated)                  False\n",
       "Percent DE (simulated)                  False\n",
       "Mean abs(log2FoldChange) (simulated)    False\n",
       "Std deviation (simulated)               False\n",
       "Number of experiments (simulated)       False\n",
       "Z score                                  True\n",
       "Gene Name                                True\n",
       "dtype: bool"
      ]
     },
     "execution_count": 18,
     "metadata": {},
     "output_type": "execute_result"
    }
   ],
   "source": [
    "# Check if there is an NaN values, there should not be\n",
    "summary_gene_ranks.isna().any()"
   ]
  },
  {
   "cell_type": "code",
   "execution_count": 19,
   "metadata": {},
   "outputs": [],
   "source": [
    "# Create `gene_summary_filename`\n",
    "summary_gene_ranks.to_csv(gene_summary_filename, sep=\"\\t\")"
   ]
  },
  {
   "cell_type": "markdown",
   "metadata": {},
   "source": [
    "## Compare gene ranking\n",
    "\n",
    "We can only compare the ranking between the PAO1 RNA-seq compendium vs GAPE, where we still see good concordance as expected.\n",
    "\n",
    "When we look for common genes, we do this based on percentiles generated by SOPHIE for both the PAO1 and PA14 compendia to be consistent."
   ]
  },
  {
   "cell_type": "code",
   "execution_count": 20,
   "metadata": {
    "scrolled": false
   },
   "outputs": [],
   "source": [
    "if \"pao1\" in config_filename:\n",
    "    # Get generic genes identified by Crow et. al.\n",
    "    GAPE_filename = params[\"reference_gene_filename\"]\n",
    "    ref_gene_col = params[\"reference_gene_name_col\"]\n",
    "    ref_rank_col = params[\"reference_rank_col\"]\n",
    "\n",
    "    figure_filename = f\"gene_ranking_{col_to_rank_genes}.svg\"\n",
    "\n",
    "    corr, shared_ranking = ranking.compare_gene_ranking(\n",
    "        summary_gene_ranks, GAPE_filename, ref_gene_col, ref_rank_col, figure_filename\n",
    "    )"
   ]
  }
 ],
 "metadata": {
  "jupytext": {
   "encoding": "# -*- coding: utf-8 -*-",
   "formats": "ipynb,py"
  },
  "kernelspec": {
   "display_name": "Python [conda env:generic_expression_new] *",
   "language": "python",
   "name": "conda-env-generic_expression_new-py"
  },
  "language_info": {
   "codemirror_mode": {
    "name": "ipython",
    "version": 3
   },
   "file_extension": ".py",
   "mimetype": "text/x-python",
   "name": "python",
   "nbconvert_exporter": "python",
   "pygments_lexer": "ipython3",
   "version": "3.7.3"
  }
 },
 "nbformat": 4,
 "nbformat_minor": 4
}
