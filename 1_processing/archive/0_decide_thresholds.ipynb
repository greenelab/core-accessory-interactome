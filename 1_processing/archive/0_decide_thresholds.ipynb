{
 "cells": [
  {
   "cell_type": "markdown",
   "id": "identical-rugby",
   "metadata": {},
   "source": [
    "# Decide thresholds\n",
    "\n",
    "This notebook is examining the distribution of the mapping rates to be used for binning."
   ]
  },
  {
   "cell_type": "code",
   "execution_count": 1,
   "id": "russian-tender",
   "metadata": {},
   "outputs": [
    {
     "name": "stderr",
     "output_type": "stream",
     "text": [
      "/home/alexandra/anaconda3/envs/core_acc_env/lib/python3.7/site-packages/matplotlib/__init__.py:886: MatplotlibDeprecationWarning: \n",
      "examples.directory is deprecated; in the future, examples will be found relative to the 'datapath' directory.\n",
      "  \"found relative to the 'datapath' directory.\".format(key))\n"
     ]
    }
   ],
   "source": [
    "import os\n",
    "import pandas as pd\n",
    "import seaborn as sns\n",
    "import matplotlib.pyplot as plt\n",
    "from textwrap import fill\n",
    "from core_acc_modules import paths"
   ]
  },
  {
   "cell_type": "code",
   "execution_count": 2,
   "id": "indoor-scratch",
   "metadata": {},
   "outputs": [],
   "source": [
    "# Log files\n",
    "pao1_logs_filename = paths.PAO1_LOGS\n",
    "pa14_logs_filename = paths.PA14_LOGS"
   ]
  },
  {
   "cell_type": "code",
   "execution_count": 3,
   "id": "medium-asset",
   "metadata": {},
   "outputs": [],
   "source": [
    "pao1_logs = pd.read_csv(pao1_logs_filename, index_col=0, header=0)\n",
    "pa14_logs = pd.read_csv(pa14_logs_filename, index_col=0, header=0)"
   ]
  },
  {
   "cell_type": "code",
   "execution_count": 4,
   "id": "driven-palestinian",
   "metadata": {},
   "outputs": [
    {
     "data": {
      "text/html": [
       "<div>\n",
       "<style scoped>\n",
       "    .dataframe tbody tr th:only-of-type {\n",
       "        vertical-align: middle;\n",
       "    }\n",
       "\n",
       "    .dataframe tbody tr th {\n",
       "        vertical-align: top;\n",
       "    }\n",
       "\n",
       "    .dataframe thead th {\n",
       "        text-align: right;\n",
       "    }\n",
       "</style>\n",
       "<table border=\"1\" class=\"dataframe\">\n",
       "  <thead>\n",
       "    <tr style=\"text-align: right;\">\n",
       "      <th></th>\n",
       "      <th>lib_types</th>\n",
       "      <th>reads_processed</th>\n",
       "      <th>reads_mapped</th>\n",
       "      <th>mapping_rate</th>\n",
       "      <th>run</th>\n",
       "      <th>job</th>\n",
       "    </tr>\n",
       "    <tr>\n",
       "      <th>exp_num</th>\n",
       "      <th></th>\n",
       "      <th></th>\n",
       "      <th></th>\n",
       "      <th></th>\n",
       "      <th></th>\n",
       "      <th></th>\n",
       "    </tr>\n",
       "  </thead>\n",
       "  <tbody>\n",
       "    <tr>\n",
       "      <th>SRP090296/SRX2185323/SRX2185323</th>\n",
       "      <td>[u'SF']</td>\n",
       "      <td>47468450</td>\n",
       "      <td>5240148</td>\n",
       "      <td>11.039223</td>\n",
       "      <td>78041</td>\n",
       "      <td>2724</td>\n",
       "    </tr>\n",
       "    <tr>\n",
       "      <th>ERP105395/ERX2259197/ERX2259197</th>\n",
       "      <td>[u'U']</td>\n",
       "      <td>34109390</td>\n",
       "      <td>16420150</td>\n",
       "      <td>48.139676</td>\n",
       "      <td>78036</td>\n",
       "      <td>984</td>\n",
       "    </tr>\n",
       "    <tr>\n",
       "      <th>SRP017679/SRX2366135/SRX2366135</th>\n",
       "      <td>[u'U']</td>\n",
       "      <td>9912084</td>\n",
       "      <td>4322668</td>\n",
       "      <td>43.610082</td>\n",
       "      <td>78042</td>\n",
       "      <td>1232</td>\n",
       "    </tr>\n",
       "    <tr>\n",
       "      <th>SRP038697/SRX474161/SRX474161</th>\n",
       "      <td>[u'SF']</td>\n",
       "      <td>710589</td>\n",
       "      <td>93493</td>\n",
       "      <td>13.157113</td>\n",
       "      <td>78041</td>\n",
       "      <td>2560</td>\n",
       "    </tr>\n",
       "    <tr>\n",
       "      <th>SRP062215/SRX1140456/SRX1140456</th>\n",
       "      <td>[u'SF']</td>\n",
       "      <td>6598795</td>\n",
       "      <td>470748</td>\n",
       "      <td>7.133848</td>\n",
       "      <td>78042</td>\n",
       "      <td>1439</td>\n",
       "    </tr>\n",
       "  </tbody>\n",
       "</table>\n",
       "</div>"
      ],
      "text/plain": [
       "                                lib_types  reads_processed  reads_mapped  \\\n",
       "exp_num                                                                    \n",
       "SRP090296/SRX2185323/SRX2185323   [u'SF']         47468450       5240148   \n",
       "ERP105395/ERX2259197/ERX2259197    [u'U']         34109390      16420150   \n",
       "SRP017679/SRX2366135/SRX2366135    [u'U']          9912084       4322668   \n",
       "SRP038697/SRX474161/SRX474161     [u'SF']           710589         93493   \n",
       "SRP062215/SRX1140456/SRX1140456   [u'SF']          6598795        470748   \n",
       "\n",
       "                                 mapping_rate    run   job  \n",
       "exp_num                                                     \n",
       "SRP090296/SRX2185323/SRX2185323     11.039223  78041  2724  \n",
       "ERP105395/ERX2259197/ERX2259197     48.139676  78036   984  \n",
       "SRP017679/SRX2366135/SRX2366135     43.610082  78042  1232  \n",
       "SRP038697/SRX474161/SRX474161       13.157113  78041  2560  \n",
       "SRP062215/SRX1140456/SRX1140456      7.133848  78042  1439  "
      ]
     },
     "execution_count": 4,
     "metadata": {},
     "output_type": "execute_result"
    }
   ],
   "source": [
    "pao1_logs.head()"
   ]
  },
  {
   "cell_type": "code",
   "execution_count": 5,
   "id": "prepared-contractor",
   "metadata": {},
   "outputs": [
    {
     "data": {
      "text/html": [
       "<div>\n",
       "<style scoped>\n",
       "    .dataframe tbody tr th:only-of-type {\n",
       "        vertical-align: middle;\n",
       "    }\n",
       "\n",
       "    .dataframe tbody tr th {\n",
       "        vertical-align: top;\n",
       "    }\n",
       "\n",
       "    .dataframe thead th {\n",
       "        text-align: right;\n",
       "    }\n",
       "</style>\n",
       "<table border=\"1\" class=\"dataframe\">\n",
       "  <thead>\n",
       "    <tr style=\"text-align: right;\">\n",
       "      <th></th>\n",
       "      <th>lib_types</th>\n",
       "      <th>reads_processed</th>\n",
       "      <th>reads_mapped</th>\n",
       "      <th>mapping_rate</th>\n",
       "      <th>run</th>\n",
       "      <th>job</th>\n",
       "    </tr>\n",
       "    <tr>\n",
       "      <th>exp_num</th>\n",
       "      <th></th>\n",
       "      <th></th>\n",
       "      <th></th>\n",
       "      <th></th>\n",
       "      <th></th>\n",
       "      <th></th>\n",
       "    </tr>\n",
       "  </thead>\n",
       "  <tbody>\n",
       "    <tr>\n",
       "      <th>SRP090296/SRX2185323/SRX2185323</th>\n",
       "      <td>[u'U']</td>\n",
       "      <td>47468450</td>\n",
       "      <td>12406964</td>\n",
       "      <td>26.137285</td>\n",
       "      <td>77697</td>\n",
       "      <td>2724</td>\n",
       "    </tr>\n",
       "    <tr>\n",
       "      <th>ERP105395/ERX2259197/ERX2259197</th>\n",
       "      <td>[u'U']</td>\n",
       "      <td>34109390</td>\n",
       "      <td>15187523</td>\n",
       "      <td>44.525930</td>\n",
       "      <td>77223</td>\n",
       "      <td>984</td>\n",
       "    </tr>\n",
       "    <tr>\n",
       "      <th>SRP017679/SRX2366135/SRX2366135</th>\n",
       "      <td>[u'U']</td>\n",
       "      <td>9912084</td>\n",
       "      <td>4302910</td>\n",
       "      <td>43.410750</td>\n",
       "      <td>77436</td>\n",
       "      <td>1232</td>\n",
       "    </tr>\n",
       "    <tr>\n",
       "      <th>SRP038697/SRX474161/SRX474161</th>\n",
       "      <td>[u'SF']</td>\n",
       "      <td>710589</td>\n",
       "      <td>102499</td>\n",
       "      <td>14.424513</td>\n",
       "      <td>77697</td>\n",
       "      <td>2560</td>\n",
       "    </tr>\n",
       "    <tr>\n",
       "      <th>SRP062215/SRX1140456/SRX1140456</th>\n",
       "      <td>[u'SF']</td>\n",
       "      <td>6598795</td>\n",
       "      <td>466716</td>\n",
       "      <td>7.072746</td>\n",
       "      <td>77436</td>\n",
       "      <td>1439</td>\n",
       "    </tr>\n",
       "  </tbody>\n",
       "</table>\n",
       "</div>"
      ],
      "text/plain": [
       "                                lib_types  reads_processed  reads_mapped  \\\n",
       "exp_num                                                                    \n",
       "SRP090296/SRX2185323/SRX2185323    [u'U']         47468450      12406964   \n",
       "ERP105395/ERX2259197/ERX2259197    [u'U']         34109390      15187523   \n",
       "SRP017679/SRX2366135/SRX2366135    [u'U']          9912084       4302910   \n",
       "SRP038697/SRX474161/SRX474161     [u'SF']           710589        102499   \n",
       "SRP062215/SRX1140456/SRX1140456   [u'SF']          6598795        466716   \n",
       "\n",
       "                                 mapping_rate    run   job  \n",
       "exp_num                                                     \n",
       "SRP090296/SRX2185323/SRX2185323     26.137285  77697  2724  \n",
       "ERP105395/ERX2259197/ERX2259197     44.525930  77223   984  \n",
       "SRP017679/SRX2366135/SRX2366135     43.410750  77436  1232  \n",
       "SRP038697/SRX474161/SRX474161       14.424513  77697  2560  \n",
       "SRP062215/SRX1140456/SRX1140456      7.072746  77436  1439  "
      ]
     },
     "execution_count": 5,
     "metadata": {},
     "output_type": "execute_result"
    }
   ],
   "source": [
    "pa14_logs.head()"
   ]
  },
  {
   "cell_type": "code",
   "execution_count": 6,
   "id": "alternate-utilization",
   "metadata": {},
   "outputs": [
    {
     "name": "stderr",
     "output_type": "stream",
     "text": [
      "/home/alexandra/anaconda3/envs/core_acc_env/lib/python3.7/site-packages/scipy/stats/stats.py:1713: FutureWarning: Using a non-tuple sequence for multidimensional indexing is deprecated; use `arr[tuple(seq)]` instead of `arr[seq]`. In the future this will be interpreted as an array index, `arr[np.array(seq)]`, which will result either in an error or a different result.\n",
      "  return np.add.reduce(sorted[indexer] * weights, axis=axis) / sumval\n"
     ]
    },
    {
     "data": {
      "text/plain": [
       "Text(0.01, 0.5, 'Count')"
      ]
     },
     "execution_count": 6,
     "metadata": {},
     "output_type": "execute_result"
    },
    {
     "data": {
      "image/png": "[encoded data removed]",
      "text/plain": [
       "<Figure size 576x288 with 2 Axes>"
      ]
     },
     "metadata": {
      "needs_background": "light"
     },
     "output_type": "display_data"
    }
   ],
   "source": [
    "# Plot distribution of mapping rates to PAO1 and PA14\n",
    "\n",
    "# Set up the matplotlib figure\n",
    "fig, axes = plt.subplots(ncols=2, nrows=1, figsize=(8, 4))\n",
    "\n",
    "# Distribution plot for core genes\n",
    "sns.distplot(\n",
    "    pao1_logs[\"mapping_rate\"],\n",
    "    label=\"PAO1 mapping rate\",\n",
    "    color=\"red\",\n",
    "    kde=False,\n",
    "    ax=axes[0],\n",
    ")\n",
    "\n",
    "sns.distplot(\n",
    "    pa14_logs[\"mapping_rate\"],\n",
    "    label=\"PA14 mapping rate\",\n",
    "    color=\"blue\",\n",
    "    kde=False,\n",
    "    ax=axes[1],\n",
    ")\n",
    "\n",
    "plt.suptitle(fill(\"Distribution of mapping rates\", width=40), x=0.5, y=1, fontsize=16)\n",
    "axes[0].set_title(fill(\"PAO1 mapping rate\", width=20))\n",
    "axes[1].set_title(fill(\"PA14 mapping rate\", width=20))\n",
    "axes[0].set_xlabel(\"\")\n",
    "axes[1].set_xlabel(\"\")\n",
    "fig.text(0.5, 0.01, \"Mapping rate\", ha=\"center\", fontsize=14)\n",
    "fig.text(0.01, 0.5, \"Count\", ha=\"center\", rotation=90, fontsize=14)"
   ]
  },
  {
   "cell_type": "code",
   "execution_count": 8,
   "id": "jewish-bloom",
   "metadata": {},
   "outputs": [
    {
     "data": {
      "text/plain": [
       "Text(0.01, 0.5, 'Count')"
      ]
     },
     "execution_count": 8,
     "metadata": {},
     "output_type": "execute_result"
    },
    {
     "data": {
      "image/png": "[encoded data removed]",
      "text/plain": [
       "<Figure size 576x288 with 2 Axes>"
      ]
     },
     "metadata": {
      "needs_background": "light"
     },
     "output_type": "display_data"
    }
   ],
   "source": [
    "# Plot distribution of difference mapping rates to PAO1 and PA14\n",
    "\n",
    "# Set up the matplotlib figure\n",
    "fig, axes = plt.subplots(ncols=2, nrows=1, figsize=(8, 4))\n",
    "\n",
    "# Distribution plot for core genes\n",
    "sns.distplot(\n",
    "    pao1_logs[\"mapping_rate\"] - pa14_logs[\"mapping_rate\"],\n",
    "    label=\"PAO1 mapping rate\",\n",
    "    color=\"red\",\n",
    "    kde=False,\n",
    "    ax=axes[0],\n",
    ")\n",
    "\n",
    "sns.distplot(\n",
    "    pa14_logs[\"mapping_rate\"] - pao1_logs[\"mapping_rate\"],\n",
    "    label=\"PA14 mapping rate\",\n",
    "    color=\"blue\",\n",
    "    kde=False,\n",
    "    ax=axes[1],\n",
    ")\n",
    "\n",
    "plt.suptitle(\n",
    "    fill(\"Distribution of difference in mapping rates\", width=40),\n",
    "    x=0.5,\n",
    "    y=1.1,\n",
    "    fontsize=16,\n",
    ")\n",
    "axes[0].set_title(fill(\"PAO1-PA14 mapping rate\", width=20))\n",
    "axes[1].set_title(fill(\"PA14-PAO1 mapping rate\", width=20))\n",
    "axes[0].set_xlabel(\"\")\n",
    "axes[1].set_xlabel(\"\")\n",
    "fig.text(0.5, 0.01, \"Difference in mapping rate\", ha=\"center\", fontsize=14)\n",
    "fig.text(0.01, 0.5, \"Count\", ha=\"center\", rotation=90, fontsize=14)"
   ]
  },
  {
   "cell_type": "markdown",
   "id": "finished-montana",
   "metadata": {},
   "source": [
    "**Observations:**\n",
    "* There is fairly rough bimodal distribution, so most samples align well to PAO1 reference or the PA14 reference.\n",
    "\n",
    "**Takeaway:**\n",
    "* Based on the mapping rate distribution, looks like a mapping rate of 30% would be a good cutoff to identify those samples that have a high mapping to PAO1 or PA14\n",
    "* Since PAO1 and PA14 have a larged shared core genome, we need to add an additional criteria to filter for those that are specific to PAO1 versus PA14. This additional criteria will use the difference in mapping rates\n",
    "\n",
    "A sample will be PAO1 if:\n",
    "1. PAO1 mapping rate >= 30%\n",
    "2. PAO1-PA14 mapping rate > 0%\n",
    "\n",
    "Similarly for PA14 samples."
   ]
  }
 ],
 "metadata": {
  "jupytext": {
   "formats": "ipynb,py"
  },
  "kernelspec": {
   "display_name": "Python [conda env:core_acc_env] *",
   "language": "python",
   "name": "conda-env-core_acc_env-py"
  },
  "language_info": {
   "codemirror_mode": {
    "name": "ipython",
    "version": 3
   },
   "file_extension": ".py",
   "mimetype": "text/x-python",
   "name": "python",
   "nbconvert_exporter": "python",
   "pygments_lexer": "ipython3",
   "version": "3.7.9"
  }
 },
 "nbformat": 4,
 "nbformat_minor": 5
}
