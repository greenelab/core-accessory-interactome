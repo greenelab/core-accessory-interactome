{
 "cells": [
  {
   "cell_type": "markdown",
   "id": "a4922c97",
   "metadata": {},
   "source": [
    "# Common DEGs and core-accessory genes\n",
    "\n",
    "This notebook looks to see if the common DEGs, identified using [SOPHIE](https://github.com/greenelab/generic-expression-patterns/blob/master/pseudomonas_analysis/2_identify_generic_genes_pathways.ipynb) are mostly core or accessory genes."
   ]
  },
  {
   "cell_type": "code",
   "execution_count": 1,
   "id": "a5f75b61",
   "metadata": {},
   "outputs": [],
   "source": [
    "%load_ext autoreload\n",
    "%autoreload 2\n",
    "%matplotlib inline\n",
    "import os\n",
    "import pandas as pd\n",
    "import matplotlib\n",
    "from matplotlib_venn import venn2\n",
    "from core_acc_modules import utils, paths"
   ]
  },
  {
   "cell_type": "markdown",
   "id": "72e4791b",
   "metadata": {},
   "source": [
    "### Get common DEGs"
   ]
  },
  {
   "cell_type": "code",
   "execution_count": 2,
   "id": "edf6128f",
   "metadata": {},
   "outputs": [],
   "source": [
    "# Read in SOPHIE identified common DEGs (PAO1 gene ids)\n",
    "common_DEGs_filename = paths.COMMON_DEGS\n",
    "\n",
    "common_DEGs = pd.read_csv(common_DEGs_filename, sep=\"\\t\", index_col=0, header=0)"
   ]
  },
  {
   "cell_type": "code",
   "execution_count": 3,
   "id": "3ff2f40c",
   "metadata": {},
   "outputs": [
    {
     "name": "stdout",
     "output_type": "stream",
     "text": [
      "(834, 3)\n"
     ]
    },
    {
     "data": {
      "text/html": [
       "<div>\n",
       "<style scoped>\n",
       "    .dataframe tbody tr th:only-of-type {\n",
       "        vertical-align: middle;\n",
       "    }\n",
       "\n",
       "    .dataframe tbody tr th {\n",
       "        vertical-align: top;\n",
       "    }\n",
       "\n",
       "    .dataframe thead th {\n",
       "        text-align: right;\n",
       "    }\n",
       "</style>\n",
       "<table border=\"1\" class=\"dataframe\">\n",
       "  <thead>\n",
       "    <tr style=\"text-align: right;\">\n",
       "      <th></th>\n",
       "      <th>Percentile (simulated)</th>\n",
       "      <th>prop DEGs</th>\n",
       "      <th>gene id</th>\n",
       "    </tr>\n",
       "    <tr>\n",
       "      <th>ProbeID</th>\n",
       "      <th></th>\n",
       "      <th></th>\n",
       "      <th></th>\n",
       "    </tr>\n",
       "  </thead>\n",
       "  <tbody>\n",
       "    <tr>\n",
       "      <th>PA2618_at</th>\n",
       "      <td>97.566691</td>\n",
       "      <td>90.007215</td>\n",
       "      <td>PA2618</td>\n",
       "    </tr>\n",
       "    <tr>\n",
       "      <th>PA3479_rhlA_at</th>\n",
       "      <td>85.940880</td>\n",
       "      <td>98.890693</td>\n",
       "      <td>PA3479</td>\n",
       "    </tr>\n",
       "    <tr>\n",
       "      <th>PA0512_at</th>\n",
       "      <td>96.268926</td>\n",
       "      <td>74.918831</td>\n",
       "      <td>PA0512</td>\n",
       "    </tr>\n",
       "    <tr>\n",
       "      <th>PA3187_at</th>\n",
       "      <td>88.626532</td>\n",
       "      <td>87.626263</td>\n",
       "      <td>PA3187</td>\n",
       "    </tr>\n",
       "    <tr>\n",
       "      <th>PA5191_at</th>\n",
       "      <td>86.571738</td>\n",
       "      <td>74.918831</td>\n",
       "      <td>PA5191</td>\n",
       "    </tr>\n",
       "  </tbody>\n",
       "</table>\n",
       "</div>"
      ],
      "text/plain": [
       "                Percentile (simulated)  prop DEGs gene id\n",
       "ProbeID                                                  \n",
       "PA2618_at                    97.566691  90.007215  PA2618\n",
       "PA3479_rhlA_at               85.940880  98.890693  PA3479\n",
       "PA0512_at                    96.268926  74.918831  PA0512\n",
       "PA3187_at                    88.626532  87.626263  PA3187\n",
       "PA5191_at                    86.571738  74.918831  PA5191"
      ]
     },
     "execution_count": 3,
     "metadata": {},
     "output_type": "execute_result"
    }
   ],
   "source": [
    "print(common_DEGs.shape)\n",
    "common_DEGs.head()"
   ]
  },
  {
   "cell_type": "code",
   "execution_count": 4,
   "id": "7454af42",
   "metadata": {},
   "outputs": [],
   "source": [
    "common_DEGs = common_DEGs.set_index(\"gene id\")"
   ]
  },
  {
   "cell_type": "markdown",
   "id": "d35aa66e",
   "metadata": {},
   "source": [
    "### Get core/accessory annotations"
   ]
  },
  {
   "cell_type": "code",
   "execution_count": 5,
   "id": "6c0df670",
   "metadata": {},
   "outputs": [],
   "source": [
    "# Read in expression data\n",
    "pao1_expression_filename = paths.PAO1_COMPENDIUM\n",
    "pa14_expression_filename = paths.PA14_COMPENDIUM\n",
    "\n",
    "pao1_expression = pd.read_csv(pao1_expression_filename, sep=\"\\t\", index_col=0, header=0)\n",
    "pa14_expression = pd.read_csv(pa14_expression_filename, sep=\"\\t\", index_col=0, header=0)"
   ]
  },
  {
   "cell_type": "markdown",
   "id": "196ff405",
   "metadata": {},
   "source": [
    "Note: Core and accessory annotations are from [BACTOME](https://academic.oup.com/nar/article/47/D1/D716/5112984). Not all core genes are measured by our expression dataset (\"my dataset\") we're using, so there may be a difference in \"Number of PAO1 core genes\" (core genes from BACTOME) and \"Number of PAO1 core genes in my dataset\" (core genes that are found in my expression dataset."
   ]
  },
  {
   "cell_type": "code",
   "execution_count": 6,
   "id": "c51bf1f3",
   "metadata": {},
   "outputs": [
    {
     "name": "stdout",
     "output_type": "stream",
     "text": [
      "Number of PAO1 core genes: 5366\n",
      "Number of PA14 core genes: 5363\n",
      "Number of PAO1 core genes in my dataset: 5361\n",
      "Number of PA14 core genes in my dataset: 5357\n",
      "Number of PAO1-specific genes: 202\n",
      "Number of PA14-specific genes: 534\n"
     ]
    }
   ],
   "source": [
    "pao1_annot_filename = paths.GENE_PAO1_ANNOT\n",
    "pa14_annot_filename = paths.GENE_PA14_ANNOT\n",
    "\n",
    "core_acc_dict = utils.get_my_core_acc_genes(\n",
    "    pao1_annot_filename, pa14_annot_filename, pao1_expression, pa14_expression\n",
    ")"
   ]
  },
  {
   "cell_type": "code",
   "execution_count": 7,
   "id": "5efdd484",
   "metadata": {},
   "outputs": [],
   "source": [
    "pao1_core = core_acc_dict[\"core_pao1\"]\n",
    "pa14_core = core_acc_dict[\"core_pa14\"]\n",
    "pao1_acc = core_acc_dict[\"acc_pao1\"]\n",
    "pa14_acc = core_acc_dict[\"acc_pa14\"]"
   ]
  },
  {
   "cell_type": "markdown",
   "id": "a5b412c4",
   "metadata": {},
   "source": [
    "### Are common genes mostly core or accessory?"
   ]
  },
  {
   "cell_type": "code",
   "execution_count": 8,
   "id": "97a871ba",
   "metadata": {},
   "outputs": [],
   "source": [
    "# Get shared gene ids\n",
    "shared_acc = common_DEGs.index.intersection(pao1_acc)\n",
    "shared_core = common_DEGs.index.intersection(pao1_core)"
   ]
  },
  {
   "cell_type": "code",
   "execution_count": 9,
   "id": "3434f489",
   "metadata": {},
   "outputs": [],
   "source": [
    "common_DEGs.loc[shared_acc, \"gene group\"] = \"accessory\"\n",
    "common_DEGs.loc[shared_core, \"gene group\"] = \"core\""
   ]
  },
  {
   "cell_type": "code",
   "execution_count": 10,
   "id": "e7ab3fa6",
   "metadata": {},
   "outputs": [
    {
     "data": {
      "text/plain": [
       "core         806\n",
       "accessory     27\n",
       "Name: gene group, dtype: int64"
      ]
     },
     "execution_count": 10,
     "metadata": {},
     "output_type": "execute_result"
    }
   ],
   "source": [
    "common_DEGs[\"gene group\"].value_counts()"
   ]
  },
  {
   "cell_type": "code",
   "execution_count": 11,
   "id": "4fd7ecf4",
   "metadata": {
    "scrolled": true
   },
   "outputs": [],
   "source": [
    "# Add gene name\n",
    "pao1_gene_annot = pd.read_csv(pao1_annot_filename, index_col=0, header=0)\n",
    "pao1_gene_annot = pao1_gene_annot[\"Name\"].to_frame(\"gene name\")"
   ]
  },
  {
   "cell_type": "code",
   "execution_count": 12,
   "id": "f4565861",
   "metadata": {},
   "outputs": [],
   "source": [
    "common_DEGs_label = common_DEGs.merge(\n",
    "    pao1_gene_annot, left_index=True, right_index=True\n",
    ")"
   ]
  },
  {
   "cell_type": "code",
   "execution_count": 13,
   "id": "df1151d5",
   "metadata": {
    "scrolled": true
   },
   "outputs": [
    {
     "data": {
      "text/html": [
       "<div>\n",
       "<style scoped>\n",
       "    .dataframe tbody tr th:only-of-type {\n",
       "        vertical-align: middle;\n",
       "    }\n",
       "\n",
       "    .dataframe tbody tr th {\n",
       "        vertical-align: top;\n",
       "    }\n",
       "\n",
       "    .dataframe thead th {\n",
       "        text-align: right;\n",
       "    }\n",
       "</style>\n",
       "<table border=\"1\" class=\"dataframe\">\n",
       "  <thead>\n",
       "    <tr style=\"text-align: right;\">\n",
       "      <th></th>\n",
       "      <th>Percentile (simulated)</th>\n",
       "      <th>prop DEGs</th>\n",
       "      <th>gene group</th>\n",
       "      <th>gene name</th>\n",
       "    </tr>\n",
       "  </thead>\n",
       "  <tbody>\n",
       "    <tr>\n",
       "      <th>PA2618</th>\n",
       "      <td>97.566691</td>\n",
       "      <td>90.007215</td>\n",
       "      <td>core</td>\n",
       "      <td>NaN</td>\n",
       "    </tr>\n",
       "    <tr>\n",
       "      <th>PA3479</th>\n",
       "      <td>85.940880</td>\n",
       "      <td>98.890693</td>\n",
       "      <td>core</td>\n",
       "      <td>rhlA</td>\n",
       "    </tr>\n",
       "    <tr>\n",
       "      <th>PA0512</th>\n",
       "      <td>96.268926</td>\n",
       "      <td>74.918831</td>\n",
       "      <td>core</td>\n",
       "      <td>nirH</td>\n",
       "    </tr>\n",
       "    <tr>\n",
       "      <th>PA3187</th>\n",
       "      <td>88.626532</td>\n",
       "      <td>87.626263</td>\n",
       "      <td>core</td>\n",
       "      <td>NaN</td>\n",
       "    </tr>\n",
       "    <tr>\n",
       "      <th>PA5191</th>\n",
       "      <td>86.571738</td>\n",
       "      <td>74.918831</td>\n",
       "      <td>core</td>\n",
       "      <td>NaN</td>\n",
       "    </tr>\n",
       "    <tr>\n",
       "      <th>...</th>\n",
       "      <td>...</td>\n",
       "      <td>...</td>\n",
       "      <td>...</td>\n",
       "      <td>...</td>\n",
       "    </tr>\n",
       "    <tr>\n",
       "      <th>PA1088</th>\n",
       "      <td>87.653208</td>\n",
       "      <td>74.918831</td>\n",
       "      <td>core</td>\n",
       "      <td>NaN</td>\n",
       "    </tr>\n",
       "    <tr>\n",
       "      <th>PA1999</th>\n",
       "      <td>99.333093</td>\n",
       "      <td>98.890693</td>\n",
       "      <td>core</td>\n",
       "      <td>dchA</td>\n",
       "    </tr>\n",
       "    <tr>\n",
       "      <th>PA4298</th>\n",
       "      <td>93.574261</td>\n",
       "      <td>65.773810</td>\n",
       "      <td>core</td>\n",
       "      <td>NaN</td>\n",
       "    </tr>\n",
       "    <tr>\n",
       "      <th>PA1473</th>\n",
       "      <td>92.132300</td>\n",
       "      <td>70.571789</td>\n",
       "      <td>core</td>\n",
       "      <td>NaN</td>\n",
       "    </tr>\n",
       "    <tr>\n",
       "      <th>PA1663</th>\n",
       "      <td>97.007931</td>\n",
       "      <td>60.750361</td>\n",
       "      <td>core</td>\n",
       "      <td>sfa2</td>\n",
       "    </tr>\n",
       "  </tbody>\n",
       "</table>\n",
       "<p>834 rows × 4 columns</p>\n",
       "</div>"
      ],
      "text/plain": [
       "        Percentile (simulated)  prop DEGs gene group gene name\n",
       "PA2618               97.566691  90.007215       core       NaN\n",
       "PA3479               85.940880  98.890693       core      rhlA\n",
       "PA0512               96.268926  74.918831       core      nirH\n",
       "PA3187               88.626532  87.626263       core       NaN\n",
       "PA5191               86.571738  74.918831       core       NaN\n",
       "...                        ...        ...        ...       ...\n",
       "PA1088               87.653208  74.918831       core       NaN\n",
       "PA1999               99.333093  98.890693       core      dchA\n",
       "PA4298               93.574261  65.773810       core       NaN\n",
       "PA1473               92.132300  70.571789       core       NaN\n",
       "PA1663               97.007931  60.750361       core      sfa2\n",
       "\n",
       "[834 rows x 4 columns]"
      ]
     },
     "execution_count": 13,
     "metadata": {},
     "output_type": "execute_result"
    }
   ],
   "source": [
    "common_DEGs_label"
   ]
  },
  {
   "cell_type": "markdown",
   "id": "a82f1009",
   "metadata": {},
   "source": [
    "### Venn diagram"
   ]
  },
  {
   "cell_type": "code",
   "execution_count": 14,
   "id": "1f4b70c1",
   "metadata": {},
   "outputs": [],
   "source": [
    "common_DEGs_set = set(common_DEGs.index)\n",
    "pao1_core_set = set(pao1_core)\n",
    "pao1_acc_set = set(pao1_acc)"
   ]
  },
  {
   "cell_type": "code",
   "execution_count": 15,
   "id": "f733b16e",
   "metadata": {},
   "outputs": [
    {
     "data": {
      "image/png": "[encoded data removed]",
      "text/plain": [
       "<Figure size 432x288 with 1 Axes>"
      ]
     },
     "metadata": {},
     "output_type": "display_data"
    }
   ],
   "source": [
    "core_common_venn = venn2(\n",
    "    [common_DEGs_set, pao1_core_set], set_labels=(\"common DEGs\", \"Core genes\")\n",
    ")\n",
    "\n",
    "core_common_venn.get_patch_by_id(\"11\").set_color(\"purple\")\n",
    "core_common_venn.get_patch_by_id(\"11\").set_edgecolor(\"none\")\n",
    "core_common_venn.get_patch_by_id(\"11\").set_alpha(0.3)\n",
    "core_common_venn.get_patch_by_id(\"01\").set_color(\"blue\")\n",
    "core_common_venn.get_patch_by_id(\"01\").set_edgecolor(\"none\")\n",
    "core_common_venn.get_patch_by_id(\"01\").set_alpha(0.3)\n",
    "\n",
    "matplotlib.pyplot.savefig(\n",
    "    \"common_core_venn.svg\",\n",
    "    format=\"svg\",\n",
    "    bbox_inches=\"tight\",\n",
    "    transparent=True,\n",
    "    pad_inches=0,\n",
    "    dpi=300,\n",
    ")"
   ]
  },
  {
   "cell_type": "code",
   "execution_count": 16,
   "id": "3e822854",
   "metadata": {},
   "outputs": [
    {
     "data": {
      "image/png": "[encoded data removed]",
      "text/plain": [
       "<Figure size 432x288 with 1 Axes>"
      ]
     },
     "metadata": {},
     "output_type": "display_data"
    }
   ],
   "source": [
    "acc_common_venn = venn2(\n",
    "    [common_DEGs_set, pao1_acc_set], set_labels=(\"common DEGs\", \"Accessory genes\")\n",
    ")\n",
    "\n",
    "acc_common_venn.get_patch_by_id(\"11\").set_color(\"purple\")\n",
    "acc_common_venn.get_patch_by_id(\"11\").set_edgecolor(\"none\")\n",
    "acc_common_venn.get_patch_by_id(\"11\").set_alpha(0.3)\n",
    "acc_common_venn.get_patch_by_id(\"01\").set_color(\"blue\")\n",
    "acc_common_venn.get_patch_by_id(\"01\").set_edgecolor(\"none\")\n",
    "acc_common_venn.get_patch_by_id(\"01\").set_alpha(0.3)\n",
    "\n",
    "matplotlib.pyplot.savefig(\n",
    "    \"common_acc_venn.svg\",\n",
    "    format=\"svg\",\n",
    "    bbox_inches=\"tight\",\n",
    "    transparent=True,\n",
    "    pad_inches=0,\n",
    "    dpi=300,\n",
    ")"
   ]
  },
  {
   "cell_type": "code",
   "execution_count": 17,
   "id": "9de0bcb5",
   "metadata": {},
   "outputs": [],
   "source": [
    "# Save\n",
    "common_DEGs_label.to_csv(\"common_DEGs_gene_group_labeled.tsv\", sep=\"\\t\")"
   ]
  },
  {
   "cell_type": "markdown",
   "id": "b577fa9b",
   "metadata": {},
   "source": [
    "**Takeaway:**\n",
    "\n",
    "Looks like most common DEGs are core, as expected. It is thought that these core genes encode essential functions shared by all strains and so it would make sense that these core genes are also those commonly DEGs."
   ]
  }
 ],
 "metadata": {
  "jupytext": {
   "formats": "ipynb,py"
  },
  "kernelspec": {
   "display_name": "Python [conda env:core_acc] *",
   "language": "python",
   "name": "conda-env-core_acc-py"
  },
  "language_info": {
   "codemirror_mode": {
    "name": "ipython",
    "version": 3
   },
   "file_extension": ".py",
   "mimetype": "text/x-python",
   "name": "python",
   "nbconvert_exporter": "python",
   "pygments_lexer": "ipython3",
   "version": "3.7.10"
  }
 },
 "nbformat": 4,
 "nbformat_minor": 5
}
