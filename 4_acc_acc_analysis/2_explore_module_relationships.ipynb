{
 "cells": [
  {
   "cell_type": "markdown",
   "id": "016bccd3",
   "metadata": {},
   "source": [
    "# Explore module relationships\n",
    "\n",
    "There are some accessory-accessory modules that we'd like to explore how they are related. To do this, we will plot a heatmap to show how the genes in accessory module A and accessory module B are related."
   ]
  },
  {
   "cell_type": "code",
   "execution_count": 1,
   "id": "a672e059",
   "metadata": {},
   "outputs": [
    {
     "name": "stderr",
     "output_type": "stream",
     "text": [
      "/home/alexandra/anaconda3/envs/core_acc/lib/python3.7/site-packages/matplotlib/__init__.py:886: MatplotlibDeprecationWarning: \n",
      "examples.directory is deprecated; in the future, examples will be found relative to the 'datapath' directory.\n",
      "  \"found relative to the 'datapath' directory.\".format(key))\n"
     ]
    }
   ],
   "source": [
    "%load_ext autoreload\n",
    "%autoreload 2\n",
    "%matplotlib inline\n",
    "import os\n",
    "import scipy\n",
    "import pandas as pd\n",
    "import numpy as np\n",
    "import seaborn as sns\n",
    "import matplotlib.pyplot as plt\n",
    "from scripts import utils, paths\n",
    "\n",
    "np.random.seed(1)"
   ]
  },
  {
   "cell_type": "code",
   "execution_count": 2,
   "id": "5cdba3f0",
   "metadata": {},
   "outputs": [],
   "source": [
    "# Clustering method\n",
    "method_name = \"affinity\"\n",
    "\n",
    "# Gene subset\n",
    "gene_subset = \"acc\"\n",
    "\n",
    "processed = \"spell\"\n",
    "\n",
    "# Select 2 modules\n",
    "select_modules = [10, 14]"
   ]
  },
  {
   "cell_type": "markdown",
   "id": "5c857f93",
   "metadata": {},
   "source": [
    "### Load correlation matrix"
   ]
  },
  {
   "cell_type": "code",
   "execution_count": 3,
   "id": "b0210b59",
   "metadata": {},
   "outputs": [],
   "source": [
    "# Load correlation matrix\n",
    "pao1_corr_filename = paths.PAO1_CORR_LOG_SPELL_ACC"
   ]
  },
  {
   "cell_type": "code",
   "execution_count": 4,
   "id": "19171a21",
   "metadata": {},
   "outputs": [],
   "source": [
    "pao1_corr = pd.read_csv(pao1_corr_filename, sep=\"\\t\", index_col=0, header=0)"
   ]
  },
  {
   "cell_type": "markdown",
   "id": "4ec74a0b",
   "metadata": {},
   "source": [
    "### Load module membership"
   ]
  },
  {
   "cell_type": "code",
   "execution_count": 5,
   "id": "f7e9961a",
   "metadata": {},
   "outputs": [],
   "source": [
    "pao1_membership_filename = os.path.join(\n",
    "    paths.LOCAL_DATA_DIR, f\"pao1_modules_{method_name}_{gene_subset}_{processed}.tsv\"\n",
    ")"
   ]
  },
  {
   "cell_type": "code",
   "execution_count": 6,
   "id": "3152ce34",
   "metadata": {},
   "outputs": [],
   "source": [
    "pao1_membership = pd.read_csv(pao1_membership_filename, sep=\"\\t\", header=0, index_col=0)"
   ]
  },
  {
   "cell_type": "code",
   "execution_count": 7,
   "id": "b179f69a",
   "metadata": {},
   "outputs": [],
   "source": [
    "select_modules_df = pao1_membership[\n",
    "    (pao1_membership[\"module id\"] == 10) | (pao1_membership[\"module id\"] == 14)\n",
    "]"
   ]
  },
  {
   "cell_type": "code",
   "execution_count": 8,
   "id": "8653f050",
   "metadata": {},
   "outputs": [
    {
     "data": {
      "text/html": [
       "<div>\n",
       "<style scoped>\n",
       "    .dataframe tbody tr th:only-of-type {\n",
       "        vertical-align: middle;\n",
       "    }\n",
       "\n",
       "    .dataframe tbody tr th {\n",
       "        vertical-align: top;\n",
       "    }\n",
       "\n",
       "    .dataframe thead th {\n",
       "        text-align: right;\n",
       "    }\n",
       "</style>\n",
       "<table border=\"1\" class=\"dataframe\">\n",
       "  <thead>\n",
       "    <tr style=\"text-align: right;\">\n",
       "      <th></th>\n",
       "      <th>module id</th>\n",
       "    </tr>\n",
       "  </thead>\n",
       "  <tbody>\n",
       "    <tr>\n",
       "      <th>PA3500</th>\n",
       "      <td>14</td>\n",
       "    </tr>\n",
       "    <tr>\n",
       "      <th>PA3497</th>\n",
       "      <td>14</td>\n",
       "    </tr>\n",
       "    <tr>\n",
       "      <th>PA1369</th>\n",
       "      <td>10</td>\n",
       "    </tr>\n",
       "    <tr>\n",
       "      <th>PA1368</th>\n",
       "      <td>10</td>\n",
       "    </tr>\n",
       "    <tr>\n",
       "      <th>PA3501</th>\n",
       "      <td>14</td>\n",
       "    </tr>\n",
       "  </tbody>\n",
       "</table>\n",
       "</div>"
      ],
      "text/plain": [
       "        module id\n",
       "PA3500         14\n",
       "PA3497         14\n",
       "PA1369         10\n",
       "PA1368         10\n",
       "PA3501         14"
      ]
     },
     "execution_count": 8,
     "metadata": {},
     "output_type": "execute_result"
    }
   ],
   "source": [
    "select_modules_df.head()"
   ]
  },
  {
   "cell_type": "markdown",
   "id": "c536e315",
   "metadata": {},
   "source": [
    "### Heatmap"
   ]
  },
  {
   "cell_type": "code",
   "execution_count": 9,
   "id": "0d5d22b4",
   "metadata": {
    "scrolled": true
   },
   "outputs": [],
   "source": [
    "select_gene_ids = list(select_modules_df.index)"
   ]
  },
  {
   "cell_type": "code",
   "execution_count": 10,
   "id": "89281281",
   "metadata": {
    "scrolled": true
   },
   "outputs": [],
   "source": [
    "select_corr = pao1_corr.loc[select_gene_ids, select_gene_ids]"
   ]
  },
  {
   "cell_type": "code",
   "execution_count": 11,
   "id": "b60ea3ff",
   "metadata": {},
   "outputs": [
    {
     "data": {
      "text/html": [
       "<div>\n",
       "<style scoped>\n",
       "    .dataframe tbody tr th:only-of-type {\n",
       "        vertical-align: middle;\n",
       "    }\n",
       "\n",
       "    .dataframe tbody tr th {\n",
       "        vertical-align: top;\n",
       "    }\n",
       "\n",
       "    .dataframe thead th {\n",
       "        text-align: right;\n",
       "    }\n",
       "</style>\n",
       "<table border=\"1\" class=\"dataframe\">\n",
       "  <thead>\n",
       "    <tr style=\"text-align: right;\">\n",
       "      <th></th>\n",
       "      <th>PA3500</th>\n",
       "      <th>PA3497</th>\n",
       "      <th>PA1369</th>\n",
       "      <th>PA1368</th>\n",
       "      <th>PA3501</th>\n",
       "      <th>PA3512</th>\n",
       "      <th>PA3503</th>\n",
       "      <th>PA3513</th>\n",
       "      <th>PA3499</th>\n",
       "      <th>PA3514</th>\n",
       "      <th>...</th>\n",
       "      <th>PA3502</th>\n",
       "      <th>PA3510</th>\n",
       "      <th>PA3504</th>\n",
       "      <th>PA3511</th>\n",
       "      <th>PA3509</th>\n",
       "      <th>PA3505</th>\n",
       "      <th>PA1154</th>\n",
       "      <th>PA3506</th>\n",
       "      <th>PA0053</th>\n",
       "      <th>PA3508</th>\n",
       "    </tr>\n",
       "  </thead>\n",
       "  <tbody>\n",
       "    <tr>\n",
       "      <th>PA3500</th>\n",
       "      <td>1.000000</td>\n",
       "      <td>0.754908</td>\n",
       "      <td>0.387651</td>\n",
       "      <td>0.342638</td>\n",
       "      <td>0.817799</td>\n",
       "      <td>0.834118</td>\n",
       "      <td>0.906075</td>\n",
       "      <td>0.783791</td>\n",
       "      <td>0.855821</td>\n",
       "      <td>0.784864</td>\n",
       "      <td>...</td>\n",
       "      <td>0.867372</td>\n",
       "      <td>0.869343</td>\n",
       "      <td>0.895044</td>\n",
       "      <td>0.864242</td>\n",
       "      <td>0.808457</td>\n",
       "      <td>0.860360</td>\n",
       "      <td>0.463833</td>\n",
       "      <td>0.918538</td>\n",
       "      <td>0.348702</td>\n",
       "      <td>0.889084</td>\n",
       "    </tr>\n",
       "    <tr>\n",
       "      <th>PA3497</th>\n",
       "      <td>0.754908</td>\n",
       "      <td>1.000000</td>\n",
       "      <td>0.307810</td>\n",
       "      <td>0.335192</td>\n",
       "      <td>0.618281</td>\n",
       "      <td>0.778540</td>\n",
       "      <td>0.708438</td>\n",
       "      <td>0.733415</td>\n",
       "      <td>0.691217</td>\n",
       "      <td>0.714913</td>\n",
       "      <td>...</td>\n",
       "      <td>0.695549</td>\n",
       "      <td>0.680592</td>\n",
       "      <td>0.804196</td>\n",
       "      <td>0.714606</td>\n",
       "      <td>0.706391</td>\n",
       "      <td>0.767068</td>\n",
       "      <td>0.540009</td>\n",
       "      <td>0.774455</td>\n",
       "      <td>0.271022</td>\n",
       "      <td>0.757844</td>\n",
       "    </tr>\n",
       "    <tr>\n",
       "      <th>PA1369</th>\n",
       "      <td>0.387651</td>\n",
       "      <td>0.307810</td>\n",
       "      <td>1.000000</td>\n",
       "      <td>0.687083</td>\n",
       "      <td>0.333465</td>\n",
       "      <td>0.369872</td>\n",
       "      <td>0.328107</td>\n",
       "      <td>0.363373</td>\n",
       "      <td>0.380766</td>\n",
       "      <td>0.357264</td>\n",
       "      <td>...</td>\n",
       "      <td>0.332444</td>\n",
       "      <td>0.397683</td>\n",
       "      <td>0.391365</td>\n",
       "      <td>0.368893</td>\n",
       "      <td>0.308834</td>\n",
       "      <td>0.353422</td>\n",
       "      <td>0.253375</td>\n",
       "      <td>0.354535</td>\n",
       "      <td>0.351333</td>\n",
       "      <td>0.330450</td>\n",
       "    </tr>\n",
       "    <tr>\n",
       "      <th>PA1368</th>\n",
       "      <td>0.342638</td>\n",
       "      <td>0.335192</td>\n",
       "      <td>0.687083</td>\n",
       "      <td>1.000000</td>\n",
       "      <td>0.268551</td>\n",
       "      <td>0.361443</td>\n",
       "      <td>0.261796</td>\n",
       "      <td>0.320505</td>\n",
       "      <td>0.262550</td>\n",
       "      <td>0.272431</td>\n",
       "      <td>...</td>\n",
       "      <td>0.303018</td>\n",
       "      <td>0.393955</td>\n",
       "      <td>0.363938</td>\n",
       "      <td>0.310934</td>\n",
       "      <td>0.277616</td>\n",
       "      <td>0.310447</td>\n",
       "      <td>0.221903</td>\n",
       "      <td>0.333503</td>\n",
       "      <td>0.630773</td>\n",
       "      <td>0.260129</td>\n",
       "    </tr>\n",
       "    <tr>\n",
       "      <th>PA3501</th>\n",
       "      <td>0.817799</td>\n",
       "      <td>0.618281</td>\n",
       "      <td>0.333465</td>\n",
       "      <td>0.268551</td>\n",
       "      <td>1.000000</td>\n",
       "      <td>0.741439</td>\n",
       "      <td>0.824957</td>\n",
       "      <td>0.708755</td>\n",
       "      <td>0.839927</td>\n",
       "      <td>0.721971</td>\n",
       "      <td>...</td>\n",
       "      <td>0.844736</td>\n",
       "      <td>0.762850</td>\n",
       "      <td>0.820064</td>\n",
       "      <td>0.819603</td>\n",
       "      <td>0.857003</td>\n",
       "      <td>0.782034</td>\n",
       "      <td>0.399106</td>\n",
       "      <td>0.848644</td>\n",
       "      <td>0.192870</td>\n",
       "      <td>0.837728</td>\n",
       "    </tr>\n",
       "  </tbody>\n",
       "</table>\n",
       "<p>5 rows × 25 columns</p>\n",
       "</div>"
      ],
      "text/plain": [
       "          PA3500    PA3497    PA1369    PA1368    PA3501    PA3512    PA3503  \\\n",
       "PA3500  1.000000  0.754908  0.387651  0.342638  0.817799  0.834118  0.906075   \n",
       "PA3497  0.754908  1.000000  0.307810  0.335192  0.618281  0.778540  0.708438   \n",
       "PA1369  0.387651  0.307810  1.000000  0.687083  0.333465  0.369872  0.328107   \n",
       "PA1368  0.342638  0.335192  0.687083  1.000000  0.268551  0.361443  0.261796   \n",
       "PA3501  0.817799  0.618281  0.333465  0.268551  1.000000  0.741439  0.824957   \n",
       "\n",
       "          PA3513    PA3499    PA3514  ...    PA3502    PA3510    PA3504  \\\n",
       "PA3500  0.783791  0.855821  0.784864  ...  0.867372  0.869343  0.895044   \n",
       "PA3497  0.733415  0.691217  0.714913  ...  0.695549  0.680592  0.804196   \n",
       "PA1369  0.363373  0.380766  0.357264  ...  0.332444  0.397683  0.391365   \n",
       "PA1368  0.320505  0.262550  0.272431  ...  0.303018  0.393955  0.363938   \n",
       "PA3501  0.708755  0.839927  0.721971  ...  0.844736  0.762850  0.820064   \n",
       "\n",
       "          PA3511    PA3509    PA3505    PA1154    PA3506    PA0053    PA3508  \n",
       "PA3500  0.864242  0.808457  0.860360  0.463833  0.918538  0.348702  0.889084  \n",
       "PA3497  0.714606  0.706391  0.767068  0.540009  0.774455  0.271022  0.757844  \n",
       "PA1369  0.368893  0.308834  0.353422  0.253375  0.354535  0.351333  0.330450  \n",
       "PA1368  0.310934  0.277616  0.310447  0.221903  0.333503  0.630773  0.260129  \n",
       "PA3501  0.819603  0.857003  0.782034  0.399106  0.848644  0.192870  0.837728  \n",
       "\n",
       "[5 rows x 25 columns]"
      ]
     },
     "execution_count": 11,
     "metadata": {},
     "output_type": "execute_result"
    }
   ],
   "source": [
    "select_corr.head()"
   ]
  },
  {
   "cell_type": "code",
   "execution_count": 12,
   "id": "deaf66bd",
   "metadata": {},
   "outputs": [],
   "source": [
    "# Make color labels for module id\n",
    "my_palette = dict(zip(select_modules_df[\"module id\"].unique(), [\"red\", \"blue\"]))\n",
    "row_colors = select_modules_df[\"module id\"].map(my_palette)"
   ]
  },
  {
   "cell_type": "code",
   "execution_count": 13,
   "id": "0e8c1df9",
   "metadata": {},
   "outputs": [
    {
     "data": {
      "text/plain": [
       "{14: 'red', 10: 'blue'}"
      ]
     },
     "execution_count": 13,
     "metadata": {},
     "output_type": "execute_result"
    }
   ],
   "source": [
    "my_palette"
   ]
  },
  {
   "cell_type": "code",
   "execution_count": 14,
   "id": "cd2fc653",
   "metadata": {},
   "outputs": [
    {
     "name": "stdout",
     "output_type": "stream",
     "text": [
      "CPU times: user 596 ms, sys: 257 ms, total: 853 ms\n",
      "Wall time: 315 ms\n"
     ]
    },
    {
     "data": {
      "text/plain": [
       "Text(0.5, 1.05, 'Correlation of modules [10, 14]')"
      ]
     },
     "execution_count": 14,
     "metadata": {},
     "output_type": "execute_result"
    },
    {
     "data": {
      "image/png": "[encoded data removed]",
      "text/plain": [
       "<Figure size 1440x1440 with 5 Axes>"
      ]
     },
     "metadata": {
      "needs_background": "light"
     },
     "output_type": "display_data"
    }
   ],
   "source": [
    "%%time\n",
    "f = sns.clustermap(\n",
    "    select_corr.abs(), row_colors=row_colors, cmap=\"viridis\", figsize=(20, 20)\n",
    ")\n",
    "f.ax_heatmap.set_xticklabels(f.ax_heatmap.get_xmajorticklabels(), fontsize=16)\n",
    "f.fig.suptitle(f\"Correlation of modules {select_modules}\", y=1.05)"
   ]
  },
  {
   "cell_type": "markdown",
   "id": "5368604e",
   "metadata": {},
   "source": [
    "These two accessory modules were of interest to our collaborators. She was interested in how they were related. To get at this, I plotted the heatmap of the correlation matrix, subsetting only for those gene ids that belong to these two modules of interest.\n",
    "\n",
    "Based on this heatmap, the genes within each module are more closely co-expressed with each other, as expected. There doesn't look to be cross over between the modules."
   ]
  }
 ],
 "metadata": {
  "jupytext": {
   "formats": "ipynb,py"
  },
  "kernelspec": {
   "display_name": "Python [conda env:core_acc] *",
   "language": "python",
   "name": "conda-env-core_acc-py"
  },
  "language_info": {
   "codemirror_mode": {
    "name": "ipython",
    "version": 3
   },
   "file_extension": ".py",
   "mimetype": "text/x-python",
   "name": "python",
   "nbconvert_exporter": "python",
   "pygments_lexer": "ipython3",
   "version": "3.7.10"
  }
 },
 "nbformat": 4,
 "nbformat_minor": 5
}
