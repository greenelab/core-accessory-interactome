{
 "cells": [
  {
   "cell_type": "markdown",
   "id": "016bccd3",
   "metadata": {},
   "source": [
    "# Explore exoS/exoU genes\n",
    "\n",
    "This notebook specifically explores the exoS (PAO1) and exoU (PA14) accessory-accessory modules to determine if there is an interesting biological story here.\n",
    "\n",
    "_P. aeruginosa_ uses a type III secretion system (T3SS) to promote development of severe disease, particularly in patients with impaired immune defenses. _P. aeruginosa_ uses a type III secretion system to inject toxic effector proteins into the cytoplasm of eukaryotic cells. ExoU, ExoS, and ExoT, three effector proteins secreted by this system. ExoU and ExoS are usually secreted by different strains.\n",
    "\n",
    "https://www.ncbi.nlm.nih.gov/pmc/articles/PMC529154/\n",
    "\n",
    "TO DO:\n",
    "* Expand description to all exo's\n",
    "* Might move this analysis to a new location if we want to include core genes as well"
   ]
  },
  {
   "cell_type": "code",
   "execution_count": 1,
   "id": "a672e059",
   "metadata": {},
   "outputs": [
    {
     "name": "stderr",
     "output_type": "stream",
     "text": [
      "/home/alexandra/anaconda3/envs/core_acc/lib/python3.7/site-packages/matplotlib/__init__.py:886: MatplotlibDeprecationWarning: \n",
      "examples.directory is deprecated; in the future, examples will be found relative to the 'datapath' directory.\n",
      "  \"found relative to the 'datapath' directory.\".format(key))\n"
     ]
    }
   ],
   "source": [
    "%load_ext autoreload\n",
    "%autoreload 2\n",
    "%matplotlib inline\n",
    "import os\n",
    "import scipy\n",
    "import pandas as pd\n",
    "import numpy as np\n",
    "import seaborn as sns\n",
    "import matplotlib.pyplot as plt\n",
    "from scripts import utils, paths, annotations\n",
    "\n",
    "np.random.seed(1)"
   ]
  },
  {
   "cell_type": "code",
   "execution_count": 2,
   "id": "5cdba3f0",
   "metadata": {},
   "outputs": [],
   "source": [
    "# Clustering method\n",
    "method_name = \"affinity\"\n",
    "\n",
    "# Gene subset\n",
    "gene_subset = \"acc\"\n",
    "\n",
    "# Select modules containing exoS (module 16) and exoU (module 17)\n",
    "exoS_module_id = 16\n",
    "exoU_module_id = 17"
   ]
  },
  {
   "cell_type": "markdown",
   "id": "5c857f93",
   "metadata": {},
   "source": [
    "## Load correlation matrix"
   ]
  },
  {
   "cell_type": "code",
   "execution_count": 3,
   "id": "b0210b59",
   "metadata": {},
   "outputs": [],
   "source": [
    "# Load correlation matrix\n",
    "pao1_corr_filename = paths.PAO1_CORR_LOG_SPELL_ACC\n",
    "pa14_corr_filename = paths.PA14_CORR_LOG_SPELL_ACC"
   ]
  },
  {
   "cell_type": "code",
   "execution_count": 4,
   "id": "19171a21",
   "metadata": {},
   "outputs": [],
   "source": [
    "pao1_corr = pd.read_csv(pao1_corr_filename, sep=\"\\t\", index_col=0, header=0)\n",
    "pa14_corr = pd.read_csv(pa14_corr_filename, sep=\"\\t\", index_col=0, header=0)"
   ]
  },
  {
   "cell_type": "markdown",
   "id": "4ec74a0b",
   "metadata": {},
   "source": [
    "## Load module membership"
   ]
  },
  {
   "cell_type": "code",
   "execution_count": 5,
   "id": "f7e9961a",
   "metadata": {},
   "outputs": [],
   "source": [
    "pao1_membership_filename = os.path.join(\n",
    "    paths.LOCAL_DATA_DIR, f\"pao1_modules_{method_name}_{gene_subset}.tsv\"\n",
    ")\n",
    "pa14_membership_filename = os.path.join(\n",
    "    paths.LOCAL_DATA_DIR, f\"pa14_modules_{method_name}_{gene_subset}.tsv\"\n",
    ")"
   ]
  },
  {
   "cell_type": "code",
   "execution_count": 6,
   "id": "3152ce34",
   "metadata": {},
   "outputs": [],
   "source": [
    "pao1_membership = pd.read_csv(pao1_membership_filename, sep=\"\\t\", header=0, index_col=0)\n",
    "pa14_membership = pd.read_csv(pa14_membership_filename, sep=\"\\t\", header=0, index_col=0)"
   ]
  },
  {
   "cell_type": "markdown",
   "id": "5c1f9d47",
   "metadata": {},
   "source": [
    "## Select genes associated with modules of interest"
   ]
  },
  {
   "cell_type": "code",
   "execution_count": 7,
   "id": "b179f69a",
   "metadata": {},
   "outputs": [],
   "source": [
    "exoS_module_df = pao1_membership[pao1_membership[\"module id\"] == exoS_module_id]\n",
    "exoU_module_df = pa14_membership[pa14_membership[\"module id\"] == exoU_module_id]"
   ]
  },
  {
   "cell_type": "code",
   "execution_count": 8,
   "id": "8653f050",
   "metadata": {},
   "outputs": [
    {
     "data": {
      "text/html": [
       "<div>\n",
       "<style scoped>\n",
       "    .dataframe tbody tr th:only-of-type {\n",
       "        vertical-align: middle;\n",
       "    }\n",
       "\n",
       "    .dataframe tbody tr th {\n",
       "        vertical-align: top;\n",
       "    }\n",
       "\n",
       "    .dataframe thead th {\n",
       "        text-align: right;\n",
       "    }\n",
       "</style>\n",
       "<table border=\"1\" class=\"dataframe\">\n",
       "  <thead>\n",
       "    <tr style=\"text-align: right;\">\n",
       "      <th></th>\n",
       "      <th>module id</th>\n",
       "    </tr>\n",
       "  </thead>\n",
       "  <tbody>\n",
       "    <tr>\n",
       "      <th>PA3362</th>\n",
       "      <td>16</td>\n",
       "    </tr>\n",
       "    <tr>\n",
       "      <th>PA2192</th>\n",
       "      <td>16</td>\n",
       "    </tr>\n",
       "    <tr>\n",
       "      <th>PA3066</th>\n",
       "      <td>16</td>\n",
       "    </tr>\n",
       "    <tr>\n",
       "      <th>PA0257</th>\n",
       "      <td>16</td>\n",
       "    </tr>\n",
       "    <tr>\n",
       "      <th>PA4802</th>\n",
       "      <td>16</td>\n",
       "    </tr>\n",
       "  </tbody>\n",
       "</table>\n",
       "</div>"
      ],
      "text/plain": [
       "        module id\n",
       "PA3362         16\n",
       "PA2192         16\n",
       "PA3066         16\n",
       "PA0257         16\n",
       "PA4802         16"
      ]
     },
     "execution_count": 8,
     "metadata": {},
     "output_type": "execute_result"
    }
   ],
   "source": [
    "exoS_module_df.head()"
   ]
  },
  {
   "cell_type": "code",
   "execution_count": 9,
   "id": "ae7ed649",
   "metadata": {},
   "outputs": [
    {
     "data": {
      "text/html": [
       "<div>\n",
       "<style scoped>\n",
       "    .dataframe tbody tr th:only-of-type {\n",
       "        vertical-align: middle;\n",
       "    }\n",
       "\n",
       "    .dataframe tbody tr th {\n",
       "        vertical-align: top;\n",
       "    }\n",
       "\n",
       "    .dataframe thead th {\n",
       "        text-align: right;\n",
       "    }\n",
       "</style>\n",
       "<table border=\"1\" class=\"dataframe\">\n",
       "  <thead>\n",
       "    <tr style=\"text-align: right;\">\n",
       "      <th></th>\n",
       "      <th>module id</th>\n",
       "    </tr>\n",
       "  </thead>\n",
       "  <tbody>\n",
       "    <tr>\n",
       "      <th>PA14_28460</th>\n",
       "      <td>17</td>\n",
       "    </tr>\n",
       "    <tr>\n",
       "      <th>PA14_51950</th>\n",
       "      <td>17</td>\n",
       "    </tr>\n",
       "    <tr>\n",
       "      <th>PA14_49990</th>\n",
       "      <td>17</td>\n",
       "    </tr>\n",
       "    <tr>\n",
       "      <th>PA14_28870</th>\n",
       "      <td>17</td>\n",
       "    </tr>\n",
       "    <tr>\n",
       "      <th>PA14_28850</th>\n",
       "      <td>17</td>\n",
       "    </tr>\n",
       "  </tbody>\n",
       "</table>\n",
       "</div>"
      ],
      "text/plain": [
       "            module id\n",
       "PA14_28460         17\n",
       "PA14_51950         17\n",
       "PA14_49990         17\n",
       "PA14_28870         17\n",
       "PA14_28850         17"
      ]
     },
     "execution_count": 9,
     "metadata": {},
     "output_type": "execute_result"
    }
   ],
   "source": [
    "exoU_module_df.head()"
   ]
  },
  {
   "cell_type": "markdown",
   "id": "dd0e3997",
   "metadata": {},
   "source": [
    "## Examine exoS and exoU modules"
   ]
  },
  {
   "cell_type": "code",
   "execution_count": 10,
   "id": "2a3e98ec",
   "metadata": {},
   "outputs": [],
   "source": [
    "# Get gene id for exoS and exoU\n",
    "exoS_id = \"PA3841\"\n",
    "exoU_id = \"PA14_51530\""
   ]
  },
  {
   "cell_type": "code",
   "execution_count": 11,
   "id": "2688d69a",
   "metadata": {},
   "outputs": [],
   "source": [
    "exoS_module_gene_ids = list(exoS_module_df.index)\n",
    "exoU_module_gene_ids = list(exoU_module_df.index)"
   ]
  },
  {
   "cell_type": "code",
   "execution_count": 12,
   "id": "e815edb8",
   "metadata": {},
   "outputs": [],
   "source": [
    "# Import gene metadata\n",
    "pao1_gene_annot_filename = paths.GENE_PAO1_ANNOT\n",
    "pa14_gene_annot_filename = paths.GENE_PA14_ANNOT\n",
    "\n",
    "pao1_gene_annot = pd.read_csv(pao1_gene_annot_filename, index_col=0, header=0)\n",
    "pa14_gene_annot = pd.read_csv(pa14_gene_annot_filename, index_col=0, header=0)"
   ]
  },
  {
   "cell_type": "code",
   "execution_count": 13,
   "id": "f95d53aa",
   "metadata": {},
   "outputs": [],
   "source": [
    "# Get df with gene ids as indices and gene names as a column\n",
    "# Having the data in a df instead of a series will just allow me to do my merges that are in the notebook\n",
    "pao1_gene_annot = pao1_gene_annot[\"Name\"].to_frame(\"gene name\")\n",
    "pa14_gene_annot = pa14_gene_annot[\"Name\"].to_frame(\"gene name\")"
   ]
  },
  {
   "cell_type": "code",
   "execution_count": 14,
   "id": "1d9834f2",
   "metadata": {},
   "outputs": [
    {
     "data": {
      "text/html": [
       "<div>\n",
       "<style scoped>\n",
       "    .dataframe tbody tr th:only-of-type {\n",
       "        vertical-align: middle;\n",
       "    }\n",
       "\n",
       "    .dataframe tbody tr th {\n",
       "        vertical-align: top;\n",
       "    }\n",
       "\n",
       "    .dataframe thead th {\n",
       "        text-align: right;\n",
       "    }\n",
       "</style>\n",
       "<table border=\"1\" class=\"dataframe\">\n",
       "  <thead>\n",
       "    <tr style=\"text-align: right;\">\n",
       "      <th></th>\n",
       "      <th>gene name</th>\n",
       "    </tr>\n",
       "    <tr>\n",
       "      <th>PAO1_ID</th>\n",
       "      <th></th>\n",
       "    </tr>\n",
       "  </thead>\n",
       "  <tbody>\n",
       "    <tr>\n",
       "      <th>PA0001</th>\n",
       "      <td>dnaA</td>\n",
       "    </tr>\n",
       "    <tr>\n",
       "      <th>PA0002</th>\n",
       "      <td>dnaN</td>\n",
       "    </tr>\n",
       "    <tr>\n",
       "      <th>PA0003</th>\n",
       "      <td>recF</td>\n",
       "    </tr>\n",
       "    <tr>\n",
       "      <th>PA0004</th>\n",
       "      <td>gyrB</td>\n",
       "    </tr>\n",
       "    <tr>\n",
       "      <th>PA0005</th>\n",
       "      <td>lptA</td>\n",
       "    </tr>\n",
       "  </tbody>\n",
       "</table>\n",
       "</div>"
      ],
      "text/plain": [
       "        gene name\n",
       "PAO1_ID          \n",
       "PA0001       dnaA\n",
       "PA0002       dnaN\n",
       "PA0003       recF\n",
       "PA0004       gyrB\n",
       "PA0005       lptA"
      ]
     },
     "execution_count": 14,
     "metadata": {},
     "output_type": "execute_result"
    }
   ],
   "source": [
    "pao1_gene_annot.head()"
   ]
  },
  {
   "cell_type": "code",
   "execution_count": 15,
   "id": "e3382b55",
   "metadata": {},
   "outputs": [],
   "source": [
    "# Add gene names to heatmap\n",
    "def add_gene_name_to_index(annot_df, corr_df):\n",
    "\n",
    "    # Only consider genes in the correlation matrix\n",
    "    annot_index_df = annot_df.loc[corr_df.index]\n",
    "    annot_columns_df = annot_df.loc[corr_df.columns]\n",
    "\n",
    "    new_index = []\n",
    "    for gene_id in annot_index_df.index:\n",
    "        if pd.isnull(annot_index_df.loc[gene_id, \"gene name\"]):\n",
    "            new_index.append(gene_id)\n",
    "        else:\n",
    "            new_index.append(annot_index_df.loc[gene_id, \"gene name\"])\n",
    "\n",
    "    new_columns = []\n",
    "    for gene_id in annot_columns_df.index:\n",
    "        if pd.isnull(annot_columns_df.loc[gene_id, \"gene name\"]):\n",
    "            new_columns.append(gene_id)\n",
    "        else:\n",
    "            new_columns.append(annot_columns_df.loc[gene_id, \"gene name\"])\n",
    "\n",
    "    # Rename index and columns\n",
    "    corr_df.index = new_index\n",
    "    corr_df.columns = new_columns\n",
    "\n",
    "    return corr_df"
   ]
  },
  {
   "cell_type": "code",
   "execution_count": 16,
   "id": "eb545758",
   "metadata": {},
   "outputs": [],
   "source": [
    "exoS_corr_module = pao1_corr.loc[exoS_module_gene_ids, exoS_module_gene_ids]\n",
    "exoU_corr_module = pa14_corr.loc[exoU_module_gene_ids, exoU_module_gene_ids]\n",
    "\n",
    "exoS_corr_module_names = add_gene_name_to_index(pao1_gene_annot, exoS_corr_module)\n",
    "exoU_corr_module_names = add_gene_name_to_index(pa14_gene_annot, exoU_corr_module)"
   ]
  },
  {
   "cell_type": "code",
   "execution_count": 17,
   "id": "b0d6b51f",
   "metadata": {},
   "outputs": [
    {
     "name": "stdout",
     "output_type": "stream",
     "text": [
      "CPU times: user 332 ms, sys: 192 ms, total: 524 ms\n",
      "Wall time: 194 ms\n"
     ]
    },
    {
     "data": {
      "text/plain": [
       "Text(0.5, 1.05, 'Correlation of exoS module')"
      ]
     },
     "execution_count": 17,
     "metadata": {},
     "output_type": "execute_result"
    },
    {
     "data": {
      "image/png": "[encoded data removed]",
      "text/plain": [
       "<Figure size 720x720 with 4 Axes>"
      ]
     },
     "metadata": {
      "needs_background": "light"
     },
     "output_type": "display_data"
    }
   ],
   "source": [
    "%%time\n",
    "f1 = sns.clustermap(exoS_corr_module_names.abs(), cmap=\"viridis\")\n",
    "f1.ax_heatmap.set_xticklabels(f1.ax_heatmap.get_xmajorticklabels(), fontsize=20)\n",
    "f1.ax_heatmap.set_yticklabels(f1.ax_heatmap.get_ymajorticklabels(), fontsize=20)\n",
    "f1.fig.suptitle(\"Correlation of exoS module\", y=1.05, fontsize=24)"
   ]
  },
  {
   "cell_type": "code",
   "execution_count": 18,
   "id": "037486fb",
   "metadata": {},
   "outputs": [
    {
     "name": "stdout",
     "output_type": "stream",
     "text": [
      "CPU times: user 386 ms, sys: 165 ms, total: 551 ms\n",
      "Wall time: 203 ms\n"
     ]
    },
    {
     "data": {
      "text/plain": [
       "Text(0.5, 1.05, 'Correlation of exoU module')"
      ]
     },
     "execution_count": 18,
     "metadata": {},
     "output_type": "execute_result"
    },
    {
     "data": {
      "image/png": "[encoded data removed]",
      "text/plain": [
       "<Figure size 720x720 with 4 Axes>"
      ]
     },
     "metadata": {
      "needs_background": "light"
     },
     "output_type": "display_data"
    }
   ],
   "source": [
    "%%time\n",
    "g1 = sns.clustermap(exoU_corr_module_names.abs(), cmap=\"viridis\")\n",
    "g1.ax_heatmap.set_xticklabels(g1.ax_heatmap.get_xmajorticklabels(), fontsize=20)\n",
    "g1.ax_heatmap.set_yticklabels(g1.ax_heatmap.get_ymajorticklabels(), fontsize=20)\n",
    "g1.fig.suptitle(\"Correlation of exoU module\", y=1.05, fontsize=24)"
   ]
  },
  {
   "cell_type": "markdown",
   "id": "19a3d02f",
   "metadata": {},
   "source": [
    "**Takeaway**\n",
    "We've aggregated the information from this notebook into a [google sheet](https://docs.google.com/spreadsheets/d/1AuD1Q4lHhWNp5xzgW-hi8mHkHFyd91rmOksXXuAwk4Q/edit#gid=533448426) to easily share with collaborators. This sheet contains Uniprot annotations for each gene within the exoS and exoU modules. The sheet also contains a sorted matrix of genes and how correlated they are with exoS and exoU.\n",
    "\n",
    "* Genes within exoS module appear to be more highly correlated with exoS (see sheet) and each other (see heatmap) unlike exoU module\n",
    "    * What might this mean about exoS, exoU?\n",
    "    * Despite being part of the same T3S system, their relationship to other accessory genes is different\n",
    "* Based on gene annotations, is there a different mechanism by which exoS contributes to virulence compared to exoU?\n",
    "    * This is difficult to answer with so many unannotated genes\n",
    "\n",
    "Some more reading will need to be done to determine the biological motivation here:\n",
    "* What is known about the mechanism by which these genes contribute to virulence?\n",
    "* What can we learn from module composition?\n",
    "* What can we learn from most co-expressed genes?"
   ]
  },
  {
   "cell_type": "markdown",
   "id": "0558166f",
   "metadata": {},
   "source": [
    "## Other relationships between exoS/U and other genes"
   ]
  },
  {
   "cell_type": "code",
   "execution_count": 20,
   "id": "e18a8d7e",
   "metadata": {},
   "outputs": [],
   "source": [
    "# Read in correlation for all genes\n",
    "pao1_all_corr_filename = paths.PAO1_CORR_LOG_SPELL\n",
    "pa14_all_corr_filename = paths.PA14_CORR_LOG_SPELL\n",
    "\n",
    "pao1_all_corr = pd.read_csv(pao1_all_corr_filename, sep=\"\\t\", index_col=0, header=0)\n",
    "pa14_all_corr = pd.read_csv(pa14_all_corr_filename, sep=\"\\t\", index_col=0, header=0)"
   ]
  },
  {
   "cell_type": "code",
   "execution_count": 21,
   "id": "cd439a31",
   "metadata": {},
   "outputs": [],
   "source": [
    "# Get correlation between exoS/U and all other genes\n",
    "exoS_all_corr = pao1_all_corr.loc[exoS_id].to_frame(\"corr to exoS\")\n",
    "exoU_all_corr = pa14_all_corr.loc[exoU_id].to_frame(\"corr to exoU\")"
   ]
  },
  {
   "cell_type": "code",
   "execution_count": 22,
   "id": "dd8a90f5",
   "metadata": {},
   "outputs": [
    {
     "name": "stdout",
     "output_type": "stream",
     "text": [
      "(5563, 1)\n"
     ]
    },
    {
     "data": {
      "text/html": [
       "<div>\n",
       "<style scoped>\n",
       "    .dataframe tbody tr th:only-of-type {\n",
       "        vertical-align: middle;\n",
       "    }\n",
       "\n",
       "    .dataframe tbody tr th {\n",
       "        vertical-align: top;\n",
       "    }\n",
       "\n",
       "    .dataframe thead th {\n",
       "        text-align: right;\n",
       "    }\n",
       "</style>\n",
       "<table border=\"1\" class=\"dataframe\">\n",
       "  <thead>\n",
       "    <tr style=\"text-align: right;\">\n",
       "      <th></th>\n",
       "      <th>corr to exoS</th>\n",
       "    </tr>\n",
       "  </thead>\n",
       "  <tbody>\n",
       "    <tr>\n",
       "      <th>PA0001</th>\n",
       "      <td>-0.002313</td>\n",
       "    </tr>\n",
       "    <tr>\n",
       "      <th>PA0002</th>\n",
       "      <td>0.114963</td>\n",
       "    </tr>\n",
       "    <tr>\n",
       "      <th>PA0003</th>\n",
       "      <td>-0.024771</td>\n",
       "    </tr>\n",
       "    <tr>\n",
       "      <th>PA0004</th>\n",
       "      <td>0.083573</td>\n",
       "    </tr>\n",
       "    <tr>\n",
       "      <th>PA0005</th>\n",
       "      <td>0.000713</td>\n",
       "    </tr>\n",
       "  </tbody>\n",
       "</table>\n",
       "</div>"
      ],
      "text/plain": [
       "        corr to exoS\n",
       "PA0001     -0.002313\n",
       "PA0002      0.114963\n",
       "PA0003     -0.024771\n",
       "PA0004      0.083573\n",
       "PA0005      0.000713"
      ]
     },
     "execution_count": 22,
     "metadata": {},
     "output_type": "execute_result"
    }
   ],
   "source": [
    "print(exoS_all_corr.shape)\n",
    "exoS_all_corr.head()"
   ]
  },
  {
   "cell_type": "code",
   "execution_count": 23,
   "id": "afd622ef",
   "metadata": {},
   "outputs": [
    {
     "name": "stdout",
     "output_type": "stream",
     "text": [
      "(5891, 1)\n"
     ]
    },
    {
     "data": {
      "text/html": [
       "<div>\n",
       "<style scoped>\n",
       "    .dataframe tbody tr th:only-of-type {\n",
       "        vertical-align: middle;\n",
       "    }\n",
       "\n",
       "    .dataframe tbody tr th {\n",
       "        vertical-align: top;\n",
       "    }\n",
       "\n",
       "    .dataframe thead th {\n",
       "        text-align: right;\n",
       "    }\n",
       "</style>\n",
       "<table border=\"1\" class=\"dataframe\">\n",
       "  <thead>\n",
       "    <tr style=\"text-align: right;\">\n",
       "      <th></th>\n",
       "      <th>corr to exoU</th>\n",
       "    </tr>\n",
       "  </thead>\n",
       "  <tbody>\n",
       "    <tr>\n",
       "      <th>PA14_55610</th>\n",
       "      <td>0.038868</td>\n",
       "    </tr>\n",
       "    <tr>\n",
       "      <th>PA14_55600</th>\n",
       "      <td>-0.002048</td>\n",
       "    </tr>\n",
       "    <tr>\n",
       "      <th>PA14_55590</th>\n",
       "      <td>-0.057959</td>\n",
       "    </tr>\n",
       "    <tr>\n",
       "      <th>PA14_55580</th>\n",
       "      <td>0.033621</td>\n",
       "    </tr>\n",
       "    <tr>\n",
       "      <th>PA14_55570</th>\n",
       "      <td>0.074101</td>\n",
       "    </tr>\n",
       "  </tbody>\n",
       "</table>\n",
       "</div>"
      ],
      "text/plain": [
       "            corr to exoU\n",
       "PA14_55610      0.038868\n",
       "PA14_55600     -0.002048\n",
       "PA14_55590     -0.057959\n",
       "PA14_55580      0.033621\n",
       "PA14_55570      0.074101"
      ]
     },
     "execution_count": 23,
     "metadata": {},
     "output_type": "execute_result"
    }
   ],
   "source": [
    "print(exoU_all_corr.shape)\n",
    "exoU_all_corr.head()"
   ]
  },
  {
   "cell_type": "code",
   "execution_count": 24,
   "id": "486c1a6b",
   "metadata": {},
   "outputs": [],
   "source": [
    "# Add gene name annotation\n",
    "exoS_all_corr = exoS_all_corr.merge(\n",
    "    pao1_gene_annot, left_index=True, right_index=True, how=\"left\"\n",
    ")\n",
    "exoU_all_corr = exoU_all_corr.merge(\n",
    "    pa14_gene_annot, left_index=True, right_index=True, how=\"left\"\n",
    ")"
   ]
  },
  {
   "cell_type": "code",
   "execution_count": 25,
   "id": "8dc7b2ab",
   "metadata": {},
   "outputs": [
    {
     "name": "stdout",
     "output_type": "stream",
     "text": [
      "(5563, 2)\n"
     ]
    },
    {
     "data": {
      "text/html": [
       "<div>\n",
       "<style scoped>\n",
       "    .dataframe tbody tr th:only-of-type {\n",
       "        vertical-align: middle;\n",
       "    }\n",
       "\n",
       "    .dataframe tbody tr th {\n",
       "        vertical-align: top;\n",
       "    }\n",
       "\n",
       "    .dataframe thead th {\n",
       "        text-align: right;\n",
       "    }\n",
       "</style>\n",
       "<table border=\"1\" class=\"dataframe\">\n",
       "  <thead>\n",
       "    <tr style=\"text-align: right;\">\n",
       "      <th></th>\n",
       "      <th>corr to exoS</th>\n",
       "      <th>gene name</th>\n",
       "    </tr>\n",
       "  </thead>\n",
       "  <tbody>\n",
       "    <tr>\n",
       "      <th>PA0001</th>\n",
       "      <td>-0.002313</td>\n",
       "      <td>dnaA</td>\n",
       "    </tr>\n",
       "    <tr>\n",
       "      <th>PA0002</th>\n",
       "      <td>0.114963</td>\n",
       "      <td>dnaN</td>\n",
       "    </tr>\n",
       "    <tr>\n",
       "      <th>PA0003</th>\n",
       "      <td>-0.024771</td>\n",
       "      <td>recF</td>\n",
       "    </tr>\n",
       "    <tr>\n",
       "      <th>PA0004</th>\n",
       "      <td>0.083573</td>\n",
       "      <td>gyrB</td>\n",
       "    </tr>\n",
       "    <tr>\n",
       "      <th>PA0005</th>\n",
       "      <td>0.000713</td>\n",
       "      <td>lptA</td>\n",
       "    </tr>\n",
       "  </tbody>\n",
       "</table>\n",
       "</div>"
      ],
      "text/plain": [
       "        corr to exoS gene name\n",
       "PA0001     -0.002313      dnaA\n",
       "PA0002      0.114963      dnaN\n",
       "PA0003     -0.024771      recF\n",
       "PA0004      0.083573      gyrB\n",
       "PA0005      0.000713      lptA"
      ]
     },
     "execution_count": 25,
     "metadata": {},
     "output_type": "execute_result"
    }
   ],
   "source": [
    "print(exoS_all_corr.shape)\n",
    "exoS_all_corr.head()"
   ]
  },
  {
   "cell_type": "code",
   "execution_count": 26,
   "id": "4f6ba7e8",
   "metadata": {},
   "outputs": [
    {
     "name": "stdout",
     "output_type": "stream",
     "text": [
      "(5891, 2)\n"
     ]
    },
    {
     "data": {
      "text/html": [
       "<div>\n",
       "<style scoped>\n",
       "    .dataframe tbody tr th:only-of-type {\n",
       "        vertical-align: middle;\n",
       "    }\n",
       "\n",
       "    .dataframe tbody tr th {\n",
       "        vertical-align: top;\n",
       "    }\n",
       "\n",
       "    .dataframe thead th {\n",
       "        text-align: right;\n",
       "    }\n",
       "</style>\n",
       "<table border=\"1\" class=\"dataframe\">\n",
       "  <thead>\n",
       "    <tr style=\"text-align: right;\">\n",
       "      <th></th>\n",
       "      <th>corr to exoU</th>\n",
       "      <th>gene name</th>\n",
       "    </tr>\n",
       "  </thead>\n",
       "  <tbody>\n",
       "    <tr>\n",
       "      <th>PA14_55610</th>\n",
       "      <td>0.038868</td>\n",
       "      <td>dnaE2</td>\n",
       "    </tr>\n",
       "    <tr>\n",
       "      <th>PA14_55600</th>\n",
       "      <td>-0.002048</td>\n",
       "      <td>NaN</td>\n",
       "    </tr>\n",
       "    <tr>\n",
       "      <th>PA14_55590</th>\n",
       "      <td>-0.057959</td>\n",
       "      <td>NaN</td>\n",
       "    </tr>\n",
       "    <tr>\n",
       "      <th>PA14_55580</th>\n",
       "      <td>0.033621</td>\n",
       "      <td>nemO</td>\n",
       "    </tr>\n",
       "    <tr>\n",
       "      <th>PA14_55570</th>\n",
       "      <td>0.074101</td>\n",
       "      <td>NaN</td>\n",
       "    </tr>\n",
       "  </tbody>\n",
       "</table>\n",
       "</div>"
      ],
      "text/plain": [
       "            corr to exoU gene name\n",
       "PA14_55610      0.038868     dnaE2\n",
       "PA14_55600     -0.002048       NaN\n",
       "PA14_55590     -0.057959       NaN\n",
       "PA14_55580      0.033621      nemO\n",
       "PA14_55570      0.074101       NaN"
      ]
     },
     "execution_count": 26,
     "metadata": {},
     "output_type": "execute_result"
    }
   ],
   "source": [
    "print(exoU_all_corr.shape)\n",
    "exoU_all_corr.head()"
   ]
  },
  {
   "cell_type": "markdown",
   "id": "17a1d057",
   "metadata": {},
   "source": [
    "### Add gene group labels for: core, acc, in module-acc"
   ]
  },
  {
   "cell_type": "code",
   "execution_count": 27,
   "id": "db884b61",
   "metadata": {},
   "outputs": [],
   "source": [
    "# Get core genes\n",
    "pao1_expression_filename = paths.PAO1_COMPENDIUM\n",
    "pa14_expression_filename = paths.PA14_COMPENDIUM\n",
    "\n",
    "pao1_annot_filename = paths.GENE_PAO1_ANNOT\n",
    "pa14_annot_filename = paths.GENE_PA14_ANNOT"
   ]
  },
  {
   "cell_type": "code",
   "execution_count": 28,
   "id": "86f96bf3",
   "metadata": {},
   "outputs": [],
   "source": [
    "# Make a dataframe with gene ids\n",
    "pao1_gene_ids = pd.DataFrame(data=[], index=pao1_all_corr.index)\n",
    "pa14_gene_ids = pd.DataFrame(data=[], index=pa14_all_corr.index)"
   ]
  },
  {
   "cell_type": "code",
   "execution_count": 29,
   "id": "10526ce1",
   "metadata": {
    "scrolled": true
   },
   "outputs": [
    {
     "name": "stdout",
     "output_type": "stream",
     "text": [
      "Number of PAO1 core genes: 5366\n",
      "Number of PA14 core genes: 5363\n",
      "Number of PAO1 core genes in my dataset: 5361\n",
      "Number of PA14 core genes in my dataset: 5357\n",
      "Number of PAO1-specific genes: 202\n",
      "Number of PA14-specific genes: 534\n"
     ]
    }
   ],
   "source": [
    "(\n",
    "    pao1_arr,\n",
    "    pa14_arr,\n",
    "    pao1_core,\n",
    "    pao1_acc,\n",
    "    pa14_core,\n",
    "    pa14_acc,\n",
    ") = annotations.map_core_acc_annot(\n",
    "    pao1_gene_ids,\n",
    "    pa14_gene_ids,\n",
    "    pao1_expression_filename,\n",
    "    pa14_expression_filename,\n",
    "    pao1_annot_filename,\n",
    "    pa14_annot_filename,\n",
    ")"
   ]
  },
  {
   "cell_type": "code",
   "execution_count": 30,
   "id": "9a0f3e1c",
   "metadata": {},
   "outputs": [],
   "source": [
    "# Label\n",
    "exoS_all_corr.loc[pao1_core, \"label\"] = \"core\"\n",
    "exoS_all_corr.loc[pao1_acc, \"label\"] = \"acc\"\n",
    "exoS_all_corr.loc[exoS_module_gene_ids, \"label\"] = \"acc-module\"\n",
    "\n",
    "exoU_all_corr.loc[pa14_core, \"label\"] = \"core\"\n",
    "exoU_all_corr.loc[pa14_acc, \"label\"] = \"acc\"\n",
    "exoU_all_corr.loc[exoU_module_gene_ids, \"label\"] = \"acc-module\""
   ]
  },
  {
   "cell_type": "code",
   "execution_count": 31,
   "id": "7fa1052a",
   "metadata": {},
   "outputs": [
    {
     "name": "stdout",
     "output_type": "stream",
     "text": [
      "(5563, 3)\n"
     ]
    },
    {
     "data": {
      "text/html": [
       "<div>\n",
       "<style scoped>\n",
       "    .dataframe tbody tr th:only-of-type {\n",
       "        vertical-align: middle;\n",
       "    }\n",
       "\n",
       "    .dataframe tbody tr th {\n",
       "        vertical-align: top;\n",
       "    }\n",
       "\n",
       "    .dataframe thead th {\n",
       "        text-align: right;\n",
       "    }\n",
       "</style>\n",
       "<table border=\"1\" class=\"dataframe\">\n",
       "  <thead>\n",
       "    <tr style=\"text-align: right;\">\n",
       "      <th></th>\n",
       "      <th>corr to exoS</th>\n",
       "      <th>gene name</th>\n",
       "      <th>label</th>\n",
       "    </tr>\n",
       "  </thead>\n",
       "  <tbody>\n",
       "    <tr>\n",
       "      <th>PA0001</th>\n",
       "      <td>-0.002313</td>\n",
       "      <td>dnaA</td>\n",
       "      <td>core</td>\n",
       "    </tr>\n",
       "    <tr>\n",
       "      <th>PA0002</th>\n",
       "      <td>0.114963</td>\n",
       "      <td>dnaN</td>\n",
       "      <td>core</td>\n",
       "    </tr>\n",
       "    <tr>\n",
       "      <th>PA0003</th>\n",
       "      <td>-0.024771</td>\n",
       "      <td>recF</td>\n",
       "      <td>core</td>\n",
       "    </tr>\n",
       "    <tr>\n",
       "      <th>PA0004</th>\n",
       "      <td>0.083573</td>\n",
       "      <td>gyrB</td>\n",
       "      <td>core</td>\n",
       "    </tr>\n",
       "    <tr>\n",
       "      <th>PA0005</th>\n",
       "      <td>0.000713</td>\n",
       "      <td>lptA</td>\n",
       "      <td>core</td>\n",
       "    </tr>\n",
       "  </tbody>\n",
       "</table>\n",
       "</div>"
      ],
      "text/plain": [
       "        corr to exoS gene name label\n",
       "PA0001     -0.002313      dnaA  core\n",
       "PA0002      0.114963      dnaN  core\n",
       "PA0003     -0.024771      recF  core\n",
       "PA0004      0.083573      gyrB  core\n",
       "PA0005      0.000713      lptA  core"
      ]
     },
     "execution_count": 31,
     "metadata": {},
     "output_type": "execute_result"
    }
   ],
   "source": [
    "print(exoS_all_corr.shape)\n",
    "exoS_all_corr.head()"
   ]
  },
  {
   "cell_type": "code",
   "execution_count": 32,
   "id": "41095584",
   "metadata": {},
   "outputs": [
    {
     "name": "stdout",
     "output_type": "stream",
     "text": [
      "(5891, 3)\n"
     ]
    },
    {
     "data": {
      "text/html": [
       "<div>\n",
       "<style scoped>\n",
       "    .dataframe tbody tr th:only-of-type {\n",
       "        vertical-align: middle;\n",
       "    }\n",
       "\n",
       "    .dataframe tbody tr th {\n",
       "        vertical-align: top;\n",
       "    }\n",
       "\n",
       "    .dataframe thead th {\n",
       "        text-align: right;\n",
       "    }\n",
       "</style>\n",
       "<table border=\"1\" class=\"dataframe\">\n",
       "  <thead>\n",
       "    <tr style=\"text-align: right;\">\n",
       "      <th></th>\n",
       "      <th>corr to exoU</th>\n",
       "      <th>gene name</th>\n",
       "      <th>label</th>\n",
       "    </tr>\n",
       "  </thead>\n",
       "  <tbody>\n",
       "    <tr>\n",
       "      <th>PA14_55610</th>\n",
       "      <td>0.038868</td>\n",
       "      <td>dnaE2</td>\n",
       "      <td>core</td>\n",
       "    </tr>\n",
       "    <tr>\n",
       "      <th>PA14_55600</th>\n",
       "      <td>-0.002048</td>\n",
       "      <td>NaN</td>\n",
       "      <td>core</td>\n",
       "    </tr>\n",
       "    <tr>\n",
       "      <th>PA14_55590</th>\n",
       "      <td>-0.057959</td>\n",
       "      <td>NaN</td>\n",
       "      <td>core</td>\n",
       "    </tr>\n",
       "    <tr>\n",
       "      <th>PA14_55580</th>\n",
       "      <td>0.033621</td>\n",
       "      <td>nemO</td>\n",
       "      <td>core</td>\n",
       "    </tr>\n",
       "    <tr>\n",
       "      <th>PA14_55570</th>\n",
       "      <td>0.074101</td>\n",
       "      <td>NaN</td>\n",
       "      <td>core</td>\n",
       "    </tr>\n",
       "  </tbody>\n",
       "</table>\n",
       "</div>"
      ],
      "text/plain": [
       "            corr to exoU gene name label\n",
       "PA14_55610      0.038868     dnaE2  core\n",
       "PA14_55600     -0.002048       NaN  core\n",
       "PA14_55590     -0.057959       NaN  core\n",
       "PA14_55580      0.033621      nemO  core\n",
       "PA14_55570      0.074101       NaN  core"
      ]
     },
     "execution_count": 32,
     "metadata": {},
     "output_type": "execute_result"
    }
   ],
   "source": [
    "print(exoU_all_corr.shape)\n",
    "exoU_all_corr.head()"
   ]
  },
  {
   "cell_type": "code",
   "execution_count": 33,
   "id": "fdd47337",
   "metadata": {},
   "outputs": [],
   "source": [
    "# Save\n",
    "exoS_all_corr.to_csv(\"exoS_relationship.tsv\", sep=\"\\t\")\n",
    "exoU_all_corr.to_csv(\"exoU_relationship.tsv\", sep=\"\\t\")"
   ]
  },
  {
   "cell_type": "markdown",
   "id": "c0d1a286",
   "metadata": {},
   "source": [
    "**Takeaway**\n",
    "What can we say about the relationship between exoS/U and all other genes?\n",
    "* exoS/U are most highly correlated with other core genes including the other genes within the T3SS like exoT and exoY as well as the translocation apparatus that interacts with the host (popB, popD, pcrV), needle complex that secretes the proteins (pscNLJCF): https://www.ncbi.nlm.nih.gov/pmc/articles/PMC2766515/\n",
    "* Do the highly correlated core genes for exoS compare against those genes found to be highly correlated using eADAGE nodes?\n",
    "    * Yes, by a manual inspection there is good concordance between the genes found to be highly correlated with exoS and those found in the same G-G network created from eADAGE: https://adage.greenelab.com/genes?model=1&genes=2251. These genes include the other exo genes, pcr genes, pop genes, psc genes.\n",
    "    * We cannot use the eADAGE network to validate our accessory modules since eADAGE doesn't include accessory genes."
   ]
  }
 ],
 "metadata": {
  "jupytext": {
   "formats": "ipynb,py"
  },
  "kernelspec": {
   "display_name": "Python [conda env:core_acc] *",
   "language": "python",
   "name": "conda-env-core_acc-py"
  },
  "language_info": {
   "codemirror_mode": {
    "name": "ipython",
    "version": 3
   },
   "file_extension": ".py",
   "mimetype": "text/x-python",
   "name": "python",
   "nbconvert_exporter": "python",
   "pygments_lexer": "ipython3",
   "version": "3.7.10"
  }
 },
 "nbformat": 4,
 "nbformat_minor": 5
}
