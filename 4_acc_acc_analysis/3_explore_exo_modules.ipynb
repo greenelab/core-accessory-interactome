{
 "cells": [
  {
   "cell_type": "markdown",
   "id": "016bccd3",
   "metadata": {},
   "source": [
    "# Explore exoS/exoU modules\n",
    "\n",
    "This notebook specifically explores the exoS (PAO1) and exoU (PA14) accessory-accessory modules to determine if there is an interesting biological story here.\n",
    "\n",
    "About exoS and exoU? Why might we be interested in studying the modules?"
   ]
  },
  {
   "cell_type": "code",
   "execution_count": 1,
   "id": "a672e059",
   "metadata": {},
   "outputs": [
    {
     "name": "stderr",
     "output_type": "stream",
     "text": [
      "/home/alexandra/anaconda3/envs/core_acc/lib/python3.7/site-packages/matplotlib/__init__.py:886: MatplotlibDeprecationWarning: \n",
      "examples.directory is deprecated; in the future, examples will be found relative to the 'datapath' directory.\n",
      "  \"found relative to the 'datapath' directory.\".format(key))\n"
     ]
    }
   ],
   "source": [
    "%load_ext autoreload\n",
    "%autoreload 2\n",
    "%matplotlib inline\n",
    "import os\n",
    "import scipy\n",
    "import pandas as pd\n",
    "import numpy as np\n",
    "import seaborn as sns\n",
    "import matplotlib.pyplot as plt\n",
    "from scripts import utils, paths\n",
    "\n",
    "np.random.seed(1)"
   ]
  },
  {
   "cell_type": "code",
   "execution_count": 2,
   "id": "5cdba3f0",
   "metadata": {},
   "outputs": [],
   "source": [
    "# Clustering method\n",
    "method_name = \"affinity\"\n",
    "\n",
    "# Gene subset\n",
    "gene_subset = \"acc\"\n",
    "\n",
    "# Select modules containing exoS (module 16) and exoU (module 17)\n",
    "exoS_module_id = 16\n",
    "exoU_module_id = 17"
   ]
  },
  {
   "cell_type": "markdown",
   "id": "5c857f93",
   "metadata": {},
   "source": [
    "### Load correlation matrix"
   ]
  },
  {
   "cell_type": "code",
   "execution_count": 3,
   "id": "b0210b59",
   "metadata": {},
   "outputs": [],
   "source": [
    "# Load correlation matrix\n",
    "pao1_corr_filename = paths.PAO1_CORR_LOG_SPELL_ACC\n",
    "pa14_corr_filename = paths.PA14_CORR_LOG_SPELL_ACC"
   ]
  },
  {
   "cell_type": "code",
   "execution_count": 4,
   "id": "19171a21",
   "metadata": {},
   "outputs": [],
   "source": [
    "pao1_corr = pd.read_csv(pao1_corr_filename, sep=\"\\t\", index_col=0, header=0)\n",
    "pa14_corr = pd.read_csv(pa14_corr_filename, sep=\"\\t\", index_col=0, header=0)"
   ]
  },
  {
   "cell_type": "markdown",
   "id": "4ec74a0b",
   "metadata": {},
   "source": [
    "### Load module membership"
   ]
  },
  {
   "cell_type": "code",
   "execution_count": 5,
   "id": "f7e9961a",
   "metadata": {},
   "outputs": [],
   "source": [
    "pao1_membership_filename = os.path.join(\n",
    "    paths.LOCAL_DATA_DIR, f\"pao1_modules_{method_name}_{gene_subset}.tsv\"\n",
    ")\n",
    "pa14_membership_filename = os.path.join(\n",
    "    paths.LOCAL_DATA_DIR, f\"pa14_modules_{method_name}_{gene_subset}.tsv\"\n",
    ")"
   ]
  },
  {
   "cell_type": "code",
   "execution_count": 6,
   "id": "3152ce34",
   "metadata": {},
   "outputs": [],
   "source": [
    "pao1_membership = pd.read_csv(pao1_membership_filename, sep=\"\\t\", header=0, index_col=0)\n",
    "pa14_membership = pd.read_csv(pa14_membership_filename, sep=\"\\t\", header=0, index_col=0)"
   ]
  },
  {
   "cell_type": "markdown",
   "id": "5c1f9d47",
   "metadata": {},
   "source": [
    "### Select genes associated with modules of interest"
   ]
  },
  {
   "cell_type": "code",
   "execution_count": 7,
   "id": "b179f69a",
   "metadata": {},
   "outputs": [],
   "source": [
    "exoS_module_df = pao1_membership[pao1_membership[\"module id\"] == exoS_module_id]\n",
    "exoU_module_df = pa14_membership[pa14_membership[\"module id\"] == exoU_module_id]"
   ]
  },
  {
   "cell_type": "code",
   "execution_count": 8,
   "id": "8653f050",
   "metadata": {},
   "outputs": [
    {
     "data": {
      "text/html": [
       "<div>\n",
       "<style scoped>\n",
       "    .dataframe tbody tr th:only-of-type {\n",
       "        vertical-align: middle;\n",
       "    }\n",
       "\n",
       "    .dataframe tbody tr th {\n",
       "        vertical-align: top;\n",
       "    }\n",
       "\n",
       "    .dataframe thead th {\n",
       "        text-align: right;\n",
       "    }\n",
       "</style>\n",
       "<table border=\"1\" class=\"dataframe\">\n",
       "  <thead>\n",
       "    <tr style=\"text-align: right;\">\n",
       "      <th></th>\n",
       "      <th>module id</th>\n",
       "    </tr>\n",
       "  </thead>\n",
       "  <tbody>\n",
       "    <tr>\n",
       "      <th>PA3362</th>\n",
       "      <td>16</td>\n",
       "    </tr>\n",
       "    <tr>\n",
       "      <th>PA2192</th>\n",
       "      <td>16</td>\n",
       "    </tr>\n",
       "    <tr>\n",
       "      <th>PA3066</th>\n",
       "      <td>16</td>\n",
       "    </tr>\n",
       "    <tr>\n",
       "      <th>PA0257</th>\n",
       "      <td>16</td>\n",
       "    </tr>\n",
       "    <tr>\n",
       "      <th>PA4802</th>\n",
       "      <td>16</td>\n",
       "    </tr>\n",
       "  </tbody>\n",
       "</table>\n",
       "</div>"
      ],
      "text/plain": [
       "        module id\n",
       "PA3362         16\n",
       "PA2192         16\n",
       "PA3066         16\n",
       "PA0257         16\n",
       "PA4802         16"
      ]
     },
     "execution_count": 8,
     "metadata": {},
     "output_type": "execute_result"
    }
   ],
   "source": [
    "exoS_module_df.head()"
   ]
  },
  {
   "cell_type": "code",
   "execution_count": 9,
   "id": "ae7ed649",
   "metadata": {},
   "outputs": [
    {
     "data": {
      "text/html": [
       "<div>\n",
       "<style scoped>\n",
       "    .dataframe tbody tr th:only-of-type {\n",
       "        vertical-align: middle;\n",
       "    }\n",
       "\n",
       "    .dataframe tbody tr th {\n",
       "        vertical-align: top;\n",
       "    }\n",
       "\n",
       "    .dataframe thead th {\n",
       "        text-align: right;\n",
       "    }\n",
       "</style>\n",
       "<table border=\"1\" class=\"dataframe\">\n",
       "  <thead>\n",
       "    <tr style=\"text-align: right;\">\n",
       "      <th></th>\n",
       "      <th>module id</th>\n",
       "    </tr>\n",
       "  </thead>\n",
       "  <tbody>\n",
       "    <tr>\n",
       "      <th>PA14_28460</th>\n",
       "      <td>17</td>\n",
       "    </tr>\n",
       "    <tr>\n",
       "      <th>PA14_51950</th>\n",
       "      <td>17</td>\n",
       "    </tr>\n",
       "    <tr>\n",
       "      <th>PA14_49990</th>\n",
       "      <td>17</td>\n",
       "    </tr>\n",
       "    <tr>\n",
       "      <th>PA14_28870</th>\n",
       "      <td>17</td>\n",
       "    </tr>\n",
       "    <tr>\n",
       "      <th>PA14_28850</th>\n",
       "      <td>17</td>\n",
       "    </tr>\n",
       "  </tbody>\n",
       "</table>\n",
       "</div>"
      ],
      "text/plain": [
       "            module id\n",
       "PA14_28460         17\n",
       "PA14_51950         17\n",
       "PA14_49990         17\n",
       "PA14_28870         17\n",
       "PA14_28850         17"
      ]
     },
     "execution_count": 9,
     "metadata": {},
     "output_type": "execute_result"
    }
   ],
   "source": [
    "exoU_module_df.head()"
   ]
  },
  {
   "cell_type": "markdown",
   "id": "dd0e3997",
   "metadata": {},
   "source": [
    "### Get most co-expressed accessory genes\n",
    "\n",
    "Make dataframe with all accessory genes sorted by their correlation score relative to exoS or exoU"
   ]
  },
  {
   "cell_type": "code",
   "execution_count": 10,
   "id": "2a3e98ec",
   "metadata": {},
   "outputs": [],
   "source": [
    "# Get gene id for exoS and exoU\n",
    "exoS_id = \"PA3841\"\n",
    "exoU_id = \"PA14_51530\""
   ]
  },
  {
   "cell_type": "code",
   "execution_count": 11,
   "id": "765afa0e",
   "metadata": {},
   "outputs": [],
   "source": [
    "# Get correlation scores\n",
    "exoS_corr_all = pao1_corr.loc[exoS_id].to_frame(\"corr_score\")\n",
    "exoU_corr_all = pa14_corr.loc[exoU_id].to_frame(\"corr_score\")"
   ]
  },
  {
   "cell_type": "code",
   "execution_count": 12,
   "id": "e9ae2477",
   "metadata": {},
   "outputs": [
    {
     "data": {
      "text/html": [
       "<div>\n",
       "<style scoped>\n",
       "    .dataframe tbody tr th:only-of-type {\n",
       "        vertical-align: middle;\n",
       "    }\n",
       "\n",
       "    .dataframe tbody tr th {\n",
       "        vertical-align: top;\n",
       "    }\n",
       "\n",
       "    .dataframe thead th {\n",
       "        text-align: right;\n",
       "    }\n",
       "</style>\n",
       "<table border=\"1\" class=\"dataframe\">\n",
       "  <thead>\n",
       "    <tr style=\"text-align: right;\">\n",
       "      <th></th>\n",
       "      <th>corr_score</th>\n",
       "    </tr>\n",
       "  </thead>\n",
       "  <tbody>\n",
       "    <tr>\n",
       "      <th>PA3500</th>\n",
       "      <td>-0.084097</td>\n",
       "    </tr>\n",
       "    <tr>\n",
       "      <th>PA1384</th>\n",
       "      <td>-0.051474</td>\n",
       "    </tr>\n",
       "    <tr>\n",
       "      <th>PA2100</th>\n",
       "      <td>0.052347</td>\n",
       "    </tr>\n",
       "    <tr>\n",
       "      <th>PA2336</th>\n",
       "      <td>-0.015725</td>\n",
       "    </tr>\n",
       "    <tr>\n",
       "      <th>PA2230</th>\n",
       "      <td>-0.030183</td>\n",
       "    </tr>\n",
       "  </tbody>\n",
       "</table>\n",
       "</div>"
      ],
      "text/plain": [
       "        corr_score\n",
       "PA3500   -0.084097\n",
       "PA1384   -0.051474\n",
       "PA2100    0.052347\n",
       "PA2336   -0.015725\n",
       "PA2230   -0.030183"
      ]
     },
     "execution_count": 12,
     "metadata": {},
     "output_type": "execute_result"
    }
   ],
   "source": [
    "exoS_corr_all.head()"
   ]
  },
  {
   "cell_type": "code",
   "execution_count": 13,
   "id": "b1f76904",
   "metadata": {},
   "outputs": [
    {
     "data": {
      "text/html": [
       "<div>\n",
       "<style scoped>\n",
       "    .dataframe tbody tr th:only-of-type {\n",
       "        vertical-align: middle;\n",
       "    }\n",
       "\n",
       "    .dataframe tbody tr th {\n",
       "        vertical-align: top;\n",
       "    }\n",
       "\n",
       "    .dataframe thead th {\n",
       "        text-align: right;\n",
       "    }\n",
       "</style>\n",
       "<table border=\"1\" class=\"dataframe\">\n",
       "  <thead>\n",
       "    <tr style=\"text-align: right;\">\n",
       "      <th></th>\n",
       "      <th>corr_score</th>\n",
       "    </tr>\n",
       "  </thead>\n",
       "  <tbody>\n",
       "    <tr>\n",
       "      <th>PA14_30900</th>\n",
       "      <td>-0.021737</td>\n",
       "    </tr>\n",
       "    <tr>\n",
       "      <th>PA14_59845</th>\n",
       "      <td>0.005034</td>\n",
       "    </tr>\n",
       "    <tr>\n",
       "      <th>PA14_10300</th>\n",
       "      <td>0.090491</td>\n",
       "    </tr>\n",
       "    <tr>\n",
       "      <th>PA14_60020</th>\n",
       "      <td>0.139305</td>\n",
       "    </tr>\n",
       "    <tr>\n",
       "      <th>PA14_35730</th>\n",
       "      <td>-0.071012</td>\n",
       "    </tr>\n",
       "  </tbody>\n",
       "</table>\n",
       "</div>"
      ],
      "text/plain": [
       "            corr_score\n",
       "PA14_30900   -0.021737\n",
       "PA14_59845    0.005034\n",
       "PA14_10300    0.090491\n",
       "PA14_60020    0.139305\n",
       "PA14_35730   -0.071012"
      ]
     },
     "execution_count": 13,
     "metadata": {},
     "output_type": "execute_result"
    }
   ],
   "source": [
    "exoU_corr_all.head()"
   ]
  },
  {
   "cell_type": "code",
   "execution_count": 14,
   "id": "e815edb8",
   "metadata": {},
   "outputs": [],
   "source": [
    "# Import gene metadata\n",
    "pao1_gene_annot_filename = paths.GENE_PAO1_ANNOT\n",
    "pa14_gene_annot_filename = paths.GENE_PA14_ANNOT\n",
    "\n",
    "pao1_gene_annot = pd.read_csv(pao1_gene_annot_filename, index_col=0, header=0)\n",
    "pa14_gene_annot = pd.read_csv(pa14_gene_annot_filename, index_col=0, header=0)"
   ]
  },
  {
   "cell_type": "code",
   "execution_count": 15,
   "id": "f95d53aa",
   "metadata": {},
   "outputs": [],
   "source": [
    "# Get df with gene ids as indices and gene names as a column\n",
    "# Having the data in a df instead of a series will just allow me to do my merges that are in the notebook\n",
    "pao1_gene_annot = pao1_gene_annot[\"Name\"].to_frame(\"gene name\")\n",
    "pa14_gene_annot = pa14_gene_annot[\"Name\"].to_frame(\"gene name\")"
   ]
  },
  {
   "cell_type": "code",
   "execution_count": 16,
   "id": "b03beb09",
   "metadata": {},
   "outputs": [],
   "source": [
    "# Make dataframe with gene id, correlation score, gene name\n",
    "# Add gene names\n",
    "exoS_corr_df = exoS_corr_all.merge(\n",
    "    pao1_gene_annot, left_index=True, right_index=True, how=\"left\"\n",
    ")\n",
    "exoU_corr_df = exoU_corr_all.merge(\n",
    "    pa14_gene_annot, left_index=True, right_index=True, how=\"left\"\n",
    ")"
   ]
  },
  {
   "cell_type": "code",
   "execution_count": 17,
   "id": "8020edea",
   "metadata": {},
   "outputs": [
    {
     "name": "stdout",
     "output_type": "stream",
     "text": [
      "(202, 2)\n"
     ]
    },
    {
     "data": {
      "text/html": [
       "<div>\n",
       "<style scoped>\n",
       "    .dataframe tbody tr th:only-of-type {\n",
       "        vertical-align: middle;\n",
       "    }\n",
       "\n",
       "    .dataframe tbody tr th {\n",
       "        vertical-align: top;\n",
       "    }\n",
       "\n",
       "    .dataframe thead th {\n",
       "        text-align: right;\n",
       "    }\n",
       "</style>\n",
       "<table border=\"1\" class=\"dataframe\">\n",
       "  <thead>\n",
       "    <tr style=\"text-align: right;\">\n",
       "      <th></th>\n",
       "      <th>corr_score</th>\n",
       "      <th>gene name</th>\n",
       "    </tr>\n",
       "  </thead>\n",
       "  <tbody>\n",
       "    <tr>\n",
       "      <th>PA3500</th>\n",
       "      <td>-0.084097</td>\n",
       "      <td>NaN</td>\n",
       "    </tr>\n",
       "    <tr>\n",
       "      <th>PA1384</th>\n",
       "      <td>-0.051474</td>\n",
       "      <td>galE</td>\n",
       "    </tr>\n",
       "    <tr>\n",
       "      <th>PA2100</th>\n",
       "      <td>0.052347</td>\n",
       "      <td>NaN</td>\n",
       "    </tr>\n",
       "    <tr>\n",
       "      <th>PA2336</th>\n",
       "      <td>-0.015725</td>\n",
       "      <td>NaN</td>\n",
       "    </tr>\n",
       "    <tr>\n",
       "      <th>PA2230</th>\n",
       "      <td>-0.030183</td>\n",
       "      <td>NaN</td>\n",
       "    </tr>\n",
       "  </tbody>\n",
       "</table>\n",
       "</div>"
      ],
      "text/plain": [
       "        corr_score gene name\n",
       "PA3500   -0.084097       NaN\n",
       "PA1384   -0.051474      galE\n",
       "PA2100    0.052347       NaN\n",
       "PA2336   -0.015725       NaN\n",
       "PA2230   -0.030183       NaN"
      ]
     },
     "execution_count": 17,
     "metadata": {},
     "output_type": "execute_result"
    }
   ],
   "source": [
    "print(exoS_corr_df.shape)\n",
    "exoS_corr_df.head()"
   ]
  },
  {
   "cell_type": "code",
   "execution_count": 18,
   "id": "4cb511ab",
   "metadata": {},
   "outputs": [
    {
     "name": "stdout",
     "output_type": "stream",
     "text": [
      "(534, 2)\n"
     ]
    },
    {
     "data": {
      "text/html": [
       "<div>\n",
       "<style scoped>\n",
       "    .dataframe tbody tr th:only-of-type {\n",
       "        vertical-align: middle;\n",
       "    }\n",
       "\n",
       "    .dataframe tbody tr th {\n",
       "        vertical-align: top;\n",
       "    }\n",
       "\n",
       "    .dataframe thead th {\n",
       "        text-align: right;\n",
       "    }\n",
       "</style>\n",
       "<table border=\"1\" class=\"dataframe\">\n",
       "  <thead>\n",
       "    <tr style=\"text-align: right;\">\n",
       "      <th></th>\n",
       "      <th>corr_score</th>\n",
       "      <th>gene name</th>\n",
       "    </tr>\n",
       "  </thead>\n",
       "  <tbody>\n",
       "    <tr>\n",
       "      <th>PA14_30900</th>\n",
       "      <td>-0.021737</td>\n",
       "      <td>NaN</td>\n",
       "    </tr>\n",
       "    <tr>\n",
       "      <th>PA14_59845</th>\n",
       "      <td>0.005034</td>\n",
       "      <td>NaN</td>\n",
       "    </tr>\n",
       "    <tr>\n",
       "      <th>PA14_10300</th>\n",
       "      <td>0.090491</td>\n",
       "      <td>NaN</td>\n",
       "    </tr>\n",
       "    <tr>\n",
       "      <th>PA14_60020</th>\n",
       "      <td>0.139305</td>\n",
       "      <td>NaN</td>\n",
       "    </tr>\n",
       "    <tr>\n",
       "      <th>PA14_35730</th>\n",
       "      <td>-0.071012</td>\n",
       "      <td>NaN</td>\n",
       "    </tr>\n",
       "  </tbody>\n",
       "</table>\n",
       "</div>"
      ],
      "text/plain": [
       "            corr_score gene name\n",
       "PA14_30900   -0.021737       NaN\n",
       "PA14_59845    0.005034       NaN\n",
       "PA14_10300    0.090491       NaN\n",
       "PA14_60020    0.139305       NaN\n",
       "PA14_35730   -0.071012       NaN"
      ]
     },
     "execution_count": 18,
     "metadata": {},
     "output_type": "execute_result"
    }
   ],
   "source": [
    "print(exoU_corr_df.shape)\n",
    "exoU_corr_df.head()"
   ]
  },
  {
   "cell_type": "code",
   "execution_count": 19,
   "id": "ec707c3b",
   "metadata": {},
   "outputs": [],
   "source": [
    "# Save\n",
    "exoS_corr_df.to_csv(\"exoS_corr.tsv\", sep=\"\\t\")\n",
    "exoU_corr_df.to_csv(\"exoU_corr.tsv\", sep=\"\\t\")"
   ]
  },
  {
   "cell_type": "markdown",
   "id": "c536e315",
   "metadata": {},
   "source": [
    "### Heatmap"
   ]
  },
  {
   "cell_type": "code",
   "execution_count": 20,
   "id": "0d5d22b4",
   "metadata": {
    "scrolled": true
   },
   "outputs": [],
   "source": [
    "exoS_module_gene_ids = list(exoS_module_df.index)\n",
    "exoU_module_gene_ids = list(exoU_module_df.index)"
   ]
  },
  {
   "cell_type": "code",
   "execution_count": 21,
   "id": "89281281",
   "metadata": {
    "scrolled": true
   },
   "outputs": [],
   "source": [
    "exoS_corr = pao1_corr.loc[exoS_module_gene_ids, exoS_module_gene_ids]\n",
    "exoU_corr = pa14_corr.loc[exoU_module_gene_ids, exoU_module_gene_ids]"
   ]
  },
  {
   "cell_type": "code",
   "execution_count": 22,
   "id": "cd2fc653",
   "metadata": {},
   "outputs": [
    {
     "name": "stdout",
     "output_type": "stream",
     "text": [
      "CPU times: user 428 ms, sys: 182 ms, total: 609 ms\n",
      "Wall time: 225 ms\n"
     ]
    },
    {
     "data": {
      "text/plain": [
       "Text(0.5, 1.05, 'Correlation of exoS module')"
      ]
     },
     "execution_count": 22,
     "metadata": {},
     "output_type": "execute_result"
    },
    {
     "data": {
      "image/png": "[encoded data removed]",
      "text/plain": [
       "<Figure size 1440x1440 with 4 Axes>"
      ]
     },
     "metadata": {
      "needs_background": "light"
     },
     "output_type": "display_data"
    }
   ],
   "source": [
    "%%time\n",
    "f = sns.clustermap(exoS_corr.abs(), cmap=\"viridis\", figsize=(20, 20))\n",
    "f.ax_heatmap.set_xticklabels(f.ax_heatmap.get_xmajorticklabels(), fontsize=16)\n",
    "f.ax_heatmap.set_yticklabels(f.ax_heatmap.get_ymajorticklabels(), fontsize=16)\n",
    "f.fig.suptitle(\"Correlation of exoS module\", y=1.05)"
   ]
  },
  {
   "cell_type": "code",
   "execution_count": 23,
   "id": "07632570",
   "metadata": {},
   "outputs": [
    {
     "name": "stdout",
     "output_type": "stream",
     "text": [
      "CPU times: user 398 ms, sys: 171 ms, total: 569 ms\n",
      "Wall time: 210 ms\n"
     ]
    },
    {
     "data": {
      "text/plain": [
       "Text(0.5, 1.05, 'Correlation of exoU module')"
      ]
     },
     "execution_count": 23,
     "metadata": {},
     "output_type": "execute_result"
    },
    {
     "data": {
      "image/png": "[encoded data removed]",
      "text/plain": [
       "<Figure size 1440x1440 with 4 Axes>"
      ]
     },
     "metadata": {
      "needs_background": "light"
     },
     "output_type": "display_data"
    }
   ],
   "source": [
    "%%time\n",
    "g = sns.clustermap(exoU_corr.abs(), cmap=\"viridis\", figsize=(20, 20))\n",
    "g.ax_heatmap.set_xticklabels(f.ax_heatmap.get_xmajorticklabels(), fontsize=16)\n",
    "g.ax_heatmap.set_yticklabels(f.ax_heatmap.get_ymajorticklabels(), fontsize=16)\n",
    "g.fig.suptitle(\"Correlation of exoU module\", y=1.05)"
   ]
  }
 ],
 "metadata": {
  "jupytext": {
   "formats": "ipynb,py"
  },
  "kernelspec": {
   "display_name": "Python [conda env:core_acc] *",
   "language": "python",
   "name": "conda-env-core_acc-py"
  },
  "language_info": {
   "codemirror_mode": {
    "name": "ipython",
    "version": 3
   },
   "file_extension": ".py",
   "mimetype": "text/x-python",
   "name": "python",
   "nbconvert_exporter": "python",
   "pygments_lexer": "ipython3",
   "version": "3.7.10"
  }
 },
 "nbformat": 4,
 "nbformat_minor": 5
}
