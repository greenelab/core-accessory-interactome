{
 "cells": [
  {
   "cell_type": "markdown",
   "id": "3bba87ea",
   "metadata": {},
   "source": [
    "# Correlation analysis\n",
    "\n",
    "This notebook performs correlation analysis to compare the similarity between genes and applies different threshold cutoffs to determine the strength of connection between genes"
   ]
  },
  {
   "cell_type": "code",
   "execution_count": 1,
   "id": "a0a7b1c3",
   "metadata": {},
   "outputs": [],
   "source": [
    "%load_ext autoreload\n",
    "%autoreload 2\n",
    "import os\n",
    "import pandas as pd\n",
    "import plotnine as pn\n",
    "\n",
    "# import umap\n",
    "from scipy.spatial.distance import pdist, squareform\n",
    "from core_acc_modules import paths"
   ]
  },
  {
   "cell_type": "markdown",
   "id": "06557bdb",
   "metadata": {},
   "source": [
    "## Set user parameters\n",
    "\n",
    "For now we will vary the correlation threshold (`corr_threshold`) but keep the other parameters consistent\n",
    "\n",
    "We will run this notebook for each threshold parameter"
   ]
  },
  {
   "cell_type": "code",
   "execution_count": null,
   "id": "ffd99d7b",
   "metadata": {},
   "outputs": [],
   "source": [
    "# Params\n",
    "corr_threshold = 0.5\n",
    "\n",
    "# Output files\n",
    "pao1_membership_filename = f\"pao1_membership_{corr_threshold}.tsv\"\n",
    "pa14_membership_filename = f\"pa14_membership_{corr_threshold}.tsv\""
   ]
  },
  {
   "cell_type": "code",
   "execution_count": null,
   "id": "35e6dcb1",
   "metadata": {},
   "outputs": [],
   "source": [
    "# Load expression data\n",
    "pao1_compendium_filename = paths.PAO1_COMPENDIUM\n",
    "pa14_compendium_filename = paths.PA14_COMPENDIUM"
   ]
  },
  {
   "cell_type": "code",
   "execution_count": null,
   "id": "6de5dfd1",
   "metadata": {},
   "outputs": [],
   "source": [
    "pao1_compendium = pd.read_csv(pao1_compendium_filename, sep=\"\\t\", header=0, index_col=0)\n",
    "pa14_compendium = pd.read_csv(pa14_compendium_filename, sep=\"\\t\", header=0, index_col=0)"
   ]
  },
  {
   "cell_type": "code",
   "execution_count": null,
   "id": "91b21436",
   "metadata": {},
   "outputs": [],
   "source": [
    "print(pao1_compendium.shape)\n",
    "pao1_compendium.head()"
   ]
  },
  {
   "cell_type": "code",
   "execution_count": null,
   "id": "3697c035",
   "metadata": {},
   "outputs": [],
   "source": [
    "print(pa14_compendium.shape)\n",
    "pa14_compendium.head()"
   ]
  },
  {
   "cell_type": "markdown",
   "id": "93b32505",
   "metadata": {},
   "source": [
    "## Get similarity between genes\n",
    "\n",
    "To determine if genes are similar, we will calculate the correlation between genes and apply our threshold cutoff. When we apply our threshold, any scores that are below the threshold will be set to 0 (i.e. using a threshold of 0.5 means that gene pairs that have correlation scores of 0.52 and 0.78 will be left as is but a gene pair with a correlation score of 0.48 will be set to 0)."
   ]
  },
  {
   "cell_type": "code",
   "execution_count": null,
   "id": "f585c1b5",
   "metadata": {},
   "outputs": [],
   "source": [
    "# Get perason correlation\n",
    "# This correlation matrix will represent the concordance\n",
    "# between two gene expression profiles\n",
    "pao1_corr = pao1_compendium.corr()\n",
    "pa14_corr = pa14_compendium.corr()"
   ]
  },
  {
   "cell_type": "code",
   "execution_count": null,
   "id": "1d187aa3",
   "metadata": {},
   "outputs": [],
   "source": [
    "pao1_corr.head()"
   ]
  },
  {
   "cell_type": "code",
   "execution_count": null,
   "id": "d863b482",
   "metadata": {},
   "outputs": [],
   "source": [
    "# Create a similarity matrix usingn the threshold defined above\n",
    "# The similarity matrix will determine the strength of the connection between two genes\n",
    "# If the concordance is strong enough (i.e. above the threshold), then\n",
    "# the genes are connected by by the correlation score, otherwise the value is set to 0\n",
    "pao1_corr[pao1_corr.abs() < corr_threshold] = 0.0\n",
    "pa14_corr[pa14_corr.abs() < corr_threshold] = 0.0\n",
    "\n",
    "pao1_corr.head()"
   ]
  },
  {
   "cell_type": "code",
   "execution_count": null,
   "id": "609be11d",
   "metadata": {},
   "outputs": [],
   "source": [
    "pa14_corr.head()"
   ]
  },
  {
   "cell_type": "code",
   "execution_count": null,
   "id": "1dcce317",
   "metadata": {},
   "outputs": [],
   "source": [
    "# Get distribution of pairwise distances to determine what a dense region should be\n",
    "squareform(pdist(pao1_corr))"
   ]
  },
  {
   "cell_type": "code",
   "execution_count": null,
   "id": "79472597",
   "metadata": {},
   "outputs": [],
   "source": [
    "squareform(pdist(pa14_corr))"
   ]
  },
  {
   "cell_type": "markdown",
   "id": "b6c56d5c",
   "metadata": {},
   "source": [
    "## Plot correlation"
   ]
  },
  {
   "cell_type": "code",
   "execution_count": null,
   "id": "e73b8429",
   "metadata": {},
   "outputs": [],
   "source": [
    "model_pao1 = umap.UMAP(random_state=123).fit(pao1_corr)\n",
    "\n",
    "pao1_encoded = model_pao1.transform(pao1_corr)\n",
    "\n",
    "pao1_encoded_df = pd.DataFrame(\n",
    "    data=pao1_encoded,\n",
    "    index=pao1_corr.index,\n",
    "    columns=[\"1\", \"2\"],\n",
    ")"
   ]
  },
  {
   "cell_type": "code",
   "execution_count": null,
   "id": "387b71cd",
   "metadata": {},
   "outputs": [],
   "source": [
    "# model_pao1 = pca.fit(normalized_pao1_expression_numeric_df)\n",
    "model_pa14 = umap.UMAP(random_state=123).fit(pao1_corr)\n",
    "\n",
    "pao1_encoded = model_pao1.transform(pao1_corr)\n",
    "\n",
    "pao1_encoded_df = pd.DataFrame(\n",
    "    data=pao1_encoded,\n",
    "    index=pao1_corr.index,\n",
    "    columns=[\"1\", \"2\"],\n",
    ")"
   ]
  },
  {
   "cell_type": "code",
   "execution_count": null,
   "id": "881abd84",
   "metadata": {},
   "outputs": [],
   "source": [
    "# Plot PAO1\n",
    "fig = pn.ggplot(pao1_encoded_df, pn.aes(x=\"1\", y=\"2\"))\n",
    "fig += pn.geom_point(pn.aes(alpha=0.3))\n",
    "fig += pn.labs(x=\"UMAP 1\", y=\"UMAP 2\", title=\"Correlation of PAO1 genes\")\n",
    "fig += pn.theme_bw()\n",
    "fig += pn.theme(\n",
    "    legend_title_align=\"center\",\n",
    "    plot_background=pn.element_rect(fill=\"white\"),\n",
    "    legend_key=pn.element_rect(fill=\"white\", colour=\"white\"),\n",
    "    legend_title=pn.element_text(family=\"sans-serif\", size=15),\n",
    "    legend_text=pn.element_text(family=\"sans-serif\", size=12),\n",
    "    plot_title=pn.element_text(family=\"sans-serif\", size=15),\n",
    "    axis_text=pn.element_text(family=\"sans-serif\", size=12),\n",
    "    axis_title=pn.element_text(family=\"sans-serif\", size=15),\n",
    ")\n",
    "fig += pn.guides(colour=pn.guide_legend(override_aes={\"alpha\": 1}))\n",
    "\n",
    "print(fig)"
   ]
  },
  {
   "cell_type": "code",
   "execution_count": null,
   "id": "ecea3595",
   "metadata": {},
   "outputs": [],
   "source": [
    "# Save\n",
    "pao1_corr_filename = f\"pao1_corr_{corr_threshold}.tsv\"\n",
    "pa14_corr_filename = f\"pa14_corr_{corr_threshold}.tsv\"\n",
    "# pao1_corr.to_csv(pao1_corr_filename, sep=\"\\t\")\n",
    "# pa14_corr.to_csv(pa14_corr_filename, sep=\"\\t\")"
   ]
  }
 ],
 "metadata": {
  "jupytext": {
   "formats": "ipynb,py"
  },
  "kernelspec": {
   "display_name": "Python [conda env:core_acc_env] *",
   "language": "python",
   "name": "conda-env-core_acc_env-py"
  },
  "language_info": {
   "codemirror_mode": {
    "name": "ipython",
    "version": 3
   },
   "file_extension": ".py",
   "mimetype": "text/x-python",
   "name": "python",
   "nbconvert_exporter": "python",
   "pygments_lexer": "ipython3",
   "version": "3.7.10"
  }
 },
 "nbformat": 4,
 "nbformat_minor": 5
}
