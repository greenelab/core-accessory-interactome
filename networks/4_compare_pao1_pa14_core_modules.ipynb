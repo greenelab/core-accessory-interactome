{
 "cells": [
  {
   "cell_type": "markdown",
   "id": "2bb3304b",
   "metadata": {},
   "source": [
    "# PAO1 vs PA14 core modules\n",
    "\n",
    "This notebook compares the core modules from PAO1 and PA14 and tries to determine if they are consistent (i.e. are the same genes grouped in PAO1 also grouped in PA14?)"
   ]
  },
  {
   "cell_type": "code",
   "execution_count": 1,
   "id": "05cdb766",
   "metadata": {},
   "outputs": [],
   "source": [
    "%load_ext autoreload\n",
    "%autoreload 2\n",
    "import os\n",
    "import pandas as pd\n",
    "from core_acc_modules import paths, utils"
   ]
  },
  {
   "cell_type": "code",
   "execution_count": 2,
   "id": "e5dce17d",
   "metadata": {},
   "outputs": [],
   "source": [
    "# User params\n",
    "cluster_method = \"dbscan\""
   ]
  },
  {
   "cell_type": "code",
   "execution_count": 3,
   "id": "df2f87ed",
   "metadata": {},
   "outputs": [],
   "source": [
    "# Load module membership\n",
    "pao1_membership_filename = os.path.join(\n",
    "    paths.LOCAL_DATA_DIR, f\"pao1_modules_{cluster_method}.tsv\"\n",
    ")\n",
    "pa14_membership_filename = os.path.join(\n",
    "    paths.LOCAL_DATA_DIR, f\"pa14_modules_{cluster_method}.tsv\"\n",
    ")"
   ]
  },
  {
   "cell_type": "code",
   "execution_count": 10,
   "id": "2826f94b",
   "metadata": {},
   "outputs": [],
   "source": [
    "pao1_membership = pd.read_csv(pao1_membership_filename, sep=\"\\t\", index_col=0, header=0)\n",
    "pa14_membership = pd.read_csv(pa14_membership_filename, sep=\"\\t\", index_col=0, header=0)"
   ]
  },
  {
   "cell_type": "code",
   "execution_count": 11,
   "id": "dd009c0e",
   "metadata": {},
   "outputs": [
    {
     "name": "stdout",
     "output_type": "stream",
     "text": [
      "(5361, 1)\n"
     ]
    },
    {
     "data": {
      "text/html": [
       "<div>\n",
       "<style scoped>\n",
       "    .dataframe tbody tr th:only-of-type {\n",
       "        vertical-align: middle;\n",
       "    }\n",
       "\n",
       "    .dataframe tbody tr th {\n",
       "        vertical-align: top;\n",
       "    }\n",
       "\n",
       "    .dataframe thead th {\n",
       "        text-align: right;\n",
       "    }\n",
       "</style>\n",
       "<table border=\"1\" class=\"dataframe\">\n",
       "  <thead>\n",
       "    <tr style=\"text-align: right;\">\n",
       "      <th></th>\n",
       "      <th>module id</th>\n",
       "    </tr>\n",
       "  </thead>\n",
       "  <tbody>\n",
       "    <tr>\n",
       "      <th>PA0052</th>\n",
       "      <td>-1</td>\n",
       "    </tr>\n",
       "    <tr>\n",
       "      <th>PA3378</th>\n",
       "      <td>0</td>\n",
       "    </tr>\n",
       "    <tr>\n",
       "      <th>PA0990</th>\n",
       "      <td>0</td>\n",
       "    </tr>\n",
       "    <tr>\n",
       "      <th>PA1590</th>\n",
       "      <td>0</td>\n",
       "    </tr>\n",
       "    <tr>\n",
       "      <th>PA5236</th>\n",
       "      <td>-1</td>\n",
       "    </tr>\n",
       "  </tbody>\n",
       "</table>\n",
       "</div>"
      ],
      "text/plain": [
       "        module id\n",
       "PA0052         -1\n",
       "PA3378          0\n",
       "PA0990          0\n",
       "PA1590          0\n",
       "PA5236         -1"
      ]
     },
     "execution_count": 11,
     "metadata": {},
     "output_type": "execute_result"
    }
   ],
   "source": [
    "print(pao1_membership.shape)\n",
    "pao1_membership.head()"
   ]
  },
  {
   "cell_type": "code",
   "execution_count": 13,
   "id": "cbaa5057",
   "metadata": {},
   "outputs": [
    {
     "name": "stdout",
     "output_type": "stream",
     "text": [
      "(5357, 1)\n"
     ]
    },
    {
     "data": {
      "text/html": [
       "<div>\n",
       "<style scoped>\n",
       "    .dataframe tbody tr th:only-of-type {\n",
       "        vertical-align: middle;\n",
       "    }\n",
       "\n",
       "    .dataframe tbody tr th {\n",
       "        vertical-align: top;\n",
       "    }\n",
       "\n",
       "    .dataframe thead th {\n",
       "        text-align: right;\n",
       "    }\n",
       "</style>\n",
       "<table border=\"1\" class=\"dataframe\">\n",
       "  <thead>\n",
       "    <tr style=\"text-align: right;\">\n",
       "      <th></th>\n",
       "      <th>module id</th>\n",
       "    </tr>\n",
       "  </thead>\n",
       "  <tbody>\n",
       "    <tr>\n",
       "      <th>PA14_04860</th>\n",
       "      <td>0</td>\n",
       "    </tr>\n",
       "    <tr>\n",
       "      <th>PA14_72210</th>\n",
       "      <td>0</td>\n",
       "    </tr>\n",
       "    <tr>\n",
       "      <th>PA14_65050</th>\n",
       "      <td>0</td>\n",
       "    </tr>\n",
       "    <tr>\n",
       "      <th>PA14_42410</th>\n",
       "      <td>0</td>\n",
       "    </tr>\n",
       "    <tr>\n",
       "      <th>PA14_07680</th>\n",
       "      <td>0</td>\n",
       "    </tr>\n",
       "  </tbody>\n",
       "</table>\n",
       "</div>"
      ],
      "text/plain": [
       "            module id\n",
       "PA14_04860          0\n",
       "PA14_72210          0\n",
       "PA14_65050          0\n",
       "PA14_42410          0\n",
       "PA14_07680          0"
      ]
     },
     "execution_count": 13,
     "metadata": {},
     "output_type": "execute_result"
    }
   ],
   "source": [
    "print(pa14_membership.shape)\n",
    "pa14_membership.head()"
   ]
  },
  {
   "cell_type": "markdown",
   "id": "32cd09f1",
   "metadata": {},
   "source": [
    "## Get gene id mapping\n",
    "\n",
    "Get mapping from PAO1 gene ids to PA14 gene ids and vice versa in order to map core modules from PAO1 to PA14 and vice versa"
   ]
  },
  {
   "cell_type": "code",
   "execution_count": 4,
   "id": "cae0c053",
   "metadata": {},
   "outputs": [],
   "source": [
    "pao1_annot_filename = paths.GENE_PAO1_ANNOT\n",
    "pa14_annot_filename = paths.GENE_PA14_ANNOT"
   ]
  },
  {
   "cell_type": "code",
   "execution_count": 5,
   "id": "b81420d1",
   "metadata": {},
   "outputs": [],
   "source": [
    "# Map PA14 gene ids to PAO1 gene ids\n",
    "pao1_to_pa14_map = utils.get_pao1_pa14_gene_map(pao1_annot_filename, \"PAO1\")\n",
    "pa14_to_pao1_map = utils.get_pao1_pa14_gene_map(pao1_annot_filename, \"PA14\")"
   ]
  },
  {
   "cell_type": "code",
   "execution_count": 32,
   "id": "22da36b0",
   "metadata": {
    "scrolled": true
   },
   "outputs": [],
   "source": [
    "pao1_to_pa14_map_dict = pao1_to_pa14_map[\"PA14_ID\"].to_dict()\n",
    "pa14_to_pao1_map_dict = pa14_to_pao1_map[\"PAO1_ID\"].to_dict()"
   ]
  },
  {
   "cell_type": "code",
   "execution_count": 36,
   "id": "9be3be45",
   "metadata": {},
   "outputs": [
    {
     "data": {
      "text/plain": [
       "Name                                 NaN\n",
       "Product.Name        hypothetical protein\n",
       "GeneID.(PAO1)                     877739\n",
       "PA14_ID                       PA14_00650\n",
       "annotation                          core\n",
       "num_mapped_genes                       1\n",
       "Name: PA0052, dtype: object"
      ]
     },
     "execution_count": 36,
     "metadata": {},
     "output_type": "execute_result"
    }
   ],
   "source": [
    "# Test\n",
    "# pa14_to_pao1_map.loc[\"PA14_72210\"]\n",
    "pao1_to_pa14_map.loc[\"PA0052\"]"
   ]
  },
  {
   "cell_type": "code",
   "execution_count": 33,
   "id": "45cc3ebc",
   "metadata": {
    "scrolled": true
   },
   "outputs": [],
   "source": [
    "# Assign genes in PAO1 modules to PA14 gene ids\n",
    "pao1_membership[\"index mapped\"] = (\n",
    "    pao1_membership.reset_index()[\"index\"].map(pao1_to_pa14_map_dict).values\n",
    ")"
   ]
  },
  {
   "cell_type": "code",
   "execution_count": 34,
   "id": "198cf494",
   "metadata": {},
   "outputs": [],
   "source": [
    "# Assign genes in PA14 modules to PAO1 gene ids\n",
    "pa14_membership[\"index mapped\"] = (\n",
    "    pa14_membership.reset_index()[\"index\"].map(pa14_to_pao1_map_dict).values\n",
    ")"
   ]
  },
  {
   "cell_type": "code",
   "execution_count": 31,
   "id": "3104eab9",
   "metadata": {},
   "outputs": [
    {
     "name": "stdout",
     "output_type": "stream",
     "text": [
      "(5357, 2)\n"
     ]
    },
    {
     "data": {
      "text/html": [
       "<div>\n",
       "<style scoped>\n",
       "    .dataframe tbody tr th:only-of-type {\n",
       "        vertical-align: middle;\n",
       "    }\n",
       "\n",
       "    .dataframe tbody tr th {\n",
       "        vertical-align: top;\n",
       "    }\n",
       "\n",
       "    .dataframe thead th {\n",
       "        text-align: right;\n",
       "    }\n",
       "</style>\n",
       "<table border=\"1\" class=\"dataframe\">\n",
       "  <thead>\n",
       "    <tr style=\"text-align: right;\">\n",
       "      <th></th>\n",
       "      <th>module id</th>\n",
       "      <th>index mapped</th>\n",
       "    </tr>\n",
       "  </thead>\n",
       "  <tbody>\n",
       "    <tr>\n",
       "      <th>PA14_04860</th>\n",
       "      <td>0</td>\n",
       "      <td>PA0370</td>\n",
       "    </tr>\n",
       "    <tr>\n",
       "      <th>PA14_72210</th>\n",
       "      <td>0</td>\n",
       "      <td>PA5471</td>\n",
       "    </tr>\n",
       "    <tr>\n",
       "      <th>PA14_65050</th>\n",
       "      <td>0</td>\n",
       "      <td>PA4926</td>\n",
       "    </tr>\n",
       "    <tr>\n",
       "      <th>PA14_42410</th>\n",
       "      <td>0</td>\n",
       "      <td>PA1711</td>\n",
       "    </tr>\n",
       "    <tr>\n",
       "      <th>PA14_07680</th>\n",
       "      <td>0</td>\n",
       "      <td>PA0588</td>\n",
       "    </tr>\n",
       "  </tbody>\n",
       "</table>\n",
       "</div>"
      ],
      "text/plain": [
       "            module id index mapped\n",
       "PA14_04860          0       PA0370\n",
       "PA14_72210          0       PA5471\n",
       "PA14_65050          0       PA4926\n",
       "PA14_42410          0       PA1711\n",
       "PA14_07680          0       PA0588"
      ]
     },
     "execution_count": 31,
     "metadata": {},
     "output_type": "execute_result"
    }
   ],
   "source": [
    "print(pa14_membership.shape)\n",
    "pa14_membership.head()"
   ]
  },
  {
   "cell_type": "code",
   "execution_count": 35,
   "id": "be561c1f",
   "metadata": {},
   "outputs": [
    {
     "name": "stdout",
     "output_type": "stream",
     "text": [
      "(5361, 2)\n"
     ]
    },
    {
     "data": {
      "text/html": [
       "<div>\n",
       "<style scoped>\n",
       "    .dataframe tbody tr th:only-of-type {\n",
       "        vertical-align: middle;\n",
       "    }\n",
       "\n",
       "    .dataframe tbody tr th {\n",
       "        vertical-align: top;\n",
       "    }\n",
       "\n",
       "    .dataframe thead th {\n",
       "        text-align: right;\n",
       "    }\n",
       "</style>\n",
       "<table border=\"1\" class=\"dataframe\">\n",
       "  <thead>\n",
       "    <tr style=\"text-align: right;\">\n",
       "      <th></th>\n",
       "      <th>module id</th>\n",
       "      <th>index mapped</th>\n",
       "    </tr>\n",
       "  </thead>\n",
       "  <tbody>\n",
       "    <tr>\n",
       "      <th>PA0052</th>\n",
       "      <td>-1</td>\n",
       "      <td>PA14_00650</td>\n",
       "    </tr>\n",
       "    <tr>\n",
       "      <th>PA3378</th>\n",
       "      <td>0</td>\n",
       "      <td>PA14_20380</td>\n",
       "    </tr>\n",
       "    <tr>\n",
       "      <th>PA0990</th>\n",
       "      <td>0</td>\n",
       "      <td>PA14_51490</td>\n",
       "    </tr>\n",
       "    <tr>\n",
       "      <th>PA1590</th>\n",
       "      <td>0</td>\n",
       "      <td>PA14_43920</td>\n",
       "    </tr>\n",
       "    <tr>\n",
       "      <th>PA5236</th>\n",
       "      <td>-1</td>\n",
       "      <td>PA14_69140</td>\n",
       "    </tr>\n",
       "  </tbody>\n",
       "</table>\n",
       "</div>"
      ],
      "text/plain": [
       "        module id index mapped\n",
       "PA0052         -1   PA14_00650\n",
       "PA3378          0   PA14_20380\n",
       "PA0990          0   PA14_51490\n",
       "PA1590          0   PA14_43920\n",
       "PA5236         -1   PA14_69140"
      ]
     },
     "execution_count": 35,
     "metadata": {},
     "output_type": "execute_result"
    }
   ],
   "source": [
    "print(pao1_membership.shape)\n",
    "pao1_membership.head()"
   ]
  },
  {
   "cell_type": "markdown",
   "id": "19bf4ebd",
   "metadata": {},
   "source": [
    "## Find modules that best match"
   ]
  },
  {
   "cell_type": "code",
   "execution_count": 45,
   "id": "33998bb0",
   "metadata": {},
   "outputs": [
    {
     "name": "stdout",
     "output_type": "stream",
     "text": [
      "-1\n",
      "        module id index mapped\n",
      "PA0052         -1   PA14_00650\n",
      "PA5236         -1   PA14_69140\n",
      "PA0789         -1   PA14_54040\n",
      "PA4119         -1   PA14_10670\n",
      "PA3682         -1   PA14_16740\n",
      "...           ...          ...\n",
      "PA5350         -1   PA14_70630\n",
      "PA3749         -1   PA14_15920\n",
      "PA4617         -1   PA14_61090\n",
      "PA1012         -1   PA14_51250\n",
      "PA3312         -1   PA14_21180\n",
      "\n",
      "[2041 rows x 2 columns]\n",
      "-1\n",
      "            module id index mapped\n",
      "PA14_12620         -1       PA3962\n",
      "PA14_27220         -1       PA2850\n",
      "PA14_48800         -1       PA1198\n",
      "PA14_26770         -1       PA2884\n",
      "PA14_16700         -1       PA3686\n",
      "...               ...          ...\n",
      "PA14_41350         -1       PA1796\n",
      "PA14_67050         -1       PA5076\n",
      "PA14_02730         -1       PA0223\n",
      "PA14_25530         -1       PA2979\n",
      "PA14_12780         -1       PA3948\n",
      "\n",
      "[2008 rows x 2 columns]\n"
     ]
    }
   ],
   "source": [
    "# PAO1 --> PA14\n",
    "num_pao1_genes = len(pao1_core)\n",
    "\n",
    "# For each module in PAO1\n",
    "for pao1_group_name, pao1_df_group in pao1_membership.groupby(\"module id\"):\n",
    "    print(pao1_group_name)\n",
    "    print(pao1_df_group)\n",
    "\n",
    "    # Find the PA14 module with the best overlap\n",
    "    for pa14_group_name, pa14_df_group in pa14_membership.groupby(\"module id\"):\n",
    "        print(pa14_group_name)\n",
    "        print(pa14_df_group)\n",
    "\n",
    "        # TO DO\n",
    "        # Update based this analysis\n",
    "        # Save p-values and best group_name\n",
    "        num_generic_Crow_genes = shared_ranking.query(f\"{ref_rank_col}>=80.0\").shape[0]\n",
    "        num_generic_SOPHIE_genes = shared_ranking[\n",
    "            shared_ranking[\"Percentile (simulated)\"] >= percentile_threshold\n",
    "        ].shape[0]\n",
    "        num_concordant_generic_genes = shared_ranking[\n",
    "            (shared_ranking[ref_rank_col] >= percentile_threshold)\n",
    "            & (shared_ranking[\"Percentile (simulated)\"] >= percentile_threshold)\n",
    "        ].shape[0]\n",
    "\n",
    "        print(num_Crow_genes)\n",
    "        print(num_generic_Crow_genes)\n",
    "        print(num_generic_SOPHIE_genes)\n",
    "        print(num_concordant_generic_genes)\n",
    "\n",
    "        p = ss.hypergeom.sf(\n",
    "            num_concordant_generic_genes,\n",
    "            num_pao1_genes,\n",
    "            num_generic_Crow_genes,\n",
    "            num_generic_SOPHIE_genes,\n",
    "        )\n",
    "        print(p)\n",
    "        break\n",
    "    break\n",
    "    # Store p-values"
   ]
  },
  {
   "cell_type": "code",
   "execution_count": null,
   "id": "fb1131c7",
   "metadata": {},
   "outputs": [],
   "source": [
    "# TO DO\n",
    "# Plot pvalue dist"
   ]
  }
 ],
 "metadata": {
  "jupytext": {
   "formats": "ipynb,py"
  },
  "kernelspec": {
   "display_name": "Python [conda env:core_acc] *",
   "language": "python",
   "name": "conda-env-core_acc-py"
  },
  "language_info": {
   "codemirror_mode": {
    "name": "ipython",
    "version": 3
   },
   "file_extension": ".py",
   "mimetype": "text/x-python",
   "name": "python",
   "nbconvert_exporter": "python",
   "pygments_lexer": "ipython3",
   "version": "3.7.10"
  }
 },
 "nbformat": 4,
 "nbformat_minor": 5
}
