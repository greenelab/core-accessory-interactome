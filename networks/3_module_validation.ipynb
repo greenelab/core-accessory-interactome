{
 "cells": [
  {
   "cell_type": "markdown",
   "id": "5751294e",
   "metadata": {},
   "source": [
    "## Quick validation of network modules"
   ]
  },
  {
   "cell_type": "code",
   "execution_count": 1,
   "id": "78c2e4c4",
   "metadata": {},
   "outputs": [
    {
     "name": "stderr",
     "output_type": "stream",
     "text": [
      "/home/alexandra/anaconda3/envs/core_acc/lib/python3.7/site-packages/matplotlib/__init__.py:886: MatplotlibDeprecationWarning: \n",
      "examples.directory is deprecated; in the future, examples will be found relative to the 'datapath' directory.\n",
      "  \"found relative to the 'datapath' directory.\".format(key))\n"
     ]
    }
   ],
   "source": [
    "%load_ext autoreload\n",
    "%autoreload 2\n",
    "%matplotlib inline\n",
    "import os\n",
    "import scipy\n",
    "import pandas as pd\n",
    "import numpy as np\n",
    "import seaborn as sns\n",
    "import matplotlib.pyplot as plt\n",
    "from core_acc_modules import utils, paths\n",
    "\n",
    "np.random.seed(1)"
   ]
  },
  {
   "cell_type": "code",
   "execution_count": 2,
   "id": "8b9bd867",
   "metadata": {},
   "outputs": [],
   "source": [
    "# User params\n",
    "# Params to examine module size\n",
    "clustering_method_list = [\"dbscan\", \"hierarchal\", \"affinity\", \"louvain\", \"infomap\"]\n",
    "\n",
    "# Params for regulon/operon coverage\n",
    "# Clustering method to examine regulon/operon coverage\n",
    "# This method needs to be one of the ones listed above in `clustering_method_list`\n",
    "method_toexamine = \"affinity\"\n",
    "\n",
    "# Remove modules of this size or greater for analysis looking at coverage of regulon/operons\n",
    "module_size_threshold = 1000\n",
    "\n",
    "# Seed to use to randomly sample a matched-sized set of genes\n",
    "# to compare against regulon/operon composition\n",
    "sample_seed = 1"
   ]
  },
  {
   "cell_type": "markdown",
   "id": "5c450372",
   "metadata": {},
   "source": [
    "## Examine size of modules\n",
    "\n",
    "This will serve as a quick check that we are using reasonable clustering params in [2_get_network_communities.ipynb](2_get_network_communities.ipynb)"
   ]
  },
  {
   "cell_type": "code",
   "execution_count": 3,
   "id": "db1d3832",
   "metadata": {
    "scrolled": true
   },
   "outputs": [
    {
     "name": "stdout",
     "output_type": "stream",
     "text": [
      "Modules using clustering method: dbscan\n",
      " 0     3075\n",
      "-1     2041\n",
      " 1       47\n",
      " 6       18\n",
      " 7       13\n",
      " 4       12\n",
      " 5       11\n",
      " 2       10\n",
      " 10       9\n",
      " 23       8\n",
      " 8        7\n",
      " 30       7\n",
      " 12       6\n",
      " 13       6\n",
      " 33       6\n",
      " 14       5\n",
      " 15       5\n",
      " 11       5\n",
      " 21       5\n",
      " 16       5\n",
      " 9        5\n",
      " 24       5\n",
      " 28       5\n",
      " 32       4\n",
      " 19       4\n",
      " 20       4\n",
      " 31       4\n",
      " 18       4\n",
      " 22       4\n",
      " 17       4\n",
      " 25       4\n",
      " 29       4\n",
      " 26       3\n",
      " 27       3\n",
      " 3        3\n",
      "Name: module id, dtype: int64\n",
      " 0     3215\n",
      "-1     2008\n",
      " 6       20\n",
      " 5       14\n",
      " 7       12\n",
      " 8       12\n",
      " 11       7\n",
      " 9        7\n",
      " 19       6\n",
      " 2        5\n",
      " 13       5\n",
      " 14       5\n",
      " 18       5\n",
      " 20       5\n",
      " 16       5\n",
      " 12       5\n",
      " 17       5\n",
      " 10       4\n",
      " 15       3\n",
      " 1        3\n",
      " 3        3\n",
      " 4        3\n",
      "Name: module id, dtype: int64\n",
      "Modules using clustering method: hierarchal\n",
      "94      49\n",
      "967     39\n",
      "838     38\n",
      "239     37\n",
      "282     32\n",
      "        ..\n",
      "2583     1\n",
      "2587     1\n",
      "2591     1\n",
      "2595     1\n",
      "2045     1\n",
      "Name: module id, Length: 2717, dtype: int64\n",
      "377     39\n",
      "331     38\n",
      "1203    37\n",
      "204     33\n",
      "37      31\n",
      "        ..\n",
      "2579     1\n",
      "538      1\n",
      "2587     1\n",
      "2591     1\n",
      "2045     1\n",
      "Name: module id, Length: 2755, dtype: int64\n",
      "Modules using clustering method: affinity\n",
      "298    119\n",
      "413     83\n",
      "39      68\n",
      "75      44\n",
      "364     34\n",
      "      ... \n",
      "453      3\n",
      "323      3\n",
      "124      3\n",
      "86       3\n",
      "359      2\n",
      "Name: module id, Length: 517, dtype: int64\n",
      "82     82\n",
      "534    35\n",
      "47     33\n",
      "542    29\n",
      "183    28\n",
      "       ..\n",
      "529     3\n",
      "358     3\n",
      "496     3\n",
      "539     3\n",
      "402     3\n",
      "Name: module id, Length: 549, dtype: int64\n",
      "Modules using clustering method: louvain\n",
      "0    1677\n",
      "6    1374\n",
      "4    1070\n",
      "3     556\n",
      "5     490\n",
      "2     205\n",
      "1     191\n",
      "Name: module id, dtype: int64\n",
      "0    1824\n",
      "4    1628\n",
      "1     994\n",
      "6     710\n",
      "3     350\n",
      "2     270\n",
      "5     115\n",
      "Name: module id, dtype: int64\n",
      "Modules using clustering method: infomap\n",
      "0       3\n",
      "2       3\n",
      "3       3\n",
      "1       3\n",
      "2524    2\n",
      "       ..\n",
      "2782    1\n",
      "2747    1\n",
      "2786    1\n",
      "2790    1\n",
      "2746    1\n",
      "Name: module id, Length: 2823, dtype: int64\n",
      "2047    2\n",
      "2552    2\n",
      "521     2\n",
      "2568    2\n",
      "517     2\n",
      "       ..\n",
      "2923    1\n",
      "2910    1\n",
      "2914    1\n",
      "2927    1\n",
      "2926    1\n",
      "Name: module id, Length: 2990, dtype: int64\n"
     ]
    }
   ],
   "source": [
    "for method_name in clustering_method_list:\n",
    "    print(f\"Modules using clustering method: {method_name}\")\n",
    "    pao1_membership_filename = os.path.join(\n",
    "        paths.LOCAL_DATA_DIR, f\"pao1_modules_{method_name}.tsv\"\n",
    "    )\n",
    "    pa14_membership_filename = os.path.join(\n",
    "        paths.LOCAL_DATA_DIR, f\"pa14_modules_{method_name}.tsv\"\n",
    "    )\n",
    "\n",
    "    pao1_membership = pd.read_csv(\n",
    "        pao1_membership_filename, sep=\"\\t\", header=0, index_col=0\n",
    "    )\n",
    "    pa14_membership = pd.read_csv(\n",
    "        pa14_membership_filename, sep=\"\\t\", header=0, index_col=0\n",
    "    )\n",
    "    # Note: Sort module ids by occurence for plotting later\n",
    "    pao1_membership.sort_values(by=\"module id\", ascending=False, inplace=True)\n",
    "    pa14_membership.sort_values(by=\"module id\", ascending=False, inplace=True)\n",
    "\n",
    "    print(pao1_membership[\"module id\"].value_counts())\n",
    "    print(pa14_membership[\"module id\"].value_counts())"
   ]
  },
  {
   "cell_type": "code",
   "execution_count": 4,
   "id": "f7dcea7b",
   "metadata": {},
   "outputs": [],
   "source": [
    "# plotting function\n",
    "def plot_dist_modules(clustering_method_list):\n",
    "\n",
    "    # Set up the matplotlib figure\n",
    "    fig, axes = plt.subplots(ncols=2, nrows=3, figsize=(15, 15))\n",
    "    axes = axes.ravel()\n",
    "\n",
    "    for i in range(len(clustering_method_list)):\n",
    "        pao1_membership_filename = os.path.join(\n",
    "            paths.LOCAL_DATA_DIR, f\"pao1_modules_{clustering_method_list[i]}.tsv\"\n",
    "        )\n",
    "        pa14_membership_filename = os.path.join(\n",
    "            paths.LOCAL_DATA_DIR, f\"pa14_modules_{clustering_method_list[i]}.tsv\"\n",
    "        )\n",
    "\n",
    "        pao1_membership = pd.read_csv(\n",
    "            pao1_membership_filename, sep=\"\\t\", header=0, index_col=0\n",
    "        )\n",
    "        pa14_membership = pd.read_csv(\n",
    "            pa14_membership_filename, sep=\"\\t\", header=0, index_col=0\n",
    "        )\n",
    "\n",
    "        fig = (\n",
    "            pao1_membership[\"module id\"]\n",
    "            .value_counts()\n",
    "            .sort_values(ascending=False)\n",
    "            .reset_index()[\"module id\"]\n",
    "            .plot(ax=axes[i])\n",
    "        )\n",
    "        fig = (\n",
    "            pa14_membership[\"module id\"]\n",
    "            .value_counts()\n",
    "            .sort_values(ascending=False)\n",
    "            .reset_index()[\"module id\"]\n",
    "            .plot(ax=axes[i])\n",
    "        )\n",
    "\n",
    "        fig.set_title(\n",
    "            f\"Histogram of size of modules using {clustering_method_list[i]}\",\n",
    "            fontsize=12,\n",
    "        )\n",
    "        handles, labels = fig.get_legend_handles_labels()\n",
    "        fig.legend(handles, [\"PAO1\", \"PA14\"], loc=\"upper right\")"
   ]
  },
  {
   "cell_type": "code",
   "execution_count": 5,
   "id": "81f67d24",
   "metadata": {
    "scrolled": false
   },
   "outputs": [
    {
     "data": {
      "image/png": "[encoded data removed]",
      "text/plain": [
       "<Figure size 1080x1080 with 6 Axes>"
      ]
     },
     "metadata": {
      "needs_background": "light"
     },
     "output_type": "display_data"
    }
   ],
   "source": [
    "# Plot distribution of modules per clustering method\n",
    "plot_dist_modules(clustering_method_list)"
   ]
  },
  {
   "cell_type": "markdown",
   "id": "61e755b9",
   "metadata": {},
   "source": [
    "**Takeaway:**\n",
    "Our expectation on size of modules would be 2-50 genes. Most operons have fewer than 10 genes and most regulons have fewer than 100 genes. Some examples that demonstrate the size of co-expression networks can be found in papers using ADAGE signatures to define modules:\n",
    "* Figure 5 in [eADAGE paper](https://bmcbioinformatics.biomedcentral.com/track/pdf/10.1186/s12859-017-1905-4.pdf)\n",
    "* Figure 7 in [Harty et al. paper](https://www.ncbi.nlm.nih.gov/pmc/articles/PMC6531624/)\n",
    "* Figure 2 in [Doing et al. paper](https://journals.plos.org/plosgenetics/article?id=10.1371/journal.pgen.1008783)\n",
    "\n",
    "What did we find? Which method follows our expectation? This is the one we will move forward.\n",
    "* Looks like there is one large modules using DBSCAN clustering\n",
    "* There are more even sized modules using hierarchal clustering and affinity propogation so we will probably use one of these 2 methods."
   ]
  },
  {
   "cell_type": "markdown",
   "id": "802e9dfc",
   "metadata": {},
   "source": [
    "## Examine composition of modules\n",
    "\n",
    "This is a negative control. We expect that genes within the same operon or regulon will cluster together (i.e. be within the same module). To test this we will compare the distribution of the number of modules that contain genes within the same regulon vs the number of modules that contain random genes\n",
    "\n",
    "_Some definitions:_\n",
    "\n",
    "[Operons](https://en.wikipedia.org/wiki/Operon#:~:text=An%20operon%20is%20made%20up,transcription%20of%20the%20structural%20genes.) are a group of genes that share a promoter (DNA sequence that is recognized by RNA polymerase and enables transcription) and an operator (DNA sequence that repressor binds to and blocks RNA polymerase). Therefore these group of genes are transcribed or turned off together (so we would expect a very high correlation amongst these genes)\n",
    "\n",
    "[Regulons](https://en.wikipedia.org/wiki/Regulon) are a group of genes that are regulated by the same regulatory protein. A regulon can be composed of multiple operons."
   ]
  },
  {
   "cell_type": "code",
   "execution_count": 6,
   "id": "21672049",
   "metadata": {},
   "outputs": [],
   "source": [
    "# Load PAO1 regulon and operon file\n",
    "pao1_regulon_filename = paths.PAO1_REGULON\n",
    "pao1_operon_filename = paths.PAO1_OPERON\n",
    "\n",
    "# Load membership for specific clustering method\n",
    "pao1_membership_filename = os.path.join(\n",
    "    paths.LOCAL_DATA_DIR, f\"pao1_modules_{method_toexamine}.tsv\"\n",
    ")\n",
    "pa14_membership_filename = os.path.join(\n",
    "    paths.LOCAL_DATA_DIR, f\"pa14_modules_{method_toexamine}.tsv\"\n",
    ")\n",
    "\n",
    "pao1_membership = pd.read_csv(pao1_membership_filename, sep=\"\\t\", header=0, index_col=0)\n",
    "pa14_membership = pd.read_csv(pa14_membership_filename, sep=\"\\t\", header=0, index_col=0)"
   ]
  },
  {
   "cell_type": "code",
   "execution_count": 7,
   "id": "c16c11ca",
   "metadata": {},
   "outputs": [
    {
     "data": {
      "text/html": [
       "<div>\n",
       "<style scoped>\n",
       "    .dataframe tbody tr th:only-of-type {\n",
       "        vertical-align: middle;\n",
       "    }\n",
       "\n",
       "    .dataframe tbody tr th {\n",
       "        vertical-align: top;\n",
       "    }\n",
       "\n",
       "    .dataframe thead th {\n",
       "        text-align: right;\n",
       "    }\n",
       "</style>\n",
       "<table border=\"1\" class=\"dataframe\">\n",
       "  <thead>\n",
       "    <tr style=\"text-align: right;\">\n",
       "      <th></th>\n",
       "      <th>module id</th>\n",
       "    </tr>\n",
       "  </thead>\n",
       "  <tbody>\n",
       "    <tr>\n",
       "      <th>PA0052</th>\n",
       "      <td>298</td>\n",
       "    </tr>\n",
       "    <tr>\n",
       "      <th>PA3378</th>\n",
       "      <td>471</td>\n",
       "    </tr>\n",
       "    <tr>\n",
       "      <th>PA0990</th>\n",
       "      <td>75</td>\n",
       "    </tr>\n",
       "    <tr>\n",
       "      <th>PA1590</th>\n",
       "      <td>482</td>\n",
       "    </tr>\n",
       "    <tr>\n",
       "      <th>PA5236</th>\n",
       "      <td>371</td>\n",
       "    </tr>\n",
       "  </tbody>\n",
       "</table>\n",
       "</div>"
      ],
      "text/plain": [
       "        module id\n",
       "PA0052        298\n",
       "PA3378        471\n",
       "PA0990         75\n",
       "PA1590        482\n",
       "PA5236        371"
      ]
     },
     "execution_count": 7,
     "metadata": {},
     "output_type": "execute_result"
    }
   ],
   "source": [
    "pao1_membership.head()"
   ]
  },
  {
   "cell_type": "code",
   "execution_count": 8,
   "id": "148930a9",
   "metadata": {},
   "outputs": [
    {
     "data": {
      "text/html": [
       "<div>\n",
       "<style scoped>\n",
       "    .dataframe tbody tr th:only-of-type {\n",
       "        vertical-align: middle;\n",
       "    }\n",
       "\n",
       "    .dataframe tbody tr th {\n",
       "        vertical-align: top;\n",
       "    }\n",
       "\n",
       "    .dataframe thead th {\n",
       "        text-align: right;\n",
       "    }\n",
       "</style>\n",
       "<table border=\"1\" class=\"dataframe\">\n",
       "  <thead>\n",
       "    <tr style=\"text-align: right;\">\n",
       "      <th></th>\n",
       "      <th>module id</th>\n",
       "    </tr>\n",
       "  </thead>\n",
       "  <tbody>\n",
       "    <tr>\n",
       "      <th>PA14_04860</th>\n",
       "      <td>319</td>\n",
       "    </tr>\n",
       "    <tr>\n",
       "      <th>PA14_72210</th>\n",
       "      <td>0</td>\n",
       "    </tr>\n",
       "    <tr>\n",
       "      <th>PA14_65050</th>\n",
       "      <td>438</td>\n",
       "    </tr>\n",
       "    <tr>\n",
       "      <th>PA14_42410</th>\n",
       "      <td>528</td>\n",
       "    </tr>\n",
       "    <tr>\n",
       "      <th>PA14_07680</th>\n",
       "      <td>485</td>\n",
       "    </tr>\n",
       "  </tbody>\n",
       "</table>\n",
       "</div>"
      ],
      "text/plain": [
       "            module id\n",
       "PA14_04860        319\n",
       "PA14_72210          0\n",
       "PA14_65050        438\n",
       "PA14_42410        528\n",
       "PA14_07680        485"
      ]
     },
     "execution_count": 8,
     "metadata": {},
     "output_type": "execute_result"
    }
   ],
   "source": [
    "pa14_membership.head()"
   ]
  },
  {
   "cell_type": "markdown",
   "id": "da66ea8e",
   "metadata": {},
   "source": [
    "According to Jake relationships tend to be more meaningful if the module is smaller (e.g. if an operon with 5 genes is contained in a module consisting of 10 total genes, this seems more biologically/functionally meaningful than an operon with 5 genes contained in a module consisting of 500 genes).\n",
    "\n",
    "To correct for the single or couple very large modules, we will remove them from the analysis"
   ]
  },
  {
   "cell_type": "code",
   "execution_count": 9,
   "id": "ee69e935",
   "metadata": {},
   "outputs": [
    {
     "name": "stdout",
     "output_type": "stream",
     "text": [
      "Int64Index([], dtype='int64')\n"
     ]
    }
   ],
   "source": [
    "# Get module ids that exceed size limit\n",
    "module_todrop = (\n",
    "    pao1_membership[\"module id\"]\n",
    "    .value_counts()[\n",
    "        (pao1_membership[\"module id\"].value_counts() > module_size_threshold)\n",
    "    ]\n",
    "    .index\n",
    ")\n",
    "\n",
    "print(module_todrop)"
   ]
  },
  {
   "cell_type": "code",
   "execution_count": 10,
   "id": "400ebd2f",
   "metadata": {
    "scrolled": true
   },
   "outputs": [],
   "source": [
    "# Get genes to drop\n",
    "genes_todrop = pao1_membership[pao1_membership[\"module id\"].isin(module_todrop)].index\n",
    "\n",
    "# Drop genes\n",
    "pao1_membership = pao1_membership.drop(genes_todrop)"
   ]
  },
  {
   "cell_type": "markdown",
   "id": "65a976b6",
   "metadata": {},
   "source": [
    "### Format operon/regulon files\n",
    "\n",
    "* Remove genes from operons/regulons that don't have membership information\n",
    "* Make random list of genes with matched size\n",
    "* There are many single gene operons, we will remove these for this analysis"
   ]
  },
  {
   "cell_type": "code",
   "execution_count": 11,
   "id": "4081d224",
   "metadata": {
    "scrolled": true
   },
   "outputs": [
    {
     "name": "stdout",
     "output_type": "stream",
     "text": [
      "(3816, 8)\n"
     ]
    },
    {
     "data": {
      "text/html": [
       "<div>\n",
       "<style scoped>\n",
       "    .dataframe tbody tr th:only-of-type {\n",
       "        vertical-align: middle;\n",
       "    }\n",
       "\n",
       "    .dataframe tbody tr th {\n",
       "        vertical-align: top;\n",
       "    }\n",
       "\n",
       "    .dataframe thead th {\n",
       "        text-align: right;\n",
       "    }\n",
       "</style>\n",
       "<table border=\"1\" class=\"dataframe\">\n",
       "  <thead>\n",
       "    <tr style=\"text-align: right;\">\n",
       "      <th></th>\n",
       "      <th>operon_name</th>\n",
       "      <th>locus_tag</th>\n",
       "      <th>start</th>\n",
       "      <th>end</th>\n",
       "      <th>strand</th>\n",
       "      <th>gene_name</th>\n",
       "      <th>source_database</th>\n",
       "      <th>pmid</th>\n",
       "    </tr>\n",
       "    <tr>\n",
       "      <th>operon-id</th>\n",
       "      <th></th>\n",
       "      <th></th>\n",
       "      <th></th>\n",
       "      <th></th>\n",
       "      <th></th>\n",
       "      <th></th>\n",
       "      <th></th>\n",
       "      <th></th>\n",
       "    </tr>\n",
       "  </thead>\n",
       "  <tbody>\n",
       "    <tr>\n",
       "      <th>operon-1</th>\n",
       "      <td>dnaA-dnaN-recF-gyrB</td>\n",
       "      <td>PA0001</td>\n",
       "      <td>483</td>\n",
       "      <td>2027</td>\n",
       "      <td>1</td>\n",
       "      <td>dnaA</td>\n",
       "      <td>DOOR</td>\n",
       "      <td>18988623</td>\n",
       "    </tr>\n",
       "    <tr>\n",
       "      <th>operon-1</th>\n",
       "      <td>dnaA-dnaN-recF-gyrB</td>\n",
       "      <td>PA0002</td>\n",
       "      <td>2056</td>\n",
       "      <td>3159</td>\n",
       "      <td>1</td>\n",
       "      <td>dnaN</td>\n",
       "      <td>DOOR</td>\n",
       "      <td>18988623</td>\n",
       "    </tr>\n",
       "    <tr>\n",
       "      <th>operon-1</th>\n",
       "      <td>dnaA-dnaN-recF-gyrB</td>\n",
       "      <td>PA0003</td>\n",
       "      <td>3169</td>\n",
       "      <td>4278</td>\n",
       "      <td>1</td>\n",
       "      <td>recF</td>\n",
       "      <td>DOOR</td>\n",
       "      <td>18988623</td>\n",
       "    </tr>\n",
       "    <tr>\n",
       "      <th>operon-1</th>\n",
       "      <td>dnaA-dnaN-recF-gyrB</td>\n",
       "      <td>PA0004</td>\n",
       "      <td>4275</td>\n",
       "      <td>6695</td>\n",
       "      <td>1</td>\n",
       "      <td>gyrB</td>\n",
       "      <td>DOOR</td>\n",
       "      <td>18988623</td>\n",
       "    </tr>\n",
       "    <tr>\n",
       "      <th>operon-2</th>\n",
       "      <td>PA0006-lptA</td>\n",
       "      <td>PA0005</td>\n",
       "      <td>7018</td>\n",
       "      <td>7791</td>\n",
       "      <td>-1</td>\n",
       "      <td>lptA</td>\n",
       "      <td>DOOR</td>\n",
       "      <td>18988623</td>\n",
       "    </tr>\n",
       "  </tbody>\n",
       "</table>\n",
       "</div>"
      ],
      "text/plain": [
       "                   operon_name locus_tag  start   end  strand gene_name  \\\n",
       "operon-id                                                                 \n",
       "operon-1   dnaA-dnaN-recF-gyrB    PA0001    483  2027       1      dnaA   \n",
       "operon-1   dnaA-dnaN-recF-gyrB    PA0002   2056  3159       1      dnaN   \n",
       "operon-1   dnaA-dnaN-recF-gyrB    PA0003   3169  4278       1      recF   \n",
       "operon-1   dnaA-dnaN-recF-gyrB    PA0004   4275  6695       1      gyrB   \n",
       "operon-2           PA0006-lptA    PA0005   7018  7791      -1      lptA   \n",
       "\n",
       "          source_database      pmid  \n",
       "operon-id                            \n",
       "operon-1             DOOR  18988623  \n",
       "operon-1             DOOR  18988623  \n",
       "operon-1             DOOR  18988623  \n",
       "operon-1             DOOR  18988623  \n",
       "operon-2             DOOR  18988623  "
      ]
     },
     "execution_count": 11,
     "metadata": {},
     "output_type": "execute_result"
    }
   ],
   "source": [
    "# Read file\n",
    "pao1_operon = pd.read_csv(pao1_operon_filename, index_col=0, header=0)\n",
    "pao1_regulon = pd.read_csv(pao1_regulon_filename, index_col=0, header=0)\n",
    "\n",
    "print(pao1_operon.shape)\n",
    "pao1_operon.head()"
   ]
  },
  {
   "cell_type": "code",
   "execution_count": 12,
   "id": "6dad023d",
   "metadata": {},
   "outputs": [
    {
     "name": "stdout",
     "output_type": "stream",
     "text": [
      "(17, 2)\n"
     ]
    },
    {
     "data": {
      "text/html": [
       "<div>\n",
       "<style scoped>\n",
       "    .dataframe tbody tr th:only-of-type {\n",
       "        vertical-align: middle;\n",
       "    }\n",
       "\n",
       "    .dataframe tbody tr th {\n",
       "        vertical-align: top;\n",
       "    }\n",
       "\n",
       "    .dataframe thead th {\n",
       "        text-align: right;\n",
       "    }\n",
       "</style>\n",
       "<table border=\"1\" class=\"dataframe\">\n",
       "  <thead>\n",
       "    <tr style=\"text-align: right;\">\n",
       "      <th></th>\n",
       "      <th>Lengths</th>\n",
       "      <th>Genes</th>\n",
       "    </tr>\n",
       "    <tr>\n",
       "      <th>Regulon</th>\n",
       "      <th></th>\n",
       "      <th></th>\n",
       "    </tr>\n",
       "  </thead>\n",
       "  <tbody>\n",
       "    <tr>\n",
       "      <th>Anr_regulon</th>\n",
       "      <td>72</td>\n",
       "      <td>PA5475;PA1673;PA5027;PA3337;PA4348;PA4347;PA43...</td>\n",
       "    </tr>\n",
       "    <tr>\n",
       "      <th>PhoB_regulon</th>\n",
       "      <td>160</td>\n",
       "      <td>PA0050;PA0051;PA0082;PA0102;PA0105;PA0165;PA01...</td>\n",
       "    </tr>\n",
       "    <tr>\n",
       "      <th>PvdR_regulon</th>\n",
       "      <td>14</td>\n",
       "      <td>PA2386;PA2399;PA2397;PA2396;PA2425;PA2413;PA24...</td>\n",
       "    </tr>\n",
       "    <tr>\n",
       "      <th>PchR_regulon</th>\n",
       "      <td>12</td>\n",
       "      <td>PA4231;PA4230;PA4229;PA4228;PA4226;PA4225;PA42...</td>\n",
       "    </tr>\n",
       "    <tr>\n",
       "      <th>AlgU_regulon</th>\n",
       "      <td>238</td>\n",
       "      <td>PA0059;PA0060;PA0061;PA0062;PA0071;PA0134;PA01...</td>\n",
       "    </tr>\n",
       "  </tbody>\n",
       "</table>\n",
       "</div>"
      ],
      "text/plain": [
       "              Lengths                                              Genes\n",
       "Regulon                                                                 \n",
       "Anr_regulon        72  PA5475;PA1673;PA5027;PA3337;PA4348;PA4347;PA43...\n",
       "PhoB_regulon      160  PA0050;PA0051;PA0082;PA0102;PA0105;PA0165;PA01...\n",
       "PvdR_regulon       14  PA2386;PA2399;PA2397;PA2396;PA2425;PA2413;PA24...\n",
       "PchR_regulon       12  PA4231;PA4230;PA4229;PA4228;PA4226;PA4225;PA42...\n",
       "AlgU_regulon      238  PA0059;PA0060;PA0061;PA0062;PA0071;PA0134;PA01..."
      ]
     },
     "execution_count": 12,
     "metadata": {},
     "output_type": "execute_result"
    }
   ],
   "source": [
    "print(pao1_regulon.shape)\n",
    "pao1_regulon.head()"
   ]
  },
  {
   "cell_type": "code",
   "execution_count": 13,
   "id": "1cdade4d",
   "metadata": {},
   "outputs": [
    {
     "ename": "KeyError",
     "evalue": "'Genes'",
     "output_type": "error",
     "traceback": [
      "\u001b[0;31m---------------------------------------------------------------------------\u001b[0m",
      "\u001b[0;31mKeyError\u001b[0m                                  Traceback (most recent call last)",
      "\u001b[0;32m~/anaconda3/envs/core_acc/lib/python3.7/site-packages/pandas/core/indexes/base.py\u001b[0m in \u001b[0;36mget_loc\u001b[0;34m(self, key, method, tolerance)\u001b[0m\n\u001b[1;32m   2888\u001b[0m             \u001b[0;32mtry\u001b[0m\u001b[0;34m:\u001b[0m\u001b[0;34m\u001b[0m\u001b[0;34m\u001b[0m\u001b[0m\n\u001b[0;32m-> 2889\u001b[0;31m                 \u001b[0;32mreturn\u001b[0m \u001b[0mself\u001b[0m\u001b[0;34m.\u001b[0m\u001b[0m_engine\u001b[0m\u001b[0;34m.\u001b[0m\u001b[0mget_loc\u001b[0m\u001b[0;34m(\u001b[0m\u001b[0mcasted_key\u001b[0m\u001b[0;34m)\u001b[0m\u001b[0;34m\u001b[0m\u001b[0;34m\u001b[0m\u001b[0m\n\u001b[0m\u001b[1;32m   2890\u001b[0m             \u001b[0;32mexcept\u001b[0m \u001b[0mKeyError\u001b[0m \u001b[0;32mas\u001b[0m \u001b[0merr\u001b[0m\u001b[0;34m:\u001b[0m\u001b[0;34m\u001b[0m\u001b[0;34m\u001b[0m\u001b[0m\n",
      "\u001b[0;32mpandas/_libs/index.pyx\u001b[0m in \u001b[0;36mpandas._libs.index.IndexEngine.get_loc\u001b[0;34m()\u001b[0m\n",
      "\u001b[0;32mpandas/_libs/index.pyx\u001b[0m in \u001b[0;36mpandas._libs.index.IndexEngine.get_loc\u001b[0;34m()\u001b[0m\n",
      "\u001b[0;32mpandas/_libs/hashtable_class_helper.pxi\u001b[0m in \u001b[0;36mpandas._libs.hashtable.PyObjectHashTable.get_item\u001b[0;34m()\u001b[0m\n",
      "\u001b[0;32mpandas/_libs/hashtable_class_helper.pxi\u001b[0m in \u001b[0;36mpandas._libs.hashtable.PyObjectHashTable.get_item\u001b[0;34m()\u001b[0m\n",
      "\u001b[0;31mKeyError\u001b[0m: 'Genes'",
      "\nThe above exception was the direct cause of the following exception:\n",
      "\u001b[0;31mKeyError\u001b[0m                                  Traceback (most recent call last)",
      "\u001b[0;32m<ipython-input-13-c8d11bdc342e>\u001b[0m in \u001b[0;36m<module>\u001b[0;34m\u001b[0m\n\u001b[1;32m      1\u001b[0m \u001b[0;31m# Convert \"Genes\" column from str to list\u001b[0m\u001b[0;34m\u001b[0m\u001b[0;34m\u001b[0m\u001b[0;34m\u001b[0m\u001b[0m\n\u001b[0;32m----> 2\u001b[0;31m \u001b[0mpao1_operon\u001b[0m\u001b[0;34m[\u001b[0m\u001b[0;34m\"Genes\"\u001b[0m\u001b[0;34m]\u001b[0m \u001b[0;34m=\u001b[0m \u001b[0mpao1_operon\u001b[0m\u001b[0;34m[\u001b[0m\u001b[0;34m\"Genes\"\u001b[0m\u001b[0;34m]\u001b[0m\u001b[0;34m.\u001b[0m\u001b[0mstr\u001b[0m\u001b[0;34m.\u001b[0m\u001b[0msplit\u001b[0m\u001b[0;34m(\u001b[0m\u001b[0;34m\";\"\u001b[0m\u001b[0;34m)\u001b[0m\u001b[0;34m\u001b[0m\u001b[0;34m\u001b[0m\u001b[0m\n\u001b[0m\u001b[1;32m      3\u001b[0m \u001b[0mpao1_regulon\u001b[0m\u001b[0;34m[\u001b[0m\u001b[0;34m\"Genes\"\u001b[0m\u001b[0;34m]\u001b[0m \u001b[0;34m=\u001b[0m \u001b[0mpao1_regulon\u001b[0m\u001b[0;34m[\u001b[0m\u001b[0;34m\"Genes\"\u001b[0m\u001b[0;34m]\u001b[0m\u001b[0;34m.\u001b[0m\u001b[0mstr\u001b[0m\u001b[0;34m.\u001b[0m\u001b[0msplit\u001b[0m\u001b[0;34m(\u001b[0m\u001b[0;34m\";\"\u001b[0m\u001b[0;34m)\u001b[0m\u001b[0;34m\u001b[0m\u001b[0;34m\u001b[0m\u001b[0m\n",
      "\u001b[0;32m~/anaconda3/envs/core_acc/lib/python3.7/site-packages/pandas/core/frame.py\u001b[0m in \u001b[0;36m__getitem__\u001b[0;34m(self, key)\u001b[0m\n\u001b[1;32m   2897\u001b[0m             \u001b[0;32mif\u001b[0m \u001b[0mself\u001b[0m\u001b[0;34m.\u001b[0m\u001b[0mcolumns\u001b[0m\u001b[0;34m.\u001b[0m\u001b[0mnlevels\u001b[0m \u001b[0;34m>\u001b[0m \u001b[0;36m1\u001b[0m\u001b[0;34m:\u001b[0m\u001b[0;34m\u001b[0m\u001b[0;34m\u001b[0m\u001b[0m\n\u001b[1;32m   2898\u001b[0m                 \u001b[0;32mreturn\u001b[0m \u001b[0mself\u001b[0m\u001b[0;34m.\u001b[0m\u001b[0m_getitem_multilevel\u001b[0m\u001b[0;34m(\u001b[0m\u001b[0mkey\u001b[0m\u001b[0;34m)\u001b[0m\u001b[0;34m\u001b[0m\u001b[0;34m\u001b[0m\u001b[0m\n\u001b[0;32m-> 2899\u001b[0;31m             \u001b[0mindexer\u001b[0m \u001b[0;34m=\u001b[0m \u001b[0mself\u001b[0m\u001b[0;34m.\u001b[0m\u001b[0mcolumns\u001b[0m\u001b[0;34m.\u001b[0m\u001b[0mget_loc\u001b[0m\u001b[0;34m(\u001b[0m\u001b[0mkey\u001b[0m\u001b[0;34m)\u001b[0m\u001b[0;34m\u001b[0m\u001b[0;34m\u001b[0m\u001b[0m\n\u001b[0m\u001b[1;32m   2900\u001b[0m             \u001b[0;32mif\u001b[0m \u001b[0mis_integer\u001b[0m\u001b[0;34m(\u001b[0m\u001b[0mindexer\u001b[0m\u001b[0;34m)\u001b[0m\u001b[0;34m:\u001b[0m\u001b[0;34m\u001b[0m\u001b[0;34m\u001b[0m\u001b[0m\n\u001b[1;32m   2901\u001b[0m                 \u001b[0mindexer\u001b[0m \u001b[0;34m=\u001b[0m \u001b[0;34m[\u001b[0m\u001b[0mindexer\u001b[0m\u001b[0;34m]\u001b[0m\u001b[0;34m\u001b[0m\u001b[0;34m\u001b[0m\u001b[0m\n",
      "\u001b[0;32m~/anaconda3/envs/core_acc/lib/python3.7/site-packages/pandas/core/indexes/base.py\u001b[0m in \u001b[0;36mget_loc\u001b[0;34m(self, key, method, tolerance)\u001b[0m\n\u001b[1;32m   2889\u001b[0m                 \u001b[0;32mreturn\u001b[0m \u001b[0mself\u001b[0m\u001b[0;34m.\u001b[0m\u001b[0m_engine\u001b[0m\u001b[0;34m.\u001b[0m\u001b[0mget_loc\u001b[0m\u001b[0;34m(\u001b[0m\u001b[0mcasted_key\u001b[0m\u001b[0;34m)\u001b[0m\u001b[0;34m\u001b[0m\u001b[0;34m\u001b[0m\u001b[0m\n\u001b[1;32m   2890\u001b[0m             \u001b[0;32mexcept\u001b[0m \u001b[0mKeyError\u001b[0m \u001b[0;32mas\u001b[0m \u001b[0merr\u001b[0m\u001b[0;34m:\u001b[0m\u001b[0;34m\u001b[0m\u001b[0;34m\u001b[0m\u001b[0m\n\u001b[0;32m-> 2891\u001b[0;31m                 \u001b[0;32mraise\u001b[0m \u001b[0mKeyError\u001b[0m\u001b[0;34m(\u001b[0m\u001b[0mkey\u001b[0m\u001b[0;34m)\u001b[0m \u001b[0;32mfrom\u001b[0m \u001b[0merr\u001b[0m\u001b[0;34m\u001b[0m\u001b[0;34m\u001b[0m\u001b[0m\n\u001b[0m\u001b[1;32m   2892\u001b[0m \u001b[0;34m\u001b[0m\u001b[0m\n\u001b[1;32m   2893\u001b[0m         \u001b[0;32mif\u001b[0m \u001b[0mtolerance\u001b[0m \u001b[0;32mis\u001b[0m \u001b[0;32mnot\u001b[0m \u001b[0;32mNone\u001b[0m\u001b[0;34m:\u001b[0m\u001b[0;34m\u001b[0m\u001b[0;34m\u001b[0m\u001b[0m\n",
      "\u001b[0;31mKeyError\u001b[0m: 'Genes'"
     ]
    }
   ],
   "source": [
    "# Convert \"Genes\" column from str to list\n",
    "pao1_operon[\"Genes\"] = pao1_operon[\"Genes\"].str.split(\";\")\n",
    "pao1_regulon[\"Genes\"] = pao1_regulon[\"Genes\"].str.split(\";\")"
   ]
  },
  {
   "cell_type": "code",
   "execution_count": null,
   "id": "8999356d",
   "metadata": {
    "scrolled": true
   },
   "outputs": [],
   "source": [
    "# Check if genes within operon/regulon have membership information\n",
    "# Only keep genes that are found in \"pao1_membership\"\n",
    "pao1_operon[\"Genes_processed\"] = pao1_operon[\"Genes\"].apply(\n",
    "    lambda list_genes: [\n",
    "        gene_id for gene_id in list_genes if gene_id in pao1_membership.index\n",
    "    ]\n",
    ")\n",
    "pao1_regulon[\"Genes_processed\"] = pao1_regulon[\"Genes\"].apply(\n",
    "    lambda list_genes: [\n",
    "        gene_id for gene_id in list_genes if gene_id in pao1_membership.index\n",
    "    ]\n",
    ")"
   ]
  },
  {
   "cell_type": "code",
   "execution_count": null,
   "id": "5401d771",
   "metadata": {},
   "outputs": [],
   "source": [
    "# Update length based on filtered gene list (\"Genes_processed\" column)\n",
    "pao1_operon[\"Length_processed\"] = pao1_operon[\"Genes_processed\"].str.len()\n",
    "pao1_regulon[\"Length_processed\"] = pao1_regulon[\"Genes_processed\"].str.len()"
   ]
  },
  {
   "cell_type": "code",
   "execution_count": null,
   "id": "2b3a70f0",
   "metadata": {},
   "outputs": [],
   "source": [
    "# Quick look at distribution of size of regulons and operons\n",
    "# Update length based on filtered gene list (\"Genes_processed\" column)\n",
    "\n",
    "fig, axes = plt.subplots(ncols=2, nrows=1)\n",
    "\n",
    "fig = sns.distplot(\n",
    "    pao1_operon[\"Length_processed\"],\n",
    "    label=\"PAO1 operon size\",\n",
    "    color=\"red\",\n",
    "    kde=False,\n",
    "    ax=axes[0],\n",
    ")\n",
    "\n",
    "fig = sns.distplot(\n",
    "    pao1_regulon[\"Length_processed\"],\n",
    "    label=\"PAO1 regulon size\",\n",
    "    color=\"blue\",\n",
    "    kde=False,\n",
    "    ax=axes[1],\n",
    ")\n",
    "\n",
    "fig.set_title(\n",
    "    \"Histogram of size of operons/regulons after filtering by membership\",\n",
    "    fontsize=12,\n",
    ")"
   ]
  },
  {
   "cell_type": "code",
   "execution_count": null,
   "id": "7d98dbd3",
   "metadata": {
    "scrolled": true
   },
   "outputs": [],
   "source": [
    "# If number genes in operon are 1 then remove\n",
    "# Drop operons and regulons that have 0 genes due to no module filtering\n",
    "pao1_operon = pao1_operon.drop(pao1_operon.query(\"Length_processed<=1\").index)\n",
    "pao1_regulon = pao1_regulon.drop(pao1_regulon.query(\"Length_processed<=1\").index)\n",
    "\n",
    "print(pao1_operon.shape)\n",
    "print(pao1_regulon.shape)"
   ]
  },
  {
   "cell_type": "code",
   "execution_count": null,
   "id": "74461b5b",
   "metadata": {},
   "outputs": [],
   "source": [
    "# For each regulon/operon, select a random set of genes that are the same size at the regulon/operon\n",
    "pao1_operon[\"Random_Genes\"] = pao1_operon[\"Length_processed\"].apply(\n",
    "    lambda num_genes: pao1_membership.sample(\n",
    "        num_genes, random_state=sample_seed\n",
    "    ).index.values\n",
    ")\n",
    "pao1_regulon[\"Random_Genes\"] = pao1_regulon[\"Length_processed\"].apply(\n",
    "    lambda num_genes: pao1_membership.sample(\n",
    "        num_genes, random_state=sample_seed\n",
    "    ).index.values\n",
    ")"
   ]
  },
  {
   "cell_type": "code",
   "execution_count": null,
   "id": "7b2aba05",
   "metadata": {},
   "outputs": [],
   "source": [
    "pao1_operon.head()"
   ]
  },
  {
   "cell_type": "code",
   "execution_count": null,
   "id": "7817115b",
   "metadata": {},
   "outputs": [],
   "source": [
    "pao1_regulon.head()"
   ]
  },
  {
   "cell_type": "markdown",
   "id": "481ab597",
   "metadata": {},
   "source": [
    "### Get operon/regulon information using PA14 ids"
   ]
  },
  {
   "cell_type": "code",
   "execution_count": null,
   "id": "46ac913f",
   "metadata": {},
   "outputs": [],
   "source": [
    "pa14_operon = pao1_operon.copy()\n",
    "pa14_regulon = pao1_regulon.copy()"
   ]
  },
  {
   "cell_type": "code",
   "execution_count": null,
   "id": "b1da5586",
   "metadata": {},
   "outputs": [],
   "source": [
    "# Get mapping between PAO1 and PA14 genes using PAO1 reference\n",
    "gene_annot_file = paths.GENE_PAO1_ANNOT\n",
    "gene_mapping_pao1 = utils.get_pao1_pa14_gene_map(gene_annot_file, \"pao1\")\n",
    "gene_mapping_pao1.head()"
   ]
  },
  {
   "cell_type": "code",
   "execution_count": null,
   "id": "d765c0e6",
   "metadata": {},
   "outputs": [],
   "source": [
    "pa14_operon[\"Genes_processed\"] = pa14_operon[\"Genes_processed\"].apply(\n",
    "    lambda pao1_gene_list: gene_mapping_pao1.loc[pao1_gene_list, \"PA14_ID\"].values\n",
    ")\n",
    "pa14_regulon[\"Genes_processed\"] = pa14_regulon[\"Genes_processed\"].apply(\n",
    "    lambda pao1_gene_list: gene_mapping_pao1.loc[pao1_gene_list, \"PA14_ID\"].values\n",
    ")"
   ]
  },
  {
   "cell_type": "code",
   "execution_count": null,
   "id": "365fabb2",
   "metadata": {},
   "outputs": [],
   "source": [
    "# Update length based on filtered gene list (\"Genes_processed\" column)\n",
    "pa14_operon[\"Length_processed\"] = pa14_operon[\"Genes_processed\"].str.len()\n",
    "pa14_regulon[\"Length_processed\"] = pa14_regulon[\"Genes_processed\"].str.len()"
   ]
  },
  {
   "cell_type": "code",
   "execution_count": null,
   "id": "afc197e1",
   "metadata": {},
   "outputs": [],
   "source": [
    "# If genes didn't map then drop operon/regulon\n",
    "pa14_operon = pa14_operon.drop(\n",
    "    pa14_operon[\n",
    "        pa14_operon[\"Genes_processed\"].apply(lambda gene_list: pd.isna(gene_list).any())\n",
    "    ].index\n",
    ")\n",
    "pa14_regulon = pa14_regulon.drop(\n",
    "    pa14_regulon[\n",
    "        pa14_regulon[\"Genes_processed\"].apply(\n",
    "            lambda gene_list: pd.isna(gene_list).any()\n",
    "        )\n",
    "    ].index\n",
    ")\n",
    "\n",
    "print(pa14_operon.shape)\n",
    "print(pa14_regulon.shape)"
   ]
  },
  {
   "cell_type": "code",
   "execution_count": null,
   "id": "73ac30fb",
   "metadata": {},
   "outputs": [],
   "source": [
    "# If number genes in operon are 1 then remove\n",
    "# Drop operons and regulons that have 0 genes due to no module filtering\n",
    "pa14_operon = pa14_operon.drop(pa14_operon.query(\"Length_processed<=1\").index)\n",
    "pa14_regulon = pa14_regulon.drop(pa14_regulon.query(\"Length_processed<=1\").index)\n",
    "\n",
    "print(pa14_operon.shape)\n",
    "print(pa14_regulon.shape)"
   ]
  },
  {
   "cell_type": "code",
   "execution_count": null,
   "id": "def22b44",
   "metadata": {},
   "outputs": [],
   "source": [
    "# For each regulon/operon, select a random set of genes that are the same size at the regulon/operon\n",
    "pa14_operon[\"Random_Genes\"] = pa14_operon[\"Length_processed\"].apply(\n",
    "    lambda num_genes: pa14_membership.sample(num_genes).index.values\n",
    ")\n",
    "pa14_regulon[\"Random_Genes\"] = pa14_regulon[\"Length_processed\"].apply(\n",
    "    lambda num_genes: pa14_membership.sample(num_genes).index.values\n",
    ")"
   ]
  },
  {
   "cell_type": "code",
   "execution_count": null,
   "id": "ab030a15",
   "metadata": {},
   "outputs": [],
   "source": [
    "pao1_operon.head()"
   ]
  },
  {
   "cell_type": "code",
   "execution_count": null,
   "id": "2bc06453",
   "metadata": {},
   "outputs": [],
   "source": [
    "pa14_operon.head()"
   ]
  },
  {
   "cell_type": "markdown",
   "id": "bf31f972",
   "metadata": {},
   "source": [
    "### Calculate the distribution"
   ]
  },
  {
   "cell_type": "code",
   "execution_count": null,
   "id": "19b35d50",
   "metadata": {
    "scrolled": true
   },
   "outputs": [],
   "source": [
    "# For each regulon/operon get the number of modules that regulon/operon genes are found in, number of modules\n",
    "# that random genes are found in\n",
    "pao1_operon[\"Num_operon_modules\"] = pao1_operon[\"Genes_processed\"].apply(\n",
    "    lambda list_genes: pao1_membership.loc[list_genes][\"module id\"].nunique()\n",
    ")\n",
    "pao1_operon[\"Num_random_modules\"] = pao1_operon[\"Random_Genes\"].apply(\n",
    "    lambda list_genes: pao1_membership.loc[list_genes][\"module id\"].nunique()\n",
    ")"
   ]
  },
  {
   "cell_type": "code",
   "execution_count": null,
   "id": "4b18cba1",
   "metadata": {
    "scrolled": true
   },
   "outputs": [],
   "source": [
    "# For PA14\n",
    "pa14_operon[\"Num_operon_modules\"] = pa14_operon[\"Genes_processed\"].apply(\n",
    "    lambda list_genes: pa14_membership.loc[list_genes][\"module id\"].nunique()\n",
    ")\n",
    "pa14_operon[\"Num_random_modules\"] = pa14_operon[\"Random_Genes\"].apply(\n",
    "    lambda list_genes: pa14_membership.loc[list_genes][\"module id\"].nunique()\n",
    ")"
   ]
  },
  {
   "cell_type": "code",
   "execution_count": null,
   "id": "85937316",
   "metadata": {},
   "outputs": [],
   "source": [
    "# For PAO1 regulons\n",
    "pao1_regulon[\"Num_regulon_modules\"] = pao1_regulon[\"Genes_processed\"].apply(\n",
    "    lambda list_genes: pao1_membership.loc[list_genes][\"module id\"].nunique()\n",
    ")\n",
    "pao1_regulon[\"Num_random_modules\"] = pao1_regulon[\"Random_Genes\"].apply(\n",
    "    lambda list_genes: pao1_membership.loc[list_genes][\"module id\"].nunique()\n",
    ")"
   ]
  },
  {
   "cell_type": "code",
   "execution_count": null,
   "id": "4fc100b9",
   "metadata": {},
   "outputs": [],
   "source": [
    "# For PA14 regulons\n",
    "pa14_regulon[\"Num_regulon_modules\"] = pa14_regulon[\"Genes_processed\"].apply(\n",
    "    lambda list_genes: pa14_membership.loc[list_genes][\"module id\"].nunique()\n",
    ")\n",
    "pa14_regulon[\"Num_random_modules\"] = pa14_regulon[\"Random_Genes\"].apply(\n",
    "    lambda list_genes: pa14_membership.loc[list_genes][\"module id\"].nunique()\n",
    ")"
   ]
  },
  {
   "cell_type": "code",
   "execution_count": null,
   "id": "965fc9db",
   "metadata": {},
   "outputs": [],
   "source": [
    "print(pao1_operon.shape)\n",
    "pao1_operon.head()"
   ]
  },
  {
   "cell_type": "code",
   "execution_count": null,
   "id": "2fdef649",
   "metadata": {},
   "outputs": [],
   "source": [
    "print(pa14_operon.shape)\n",
    "pa14_operon.head()"
   ]
  },
  {
   "cell_type": "code",
   "execution_count": null,
   "id": "508f4478",
   "metadata": {},
   "outputs": [],
   "source": [
    "print(pao1_regulon.shape)\n",
    "pao1_regulon.head()"
   ]
  },
  {
   "cell_type": "code",
   "execution_count": null,
   "id": "2627e695",
   "metadata": {},
   "outputs": [],
   "source": [
    "print(pa14_regulon.shape)\n",
    "pa14_regulon.head()"
   ]
  },
  {
   "cell_type": "code",
   "execution_count": null,
   "id": "7d0764a6",
   "metadata": {},
   "outputs": [],
   "source": [
    "# Format df for plotting using displot\n",
    "pao1_operon_toplot = pd.melt(\n",
    "    pao1_operon, value_vars=[\"Num_operon_modules\", \"Num_random_modules\"]\n",
    ")\n",
    "pao1_regulon_toplot = pd.melt(\n",
    "    pao1_regulon, value_vars=[\"Num_regulon_modules\", \"Num_random_modules\"]\n",
    ")\n",
    "\n",
    "pao1_operon_toplot.tail()"
   ]
  },
  {
   "cell_type": "code",
   "execution_count": null,
   "id": "1cc87215",
   "metadata": {},
   "outputs": [],
   "source": [
    "pa14_operon_toplot = pd.melt(\n",
    "    pa14_operon, value_vars=[\"Num_operon_modules\", \"Num_random_modules\"]\n",
    ")\n",
    "pa14_regulon_toplot = pd.melt(\n",
    "    pa14_regulon, value_vars=[\"Num_regulon_modules\", \"Num_random_modules\"]\n",
    ")\n",
    "\n",
    "pa14_operon_toplot.tail()"
   ]
  },
  {
   "cell_type": "code",
   "execution_count": null,
   "id": "83203721",
   "metadata": {},
   "outputs": [],
   "source": [
    "def cumulative_distribution(\n",
    "    data,\n",
    "    scaled=False,\n",
    "    survival=False,\n",
    "    label=\"Cumulative\",\n",
    "    fill=False,\n",
    "    flip=False,\n",
    "    preserve_ends=0,\n",
    "    **kwargs,\n",
    "):\n",
    "    \"\"\"\n",
    "    plots cumulative (or survival) step distribution\n",
    "    adapted from https://github.com/MarvinT/morphs/blob/master/morphs/plot/utils.py\n",
    "    \"\"\"\n",
    "    data = np.sort(data)\n",
    "    if survival:\n",
    "        data = data[::-1]\n",
    "    y = np.arange(data.size + 1, dtype=float)\n",
    "    if scaled:\n",
    "        y /= y[-1]\n",
    "    x = np.concatenate([data, data[[-1]]])\n",
    "    plt.step(x, y, label=label, **kwargs)\n",
    "    if fill:\n",
    "        plt.fill_between(x, y, alpha=0.5, step=\"pre\", **kwargs)"
   ]
  },
  {
   "cell_type": "code",
   "execution_count": null,
   "id": "7e6dc460",
   "metadata": {},
   "outputs": [],
   "source": [
    "cumulative_distribution(\n",
    "    pao1_operon[\"Num_operon_modules\"],\n",
    "    label=\"Number of modules containing operon genes\",\n",
    "    color=\"red\",\n",
    ")\n",
    "cumulative_distribution(\n",
    "    pao1_operon[\"Num_random_modules\"],\n",
    "    label=\"Number of modules containing random genes\",\n",
    "    color=\"blue\",\n",
    ")\n",
    "_ = plt.legend()\n",
    "plt.title(\"Cumulative distribution of PAO1 module counts (operon vs random genes)\")\n",
    "plt.ylabel(\"Number of operons/random groups\")\n",
    "plt.xlabel(\"The number of modules that operons/random genes are contained in\")\n",
    "\n",
    "scipy.stats.ks_2samp(\n",
    "    pao1_operon[\"Num_operon_modules\"], pao1_operon[\"Num_random_modules\"]\n",
    ")"
   ]
  },
  {
   "cell_type": "code",
   "execution_count": null,
   "id": "7d597bc7",
   "metadata": {},
   "outputs": [],
   "source": [
    "fig = sns.displot(\n",
    "    pao1_operon_toplot,\n",
    "    x=\"value\",\n",
    "    hue=\"variable\",\n",
    ")\n",
    "plt.title(\"PMF distribution of module counts (operon vs random genes)\")"
   ]
  },
  {
   "cell_type": "code",
   "execution_count": null,
   "id": "b51d2a89",
   "metadata": {},
   "outputs": [],
   "source": [
    "cumulative_distribution(\n",
    "    pa14_operon[\"Num_operon_modules\"],\n",
    "    label=\"Number of modules containing operon genes\",\n",
    "    color=\"red\",\n",
    ")\n",
    "cumulative_distribution(\n",
    "    pa14_operon[\"Num_random_modules\"],\n",
    "    label=\"Number of modules containing random genes\",\n",
    "    color=\"blue\",\n",
    ")\n",
    "_ = plt.legend()\n",
    "plt.title(\"Cumulative distribution of PA14 module counts (operon vs random genes)\")\n",
    "plt.ylabel(\"Number of operons/random groups\")\n",
    "plt.xlabel(\"The number of modules that operons/random genes are contained in\")\n",
    "\n",
    "scipy.stats.ks_2samp(\n",
    "    pa14_operon[\"Num_operon_modules\"], pa14_operon[\"Num_random_modules\"]\n",
    ")"
   ]
  },
  {
   "cell_type": "code",
   "execution_count": null,
   "id": "66b3cedf",
   "metadata": {},
   "outputs": [],
   "source": [
    "cumulative_distribution(\n",
    "    pao1_regulon[\"Num_regulon_modules\"],\n",
    "    label=\"Number of modules containing regulon genes\",\n",
    "    color=\"red\",\n",
    ")\n",
    "cumulative_distribution(\n",
    "    pao1_regulon[\"Num_random_modules\"],\n",
    "    label=\"Number of modules containing random genes\",\n",
    "    color=\"blue\",\n",
    ")\n",
    "_ = plt.legend()\n",
    "plt.title(\"Cumulative distribution of PAO1 module counts (regulon vs random genes)\")\n",
    "plt.ylabel(\"Number of regulons/random groups\")\n",
    "plt.xlabel(\"The number of modules that regulons/random genes are contained in\")\n",
    "\n",
    "scipy.stats.ks_2samp(\n",
    "    pao1_regulon[\"Num_regulon_modules\"], pao1_regulon[\"Num_random_modules\"]\n",
    ")"
   ]
  },
  {
   "cell_type": "code",
   "execution_count": null,
   "id": "90d6f5ba",
   "metadata": {},
   "outputs": [],
   "source": [
    "fig = sns.displot(\n",
    "    pao1_regulon_toplot,\n",
    "    x=\"value\",\n",
    "    hue=\"variable\",\n",
    ")\n",
    "plt.title(\"PMF distribution of module counts (regulon vs random genes)\")"
   ]
  },
  {
   "cell_type": "code",
   "execution_count": null,
   "id": "fed5b4a5",
   "metadata": {},
   "outputs": [],
   "source": [
    "cumulative_distribution(\n",
    "    pa14_regulon[\"Num_regulon_modules\"],\n",
    "    label=\"Number of modules containing regulon genes\",\n",
    "    color=\"red\",\n",
    ")\n",
    "cumulative_distribution(\n",
    "    pa14_regulon[\"Num_random_modules\"],\n",
    "    label=\"Number of modules containing random genes\",\n",
    "    color=\"blue\",\n",
    ")\n",
    "_ = plt.legend()\n",
    "plt.title(\"Cumulative distribution of PA14 module counts (regulon vs random genes)\")\n",
    "plt.ylabel(\"Number of regulons/random groups\")\n",
    "plt.xlabel(\"The number of modules that regulons/random genes are contained in\")\n",
    "\n",
    "scipy.stats.ks_2samp(\n",
    "    pa14_regulon[\"Num_regulon_modules\"], pa14_regulon[\"Num_random_modules\"]\n",
    ")"
   ]
  },
  {
   "cell_type": "markdown",
   "id": "a9241a2d",
   "metadata": {},
   "source": [
    "### Check what size the modules are that regulon/operon/random genes are found in"
   ]
  },
  {
   "cell_type": "code",
   "execution_count": null,
   "id": "21e91d31",
   "metadata": {},
   "outputs": [],
   "source": [
    "pao1_operon[\"operon_module_ids\"] = pao1_operon[\"Genes_processed\"].apply(\n",
    "    lambda list_genes: pao1_membership.loc[list_genes][\"module id\"].unique()\n",
    ")\n",
    "pao1_operon[\"random_module_ids\"] = pao1_operon[\"Random_Genes\"].apply(\n",
    "    lambda list_genes: pao1_membership.loc[list_genes][\"module id\"].unique()\n",
    ")\n",
    "pao1_operon.head()"
   ]
  },
  {
   "cell_type": "code",
   "execution_count": null,
   "id": "0ce9ca32",
   "metadata": {
    "scrolled": true
   },
   "outputs": [],
   "source": [
    "pao1_membership[\"module id\"].value_counts()"
   ]
  },
  {
   "cell_type": "code",
   "execution_count": null,
   "id": "956786b5",
   "metadata": {},
   "outputs": [],
   "source": [
    "pao1_regulon[\"regulon_module_ids\"] = pao1_regulon[\"Genes_processed\"].apply(\n",
    "    lambda list_genes: pao1_membership.loc[list_genes][\"module id\"].unique()\n",
    ")\n",
    "pao1_regulon[\"random_module_ids\"] = pao1_regulon[\"Random_Genes\"].apply(\n",
    "    lambda list_genes: pao1_membership.loc[list_genes][\"module id\"].unique()\n",
    ")\n",
    "pao1_regulon.head()"
   ]
  },
  {
   "cell_type": "markdown",
   "id": "b3c3ee88",
   "metadata": {},
   "source": [
    "_About cumulative distribution plots:_\n",
    "* The axis cumulative distribution plots are:\n",
    "    * y-axis = The number of operon/regulon (red) or random (blue) groups.\n",
    "    * x-axis = The number of modules that operon/regulon/random genes are contained in\n",
    "\n",
    "* Looking at the regulon plot, the value at \"1\" on the x-axis says that there is 1 regulon found in exactly 1 module, and there are 0 random groups found in exactly 1 module\n",
    "    * Then the increase at \"2\" on the x-axis is the number of regulons or random genes that are spread across 2 or 1 different modules (this is the cumulative part). In other words, a random set (size matched with the operon) where the genes in that set are found in 2 modules.\n",
    "    * There are 3 regulons that are found in either 1 or 2 modules. There are 2 random groups that are found in either 1 or 2 modules.\n",
    "    * Then if you compare the blue and the red curves, the vertical distance between the two curves tells you how much of a shift there is between the distributions.\n",
    "* These distribution plots are summing counts as you move from left to right, so a shift in the curves corresponds to a shift in the distribution (i.e. a curve shifted to the right means that the distribution is shifted to the right)\n",
    "\n",
    "**Takeaway:**\n",
    "* We can perform [Kolmogorov-Smirnov test](https://en.wikipedia.org/wiki/Kolmogorov%E2%80%93Smirnov_test) to compare the distribution of module counts for genes in regulons/operons versus random genes. The KS test will quantify the difference in the cumulative distribution curves.\n",
    "\n",
    "* Based on the KS test, there is a significant difference (across thresholds) between the operon and random distribution, as we would expect.\n",
    "    * There is only a significant difference between the regulon and random distributions. The lack of significance is likely due to the small sample size (i.e. 6 or 10 regulons have genes that are contained in modules with fewer than 1000 genes)"
   ]
  }
 ],
 "metadata": {
  "jupytext": {
   "formats": "ipynb,py"
  },
  "kernelspec": {
   "display_name": "Python [conda env:core_acc] *",
   "language": "python",
   "name": "conda-env-core_acc-py"
  },
  "language_info": {
   "codemirror_mode": {
    "name": "ipython",
    "version": 3
   },
   "file_extension": ".py",
   "mimetype": "text/x-python",
   "name": "python",
   "nbconvert_exporter": "python",
   "pygments_lexer": "ipython3",
   "version": "3.7.10"
  }
 },
 "nbformat": 4,
 "nbformat_minor": 5
}
