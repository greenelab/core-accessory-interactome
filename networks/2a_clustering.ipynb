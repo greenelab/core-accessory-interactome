{
 "cells": [
  {
   "cell_type": "markdown",
   "id": "secret-breast",
   "metadata": {},
   "source": [
    "# Clustering\n",
    "\n",
    "This notebook gets network communities for the compendia (PAO1 and PA14) using different clustering approaches. Clustering thinks about each gene as a point and performs clustering to place similar genes (i.e. genes that are close together in correlation space) together where each gene belongs to a single module\n",
    "\n",
    "The output of this notebook are files that have the following columns:\n",
    "gene id | module id"
   ]
  },
  {
   "cell_type": "code",
   "execution_count": 1,
   "id": "desperate-sessions",
   "metadata": {},
   "outputs": [],
   "source": [
    "%load_ext autoreload\n",
    "%autoreload 2\n",
    "import os\n",
    "import pandas as pd\n",
    "from sklearn.cluster import DBSCAN, AgglomerativeClustering, AffinityPropagation\n",
    "from core_acc_modules import paths"
   ]
  },
  {
   "cell_type": "markdown",
   "id": "eeec022a",
   "metadata": {},
   "source": [
    "## Set user parameters\n",
    "\n",
    "We will run this notebook for each clustering method"
   ]
  },
  {
   "cell_type": "code",
   "execution_count": 2,
   "id": "db4c4650",
   "metadata": {},
   "outputs": [],
   "source": [
    "# User params to set\n",
    "\n",
    "# Clustering method\n",
    "# Choices: {\"dbscan\", \"hierarchal\", \"affinity\"}\n",
    "cluster_method = \"dbscan\"\n",
    "\n",
    "# DBSCAN params\n",
    "density_threshold = 8\n",
    "min_samples = 5\n",
    "\n",
    "# Hierarchical clustering params\n",
    "hier_threshold = 8\n",
    "link_dist = \"average\"\n",
    "\n",
    "# Affinity params\n",
    "affinity_damping = 0.6\n",
    "\n",
    "# Correlation matrix files\n",
    "pao1_corr_filename = paths.PAO1_CORR_LOG_SPELL\n",
    "pa14_corr_filename = paths.PA14_CORR_LOG_SPELL"
   ]
  },
  {
   "cell_type": "code",
   "execution_count": 3,
   "id": "stock-cosmetic",
   "metadata": {},
   "outputs": [],
   "source": [
    "# Load correlation data\n",
    "pao1_corr = pd.read_csv(pao1_corr_filename, sep=\"\\t\", index_col=0, header=0)\n",
    "pa14_corr = pd.read_csv(pa14_corr_filename, sep=\"\\t\", index_col=0, header=0)"
   ]
  },
  {
   "cell_type": "markdown",
   "id": "a11f63a1",
   "metadata": {},
   "source": [
    "## Module detection\n",
    "To detect modules, we will use a clustering algorithm"
   ]
  },
  {
   "cell_type": "markdown",
   "id": "b05e48b6",
   "metadata": {},
   "source": [
    "### DBSCAN\n",
    "[DBSCAN](https://scikit-learn.org/stable/modules/generated/sklearn.cluster.DBSCAN.html#sklearn.cluster.DBSCAN):  Density-Based Spatial Clustering of Applications with Noise views clusters as areas of high density separated by areas of low density. The central component to the DBSCAN is the concept of _core samples_, which are samples that are in areas of high density. A cluster is therefore a set of _core samples_ that are close to each other (measured by some distance measure) and a set of non-core samples that are close to a core sample (but are not themselves core samples).\n",
    "\n",
    "A cluster is a set of core samples that can be built by recursively taking a core sample, finding all of its neighbors that are core samples, finding all of their neighbors that are core samples, and so on. A cluster also has a set of non-core samples, which are samples that are neighbors of a core sample in the cluster but are not themselves core samples. Intuitively, these samples are on the fringes of a cluster.\n",
    "\n",
    "* We define a core sample as being a sample in the dataset such that there exist `min_samples` other samples within a distance of `eps`, which are defined as neighbors of the core sample.\n",
    "* Here we use `eps=8` based on the observations in the [prevous notebook](1_correlation_analysis.ipynb). In the previous notebook we plotted the distribution of pairwise distances (pdist) per gene and we selected 8 based on where the distribution curve drops off on the left side to mark how similar gene pairs are.\n"
   ]
  },
  {
   "cell_type": "code",
   "execution_count": 4,
   "id": "5174f430",
   "metadata": {},
   "outputs": [],
   "source": [
    "# Clustering using DBSCAN\n",
    "if cluster_method == \"dbscan\":\n",
    "    pao1_clustering = DBSCAN(eps=density_threshold, min_samples=min_samples).fit(\n",
    "        pao1_corr\n",
    "    )\n",
    "    pa14_clustering = DBSCAN(eps=density_threshold, min_samples=min_samples).fit(\n",
    "        pa14_corr\n",
    "    )"
   ]
  },
  {
   "cell_type": "markdown",
   "id": "a7507fe6",
   "metadata": {},
   "source": [
    "### Hierarchical clustering\n",
    "[Hierarchical clustering](https://scikit-learn.org/stable/modules/generated/sklearn.cluster.AgglomerativeClustering.html#sklearn.cluster.AgglomerativeClustering): Initially, each object is assigned to its own cluster and then the algorithm proceeds iteratively, at each stage joining the two most similar clusters (i.e. linkage distance is minimized), continuing until there is just a single cluster.\n",
    "\n",
    "* n_cluster: The number of clusters to find.\n",
    "* linkage: Criterion used to determine distance between observations. 'average'=average distance of each observation in the two sets.\n",
    "* distance_threshold: The linkage distance threshold above which, clusters will not be merged\n",
    "* Here we use `distance_threshold=8` based on the observations in the [prevous notebook](1_correlation_analysis.ipynb). In the previous notebook we plotted the distribution of pairwise distances (pdist) per gene and we selected 8 based on where the distribution curve drops off on the left side to mark how similar gene pairs are.\n",
    "\n",
    "* Note: It looks like this method tends to produce 1 very large cluster. To break this up we will iteratively apply hierarchal clustering on the largest cluster."
   ]
  },
  {
   "cell_type": "code",
   "execution_count": 5,
   "id": "b84cae39",
   "metadata": {},
   "outputs": [],
   "source": [
    "# Clustering using hierarchal clustering\n",
    "if cluster_method == \"hierarchal\":\n",
    "    pao1_clustering = AgglomerativeClustering(\n",
    "        n_clusters=None, distance_threshold=hier_threshold, linkage=link_dist\n",
    "    ).fit(pao1_corr)\n",
    "    pa14_clustering = AgglomerativeClustering(\n",
    "        n_clusters=None, distance_threshold=hier_threshold, linkage=link_dist\n",
    "    ).fit(pa14_corr)"
   ]
  },
  {
   "cell_type": "markdown",
   "id": "6a98b0c9",
   "metadata": {},
   "source": [
    "### Affinity propogation\n",
    "\n",
    "[Affinity propogation](https://scikit-learn.org/stable/modules/generated/sklearn.cluster.AffinityPropagation.html#sklearn.cluster.AffinityPropagation): creates clusters by sending messages between pairs of samples until convergence. The messages sent between points belong to one of two categories. The first is the responsibility $r(k,i)$, which is the accumulated evidence that sample $k$ should be the exemplar for sample $i$ compared to other exemplars. The second is the availability $a(k,i)$ which is the accumulated evidence that sample $i$ should choose sample $k$to be its exemplar. _Exemplar_ meaning the members of the input set that are representative of clusters -- similar to _centroids_ in k-means. Unlike k-means this method doesn't require a preset $k$ to be chosen.\n",
    "\n",
    "* damping: Damping factor (between 0.5 and 1) is the extent to which the current value is maintained relative to incoming values (weighted 1 - damping). This in order to avoid numerical oscillations when updating these values. Default is 0.5. Using default for PA14 data, the model didn't converge so we increased this to 0.6.\n",
    "* affinity: Method used to calculate the distance between clusters. Here we will use `euclidean` distance which is the default. `Precomputed` is expecting a distance matrix as input [source code](https://github.com/scikit-learn/scikit-learn/blob/bac89c2/sklearn/cluster/hierarchical.py#L454)"
   ]
  },
  {
   "cell_type": "code",
   "execution_count": 6,
   "id": "de17761f",
   "metadata": {},
   "outputs": [],
   "source": [
    "# Clustering using affinity propogation\n",
    "if cluster_method == \"affinity\":\n",
    "    pao1_clustering = AffinityPropagation(random_state=0).fit(pao1_corr)\n",
    "    pa14_clustering = AffinityPropagation(random_state=0, damping=affinity_damping).fit(\n",
    "        pa14_corr\n",
    "    )"
   ]
  },
  {
   "cell_type": "markdown",
   "id": "0f044bf1",
   "metadata": {},
   "source": [
    "## Membership assignments"
   ]
  },
  {
   "cell_type": "code",
   "execution_count": 7,
   "id": "ad2f9c30",
   "metadata": {
    "scrolled": true
   },
   "outputs": [
    {
     "data": {
      "text/plain": [
       " 0     2933\n",
       "-1     2358\n",
       " 2       46\n",
       " 13      16\n",
       " 16      13\n",
       " 8       12\n",
       " 10      12\n",
       " 21      10\n",
       " 11      10\n",
       " 1        9\n",
       " 18       9\n",
       " 3        9\n",
       " 30       8\n",
       " 6        8\n",
       " 22       7\n",
       " 14       7\n",
       " 23       7\n",
       " 7        6\n",
       " 19       6\n",
       " 17       6\n",
       " 12       5\n",
       " 20       5\n",
       " 24       5\n",
       " 28       5\n",
       " 32       5\n",
       " 31       5\n",
       " 9        5\n",
       " 25       5\n",
       " 29       5\n",
       " 26       5\n",
       " 33       5\n",
       " 5        4\n",
       " 27       4\n",
       " 15       4\n",
       " 4        4\n",
       "Name: module id, dtype: int64"
      ]
     },
     "execution_count": 7,
     "metadata": {},
     "output_type": "execute_result"
    }
   ],
   "source": [
    "# Get module membership for a single threshold\n",
    "# Format and save output to have columns: gene_id | group_id\n",
    "pao1_membership_df = pd.DataFrame(\n",
    "    data={\"module id\": pao1_clustering.labels_}, index=pao1_corr.index\n",
    ")\n",
    "\n",
    "pao1_membership_df[\"module id\"].value_counts()"
   ]
  },
  {
   "cell_type": "code",
   "execution_count": 8,
   "id": "715e3449",
   "metadata": {},
   "outputs": [
    {
     "data": {
      "text/html": [
       "<div>\n",
       "<style scoped>\n",
       "    .dataframe tbody tr th:only-of-type {\n",
       "        vertical-align: middle;\n",
       "    }\n",
       "\n",
       "    .dataframe tbody tr th {\n",
       "        vertical-align: top;\n",
       "    }\n",
       "\n",
       "    .dataframe thead th {\n",
       "        text-align: right;\n",
       "    }\n",
       "</style>\n",
       "<table border=\"1\" class=\"dataframe\">\n",
       "  <thead>\n",
       "    <tr style=\"text-align: right;\">\n",
       "      <th></th>\n",
       "      <th>module id</th>\n",
       "    </tr>\n",
       "  </thead>\n",
       "  <tbody>\n",
       "    <tr>\n",
       "      <th>PA0001</th>\n",
       "      <td>-1</td>\n",
       "    </tr>\n",
       "    <tr>\n",
       "      <th>PA0002</th>\n",
       "      <td>0</td>\n",
       "    </tr>\n",
       "    <tr>\n",
       "      <th>PA0003</th>\n",
       "      <td>-1</td>\n",
       "    </tr>\n",
       "    <tr>\n",
       "      <th>PA0004</th>\n",
       "      <td>0</td>\n",
       "    </tr>\n",
       "    <tr>\n",
       "      <th>PA0005</th>\n",
       "      <td>-1</td>\n",
       "    </tr>\n",
       "  </tbody>\n",
       "</table>\n",
       "</div>"
      ],
      "text/plain": [
       "        module id\n",
       "PA0001         -1\n",
       "PA0002          0\n",
       "PA0003         -1\n",
       "PA0004          0\n",
       "PA0005         -1"
      ]
     },
     "execution_count": 8,
     "metadata": {},
     "output_type": "execute_result"
    }
   ],
   "source": [
    "pao1_membership_df.head()"
   ]
  },
  {
   "cell_type": "code",
   "execution_count": 9,
   "id": "fa745bfc",
   "metadata": {
    "scrolled": true
   },
   "outputs": [
    {
     "data": {
      "text/plain": [
       "-1     2982\n",
       " 0     2223\n",
       " 15      71\n",
       " 3       43\n",
       " 4       32\n",
       " 44      26\n",
       " 14      24\n",
       " 8       23\n",
       " 31      22\n",
       " 13      17\n",
       " 38      16\n",
       " 41      16\n",
       " 11      15\n",
       " 5       15\n",
       " 32      13\n",
       " 55      13\n",
       " 48      12\n",
       " 40      12\n",
       " 1       12\n",
       " 39      12\n",
       " 23      11\n",
       " 35      11\n",
       " 37      10\n",
       " 45      10\n",
       " 9       10\n",
       " 46       9\n",
       " 12       9\n",
       " 34       9\n",
       " 6        9\n",
       " 2        8\n",
       "       ... \n",
       " 42       8\n",
       " 28       7\n",
       " 27       7\n",
       " 7        7\n",
       " 54       7\n",
       " 49       7\n",
       " 20       7\n",
       " 60       7\n",
       " 33       6\n",
       " 22       6\n",
       " 17       6\n",
       " 19       6\n",
       " 47       6\n",
       " 56       5\n",
       " 52       5\n",
       " 61       5\n",
       " 29       5\n",
       " 53       5\n",
       " 57       5\n",
       " 10       5\n",
       " 18       5\n",
       " 50       5\n",
       " 62       5\n",
       " 43       5\n",
       " 21       4\n",
       " 36       4\n",
       " 26       4\n",
       " 58       4\n",
       " 24       3\n",
       " 59       3\n",
       "Name: module id, Length: 64, dtype: int64"
      ]
     },
     "execution_count": 9,
     "metadata": {},
     "output_type": "execute_result"
    }
   ],
   "source": [
    "# Get module membership for a single threshold\n",
    "# Format and save output to have columns: gene_id | group_id\n",
    "pa14_membership_df = pd.DataFrame(\n",
    "    data={\"module id\": pa14_clustering.labels_}, index=pa14_corr.index\n",
    ")\n",
    "\n",
    "pa14_membership_df[\"module id\"].value_counts()"
   ]
  },
  {
   "cell_type": "code",
   "execution_count": 10,
   "id": "c5ad77e0",
   "metadata": {},
   "outputs": [
    {
     "data": {
      "text/html": [
       "<div>\n",
       "<style scoped>\n",
       "    .dataframe tbody tr th:only-of-type {\n",
       "        vertical-align: middle;\n",
       "    }\n",
       "\n",
       "    .dataframe tbody tr th {\n",
       "        vertical-align: top;\n",
       "    }\n",
       "\n",
       "    .dataframe thead th {\n",
       "        text-align: right;\n",
       "    }\n",
       "</style>\n",
       "<table border=\"1\" class=\"dataframe\">\n",
       "  <thead>\n",
       "    <tr style=\"text-align: right;\">\n",
       "      <th></th>\n",
       "      <th>module id</th>\n",
       "    </tr>\n",
       "  </thead>\n",
       "  <tbody>\n",
       "    <tr>\n",
       "      <th>PA14_55610</th>\n",
       "      <td>1</td>\n",
       "    </tr>\n",
       "    <tr>\n",
       "      <th>PA14_55600</th>\n",
       "      <td>-1</td>\n",
       "    </tr>\n",
       "    <tr>\n",
       "      <th>PA14_55590</th>\n",
       "      <td>0</td>\n",
       "    </tr>\n",
       "    <tr>\n",
       "      <th>PA14_55580</th>\n",
       "      <td>0</td>\n",
       "    </tr>\n",
       "    <tr>\n",
       "      <th>PA14_55570</th>\n",
       "      <td>-1</td>\n",
       "    </tr>\n",
       "  </tbody>\n",
       "</table>\n",
       "</div>"
      ],
      "text/plain": [
       "            module id\n",
       "PA14_55610          1\n",
       "PA14_55600         -1\n",
       "PA14_55590          0\n",
       "PA14_55580          0\n",
       "PA14_55570         -1"
      ]
     },
     "execution_count": 10,
     "metadata": {},
     "output_type": "execute_result"
    }
   ],
   "source": [
    "pa14_membership_df.head()"
   ]
  },
  {
   "cell_type": "code",
   "execution_count": 11,
   "id": "fa8b8e79",
   "metadata": {},
   "outputs": [],
   "source": [
    "# Save membership dataframe\n",
    "pao1_membership_filename = os.path.join(\n",
    "    paths.LOCAL_DATA_DIR, f\"pao1_modules_{cluster_method}.tsv\"\n",
    ")\n",
    "pa14_membership_filename = os.path.join(\n",
    "    paths.LOCAL_DATA_DIR, f\"pa14_modules_{cluster_method}.tsv\"\n",
    ")\n",
    "pao1_membership_df.to_csv(pao1_membership_filename, sep=\"\\t\")\n",
    "pa14_membership_df.to_csv(pa14_membership_filename, sep=\"\\t\")"
   ]
  }
 ],
 "metadata": {
  "jupytext": {
   "encoding": "# -*- coding: utf-8 -*-",
   "formats": "ipynb,py"
  },
  "kernelspec": {
   "display_name": "Python [conda env:core_acc] *",
   "language": "python",
   "name": "conda-env-core_acc-py"
  },
  "language_info": {
   "codemirror_mode": {
    "name": "ipython",
    "version": 3
   },
   "file_extension": ".py",
   "mimetype": "text/x-python",
   "name": "python",
   "nbconvert_exporter": "python",
   "pygments_lexer": "ipython3",
   "version": "3.7.10"
  }
 },
 "nbformat": 4,
 "nbformat_minor": 5
}
