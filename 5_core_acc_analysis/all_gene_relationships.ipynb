{
 "cells": [
  {
   "cell_type": "markdown",
   "id": "ea778dfd",
   "metadata": {},
   "source": [
    "# Relationships using genome distance vs expression distance\n",
    "\n",
    "In our attempt to label modules as \"mostly core\", \"mostly accessory\" or \"mixed\". We found that most modules were \"mixed\" and some were \"mostly accessory\". We noticed that there were many modules that had only core genes, yet were not found to be signficanlty \"mostly core\" based on our Fisher's exact test due to the small size of the modules as well as the large imbalance in the number of core:accessory genes.\n",
    "\n",
    "These small modules, which are due to operons, is biologically sensible but hard for us to apply statistics. We want to try to tease apart the co-expression relationships that are due to locations (i.e. being in the same operon) versus other functional reasons.\n",
    "\n",
    "Our strategy is the following:\n",
    "* For each accessory gene, is the 1-NN/2-NN/3-NN core or accessory? Same for core genes\n",
    "* For each accessory gene, is the highest correlated/2nd-highest correlated/3rd highest correlated gene core or accessory? Same for core genes.\n",
    "\n",
    "Then we can compare the trends seen in both"
   ]
  },
  {
   "cell_type": "code",
   "execution_count": 1,
   "id": "b172d982",
   "metadata": {},
   "outputs": [
    {
     "name": "stderr",
     "output_type": "stream",
     "text": [
      "/home/alexandra/anaconda3/envs/core_acc/lib/python3.7/site-packages/matplotlib/__init__.py:886: MatplotlibDeprecationWarning: \n",
      "examples.directory is deprecated; in the future, examples will be found relative to the 'datapath' directory.\n",
      "  \"found relative to the 'datapath' directory.\".format(key))\n"
     ]
    }
   ],
   "source": [
    "%load_ext autoreload\n",
    "%autoreload 2\n",
    "%matplotlib inline\n",
    "import os\n",
    "import random\n",
    "import scipy\n",
    "import pandas as pd\n",
    "import numpy as np\n",
    "import seaborn as sns\n",
    "import matplotlib.pyplot as plt\n",
    "from statsmodels.stats.multitest import multipletests\n",
    "from scripts import paths, gene_relationships, annotations\n",
    "\n",
    "random.seed(1)"
   ]
  },
  {
   "cell_type": "code",
   "execution_count": 2,
   "id": "252f6832",
   "metadata": {},
   "outputs": [],
   "source": [
    "# User params\n",
    "method = \"affinity\"\n",
    "offset_to_bin = 10\n",
    "\n",
    "use_operon = True\n",
    "sum_increment_to_use = 1\n",
    "\n",
    "# Output filename\n",
    "pao1_figure_filename = \"PAO1_genome_expression_relationships_operon_corrected.svg\"\n",
    "pa14_figure_filename = \"PA14_genome_expression_relationships_operon_corrected.svg\""
   ]
  },
  {
   "cell_type": "markdown",
   "id": "137fe447",
   "metadata": {},
   "source": [
    "### Import gene ids"
   ]
  },
  {
   "cell_type": "code",
   "execution_count": 3,
   "id": "7746c742",
   "metadata": {},
   "outputs": [],
   "source": [
    "# Import correlation matrix to get gene ids\n",
    "pao1_corr_filename = paths.PAO1_CORR_RAW\n",
    "pa14_corr_filename = paths.PA14_CORR_RAW\n",
    "\n",
    "pao1_corr = pd.read_csv(pao1_corr_filename, sep=\"\\t\", index_col=0, header=0)\n",
    "pa14_corr = pd.read_csv(pa14_corr_filename, sep=\"\\t\", index_col=0, header=0)"
   ]
  },
  {
   "cell_type": "code",
   "execution_count": 4,
   "id": "e5afca81",
   "metadata": {},
   "outputs": [
    {
     "name": "stdout",
     "output_type": "stream",
     "text": [
      "(5563, 0)\n"
     ]
    },
    {
     "data": {
      "text/html": [
       "<div>\n",
       "<style scoped>\n",
       "    .dataframe tbody tr th:only-of-type {\n",
       "        vertical-align: middle;\n",
       "    }\n",
       "\n",
       "    .dataframe tbody tr th {\n",
       "        vertical-align: top;\n",
       "    }\n",
       "\n",
       "    .dataframe thead th {\n",
       "        text-align: right;\n",
       "    }\n",
       "</style>\n",
       "<table border=\"1\" class=\"dataframe\">\n",
       "  <thead>\n",
       "    <tr style=\"text-align: right;\">\n",
       "      <th></th>\n",
       "    </tr>\n",
       "  </thead>\n",
       "  <tbody>\n",
       "    <tr>\n",
       "      <th>PA0001</th>\n",
       "    </tr>\n",
       "    <tr>\n",
       "      <th>PA0002</th>\n",
       "    </tr>\n",
       "    <tr>\n",
       "      <th>PA0003</th>\n",
       "    </tr>\n",
       "    <tr>\n",
       "      <th>PA0004</th>\n",
       "    </tr>\n",
       "    <tr>\n",
       "      <th>PA0005</th>\n",
       "    </tr>\n",
       "  </tbody>\n",
       "</table>\n",
       "</div>"
      ],
      "text/plain": [
       "Empty DataFrame\n",
       "Columns: []\n",
       "Index: [PA0001, PA0002, PA0003, PA0004, PA0005]"
      ]
     },
     "execution_count": 4,
     "metadata": {},
     "output_type": "execute_result"
    }
   ],
   "source": [
    "# Make a dataframe with gene ids\n",
    "pao1_membership = pd.DataFrame(data=[], index=pao1_corr.index)\n",
    "print(pao1_membership.shape)\n",
    "pao1_membership.head()"
   ]
  },
  {
   "cell_type": "code",
   "execution_count": 5,
   "id": "e64a541e",
   "metadata": {},
   "outputs": [
    {
     "name": "stdout",
     "output_type": "stream",
     "text": [
      "(5887, 0)\n"
     ]
    },
    {
     "data": {
      "text/html": [
       "<div>\n",
       "<style scoped>\n",
       "    .dataframe tbody tr th:only-of-type {\n",
       "        vertical-align: middle;\n",
       "    }\n",
       "\n",
       "    .dataframe tbody tr th {\n",
       "        vertical-align: top;\n",
       "    }\n",
       "\n",
       "    .dataframe thead th {\n",
       "        text-align: right;\n",
       "    }\n",
       "</style>\n",
       "<table border=\"1\" class=\"dataframe\">\n",
       "  <thead>\n",
       "    <tr style=\"text-align: right;\">\n",
       "      <th></th>\n",
       "    </tr>\n",
       "  </thead>\n",
       "  <tbody>\n",
       "    <tr>\n",
       "      <th>PA14_55610</th>\n",
       "    </tr>\n",
       "    <tr>\n",
       "      <th>PA14_55600</th>\n",
       "    </tr>\n",
       "    <tr>\n",
       "      <th>PA14_55590</th>\n",
       "    </tr>\n",
       "    <tr>\n",
       "      <th>PA14_55580</th>\n",
       "    </tr>\n",
       "    <tr>\n",
       "      <th>PA14_55570</th>\n",
       "    </tr>\n",
       "  </tbody>\n",
       "</table>\n",
       "</div>"
      ],
      "text/plain": [
       "Empty DataFrame\n",
       "Columns: []\n",
       "Index: [PA14_55610, PA14_55600, PA14_55590, PA14_55580, PA14_55570]"
      ]
     },
     "execution_count": 5,
     "metadata": {},
     "output_type": "execute_result"
    }
   ],
   "source": [
    "pa14_membership = pd.DataFrame(data=[], index=pa14_corr.index)\n",
    "print(pa14_membership.shape)\n",
    "pa14_membership.head()"
   ]
  },
  {
   "cell_type": "markdown",
   "id": "d1c26022",
   "metadata": {},
   "source": [
    "### Import and format operon data"
   ]
  },
  {
   "cell_type": "code",
   "execution_count": 6,
   "id": "58d6352e",
   "metadata": {},
   "outputs": [],
   "source": [
    "pao1_operon_filename = paths.PAO1_OPERON\n",
    "pa14_operon_filename = paths.PA14_OPERON"
   ]
  },
  {
   "cell_type": "code",
   "execution_count": 7,
   "id": "de616482",
   "metadata": {},
   "outputs": [],
   "source": [
    "pao1_operon = annotations.load_format_operons(pao1_operon_filename)\n",
    "pa14_operon = annotations.load_format_operons(pa14_operon_filename)"
   ]
  },
  {
   "cell_type": "code",
   "execution_count": 8,
   "id": "e6d444a1",
   "metadata": {
    "scrolled": true
   },
   "outputs": [
    {
     "name": "stdout",
     "output_type": "stream",
     "text": [
      "(3569, 1)\n"
     ]
    },
    {
     "data": {
      "text/html": [
       "<div>\n",
       "<style scoped>\n",
       "    .dataframe tbody tr th:only-of-type {\n",
       "        vertical-align: middle;\n",
       "    }\n",
       "\n",
       "    .dataframe tbody tr th {\n",
       "        vertical-align: top;\n",
       "    }\n",
       "\n",
       "    .dataframe thead th {\n",
       "        text-align: right;\n",
       "    }\n",
       "</style>\n",
       "<table border=\"1\" class=\"dataframe\">\n",
       "  <thead>\n",
       "    <tr style=\"text-align: right;\">\n",
       "      <th></th>\n",
       "      <th>operon_name</th>\n",
       "    </tr>\n",
       "    <tr>\n",
       "      <th>locus_tag</th>\n",
       "      <th></th>\n",
       "    </tr>\n",
       "  </thead>\n",
       "  <tbody>\n",
       "    <tr>\n",
       "      <th>PA0001</th>\n",
       "      <td>dnaA-dnaN-recF-gyrB</td>\n",
       "    </tr>\n",
       "    <tr>\n",
       "      <th>PA0002</th>\n",
       "      <td>dnaA-dnaN-recF-gyrB</td>\n",
       "    </tr>\n",
       "    <tr>\n",
       "      <th>PA0003</th>\n",
       "      <td>dnaA-dnaN-recF-gyrB</td>\n",
       "    </tr>\n",
       "    <tr>\n",
       "      <th>PA0004</th>\n",
       "      <td>dnaA-dnaN-recF-gyrB</td>\n",
       "    </tr>\n",
       "    <tr>\n",
       "      <th>PA0005</th>\n",
       "      <td>PA0006-lptA</td>\n",
       "    </tr>\n",
       "  </tbody>\n",
       "</table>\n",
       "</div>"
      ],
      "text/plain": [
       "                   operon_name\n",
       "locus_tag                     \n",
       "PA0001     dnaA-dnaN-recF-gyrB\n",
       "PA0002     dnaA-dnaN-recF-gyrB\n",
       "PA0003     dnaA-dnaN-recF-gyrB\n",
       "PA0004     dnaA-dnaN-recF-gyrB\n",
       "PA0005             PA0006-lptA"
      ]
     },
     "execution_count": 8,
     "metadata": {},
     "output_type": "execute_result"
    }
   ],
   "source": [
    "print(pao1_operon.shape)\n",
    "pao1_operon.head()"
   ]
  },
  {
   "cell_type": "code",
   "execution_count": 9,
   "id": "2d327200",
   "metadata": {},
   "outputs": [],
   "source": [
    "if use_operon:\n",
    "    pao1_operon_expression_to_use = pao1_operon\n",
    "    pa14_operon_expression_to_use = pa14_operon\n",
    "else:\n",
    "    pao1_operon_expression_to_use = None\n",
    "    pa14_operon_expression_to_use = None"
   ]
  },
  {
   "cell_type": "markdown",
   "id": "666b3052",
   "metadata": {},
   "source": [
    "### Map core/accessory labels to genes"
   ]
  },
  {
   "cell_type": "code",
   "execution_count": 10,
   "id": "953be866",
   "metadata": {},
   "outputs": [],
   "source": [
    "# Read in expression data\n",
    "pao1_expression_filename = paths.PAO1_COMPENDIUM\n",
    "pa14_expression_filename = paths.PA14_COMPENDIUM"
   ]
  },
  {
   "cell_type": "code",
   "execution_count": 11,
   "id": "f52e5f4e",
   "metadata": {},
   "outputs": [],
   "source": [
    "pao1_annot_filename = paths.GENE_PAO1_ANNOT\n",
    "pa14_annot_filename = paths.GENE_PA14_ANNOT"
   ]
  },
  {
   "cell_type": "code",
   "execution_count": 12,
   "id": "34053cd1",
   "metadata": {},
   "outputs": [
    {
     "name": "stdout",
     "output_type": "stream",
     "text": [
      "Number of PAO1 core genes: 5366\n",
      "Number of PA14 core genes: 5363\n",
      "Number of PAO1 core genes in my dataset: 5361\n",
      "Number of PA14 core genes in my dataset: 5357\n",
      "Number of PAO1-specific genes: 202\n",
      "Number of PA14-specific genes: 530\n"
     ]
    }
   ],
   "source": [
    "(\n",
    "    pao1_arr,\n",
    "    pa14_arr,\n",
    "    pao1_core,\n",
    "    pao1_acc,\n",
    "    pa14_core,\n",
    "    pa14_acc,\n",
    ") = annotations.map_core_acc_annot(\n",
    "    pao1_membership,\n",
    "    pa14_membership,\n",
    "    pao1_expression_filename,\n",
    "    pa14_expression_filename,\n",
    "    pao1_annot_filename,\n",
    "    pa14_annot_filename,\n",
    ")"
   ]
  },
  {
   "cell_type": "code",
   "execution_count": 13,
   "id": "7fa2adbb",
   "metadata": {},
   "outputs": [
    {
     "name": "stdout",
     "output_type": "stream",
     "text": [
      "(5563, 1)\n"
     ]
    },
    {
     "data": {
      "text/html": [
       "<div>\n",
       "<style scoped>\n",
       "    .dataframe tbody tr th:only-of-type {\n",
       "        vertical-align: middle;\n",
       "    }\n",
       "\n",
       "    .dataframe tbody tr th {\n",
       "        vertical-align: top;\n",
       "    }\n",
       "\n",
       "    .dataframe thead th {\n",
       "        text-align: right;\n",
       "    }\n",
       "</style>\n",
       "<table border=\"1\" class=\"dataframe\">\n",
       "  <thead>\n",
       "    <tr style=\"text-align: right;\">\n",
       "      <th></th>\n",
       "      <th>core/acc</th>\n",
       "    </tr>\n",
       "  </thead>\n",
       "  <tbody>\n",
       "    <tr>\n",
       "      <th>PA0001</th>\n",
       "      <td>core</td>\n",
       "    </tr>\n",
       "    <tr>\n",
       "      <th>PA0002</th>\n",
       "      <td>core</td>\n",
       "    </tr>\n",
       "    <tr>\n",
       "      <th>PA0003</th>\n",
       "      <td>core</td>\n",
       "    </tr>\n",
       "    <tr>\n",
       "      <th>PA0004</th>\n",
       "      <td>core</td>\n",
       "    </tr>\n",
       "    <tr>\n",
       "      <th>PA0005</th>\n",
       "      <td>core</td>\n",
       "    </tr>\n",
       "  </tbody>\n",
       "</table>\n",
       "</div>"
      ],
      "text/plain": [
       "       core/acc\n",
       "PA0001     core\n",
       "PA0002     core\n",
       "PA0003     core\n",
       "PA0004     core\n",
       "PA0005     core"
      ]
     },
     "execution_count": 13,
     "metadata": {},
     "output_type": "execute_result"
    }
   ],
   "source": [
    "print(pao1_arr.shape)\n",
    "pao1_arr.head()"
   ]
  },
  {
   "cell_type": "code",
   "execution_count": 14,
   "id": "bd674d1b",
   "metadata": {},
   "outputs": [
    {
     "data": {
      "text/html": [
       "<div>\n",
       "<style scoped>\n",
       "    .dataframe tbody tr th:only-of-type {\n",
       "        vertical-align: middle;\n",
       "    }\n",
       "\n",
       "    .dataframe tbody tr th {\n",
       "        vertical-align: top;\n",
       "    }\n",
       "\n",
       "    .dataframe thead th {\n",
       "        text-align: right;\n",
       "    }\n",
       "</style>\n",
       "<table border=\"1\" class=\"dataframe\">\n",
       "  <thead>\n",
       "    <tr style=\"text-align: right;\">\n",
       "      <th></th>\n",
       "      <th>core/acc</th>\n",
       "    </tr>\n",
       "  </thead>\n",
       "  <tbody>\n",
       "    <tr>\n",
       "      <th>PA5566</th>\n",
       "      <td>core</td>\n",
       "    </tr>\n",
       "    <tr>\n",
       "      <th>PA5567</th>\n",
       "      <td>core</td>\n",
       "    </tr>\n",
       "    <tr>\n",
       "      <th>PA5568</th>\n",
       "      <td>core</td>\n",
       "    </tr>\n",
       "    <tr>\n",
       "      <th>PA5569</th>\n",
       "      <td>core</td>\n",
       "    </tr>\n",
       "    <tr>\n",
       "      <th>PA5570</th>\n",
       "      <td>acc</td>\n",
       "    </tr>\n",
       "  </tbody>\n",
       "</table>\n",
       "</div>"
      ],
      "text/plain": [
       "       core/acc\n",
       "PA5566     core\n",
       "PA5567     core\n",
       "PA5568     core\n",
       "PA5569     core\n",
       "PA5570      acc"
      ]
     },
     "execution_count": 14,
     "metadata": {},
     "output_type": "execute_result"
    }
   ],
   "source": [
    "pao1_arr.tail()"
   ]
  },
  {
   "cell_type": "code",
   "execution_count": 15,
   "id": "b1feb9a4",
   "metadata": {},
   "outputs": [
    {
     "name": "stdout",
     "output_type": "stream",
     "text": [
      "(5887, 1)\n"
     ]
    },
    {
     "data": {
      "text/html": [
       "<div>\n",
       "<style scoped>\n",
       "    .dataframe tbody tr th:only-of-type {\n",
       "        vertical-align: middle;\n",
       "    }\n",
       "\n",
       "    .dataframe tbody tr th {\n",
       "        vertical-align: top;\n",
       "    }\n",
       "\n",
       "    .dataframe thead th {\n",
       "        text-align: right;\n",
       "    }\n",
       "</style>\n",
       "<table border=\"1\" class=\"dataframe\">\n",
       "  <thead>\n",
       "    <tr style=\"text-align: right;\">\n",
       "      <th></th>\n",
       "      <th>core/acc</th>\n",
       "    </tr>\n",
       "  </thead>\n",
       "  <tbody>\n",
       "    <tr>\n",
       "      <th>PA14_00010</th>\n",
       "      <td>core</td>\n",
       "    </tr>\n",
       "    <tr>\n",
       "      <th>PA14_00020</th>\n",
       "      <td>core</td>\n",
       "    </tr>\n",
       "    <tr>\n",
       "      <th>PA14_00030</th>\n",
       "      <td>core</td>\n",
       "    </tr>\n",
       "    <tr>\n",
       "      <th>PA14_00050</th>\n",
       "      <td>core</td>\n",
       "    </tr>\n",
       "    <tr>\n",
       "      <th>PA14_00060</th>\n",
       "      <td>core</td>\n",
       "    </tr>\n",
       "  </tbody>\n",
       "</table>\n",
       "</div>"
      ],
      "text/plain": [
       "           core/acc\n",
       "PA14_00010     core\n",
       "PA14_00020     core\n",
       "PA14_00030     core\n",
       "PA14_00050     core\n",
       "PA14_00060     core"
      ]
     },
     "execution_count": 15,
     "metadata": {},
     "output_type": "execute_result"
    }
   ],
   "source": [
    "print(pa14_arr.shape)\n",
    "pa14_arr.head()"
   ]
  },
  {
   "cell_type": "code",
   "execution_count": 16,
   "id": "fcf345a4",
   "metadata": {},
   "outputs": [
    {
     "data": {
      "text/html": [
       "<div>\n",
       "<style scoped>\n",
       "    .dataframe tbody tr th:only-of-type {\n",
       "        vertical-align: middle;\n",
       "    }\n",
       "\n",
       "    .dataframe tbody tr th {\n",
       "        vertical-align: top;\n",
       "    }\n",
       "\n",
       "    .dataframe thead th {\n",
       "        text-align: right;\n",
       "    }\n",
       "</style>\n",
       "<table border=\"1\" class=\"dataframe\">\n",
       "  <thead>\n",
       "    <tr style=\"text-align: right;\">\n",
       "      <th></th>\n",
       "      <th>core/acc</th>\n",
       "    </tr>\n",
       "  </thead>\n",
       "  <tbody>\n",
       "    <tr>\n",
       "      <th>PA14_73370</th>\n",
       "      <td>core</td>\n",
       "    </tr>\n",
       "    <tr>\n",
       "      <th>PA14_73390</th>\n",
       "      <td>core</td>\n",
       "    </tr>\n",
       "    <tr>\n",
       "      <th>PA14_73400</th>\n",
       "      <td>core</td>\n",
       "    </tr>\n",
       "    <tr>\n",
       "      <th>PA14_73410</th>\n",
       "      <td>core</td>\n",
       "    </tr>\n",
       "    <tr>\n",
       "      <th>PA14_73420</th>\n",
       "      <td>core</td>\n",
       "    </tr>\n",
       "  </tbody>\n",
       "</table>\n",
       "</div>"
      ],
      "text/plain": [
       "           core/acc\n",
       "PA14_73370     core\n",
       "PA14_73390     core\n",
       "PA14_73400     core\n",
       "PA14_73410     core\n",
       "PA14_73420     core"
      ]
     },
     "execution_count": 16,
     "metadata": {},
     "output_type": "execute_result"
    }
   ],
   "source": [
    "pa14_arr.tail()"
   ]
  },
  {
   "cell_type": "code",
   "execution_count": 17,
   "id": "f51e8a76",
   "metadata": {},
   "outputs": [],
   "source": [
    "# Fill in index of operon_df to include all genes\n",
    "all_pao1_gene_ids = pao1_arr.index\n",
    "all_pa14_gene_ids = pa14_arr.index\n",
    "\n",
    "# Get missing gene ids\n",
    "missing_pao1_gene_ids = set(all_pao1_gene_ids).difference(pao1_operon.index)\n",
    "missing_pa14_gene_ids = set(all_pa14_gene_ids).difference(pa14_operon.index)\n",
    "\n",
    "# Make dataframe with missing gene ids with np.nan values for operon_name\n",
    "missing_pao1_gene_df = pd.DataFrame(\n",
    "    data=np.nan, index=list(missing_pao1_gene_ids), columns=[\"operon_name\"]\n",
    ")\n",
    "missing_pa14_gene_df = pd.DataFrame(\n",
    "    data=np.nan, index=list(missing_pa14_gene_ids), columns=[\"operon_name\"]\n",
    ")\n",
    "\n",
    "pao1_operon_genome_dist = pao1_operon.append(missing_pao1_gene_df)\n",
    "pa14_operon_genome_dist = pa14_operon.append(missing_pa14_gene_df)\n",
    "\n",
    "pao1_operon_genome_dist = pao1_operon_genome_dist.loc[all_pao1_gene_ids]\n",
    "pa14_operon_genome_dist = pa14_operon_genome_dist.loc[all_pa14_gene_ids]"
   ]
  },
  {
   "cell_type": "code",
   "execution_count": 18,
   "id": "5853f5e6",
   "metadata": {},
   "outputs": [
    {
     "name": "stdout",
     "output_type": "stream",
     "text": [
      "(5563, 1)\n"
     ]
    },
    {
     "data": {
      "text/html": [
       "<div>\n",
       "<style scoped>\n",
       "    .dataframe tbody tr th:only-of-type {\n",
       "        vertical-align: middle;\n",
       "    }\n",
       "\n",
       "    .dataframe tbody tr th {\n",
       "        vertical-align: top;\n",
       "    }\n",
       "\n",
       "    .dataframe thead th {\n",
       "        text-align: right;\n",
       "    }\n",
       "</style>\n",
       "<table border=\"1\" class=\"dataframe\">\n",
       "  <thead>\n",
       "    <tr style=\"text-align: right;\">\n",
       "      <th></th>\n",
       "      <th>operon_name</th>\n",
       "    </tr>\n",
       "  </thead>\n",
       "  <tbody>\n",
       "    <tr>\n",
       "      <th>PA5566</th>\n",
       "      <td>NaN</td>\n",
       "    </tr>\n",
       "    <tr>\n",
       "      <th>PA5567</th>\n",
       "      <td>PA5568-PA5567</td>\n",
       "    </tr>\n",
       "    <tr>\n",
       "      <th>PA5568</th>\n",
       "      <td>PA5568-PA5567</td>\n",
       "    </tr>\n",
       "    <tr>\n",
       "      <th>PA5569</th>\n",
       "      <td>rpmH-rnpA</td>\n",
       "    </tr>\n",
       "    <tr>\n",
       "      <th>PA5570</th>\n",
       "      <td>rpmH-rnpA</td>\n",
       "    </tr>\n",
       "  </tbody>\n",
       "</table>\n",
       "</div>"
      ],
      "text/plain": [
       "          operon_name\n",
       "PA5566            NaN\n",
       "PA5567  PA5568-PA5567\n",
       "PA5568  PA5568-PA5567\n",
       "PA5569      rpmH-rnpA\n",
       "PA5570      rpmH-rnpA"
      ]
     },
     "execution_count": 18,
     "metadata": {},
     "output_type": "execute_result"
    }
   ],
   "source": [
    "print(pao1_operon_genome_dist.shape)\n",
    "pao1_operon_genome_dist.tail()"
   ]
  },
  {
   "cell_type": "code",
   "execution_count": 19,
   "id": "b6c80fe2",
   "metadata": {
    "scrolled": true
   },
   "outputs": [
    {
     "name": "stdout",
     "output_type": "stream",
     "text": [
      "(5887, 1)\n"
     ]
    },
    {
     "data": {
      "text/html": [
       "<div>\n",
       "<style scoped>\n",
       "    .dataframe tbody tr th:only-of-type {\n",
       "        vertical-align: middle;\n",
       "    }\n",
       "\n",
       "    .dataframe tbody tr th {\n",
       "        vertical-align: top;\n",
       "    }\n",
       "\n",
       "    .dataframe thead th {\n",
       "        text-align: right;\n",
       "    }\n",
       "</style>\n",
       "<table border=\"1\" class=\"dataframe\">\n",
       "  <thead>\n",
       "    <tr style=\"text-align: right;\">\n",
       "      <th></th>\n",
       "      <th>operon_name</th>\n",
       "    </tr>\n",
       "  </thead>\n",
       "  <tbody>\n",
       "    <tr>\n",
       "      <th>PA14_73370</th>\n",
       "      <td>gidA-gidB-soj-parB</td>\n",
       "    </tr>\n",
       "    <tr>\n",
       "      <th>PA14_73390</th>\n",
       "      <td>NaN</td>\n",
       "    </tr>\n",
       "    <tr>\n",
       "      <th>PA14_73400</th>\n",
       "      <td>PA14_73410-trmE</td>\n",
       "    </tr>\n",
       "    <tr>\n",
       "      <th>PA14_73410</th>\n",
       "      <td>PA14_73410-trmE</td>\n",
       "    </tr>\n",
       "    <tr>\n",
       "      <th>PA14_73420</th>\n",
       "      <td>NaN</td>\n",
       "    </tr>\n",
       "  </tbody>\n",
       "</table>\n",
       "</div>"
      ],
      "text/plain": [
       "                   operon_name\n",
       "PA14_73370  gidA-gidB-soj-parB\n",
       "PA14_73390                 NaN\n",
       "PA14_73400     PA14_73410-trmE\n",
       "PA14_73410     PA14_73410-trmE\n",
       "PA14_73420                 NaN"
      ]
     },
     "execution_count": 19,
     "metadata": {},
     "output_type": "execute_result"
    }
   ],
   "source": [
    "print(pa14_operon_genome_dist.shape)\n",
    "pa14_operon_genome_dist.tail()"
   ]
  },
  {
   "cell_type": "code",
   "execution_count": 20,
   "id": "67cb8654",
   "metadata": {},
   "outputs": [],
   "source": [
    "if use_operon:\n",
    "    pao1_operon_genome_to_use = pao1_operon_genome_dist\n",
    "    pa14_operon_genome_to_use = pa14_operon_genome_dist\n",
    "else:\n",
    "    pao1_operon_genome_to_use = None\n",
    "    pa14_operon_genome_to_use = None"
   ]
  },
  {
   "cell_type": "markdown",
   "id": "6b92fe62",
   "metadata": {},
   "source": [
    "## Find relationships using genome distance"
   ]
  },
  {
   "cell_type": "code",
   "execution_count": 21,
   "id": "c2d6eabc",
   "metadata": {
    "scrolled": false
   },
   "outputs": [],
   "source": [
    "genome_dist_counts_pao1 = gene_relationships.get_relationship_in_genome_space(\n",
    "    pao1_arr, offset_to_bin, pao1_operon_genome_to_use\n",
    ")\n",
    "genome_dist_counts_pa14 = gene_relationships.get_relationship_in_genome_space(\n",
    "    pa14_arr, offset_to_bin, pa14_operon_genome_to_use\n",
    ")"
   ]
  },
  {
   "cell_type": "code",
   "execution_count": 22,
   "id": "02d6bd84",
   "metadata": {
    "scrolled": true
   },
   "outputs": [
    {
     "data": {
      "text/html": [
       "<div>\n",
       "<style scoped>\n",
       "    .dataframe tbody tr th:only-of-type {\n",
       "        vertical-align: middle;\n",
       "    }\n",
       "\n",
       "    .dataframe tbody tr th {\n",
       "        vertical-align: top;\n",
       "    }\n",
       "\n",
       "    .dataframe thead th {\n",
       "        text-align: right;\n",
       "    }\n",
       "</style>\n",
       "<table border=\"1\" class=\"dataframe\">\n",
       "  <thead>\n",
       "    <tr style=\"text-align: right;\">\n",
       "      <th></th>\n",
       "      <th>gene start</th>\n",
       "      <th>gene compare</th>\n",
       "      <th>offset</th>\n",
       "      <th>total</th>\n",
       "    </tr>\n",
       "  </thead>\n",
       "  <tbody>\n",
       "    <tr>\n",
       "      <th>0</th>\n",
       "      <td>acc</td>\n",
       "      <td>acc</td>\n",
       "      <td>1</td>\n",
       "      <td>108.0</td>\n",
       "    </tr>\n",
       "    <tr>\n",
       "      <th>1</th>\n",
       "      <td>acc</td>\n",
       "      <td>acc</td>\n",
       "      <td>2</td>\n",
       "      <td>128.0</td>\n",
       "    </tr>\n",
       "    <tr>\n",
       "      <th>2</th>\n",
       "      <td>acc</td>\n",
       "      <td>acc</td>\n",
       "      <td>3</td>\n",
       "      <td>110.0</td>\n",
       "    </tr>\n",
       "    <tr>\n",
       "      <th>3</th>\n",
       "      <td>acc</td>\n",
       "      <td>acc</td>\n",
       "      <td>4</td>\n",
       "      <td>102.0</td>\n",
       "    </tr>\n",
       "    <tr>\n",
       "      <th>4</th>\n",
       "      <td>acc</td>\n",
       "      <td>acc</td>\n",
       "      <td>5</td>\n",
       "      <td>84.0</td>\n",
       "    </tr>\n",
       "  </tbody>\n",
       "</table>\n",
       "</div>"
      ],
      "text/plain": [
       "  gene start gene compare offset  total\n",
       "0        acc          acc      1  108.0\n",
       "1        acc          acc      2  128.0\n",
       "2        acc          acc      3  110.0\n",
       "3        acc          acc      4  102.0\n",
       "4        acc          acc      5   84.0"
      ]
     },
     "execution_count": 22,
     "metadata": {},
     "output_type": "execute_result"
    }
   ],
   "source": [
    "genome_dist_counts_pao1.head()"
   ]
  },
  {
   "cell_type": "code",
   "execution_count": 23,
   "id": "dc24d409",
   "metadata": {},
   "outputs": [
    {
     "data": {
      "text/html": [
       "<div>\n",
       "<style scoped>\n",
       "    .dataframe tbody tr th:only-of-type {\n",
       "        vertical-align: middle;\n",
       "    }\n",
       "\n",
       "    .dataframe tbody tr th {\n",
       "        vertical-align: top;\n",
       "    }\n",
       "\n",
       "    .dataframe thead th {\n",
       "        text-align: right;\n",
       "    }\n",
       "</style>\n",
       "<table border=\"1\" class=\"dataframe\">\n",
       "  <thead>\n",
       "    <tr style=\"text-align: right;\">\n",
       "      <th></th>\n",
       "      <th>gene start</th>\n",
       "      <th>gene compare</th>\n",
       "      <th>offset</th>\n",
       "      <th>total</th>\n",
       "    </tr>\n",
       "  </thead>\n",
       "  <tbody>\n",
       "    <tr>\n",
       "      <th>0</th>\n",
       "      <td>acc</td>\n",
       "      <td>acc</td>\n",
       "      <td>1</td>\n",
       "      <td>374.0</td>\n",
       "    </tr>\n",
       "    <tr>\n",
       "      <th>1</th>\n",
       "      <td>acc</td>\n",
       "      <td>acc</td>\n",
       "      <td>2</td>\n",
       "      <td>484.0</td>\n",
       "    </tr>\n",
       "    <tr>\n",
       "      <th>2</th>\n",
       "      <td>acc</td>\n",
       "      <td>acc</td>\n",
       "      <td>3</td>\n",
       "      <td>496.0</td>\n",
       "    </tr>\n",
       "    <tr>\n",
       "      <th>3</th>\n",
       "      <td>acc</td>\n",
       "      <td>acc</td>\n",
       "      <td>4</td>\n",
       "      <td>490.0</td>\n",
       "    </tr>\n",
       "    <tr>\n",
       "      <th>4</th>\n",
       "      <td>acc</td>\n",
       "      <td>acc</td>\n",
       "      <td>5</td>\n",
       "      <td>472.0</td>\n",
       "    </tr>\n",
       "  </tbody>\n",
       "</table>\n",
       "</div>"
      ],
      "text/plain": [
       "  gene start gene compare offset  total\n",
       "0        acc          acc      1  374.0\n",
       "1        acc          acc      2  484.0\n",
       "2        acc          acc      3  496.0\n",
       "3        acc          acc      4  490.0\n",
       "4        acc          acc      5  472.0"
      ]
     },
     "execution_count": 23,
     "metadata": {},
     "output_type": "execute_result"
    }
   ],
   "source": [
    "genome_dist_counts_pa14.head()"
   ]
  },
  {
   "cell_type": "markdown",
   "id": "3d9e6555",
   "metadata": {},
   "source": [
    "## Find relationships using expression distance"
   ]
  },
  {
   "cell_type": "code",
   "execution_count": 24,
   "id": "91238a03",
   "metadata": {},
   "outputs": [],
   "source": [
    "# Correlation matrix files\n",
    "pao1_corr_filename = paths.PAO1_CORR_LOG_SPELL\n",
    "pa14_corr_filename = paths.PA14_CORR_LOG_SPELL"
   ]
  },
  {
   "cell_type": "code",
   "execution_count": 25,
   "id": "58631321",
   "metadata": {},
   "outputs": [],
   "source": [
    "# Load correlation data\n",
    "pao1_corr = pd.read_csv(pao1_corr_filename, sep=\"\\t\", index_col=0, header=0)\n",
    "pa14_corr = pd.read_csv(pa14_corr_filename, sep=\"\\t\", index_col=0, header=0)"
   ]
  },
  {
   "cell_type": "code",
   "execution_count": 26,
   "id": "5a01a6de",
   "metadata": {
    "scrolled": true
   },
   "outputs": [
    {
     "name": "stdout",
     "output_type": "stream",
     "text": [
      "CPU times: user 2min 17s, sys: 0 ns, total: 2min 17s\n",
      "Wall time: 2min 17s\n"
     ]
    }
   ],
   "source": [
    "%%time\n",
    "expression_dist_counts_pao1_acc = (\n",
    "    gene_relationships.get_relationship_in_expression_space(\n",
    "        pao1_corr,\n",
    "        pao1_acc,\n",
    "        pao1_arr,\n",
    "        offset_to_bin,\n",
    "        pao1_operon_expression_to_use,\n",
    "        sum_increment_to_use,\n",
    "    )\n",
    ")"
   ]
  },
  {
   "cell_type": "code",
   "execution_count": 27,
   "id": "0a555fec",
   "metadata": {},
   "outputs": [
    {
     "name": "stdout",
     "output_type": "stream",
     "text": [
      "CPU times: user 2h 31min 13s, sys: 2min 41s, total: 2h 33min 54s\n",
      "Wall time: 2h 33min 54s\n"
     ]
    }
   ],
   "source": [
    "%%time\n",
    "expression_dist_counts_pao1_core = (\n",
    "    gene_relationships.get_relationship_in_expression_space(\n",
    "        pao1_corr,\n",
    "        pao1_core,\n",
    "        pao1_arr,\n",
    "        offset_to_bin,\n",
    "        pao1_operon_expression_to_use,\n",
    "        sum_increment_to_use,\n",
    "    )\n",
    ")"
   ]
  },
  {
   "cell_type": "code",
   "execution_count": 28,
   "id": "5e648b33",
   "metadata": {},
   "outputs": [
    {
     "name": "stdout",
     "output_type": "stream",
     "text": [
      "CPU times: user 7min 6s, sys: 124 µs, total: 7min 6s\n",
      "Wall time: 7min 6s\n"
     ]
    }
   ],
   "source": [
    "%%time\n",
    "expression_dist_counts_pa14_acc = (\n",
    "    gene_relationships.get_relationship_in_expression_space(\n",
    "        pa14_corr,\n",
    "        pa14_acc,\n",
    "        pa14_arr,\n",
    "        offset_to_bin,\n",
    "        pa14_operon_expression_to_use,\n",
    "        sum_increment_to_use,\n",
    "    )\n",
    ")"
   ]
  },
  {
   "cell_type": "code",
   "execution_count": 29,
   "id": "f4d30904",
   "metadata": {},
   "outputs": [
    {
     "name": "stdout",
     "output_type": "stream",
     "text": [
      "CPU times: user 2h 40min 25s, sys: 2min 50s, total: 2h 43min 16s\n",
      "Wall time: 2h 43min 15s\n"
     ]
    }
   ],
   "source": [
    "%%time\n",
    "expression_dist_counts_pa14_core = (\n",
    "    gene_relationships.get_relationship_in_expression_space(\n",
    "        pa14_corr,\n",
    "        pa14_core,\n",
    "        pa14_arr,\n",
    "        offset_to_bin,\n",
    "        pa14_operon_expression_to_use,\n",
    "        sum_increment_to_use,\n",
    "    )\n",
    ")"
   ]
  },
  {
   "cell_type": "code",
   "execution_count": 30,
   "id": "7f7324f3",
   "metadata": {},
   "outputs": [
    {
     "data": {
      "text/html": [
       "<div>\n",
       "<style scoped>\n",
       "    .dataframe tbody tr th:only-of-type {\n",
       "        vertical-align: middle;\n",
       "    }\n",
       "\n",
       "    .dataframe tbody tr th {\n",
       "        vertical-align: top;\n",
       "    }\n",
       "\n",
       "    .dataframe thead th {\n",
       "        text-align: right;\n",
       "    }\n",
       "</style>\n",
       "<table border=\"1\" class=\"dataframe\">\n",
       "  <thead>\n",
       "    <tr style=\"text-align: right;\">\n",
       "      <th></th>\n",
       "      <th>offset</th>\n",
       "      <th>gene type</th>\n",
       "      <th>total</th>\n",
       "    </tr>\n",
       "  </thead>\n",
       "  <tbody>\n",
       "    <tr>\n",
       "      <th>0</th>\n",
       "      <td>1</td>\n",
       "      <td>acc</td>\n",
       "      <td>122.0</td>\n",
       "    </tr>\n",
       "    <tr>\n",
       "      <th>1</th>\n",
       "      <td>2</td>\n",
       "      <td>acc</td>\n",
       "      <td>109.0</td>\n",
       "    </tr>\n",
       "    <tr>\n",
       "      <th>2</th>\n",
       "      <td>3</td>\n",
       "      <td>acc</td>\n",
       "      <td>110.0</td>\n",
       "    </tr>\n",
       "    <tr>\n",
       "      <th>3</th>\n",
       "      <td>4</td>\n",
       "      <td>acc</td>\n",
       "      <td>104.0</td>\n",
       "    </tr>\n",
       "    <tr>\n",
       "      <th>4</th>\n",
       "      <td>5</td>\n",
       "      <td>acc</td>\n",
       "      <td>93.0</td>\n",
       "    </tr>\n",
       "  </tbody>\n",
       "</table>\n",
       "</div>"
      ],
      "text/plain": [
       "  offset gene type  total\n",
       "0      1       acc  122.0\n",
       "1      2       acc  109.0\n",
       "2      3       acc  110.0\n",
       "3      4       acc  104.0\n",
       "4      5       acc   93.0"
      ]
     },
     "execution_count": 30,
     "metadata": {},
     "output_type": "execute_result"
    }
   ],
   "source": [
    "expression_dist_counts_pao1_acc.head()"
   ]
  },
  {
   "cell_type": "code",
   "execution_count": 31,
   "id": "f77829b6",
   "metadata": {},
   "outputs": [
    {
     "data": {
      "text/html": [
       "<div>\n",
       "<style scoped>\n",
       "    .dataframe tbody tr th:only-of-type {\n",
       "        vertical-align: middle;\n",
       "    }\n",
       "\n",
       "    .dataframe tbody tr th {\n",
       "        vertical-align: top;\n",
       "    }\n",
       "\n",
       "    .dataframe thead th {\n",
       "        text-align: right;\n",
       "    }\n",
       "</style>\n",
       "<table border=\"1\" class=\"dataframe\">\n",
       "  <thead>\n",
       "    <tr style=\"text-align: right;\">\n",
       "      <th></th>\n",
       "      <th>offset</th>\n",
       "      <th>gene type</th>\n",
       "      <th>total</th>\n",
       "    </tr>\n",
       "  </thead>\n",
       "  <tbody>\n",
       "    <tr>\n",
       "      <th>0</th>\n",
       "      <td>1</td>\n",
       "      <td>acc</td>\n",
       "      <td>81.0</td>\n",
       "    </tr>\n",
       "    <tr>\n",
       "      <th>1</th>\n",
       "      <td>2</td>\n",
       "      <td>acc</td>\n",
       "      <td>85.0</td>\n",
       "    </tr>\n",
       "    <tr>\n",
       "      <th>2</th>\n",
       "      <td>3</td>\n",
       "      <td>acc</td>\n",
       "      <td>96.0</td>\n",
       "    </tr>\n",
       "    <tr>\n",
       "      <th>3</th>\n",
       "      <td>4</td>\n",
       "      <td>acc</td>\n",
       "      <td>106.0</td>\n",
       "    </tr>\n",
       "    <tr>\n",
       "      <th>4</th>\n",
       "      <td>5</td>\n",
       "      <td>acc</td>\n",
       "      <td>105.0</td>\n",
       "    </tr>\n",
       "  </tbody>\n",
       "</table>\n",
       "</div>"
      ],
      "text/plain": [
       "  offset gene type  total\n",
       "0      1       acc   81.0\n",
       "1      2       acc   85.0\n",
       "2      3       acc   96.0\n",
       "3      4       acc  106.0\n",
       "4      5       acc  105.0"
      ]
     },
     "execution_count": 31,
     "metadata": {},
     "output_type": "execute_result"
    }
   ],
   "source": [
    "expression_dist_counts_pao1_core.head()"
   ]
  },
  {
   "cell_type": "code",
   "execution_count": 32,
   "id": "4471f9c8",
   "metadata": {},
   "outputs": [
    {
     "data": {
      "text/html": [
       "<div>\n",
       "<style scoped>\n",
       "    .dataframe tbody tr th:only-of-type {\n",
       "        vertical-align: middle;\n",
       "    }\n",
       "\n",
       "    .dataframe tbody tr th {\n",
       "        vertical-align: top;\n",
       "    }\n",
       "\n",
       "    .dataframe thead th {\n",
       "        text-align: right;\n",
       "    }\n",
       "</style>\n",
       "<table border=\"1\" class=\"dataframe\">\n",
       "  <thead>\n",
       "    <tr style=\"text-align: right;\">\n",
       "      <th></th>\n",
       "      <th>offset</th>\n",
       "      <th>gene type</th>\n",
       "      <th>total</th>\n",
       "    </tr>\n",
       "  </thead>\n",
       "  <tbody>\n",
       "    <tr>\n",
       "      <th>0</th>\n",
       "      <td>1</td>\n",
       "      <td>acc</td>\n",
       "      <td>317.0</td>\n",
       "    </tr>\n",
       "    <tr>\n",
       "      <th>1</th>\n",
       "      <td>2</td>\n",
       "      <td>acc</td>\n",
       "      <td>321.0</td>\n",
       "    </tr>\n",
       "    <tr>\n",
       "      <th>2</th>\n",
       "      <td>3</td>\n",
       "      <td>acc</td>\n",
       "      <td>315.0</td>\n",
       "    </tr>\n",
       "    <tr>\n",
       "      <th>3</th>\n",
       "      <td>4</td>\n",
       "      <td>acc</td>\n",
       "      <td>312.0</td>\n",
       "    </tr>\n",
       "    <tr>\n",
       "      <th>4</th>\n",
       "      <td>5</td>\n",
       "      <td>acc</td>\n",
       "      <td>301.0</td>\n",
       "    </tr>\n",
       "  </tbody>\n",
       "</table>\n",
       "</div>"
      ],
      "text/plain": [
       "  offset gene type  total\n",
       "0      1       acc  317.0\n",
       "1      2       acc  321.0\n",
       "2      3       acc  315.0\n",
       "3      4       acc  312.0\n",
       "4      5       acc  301.0"
      ]
     },
     "execution_count": 32,
     "metadata": {},
     "output_type": "execute_result"
    }
   ],
   "source": [
    "expression_dist_counts_pa14_acc.head()"
   ]
  },
  {
   "cell_type": "code",
   "execution_count": 33,
   "id": "6162b4ee",
   "metadata": {},
   "outputs": [
    {
     "data": {
      "text/html": [
       "<div>\n",
       "<style scoped>\n",
       "    .dataframe tbody tr th:only-of-type {\n",
       "        vertical-align: middle;\n",
       "    }\n",
       "\n",
       "    .dataframe tbody tr th {\n",
       "        vertical-align: top;\n",
       "    }\n",
       "\n",
       "    .dataframe thead th {\n",
       "        text-align: right;\n",
       "    }\n",
       "</style>\n",
       "<table border=\"1\" class=\"dataframe\">\n",
       "  <thead>\n",
       "    <tr style=\"text-align: right;\">\n",
       "      <th></th>\n",
       "      <th>offset</th>\n",
       "      <th>gene type</th>\n",
       "      <th>total</th>\n",
       "    </tr>\n",
       "  </thead>\n",
       "  <tbody>\n",
       "    <tr>\n",
       "      <th>0</th>\n",
       "      <td>1</td>\n",
       "      <td>acc</td>\n",
       "      <td>168.0</td>\n",
       "    </tr>\n",
       "    <tr>\n",
       "      <th>1</th>\n",
       "      <td>2</td>\n",
       "      <td>acc</td>\n",
       "      <td>225.0</td>\n",
       "    </tr>\n",
       "    <tr>\n",
       "      <th>2</th>\n",
       "      <td>3</td>\n",
       "      <td>acc</td>\n",
       "      <td>206.0</td>\n",
       "    </tr>\n",
       "    <tr>\n",
       "      <th>3</th>\n",
       "      <td>4</td>\n",
       "      <td>acc</td>\n",
       "      <td>212.0</td>\n",
       "    </tr>\n",
       "    <tr>\n",
       "      <th>4</th>\n",
       "      <td>5</td>\n",
       "      <td>acc</td>\n",
       "      <td>217.0</td>\n",
       "    </tr>\n",
       "  </tbody>\n",
       "</table>\n",
       "</div>"
      ],
      "text/plain": [
       "  offset gene type  total\n",
       "0      1       acc  168.0\n",
       "1      2       acc  225.0\n",
       "2      3       acc  206.0\n",
       "3      4       acc  212.0\n",
       "4      5       acc  217.0"
      ]
     },
     "execution_count": 33,
     "metadata": {},
     "output_type": "execute_result"
    }
   ],
   "source": [
    "expression_dist_counts_pa14_core.head()"
   ]
  },
  {
   "cell_type": "markdown",
   "id": "e405385c",
   "metadata": {},
   "source": [
    "### Plot"
   ]
  },
  {
   "cell_type": "code",
   "execution_count": 34,
   "id": "ad8dadcb",
   "metadata": {},
   "outputs": [
    {
     "data": {
      "text/plain": [
       "<matplotlib.legend.Legend at 0x7f4ed7b67d50>"
      ]
     },
     "execution_count": 34,
     "metadata": {},
     "output_type": "execute_result"
    },
    {
     "data": {
      "image/png": "[encoded data removed]",
      "text/plain": [
       "<Figure size 1080x1080 with 4 Axes>"
      ]
     },
     "metadata": {
      "needs_background": "light"
     },
     "output_type": "display_data"
    }
   ],
   "source": [
    "# Plot PAO1 trends\n",
    "fig, axes = plt.subplots(ncols=2, nrows=2, figsize=(15, 15))\n",
    "\n",
    "fig = sns.barplot(\n",
    "    data=genome_dist_counts_pao1[genome_dist_counts_pao1[\"gene start\"] == \"acc\"],\n",
    "    x=\"offset\",\n",
    "    y=\"total\",\n",
    "    hue=\"gene compare\",\n",
    "    ax=axes[0][0],\n",
    "    palette=sns.color_palette(\"Paired\"),\n",
    ")\n",
    "fig.legend_.remove()\n",
    "fig.set_title(\"Starting with accessory gene PAO1\")\n",
    "fig.set_ylabel(\"Number of genes\")\n",
    "fig.set_xlabel(\"Offset in genome space\")\n",
    "\n",
    "fig = sns.barplot(\n",
    "    data=genome_dist_counts_pao1[genome_dist_counts_pao1[\"gene start\"] == \"core\"],\n",
    "    x=\"offset\",\n",
    "    y=\"total\",\n",
    "    hue=\"gene compare\",\n",
    "    ax=axes[1][0],\n",
    "    palette=sns.color_palette(\"Paired\"),\n",
    ")\n",
    "fig.legend_.remove()\n",
    "fig.set_title(\"Starting with core gene PAO1\")\n",
    "fig.set_ylabel(\"Number of genes\")\n",
    "fig.set_xlabel(\"Offset in genome space\")\n",
    "\n",
    "fig = sns.barplot(\n",
    "    data=expression_dist_counts_pao1_acc,\n",
    "    x=\"offset\",\n",
    "    y=\"total\",\n",
    "    hue=\"gene type\",\n",
    "    ax=axes[0][1],\n",
    "    palette=sns.color_palette(\"Paired\"),\n",
    ")\n",
    "fig.legend_.remove()\n",
    "fig.set_title(\"Starting with accessory gene PAO1\")\n",
    "fig.set_ylabel(\"Number of genes\")\n",
    "fig.set_xlabel(\"Rank correlation in expression space\")\n",
    "\n",
    "fig = sns.barplot(\n",
    "    data=expression_dist_counts_pao1_core,\n",
    "    x=\"offset\",\n",
    "    y=\"total\",\n",
    "    hue=\"gene type\",\n",
    "    ax=axes[1][1],\n",
    "    palette=sns.color_palette(\"Paired\"),\n",
    ")\n",
    "fig.legend_.remove()\n",
    "fig.set_title(\"Starting with core gene PAO1\")\n",
    "fig.set_ylabel(\"Number of genes\")\n",
    "fig.set_xlabel(\"Rank correlation in expression space\")\n",
    "\n",
    "\n",
    "# Note: We are creating a single global legend that apply\n",
    "# to all the facets of this figure. To do this using\n",
    "# matplotlib, we need to be a little creative here\n",
    "# and add the legend to a new location that is applied\n",
    "# to the figure and then remove the legend from the facet.\n",
    "plt.legend(bbox_to_anchor=(1.05, 1.15), loc=2, borderaxespad=0.0)"
   ]
  },
  {
   "cell_type": "code",
   "execution_count": 35,
   "id": "cd8752f0",
   "metadata": {},
   "outputs": [
    {
     "data": {
      "text/plain": [
       "<matplotlib.legend.Legend at 0x7f4ed7a49850>"
      ]
     },
     "execution_count": 35,
     "metadata": {},
     "output_type": "execute_result"
    },
    {
     "data": {
      "image/png": "[encoded data removed]",
      "text/plain": [
       "<Figure size 1080x1080 with 4 Axes>"
      ]
     },
     "metadata": {
      "needs_background": "light"
     },
     "output_type": "display_data"
    }
   ],
   "source": [
    "# Plot PA14 trends\n",
    "fig2, axes2 = plt.subplots(ncols=2, nrows=2, figsize=(15, 15))\n",
    "\n",
    "fig2 = sns.barplot(\n",
    "    data=genome_dist_counts_pa14[genome_dist_counts_pa14[\"gene start\"] == \"acc\"],\n",
    "    x=\"offset\",\n",
    "    y=\"total\",\n",
    "    hue=\"gene compare\",\n",
    "    ax=axes2[0][0],\n",
    "    palette=sns.color_palette(\"Paired\"),\n",
    ")\n",
    "fig2.legend_.remove()\n",
    "fig2.set_title(\"Starting with accessory gene PA14\")\n",
    "fig2.set_ylabel(\"Number of genes\")\n",
    "fig2.set_xlabel(\"Offset in genome space\")\n",
    "\n",
    "fig2 = sns.barplot(\n",
    "    data=expression_dist_counts_pa14_acc,\n",
    "    x=\"offset\",\n",
    "    y=\"total\",\n",
    "    hue=\"gene type\",\n",
    "    ax=axes2[0][1],\n",
    "    palette=sns.color_palette(\"Paired\"),\n",
    ")\n",
    "fig2.legend_.remove()\n",
    "fig2.set_title(\"Starting with accessory gene PA14\")\n",
    "fig2.set_ylabel(\"Number of genes\")\n",
    "fig2.set_xlabel(\"Rank correlation in expression space\")\n",
    "\n",
    "fig2 = sns.barplot(\n",
    "    data=genome_dist_counts_pa14[genome_dist_counts_pa14[\"gene start\"] == \"core\"],\n",
    "    x=\"offset\",\n",
    "    y=\"total\",\n",
    "    hue=\"gene compare\",\n",
    "    ax=axes2[1][0],\n",
    "    palette=sns.color_palette(\"Paired\"),\n",
    ")\n",
    "fig2.legend_.remove()\n",
    "fig2.set_title(\"Starting with core gene PA14\")\n",
    "fig2.set_ylabel(\"Number of genes\")\n",
    "fig2.set_xlabel(\"Offset in genome space\")\n",
    "\n",
    "fig2 = sns.barplot(\n",
    "    data=expression_dist_counts_pa14_core,\n",
    "    x=\"offset\",\n",
    "    y=\"total\",\n",
    "    hue=\"gene type\",\n",
    "    ax=axes2[1][1],\n",
    "    palette=sns.color_palette(\"Paired\"),\n",
    ")\n",
    "fig2.legend_.remove()\n",
    "fig2.set_title(\"Starting with core gene PA14\")\n",
    "fig2.set_ylabel(\"Number of genes\")\n",
    "fig2.set_xlabel(\"Rank correlation in expression space\")\n",
    "\n",
    "plt.legend(bbox_to_anchor=(1.05, 1.15), loc=2, borderaxespad=0.0)"
   ]
  },
  {
   "cell_type": "code",
   "execution_count": 36,
   "id": "42cb7c2f",
   "metadata": {},
   "outputs": [],
   "source": [
    "# Save figures using operons\n",
    "# Save figures not using operons\n",
    "# Save figure with rolling sum and operons\n",
    "# Save figure with rolling sum not using operons\n",
    "fig.figure.savefig(\n",
    "    pao1_figure_filename,\n",
    "    format=\"svg\",\n",
    "    bbox_inches=\"tight\",\n",
    "    transparent=True,\n",
    "    pad_inches=0,\n",
    "    dpi=300,\n",
    ")\n",
    "\n",
    "fig2.figure.savefig(\n",
    "    pa14_figure_filename,\n",
    "    format=\"svg\",\n",
    "    bbox_inches=\"tight\",\n",
    "    transparent=True,\n",
    "    pad_inches=0,\n",
    "    dpi=300,\n",
    ")"
   ]
  },
  {
   "cell_type": "markdown",
   "id": "f6ff6b78",
   "metadata": {},
   "source": [
    "**Takeaway:**\n",
    "\n",
    "In genome space:\n",
    "* The closest non co-operonic neighbor to an accessory gene is a core gene for PAO1, but is an accessory gene for PA14\n",
    "* Including co-operonic genes, accessory genes are clustered together on the genome (i.e. clustered with other accessory genes compared to core genes), which is known: https://www.ncbi.nlm.nih.gov/pmc/articles/PMC3008168/\n",
    "* Starting with a core gene, at any distance you find core genes including and not including co-operonic genes.\n",
    "* The x-axis indicates (left panel of plots) is the number of nearest neighbors (NN), determined based on the gene id that is sorted.\n",
    "\n",
    "In expression space:\n",
    "* Accessory genes are more likely to be highly co-expressed with other accessory genes, even accessory genes farther away (some coordination outside of location). This relationship is stronger in PA14 than PAO1 (i.e. accessory genes are more highly correlated with other accessory genes at farther distances in PA14). I wonder why this is.\n",
    "* Core genes are highly correlated with other core genes, again, this may be due to the fact that there are so many more core genes.\n",
    "* The x-axis(right panels of plots) is the number of correlated genes (i.e. 1=top most correlated gene, 2 =2nd most correlated gene)\n",
    "\n",
    "Note:\n",
    "* The distance calculation in genome space is bi-directional (i.e. it considers genes that are 1-NN to the left and right) so each starting gene has a count of 1-2. Whereas in expression space, we are only looking for the most correlated gene, so each starting gene has a count of 1. This explains why the range for the expression space plots are roughly half of the genome distance plots. To correct for this, there is an option to sum the counts across the 2 most highly correlated genes. The trends are consistent using an increment of 1 vs 2.\n",
    "* There is a drop off in the `10+` column for genome distance. This is because as we consider farther away genes, we lose the ability to consider in both directions and there are fewer genes at that far a distance. Should we adjust for this in our calculation?\n",
    "\n",
    "Some things to note about this analysis that may need to be updated:\n",
    "* There are some operons that have multiple annotations, which one should we choose? Should we drop these from the analysis? Should we curate these to determine which ones?\n",
    "* When we sorted the gene ids, we found that PAO1 incremented by 1 and PA14 incremented by 10 or 20, are we missing genes for PA14? How much will this change our genome dist analysis?"
   ]
  }
 ],
 "metadata": {
  "jupytext": {
   "encoding": "# -*- coding: utf-8 -*-",
   "formats": "ipynb,py"
  },
  "kernelspec": {
   "display_name": "Python [conda env:core_acc] *",
   "language": "python",
   "name": "conda-env-core_acc-py"
  },
  "language_info": {
   "codemirror_mode": {
    "name": "ipython",
    "version": 3
   },
   "file_extension": ".py",
   "mimetype": "text/x-python",
   "name": "python",
   "nbconvert_exporter": "python",
   "pygments_lexer": "ipython3",
   "version": "3.7.10"
  }
 },
 "nbformat": 4,
 "nbformat_minor": 5
}
