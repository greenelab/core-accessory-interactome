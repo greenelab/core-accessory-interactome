{
 "cells": [
  {
   "cell_type": "markdown",
   "id": "secret-breast",
   "metadata": {},
   "source": [
    "# Clustering\n",
    "\n",
    "This notebook gets network communities for the compendia (PAO1 and PA14) using different clustering approaches. Clustering thinks about each gene as a point and performs clustering to place similar genes (i.e. genes that are close together in correlation space) together where each gene belongs to a single module\n",
    "\n",
    "The output of this notebook are files that have the following columns:\n",
    "gene id | module id"
   ]
  },
  {
   "cell_type": "code",
   "execution_count": 1,
   "id": "desperate-sessions",
   "metadata": {},
   "outputs": [],
   "source": [
    "%load_ext autoreload\n",
    "%autoreload 2\n",
    "import os\n",
    "import pandas as pd\n",
    "from sklearn.cluster import DBSCAN, AgglomerativeClustering, AffinityPropagation\n",
    "from scripts import paths"
   ]
  },
  {
   "cell_type": "markdown",
   "id": "eeec022a",
   "metadata": {},
   "source": [
    "## Set user parameters\n",
    "\n",
    "We will run this notebook for each clustering method"
   ]
  },
  {
   "cell_type": "code",
   "execution_count": 2,
   "id": "db4c4650",
   "metadata": {},
   "outputs": [],
   "source": [
    "# User params to set\n",
    "\n",
    "# Clustering method\n",
    "# Choices: {\"dbscan\", \"hierarchal\", \"affinity\"}\n",
    "cluster_method = \"affinity\"\n",
    "\n",
    "# DBSCAN params\n",
    "density_threshold = 8\n",
    "min_samples = 5\n",
    "\n",
    "# Hierarchical clustering params\n",
    "hier_threshold = 8\n",
    "link_dist = \"average\"\n",
    "\n",
    "# Affinity params\n",
    "affinity_damping = 0.6\n",
    "\n",
    "# Gene subset\n",
    "gene_subset = \"acc\"\n",
    "\n",
    "# Correlation matrix files\n",
    "if gene_subset == \"all\":\n",
    "    pao1_corr_filename = paths.PAO1_CORR_LOG_SPELL\n",
    "    pa14_corr_filename = paths.PA14_CORR_LOG_SPELL\n",
    "elif gene_subset == \"core\":\n",
    "    pao1_corr_filename = paths.PAO1_CORR_LOG_SPELL_CORE\n",
    "    pa14_corr_filename = paths.PA14_CORR_LOG_SPELL_CORE\n",
    "elif gene_subset == \"acc\":\n",
    "    pao1_corr_filename = paths.PAO1_CORR_LOG_SPELL_ACC\n",
    "    pa14_corr_filename = paths.PA14_CORR_LOG_SPELL_ACC"
   ]
  },
  {
   "cell_type": "code",
   "execution_count": 3,
   "id": "stock-cosmetic",
   "metadata": {},
   "outputs": [],
   "source": [
    "# Load correlation data\n",
    "pao1_corr = pd.read_csv(pao1_corr_filename, sep=\"\\t\", index_col=0, header=0)\n",
    "pa14_corr = pd.read_csv(pa14_corr_filename, sep=\"\\t\", index_col=0, header=0)"
   ]
  },
  {
   "cell_type": "markdown",
   "id": "a11f63a1",
   "metadata": {},
   "source": [
    "## Module detection\n",
    "To detect modules, we will use a clustering algorithm"
   ]
  },
  {
   "cell_type": "markdown",
   "id": "b05e48b6",
   "metadata": {},
   "source": [
    "### DBSCAN\n",
    "[DBSCAN](https://scikit-learn.org/stable/modules/generated/sklearn.cluster.DBSCAN.html#sklearn.cluster.DBSCAN):  Density-Based Spatial Clustering of Applications with Noise views clusters as areas of high density separated by areas of low density. The central component to the DBSCAN is the concept of _core samples_, which are samples that are in areas of high density. A cluster is therefore a set of _core samples_ that are close to each other (measured by some distance measure) and a set of non-core samples that are close to a core sample (but are not themselves core samples).\n",
    "\n",
    "A cluster is a set of core samples that can be built by recursively taking a core sample, finding all of its neighbors that are core samples, finding all of their neighbors that are core samples, and so on. A cluster also has a set of non-core samples, which are samples that are neighbors of a core sample in the cluster but are not themselves core samples. Intuitively, these samples are on the fringes of a cluster.\n",
    "\n",
    "* We define a core sample as being a sample in the dataset such that there exist `min_samples` other samples within a distance of `eps`, which are defined as neighbors of the core sample.\n",
    "* Here we use `eps=8` based on the observations in the [prevous notebook](1_correlation_analysis.ipynb). In the previous notebook we plotted the distribution of pairwise distances (pdist) per gene and we selected 8 based on where the distribution curve drops off on the left side to mark how similar gene pairs are.\n"
   ]
  },
  {
   "cell_type": "code",
   "execution_count": 4,
   "id": "5174f430",
   "metadata": {},
   "outputs": [],
   "source": [
    "# Clustering using DBSCAN\n",
    "if cluster_method == \"dbscan\":\n",
    "    pao1_clustering = DBSCAN(eps=density_threshold, min_samples=min_samples).fit(\n",
    "        pao1_corr\n",
    "    )\n",
    "    pa14_clustering = DBSCAN(eps=density_threshold, min_samples=min_samples).fit(\n",
    "        pa14_corr\n",
    "    )"
   ]
  },
  {
   "cell_type": "markdown",
   "id": "a7507fe6",
   "metadata": {},
   "source": [
    "### Hierarchical clustering\n",
    "[Hierarchical clustering](https://scikit-learn.org/stable/modules/generated/sklearn.cluster.AgglomerativeClustering.html#sklearn.cluster.AgglomerativeClustering): Initially, each object is assigned to its own cluster and then the algorithm proceeds iteratively, at each stage joining the two most similar clusters (i.e. linkage distance is minimized), continuing until there is just a single cluster.\n",
    "\n",
    "* n_cluster: The number of clusters to find.\n",
    "* linkage: Criterion used to determine distance between observations. 'average'=average distance of each observation in the two sets.\n",
    "* distance_threshold: The linkage distance threshold above which, clusters will not be merged\n",
    "* Here we use `distance_threshold=8` based on the observations in the [prevous notebook](1_correlation_analysis.ipynb). In the previous notebook we plotted the distribution of pairwise distances (pdist) per gene and we selected 8 based on where the distribution curve drops off on the left side to mark how similar gene pairs are.\n",
    "\n",
    "* Note: It looks like this method tends to produce 1 very large cluster. To break this up we will iteratively apply hierarchal clustering on the largest cluster."
   ]
  },
  {
   "cell_type": "code",
   "execution_count": 5,
   "id": "b84cae39",
   "metadata": {},
   "outputs": [],
   "source": [
    "# Clustering using hierarchal clustering\n",
    "if cluster_method == \"hierarchal\":\n",
    "    pao1_clustering = AgglomerativeClustering(\n",
    "        n_clusters=None, distance_threshold=hier_threshold, linkage=link_dist\n",
    "    ).fit(pao1_corr)\n",
    "    pa14_clustering = AgglomerativeClustering(\n",
    "        n_clusters=None, distance_threshold=hier_threshold, linkage=link_dist\n",
    "    ).fit(pa14_corr)"
   ]
  },
  {
   "cell_type": "markdown",
   "id": "6a98b0c9",
   "metadata": {},
   "source": [
    "### Affinity propogation\n",
    "\n",
    "[Affinity propogation](https://scikit-learn.org/stable/modules/generated/sklearn.cluster.AffinityPropagation.html#sklearn.cluster.AffinityPropagation): creates clusters by sending messages between pairs of samples until convergence. The messages sent between points belong to one of two categories. The first is the responsibility $r(k,i)$, which is the accumulated evidence that sample $k$ should be the exemplar for sample $i$ compared to other exemplars. The second is the availability $a(k,i)$ which is the accumulated evidence that sample $i$ should choose sample $k$to be its exemplar. _Exemplar_ meaning the members of the input set that are representative of clusters -- similar to _centroids_ in k-means. Unlike k-means this method doesn't require a preset $k$ to be chosen.\n",
    "\n",
    "* damping: Damping factor (between 0.5 and 1) is the extent to which the current value is maintained relative to incoming values (weighted 1 - damping). This in order to avoid numerical oscillations when updating these values. Default is 0.5. Using default for PA14 data, the model didn't converge so we increased this to 0.6.\n",
    "* affinity: Method used to calculate the distance between clusters. Here we will use `euclidean` distance which is the default. `Precomputed` is expecting a distance matrix as input [source code](https://github.com/scikit-learn/scikit-learn/blob/bac89c2/sklearn/cluster/hierarchical.py#L454)"
   ]
  },
  {
   "cell_type": "code",
   "execution_count": 6,
   "id": "de17761f",
   "metadata": {},
   "outputs": [],
   "source": [
    "# Clustering using affinity propogation\n",
    "if cluster_method == \"affinity\":\n",
    "    pao1_clustering = AffinityPropagation(random_state=0).fit(pao1_corr)\n",
    "    pa14_clustering = AffinityPropagation(random_state=0, damping=affinity_damping).fit(\n",
    "        pa14_corr\n",
    "    )"
   ]
  },
  {
   "cell_type": "markdown",
   "id": "0f044bf1",
   "metadata": {},
   "source": [
    "## Membership assignments"
   ]
  },
  {
   "cell_type": "code",
   "execution_count": 7,
   "id": "ad2f9c30",
   "metadata": {
    "scrolled": true
   },
   "outputs": [
    {
     "data": {
      "text/plain": [
       "1     27\n",
       "7     20\n",
       "9     18\n",
       "12    15\n",
       "16    13\n",
       "0     12\n",
       "5     10\n",
       "3     10\n",
       "17     9\n",
       "6      8\n",
       "2      8\n",
       "18     8\n",
       "13     7\n",
       "10     7\n",
       "14     7\n",
       "4      7\n",
       "15     7\n",
       "8      5\n",
       "11     4\n",
       "Name: module id, dtype: int64"
      ]
     },
     "execution_count": 7,
     "metadata": {},
     "output_type": "execute_result"
    }
   ],
   "source": [
    "# Get module membership for a single threshold\n",
    "# Format and save output to have columns: gene_id | group_id\n",
    "pao1_membership_df = pd.DataFrame(\n",
    "    data={\"module id\": pao1_clustering.labels_}, index=pao1_corr.index\n",
    ")\n",
    "\n",
    "pao1_membership_df[\"module id\"].value_counts()"
   ]
  },
  {
   "cell_type": "code",
   "execution_count": 8,
   "id": "715e3449",
   "metadata": {},
   "outputs": [
    {
     "data": {
      "text/html": [
       "<div>\n",
       "<style scoped>\n",
       "    .dataframe tbody tr th:only-of-type {\n",
       "        vertical-align: middle;\n",
       "    }\n",
       "\n",
       "    .dataframe tbody tr th {\n",
       "        vertical-align: top;\n",
       "    }\n",
       "\n",
       "    .dataframe thead th {\n",
       "        text-align: right;\n",
       "    }\n",
       "</style>\n",
       "<table border=\"1\" class=\"dataframe\">\n",
       "  <thead>\n",
       "    <tr style=\"text-align: right;\">\n",
       "      <th></th>\n",
       "      <th>module id</th>\n",
       "    </tr>\n",
       "  </thead>\n",
       "  <tbody>\n",
       "    <tr>\n",
       "      <th>PA0257</th>\n",
       "      <td>7</td>\n",
       "    </tr>\n",
       "    <tr>\n",
       "      <th>PA0453</th>\n",
       "      <td>1</td>\n",
       "    </tr>\n",
       "    <tr>\n",
       "      <th>PA1937</th>\n",
       "      <td>18</td>\n",
       "    </tr>\n",
       "    <tr>\n",
       "      <th>PA2229</th>\n",
       "      <td>3</td>\n",
       "    </tr>\n",
       "    <tr>\n",
       "      <th>PA2732</th>\n",
       "      <td>0</td>\n",
       "    </tr>\n",
       "  </tbody>\n",
       "</table>\n",
       "</div>"
      ],
      "text/plain": [
       "        module id\n",
       "PA0257          7\n",
       "PA0453          1\n",
       "PA1937         18\n",
       "PA2229          3\n",
       "PA2732          0"
      ]
     },
     "execution_count": 8,
     "metadata": {},
     "output_type": "execute_result"
    }
   ],
   "source": [
    "pao1_membership_df.head()"
   ]
  },
  {
   "cell_type": "code",
   "execution_count": 9,
   "id": "fa745bfc",
   "metadata": {
    "scrolled": true
   },
   "outputs": [
    {
     "data": {
      "text/plain": [
       "16    37\n",
       "1     25\n",
       "18    23\n",
       "17    22\n",
       "11    22\n",
       "33    21\n",
       "15    21\n",
       "6     19\n",
       "28    17\n",
       "12    17\n",
       "13    16\n",
       "20    16\n",
       "5     16\n",
       "7     16\n",
       "10    16\n",
       "37    15\n",
       "27    14\n",
       "22    13\n",
       "36    13\n",
       "31    12\n",
       "32    12\n",
       "35    12\n",
       "38    12\n",
       "0     11\n",
       "21    10\n",
       "29    10\n",
       "3     10\n",
       "19    10\n",
       "14     8\n",
       "23     8\n",
       "30     8\n",
       "4      8\n",
       "2      8\n",
       "8      7\n",
       "24     6\n",
       "26     6\n",
       "25     5\n",
       "34     5\n",
       "9      3\n",
       "Name: module id, dtype: int64"
      ]
     },
     "execution_count": 9,
     "metadata": {},
     "output_type": "execute_result"
    }
   ],
   "source": [
    "# Get module membership for a single threshold\n",
    "# Format and save output to have columns: gene_id | group_id\n",
    "pa14_membership_df = pd.DataFrame(\n",
    "    data={\"module id\": pa14_clustering.labels_}, index=pa14_corr.index\n",
    ")\n",
    "\n",
    "pa14_membership_df[\"module id\"].value_counts()"
   ]
  },
  {
   "cell_type": "code",
   "execution_count": 10,
   "id": "c5ad77e0",
   "metadata": {},
   "outputs": [
    {
     "data": {
      "text/html": [
       "<div>\n",
       "<style scoped>\n",
       "    .dataframe tbody tr th:only-of-type {\n",
       "        vertical-align: middle;\n",
       "    }\n",
       "\n",
       "    .dataframe tbody tr th {\n",
       "        vertical-align: top;\n",
       "    }\n",
       "\n",
       "    .dataframe thead th {\n",
       "        text-align: right;\n",
       "    }\n",
       "</style>\n",
       "<table border=\"1\" class=\"dataframe\">\n",
       "  <thead>\n",
       "    <tr style=\"text-align: right;\">\n",
       "      <th></th>\n",
       "      <th>module id</th>\n",
       "    </tr>\n",
       "  </thead>\n",
       "  <tbody>\n",
       "    <tr>\n",
       "      <th>PA14_54890</th>\n",
       "      <td>18</td>\n",
       "    </tr>\n",
       "    <tr>\n",
       "      <th>PA14_22230</th>\n",
       "      <td>33</td>\n",
       "    </tr>\n",
       "    <tr>\n",
       "      <th>PA14_38000</th>\n",
       "      <td>15</td>\n",
       "    </tr>\n",
       "    <tr>\n",
       "      <th>PA14_49540</th>\n",
       "      <td>0</td>\n",
       "    </tr>\n",
       "    <tr>\n",
       "      <th>PA14_24360</th>\n",
       "      <td>3</td>\n",
       "    </tr>\n",
       "  </tbody>\n",
       "</table>\n",
       "</div>"
      ],
      "text/plain": [
       "            module id\n",
       "PA14_54890         18\n",
       "PA14_22230         33\n",
       "PA14_38000         15\n",
       "PA14_49540          0\n",
       "PA14_24360          3"
      ]
     },
     "execution_count": 10,
     "metadata": {},
     "output_type": "execute_result"
    }
   ],
   "source": [
    "pa14_membership_df.head()"
   ]
  },
  {
   "cell_type": "code",
   "execution_count": 11,
   "id": "fa8b8e79",
   "metadata": {},
   "outputs": [],
   "source": [
    "# Save membership dataframe\n",
    "pao1_membership_filename = os.path.join(\n",
    "    paths.LOCAL_DATA_DIR, f\"pao1_modules_{cluster_method}_{gene_subset}.tsv\"\n",
    ")\n",
    "pa14_membership_filename = os.path.join(\n",
    "    paths.LOCAL_DATA_DIR, f\"pa14_modules_{cluster_method}_{gene_subset}.tsv\"\n",
    ")\n",
    "pao1_membership_df.to_csv(pao1_membership_filename, sep=\"\\t\")\n",
    "pa14_membership_df.to_csv(pa14_membership_filename, sep=\"\\t\")"
   ]
  }
 ],
 "metadata": {
  "jupytext": {
   "encoding": "# -*- coding: utf-8 -*-",
   "formats": "ipynb,py"
  },
  "kernelspec": {
   "display_name": "Python [conda env:core_acc] *",
   "language": "python",
   "name": "conda-env-core_acc-py"
  },
  "language_info": {
   "codemirror_mode": {
    "name": "ipython",
    "version": 3
   },
   "file_extension": ".py",
   "mimetype": "text/x-python",
   "name": "python",
   "nbconvert_exporter": "python",
   "pygments_lexer": "ipython3",
   "version": "3.7.10"
  }
 },
 "nbformat": 4,
 "nbformat_minor": 5
}
