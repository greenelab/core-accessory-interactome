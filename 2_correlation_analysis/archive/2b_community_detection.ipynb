{
 "cells": [
  {
   "cell_type": "markdown",
   "id": "78ec1554",
   "metadata": {},
   "source": [
    "# Network community detection\n",
    "\n",
    "This notebook performs community detection approaches to identify network modules. Community detection considers genes to be in a network/graph where genes are connected to other genes based on similarity between expression pattern across samples (i.e. correlation score between gene A and B). Community detection will define modules as a group of genes that are densely connected to each other but sparsely connected to other genes in the network (within vs between edges). Here each gene still belongs to a single module\n",
    "\n",
    "The output of this notebook are files that have the following columns:\n",
    "gene id | module id\n",
    "\n",
    "Note: All methods here are using undirected weighted networks. All methods take edge weights as input."
   ]
  },
  {
   "cell_type": "code",
   "execution_count": 1,
   "id": "1bf9faf3",
   "metadata": {},
   "outputs": [],
   "source": [
    "import os\n",
    "import random\n",
    "\n",
    "import numpy as np\n",
    "import pandas as pd\n",
    "import igraph as ig\n",
    "from core_acc_modules import paths"
   ]
  },
  {
   "cell_type": "code",
   "execution_count": 2,
   "id": "b8ebe2e6",
   "metadata": {},
   "outputs": [],
   "source": [
    "# User params\n",
    "\n",
    "# Choices = [\"fastgreedy\", \"walktrap\", \"louvain\", \"infomap\"]\n",
    "method = \"infomap\"\n",
    "\n",
    "# Params for different methods to adjust\n",
    "# length of random walk to perform for walktrap\n",
    "# Short random walks tend to stay in the same community\n",
    "nsteps = 10\n",
    "\n",
    "# Number of trials to attempt to partition the network for infomap\n",
    "ntrials = 20\n",
    "\n",
    "# TO DO\n",
    "# Think about running these methods across multiple seeds and taking a consensus"
   ]
  },
  {
   "cell_type": "code",
   "execution_count": 3,
   "id": "6b08d716",
   "metadata": {},
   "outputs": [],
   "source": [
    "# Load correlation matrix\n",
    "pao1_pearson_mat_filename = paths.PAO1_CORR_LOG_SPELL\n",
    "pa14_pearson_mat_filename = paths.PA14_CORR_LOG_SPELL\n",
    "\n",
    "# Take abs of correlation scores\n",
    "# In this case we care about the strength and not the direction\n",
    "pao1_corr = pd.read_csv(\n",
    "    pao1_pearson_mat_filename, sep=\"\\t\", index_col=0, header=0\n",
    ").abs()\n",
    "pa14_corr = pd.read_csv(\n",
    "    pa14_pearson_mat_filename, sep=\"\\t\", index_col=0, header=0\n",
    ").abs()"
   ]
  },
  {
   "cell_type": "code",
   "execution_count": 4,
   "id": "25613003",
   "metadata": {},
   "outputs": [
    {
     "data": {
      "text/html": [
       "<div>\n",
       "<style scoped>\n",
       "    .dataframe tbody tr th:only-of-type {\n",
       "        vertical-align: middle;\n",
       "    }\n",
       "\n",
       "    .dataframe tbody tr th {\n",
       "        vertical-align: top;\n",
       "    }\n",
       "\n",
       "    .dataframe thead th {\n",
       "        text-align: right;\n",
       "    }\n",
       "</style>\n",
       "<table border=\"1\" class=\"dataframe\">\n",
       "  <thead>\n",
       "    <tr style=\"text-align: right;\">\n",
       "      <th></th>\n",
       "      <th>PA0001</th>\n",
       "      <th>PA0002</th>\n",
       "      <th>PA0003</th>\n",
       "      <th>PA0004</th>\n",
       "      <th>PA0005</th>\n",
       "      <th>PA0006</th>\n",
       "      <th>PA0007</th>\n",
       "      <th>PA0008</th>\n",
       "      <th>PA0009</th>\n",
       "      <th>PA0010</th>\n",
       "      <th>...</th>\n",
       "      <th>PA1905</th>\n",
       "      <th>PA0195</th>\n",
       "      <th>PA4812</th>\n",
       "      <th>PA0195.1</th>\n",
       "      <th>PA0457.1</th>\n",
       "      <th>PA1552.1</th>\n",
       "      <th>PA1555.1</th>\n",
       "      <th>PA3701</th>\n",
       "      <th>PA4724.1</th>\n",
       "      <th>PA5471.1</th>\n",
       "    </tr>\n",
       "  </thead>\n",
       "  <tbody>\n",
       "    <tr>\n",
       "      <th>PA0001</th>\n",
       "      <td>1.000000</td>\n",
       "      <td>0.531698</td>\n",
       "      <td>0.506825</td>\n",
       "      <td>0.403209</td>\n",
       "      <td>0.163355</td>\n",
       "      <td>0.244427</td>\n",
       "      <td>0.121683</td>\n",
       "      <td>0.304031</td>\n",
       "      <td>0.356325</td>\n",
       "      <td>0.010842</td>\n",
       "      <td>...</td>\n",
       "      <td>0.062423</td>\n",
       "      <td>0.189571</td>\n",
       "      <td>0.093639</td>\n",
       "      <td>0.122311</td>\n",
       "      <td>0.098569</td>\n",
       "      <td>0.123228</td>\n",
       "      <td>0.089866</td>\n",
       "      <td>0.141149</td>\n",
       "      <td>0.015857</td>\n",
       "      <td>0.164323</td>\n",
       "    </tr>\n",
       "    <tr>\n",
       "      <th>PA0002</th>\n",
       "      <td>0.531698</td>\n",
       "      <td>1.000000</td>\n",
       "      <td>0.267192</td>\n",
       "      <td>0.707989</td>\n",
       "      <td>0.256517</td>\n",
       "      <td>0.073318</td>\n",
       "      <td>0.089595</td>\n",
       "      <td>0.481959</td>\n",
       "      <td>0.260080</td>\n",
       "      <td>0.047455</td>\n",
       "      <td>...</td>\n",
       "      <td>0.056569</td>\n",
       "      <td>0.117195</td>\n",
       "      <td>0.040451</td>\n",
       "      <td>0.189403</td>\n",
       "      <td>0.050300</td>\n",
       "      <td>0.203145</td>\n",
       "      <td>0.009129</td>\n",
       "      <td>0.109136</td>\n",
       "      <td>0.120224</td>\n",
       "      <td>0.004132</td>\n",
       "    </tr>\n",
       "    <tr>\n",
       "      <th>PA0003</th>\n",
       "      <td>0.506825</td>\n",
       "      <td>0.267192</td>\n",
       "      <td>1.000000</td>\n",
       "      <td>0.377366</td>\n",
       "      <td>0.098492</td>\n",
       "      <td>0.174528</td>\n",
       "      <td>0.164032</td>\n",
       "      <td>0.095140</td>\n",
       "      <td>0.300785</td>\n",
       "      <td>0.088611</td>\n",
       "      <td>...</td>\n",
       "      <td>0.016644</td>\n",
       "      <td>0.033808</td>\n",
       "      <td>0.036533</td>\n",
       "      <td>0.008929</td>\n",
       "      <td>0.058263</td>\n",
       "      <td>0.129749</td>\n",
       "      <td>0.099763</td>\n",
       "      <td>0.068399</td>\n",
       "      <td>0.081873</td>\n",
       "      <td>0.171647</td>\n",
       "    </tr>\n",
       "    <tr>\n",
       "      <th>PA0004</th>\n",
       "      <td>0.403209</td>\n",
       "      <td>0.707989</td>\n",
       "      <td>0.377366</td>\n",
       "      <td>1.000000</td>\n",
       "      <td>0.174805</td>\n",
       "      <td>0.058486</td>\n",
       "      <td>0.138408</td>\n",
       "      <td>0.475403</td>\n",
       "      <td>0.175864</td>\n",
       "      <td>0.016398</td>\n",
       "      <td>...</td>\n",
       "      <td>0.107684</td>\n",
       "      <td>0.000539</td>\n",
       "      <td>0.032573</td>\n",
       "      <td>0.004879</td>\n",
       "      <td>0.002197</td>\n",
       "      <td>0.208718</td>\n",
       "      <td>0.055616</td>\n",
       "      <td>0.123092</td>\n",
       "      <td>0.016859</td>\n",
       "      <td>0.008390</td>\n",
       "    </tr>\n",
       "    <tr>\n",
       "      <th>PA0005</th>\n",
       "      <td>0.163355</td>\n",
       "      <td>0.256517</td>\n",
       "      <td>0.098492</td>\n",
       "      <td>0.174805</td>\n",
       "      <td>1.000000</td>\n",
       "      <td>0.116761</td>\n",
       "      <td>0.121286</td>\n",
       "      <td>0.230124</td>\n",
       "      <td>0.039811</td>\n",
       "      <td>0.012850</td>\n",
       "      <td>...</td>\n",
       "      <td>0.026802</td>\n",
       "      <td>0.187861</td>\n",
       "      <td>0.022035</td>\n",
       "      <td>0.066508</td>\n",
       "      <td>0.112313</td>\n",
       "      <td>0.065239</td>\n",
       "      <td>0.111870</td>\n",
       "      <td>0.009802</td>\n",
       "      <td>0.056143</td>\n",
       "      <td>0.042898</td>\n",
       "    </tr>\n",
       "  </tbody>\n",
       "</table>\n",
       "<p>5 rows × 5563 columns</p>\n",
       "</div>"
      ],
      "text/plain": [
       "          PA0001    PA0002    PA0003    PA0004    PA0005    PA0006    PA0007  \\\n",
       "PA0001  1.000000  0.531698  0.506825  0.403209  0.163355  0.244427  0.121683   \n",
       "PA0002  0.531698  1.000000  0.267192  0.707989  0.256517  0.073318  0.089595   \n",
       "PA0003  0.506825  0.267192  1.000000  0.377366  0.098492  0.174528  0.164032   \n",
       "PA0004  0.403209  0.707989  0.377366  1.000000  0.174805  0.058486  0.138408   \n",
       "PA0005  0.163355  0.256517  0.098492  0.174805  1.000000  0.116761  0.121286   \n",
       "\n",
       "          PA0008    PA0009    PA0010  ...    PA1905    PA0195    PA4812  \\\n",
       "PA0001  0.304031  0.356325  0.010842  ...  0.062423  0.189571  0.093639   \n",
       "PA0002  0.481959  0.260080  0.047455  ...  0.056569  0.117195  0.040451   \n",
       "PA0003  0.095140  0.300785  0.088611  ...  0.016644  0.033808  0.036533   \n",
       "PA0004  0.475403  0.175864  0.016398  ...  0.107684  0.000539  0.032573   \n",
       "PA0005  0.230124  0.039811  0.012850  ...  0.026802  0.187861  0.022035   \n",
       "\n",
       "        PA0195.1  PA0457.1  PA1552.1  PA1555.1    PA3701  PA4724.1  PA5471.1  \n",
       "PA0001  0.122311  0.098569  0.123228  0.089866  0.141149  0.015857  0.164323  \n",
       "PA0002  0.189403  0.050300  0.203145  0.009129  0.109136  0.120224  0.004132  \n",
       "PA0003  0.008929  0.058263  0.129749  0.099763  0.068399  0.081873  0.171647  \n",
       "PA0004  0.004879  0.002197  0.208718  0.055616  0.123092  0.016859  0.008390  \n",
       "PA0005  0.066508  0.112313  0.065239  0.111870  0.009802  0.056143  0.042898  \n",
       "\n",
       "[5 rows x 5563 columns]"
      ]
     },
     "execution_count": 4,
     "metadata": {},
     "output_type": "execute_result"
    }
   ],
   "source": [
    "pao1_corr.head()"
   ]
  },
  {
   "cell_type": "code",
   "execution_count": 5,
   "id": "1e5c8810",
   "metadata": {},
   "outputs": [],
   "source": [
    "# Format correlation matrix into graph (i.e. dataframe with edge weight per pair of genes)\n",
    "# The dataframe should have columns: from, to, weight\n",
    "pao1_corr_graph = pao1_corr.stack().reset_index()\n",
    "pao1_corr_graph.columns = [\"from\", \"to\", \"weight\"]\n",
    "\n",
    "pa14_corr_graph = pa14_corr.stack().reset_index()\n",
    "pa14_corr_graph.columns = [\"from\", \"to\", \"weight\"]"
   ]
  },
  {
   "cell_type": "code",
   "execution_count": 6,
   "id": "237621db",
   "metadata": {},
   "outputs": [],
   "source": [
    "# Drop duplicate rows since correlation matrix is symmetric\n",
    "pao1_corr_graph = pao1_corr_graph.drop_duplicates()\n",
    "pa14_corr_graph = pa14_corr_graph.drop_duplicates()"
   ]
  },
  {
   "cell_type": "code",
   "execution_count": 7,
   "id": "16ab2750",
   "metadata": {
    "scrolled": true
   },
   "outputs": [],
   "source": [
    "# Drop gene loops\n",
    "# Note 'query' not working for some reason\n",
    "pao1_corr_graph = pao1_corr_graph[pao1_corr_graph[\"from\"] != pao1_corr_graph[\"to\"]]\n",
    "pa14_corr_graph = pa14_corr_graph[pa14_corr_graph[\"from\"] != pa14_corr_graph[\"to\"]]"
   ]
  },
  {
   "cell_type": "code",
   "execution_count": 8,
   "id": "ee56db58",
   "metadata": {},
   "outputs": [
    {
     "name": "stdout",
     "output_type": "stream",
     "text": [
      "(30941406, 3)\n"
     ]
    },
    {
     "data": {
      "text/html": [
       "<div>\n",
       "<style scoped>\n",
       "    .dataframe tbody tr th:only-of-type {\n",
       "        vertical-align: middle;\n",
       "    }\n",
       "\n",
       "    .dataframe tbody tr th {\n",
       "        vertical-align: top;\n",
       "    }\n",
       "\n",
       "    .dataframe thead th {\n",
       "        text-align: right;\n",
       "    }\n",
       "</style>\n",
       "<table border=\"1\" class=\"dataframe\">\n",
       "  <thead>\n",
       "    <tr style=\"text-align: right;\">\n",
       "      <th></th>\n",
       "      <th>from</th>\n",
       "      <th>to</th>\n",
       "      <th>weight</th>\n",
       "    </tr>\n",
       "  </thead>\n",
       "  <tbody>\n",
       "    <tr>\n",
       "      <th>1</th>\n",
       "      <td>PA0001</td>\n",
       "      <td>PA0002</td>\n",
       "      <td>0.531698</td>\n",
       "    </tr>\n",
       "    <tr>\n",
       "      <th>2</th>\n",
       "      <td>PA0001</td>\n",
       "      <td>PA0003</td>\n",
       "      <td>0.506825</td>\n",
       "    </tr>\n",
       "    <tr>\n",
       "      <th>3</th>\n",
       "      <td>PA0001</td>\n",
       "      <td>PA0004</td>\n",
       "      <td>0.403209</td>\n",
       "    </tr>\n",
       "    <tr>\n",
       "      <th>4</th>\n",
       "      <td>PA0001</td>\n",
       "      <td>PA0005</td>\n",
       "      <td>0.163355</td>\n",
       "    </tr>\n",
       "    <tr>\n",
       "      <th>5</th>\n",
       "      <td>PA0001</td>\n",
       "      <td>PA0006</td>\n",
       "      <td>0.244427</td>\n",
       "    </tr>\n",
       "  </tbody>\n",
       "</table>\n",
       "</div>"
      ],
      "text/plain": [
       "     from      to    weight\n",
       "1  PA0001  PA0002  0.531698\n",
       "2  PA0001  PA0003  0.506825\n",
       "3  PA0001  PA0004  0.403209\n",
       "4  PA0001  PA0005  0.163355\n",
       "5  PA0001  PA0006  0.244427"
      ]
     },
     "execution_count": 8,
     "metadata": {},
     "output_type": "execute_result"
    }
   ],
   "source": [
    "print(pao1_corr_graph.shape)\n",
    "pao1_corr_graph.head()"
   ]
  },
  {
   "cell_type": "code",
   "execution_count": 9,
   "id": "08d859ec",
   "metadata": {},
   "outputs": [],
   "source": [
    "# Make into a graph object\n",
    "pao1_G = ig.Graph.TupleList(pao1_corr_graph.values, weights=True, directed=False)\n",
    "pa14_G = ig.Graph.TupleList(pa14_corr_graph.values, weights=True, directed=False)"
   ]
  },
  {
   "cell_type": "code",
   "execution_count": 10,
   "id": "9ff02448",
   "metadata": {},
   "outputs": [
    {
     "name": "stdout",
     "output_type": "stream",
     "text": [
      "[0.531698348855868, 0.5068249283724849, 0.40320850179857454, 0.16335521177031087, 0.2444268680424468]\n"
     ]
    }
   ],
   "source": [
    "# make sure vertex/edge properties exist\n",
    "print(pao1_G.es[\"weight\"][:5])"
   ]
  },
  {
   "cell_type": "markdown",
   "id": "a54bb254",
   "metadata": {},
   "source": [
    "## Community detection"
   ]
  },
  {
   "cell_type": "markdown",
   "id": "8d571e9d",
   "metadata": {},
   "source": [
    "### Fast-greedy\n",
    "This algorithm starts from a completely unclustered set of nodes and iteratively adds communities such that the modularity (score maximizing within edges and minimizing between edges) is maximized until no additional improvement can be made.\n",
    "\n",
    "Note: Looks like fast-greedy requires a simple graph (i.e. no multiple edges per node), so we use [simplify](https://igraph.org/python/doc/api/igraph._igraph.GraphBase.html#simplify) to combine edges\n",
    "\n",
    "Returns VertextDendrogram"
   ]
  },
  {
   "cell_type": "code",
   "execution_count": 11,
   "id": "a116caac",
   "metadata": {},
   "outputs": [
    {
     "name": "stdout",
     "output_type": "stream",
     "text": [
      "CPU times: user 3 µs, sys: 0 ns, total: 3 µs\n",
      "Wall time: 4.77 µs\n"
     ]
    }
   ],
   "source": [
    "%%time\n",
    "if method == \"fastgreedy\":\n",
    "    # Simplify graph to remove multiple edges and loops\n",
    "    if not pao1_G.is_simple():\n",
    "        pao1_G.simplify()\n",
    "    if not pa14_G.is_simple():\n",
    "        pa14_G.simplify()\n",
    "\n",
    "    assert pao1_G.is_simple()\n",
    "    assert pa14_G.is_simple()\n",
    "\n",
    "    # Detection method\n",
    "    pao1_partition = pao1_G.community_fastgreedy(weights=pao1_G.es[\"weight\"])\n",
    "    pa14_partition = pa14_G.community_fastgreedy(weights=pa14_G.es[\"weight\"])"
   ]
  },
  {
   "cell_type": "code",
   "execution_count": 12,
   "id": "b10a62a7",
   "metadata": {},
   "outputs": [],
   "source": [
    "# pao1_G.vs.attribute_names()"
   ]
  },
  {
   "cell_type": "markdown",
   "id": "b7e2cf6b",
   "metadata": {},
   "source": [
    "### Walktrap\n",
    "This algorithm performs random walks using a specified step size. Where densely connected areas occur, the random walk becomes “trapped” in local regions that then define communities\n",
    "\n",
    "Returns VertextDendrogram"
   ]
  },
  {
   "cell_type": "code",
   "execution_count": 13,
   "id": "83291858",
   "metadata": {},
   "outputs": [
    {
     "name": "stdout",
     "output_type": "stream",
     "text": [
      "CPU times: user 3 µs, sys: 0 ns, total: 3 µs\n",
      "Wall time: 4.53 µs\n"
     ]
    }
   ],
   "source": [
    "%%time\n",
    "if method == \"walktrap\":\n",
    "    pao1_partition = pao1_G.community_walktrap(\n",
    "        weights=pao1_G.es[\"weight\"], steps=nsteps\n",
    "    )\n",
    "    pa14_partition = pa14_G.community_walktrap(\n",
    "        weights=pa14_G.es[\"weight\"], steps=nsteps\n",
    "    )"
   ]
  },
  {
   "cell_type": "markdown",
   "id": "a0bea93f",
   "metadata": {},
   "source": [
    "### Multilevel\n",
    "This algorithm is similar to fastgreedy, but it merges communities to optimize modularity based upon only the neighboring communities as opposed to all communities. The algorithm terminates when only a single node is left, or when the improvement in modularity cannot result from the simple merge of two neighboring communities. (Louvain clustering)\n",
    "\n",
    "Returns VertexClustering"
   ]
  },
  {
   "cell_type": "code",
   "execution_count": 14,
   "id": "cedd8015",
   "metadata": {},
   "outputs": [
    {
     "name": "stdout",
     "output_type": "stream",
     "text": [
      "CPU times: user 2 µs, sys: 0 ns, total: 2 µs\n",
      "Wall time: 4.05 µs\n"
     ]
    }
   ],
   "source": [
    "%%time\n",
    "if method == \"louvain\":\n",
    "    pao1_partition = pao1_G.community_multilevel(\n",
    "        weights=pao1_G.es[\"weight\"], return_levels=False\n",
    "    )\n",
    "    pa14_partition = pa14_G.community_multilevel(\n",
    "        weights=pa14_G.es[\"weight\"], return_levels=False\n",
    "    )"
   ]
  },
  {
   "cell_type": "markdown",
   "id": "706485ab",
   "metadata": {},
   "source": [
    "### Infomap\n",
    "This algorithm uses the probability flow of information in random walks, which occurs more readily in groups of heavily connected nodes. Thus, information about network structure can be compressed in maps of modules (nodes where information travels quickly)\n",
    "\n",
    "Returns VertexClustering"
   ]
  },
  {
   "cell_type": "code",
   "execution_count": 15,
   "id": "e0d49b9d",
   "metadata": {},
   "outputs": [
    {
     "name": "stdout",
     "output_type": "stream",
     "text": [
      "CPU times: user 47min 8s, sys: 19.4 s, total: 47min 27s\n",
      "Wall time: 47min 25s\n"
     ]
    }
   ],
   "source": [
    "%%time\n",
    "if method == \"infomap\":\n",
    "    pao1_partition = pao1_G.community_infomap(\n",
    "        edge_weights=pao1_G.es[\"weight\"], trials=ntrials\n",
    "    )\n",
    "    pa14_partition = pa14_G.community_infomap(\n",
    "        edge_weights=pa14_G.es[\"weight\"], trials=ntrials\n",
    "    )"
   ]
  },
  {
   "cell_type": "markdown",
   "id": "9d3d1468",
   "metadata": {},
   "source": [
    "## Get membership"
   ]
  },
  {
   "cell_type": "code",
   "execution_count": 16,
   "id": "d96191bf",
   "metadata": {},
   "outputs": [],
   "source": [
    "# get dataframe mapping Pa genes to communities\n",
    "def graph_partition_to_df(G, partition, method):\n",
    "    if method in [\"louvain\", \"infomap\"]:\n",
    "        clusters = []\n",
    "        for label, vl in enumerate(partition):\n",
    "            clusters += [(G.vs[\"name\"][v], label, G.degree(v)) for v in vl]\n",
    "\n",
    "        membership_df = pd.DataFrame(clusters, columns=[\"gene\", \"module id\", \"degree\"])\n",
    "        membership_df = membership_df.set_index(\"gene\")\n",
    "\n",
    "        return membership_df"
   ]
  },
  {
   "cell_type": "code",
   "execution_count": 18,
   "id": "3f70b651",
   "metadata": {},
   "outputs": [],
   "source": [
    "# pao1_partition.es.attribute_names()"
   ]
  },
  {
   "cell_type": "code",
   "execution_count": 19,
   "id": "55ebee9d",
   "metadata": {},
   "outputs": [
    {
     "name": "stdout",
     "output_type": "stream",
     "text": [
      "2823\n"
     ]
    },
    {
     "data": {
      "text/html": [
       "<div>\n",
       "<style scoped>\n",
       "    .dataframe tbody tr th:only-of-type {\n",
       "        vertical-align: middle;\n",
       "    }\n",
       "\n",
       "    .dataframe tbody tr th {\n",
       "        vertical-align: top;\n",
       "    }\n",
       "\n",
       "    .dataframe thead th {\n",
       "        text-align: right;\n",
       "    }\n",
       "</style>\n",
       "<table border=\"1\" class=\"dataframe\">\n",
       "  <thead>\n",
       "    <tr style=\"text-align: right;\">\n",
       "      <th></th>\n",
       "      <th>module id</th>\n",
       "      <th>degree</th>\n",
       "    </tr>\n",
       "    <tr>\n",
       "      <th>gene</th>\n",
       "      <th></th>\n",
       "      <th></th>\n",
       "    </tr>\n",
       "  </thead>\n",
       "  <tbody>\n",
       "    <tr>\n",
       "      <th>PA1807</th>\n",
       "      <td>0</td>\n",
       "      <td>11124</td>\n",
       "    </tr>\n",
       "    <tr>\n",
       "      <th>PA0613</th>\n",
       "      <td>1850</td>\n",
       "      <td>11124</td>\n",
       "    </tr>\n",
       "    <tr>\n",
       "      <th>PA4526</th>\n",
       "      <td>1854</td>\n",
       "      <td>11124</td>\n",
       "    </tr>\n",
       "    <tr>\n",
       "      <th>PA0823</th>\n",
       "      <td>1854</td>\n",
       "      <td>11124</td>\n",
       "    </tr>\n",
       "    <tr>\n",
       "      <th>PA2362</th>\n",
       "      <td>1853</td>\n",
       "      <td>11124</td>\n",
       "    </tr>\n",
       "  </tbody>\n",
       "</table>\n",
       "</div>"
      ],
      "text/plain": [
       "        module id  degree\n",
       "gene                     \n",
       "PA1807          0   11124\n",
       "PA0613       1850   11124\n",
       "PA4526       1854   11124\n",
       "PA0823       1854   11124\n",
       "PA2362       1853   11124"
      ]
     },
     "execution_count": 19,
     "metadata": {},
     "output_type": "execute_result"
    }
   ],
   "source": [
    "pao1_membership_df = graph_partition_to_df(pao1_G, pao1_partition, method)\n",
    "print(len(pao1_membership_df[\"module id\"].unique()))\n",
    "pao1_membership_df.sort_values(by=\"degree\", ascending=False).head()"
   ]
  },
  {
   "cell_type": "code",
   "execution_count": 20,
   "id": "42441d73",
   "metadata": {},
   "outputs": [
    {
     "name": "stdout",
     "output_type": "stream",
     "text": [
      "2990\n"
     ]
    },
    {
     "data": {
      "text/html": [
       "<div>\n",
       "<style scoped>\n",
       "    .dataframe tbody tr th:only-of-type {\n",
       "        vertical-align: middle;\n",
       "    }\n",
       "\n",
       "    .dataframe tbody tr th {\n",
       "        vertical-align: top;\n",
       "    }\n",
       "\n",
       "    .dataframe thead th {\n",
       "        text-align: right;\n",
       "    }\n",
       "</style>\n",
       "<table border=\"1\" class=\"dataframe\">\n",
       "  <thead>\n",
       "    <tr style=\"text-align: right;\">\n",
       "      <th></th>\n",
       "      <th>module id</th>\n",
       "      <th>degree</th>\n",
       "    </tr>\n",
       "    <tr>\n",
       "      <th>gene</th>\n",
       "      <th></th>\n",
       "      <th></th>\n",
       "    </tr>\n",
       "  </thead>\n",
       "  <tbody>\n",
       "    <tr>\n",
       "      <th>PA14_64230</th>\n",
       "      <td>0</td>\n",
       "      <td>11780</td>\n",
       "    </tr>\n",
       "    <tr>\n",
       "      <th>PA14_34300</th>\n",
       "      <td>1962</td>\n",
       "      <td>11780</td>\n",
       "    </tr>\n",
       "    <tr>\n",
       "      <th>PA14_46540</th>\n",
       "      <td>1966</td>\n",
       "      <td>11780</td>\n",
       "    </tr>\n",
       "    <tr>\n",
       "      <th>PA14_48280</th>\n",
       "      <td>1966</td>\n",
       "      <td>11780</td>\n",
       "    </tr>\n",
       "    <tr>\n",
       "      <th>PA14_59380</th>\n",
       "      <td>1965</td>\n",
       "      <td>11780</td>\n",
       "    </tr>\n",
       "  </tbody>\n",
       "</table>\n",
       "</div>"
      ],
      "text/plain": [
       "            module id  degree\n",
       "gene                         \n",
       "PA14_64230          0   11780\n",
       "PA14_34300       1962   11780\n",
       "PA14_46540       1966   11780\n",
       "PA14_48280       1966   11780\n",
       "PA14_59380       1965   11780"
      ]
     },
     "execution_count": 20,
     "metadata": {},
     "output_type": "execute_result"
    }
   ],
   "source": [
    "pa14_membership_df = graph_partition_to_df(pa14_G, pa14_partition, method)\n",
    "print(len(pa14_membership_df[\"module id\"].unique()))\n",
    "pa14_membership_df.sort_values(by=\"degree\", ascending=False).head()"
   ]
  },
  {
   "cell_type": "code",
   "execution_count": 21,
   "id": "47fd2ba5",
   "metadata": {},
   "outputs": [],
   "source": [
    "# Save membership dataframe\n",
    "pao1_membership_filename = os.path.join(\n",
    "    paths.LOCAL_DATA_DIR, f\"pao1_modules_{method}.tsv\"\n",
    ")\n",
    "pa14_membership_filename = os.path.join(\n",
    "    paths.LOCAL_DATA_DIR, f\"pa14_modules_{method}.tsv\"\n",
    ")\n",
    "pao1_membership_df.to_csv(pao1_membership_filename, sep=\"\\t\")\n",
    "pa14_membership_df.to_csv(pa14_membership_filename, sep=\"\\t\")"
   ]
  }
 ],
 "metadata": {
  "jupytext": {
   "encoding": "# -*- coding: utf-8 -*-",
   "formats": "ipynb,py"
  },
  "kernelspec": {
   "display_name": "Python [conda env:core_acc] *",
   "language": "python",
   "name": "conda-env-core_acc-py"
  },
  "language_info": {
   "codemirror_mode": {
    "name": "ipython",
    "version": 3
   },
   "file_extension": ".py",
   "mimetype": "text/x-python",
   "name": "python",
   "nbconvert_exporter": "python",
   "pygments_lexer": "ipython3",
   "version": "3.7.10"
  }
 },
 "nbformat": 4,
 "nbformat_minor": 5
}
