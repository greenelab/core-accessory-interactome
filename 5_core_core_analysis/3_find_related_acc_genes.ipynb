{
 "cells": [
  {
   "cell_type": "markdown",
   "id": "9087d56b",
   "metadata": {},
   "source": [
    "# Find co-expressed accessory genes\n",
    "\n",
    "From the [core-acc analysis](../core_acc_analysis/stable_gene_relationships.ipynb) we observed that least stable core genes tended to be highly co-expressed with more accessory genes compared to the most stable core genes. Therefore, this notebook reports the accessory genes that the least core genes are most co-expressed with."
   ]
  },
  {
   "cell_type": "code",
   "execution_count": 1,
   "id": "3bc405ba",
   "metadata": {},
   "outputs": [
    {
     "name": "stderr",
     "output_type": "stream",
     "text": [
      "/home/alexandra/anaconda3/envs/core_acc/lib/python3.7/site-packages/matplotlib/__init__.py:886: MatplotlibDeprecationWarning: \n",
      "examples.directory is deprecated; in the future, examples will be found relative to the 'datapath' directory.\n",
      "  \"found relative to the 'datapath' directory.\".format(key))\n"
     ]
    }
   ],
   "source": [
    "%load_ext autoreload\n",
    "%autoreload 2\n",
    "%matplotlib inline\n",
    "import os\n",
    "import random\n",
    "import scipy\n",
    "import pandas as pd\n",
    "import seaborn as sns\n",
    "import numpy as np\n",
    "from scripts import utils, paths, gene_relationships, annotations\n",
    "\n",
    "random.seed(1)"
   ]
  },
  {
   "cell_type": "code",
   "execution_count": 2,
   "id": "7b53f6c7",
   "metadata": {},
   "outputs": [],
   "source": [
    "# User params\n",
    "use_operon = True"
   ]
  },
  {
   "cell_type": "markdown",
   "id": "d3f21cc7",
   "metadata": {},
   "source": [
    "### Load correlation matrix"
   ]
  },
  {
   "cell_type": "code",
   "execution_count": 3,
   "id": "bc3bce97",
   "metadata": {},
   "outputs": [],
   "source": [
    "# Load correlation matrix\n",
    "pao1_corr_filename = paths.PAO1_CORR_LOG_SPELL\n",
    "pa14_corr_filename = paths.PA14_CORR_LOG_SPELL\n",
    "\n",
    "pao1_corr = pd.read_csv(pao1_corr_filename, sep=\"\\t\", index_col=0, header=0)\n",
    "pa14_corr = pd.read_csv(pa14_corr_filename, sep=\"\\t\", index_col=0, header=0)"
   ]
  },
  {
   "cell_type": "code",
   "execution_count": 4,
   "id": "4a6689ee",
   "metadata": {},
   "outputs": [
    {
     "name": "stdout",
     "output_type": "stream",
     "text": [
      "(5563, 0)\n"
     ]
    },
    {
     "data": {
      "text/html": [
       "<div>\n",
       "<style scoped>\n",
       "    .dataframe tbody tr th:only-of-type {\n",
       "        vertical-align: middle;\n",
       "    }\n",
       "\n",
       "    .dataframe tbody tr th {\n",
       "        vertical-align: top;\n",
       "    }\n",
       "\n",
       "    .dataframe thead th {\n",
       "        text-align: right;\n",
       "    }\n",
       "</style>\n",
       "<table border=\"1\" class=\"dataframe\">\n",
       "  <thead>\n",
       "    <tr style=\"text-align: right;\">\n",
       "      <th></th>\n",
       "    </tr>\n",
       "  </thead>\n",
       "  <tbody>\n",
       "    <tr>\n",
       "      <th>PA0001</th>\n",
       "    </tr>\n",
       "    <tr>\n",
       "      <th>PA0002</th>\n",
       "    </tr>\n",
       "    <tr>\n",
       "      <th>PA0003</th>\n",
       "    </tr>\n",
       "    <tr>\n",
       "      <th>PA0004</th>\n",
       "    </tr>\n",
       "    <tr>\n",
       "      <th>PA0005</th>\n",
       "    </tr>\n",
       "  </tbody>\n",
       "</table>\n",
       "</div>"
      ],
      "text/plain": [
       "Empty DataFrame\n",
       "Columns: []\n",
       "Index: [PA0001, PA0002, PA0003, PA0004, PA0005]"
      ]
     },
     "execution_count": 4,
     "metadata": {},
     "output_type": "execute_result"
    }
   ],
   "source": [
    "# Make a dataframe with gene ids\n",
    "pao1_membership = pd.DataFrame(data=[], index=pao1_corr.index)\n",
    "print(pao1_membership.shape)\n",
    "pao1_membership.head()"
   ]
  },
  {
   "cell_type": "code",
   "execution_count": 5,
   "id": "b86bad5c",
   "metadata": {},
   "outputs": [
    {
     "name": "stdout",
     "output_type": "stream",
     "text": [
      "(5891, 0)\n"
     ]
    },
    {
     "data": {
      "text/html": [
       "<div>\n",
       "<style scoped>\n",
       "    .dataframe tbody tr th:only-of-type {\n",
       "        vertical-align: middle;\n",
       "    }\n",
       "\n",
       "    .dataframe tbody tr th {\n",
       "        vertical-align: top;\n",
       "    }\n",
       "\n",
       "    .dataframe thead th {\n",
       "        text-align: right;\n",
       "    }\n",
       "</style>\n",
       "<table border=\"1\" class=\"dataframe\">\n",
       "  <thead>\n",
       "    <tr style=\"text-align: right;\">\n",
       "      <th></th>\n",
       "    </tr>\n",
       "  </thead>\n",
       "  <tbody>\n",
       "    <tr>\n",
       "      <th>PA14_55610</th>\n",
       "    </tr>\n",
       "    <tr>\n",
       "      <th>PA14_55600</th>\n",
       "    </tr>\n",
       "    <tr>\n",
       "      <th>PA14_55590</th>\n",
       "    </tr>\n",
       "    <tr>\n",
       "      <th>PA14_55580</th>\n",
       "    </tr>\n",
       "    <tr>\n",
       "      <th>PA14_55570</th>\n",
       "    </tr>\n",
       "  </tbody>\n",
       "</table>\n",
       "</div>"
      ],
      "text/plain": [
       "Empty DataFrame\n",
       "Columns: []\n",
       "Index: [PA14_55610, PA14_55600, PA14_55590, PA14_55580, PA14_55570]"
      ]
     },
     "execution_count": 5,
     "metadata": {},
     "output_type": "execute_result"
    }
   ],
   "source": [
    "pa14_membership = pd.DataFrame(data=[], index=pa14_corr.index)\n",
    "print(pa14_membership.shape)\n",
    "pa14_membership.head()"
   ]
  },
  {
   "cell_type": "markdown",
   "id": "1a3f28ec",
   "metadata": {},
   "source": [
    "### Load and get least stable core genes"
   ]
  },
  {
   "cell_type": "code",
   "execution_count": 6,
   "id": "faca9c82",
   "metadata": {},
   "outputs": [],
   "source": [
    "# Load transcriptional similarity df\n",
    "# These are the subset of genes that we will consider\n",
    "pao1_similarity_scores_filename = \"pao1_similarity_scores.tsv\"\n",
    "pa14_similarity_scores_filename = \"pa14_similarity_scores.tsv\"\n",
    "\n",
    "pao1_similarity_scores = pd.read_csv(\n",
    "    pao1_similarity_scores_filename, sep=\"\\t\", header=0, index_col=0\n",
    ")\n",
    "pa14_similarity_scores = pd.read_csv(\n",
    "    pa14_similarity_scores_filename, sep=\"\\t\", header=0, index_col=0\n",
    ")"
   ]
  },
  {
   "cell_type": "code",
   "execution_count": 7,
   "id": "958a2f69",
   "metadata": {},
   "outputs": [],
   "source": [
    "# Get most and least stable core genes\n",
    "pao1_least_stable_genes = list(\n",
    "    pao1_similarity_scores[pao1_similarity_scores[\"label\"] == \"least stable\"].index\n",
    ")\n",
    "\n",
    "pa14_least_stable_genes = list(\n",
    "    pa14_similarity_scores[pa14_similarity_scores[\"label\"] == \"least stable\"].index\n",
    ")"
   ]
  },
  {
   "cell_type": "markdown",
   "id": "63244eb5",
   "metadata": {},
   "source": [
    "### Load core/accessory gene labels"
   ]
  },
  {
   "cell_type": "code",
   "execution_count": 8,
   "id": "74439b3e",
   "metadata": {},
   "outputs": [],
   "source": [
    "# Read in expression data\n",
    "pao1_expression_filename = paths.PAO1_COMPENDIUM\n",
    "pa14_expression_filename = paths.PA14_COMPENDIUM\n",
    "\n",
    "pao1_expression = pd.read_csv(pao1_expression_filename, sep=\"\\t\", index_col=0, header=0)\n",
    "pa14_expression = pd.read_csv(pa14_expression_filename, sep=\"\\t\", index_col=0, header=0)"
   ]
  },
  {
   "cell_type": "code",
   "execution_count": 9,
   "id": "cfde312c",
   "metadata": {},
   "outputs": [
    {
     "name": "stdout",
     "output_type": "stream",
     "text": [
      "Number of PAO1 core genes: 5366\n",
      "Number of PA14 core genes: 5363\n",
      "Number of PAO1 core genes in my dataset: 5361\n",
      "Number of PA14 core genes in my dataset: 5357\n",
      "Number of PAO1-specific genes: 202\n",
      "Number of PA14-specific genes: 534\n"
     ]
    }
   ],
   "source": [
    "pao1_annot_filename = paths.GENE_PAO1_ANNOT\n",
    "pa14_annot_filename = paths.GENE_PA14_ANNOT\n",
    "\n",
    "core_acc_dict = utils.get_my_core_acc_genes(\n",
    "    pao1_annot_filename, pa14_annot_filename, pao1_expression, pa14_expression\n",
    ")"
   ]
  },
  {
   "cell_type": "code",
   "execution_count": 10,
   "id": "153c6bf1",
   "metadata": {},
   "outputs": [],
   "source": [
    "pao1_core = core_acc_dict[\"core_pao1\"]\n",
    "pa14_core = core_acc_dict[\"core_pa14\"]\n",
    "pao1_acc = core_acc_dict[\"acc_pao1\"]\n",
    "pa14_acc = core_acc_dict[\"acc_pa14\"]"
   ]
  },
  {
   "cell_type": "code",
   "execution_count": 11,
   "id": "e1df9376",
   "metadata": {},
   "outputs": [],
   "source": [
    "pao1_membership.loc[pao1_core, \"core/acc\"] = \"core\"\n",
    "pao1_membership.loc[pao1_acc, \"core/acc\"] = \"acc\""
   ]
  },
  {
   "cell_type": "code",
   "execution_count": 12,
   "id": "a561712c",
   "metadata": {},
   "outputs": [],
   "source": [
    "# pa14_acc_shared = set(pa14_acc).intersection(pa14_gene_module_labels.index)\n",
    "pa14_membership.loc[pa14_core, \"core/acc\"] = \"core\"\n",
    "pa14_membership.loc[pa14_acc, \"core/acc\"] = \"acc\""
   ]
  },
  {
   "cell_type": "code",
   "execution_count": 13,
   "id": "2aab5282",
   "metadata": {},
   "outputs": [],
   "source": [
    "# Drop \"module id\" column\n",
    "pao1_arr = pao1_membership\n",
    "pa14_arr = pa14_membership"
   ]
  },
  {
   "cell_type": "code",
   "execution_count": 14,
   "id": "6d9eb390",
   "metadata": {},
   "outputs": [],
   "source": [
    "# Make sure to sort by gene id\n",
    "# NOTE PA14 gene ids don't increment by 1, but by 10 or 20 are we missing some genes?\n",
    "pao1_arr = pao1_arr.sort_index()\n",
    "pa14_arr = pa14_arr.sort_index()"
   ]
  },
  {
   "cell_type": "markdown",
   "id": "73261566",
   "metadata": {},
   "source": [
    "### Load operon annotations"
   ]
  },
  {
   "cell_type": "code",
   "execution_count": 15,
   "id": "36b58db7",
   "metadata": {},
   "outputs": [],
   "source": [
    "pao1_operon_filename = paths.PAO1_OPERON\n",
    "pa14_operon_filename = paths.PA14_OPERON"
   ]
  },
  {
   "cell_type": "code",
   "execution_count": 16,
   "id": "6bbf1090",
   "metadata": {},
   "outputs": [],
   "source": [
    "pao1_operon = annotations.load_format_operons(pao1_operon_filename)\n",
    "pa14_operon = annotations.load_format_operons(pa14_operon_filename)"
   ]
  },
  {
   "cell_type": "code",
   "execution_count": 17,
   "id": "3bc4a68d",
   "metadata": {},
   "outputs": [],
   "source": [
    "if use_operon:\n",
    "    pao1_operon_expression_to_use = pao1_operon\n",
    "    pa14_operon_expression_to_use = pa14_operon\n",
    "else:\n",
    "    pao1_operon_expression_to_use = None\n",
    "    pa14_operon_expression_to_use = None"
   ]
  },
  {
   "cell_type": "markdown",
   "id": "d22be3ea",
   "metadata": {},
   "source": [
    "### Find all accessory genes co-expressed lasR gene\n",
    "\n",
    "Our collaborator shared an experiment comparing the transcriptome of WT vs lasR mutant strains and found genes in PA14-only genes that were significant. So we were curious to see if any of these PA14-only DEGs (genes highlighted in red that were provided) were co-regulated by lasR according to our analysis."
   ]
  },
  {
   "cell_type": "code",
   "execution_count": 18,
   "id": "828ced19",
   "metadata": {},
   "outputs": [],
   "source": [
    "pa14_lasR_acc_relationships = gene_relationships.find_related_acc_genes(\n",
    "    pa14_corr,\n",
    "    [\"PA14_45960\"],\n",
    "    pa14_arr,\n",
    "    40,\n",
    "    pa14_operon_expression_to_use,\n",
    ")"
   ]
  },
  {
   "cell_type": "code",
   "execution_count": 19,
   "id": "2244bd53",
   "metadata": {},
   "outputs": [
    {
     "name": "stdout",
     "output_type": "stream",
     "text": [
      "(1, 1)\n"
     ]
    },
    {
     "data": {
      "text/html": [
       "<div>\n",
       "<style scoped>\n",
       "    .dataframe tbody tr th:only-of-type {\n",
       "        vertical-align: middle;\n",
       "    }\n",
       "\n",
       "    .dataframe tbody tr th {\n",
       "        vertical-align: top;\n",
       "    }\n",
       "\n",
       "    .dataframe thead th {\n",
       "        text-align: right;\n",
       "    }\n",
       "</style>\n",
       "<table border=\"1\" class=\"dataframe\">\n",
       "  <thead>\n",
       "    <tr style=\"text-align: right;\">\n",
       "      <th></th>\n",
       "      <th>Related acc genes</th>\n",
       "    </tr>\n",
       "    <tr>\n",
       "      <th>gene id</th>\n",
       "      <th></th>\n",
       "    </tr>\n",
       "  </thead>\n",
       "  <tbody>\n",
       "    <tr>\n",
       "      <th>PA14_45960</th>\n",
       "      <td>[PA14_21830]</td>\n",
       "    </tr>\n",
       "  </tbody>\n",
       "</table>\n",
       "</div>"
      ],
      "text/plain": [
       "           Related acc genes\n",
       "gene id                     \n",
       "PA14_45960      [PA14_21830]"
      ]
     },
     "execution_count": 19,
     "metadata": {},
     "output_type": "execute_result"
    }
   ],
   "source": [
    "print(pa14_lasR_acc_relationships.shape)\n",
    "pa14_lasR_acc_relationships.head()"
   ]
  },
  {
   "cell_type": "code",
   "execution_count": 20,
   "id": "0efe0ca6",
   "metadata": {},
   "outputs": [],
   "source": [
    "# Read in PA14-only lasR genes\n",
    "pa14_lasR_genes_Deb_filename = os.path.join(\n",
    "    paths.LOCAL_DATA_DIR, \"lasR regulated PA14 genes for Alex.csv\"\n",
    ")"
   ]
  },
  {
   "cell_type": "code",
   "execution_count": 21,
   "id": "34964777",
   "metadata": {},
   "outputs": [],
   "source": [
    "pa14_lasR_genes_Deb = pd.read_csv(pa14_lasR_genes_Deb_filename, index_col=0, header=1)"
   ]
  },
  {
   "cell_type": "code",
   "execution_count": 22,
   "id": "85e1e91c",
   "metadata": {},
   "outputs": [
    {
     "name": "stdout",
     "output_type": "stream",
     "text": [
      "(78, 29)\n"
     ]
    },
    {
     "data": {
      "text/html": [
       "<div>\n",
       "<style scoped>\n",
       "    .dataframe tbody tr th:only-of-type {\n",
       "        vertical-align: middle;\n",
       "    }\n",
       "\n",
       "    .dataframe tbody tr th {\n",
       "        vertical-align: top;\n",
       "    }\n",
       "\n",
       "    .dataframe thead th {\n",
       "        text-align: right;\n",
       "    }\n",
       "</style>\n",
       "<table border=\"1\" class=\"dataframe\">\n",
       "  <thead>\n",
       "    <tr style=\"text-align: right;\">\n",
       "      <th></th>\n",
       "      <th>PAO1 ID</th>\n",
       "      <th>PA14_WT - Expression values</th>\n",
       "      <th>PA14_WT - Normalized expression values</th>\n",
       "      <th>PA14_WT - RPKM</th>\n",
       "      <th>PA14_delta lasR - Expression values</th>\n",
       "      <th>PA14_delta lasR - Normalized expression values</th>\n",
       "      <th>PA14_delta lasR - RPKM</th>\n",
       "      <th>PA14_P117L - Expression values</th>\n",
       "      <th>PA14_P117L - Normalized expression values</th>\n",
       "      <th>PA14_P117L - RPKM</th>\n",
       "      <th>...</th>\n",
       "      <th>PA14_WT - RPKM.1</th>\n",
       "      <th>PA14_delta lasR - RPKM.1</th>\n",
       "      <th>PA14_I215S - RPKM.1</th>\n",
       "      <th>PA14_lasR revert - RPKM.1</th>\n",
       "      <th>Unnamed: 24</th>\n",
       "      <th>PAO1 ID.2</th>\n",
       "      <th>PA14_WT - RPKM.2</th>\n",
       "      <th>PA14_delta lasR - RPKM.2</th>\n",
       "      <th>PA14_I215S - RPKM.2</th>\n",
       "      <th>PA14_lasR revert - RPKM.2</th>\n",
       "    </tr>\n",
       "    <tr>\n",
       "      <th>Feature ID</th>\n",
       "      <th></th>\n",
       "      <th></th>\n",
       "      <th></th>\n",
       "      <th></th>\n",
       "      <th></th>\n",
       "      <th></th>\n",
       "      <th></th>\n",
       "      <th></th>\n",
       "      <th></th>\n",
       "      <th></th>\n",
       "      <th></th>\n",
       "      <th></th>\n",
       "      <th></th>\n",
       "      <th></th>\n",
       "      <th></th>\n",
       "      <th></th>\n",
       "      <th></th>\n",
       "      <th></th>\n",
       "      <th></th>\n",
       "      <th></th>\n",
       "      <th></th>\n",
       "    </tr>\n",
       "  </thead>\n",
       "  <tbody>\n",
       "    <tr>\n",
       "      <th>PA14_28360</th>\n",
       "      <td>PA14_28360</td>\n",
       "      <td>586</td>\n",
       "      <td>504.2</td>\n",
       "      <td>505.257985</td>\n",
       "      <td>29</td>\n",
       "      <td>25.6</td>\n",
       "      <td>21.551879</td>\n",
       "      <td>11</td>\n",
       "      <td>23.4</td>\n",
       "      <td>19.686255</td>\n",
       "      <td>...</td>\n",
       "      <td>31.424530</td>\n",
       "      <td>32.674835</td>\n",
       "      <td>19.066339</td>\n",
       "      <td>37.677177</td>\n",
       "      <td>NaN</td>\n",
       "      <td>PA0346</td>\n",
       "      <td>4.973819</td>\n",
       "      <td>5.030108</td>\n",
       "      <td>4.252956</td>\n",
       "      <td>5.235619</td>\n",
       "    </tr>\n",
       "    <tr>\n",
       "      <th>PA14_36480</th>\n",
       "      <td>PA14_36480</td>\n",
       "      <td>258</td>\n",
       "      <td>214.2</td>\n",
       "      <td>210.427064</td>\n",
       "      <td>16</td>\n",
       "      <td>13.8</td>\n",
       "      <td>11.247952</td>\n",
       "      <td>22</td>\n",
       "      <td>46.0</td>\n",
       "      <td>37.244267</td>\n",
       "      <td>...</td>\n",
       "      <td>49.452202</td>\n",
       "      <td>34.904934</td>\n",
       "      <td>37.088113</td>\n",
       "      <td>47.060010</td>\n",
       "      <td>NaN</td>\n",
       "      <td>PA0080</td>\n",
       "      <td>5.627963</td>\n",
       "      <td>5.125359</td>\n",
       "      <td>5.212885</td>\n",
       "      <td>5.556430</td>\n",
       "    </tr>\n",
       "    <tr>\n",
       "      <th>PA14_36860</th>\n",
       "      <td>PA14_36860</td>\n",
       "      <td>122</td>\n",
       "      <td>100.8</td>\n",
       "      <td>116.878032</td>\n",
       "      <td>12</td>\n",
       "      <td>10.2</td>\n",
       "      <td>9.908910</td>\n",
       "      <td>7</td>\n",
       "      <td>15.2</td>\n",
       "      <td>13.919575</td>\n",
       "      <td>...</td>\n",
       "      <td>36.063543</td>\n",
       "      <td>34.949615</td>\n",
       "      <td>30.677617</td>\n",
       "      <td>35.414214</td>\n",
       "      <td>NaN</td>\n",
       "      <td>PA5532</td>\n",
       "      <td>5.172469</td>\n",
       "      <td>5.127205</td>\n",
       "      <td>4.939114</td>\n",
       "      <td>5.146257</td>\n",
       "    </tr>\n",
       "    <tr>\n",
       "      <th>PA14_36790</th>\n",
       "      <td>PA14_36790</td>\n",
       "      <td>63</td>\n",
       "      <td>51.8</td>\n",
       "      <td>84.497069</td>\n",
       "      <td>6</td>\n",
       "      <td>5.2</td>\n",
       "      <td>6.936237</td>\n",
       "      <td>0</td>\n",
       "      <td>0.4</td>\n",
       "      <td>0.000000</td>\n",
       "      <td>...</td>\n",
       "      <td>28.410372</td>\n",
       "      <td>34.915517</td>\n",
       "      <td>22.232095</td>\n",
       "      <td>27.816619</td>\n",
       "      <td>NaN</td>\n",
       "      <td>phoR</td>\n",
       "      <td>4.828346</td>\n",
       "      <td>5.125796</td>\n",
       "      <td>4.474572</td>\n",
       "      <td>4.797875</td>\n",
       "    </tr>\n",
       "    <tr>\n",
       "      <th>PA14_30890</th>\n",
       "      <td>PA14_30890</td>\n",
       "      <td>3</td>\n",
       "      <td>1.6</td>\n",
       "      <td>3.772191</td>\n",
       "      <td>0</td>\n",
       "      <td>0.0</td>\n",
       "      <td>0.000000</td>\n",
       "      <td>1</td>\n",
       "      <td>3.0</td>\n",
       "      <td>2.609920</td>\n",
       "      <td>...</td>\n",
       "      <td>37.289849</td>\n",
       "      <td>33.229769</td>\n",
       "      <td>22.325531</td>\n",
       "      <td>39.892994</td>\n",
       "      <td>NaN</td>\n",
       "      <td>PA1760</td>\n",
       "      <td>5.220711</td>\n",
       "      <td>5.054404</td>\n",
       "      <td>4.480623</td>\n",
       "      <td>5.318063</td>\n",
       "    </tr>\n",
       "  </tbody>\n",
       "</table>\n",
       "<p>5 rows × 29 columns</p>\n",
       "</div>"
      ],
      "text/plain": [
       "               PAO1 ID  PA14_WT - Expression values  \\\n",
       "Feature ID                                            \n",
       "PA14_28360  PA14_28360                          586   \n",
       "PA14_36480  PA14_36480                          258   \n",
       "PA14_36860  PA14_36860                          122   \n",
       "PA14_36790  PA14_36790                           63   \n",
       "PA14_30890  PA14_30890                            3   \n",
       "\n",
       "            PA14_WT - Normalized expression values  PA14_WT - RPKM  \\\n",
       "Feature ID                                                           \n",
       "PA14_28360                                   504.2      505.257985   \n",
       "PA14_36480                                   214.2      210.427064   \n",
       "PA14_36860                                   100.8      116.878032   \n",
       "PA14_36790                                    51.8       84.497069   \n",
       "PA14_30890                                     1.6        3.772191   \n",
       "\n",
       "            PA14_delta lasR - Expression values  \\\n",
       "Feature ID                                        \n",
       "PA14_28360                                   29   \n",
       "PA14_36480                                   16   \n",
       "PA14_36860                                   12   \n",
       "PA14_36790                                    6   \n",
       "PA14_30890                                    0   \n",
       "\n",
       "            PA14_delta lasR - Normalized expression values  \\\n",
       "Feature ID                                                   \n",
       "PA14_28360                                            25.6   \n",
       "PA14_36480                                            13.8   \n",
       "PA14_36860                                            10.2   \n",
       "PA14_36790                                             5.2   \n",
       "PA14_30890                                             0.0   \n",
       "\n",
       "            PA14_delta lasR - RPKM  PA14_P117L - Expression values  \\\n",
       "Feature ID                                                           \n",
       "PA14_28360               21.551879                              11   \n",
       "PA14_36480               11.247952                              22   \n",
       "PA14_36860                9.908910                               7   \n",
       "PA14_36790                6.936237                               0   \n",
       "PA14_30890                0.000000                               1   \n",
       "\n",
       "            PA14_P117L - Normalized expression values  PA14_P117L - RPKM  ...  \\\n",
       "Feature ID                                                                ...   \n",
       "PA14_28360                                       23.4          19.686255  ...   \n",
       "PA14_36480                                       46.0          37.244267  ...   \n",
       "PA14_36860                                       15.2          13.919575  ...   \n",
       "PA14_36790                                        0.4           0.000000  ...   \n",
       "PA14_30890                                        3.0           2.609920  ...   \n",
       "\n",
       "            PA14_WT - RPKM.1  PA14_delta lasR - RPKM.1  PA14_I215S - RPKM.1  \\\n",
       "Feature ID                                                                    \n",
       "PA14_28360         31.424530                 32.674835            19.066339   \n",
       "PA14_36480         49.452202                 34.904934            37.088113   \n",
       "PA14_36860         36.063543                 34.949615            30.677617   \n",
       "PA14_36790         28.410372                 34.915517            22.232095   \n",
       "PA14_30890         37.289849                 33.229769            22.325531   \n",
       "\n",
       "            PA14_lasR revert - RPKM.1  Unnamed: 24  PAO1 ID.2  \\\n",
       "Feature ID                                                      \n",
       "PA14_28360                  37.677177          NaN     PA0346   \n",
       "PA14_36480                  47.060010          NaN     PA0080   \n",
       "PA14_36860                  35.414214          NaN     PA5532   \n",
       "PA14_36790                  27.816619          NaN       phoR   \n",
       "PA14_30890                  39.892994          NaN     PA1760   \n",
       "\n",
       "            PA14_WT - RPKM.2  PA14_delta lasR - RPKM.2 PA14_I215S - RPKM.2  \\\n",
       "Feature ID                                                                   \n",
       "PA14_28360          4.973819                  5.030108            4.252956   \n",
       "PA14_36480          5.627963                  5.125359            5.212885   \n",
       "PA14_36860          5.172469                  5.127205            4.939114   \n",
       "PA14_36790          4.828346                  5.125796            4.474572   \n",
       "PA14_30890          5.220711                  5.054404            4.480623   \n",
       "\n",
       "            PA14_lasR revert - RPKM.2  \n",
       "Feature ID                             \n",
       "PA14_28360                   5.235619  \n",
       "PA14_36480                   5.556430  \n",
       "PA14_36860                   5.146257  \n",
       "PA14_36790                   4.797875  \n",
       "PA14_30890                   5.318063  \n",
       "\n",
       "[5 rows x 29 columns]"
      ]
     },
     "execution_count": 22,
     "metadata": {},
     "output_type": "execute_result"
    }
   ],
   "source": [
    "print(pa14_lasR_genes_Deb.shape)\n",
    "pa14_lasR_genes_Deb.head()"
   ]
  },
  {
   "cell_type": "code",
   "execution_count": 23,
   "id": "309b9a84",
   "metadata": {
    "lines_to_next_cell": 2
   },
   "outputs": [
    {
     "name": "stdout",
     "output_type": "stream",
     "text": [
      "78\n",
      "55\n"
     ]
    }
   ],
   "source": [
    "print(len(list(pa14_lasR_genes_Deb.index)))\n",
    "shared_genes = set(pa14_lasR_genes_Deb.index).intersection(pa14_corr.index)\n",
    "print(len(shared_genes))"
   ]
  },
  {
   "cell_type": "code",
   "execution_count": 24,
   "id": "7f3142e6",
   "metadata": {},
   "outputs": [],
   "source": [
    "# Format df for plotting\n",
    "lasR_corr = pa14_corr.loc[\"PA14_45960\"].to_frame(\"values\")\n",
    "lasR_corr[\"label\"] = \"\"\n",
    "lasR_corr.loc[pa14_acc, \"label\"] = \"acc\"\n",
    "lasR_corr.loc[shared_genes, \"label\"] = \"experiment DEGs\""
   ]
  },
  {
   "cell_type": "code",
   "execution_count": 25,
   "id": "3c2d6646",
   "metadata": {},
   "outputs": [
    {
     "data": {
      "text/html": [
       "<div>\n",
       "<style scoped>\n",
       "    .dataframe tbody tr th:only-of-type {\n",
       "        vertical-align: middle;\n",
       "    }\n",
       "\n",
       "    .dataframe tbody tr th {\n",
       "        vertical-align: top;\n",
       "    }\n",
       "\n",
       "    .dataframe thead th {\n",
       "        text-align: right;\n",
       "    }\n",
       "</style>\n",
       "<table border=\"1\" class=\"dataframe\">\n",
       "  <thead>\n",
       "    <tr style=\"text-align: right;\">\n",
       "      <th></th>\n",
       "      <th>values</th>\n",
       "      <th>label</th>\n",
       "    </tr>\n",
       "  </thead>\n",
       "  <tbody>\n",
       "    <tr>\n",
       "      <th>PA14_55610</th>\n",
       "      <td>-0.055168</td>\n",
       "      <td></td>\n",
       "    </tr>\n",
       "    <tr>\n",
       "      <th>PA14_55600</th>\n",
       "      <td>0.040741</td>\n",
       "      <td></td>\n",
       "    </tr>\n",
       "    <tr>\n",
       "      <th>PA14_55590</th>\n",
       "      <td>-0.020922</td>\n",
       "      <td></td>\n",
       "    </tr>\n",
       "    <tr>\n",
       "      <th>PA14_55580</th>\n",
       "      <td>0.113263</td>\n",
       "      <td></td>\n",
       "    </tr>\n",
       "    <tr>\n",
       "      <th>PA14_55570</th>\n",
       "      <td>-0.019167</td>\n",
       "      <td></td>\n",
       "    </tr>\n",
       "  </tbody>\n",
       "</table>\n",
       "</div>"
      ],
      "text/plain": [
       "              values label\n",
       "PA14_55610 -0.055168      \n",
       "PA14_55600  0.040741      \n",
       "PA14_55590 -0.020922      \n",
       "PA14_55580  0.113263      \n",
       "PA14_55570 -0.019167      "
      ]
     },
     "execution_count": 25,
     "metadata": {},
     "output_type": "execute_result"
    }
   ],
   "source": [
    "lasR_corr.head()"
   ]
  },
  {
   "cell_type": "code",
   "execution_count": 26,
   "id": "473b5b7c",
   "metadata": {},
   "outputs": [
    {
     "data": {
      "image/png": "[encoded data removed]",
      "text/plain": [
       "<Figure size 483.5x360 with 1 Axes>"
      ]
     },
     "metadata": {
      "needs_background": "light"
     },
     "output_type": "display_data"
    }
   ],
   "source": [
    "# Plot distribution of correlation scores\n",
    "fig_pao1 = sns.displot(\n",
    "    data=lasR_corr,\n",
    "    x=\"values\",\n",
    "    hue=\"label\",\n",
    "    alpha=0.3,\n",
    "    bins=np.linspace(-0.4, 1.0, 50),\n",
    ")"
   ]
  },
  {
   "cell_type": "code",
   "execution_count": 27,
   "id": "d8aad10a",
   "metadata": {},
   "outputs": [],
   "source": [
    "# Let's try looking at genes within the same module as lasR\n",
    "cluster_method = \"affinity\"\n",
    "gene_subset = \"all\"\n",
    "pa14_membership_filename = os.path.join(\n",
    "    paths.LOCAL_DATA_DIR, f\"pa14_modules_{cluster_method}_{gene_subset}.tsv\"\n",
    ")"
   ]
  },
  {
   "cell_type": "code",
   "execution_count": 28,
   "id": "ba187a0c",
   "metadata": {},
   "outputs": [],
   "source": [
    "pa14_membership = pd.read_csv(pa14_membership_filename, sep=\"\\t\", index_col=0, header=0)"
   ]
  },
  {
   "cell_type": "code",
   "execution_count": 29,
   "id": "17768a1e",
   "metadata": {},
   "outputs": [
    {
     "data": {
      "text/html": [
       "<div>\n",
       "<style scoped>\n",
       "    .dataframe tbody tr th:only-of-type {\n",
       "        vertical-align: middle;\n",
       "    }\n",
       "\n",
       "    .dataframe tbody tr th {\n",
       "        vertical-align: top;\n",
       "    }\n",
       "\n",
       "    .dataframe thead th {\n",
       "        text-align: right;\n",
       "    }\n",
       "</style>\n",
       "<table border=\"1\" class=\"dataframe\">\n",
       "  <thead>\n",
       "    <tr style=\"text-align: right;\">\n",
       "      <th></th>\n",
       "      <th>module id</th>\n",
       "    </tr>\n",
       "  </thead>\n",
       "  <tbody>\n",
       "    <tr>\n",
       "      <th>PA14_55610</th>\n",
       "      <td>3</td>\n",
       "    </tr>\n",
       "    <tr>\n",
       "      <th>PA14_55600</th>\n",
       "      <td>16</td>\n",
       "    </tr>\n",
       "    <tr>\n",
       "      <th>PA14_55590</th>\n",
       "      <td>602</td>\n",
       "    </tr>\n",
       "    <tr>\n",
       "      <th>PA14_55580</th>\n",
       "      <td>431</td>\n",
       "    </tr>\n",
       "    <tr>\n",
       "      <th>PA14_55570</th>\n",
       "      <td>46</td>\n",
       "    </tr>\n",
       "  </tbody>\n",
       "</table>\n",
       "</div>"
      ],
      "text/plain": [
       "            module id\n",
       "PA14_55610          3\n",
       "PA14_55600         16\n",
       "PA14_55590        602\n",
       "PA14_55580        431\n",
       "PA14_55570         46"
      ]
     },
     "execution_count": 29,
     "metadata": {},
     "output_type": "execute_result"
    }
   ],
   "source": [
    "pa14_membership.head()"
   ]
  },
  {
   "cell_type": "code",
   "execution_count": 30,
   "id": "0a0c5b81",
   "metadata": {},
   "outputs": [
    {
     "name": "stdout",
     "output_type": "stream",
     "text": [
      "348\n"
     ]
    }
   ],
   "source": [
    "lasR_module_id = pa14_membership.loc[\"PA14_45960\"].values[0]\n",
    "print(lasR_module_id)"
   ]
  },
  {
   "cell_type": "code",
   "execution_count": 31,
   "id": "9fa69b25",
   "metadata": {},
   "outputs": [],
   "source": [
    "# Get genes in the same module as lasR\n",
    "lasR_coexpression_module_genes = pa14_membership[\n",
    "    pa14_membership[\"module id\"] == lasR_module_id\n",
    "].index"
   ]
  },
  {
   "cell_type": "code",
   "execution_count": 32,
   "id": "860caf7b",
   "metadata": {},
   "outputs": [
    {
     "data": {
      "text/plain": [
       "set()"
      ]
     },
     "execution_count": 32,
     "metadata": {},
     "output_type": "execute_result"
    }
   ],
   "source": [
    "# Compare gene lists\n",
    "set(pa14_lasR_genes_Deb.index).intersection(lasR_coexpression_module_genes)"
   ]
  },
  {
   "cell_type": "markdown",
   "id": "52d2f97e",
   "metadata": {},
   "source": [
    "If we look at the distribution of co-expression scores for lasR vs all genes, accessory genes, Deb’s genes, the correlation scores range from (-0.2, 0.2), which is lower compared to other core genes. The lasR accessory (PA14-only) genes are found starting in the top 40 genes.\n",
    "\n",
    "If we cluster correlation matrix that includes all genes (core and accessory), there are 0 genes that are within the lasR cluster and found in Deb’s genes (highlighted ones only ~80).\n"
   ]
  },
  {
   "cell_type": "markdown",
   "id": "559260b0",
   "metadata": {},
   "source": [
    "### Find all accessory genes co-expressed with least stable core genes"
   ]
  },
  {
   "cell_type": "code",
   "execution_count": 33,
   "id": "35ac930f",
   "metadata": {},
   "outputs": [
    {
     "name": "stdout",
     "output_type": "stream",
     "text": [
      "CPU times: user 2min 18s, sys: 47.1 ms, total: 2min 18s\n",
      "Wall time: 2min 18s\n"
     ]
    }
   ],
   "source": [
    "%%time\n",
    "pao1_least_acc_relationships = gene_relationships.find_related_acc_genes(\n",
    "    pao1_corr,\n",
    "    pao1_least_stable_genes,\n",
    "    pao1_arr,\n",
    "    10,\n",
    "    pao1_operon_expression_to_use,\n",
    ")"
   ]
  },
  {
   "cell_type": "code",
   "execution_count": 34,
   "id": "a24b4bac",
   "metadata": {},
   "outputs": [
    {
     "data": {
      "text/html": [
       "<div>\n",
       "<style scoped>\n",
       "    .dataframe tbody tr th:only-of-type {\n",
       "        vertical-align: middle;\n",
       "    }\n",
       "\n",
       "    .dataframe tbody tr th {\n",
       "        vertical-align: top;\n",
       "    }\n",
       "\n",
       "    .dataframe thead th {\n",
       "        text-align: right;\n",
       "    }\n",
       "</style>\n",
       "<table border=\"1\" class=\"dataframe\">\n",
       "  <thead>\n",
       "    <tr style=\"text-align: right;\">\n",
       "      <th></th>\n",
       "      <th>Related acc genes</th>\n",
       "    </tr>\n",
       "    <tr>\n",
       "      <th>gene id</th>\n",
       "      <th></th>\n",
       "    </tr>\n",
       "  </thead>\n",
       "  <tbody>\n",
       "    <tr>\n",
       "      <th>PA3577</th>\n",
       "      <td>[PA1834]</td>\n",
       "    </tr>\n",
       "    <tr>\n",
       "      <th>PA2018</th>\n",
       "      <td>No accessory genes</td>\n",
       "    </tr>\n",
       "    <tr>\n",
       "      <th>PA1195</th>\n",
       "      <td>No accessory genes</td>\n",
       "    </tr>\n",
       "    <tr>\n",
       "      <th>PA3206</th>\n",
       "      <td>No accessory genes</td>\n",
       "    </tr>\n",
       "    <tr>\n",
       "      <th>PA0605</th>\n",
       "      <td>No accessory genes</td>\n",
       "    </tr>\n",
       "  </tbody>\n",
       "</table>\n",
       "</div>"
      ],
      "text/plain": [
       "          Related acc genes\n",
       "gene id                    \n",
       "PA3577             [PA1834]\n",
       "PA2018   No accessory genes\n",
       "PA1195   No accessory genes\n",
       "PA3206   No accessory genes\n",
       "PA0605   No accessory genes"
      ]
     },
     "execution_count": 34,
     "metadata": {},
     "output_type": "execute_result"
    }
   ],
   "source": [
    "pao1_least_acc_relationships.head()"
   ]
  },
  {
   "cell_type": "code",
   "execution_count": 35,
   "id": "b7e5882d",
   "metadata": {},
   "outputs": [
    {
     "name": "stdout",
     "output_type": "stream",
     "text": [
      "CPU times: user 2min 27s, sys: 0 ns, total: 2min 27s\n",
      "Wall time: 2min 27s\n"
     ]
    }
   ],
   "source": [
    "%%time\n",
    "pa14_least_acc_relationships = gene_relationships.find_related_acc_genes(\n",
    "    pa14_corr,\n",
    "    pa14_least_stable_genes,\n",
    "    pa14_arr,\n",
    "    10,\n",
    "    pa14_operon_expression_to_use,\n",
    ")"
   ]
  },
  {
   "cell_type": "code",
   "execution_count": 36,
   "id": "a223807b",
   "metadata": {},
   "outputs": [
    {
     "data": {
      "text/html": [
       "<div>\n",
       "<style scoped>\n",
       "    .dataframe tbody tr th:only-of-type {\n",
       "        vertical-align: middle;\n",
       "    }\n",
       "\n",
       "    .dataframe tbody tr th {\n",
       "        vertical-align: top;\n",
       "    }\n",
       "\n",
       "    .dataframe thead th {\n",
       "        text-align: right;\n",
       "    }\n",
       "</style>\n",
       "<table border=\"1\" class=\"dataframe\">\n",
       "  <thead>\n",
       "    <tr style=\"text-align: right;\">\n",
       "      <th></th>\n",
       "      <th>Related acc genes</th>\n",
       "    </tr>\n",
       "    <tr>\n",
       "      <th>gene id</th>\n",
       "      <th></th>\n",
       "    </tr>\n",
       "  </thead>\n",
       "  <tbody>\n",
       "    <tr>\n",
       "      <th>PA14_00600</th>\n",
       "      <td>No accessory genes</td>\n",
       "    </tr>\n",
       "    <tr>\n",
       "      <th>PA14_01600</th>\n",
       "      <td>[PA14_30950, PA14_44230, PA14_30870]</td>\n",
       "    </tr>\n",
       "    <tr>\n",
       "      <th>PA14_01910</th>\n",
       "      <td>No accessory genes</td>\n",
       "    </tr>\n",
       "    <tr>\n",
       "      <th>PA14_01980</th>\n",
       "      <td>No accessory genes</td>\n",
       "    </tr>\n",
       "    <tr>\n",
       "      <th>PA14_02300</th>\n",
       "      <td>No accessory genes</td>\n",
       "    </tr>\n",
       "  </tbody>\n",
       "</table>\n",
       "</div>"
      ],
      "text/plain": [
       "                               Related acc genes\n",
       "gene id                                         \n",
       "PA14_00600                    No accessory genes\n",
       "PA14_01600  [PA14_30950, PA14_44230, PA14_30870]\n",
       "PA14_01910                    No accessory genes\n",
       "PA14_01980                    No accessory genes\n",
       "PA14_02300                    No accessory genes"
      ]
     },
     "execution_count": 36,
     "metadata": {},
     "output_type": "execute_result"
    }
   ],
   "source": [
    "pa14_least_acc_relationships.head()"
   ]
  },
  {
   "cell_type": "markdown",
   "id": "ef76cf74",
   "metadata": {},
   "source": [
    "### Add accessory gene list to core-core annotation df"
   ]
  },
  {
   "cell_type": "code",
   "execution_count": 37,
   "id": "150f33d9",
   "metadata": {},
   "outputs": [],
   "source": [
    "# Load current core-core annotations\n",
    "pao1_core_stable_similarity_filename = \"pao1_core_stable_associations.tsv\"\n",
    "pa14_core_stable_similarity_filename = \"pa14_core_stable_associations.tsv\""
   ]
  },
  {
   "cell_type": "code",
   "execution_count": 38,
   "id": "fcc5dafe",
   "metadata": {},
   "outputs": [],
   "source": [
    "pao1_all_associations = pd.read_csv(\n",
    "    pao1_core_stable_similarity_filename, sep=\"\\t\", header=0, index_col=0\n",
    ")\n",
    "pa14_all_associations = pd.read_csv(\n",
    "    pa14_core_stable_similarity_filename, sep=\"\\t\", header=0, index_col=0\n",
    ")"
   ]
  },
  {
   "cell_type": "code",
   "execution_count": 39,
   "id": "38f9ec5b",
   "metadata": {},
   "outputs": [
    {
     "name": "stdout",
     "output_type": "stream",
     "text": [
      "(682, 6)\n",
      "(682, 6)\n"
     ]
    }
   ],
   "source": [
    "print(pao1_all_associations.shape)\n",
    "print(pa14_all_associations.shape)"
   ]
  },
  {
   "cell_type": "code",
   "execution_count": 40,
   "id": "14d79fec",
   "metadata": {},
   "outputs": [],
   "source": [
    "# Merge KEGG associations with transcriptional similarity information\n",
    "pao1_all_associations = pao1_all_associations.merge(\n",
    "    pao1_least_acc_relationships, left_index=True, right_index=True, how=\"left\"\n",
    ")\n",
    "pa14_all_associations = pa14_all_associations.merge(\n",
    "    pa14_least_acc_relationships, left_index=True, right_index=True, how=\"left\"\n",
    ")"
   ]
  },
  {
   "cell_type": "code",
   "execution_count": 41,
   "id": "1948ec8b",
   "metadata": {},
   "outputs": [
    {
     "name": "stdout",
     "output_type": "stream",
     "text": [
      "(682, 7)\n",
      "(682, 7)\n"
     ]
    }
   ],
   "source": [
    "# Check that the dimension is consistent before and after merge\n",
    "print(pao1_all_associations.shape)\n",
    "print(pa14_all_associations.shape)"
   ]
  },
  {
   "cell_type": "code",
   "execution_count": 42,
   "id": "c47cc7d5",
   "metadata": {},
   "outputs": [
    {
     "data": {
      "text/html": [
       "<div>\n",
       "<style scoped>\n",
       "    .dataframe tbody tr th:only-of-type {\n",
       "        vertical-align: middle;\n",
       "    }\n",
       "\n",
       "    .dataframe tbody tr th {\n",
       "        vertical-align: top;\n",
       "    }\n",
       "\n",
       "    .dataframe thead th {\n",
       "        text-align: right;\n",
       "    }\n",
       "</style>\n",
       "<table border=\"1\" class=\"dataframe\">\n",
       "  <thead>\n",
       "    <tr style=\"text-align: right;\">\n",
       "      <th></th>\n",
       "      <th>pathways present</th>\n",
       "      <th>PA14 homolog id</th>\n",
       "      <th>Transcriptional similarity across strains</th>\n",
       "      <th>P-value</th>\n",
       "      <th>Name</th>\n",
       "      <th>label</th>\n",
       "      <th>Related acc genes</th>\n",
       "    </tr>\n",
       "    <tr>\n",
       "      <th>gene id</th>\n",
       "      <th></th>\n",
       "      <th></th>\n",
       "      <th></th>\n",
       "      <th></th>\n",
       "      <th></th>\n",
       "      <th></th>\n",
       "      <th></th>\n",
       "    </tr>\n",
       "  </thead>\n",
       "  <tbody>\n",
       "    <tr>\n",
       "      <th>PA0355</th>\n",
       "      <td>[]</td>\n",
       "      <td>PA14_04650</td>\n",
       "      <td>0.508206</td>\n",
       "      <td>0.0</td>\n",
       "      <td>pfpI</td>\n",
       "      <td>most stable</td>\n",
       "      <td>NaN</td>\n",
       "    </tr>\n",
       "    <tr>\n",
       "      <th>PA3655</th>\n",
       "      <td>[]</td>\n",
       "      <td>PA14_17070</td>\n",
       "      <td>0.579558</td>\n",
       "      <td>0.0</td>\n",
       "      <td>tsf</td>\n",
       "      <td>most stable</td>\n",
       "      <td>NaN</td>\n",
       "    </tr>\n",
       "    <tr>\n",
       "      <th>PA0620</th>\n",
       "      <td>[]</td>\n",
       "      <td>PA14_08050</td>\n",
       "      <td>0.545196</td>\n",
       "      <td>0.0</td>\n",
       "      <td>NaN</td>\n",
       "      <td>most stable</td>\n",
       "      <td>NaN</td>\n",
       "    </tr>\n",
       "    <tr>\n",
       "      <th>PA0956</th>\n",
       "      <td>['KEGG-Pathway-pae00970: Aminoacyl-tRNA biosyn...</td>\n",
       "      <td>PA14_51900</td>\n",
       "      <td>0.581097</td>\n",
       "      <td>0.0</td>\n",
       "      <td>proS</td>\n",
       "      <td>most stable</td>\n",
       "      <td>NaN</td>\n",
       "    </tr>\n",
       "    <tr>\n",
       "      <th>PA3834</th>\n",
       "      <td>['KEGG-Pathway-pae00970: Aminoacyl-tRNA biosyn...</td>\n",
       "      <td>PA14_14440</td>\n",
       "      <td>0.505727</td>\n",
       "      <td>0.0</td>\n",
       "      <td>valS</td>\n",
       "      <td>most stable</td>\n",
       "      <td>NaN</td>\n",
       "    </tr>\n",
       "  </tbody>\n",
       "</table>\n",
       "</div>"
      ],
      "text/plain": [
       "                                          pathways present PA14 homolog id  \\\n",
       "gene id                                                                      \n",
       "PA0355                                                  []      PA14_04650   \n",
       "PA3655                                                  []      PA14_17070   \n",
       "PA0620                                                  []      PA14_08050   \n",
       "PA0956   ['KEGG-Pathway-pae00970: Aminoacyl-tRNA biosyn...      PA14_51900   \n",
       "PA3834   ['KEGG-Pathway-pae00970: Aminoacyl-tRNA biosyn...      PA14_14440   \n",
       "\n",
       "         Transcriptional similarity across strains  P-value  Name  \\\n",
       "gene id                                                             \n",
       "PA0355                                    0.508206      0.0  pfpI   \n",
       "PA3655                                    0.579558      0.0   tsf   \n",
       "PA0620                                    0.545196      0.0   NaN   \n",
       "PA0956                                    0.581097      0.0  proS   \n",
       "PA3834                                    0.505727      0.0  valS   \n",
       "\n",
       "               label Related acc genes  \n",
       "gene id                                 \n",
       "PA0355   most stable               NaN  \n",
       "PA3655   most stable               NaN  \n",
       "PA0620   most stable               NaN  \n",
       "PA0956   most stable               NaN  \n",
       "PA3834   most stable               NaN  "
      ]
     },
     "execution_count": 42,
     "metadata": {},
     "output_type": "execute_result"
    }
   ],
   "source": [
    "pao1_all_associations.head()"
   ]
  },
  {
   "cell_type": "code",
   "execution_count": 43,
   "id": "cd934be7",
   "metadata": {},
   "outputs": [],
   "source": [
    "# Reorder columns\n",
    "pao1_all_associations = pao1_all_associations[\n",
    "    [\n",
    "        \"Name\",\n",
    "        \"PA14 homolog id\",\n",
    "        \"pathways present\",\n",
    "        \"Transcriptional similarity across strains\",\n",
    "        \"P-value\",\n",
    "        \"label\",\n",
    "        \"Related acc genes\",\n",
    "    ]\n",
    "]\n",
    "\n",
    "pa14_all_associations = pa14_all_associations[\n",
    "    [\n",
    "        \"Name\",\n",
    "        \"PAO1 homolog id\",\n",
    "        \"pathways present\",\n",
    "        \"Transcriptional similarity across strains\",\n",
    "        \"P-value\",\n",
    "        \"label\",\n",
    "        \"Related acc genes\",\n",
    "    ]\n",
    "]"
   ]
  },
  {
   "cell_type": "code",
   "execution_count": 44,
   "id": "a2cf2548",
   "metadata": {},
   "outputs": [
    {
     "data": {
      "text/html": [
       "<div>\n",
       "<style scoped>\n",
       "    .dataframe tbody tr th:only-of-type {\n",
       "        vertical-align: middle;\n",
       "    }\n",
       "\n",
       "    .dataframe tbody tr th {\n",
       "        vertical-align: top;\n",
       "    }\n",
       "\n",
       "    .dataframe thead th {\n",
       "        text-align: right;\n",
       "    }\n",
       "</style>\n",
       "<table border=\"1\" class=\"dataframe\">\n",
       "  <thead>\n",
       "    <tr style=\"text-align: right;\">\n",
       "      <th></th>\n",
       "      <th>Name</th>\n",
       "      <th>PA14 homolog id</th>\n",
       "      <th>pathways present</th>\n",
       "      <th>Transcriptional similarity across strains</th>\n",
       "      <th>P-value</th>\n",
       "      <th>label</th>\n",
       "      <th>Related acc genes</th>\n",
       "    </tr>\n",
       "    <tr>\n",
       "      <th>gene id</th>\n",
       "      <th></th>\n",
       "      <th></th>\n",
       "      <th></th>\n",
       "      <th></th>\n",
       "      <th></th>\n",
       "      <th></th>\n",
       "      <th></th>\n",
       "    </tr>\n",
       "  </thead>\n",
       "  <tbody>\n",
       "    <tr>\n",
       "      <th>PA2497</th>\n",
       "      <td>NaN</td>\n",
       "      <td>PA14_32360</td>\n",
       "      <td>[]</td>\n",
       "      <td>0.198383</td>\n",
       "      <td>1.316381e-48</td>\n",
       "      <td>least stable</td>\n",
       "      <td>No accessory genes</td>\n",
       "    </tr>\n",
       "    <tr>\n",
       "      <th>PA4715</th>\n",
       "      <td>NaN</td>\n",
       "      <td>PA14_62400</td>\n",
       "      <td>[]</td>\n",
       "      <td>0.194614</td>\n",
       "      <td>8.255725e-47</td>\n",
       "      <td>least stable</td>\n",
       "      <td>No accessory genes</td>\n",
       "    </tr>\n",
       "    <tr>\n",
       "      <th>PA1537</th>\n",
       "      <td>NaN</td>\n",
       "      <td>PA14_44570</td>\n",
       "      <td>[]</td>\n",
       "      <td>0.192893</td>\n",
       "      <td>5.308744e-46</td>\n",
       "      <td>least stable</td>\n",
       "      <td>No accessory genes</td>\n",
       "    </tr>\n",
       "    <tr>\n",
       "      <th>PA1637</th>\n",
       "      <td>kdpE</td>\n",
       "      <td>PA14_43340</td>\n",
       "      <td>[]</td>\n",
       "      <td>0.168603</td>\n",
       "      <td>2.107644e-35</td>\n",
       "      <td>least stable</td>\n",
       "      <td>No accessory genes</td>\n",
       "    </tr>\n",
       "    <tr>\n",
       "      <th>PA0669</th>\n",
       "      <td>NaN</td>\n",
       "      <td>PA14_55610</td>\n",
       "      <td>[]</td>\n",
       "      <td>0.137983</td>\n",
       "      <td>3.753804e-24</td>\n",
       "      <td>least stable</td>\n",
       "      <td>No accessory genes</td>\n",
       "    </tr>\n",
       "  </tbody>\n",
       "</table>\n",
       "</div>"
      ],
      "text/plain": [
       "         Name PA14 homolog id pathways present  \\\n",
       "gene id                                          \n",
       "PA2497    NaN      PA14_32360               []   \n",
       "PA4715    NaN      PA14_62400               []   \n",
       "PA1537    NaN      PA14_44570               []   \n",
       "PA1637   kdpE      PA14_43340               []   \n",
       "PA0669    NaN      PA14_55610               []   \n",
       "\n",
       "         Transcriptional similarity across strains       P-value  \\\n",
       "gene id                                                            \n",
       "PA2497                                    0.198383  1.316381e-48   \n",
       "PA4715                                    0.194614  8.255725e-47   \n",
       "PA1537                                    0.192893  5.308744e-46   \n",
       "PA1637                                    0.168603  2.107644e-35   \n",
       "PA0669                                    0.137983  3.753804e-24   \n",
       "\n",
       "                label   Related acc genes  \n",
       "gene id                                    \n",
       "PA2497   least stable  No accessory genes  \n",
       "PA4715   least stable  No accessory genes  \n",
       "PA1537   least stable  No accessory genes  \n",
       "PA1637   least stable  No accessory genes  \n",
       "PA0669   least stable  No accessory genes  "
      ]
     },
     "execution_count": 44,
     "metadata": {},
     "output_type": "execute_result"
    }
   ],
   "source": [
    "pao1_all_associations.sort_values(by=\"label\").head()"
   ]
  },
  {
   "cell_type": "code",
   "execution_count": 45,
   "id": "48d79e02",
   "metadata": {},
   "outputs": [
    {
     "data": {
      "text/html": [
       "<div>\n",
       "<style scoped>\n",
       "    .dataframe tbody tr th:only-of-type {\n",
       "        vertical-align: middle;\n",
       "    }\n",
       "\n",
       "    .dataframe tbody tr th {\n",
       "        vertical-align: top;\n",
       "    }\n",
       "\n",
       "    .dataframe thead th {\n",
       "        text-align: right;\n",
       "    }\n",
       "</style>\n",
       "<table border=\"1\" class=\"dataframe\">\n",
       "  <thead>\n",
       "    <tr style=\"text-align: right;\">\n",
       "      <th></th>\n",
       "      <th>Name</th>\n",
       "      <th>PAO1 homolog id</th>\n",
       "      <th>pathways present</th>\n",
       "      <th>Transcriptional similarity across strains</th>\n",
       "      <th>P-value</th>\n",
       "      <th>label</th>\n",
       "      <th>Related acc genes</th>\n",
       "    </tr>\n",
       "  </thead>\n",
       "  <tbody>\n",
       "    <tr>\n",
       "      <th>PA14_35690</th>\n",
       "      <td>pslE</td>\n",
       "      <td>PA2235</td>\n",
       "      <td>[]</td>\n",
       "      <td>0.175337</td>\n",
       "      <td>3.277333e-38</td>\n",
       "      <td>least stable</td>\n",
       "      <td>[PA14_31070, PA14_10120, PA14_33970, PA14_20520]</td>\n",
       "    </tr>\n",
       "    <tr>\n",
       "      <th>PA14_48770</th>\n",
       "      <td>NaN</td>\n",
       "      <td>PA1201</td>\n",
       "      <td>[]</td>\n",
       "      <td>0.182194</td>\n",
       "      <td>3.602779e-41</td>\n",
       "      <td>least stable</td>\n",
       "      <td>No accessory genes</td>\n",
       "    </tr>\n",
       "    <tr>\n",
       "      <th>PA14_11670</th>\n",
       "      <td>mucE</td>\n",
       "      <td>PA4033</td>\n",
       "      <td>[]</td>\n",
       "      <td>0.179098</td>\n",
       "      <td>8.084179e-40</td>\n",
       "      <td>least stable</td>\n",
       "      <td>[PA14_58980]</td>\n",
       "    </tr>\n",
       "    <tr>\n",
       "      <th>PA14_60070</th>\n",
       "      <td>NaN</td>\n",
       "      <td>PA1939</td>\n",
       "      <td>[]</td>\n",
       "      <td>0.192158</td>\n",
       "      <td>1.104447e-45</td>\n",
       "      <td>least stable</td>\n",
       "      <td>[PA14_60120, PA14_60110, PA14_59780, PA14_5917...</td>\n",
       "    </tr>\n",
       "    <tr>\n",
       "      <th>PA14_59960</th>\n",
       "      <td>NaN</td>\n",
       "      <td>PA0982</td>\n",
       "      <td>[]</td>\n",
       "      <td>0.135936</td>\n",
       "      <td>1.706603e-23</td>\n",
       "      <td>least stable</td>\n",
       "      <td>[PA14_59350, PA14_59830, PA14_59060, PA14_6002...</td>\n",
       "    </tr>\n",
       "  </tbody>\n",
       "</table>\n",
       "</div>"
      ],
      "text/plain": [
       "            Name PAO1 homolog id pathways present  \\\n",
       "PA14_35690  pslE          PA2235               []   \n",
       "PA14_48770   NaN          PA1201               []   \n",
       "PA14_11670  mucE          PA4033               []   \n",
       "PA14_60070   NaN          PA1939               []   \n",
       "PA14_59960   NaN          PA0982               []   \n",
       "\n",
       "            Transcriptional similarity across strains       P-value  \\\n",
       "PA14_35690                                   0.175337  3.277333e-38   \n",
       "PA14_48770                                   0.182194  3.602779e-41   \n",
       "PA14_11670                                   0.179098  8.084179e-40   \n",
       "PA14_60070                                   0.192158  1.104447e-45   \n",
       "PA14_59960                                   0.135936  1.706603e-23   \n",
       "\n",
       "                   label                                  Related acc genes  \n",
       "PA14_35690  least stable   [PA14_31070, PA14_10120, PA14_33970, PA14_20520]  \n",
       "PA14_48770  least stable                                 No accessory genes  \n",
       "PA14_11670  least stable                                       [PA14_58980]  \n",
       "PA14_60070  least stable  [PA14_60120, PA14_60110, PA14_59780, PA14_5917...  \n",
       "PA14_59960  least stable  [PA14_59350, PA14_59830, PA14_59060, PA14_6002...  "
      ]
     },
     "execution_count": 45,
     "metadata": {},
     "output_type": "execute_result"
    }
   ],
   "source": [
    "pa14_all_associations.sort_values(by=\"label\").head()"
   ]
  },
  {
   "cell_type": "code",
   "execution_count": 46,
   "id": "08639342",
   "metadata": {},
   "outputs": [],
   "source": [
    "# Save\n",
    "pao1_all_associations.to_csv(\"pao1_core_stable_associations_final.tsv\", sep=\"\\t\")\n",
    "pa14_all_associations.to_csv(\"pa14_core_stable_associations_final.tsv\", sep=\"\\t\")"
   ]
  },
  {
   "cell_type": "markdown",
   "id": "89401c24",
   "metadata": {},
   "source": [
    "Based on the results, there are some accessory genes that are shared by 4-5 core genes, most of these are uncharacterized by uniprot: one is integrase catalytic domain, GGDEF domain proteins.\n",
    "\n",
    "What threshold makes sense for looking at the top # co-expressed accessory genes?\n"
   ]
  }
 ],
 "metadata": {
  "jupytext": {
   "encoding": "# -*- coding: utf-8 -*-",
   "formats": "ipynb,py"
  },
  "kernelspec": {
   "display_name": "Python [conda env:core_acc] *",
   "language": "python",
   "name": "conda-env-core_acc-py"
  },
  "language_info": {
   "codemirror_mode": {
    "name": "ipython",
    "version": 3
   },
   "file_extension": ".py",
   "mimetype": "text/x-python",
   "name": "python",
   "nbconvert_exporter": "python",
   "pygments_lexer": "ipython3",
   "version": "3.7.10"
  }
 },
 "nbformat": 4,
 "nbformat_minor": 5
}
