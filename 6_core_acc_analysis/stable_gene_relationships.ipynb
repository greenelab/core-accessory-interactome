{
 "cells": [
  {
   "cell_type": "markdown",
   "id": "ea778dfd",
   "metadata": {},
   "source": [
    "# Relationships using expression distance\n",
    "\n",
    "This notebook is performing the same analysis as seen in [all_gene_relationships.ipynb](all_gene_relationships.ipynb), where we are examining who is related to who. Previously we started with an accessory gene and asked: is the highest correlated gene another accessory gene or a core gene? For this analysis, we are starting with the most stable core genes and asking the same question: is the highest correlated gene core or accessory?\n",
    "\n",
    "Note: We do not have the genome location metric here because this would require a significant effort to figure out how to modify the existing code to only focus on a subset of genes."
   ]
  },
  {
   "cell_type": "code",
   "execution_count": 1,
   "id": "b172d982",
   "metadata": {},
   "outputs": [
    {
     "name": "stderr",
     "output_type": "stream",
     "text": [
      "/home/alexandra/anaconda3/envs/core_acc/lib/python3.7/site-packages/matplotlib/__init__.py:886: MatplotlibDeprecationWarning: \n",
      "examples.directory is deprecated; in the future, examples will be found relative to the 'datapath' directory.\n",
      "  \"found relative to the 'datapath' directory.\".format(key))\n"
     ]
    }
   ],
   "source": [
    "%load_ext autoreload\n",
    "%autoreload 2\n",
    "%matplotlib inline\n",
    "import os\n",
    "import random\n",
    "import scipy\n",
    "import pandas as pd\n",
    "import numpy as np\n",
    "import seaborn as sns\n",
    "import matplotlib.pyplot as plt\n",
    "from statsmodels.stats.multitest import multipletests\n",
    "from scripts import utils, paths, gene_relationships, annotations\n",
    "\n",
    "random.seed(1)"
   ]
  },
  {
   "cell_type": "code",
   "execution_count": 2,
   "id": "252f6832",
   "metadata": {},
   "outputs": [],
   "source": [
    "# User params\n",
    "method = \"affinity\"\n",
    "offset_to_bin = 10\n",
    "\n",
    "use_operon = True\n",
    "sum_increment_to_use = 1\n",
    "\n",
    "# Output filename\n",
    "pao1_figure_filename = \"PAO1_stablility_expression_relationships_operon_corrected.svg\"\n",
    "pa14_figure_filename = \"PA14_stability_expression_relationships_operon_corrected.svg\""
   ]
  },
  {
   "cell_type": "markdown",
   "id": "137fe447",
   "metadata": {},
   "source": [
    "### Import gene ids"
   ]
  },
  {
   "cell_type": "code",
   "execution_count": 3,
   "id": "7746c742",
   "metadata": {},
   "outputs": [],
   "source": [
    "# Import correlation matrix to get gene ids\n",
    "pao1_corr_filename = paths.PAO1_CORR_RAW\n",
    "pa14_corr_filename = paths.PA14_CORR_RAW\n",
    "\n",
    "pao1_corr = pd.read_csv(pao1_corr_filename, sep=\"\\t\", index_col=0, header=0)\n",
    "pa14_corr = pd.read_csv(pa14_corr_filename, sep=\"\\t\", index_col=0, header=0)"
   ]
  },
  {
   "cell_type": "code",
   "execution_count": 4,
   "id": "e5afca81",
   "metadata": {},
   "outputs": [
    {
     "name": "stdout",
     "output_type": "stream",
     "text": [
      "(5563, 0)\n"
     ]
    },
    {
     "data": {
      "text/html": [
       "<div>\n",
       "<style scoped>\n",
       "    .dataframe tbody tr th:only-of-type {\n",
       "        vertical-align: middle;\n",
       "    }\n",
       "\n",
       "    .dataframe tbody tr th {\n",
       "        vertical-align: top;\n",
       "    }\n",
       "\n",
       "    .dataframe thead th {\n",
       "        text-align: right;\n",
       "    }\n",
       "</style>\n",
       "<table border=\"1\" class=\"dataframe\">\n",
       "  <thead>\n",
       "    <tr style=\"text-align: right;\">\n",
       "      <th></th>\n",
       "    </tr>\n",
       "  </thead>\n",
       "  <tbody>\n",
       "    <tr>\n",
       "      <th>PA0001</th>\n",
       "    </tr>\n",
       "    <tr>\n",
       "      <th>PA0002</th>\n",
       "    </tr>\n",
       "    <tr>\n",
       "      <th>PA0003</th>\n",
       "    </tr>\n",
       "    <tr>\n",
       "      <th>PA0004</th>\n",
       "    </tr>\n",
       "    <tr>\n",
       "      <th>PA0005</th>\n",
       "    </tr>\n",
       "  </tbody>\n",
       "</table>\n",
       "</div>"
      ],
      "text/plain": [
       "Empty DataFrame\n",
       "Columns: []\n",
       "Index: [PA0001, PA0002, PA0003, PA0004, PA0005]"
      ]
     },
     "execution_count": 4,
     "metadata": {},
     "output_type": "execute_result"
    }
   ],
   "source": [
    "# Make a dataframe with gene ids\n",
    "pao1_membership = pd.DataFrame(data=[], index=pao1_corr.index)\n",
    "print(pao1_membership.shape)\n",
    "pao1_membership.head()"
   ]
  },
  {
   "cell_type": "code",
   "execution_count": 5,
   "id": "e64a541e",
   "metadata": {},
   "outputs": [
    {
     "name": "stdout",
     "output_type": "stream",
     "text": [
      "(5891, 0)\n"
     ]
    },
    {
     "data": {
      "text/html": [
       "<div>\n",
       "<style scoped>\n",
       "    .dataframe tbody tr th:only-of-type {\n",
       "        vertical-align: middle;\n",
       "    }\n",
       "\n",
       "    .dataframe tbody tr th {\n",
       "        vertical-align: top;\n",
       "    }\n",
       "\n",
       "    .dataframe thead th {\n",
       "        text-align: right;\n",
       "    }\n",
       "</style>\n",
       "<table border=\"1\" class=\"dataframe\">\n",
       "  <thead>\n",
       "    <tr style=\"text-align: right;\">\n",
       "      <th></th>\n",
       "    </tr>\n",
       "  </thead>\n",
       "  <tbody>\n",
       "    <tr>\n",
       "      <th>PA14_55610</th>\n",
       "    </tr>\n",
       "    <tr>\n",
       "      <th>PA14_55600</th>\n",
       "    </tr>\n",
       "    <tr>\n",
       "      <th>PA14_55590</th>\n",
       "    </tr>\n",
       "    <tr>\n",
       "      <th>PA14_55580</th>\n",
       "    </tr>\n",
       "    <tr>\n",
       "      <th>PA14_55570</th>\n",
       "    </tr>\n",
       "  </tbody>\n",
       "</table>\n",
       "</div>"
      ],
      "text/plain": [
       "Empty DataFrame\n",
       "Columns: []\n",
       "Index: [PA14_55610, PA14_55600, PA14_55590, PA14_55580, PA14_55570]"
      ]
     },
     "execution_count": 5,
     "metadata": {},
     "output_type": "execute_result"
    }
   ],
   "source": [
    "pa14_membership = pd.DataFrame(data=[], index=pa14_corr.index)\n",
    "print(pa14_membership.shape)\n",
    "pa14_membership.head()"
   ]
  },
  {
   "cell_type": "markdown",
   "id": "d1c26022",
   "metadata": {},
   "source": [
    "### Import and format operon data"
   ]
  },
  {
   "cell_type": "code",
   "execution_count": 6,
   "id": "58d6352e",
   "metadata": {},
   "outputs": [],
   "source": [
    "pao1_operon_filename = paths.PAO1_OPERON\n",
    "pa14_operon_filename = paths.PA14_OPERON"
   ]
  },
  {
   "cell_type": "code",
   "execution_count": 7,
   "id": "4cf398a8",
   "metadata": {},
   "outputs": [],
   "source": [
    "# pao1_operon = pd.read_csv(pao1_operon_filename, index_col=0, header=0)\n",
    "# pa14_operon = pd.read_csv(pa14_operon_filename, index_col=0, header=0)"
   ]
  },
  {
   "cell_type": "code",
   "execution_count": 8,
   "id": "3e212657",
   "metadata": {},
   "outputs": [
    {
     "data": {
      "text/html": [
       "<div>\n",
       "<style scoped>\n",
       "    .dataframe tbody tr th:only-of-type {\n",
       "        vertical-align: middle;\n",
       "    }\n",
       "\n",
       "    .dataframe tbody tr th {\n",
       "        vertical-align: top;\n",
       "    }\n",
       "\n",
       "    .dataframe thead th {\n",
       "        text-align: right;\n",
       "    }\n",
       "</style>\n",
       "<table border=\"1\" class=\"dataframe\">\n",
       "  <thead>\n",
       "    <tr style=\"text-align: right;\">\n",
       "      <th></th>\n",
       "      <th>operon_name</th>\n",
       "      <th>locus_tag</th>\n",
       "      <th>start</th>\n",
       "      <th>end</th>\n",
       "      <th>strand</th>\n",
       "      <th>gene_name</th>\n",
       "      <th>source_database</th>\n",
       "      <th>pmid</th>\n",
       "    </tr>\n",
       "    <tr>\n",
       "      <th>operon-id</th>\n",
       "      <th></th>\n",
       "      <th></th>\n",
       "      <th></th>\n",
       "      <th></th>\n",
       "      <th></th>\n",
       "      <th></th>\n",
       "      <th></th>\n",
       "      <th></th>\n",
       "    </tr>\n",
       "  </thead>\n",
       "  <tbody>\n",
       "    <tr>\n",
       "      <th>operon-1</th>\n",
       "      <td>dnaA-dnaN-recF-gyrB</td>\n",
       "      <td>PA0001</td>\n",
       "      <td>483</td>\n",
       "      <td>2027</td>\n",
       "      <td>1</td>\n",
       "      <td>dnaA</td>\n",
       "      <td>DOOR</td>\n",
       "      <td>18988623</td>\n",
       "    </tr>\n",
       "    <tr>\n",
       "      <th>operon-1</th>\n",
       "      <td>dnaA-dnaN-recF-gyrB</td>\n",
       "      <td>PA0002</td>\n",
       "      <td>2056</td>\n",
       "      <td>3159</td>\n",
       "      <td>1</td>\n",
       "      <td>dnaN</td>\n",
       "      <td>DOOR</td>\n",
       "      <td>18988623</td>\n",
       "    </tr>\n",
       "    <tr>\n",
       "      <th>operon-1</th>\n",
       "      <td>dnaA-dnaN-recF-gyrB</td>\n",
       "      <td>PA0003</td>\n",
       "      <td>3169</td>\n",
       "      <td>4278</td>\n",
       "      <td>1</td>\n",
       "      <td>recF</td>\n",
       "      <td>DOOR</td>\n",
       "      <td>18988623</td>\n",
       "    </tr>\n",
       "    <tr>\n",
       "      <th>operon-1</th>\n",
       "      <td>dnaA-dnaN-recF-gyrB</td>\n",
       "      <td>PA0004</td>\n",
       "      <td>4275</td>\n",
       "      <td>6695</td>\n",
       "      <td>1</td>\n",
       "      <td>gyrB</td>\n",
       "      <td>DOOR</td>\n",
       "      <td>18988623</td>\n",
       "    </tr>\n",
       "    <tr>\n",
       "      <th>operon-2</th>\n",
       "      <td>PA0006-lptA</td>\n",
       "      <td>PA0005</td>\n",
       "      <td>7018</td>\n",
       "      <td>7791</td>\n",
       "      <td>-1</td>\n",
       "      <td>lptA</td>\n",
       "      <td>DOOR</td>\n",
       "      <td>18988623</td>\n",
       "    </tr>\n",
       "  </tbody>\n",
       "</table>\n",
       "</div>"
      ],
      "text/plain": [
       "                   operon_name locus_tag  start   end  strand gene_name  \\\n",
       "operon-id                                                                 \n",
       "operon-1   dnaA-dnaN-recF-gyrB    PA0001    483  2027       1      dnaA   \n",
       "operon-1   dnaA-dnaN-recF-gyrB    PA0002   2056  3159       1      dnaN   \n",
       "operon-1   dnaA-dnaN-recF-gyrB    PA0003   3169  4278       1      recF   \n",
       "operon-1   dnaA-dnaN-recF-gyrB    PA0004   4275  6695       1      gyrB   \n",
       "operon-2           PA0006-lptA    PA0005   7018  7791      -1      lptA   \n",
       "\n",
       "          source_database      pmid  \n",
       "operon-id                            \n",
       "operon-1             DOOR  18988623  \n",
       "operon-1             DOOR  18988623  \n",
       "operon-1             DOOR  18988623  \n",
       "operon-1             DOOR  18988623  \n",
       "operon-2             DOOR  18988623  "
      ]
     },
     "execution_count": 8,
     "metadata": {},
     "output_type": "execute_result"
    }
   ],
   "source": [
    "# pao1_operon.head()"
   ]
  },
  {
   "cell_type": "code",
   "execution_count": 9,
   "id": "b1d5034c",
   "metadata": {},
   "outputs": [],
   "source": [
    "# pao1_operon = pao1_operon.set_index(\"locus_tag\")\n",
    "# pa14_operon = pa14_operon.set_index(\"locus_tag\")"
   ]
  },
  {
   "cell_type": "code",
   "execution_count": 10,
   "id": "79d77103",
   "metadata": {},
   "outputs": [
    {
     "name": "stdout",
     "output_type": "stream",
     "text": [
      "(3816, 7)\n"
     ]
    },
    {
     "data": {
      "text/html": [
       "<div>\n",
       "<style scoped>\n",
       "    .dataframe tbody tr th:only-of-type {\n",
       "        vertical-align: middle;\n",
       "    }\n",
       "\n",
       "    .dataframe tbody tr th {\n",
       "        vertical-align: top;\n",
       "    }\n",
       "\n",
       "    .dataframe thead th {\n",
       "        text-align: right;\n",
       "    }\n",
       "</style>\n",
       "<table border=\"1\" class=\"dataframe\">\n",
       "  <thead>\n",
       "    <tr style=\"text-align: right;\">\n",
       "      <th></th>\n",
       "      <th>operon_name</th>\n",
       "      <th>start</th>\n",
       "      <th>end</th>\n",
       "      <th>strand</th>\n",
       "      <th>gene_name</th>\n",
       "      <th>source_database</th>\n",
       "      <th>pmid</th>\n",
       "    </tr>\n",
       "    <tr>\n",
       "      <th>locus_tag</th>\n",
       "      <th></th>\n",
       "      <th></th>\n",
       "      <th></th>\n",
       "      <th></th>\n",
       "      <th></th>\n",
       "      <th></th>\n",
       "      <th></th>\n",
       "    </tr>\n",
       "  </thead>\n",
       "  <tbody>\n",
       "    <tr>\n",
       "      <th>PA0001</th>\n",
       "      <td>dnaA-dnaN-recF-gyrB</td>\n",
       "      <td>483</td>\n",
       "      <td>2027</td>\n",
       "      <td>1</td>\n",
       "      <td>dnaA</td>\n",
       "      <td>DOOR</td>\n",
       "      <td>18988623</td>\n",
       "    </tr>\n",
       "    <tr>\n",
       "      <th>PA0002</th>\n",
       "      <td>dnaA-dnaN-recF-gyrB</td>\n",
       "      <td>2056</td>\n",
       "      <td>3159</td>\n",
       "      <td>1</td>\n",
       "      <td>dnaN</td>\n",
       "      <td>DOOR</td>\n",
       "      <td>18988623</td>\n",
       "    </tr>\n",
       "    <tr>\n",
       "      <th>PA0003</th>\n",
       "      <td>dnaA-dnaN-recF-gyrB</td>\n",
       "      <td>3169</td>\n",
       "      <td>4278</td>\n",
       "      <td>1</td>\n",
       "      <td>recF</td>\n",
       "      <td>DOOR</td>\n",
       "      <td>18988623</td>\n",
       "    </tr>\n",
       "    <tr>\n",
       "      <th>PA0004</th>\n",
       "      <td>dnaA-dnaN-recF-gyrB</td>\n",
       "      <td>4275</td>\n",
       "      <td>6695</td>\n",
       "      <td>1</td>\n",
       "      <td>gyrB</td>\n",
       "      <td>DOOR</td>\n",
       "      <td>18988623</td>\n",
       "    </tr>\n",
       "    <tr>\n",
       "      <th>PA0005</th>\n",
       "      <td>PA0006-lptA</td>\n",
       "      <td>7018</td>\n",
       "      <td>7791</td>\n",
       "      <td>-1</td>\n",
       "      <td>lptA</td>\n",
       "      <td>DOOR</td>\n",
       "      <td>18988623</td>\n",
       "    </tr>\n",
       "  </tbody>\n",
       "</table>\n",
       "</div>"
      ],
      "text/plain": [
       "                   operon_name  start   end  strand gene_name source_database  \\\n",
       "locus_tag                                                                       \n",
       "PA0001     dnaA-dnaN-recF-gyrB    483  2027       1      dnaA            DOOR   \n",
       "PA0002     dnaA-dnaN-recF-gyrB   2056  3159       1      dnaN            DOOR   \n",
       "PA0003     dnaA-dnaN-recF-gyrB   3169  4278       1      recF            DOOR   \n",
       "PA0004     dnaA-dnaN-recF-gyrB   4275  6695       1      gyrB            DOOR   \n",
       "PA0005             PA0006-lptA   7018  7791      -1      lptA            DOOR   \n",
       "\n",
       "               pmid  \n",
       "locus_tag            \n",
       "PA0001     18988623  \n",
       "PA0002     18988623  \n",
       "PA0003     18988623  \n",
       "PA0004     18988623  \n",
       "PA0005     18988623  "
      ]
     },
     "execution_count": 10,
     "metadata": {},
     "output_type": "execute_result"
    }
   ],
   "source": [
    "# print(pao1_operon.shape)\n",
    "# pao1_operon.head()"
   ]
  },
  {
   "cell_type": "code",
   "execution_count": 11,
   "id": "bd228915",
   "metadata": {},
   "outputs": [],
   "source": [
    "# There are 247 PAO1 genes with multiple annotations\n",
    "# This operon df contains annotations from predicted operons based on DOOR database\n",
    "# predictions which make up the majority of the operons) as well as some that\n",
    "# are curated (i.e. PseudoCAP)\n",
    "# There are some that have multiple PseudoCAP annotations too\n",
    "\n",
    "# Here we will keep the last PseudoCAP annotations\n",
    "# Note: Do we want to discard these annotations all together\n",
    "# or will these need to be carefully curated to determine which to keep?\n",
    "# We will use the curated annotation here\n",
    "# pao1_operon = pao1_operon[~pao1_operon.index.duplicated(keep=\"last\")]\n",
    "# pa14_operon = pa14_operon[~pa14_operon.index.duplicated(keep=\"last\")]"
   ]
  },
  {
   "cell_type": "code",
   "execution_count": 12,
   "id": "78c355b9",
   "metadata": {
    "scrolled": true
   },
   "outputs": [
    {
     "data": {
      "text/html": [
       "<div>\n",
       "<style scoped>\n",
       "    .dataframe tbody tr th:only-of-type {\n",
       "        vertical-align: middle;\n",
       "    }\n",
       "\n",
       "    .dataframe tbody tr th {\n",
       "        vertical-align: top;\n",
       "    }\n",
       "\n",
       "    .dataframe thead th {\n",
       "        text-align: right;\n",
       "    }\n",
       "</style>\n",
       "<table border=\"1\" class=\"dataframe\">\n",
       "  <thead>\n",
       "    <tr style=\"text-align: right;\">\n",
       "      <th></th>\n",
       "      <th>operon_name</th>\n",
       "      <th>start</th>\n",
       "      <th>end</th>\n",
       "      <th>strand</th>\n",
       "      <th>gene_name</th>\n",
       "      <th>source_database</th>\n",
       "      <th>pmid</th>\n",
       "    </tr>\n",
       "    <tr>\n",
       "      <th>locus_tag</th>\n",
       "      <th></th>\n",
       "      <th></th>\n",
       "      <th></th>\n",
       "      <th></th>\n",
       "      <th></th>\n",
       "      <th></th>\n",
       "      <th></th>\n",
       "    </tr>\n",
       "  </thead>\n",
       "  <tbody>\n",
       "    <tr>\n",
       "      <th>PA0001</th>\n",
       "      <td>dnaA-dnaN-recF-gyrB</td>\n",
       "      <td>483</td>\n",
       "      <td>2027</td>\n",
       "      <td>1</td>\n",
       "      <td>dnaA</td>\n",
       "      <td>DOOR</td>\n",
       "      <td>18988623</td>\n",
       "    </tr>\n",
       "    <tr>\n",
       "      <th>PA0002</th>\n",
       "      <td>dnaA-dnaN-recF-gyrB</td>\n",
       "      <td>2056</td>\n",
       "      <td>3159</td>\n",
       "      <td>1</td>\n",
       "      <td>dnaN</td>\n",
       "      <td>DOOR</td>\n",
       "      <td>18988623</td>\n",
       "    </tr>\n",
       "    <tr>\n",
       "      <th>PA0003</th>\n",
       "      <td>dnaA-dnaN-recF-gyrB</td>\n",
       "      <td>3169</td>\n",
       "      <td>4278</td>\n",
       "      <td>1</td>\n",
       "      <td>recF</td>\n",
       "      <td>DOOR</td>\n",
       "      <td>18988623</td>\n",
       "    </tr>\n",
       "    <tr>\n",
       "      <th>PA0004</th>\n",
       "      <td>dnaA-dnaN-recF-gyrB</td>\n",
       "      <td>4275</td>\n",
       "      <td>6695</td>\n",
       "      <td>1</td>\n",
       "      <td>gyrB</td>\n",
       "      <td>DOOR</td>\n",
       "      <td>18988623</td>\n",
       "    </tr>\n",
       "    <tr>\n",
       "      <th>PA0005</th>\n",
       "      <td>PA0006-lptA</td>\n",
       "      <td>7018</td>\n",
       "      <td>7791</td>\n",
       "      <td>-1</td>\n",
       "      <td>lptA</td>\n",
       "      <td>DOOR</td>\n",
       "      <td>18988623</td>\n",
       "    </tr>\n",
       "  </tbody>\n",
       "</table>\n",
       "</div>"
      ],
      "text/plain": [
       "                   operon_name  start   end  strand gene_name source_database  \\\n",
       "locus_tag                                                                       \n",
       "PA0001     dnaA-dnaN-recF-gyrB    483  2027       1      dnaA            DOOR   \n",
       "PA0002     dnaA-dnaN-recF-gyrB   2056  3159       1      dnaN            DOOR   \n",
       "PA0003     dnaA-dnaN-recF-gyrB   3169  4278       1      recF            DOOR   \n",
       "PA0004     dnaA-dnaN-recF-gyrB   4275  6695       1      gyrB            DOOR   \n",
       "PA0005             PA0006-lptA   7018  7791      -1      lptA            DOOR   \n",
       "\n",
       "               pmid  \n",
       "locus_tag            \n",
       "PA0001     18988623  \n",
       "PA0002     18988623  \n",
       "PA0003     18988623  \n",
       "PA0004     18988623  \n",
       "PA0005     18988623  "
      ]
     },
     "execution_count": 12,
     "metadata": {},
     "output_type": "execute_result"
    }
   ],
   "source": [
    "# pao1_operon.head()"
   ]
  },
  {
   "cell_type": "code",
   "execution_count": 13,
   "id": "a99a10c3",
   "metadata": {},
   "outputs": [],
   "source": [
    "# Only include columns for gene id and operon_name\n",
    "# pao1_operon = pao1_operon[\"operon_name\"].to_frame()\n",
    "# pa14_operon = pa14_operon[\"operon_name\"].to_frame()"
   ]
  },
  {
   "cell_type": "code",
   "execution_count": null,
   "id": "236c231f",
   "metadata": {},
   "outputs": [],
   "source": [
    "pao1_operon = annotations.load_format_operons(pao1_operon_filename)\n",
    "pa14_operon = annotations.load_format_operons(pa14_operon_filename)"
   ]
  },
  {
   "cell_type": "code",
   "execution_count": 14,
   "id": "e6d444a1",
   "metadata": {
    "scrolled": true
   },
   "outputs": [
    {
     "name": "stdout",
     "output_type": "stream",
     "text": [
      "(3569, 1)\n"
     ]
    },
    {
     "data": {
      "text/html": [
       "<div>\n",
       "<style scoped>\n",
       "    .dataframe tbody tr th:only-of-type {\n",
       "        vertical-align: middle;\n",
       "    }\n",
       "\n",
       "    .dataframe tbody tr th {\n",
       "        vertical-align: top;\n",
       "    }\n",
       "\n",
       "    .dataframe thead th {\n",
       "        text-align: right;\n",
       "    }\n",
       "</style>\n",
       "<table border=\"1\" class=\"dataframe\">\n",
       "  <thead>\n",
       "    <tr style=\"text-align: right;\">\n",
       "      <th></th>\n",
       "      <th>operon_name</th>\n",
       "    </tr>\n",
       "    <tr>\n",
       "      <th>locus_tag</th>\n",
       "      <th></th>\n",
       "    </tr>\n",
       "  </thead>\n",
       "  <tbody>\n",
       "    <tr>\n",
       "      <th>PA0001</th>\n",
       "      <td>dnaA-dnaN-recF-gyrB</td>\n",
       "    </tr>\n",
       "    <tr>\n",
       "      <th>PA0002</th>\n",
       "      <td>dnaA-dnaN-recF-gyrB</td>\n",
       "    </tr>\n",
       "    <tr>\n",
       "      <th>PA0003</th>\n",
       "      <td>dnaA-dnaN-recF-gyrB</td>\n",
       "    </tr>\n",
       "    <tr>\n",
       "      <th>PA0004</th>\n",
       "      <td>dnaA-dnaN-recF-gyrB</td>\n",
       "    </tr>\n",
       "    <tr>\n",
       "      <th>PA0005</th>\n",
       "      <td>PA0006-lptA</td>\n",
       "    </tr>\n",
       "  </tbody>\n",
       "</table>\n",
       "</div>"
      ],
      "text/plain": [
       "                   operon_name\n",
       "locus_tag                     \n",
       "PA0001     dnaA-dnaN-recF-gyrB\n",
       "PA0002     dnaA-dnaN-recF-gyrB\n",
       "PA0003     dnaA-dnaN-recF-gyrB\n",
       "PA0004     dnaA-dnaN-recF-gyrB\n",
       "PA0005             PA0006-lptA"
      ]
     },
     "execution_count": 14,
     "metadata": {},
     "output_type": "execute_result"
    }
   ],
   "source": [
    "print(pao1_operon.shape)\n",
    "pao1_operon.head()"
   ]
  },
  {
   "cell_type": "code",
   "execution_count": 15,
   "id": "2d327200",
   "metadata": {},
   "outputs": [],
   "source": [
    "if use_operon:\n",
    "    pao1_operon_expression_to_use = pao1_operon\n",
    "    pa14_operon_expression_to_use = pa14_operon\n",
    "else:\n",
    "    pao1_operon_expression_to_use = None\n",
    "    pa14_operon_expression_to_use = None"
   ]
  },
  {
   "cell_type": "markdown",
   "id": "666b3052",
   "metadata": {},
   "source": [
    "### Map core/accessory labels to genes"
   ]
  },
  {
   "cell_type": "code",
   "execution_count": 16,
   "id": "953be866",
   "metadata": {},
   "outputs": [],
   "source": [
    "# Read in expression data\n",
    "pao1_expression_filename = paths.PAO1_COMPENDIUM\n",
    "pa14_expression_filename = paths.PA14_COMPENDIUM\n",
    "\n",
    "# pao1_expression = pd.read_csv(pao1_expression_filename, sep=\"\\t\", index_col=0, header=0)\n",
    "# pa14_expression = pd.read_csv(pa14_expression_filename, sep=\"\\t\", index_col=0, header=0)"
   ]
  },
  {
   "cell_type": "code",
   "execution_count": 17,
   "id": "f52e5f4e",
   "metadata": {},
   "outputs": [
    {
     "name": "stdout",
     "output_type": "stream",
     "text": [
      "Number of PAO1 core genes: 5366\n",
      "Number of PA14 core genes: 5363\n",
      "Number of PAO1 core genes in my dataset: 5361\n",
      "Number of PA14 core genes in my dataset: 5357\n",
      "Number of PAO1-specific genes: 202\n",
      "Number of PA14-specific genes: 534\n"
     ]
    }
   ],
   "source": [
    "pao1_annot_filename = paths.GENE_PAO1_ANNOT\n",
    "pa14_annot_filename = paths.GENE_PA14_ANNOT\n",
    "\n",
    "# core_acc_dict = utils.get_my_core_acc_genes(\n",
    "#    pao1_annot_filename, pa14_annot_filename, pao1_expression, pa14_expression\n",
    "# )"
   ]
  },
  {
   "cell_type": "code",
   "execution_count": 18,
   "id": "b63056f9",
   "metadata": {},
   "outputs": [],
   "source": [
    "# pao1_core = core_acc_dict[\"core_pao1\"]\n",
    "# pa14_core = core_acc_dict[\"core_pa14\"]\n",
    "# pao1_acc = core_acc_dict[\"acc_pao1\"]\n",
    "# pa14_acc = core_acc_dict[\"acc_pa14\"]"
   ]
  },
  {
   "cell_type": "code",
   "execution_count": 19,
   "id": "e3d41094",
   "metadata": {},
   "outputs": [],
   "source": [
    "# pao1_membership.loc[pao1_core, \"core/acc\"] = \"core\"\n",
    "# pao1_membership.loc[pao1_acc, \"core/acc\"] = \"acc\""
   ]
  },
  {
   "cell_type": "code",
   "execution_count": 20,
   "id": "905032e8",
   "metadata": {},
   "outputs": [],
   "source": [
    "# pa14_acc_shared = set(pa14_acc).intersection(pa14_gene_module_labels.index)\n",
    "# pa14_membership.loc[pa14_core, \"core/acc\"] = \"core\"\n",
    "# pa14_membership.loc[pa14_acc, \"core/acc\"] = \"acc\""
   ]
  },
  {
   "cell_type": "code",
   "execution_count": null,
   "id": "1956d8e7",
   "metadata": {},
   "outputs": [],
   "source": [
    "pao1_arr, pa14_arr = annotations.map_core_acc_annot(\n",
    "    pao1_membership,\n",
    "    pa14_membership,\n",
    "    pao1_expression_filename,\n",
    "    pa14_expression_filename,\n",
    "    pao1_annot_filename,\n",
    "    pa14_annot_filename,\n",
    ")"
   ]
  },
  {
   "cell_type": "code",
   "execution_count": 21,
   "id": "c4400e3f",
   "metadata": {},
   "outputs": [],
   "source": [
    "# Drop \"module id\" column\n",
    "# TO DO: rename\n",
    "# pao1_arr = pao1_membership\n",
    "# pa14_arr = pa14_membership"
   ]
  },
  {
   "cell_type": "code",
   "execution_count": 22,
   "id": "3f3295e6",
   "metadata": {},
   "outputs": [],
   "source": [
    "# Make sure to sort by gene id\n",
    "# NOTE PA14 gene ids don't increment by 1, but by 10 or 20 are we missing some genes?\n",
    "# pao1_arr = pao1_arr.sort_index()\n",
    "# pa14_arr = pa14_arr.sort_index()"
   ]
  },
  {
   "cell_type": "code",
   "execution_count": 23,
   "id": "7fa2adbb",
   "metadata": {},
   "outputs": [
    {
     "name": "stdout",
     "output_type": "stream",
     "text": [
      "(5563, 1)\n"
     ]
    },
    {
     "data": {
      "text/html": [
       "<div>\n",
       "<style scoped>\n",
       "    .dataframe tbody tr th:only-of-type {\n",
       "        vertical-align: middle;\n",
       "    }\n",
       "\n",
       "    .dataframe tbody tr th {\n",
       "        vertical-align: top;\n",
       "    }\n",
       "\n",
       "    .dataframe thead th {\n",
       "        text-align: right;\n",
       "    }\n",
       "</style>\n",
       "<table border=\"1\" class=\"dataframe\">\n",
       "  <thead>\n",
       "    <tr style=\"text-align: right;\">\n",
       "      <th></th>\n",
       "      <th>core/acc</th>\n",
       "    </tr>\n",
       "  </thead>\n",
       "  <tbody>\n",
       "    <tr>\n",
       "      <th>PA0001</th>\n",
       "      <td>core</td>\n",
       "    </tr>\n",
       "    <tr>\n",
       "      <th>PA0002</th>\n",
       "      <td>core</td>\n",
       "    </tr>\n",
       "    <tr>\n",
       "      <th>PA0003</th>\n",
       "      <td>core</td>\n",
       "    </tr>\n",
       "    <tr>\n",
       "      <th>PA0004</th>\n",
       "      <td>core</td>\n",
       "    </tr>\n",
       "    <tr>\n",
       "      <th>PA0005</th>\n",
       "      <td>core</td>\n",
       "    </tr>\n",
       "  </tbody>\n",
       "</table>\n",
       "</div>"
      ],
      "text/plain": [
       "       core/acc\n",
       "PA0001     core\n",
       "PA0002     core\n",
       "PA0003     core\n",
       "PA0004     core\n",
       "PA0005     core"
      ]
     },
     "execution_count": 23,
     "metadata": {},
     "output_type": "execute_result"
    }
   ],
   "source": [
    "print(pao1_arr.shape)\n",
    "pao1_arr.head()"
   ]
  },
  {
   "cell_type": "code",
   "execution_count": 24,
   "id": "bd674d1b",
   "metadata": {},
   "outputs": [
    {
     "data": {
      "text/html": [
       "<div>\n",
       "<style scoped>\n",
       "    .dataframe tbody tr th:only-of-type {\n",
       "        vertical-align: middle;\n",
       "    }\n",
       "\n",
       "    .dataframe tbody tr th {\n",
       "        vertical-align: top;\n",
       "    }\n",
       "\n",
       "    .dataframe thead th {\n",
       "        text-align: right;\n",
       "    }\n",
       "</style>\n",
       "<table border=\"1\" class=\"dataframe\">\n",
       "  <thead>\n",
       "    <tr style=\"text-align: right;\">\n",
       "      <th></th>\n",
       "      <th>core/acc</th>\n",
       "    </tr>\n",
       "  </thead>\n",
       "  <tbody>\n",
       "    <tr>\n",
       "      <th>PA5566</th>\n",
       "      <td>core</td>\n",
       "    </tr>\n",
       "    <tr>\n",
       "      <th>PA5567</th>\n",
       "      <td>core</td>\n",
       "    </tr>\n",
       "    <tr>\n",
       "      <th>PA5568</th>\n",
       "      <td>core</td>\n",
       "    </tr>\n",
       "    <tr>\n",
       "      <th>PA5569</th>\n",
       "      <td>core</td>\n",
       "    </tr>\n",
       "    <tr>\n",
       "      <th>PA5570</th>\n",
       "      <td>acc</td>\n",
       "    </tr>\n",
       "  </tbody>\n",
       "</table>\n",
       "</div>"
      ],
      "text/plain": [
       "       core/acc\n",
       "PA5566     core\n",
       "PA5567     core\n",
       "PA5568     core\n",
       "PA5569     core\n",
       "PA5570      acc"
      ]
     },
     "execution_count": 24,
     "metadata": {},
     "output_type": "execute_result"
    }
   ],
   "source": [
    "pao1_arr.tail()"
   ]
  },
  {
   "cell_type": "code",
   "execution_count": 25,
   "id": "b1feb9a4",
   "metadata": {},
   "outputs": [
    {
     "name": "stdout",
     "output_type": "stream",
     "text": [
      "(5891, 1)\n"
     ]
    },
    {
     "data": {
      "text/html": [
       "<div>\n",
       "<style scoped>\n",
       "    .dataframe tbody tr th:only-of-type {\n",
       "        vertical-align: middle;\n",
       "    }\n",
       "\n",
       "    .dataframe tbody tr th {\n",
       "        vertical-align: top;\n",
       "    }\n",
       "\n",
       "    .dataframe thead th {\n",
       "        text-align: right;\n",
       "    }\n",
       "</style>\n",
       "<table border=\"1\" class=\"dataframe\">\n",
       "  <thead>\n",
       "    <tr style=\"text-align: right;\">\n",
       "      <th></th>\n",
       "      <th>core/acc</th>\n",
       "    </tr>\n",
       "  </thead>\n",
       "  <tbody>\n",
       "    <tr>\n",
       "      <th>PA0263.1</th>\n",
       "      <td>acc</td>\n",
       "    </tr>\n",
       "    <tr>\n",
       "      <th>PA0263.2</th>\n",
       "      <td>acc</td>\n",
       "    </tr>\n",
       "    <tr>\n",
       "      <th>PA0263.3</th>\n",
       "      <td>acc</td>\n",
       "    </tr>\n",
       "    <tr>\n",
       "      <th>PA14_00010</th>\n",
       "      <td>core</td>\n",
       "    </tr>\n",
       "    <tr>\n",
       "      <th>PA14_00020</th>\n",
       "      <td>core</td>\n",
       "    </tr>\n",
       "  </tbody>\n",
       "</table>\n",
       "</div>"
      ],
      "text/plain": [
       "           core/acc\n",
       "PA0263.1        acc\n",
       "PA0263.2        acc\n",
       "PA0263.3        acc\n",
       "PA14_00010     core\n",
       "PA14_00020     core"
      ]
     },
     "execution_count": 25,
     "metadata": {},
     "output_type": "execute_result"
    }
   ],
   "source": [
    "print(pa14_arr.shape)\n",
    "pa14_arr.head()"
   ]
  },
  {
   "cell_type": "code",
   "execution_count": 26,
   "id": "fcf345a4",
   "metadata": {},
   "outputs": [
    {
     "data": {
      "text/html": [
       "<div>\n",
       "<style scoped>\n",
       "    .dataframe tbody tr th:only-of-type {\n",
       "        vertical-align: middle;\n",
       "    }\n",
       "\n",
       "    .dataframe tbody tr th {\n",
       "        vertical-align: top;\n",
       "    }\n",
       "\n",
       "    .dataframe thead th {\n",
       "        text-align: right;\n",
       "    }\n",
       "</style>\n",
       "<table border=\"1\" class=\"dataframe\">\n",
       "  <thead>\n",
       "    <tr style=\"text-align: right;\">\n",
       "      <th></th>\n",
       "      <th>core/acc</th>\n",
       "    </tr>\n",
       "  </thead>\n",
       "  <tbody>\n",
       "    <tr>\n",
       "      <th>PA14_73390</th>\n",
       "      <td>core</td>\n",
       "    </tr>\n",
       "    <tr>\n",
       "      <th>PA14_73400</th>\n",
       "      <td>core</td>\n",
       "    </tr>\n",
       "    <tr>\n",
       "      <th>PA14_73410</th>\n",
       "      <td>core</td>\n",
       "    </tr>\n",
       "    <tr>\n",
       "      <th>PA14_73420</th>\n",
       "      <td>core</td>\n",
       "    </tr>\n",
       "    <tr>\n",
       "      <th>PA2170.1</th>\n",
       "      <td>acc</td>\n",
       "    </tr>\n",
       "  </tbody>\n",
       "</table>\n",
       "</div>"
      ],
      "text/plain": [
       "           core/acc\n",
       "PA14_73390     core\n",
       "PA14_73400     core\n",
       "PA14_73410     core\n",
       "PA14_73420     core\n",
       "PA2170.1        acc"
      ]
     },
     "execution_count": 26,
     "metadata": {},
     "output_type": "execute_result"
    }
   ],
   "source": [
    "pa14_arr.tail()"
   ]
  },
  {
   "cell_type": "code",
   "execution_count": 27,
   "id": "f51e8a76",
   "metadata": {},
   "outputs": [],
   "source": [
    "# Fill in index of operon_df to include all genes\n",
    "all_pao1_gene_ids = pao1_arr.index\n",
    "all_pa14_gene_ids = pa14_arr.index\n",
    "\n",
    "# Get missing gene ids\n",
    "missing_pao1_gene_ids = set(all_pao1_gene_ids).difference(pao1_operon.index)\n",
    "missing_pa14_gene_ids = set(all_pa14_gene_ids).difference(pa14_operon.index)\n",
    "\n",
    "# Make dataframe with missing gene ids with np.nan values for operon_name\n",
    "missing_pao1_gene_df = pd.DataFrame(\n",
    "    data=np.nan, index=list(missing_pao1_gene_ids), columns=[\"operon_name\"]\n",
    ")\n",
    "missing_pa14_gene_df = pd.DataFrame(\n",
    "    data=np.nan, index=list(missing_pa14_gene_ids), columns=[\"operon_name\"]\n",
    ")\n",
    "\n",
    "pao1_operon_genome_dist = pao1_operon.append(missing_pao1_gene_df)\n",
    "pa14_operon_genome_dist = pa14_operon.append(missing_pa14_gene_df)\n",
    "\n",
    "pao1_operon_genome_dist = pao1_operon_genome_dist.loc[all_pao1_gene_ids]\n",
    "pa14_operon_genome_dist = pa14_operon_genome_dist.loc[all_pa14_gene_ids]"
   ]
  },
  {
   "cell_type": "code",
   "execution_count": 28,
   "id": "5853f5e6",
   "metadata": {},
   "outputs": [
    {
     "name": "stdout",
     "output_type": "stream",
     "text": [
      "(5563, 1)\n"
     ]
    },
    {
     "data": {
      "text/html": [
       "<div>\n",
       "<style scoped>\n",
       "    .dataframe tbody tr th:only-of-type {\n",
       "        vertical-align: middle;\n",
       "    }\n",
       "\n",
       "    .dataframe tbody tr th {\n",
       "        vertical-align: top;\n",
       "    }\n",
       "\n",
       "    .dataframe thead th {\n",
       "        text-align: right;\n",
       "    }\n",
       "</style>\n",
       "<table border=\"1\" class=\"dataframe\">\n",
       "  <thead>\n",
       "    <tr style=\"text-align: right;\">\n",
       "      <th></th>\n",
       "      <th>operon_name</th>\n",
       "    </tr>\n",
       "  </thead>\n",
       "  <tbody>\n",
       "    <tr>\n",
       "      <th>PA5566</th>\n",
       "      <td>NaN</td>\n",
       "    </tr>\n",
       "    <tr>\n",
       "      <th>PA5567</th>\n",
       "      <td>PA5568-PA5567</td>\n",
       "    </tr>\n",
       "    <tr>\n",
       "      <th>PA5568</th>\n",
       "      <td>PA5568-PA5567</td>\n",
       "    </tr>\n",
       "    <tr>\n",
       "      <th>PA5569</th>\n",
       "      <td>rpmH-rnpA</td>\n",
       "    </tr>\n",
       "    <tr>\n",
       "      <th>PA5570</th>\n",
       "      <td>rpmH-rnpA</td>\n",
       "    </tr>\n",
       "  </tbody>\n",
       "</table>\n",
       "</div>"
      ],
      "text/plain": [
       "          operon_name\n",
       "PA5566            NaN\n",
       "PA5567  PA5568-PA5567\n",
       "PA5568  PA5568-PA5567\n",
       "PA5569      rpmH-rnpA\n",
       "PA5570      rpmH-rnpA"
      ]
     },
     "execution_count": 28,
     "metadata": {},
     "output_type": "execute_result"
    }
   ],
   "source": [
    "print(pao1_operon_genome_dist.shape)\n",
    "pao1_operon_genome_dist.tail()"
   ]
  },
  {
   "cell_type": "code",
   "execution_count": 29,
   "id": "b6c80fe2",
   "metadata": {
    "scrolled": true
   },
   "outputs": [
    {
     "name": "stdout",
     "output_type": "stream",
     "text": [
      "(5891, 1)\n"
     ]
    },
    {
     "data": {
      "text/html": [
       "<div>\n",
       "<style scoped>\n",
       "    .dataframe tbody tr th:only-of-type {\n",
       "        vertical-align: middle;\n",
       "    }\n",
       "\n",
       "    .dataframe tbody tr th {\n",
       "        vertical-align: top;\n",
       "    }\n",
       "\n",
       "    .dataframe thead th {\n",
       "        text-align: right;\n",
       "    }\n",
       "</style>\n",
       "<table border=\"1\" class=\"dataframe\">\n",
       "  <thead>\n",
       "    <tr style=\"text-align: right;\">\n",
       "      <th></th>\n",
       "      <th>operon_name</th>\n",
       "    </tr>\n",
       "  </thead>\n",
       "  <tbody>\n",
       "    <tr>\n",
       "      <th>PA14_73390</th>\n",
       "      <td>NaN</td>\n",
       "    </tr>\n",
       "    <tr>\n",
       "      <th>PA14_73400</th>\n",
       "      <td>PA14_73410-trmE</td>\n",
       "    </tr>\n",
       "    <tr>\n",
       "      <th>PA14_73410</th>\n",
       "      <td>PA14_73410-trmE</td>\n",
       "    </tr>\n",
       "    <tr>\n",
       "      <th>PA14_73420</th>\n",
       "      <td>NaN</td>\n",
       "    </tr>\n",
       "    <tr>\n",
       "      <th>PA2170.1</th>\n",
       "      <td>NaN</td>\n",
       "    </tr>\n",
       "  </tbody>\n",
       "</table>\n",
       "</div>"
      ],
      "text/plain": [
       "                operon_name\n",
       "PA14_73390              NaN\n",
       "PA14_73400  PA14_73410-trmE\n",
       "PA14_73410  PA14_73410-trmE\n",
       "PA14_73420              NaN\n",
       "PA2170.1                NaN"
      ]
     },
     "execution_count": 29,
     "metadata": {},
     "output_type": "execute_result"
    }
   ],
   "source": [
    "print(pa14_operon_genome_dist.shape)\n",
    "pa14_operon_genome_dist.tail()"
   ]
  },
  {
   "cell_type": "code",
   "execution_count": 30,
   "id": "67cb8654",
   "metadata": {},
   "outputs": [],
   "source": [
    "if use_operon:\n",
    "    pao1_operon_genome_to_use = pao1_operon_genome_dist\n",
    "    pa14_operon_genome_to_use = pa14_operon_genome_dist\n",
    "else:\n",
    "    pao1_operon_genome_to_use = None\n",
    "    pa14_operon_genome_to_use = None"
   ]
  },
  {
   "cell_type": "markdown",
   "id": "3d9e6555",
   "metadata": {},
   "source": [
    "## Find relationships using expression distance"
   ]
  },
  {
   "cell_type": "code",
   "execution_count": 31,
   "id": "91238a03",
   "metadata": {},
   "outputs": [],
   "source": [
    "# Correlation matrix files\n",
    "pao1_corr_filename = paths.PAO1_CORR_LOG_SPELL\n",
    "pa14_corr_filename = paths.PA14_CORR_LOG_SPELL"
   ]
  },
  {
   "cell_type": "code",
   "execution_count": 32,
   "id": "58631321",
   "metadata": {},
   "outputs": [],
   "source": [
    "# Load correlation data\n",
    "pao1_corr = pd.read_csv(pao1_corr_filename, sep=\"\\t\", index_col=0, header=0)\n",
    "pa14_corr = pd.read_csv(pa14_corr_filename, sep=\"\\t\", index_col=0, header=0)"
   ]
  },
  {
   "cell_type": "code",
   "execution_count": 33,
   "id": "943403fe",
   "metadata": {},
   "outputs": [],
   "source": [
    "# Load transcriptional similarity df\n",
    "# These are the subset of genes that we will consider\n",
    "pao1_similarity_scores_filename = \"../core_core_analysis/pao1_similarity_scores.tsv\"\n",
    "pa14_similarity_scores_filename = \"../core_core_analysis/pa14_similarity_scores.tsv\"\n",
    "\n",
    "pao1_similarity_scores = pd.read_csv(\n",
    "    pao1_similarity_scores_filename, sep=\"\\t\", header=0, index_col=0\n",
    ")\n",
    "pa14_similarity_scores = pd.read_csv(\n",
    "    pa14_similarity_scores_filename, sep=\"\\t\", header=0, index_col=0\n",
    ")"
   ]
  },
  {
   "cell_type": "code",
   "execution_count": 34,
   "id": "0fa5d8ca",
   "metadata": {},
   "outputs": [],
   "source": [
    "# Get most and least stable core genes\n",
    "pao1_most_stable_genes = list(\n",
    "    pao1_similarity_scores[pao1_similarity_scores[\"label\"] == \"most stable\"].index\n",
    ")\n",
    "pao1_least_stable_genes = list(\n",
    "    pao1_similarity_scores[pao1_similarity_scores[\"label\"] == \"least stable\"].index\n",
    ")\n",
    "\n",
    "pa14_most_stable_genes = list(\n",
    "    pa14_similarity_scores[pa14_similarity_scores[\"label\"] == \"most stable\"].index\n",
    ")\n",
    "pa14_least_stable_genes = list(\n",
    "    pa14_similarity_scores[pa14_similarity_scores[\"label\"] == \"least stable\"].index\n",
    ")"
   ]
  },
  {
   "cell_type": "code",
   "execution_count": 36,
   "id": "5a01a6de",
   "metadata": {
    "scrolled": true
   },
   "outputs": [
    {
     "name": "stdout",
     "output_type": "stream",
     "text": [
      "CPU times: user 8min 56s, sys: 154 ms, total: 8min 56s\n",
      "Wall time: 8min 56s\n"
     ]
    }
   ],
   "source": [
    "%%time\n",
    "expression_dist_counts_pao1_most = (\n",
    "    gene_relationships.get_relationship_in_expression_space(\n",
    "        pao1_corr,\n",
    "        pao1_most_stable_genes,\n",
    "        pao1_arr,\n",
    "        offset_to_bin,\n",
    "        pao1_operon_expression_to_use,\n",
    "        sum_increment_to_use,\n",
    "    )\n",
    ")\n",
    "expression_dist_counts_pao1_least = (\n",
    "    gene_relationships.get_relationship_in_expression_space(\n",
    "        pao1_corr,\n",
    "        pao1_least_stable_genes,\n",
    "        pao1_arr,\n",
    "        offset_to_bin,\n",
    "        pao1_operon_expression_to_use,\n",
    "        sum_increment_to_use,\n",
    "    )\n",
    ")"
   ]
  },
  {
   "cell_type": "code",
   "execution_count": 37,
   "id": "5e648b33",
   "metadata": {},
   "outputs": [
    {
     "name": "stdout",
     "output_type": "stream",
     "text": [
      "CPU times: user 9min 32s, sys: 1.16 s, total: 9min 33s\n",
      "Wall time: 9min 33s\n"
     ]
    }
   ],
   "source": [
    "%%time\n",
    "expression_dist_counts_pa14_most = (\n",
    "    gene_relationships.get_relationship_in_expression_space(\n",
    "        pa14_corr,\n",
    "        pa14_most_stable_genes,\n",
    "        pa14_arr,\n",
    "        offset_to_bin,\n",
    "        pa14_operon_expression_to_use,\n",
    "        sum_increment_to_use,\n",
    "    )\n",
    ")\n",
    "expression_dist_counts_pa14_least = (\n",
    "    gene_relationships.get_relationship_in_expression_space(\n",
    "        pa14_corr,\n",
    "        pa14_least_stable_genes,\n",
    "        pa14_arr,\n",
    "        offset_to_bin,\n",
    "        pa14_operon_expression_to_use,\n",
    "        sum_increment_to_use,\n",
    "    )\n",
    ")"
   ]
  },
  {
   "cell_type": "code",
   "execution_count": 38,
   "id": "7f7324f3",
   "metadata": {},
   "outputs": [
    {
     "data": {
      "text/html": [
       "<div>\n",
       "<style scoped>\n",
       "    .dataframe tbody tr th:only-of-type {\n",
       "        vertical-align: middle;\n",
       "    }\n",
       "\n",
       "    .dataframe tbody tr th {\n",
       "        vertical-align: top;\n",
       "    }\n",
       "\n",
       "    .dataframe thead th {\n",
       "        text-align: right;\n",
       "    }\n",
       "</style>\n",
       "<table border=\"1\" class=\"dataframe\">\n",
       "  <thead>\n",
       "    <tr style=\"text-align: right;\">\n",
       "      <th></th>\n",
       "      <th>offset</th>\n",
       "      <th>gene type</th>\n",
       "      <th>total</th>\n",
       "    </tr>\n",
       "  </thead>\n",
       "  <tbody>\n",
       "    <tr>\n",
       "      <th>0</th>\n",
       "      <td>1</td>\n",
       "      <td>acc</td>\n",
       "      <td>1.0</td>\n",
       "    </tr>\n",
       "    <tr>\n",
       "      <th>1</th>\n",
       "      <td>2</td>\n",
       "      <td>acc</td>\n",
       "      <td>2.0</td>\n",
       "    </tr>\n",
       "    <tr>\n",
       "      <th>2</th>\n",
       "      <td>3</td>\n",
       "      <td>acc</td>\n",
       "      <td>2.0</td>\n",
       "    </tr>\n",
       "    <tr>\n",
       "      <th>3</th>\n",
       "      <td>4</td>\n",
       "      <td>acc</td>\n",
       "      <td>2.0</td>\n",
       "    </tr>\n",
       "    <tr>\n",
       "      <th>4</th>\n",
       "      <td>5</td>\n",
       "      <td>acc</td>\n",
       "      <td>3.0</td>\n",
       "    </tr>\n",
       "  </tbody>\n",
       "</table>\n",
       "</div>"
      ],
      "text/plain": [
       "  offset gene type  total\n",
       "0      1       acc    1.0\n",
       "1      2       acc    2.0\n",
       "2      3       acc    2.0\n",
       "3      4       acc    2.0\n",
       "4      5       acc    3.0"
      ]
     },
     "execution_count": 38,
     "metadata": {},
     "output_type": "execute_result"
    }
   ],
   "source": [
    "expression_dist_counts_pao1_most.head()"
   ]
  },
  {
   "cell_type": "code",
   "execution_count": 39,
   "id": "f77829b6",
   "metadata": {},
   "outputs": [
    {
     "data": {
      "text/html": [
       "<div>\n",
       "<style scoped>\n",
       "    .dataframe tbody tr th:only-of-type {\n",
       "        vertical-align: middle;\n",
       "    }\n",
       "\n",
       "    .dataframe tbody tr th {\n",
       "        vertical-align: top;\n",
       "    }\n",
       "\n",
       "    .dataframe thead th {\n",
       "        text-align: right;\n",
       "    }\n",
       "</style>\n",
       "<table border=\"1\" class=\"dataframe\">\n",
       "  <thead>\n",
       "    <tr style=\"text-align: right;\">\n",
       "      <th></th>\n",
       "      <th>offset</th>\n",
       "      <th>gene type</th>\n",
       "      <th>total</th>\n",
       "    </tr>\n",
       "  </thead>\n",
       "  <tbody>\n",
       "    <tr>\n",
       "      <th>0</th>\n",
       "      <td>1</td>\n",
       "      <td>acc</td>\n",
       "      <td>17.0</td>\n",
       "    </tr>\n",
       "    <tr>\n",
       "      <th>1</th>\n",
       "      <td>2</td>\n",
       "      <td>acc</td>\n",
       "      <td>19.0</td>\n",
       "    </tr>\n",
       "    <tr>\n",
       "      <th>2</th>\n",
       "      <td>3</td>\n",
       "      <td>acc</td>\n",
       "      <td>16.0</td>\n",
       "    </tr>\n",
       "    <tr>\n",
       "      <th>3</th>\n",
       "      <td>4</td>\n",
       "      <td>acc</td>\n",
       "      <td>22.0</td>\n",
       "    </tr>\n",
       "    <tr>\n",
       "      <th>4</th>\n",
       "      <td>5</td>\n",
       "      <td>acc</td>\n",
       "      <td>19.0</td>\n",
       "    </tr>\n",
       "  </tbody>\n",
       "</table>\n",
       "</div>"
      ],
      "text/plain": [
       "  offset gene type  total\n",
       "0      1       acc   17.0\n",
       "1      2       acc   19.0\n",
       "2      3       acc   16.0\n",
       "3      4       acc   22.0\n",
       "4      5       acc   19.0"
      ]
     },
     "execution_count": 39,
     "metadata": {},
     "output_type": "execute_result"
    }
   ],
   "source": [
    "expression_dist_counts_pao1_least.head()"
   ]
  },
  {
   "cell_type": "code",
   "execution_count": 40,
   "id": "4471f9c8",
   "metadata": {},
   "outputs": [
    {
     "data": {
      "text/html": [
       "<div>\n",
       "<style scoped>\n",
       "    .dataframe tbody tr th:only-of-type {\n",
       "        vertical-align: middle;\n",
       "    }\n",
       "\n",
       "    .dataframe tbody tr th {\n",
       "        vertical-align: top;\n",
       "    }\n",
       "\n",
       "    .dataframe thead th {\n",
       "        text-align: right;\n",
       "    }\n",
       "</style>\n",
       "<table border=\"1\" class=\"dataframe\">\n",
       "  <thead>\n",
       "    <tr style=\"text-align: right;\">\n",
       "      <th></th>\n",
       "      <th>offset</th>\n",
       "      <th>gene type</th>\n",
       "      <th>total</th>\n",
       "    </tr>\n",
       "  </thead>\n",
       "  <tbody>\n",
       "    <tr>\n",
       "      <th>0</th>\n",
       "      <td>1</td>\n",
       "      <td>acc</td>\n",
       "      <td>2.0</td>\n",
       "    </tr>\n",
       "    <tr>\n",
       "      <th>1</th>\n",
       "      <td>2</td>\n",
       "      <td>acc</td>\n",
       "      <td>5.0</td>\n",
       "    </tr>\n",
       "    <tr>\n",
       "      <th>2</th>\n",
       "      <td>3</td>\n",
       "      <td>acc</td>\n",
       "      <td>6.0</td>\n",
       "    </tr>\n",
       "    <tr>\n",
       "      <th>3</th>\n",
       "      <td>4</td>\n",
       "      <td>acc</td>\n",
       "      <td>5.0</td>\n",
       "    </tr>\n",
       "    <tr>\n",
       "      <th>4</th>\n",
       "      <td>5</td>\n",
       "      <td>acc</td>\n",
       "      <td>6.0</td>\n",
       "    </tr>\n",
       "  </tbody>\n",
       "</table>\n",
       "</div>"
      ],
      "text/plain": [
       "  offset gene type  total\n",
       "0      1       acc    2.0\n",
       "1      2       acc    5.0\n",
       "2      3       acc    6.0\n",
       "3      4       acc    5.0\n",
       "4      5       acc    6.0"
      ]
     },
     "execution_count": 40,
     "metadata": {},
     "output_type": "execute_result"
    }
   ],
   "source": [
    "expression_dist_counts_pa14_most.head()"
   ]
  },
  {
   "cell_type": "code",
   "execution_count": 41,
   "id": "6162b4ee",
   "metadata": {},
   "outputs": [
    {
     "data": {
      "text/html": [
       "<div>\n",
       "<style scoped>\n",
       "    .dataframe tbody tr th:only-of-type {\n",
       "        vertical-align: middle;\n",
       "    }\n",
       "\n",
       "    .dataframe tbody tr th {\n",
       "        vertical-align: top;\n",
       "    }\n",
       "\n",
       "    .dataframe thead th {\n",
       "        text-align: right;\n",
       "    }\n",
       "</style>\n",
       "<table border=\"1\" class=\"dataframe\">\n",
       "  <thead>\n",
       "    <tr style=\"text-align: right;\">\n",
       "      <th></th>\n",
       "      <th>offset</th>\n",
       "      <th>gene type</th>\n",
       "      <th>total</th>\n",
       "    </tr>\n",
       "  </thead>\n",
       "  <tbody>\n",
       "    <tr>\n",
       "      <th>0</th>\n",
       "      <td>1</td>\n",
       "      <td>acc</td>\n",
       "      <td>31.0</td>\n",
       "    </tr>\n",
       "    <tr>\n",
       "      <th>1</th>\n",
       "      <td>2</td>\n",
       "      <td>acc</td>\n",
       "      <td>37.0</td>\n",
       "    </tr>\n",
       "    <tr>\n",
       "      <th>2</th>\n",
       "      <td>3</td>\n",
       "      <td>acc</td>\n",
       "      <td>27.0</td>\n",
       "    </tr>\n",
       "    <tr>\n",
       "      <th>3</th>\n",
       "      <td>4</td>\n",
       "      <td>acc</td>\n",
       "      <td>25.0</td>\n",
       "    </tr>\n",
       "    <tr>\n",
       "      <th>4</th>\n",
       "      <td>5</td>\n",
       "      <td>acc</td>\n",
       "      <td>31.0</td>\n",
       "    </tr>\n",
       "  </tbody>\n",
       "</table>\n",
       "</div>"
      ],
      "text/plain": [
       "  offset gene type  total\n",
       "0      1       acc   31.0\n",
       "1      2       acc   37.0\n",
       "2      3       acc   27.0\n",
       "3      4       acc   25.0\n",
       "4      5       acc   31.0"
      ]
     },
     "execution_count": 41,
     "metadata": {},
     "output_type": "execute_result"
    }
   ],
   "source": [
    "expression_dist_counts_pa14_least.head()"
   ]
  },
  {
   "cell_type": "markdown",
   "id": "e405385c",
   "metadata": {},
   "source": [
    "### Plot"
   ]
  },
  {
   "cell_type": "code",
   "execution_count": 42,
   "id": "ad8dadcb",
   "metadata": {},
   "outputs": [
    {
     "data": {
      "text/plain": [
       "<matplotlib.legend.Legend at 0x7fda369f6310>"
      ]
     },
     "execution_count": 42,
     "metadata": {},
     "output_type": "execute_result"
    },
    {
     "data": {
      "image/png": "[encoded data removed]",
      "text/plain": [
       "<Figure size 720x720 with 2 Axes>"
      ]
     },
     "metadata": {
      "needs_background": "light"
     },
     "output_type": "display_data"
    }
   ],
   "source": [
    "# Plot PAO1 trends\n",
    "fig, axes = plt.subplots(ncols=1, nrows=2, figsize=(10, 10))\n",
    "\n",
    "fig = sns.barplot(\n",
    "    data=expression_dist_counts_pao1_most,\n",
    "    x=\"offset\",\n",
    "    y=\"total\",\n",
    "    hue=\"gene type\",\n",
    "    ax=axes[0],\n",
    "    palette=sns.color_palette(\"Paired\"),\n",
    ")\n",
    "fig.legend_.remove()\n",
    "fig.set_title(\"Starting with most stable core gene PAO1\")\n",
    "fig.set_ylabel(\"Number of genes\")\n",
    "fig.set_xlabel(\"Rank correlation in expression space\")\n",
    "\n",
    "fig = sns.barplot(\n",
    "    data=expression_dist_counts_pao1_least,\n",
    "    x=\"offset\",\n",
    "    y=\"total\",\n",
    "    hue=\"gene type\",\n",
    "    ax=axes[1],\n",
    "    palette=sns.color_palette(\"Paired\"),\n",
    ")\n",
    "fig.legend_.remove()\n",
    "fig.set_title(\"Starting with least stable core gene PAO1\")\n",
    "fig.set_ylabel(\"Number of genes\")\n",
    "fig.set_xlabel(\"Rank correlation in expression space\")\n",
    "\n",
    "\n",
    "# Note: We are creating a single global legend that apply\n",
    "# to all the facets of this figure. To do this using\n",
    "# matplotlib, we need to be a little creative here\n",
    "# and add the legend to a new location that is applied\n",
    "# to the figure and then remove the legend from the facet.\n",
    "plt.legend(bbox_to_anchor=(1.05, 1.15), loc=2, borderaxespad=0.0)"
   ]
  },
  {
   "cell_type": "code",
   "execution_count": 43,
   "id": "cd8752f0",
   "metadata": {},
   "outputs": [
    {
     "data": {
      "text/plain": [
       "<matplotlib.legend.Legend at 0x7fda328a23d0>"
      ]
     },
     "execution_count": 43,
     "metadata": {},
     "output_type": "execute_result"
    },
    {
     "data": {
      "image/png": "[encoded data removed]",
      "text/plain": [
       "<Figure size 720x720 with 2 Axes>"
      ]
     },
     "metadata": {
      "needs_background": "light"
     },
     "output_type": "display_data"
    }
   ],
   "source": [
    "# Plot PA14 trends\n",
    "fig2, axes2 = plt.subplots(ncols=1, nrows=2, figsize=(10, 10))\n",
    "\n",
    "fig2 = sns.barplot(\n",
    "    data=expression_dist_counts_pa14_most,\n",
    "    x=\"offset\",\n",
    "    y=\"total\",\n",
    "    hue=\"gene type\",\n",
    "    ax=axes2[0],\n",
    "    palette=sns.color_palette(\"Paired\"),\n",
    ")\n",
    "fig2.legend_.remove()\n",
    "fig2.set_title(\"Starting with most stable core gene PA14\")\n",
    "fig2.set_ylabel(\"Number of genes\")\n",
    "fig2.set_xlabel(\"Rank correlation in expression space\")\n",
    "\n",
    "fig2 = sns.barplot(\n",
    "    data=expression_dist_counts_pa14_least,\n",
    "    x=\"offset\",\n",
    "    y=\"total\",\n",
    "    hue=\"gene type\",\n",
    "    ax=axes2[1],\n",
    "    palette=sns.color_palette(\"Paired\"),\n",
    ")\n",
    "fig2.legend_.remove()\n",
    "fig2.set_title(\"Starting with least stable core gene PA14\")\n",
    "fig2.set_ylabel(\"Number of genes\")\n",
    "fig2.set_xlabel(\"Rank correlation in expression space\")\n",
    "\n",
    "plt.legend(bbox_to_anchor=(1.05, 1.15), loc=2, borderaxespad=0.0)"
   ]
  },
  {
   "cell_type": "code",
   "execution_count": 44,
   "id": "42cb7c2f",
   "metadata": {},
   "outputs": [],
   "source": [
    "# Save figures using operons*\n",
    "# Save figures not using operons*\n",
    "# Save figure with rolling sum and operons\n",
    "# Save figure with rolling sum not using operons\n",
    "fig.figure.savefig(\n",
    "    pao1_figure_filename,\n",
    "    format=\"svg\",\n",
    "    bbox_inches=\"tight\",\n",
    "    transparent=True,\n",
    "    pad_inches=0,\n",
    "    dpi=300,\n",
    ")\n",
    "\n",
    "fig2.figure.savefig(\n",
    "    pa14_figure_filename,\n",
    "    format=\"svg\",\n",
    "    bbox_inches=\"tight\",\n",
    "    transparent=True,\n",
    "    pad_inches=0,\n",
    "    dpi=300,\n",
    ")"
   ]
  },
  {
   "cell_type": "markdown",
   "id": "f6ff6b78",
   "metadata": {},
   "source": [
    "**Takeaway:**\n",
    "\n",
    "* Least stable core genes have more accessory gene neighbors compared to most stable core genes\n",
    "* Maybe these least stable genes are late core genes (i.e. acquired recently)? Maybe these least stable core genes transcriptional behavior is modified by the accessory genes."
   ]
  }
 ],
 "metadata": {
  "jupytext": {
   "encoding": "# -*- coding: utf-8 -*-",
   "formats": "ipynb,py"
  },
  "kernelspec": {
   "display_name": "Python [conda env:core_acc] *",
   "language": "python",
   "name": "conda-env-core_acc-py"
  },
  "language_info": {
   "codemirror_mode": {
    "name": "ipython",
    "version": 3
   },
   "file_extension": ".py",
   "mimetype": "text/x-python",
   "name": "python",
   "nbconvert_exporter": "python",
   "pygments_lexer": "ipython3",
   "version": "3.7.10"
  }
 },
 "nbformat": 4,
 "nbformat_minor": 5
}
