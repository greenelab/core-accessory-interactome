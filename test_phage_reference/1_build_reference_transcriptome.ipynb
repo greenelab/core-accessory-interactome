{
 "cells": [
  {
   "cell_type": "markdown",
   "metadata": {},
   "source": [
    "# Build reference transcriptome\n",
    "\n",
    "Here we are using [Salmon](https://combine-lab.github.io/salmon/)\n",
    "\n",
    "**Input:**\n",
    "* Target transcriptome\n",
    "* This transcriptome is given to Salmon in the form of a (possibly compressed) multi-FASTA file, with each entry providing the sequence of a transcript\n",
    "* We downloaded the phage GENOMES from NCBI GenBank\n",
    "\n",
    "**Note:** For prokaryotes, transcripts and genes have a more 1-1 mapping so we're using genes for our reference transcriptome and so we don't need to use tximport to map transcript quants to genes. \n",
    "\n",
    "**Output:**\n",
    "* The index is a structure that salmon uses to quasi-map RNA-seq reads during quantification\n",
    "* [Quasi-map](https://academic.oup.com/bioinformatics/article/32/12/i192/2288985) is a way to map sequenced fragments (single or paired-end reads) to a target transcriptome. Quasi-mapping produces what we refer to as fragment mapping information. In particular, it provides, for each query (fragment), the reference sequences (transcripts), strand and position from which the query may have likely originated. In many cases, this mapping information is sufficient for downstream analysis like quantification.\n",
    "\n",
    "*Algorithm:*\n",
    "\n",
    "For a query read r through repeated application of: \n",
    "1. Determining the next hash table k-mer that starts past the current query position\n",
    "2. Computing the maximum mappable prefix (MMP) of the query beginning with this k-mer\n",
    "3. Determining the next informative position (NIP) by performing a longest common prefix (LCP) query on two specifically chosen suffixes in the SA"
   ]
  },
  {
   "cell_type": "code",
   "execution_count": null,
   "metadata": {},
   "outputs": [],
   "source": [
    "%load_ext autoreload\n",
    "%autoreload 2\n",
    "\n",
    "from core_acc_modules import paths"
   ]
  },
  {
   "cell_type": "code",
   "execution_count": null,
   "metadata": {},
   "outputs": [],
   "source": [
    "# Get PAO1 index\n",
    "! salmon index -t $paths.PAO1_REF -i $paths.PAO1_INDEX"
   ]
  },
  {
   "cell_type": "code",
   "execution_count": null,
   "metadata": {},
   "outputs": [],
   "source": [
    "# Get phage index\n",
    "! salmon index -t $paths.PHAGE_REF -i $paths.PHAGE_INDEX"
   ]
  }
 ],
 "metadata": {
  "kernelspec": {
   "display_name": "Python [conda env:core_acc] *",
   "language": "python",
   "name": "conda-env-core_acc-py"
  },
  "language_info": {
   "codemirror_mode": {
    "name": "ipython",
    "version": 3
   },
   "file_extension": ".py",
   "mimetype": "text/x-python",
   "name": "python",
   "nbconvert_exporter": "python",
   "pygments_lexer": "ipython3",
   "version": "3.7.8"
  }
 },
 "nbformat": 4,
 "nbformat_minor": 4
}
