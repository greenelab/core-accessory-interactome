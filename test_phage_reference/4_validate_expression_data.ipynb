{
 "cells": [
  {
   "cell_type": "markdown",
   "metadata": {},
   "source": [
    "# Validate expression data\n",
    "\n",
    "This notebook is checking that the resulting expression data is as expected using a few test samples."
   ]
  },
  {
   "cell_type": "code",
   "execution_count": 1,
   "metadata": {},
   "outputs": [
    {
     "name": "stderr",
     "output_type": "stream",
     "text": [
      "/home/alexandra/anaconda3/envs/core_acc/lib/python3.7/site-packages/matplotlib/__init__.py:886: MatplotlibDeprecationWarning: \n",
      "examples.directory is deprecated; in the future, examples will be found relative to the 'datapath' directory.\n",
      "  \"found relative to the 'datapath' directory.\".format(key))\n"
     ]
    }
   ],
   "source": [
    "import seaborn as sns\n",
    "import pandas as pd\n",
    "import numpy as np\n",
    "from core_acc_modules import paths"
   ]
  },
  {
   "cell_type": "code",
   "execution_count": 2,
   "metadata": {},
   "outputs": [],
   "source": [
    "# Load expression data\n",
    "expression_pao1_phage_df = pd.read_csv(paths.PAO1_PHAGE_GE, sep='\\t', index_col=0, header=0)\n",
    "expression_pa14_phage_df = pd.read_csv(paths.PA14_PHAGE_GE, sep='\\t', index_col=0, header=0)"
   ]
  },
  {
   "cell_type": "code",
   "execution_count": 3,
   "metadata": {},
   "outputs": [
    {
     "data": {
      "text/html": [
       "<div>\n",
       "<style scoped>\n",
       "    .dataframe tbody tr th:only-of-type {\n",
       "        vertical-align: middle;\n",
       "    }\n",
       "\n",
       "    .dataframe tbody tr th {\n",
       "        vertical-align: top;\n",
       "    }\n",
       "\n",
       "    .dataframe thead th {\n",
       "        text-align: right;\n",
       "    }\n",
       "</style>\n",
       "<table border=\"1\" class=\"dataframe\">\n",
       "  <thead>\n",
       "    <tr style=\"text-align: right;\">\n",
       "      <th></th>\n",
       "      <th>PGD134012</th>\n",
       "      <th>PGD134018</th>\n",
       "      <th>PGD134020</th>\n",
       "      <th>PGD134022</th>\n",
       "      <th>PGD134024</th>\n",
       "      <th>PGD134014</th>\n",
       "      <th>PGD134016</th>\n",
       "      <th>PGD134026</th>\n",
       "      <th>PGD134030</th>\n",
       "      <th>PGD134032</th>\n",
       "      <th>...</th>\n",
       "      <th>AF125682.1</th>\n",
       "      <th>AF125680.1</th>\n",
       "      <th>AF125679.1</th>\n",
       "      <th>AF125678.1</th>\n",
       "      <th>AF125677.1</th>\n",
       "      <th>AF125676.1</th>\n",
       "      <th>AF125675.1</th>\n",
       "      <th>AF125674.1</th>\n",
       "      <th>HD029875.1</th>\n",
       "      <th>AF125681.1</th>\n",
       "    </tr>\n",
       "  </thead>\n",
       "  <tbody>\n",
       "    <tr>\n",
       "      <th>SRR13160334</th>\n",
       "      <td>5.125015</td>\n",
       "      <td>5.242121</td>\n",
       "      <td>8.529642</td>\n",
       "      <td>7.955824</td>\n",
       "      <td>1.542862</td>\n",
       "      <td>5.437516</td>\n",
       "      <td>0.814817</td>\n",
       "      <td>1.943527</td>\n",
       "      <td>2.317603</td>\n",
       "      <td>0.534655</td>\n",
       "      <td>...</td>\n",
       "      <td>0.0</td>\n",
       "      <td>0.0</td>\n",
       "      <td>0.0</td>\n",
       "      <td>0.0</td>\n",
       "      <td>0.0</td>\n",
       "      <td>0.0</td>\n",
       "      <td>0.0</td>\n",
       "      <td>0.0</td>\n",
       "      <td>0.0</td>\n",
       "      <td>0.0</td>\n",
       "    </tr>\n",
       "    <tr>\n",
       "      <th>ERR3642743</th>\n",
       "      <td>15.405106</td>\n",
       "      <td>22.669220</td>\n",
       "      <td>25.355250</td>\n",
       "      <td>17.577173</td>\n",
       "      <td>12.107461</td>\n",
       "      <td>13.582088</td>\n",
       "      <td>4.418706</td>\n",
       "      <td>8.269461</td>\n",
       "      <td>9.658788</td>\n",
       "      <td>5.215522</td>\n",
       "      <td>...</td>\n",
       "      <td>0.0</td>\n",
       "      <td>0.0</td>\n",
       "      <td>0.0</td>\n",
       "      <td>0.0</td>\n",
       "      <td>0.0</td>\n",
       "      <td>0.0</td>\n",
       "      <td>0.0</td>\n",
       "      <td>0.0</td>\n",
       "      <td>0.0</td>\n",
       "      <td>0.0</td>\n",
       "    </tr>\n",
       "    <tr>\n",
       "      <th>SRR13234437</th>\n",
       "      <td>0.000000</td>\n",
       "      <td>0.490760</td>\n",
       "      <td>0.000000</td>\n",
       "      <td>0.579557</td>\n",
       "      <td>0.000000</td>\n",
       "      <td>0.000000</td>\n",
       "      <td>0.000000</td>\n",
       "      <td>0.464673</td>\n",
       "      <td>0.000000</td>\n",
       "      <td>0.000000</td>\n",
       "      <td>...</td>\n",
       "      <td>0.0</td>\n",
       "      <td>0.0</td>\n",
       "      <td>0.0</td>\n",
       "      <td>0.0</td>\n",
       "      <td>0.0</td>\n",
       "      <td>0.0</td>\n",
       "      <td>0.0</td>\n",
       "      <td>0.0</td>\n",
       "      <td>0.0</td>\n",
       "      <td>0.0</td>\n",
       "    </tr>\n",
       "  </tbody>\n",
       "</table>\n",
       "<p>3 rows × 6973 columns</p>\n",
       "</div>"
      ],
      "text/plain": [
       "             PGD134012  PGD134018  PGD134020  PGD134022  PGD134024  PGD134014  \\\n",
       "SRR13160334   5.125015   5.242121   8.529642   7.955824   1.542862   5.437516   \n",
       "ERR3642743   15.405106  22.669220  25.355250  17.577173  12.107461  13.582088   \n",
       "SRR13234437   0.000000   0.490760   0.000000   0.579557   0.000000   0.000000   \n",
       "\n",
       "             PGD134016  PGD134026  PGD134030  PGD134032  ...  AF125682.1  \\\n",
       "SRR13160334   0.814817   1.943527   2.317603   0.534655  ...         0.0   \n",
       "ERR3642743    4.418706   8.269461   9.658788   5.215522  ...         0.0   \n",
       "SRR13234437   0.000000   0.464673   0.000000   0.000000  ...         0.0   \n",
       "\n",
       "             AF125680.1  AF125679.1  AF125678.1  AF125677.1  AF125676.1  \\\n",
       "SRR13160334         0.0         0.0         0.0         0.0         0.0   \n",
       "ERR3642743          0.0         0.0         0.0         0.0         0.0   \n",
       "SRR13234437         0.0         0.0         0.0         0.0         0.0   \n",
       "\n",
       "             AF125675.1  AF125674.1  HD029875.1  AF125681.1  \n",
       "SRR13160334         0.0         0.0         0.0         0.0  \n",
       "ERR3642743          0.0         0.0         0.0         0.0  \n",
       "SRR13234437         0.0         0.0         0.0         0.0  \n",
       "\n",
       "[3 rows x 6973 columns]"
      ]
     },
     "execution_count": 3,
     "metadata": {},
     "output_type": "execute_result"
    }
   ],
   "source": [
    "expression_pao1_phage_df.head()"
   ]
  },
  {
   "cell_type": "code",
   "execution_count": 4,
   "metadata": {},
   "outputs": [
    {
     "data": {
      "text/html": [
       "<div>\n",
       "<style scoped>\n",
       "    .dataframe tbody tr th:only-of-type {\n",
       "        vertical-align: middle;\n",
       "    }\n",
       "\n",
       "    .dataframe tbody tr th {\n",
       "        vertical-align: top;\n",
       "    }\n",
       "\n",
       "    .dataframe thead th {\n",
       "        text-align: right;\n",
       "    }\n",
       "</style>\n",
       "<table border=\"1\" class=\"dataframe\">\n",
       "  <thead>\n",
       "    <tr style=\"text-align: right;\">\n",
       "      <th></th>\n",
       "      <th>PGD1650835</th>\n",
       "      <th>PGD1650837</th>\n",
       "      <th>PGD1650839</th>\n",
       "      <th>PGD1650841</th>\n",
       "      <th>PGD1650843</th>\n",
       "      <th>PGD1650845</th>\n",
       "      <th>PGD1650847</th>\n",
       "      <th>PGD1650849</th>\n",
       "      <th>PGD1650851</th>\n",
       "      <th>PGD1650853</th>\n",
       "      <th>...</th>\n",
       "      <th>AF125682.1</th>\n",
       "      <th>AF125680.1</th>\n",
       "      <th>AF125679.1</th>\n",
       "      <th>AF125678.1</th>\n",
       "      <th>AF125677.1</th>\n",
       "      <th>AF125676.1</th>\n",
       "      <th>AF125675.1</th>\n",
       "      <th>AF125674.1</th>\n",
       "      <th>HD029875.1</th>\n",
       "      <th>AF125681.1</th>\n",
       "    </tr>\n",
       "  </thead>\n",
       "  <tbody>\n",
       "    <tr>\n",
       "      <th>SRR13160334</th>\n",
       "      <td>6.715512</td>\n",
       "      <td>6.925263</td>\n",
       "      <td>11.185488</td>\n",
       "      <td>10.444595</td>\n",
       "      <td>2.038244</td>\n",
       "      <td>6.935693</td>\n",
       "      <td>1.076439</td>\n",
       "      <td>2.567556</td>\n",
       "      <td>2.959682</td>\n",
       "      <td>0.706322</td>\n",
       "      <td>...</td>\n",
       "      <td>0.0</td>\n",
       "      <td>0.0</td>\n",
       "      <td>0.0</td>\n",
       "      <td>0.0</td>\n",
       "      <td>0.0</td>\n",
       "      <td>0.0</td>\n",
       "      <td>0.0</td>\n",
       "      <td>0.0</td>\n",
       "      <td>0.0</td>\n",
       "      <td>0.0</td>\n",
       "    </tr>\n",
       "    <tr>\n",
       "      <th>ERR3642743</th>\n",
       "      <td>51.578997</td>\n",
       "      <td>73.107779</td>\n",
       "      <td>78.219582</td>\n",
       "      <td>59.242555</td>\n",
       "      <td>40.774978</td>\n",
       "      <td>46.127488</td>\n",
       "      <td>14.903651</td>\n",
       "      <td>27.538339</td>\n",
       "      <td>33.410520</td>\n",
       "      <td>21.775094</td>\n",
       "      <td>...</td>\n",
       "      <td>0.0</td>\n",
       "      <td>0.0</td>\n",
       "      <td>0.0</td>\n",
       "      <td>0.0</td>\n",
       "      <td>0.0</td>\n",
       "      <td>0.0</td>\n",
       "      <td>0.0</td>\n",
       "      <td>0.0</td>\n",
       "      <td>0.0</td>\n",
       "      <td>0.0</td>\n",
       "    </tr>\n",
       "    <tr>\n",
       "      <th>SRR13234437</th>\n",
       "      <td>0.000000</td>\n",
       "      <td>0.570722</td>\n",
       "      <td>0.000000</td>\n",
       "      <td>0.898650</td>\n",
       "      <td>0.000000</td>\n",
       "      <td>0.000000</td>\n",
       "      <td>0.000000</td>\n",
       "      <td>0.540384</td>\n",
       "      <td>0.000000</td>\n",
       "      <td>0.000000</td>\n",
       "      <td>...</td>\n",
       "      <td>0.0</td>\n",
       "      <td>0.0</td>\n",
       "      <td>0.0</td>\n",
       "      <td>0.0</td>\n",
       "      <td>0.0</td>\n",
       "      <td>0.0</td>\n",
       "      <td>0.0</td>\n",
       "      <td>0.0</td>\n",
       "      <td>0.0</td>\n",
       "      <td>0.0</td>\n",
       "    </tr>\n",
       "  </tbody>\n",
       "</table>\n",
       "<p>3 rows × 7195 columns</p>\n",
       "</div>"
      ],
      "text/plain": [
       "             PGD1650835  PGD1650837  PGD1650839  PGD1650841  PGD1650843  \\\n",
       "SRR13160334    6.715512    6.925263   11.185488   10.444595    2.038244   \n",
       "ERR3642743    51.578997   73.107779   78.219582   59.242555   40.774978   \n",
       "SRR13234437    0.000000    0.570722    0.000000    0.898650    0.000000   \n",
       "\n",
       "             PGD1650845  PGD1650847  PGD1650849  PGD1650851  PGD1650853  ...  \\\n",
       "SRR13160334    6.935693    1.076439    2.567556    2.959682    0.706322  ...   \n",
       "ERR3642743    46.127488   14.903651   27.538339   33.410520   21.775094  ...   \n",
       "SRR13234437    0.000000    0.000000    0.540384    0.000000    0.000000  ...   \n",
       "\n",
       "             AF125682.1  AF125680.1  AF125679.1  AF125678.1  AF125677.1  \\\n",
       "SRR13160334         0.0         0.0         0.0         0.0         0.0   \n",
       "ERR3642743          0.0         0.0         0.0         0.0         0.0   \n",
       "SRR13234437         0.0         0.0         0.0         0.0         0.0   \n",
       "\n",
       "             AF125676.1  AF125675.1  AF125674.1  HD029875.1  AF125681.1  \n",
       "SRR13160334         0.0         0.0         0.0         0.0         0.0  \n",
       "ERR3642743          0.0         0.0         0.0         0.0         0.0  \n",
       "SRR13234437         0.0         0.0         0.0         0.0         0.0  \n",
       "\n",
       "[3 rows x 7195 columns]"
      ]
     },
     "execution_count": 4,
     "metadata": {},
     "output_type": "execute_result"
    }
   ],
   "source": [
    "expression_pa14_phage_df.head()"
   ]
  },
  {
   "cell_type": "markdown",
   "metadata": {},
   "source": [
    "## Some checks"
   ]
  },
  {
   "cell_type": "code",
   "execution_count": 5,
   "metadata": {},
   "outputs": [
    {
     "data": {
      "text/html": [
       "<div>\n",
       "<style scoped>\n",
       "    .dataframe tbody tr th:only-of-type {\n",
       "        vertical-align: middle;\n",
       "    }\n",
       "\n",
       "    .dataframe tbody tr th {\n",
       "        vertical-align: top;\n",
       "    }\n",
       "\n",
       "    .dataframe thead th {\n",
       "        text-align: right;\n",
       "    }\n",
       "</style>\n",
       "<table border=\"1\" class=\"dataframe\">\n",
       "  <thead>\n",
       "    <tr style=\"text-align: right;\">\n",
       "      <th></th>\n",
       "      <th>PGD103251</th>\n",
       "      <th>PGD104404</th>\n",
       "      <th>PGD105710</th>\n",
       "      <th>PGD107120</th>\n",
       "      <th>PGD107146</th>\n",
       "      <th>PGD107152</th>\n",
       "      <th>PGD107160</th>\n",
       "      <th>PGD107216</th>\n",
       "      <th>PGD107228</th>\n",
       "      <th>PGD107368</th>\n",
       "      <th>...</th>\n",
       "      <th>AF125682.1</th>\n",
       "      <th>AF125680.1</th>\n",
       "      <th>AF125679.1</th>\n",
       "      <th>AF125678.1</th>\n",
       "      <th>AF125677.1</th>\n",
       "      <th>AF125676.1</th>\n",
       "      <th>AF125675.1</th>\n",
       "      <th>AF125674.1</th>\n",
       "      <th>HD029875.1</th>\n",
       "      <th>AF125681.1</th>\n",
       "    </tr>\n",
       "  </thead>\n",
       "  <tbody>\n",
       "    <tr>\n",
       "      <th>SRR13160334</th>\n",
       "      <td>0.0</td>\n",
       "      <td>0.0</td>\n",
       "      <td>0.0</td>\n",
       "      <td>0.0</td>\n",
       "      <td>0.0</td>\n",
       "      <td>0.0</td>\n",
       "      <td>0.0</td>\n",
       "      <td>0.0</td>\n",
       "      <td>0.0</td>\n",
       "      <td>0.0</td>\n",
       "      <td>...</td>\n",
       "      <td>0.0</td>\n",
       "      <td>0.0</td>\n",
       "      <td>0.0</td>\n",
       "      <td>0.0</td>\n",
       "      <td>0.0</td>\n",
       "      <td>0.0</td>\n",
       "      <td>0.0</td>\n",
       "      <td>0.0</td>\n",
       "      <td>0.0</td>\n",
       "      <td>0.0</td>\n",
       "    </tr>\n",
       "    <tr>\n",
       "      <th>ERR3642743</th>\n",
       "      <td>0.0</td>\n",
       "      <td>0.0</td>\n",
       "      <td>0.0</td>\n",
       "      <td>0.0</td>\n",
       "      <td>0.0</td>\n",
       "      <td>0.0</td>\n",
       "      <td>0.0</td>\n",
       "      <td>0.0</td>\n",
       "      <td>0.0</td>\n",
       "      <td>0.0</td>\n",
       "      <td>...</td>\n",
       "      <td>0.0</td>\n",
       "      <td>0.0</td>\n",
       "      <td>0.0</td>\n",
       "      <td>0.0</td>\n",
       "      <td>0.0</td>\n",
       "      <td>0.0</td>\n",
       "      <td>0.0</td>\n",
       "      <td>0.0</td>\n",
       "      <td>0.0</td>\n",
       "      <td>0.0</td>\n",
       "    </tr>\n",
       "    <tr>\n",
       "      <th>SRR13234437</th>\n",
       "      <td>0.0</td>\n",
       "      <td>0.0</td>\n",
       "      <td>0.0</td>\n",
       "      <td>0.0</td>\n",
       "      <td>0.0</td>\n",
       "      <td>0.0</td>\n",
       "      <td>0.0</td>\n",
       "      <td>0.0</td>\n",
       "      <td>0.0</td>\n",
       "      <td>0.0</td>\n",
       "      <td>...</td>\n",
       "      <td>0.0</td>\n",
       "      <td>0.0</td>\n",
       "      <td>0.0</td>\n",
       "      <td>0.0</td>\n",
       "      <td>0.0</td>\n",
       "      <td>0.0</td>\n",
       "      <td>0.0</td>\n",
       "      <td>0.0</td>\n",
       "      <td>0.0</td>\n",
       "      <td>0.0</td>\n",
       "    </tr>\n",
       "  </tbody>\n",
       "</table>\n",
       "<p>3 rows × 1178 columns</p>\n",
       "</div>"
      ],
      "text/plain": [
       "             PGD103251  PGD104404  PGD105710  PGD107120  PGD107146  PGD107152  \\\n",
       "SRR13160334        0.0        0.0        0.0        0.0        0.0        0.0   \n",
       "ERR3642743         0.0        0.0        0.0        0.0        0.0        0.0   \n",
       "SRR13234437        0.0        0.0        0.0        0.0        0.0        0.0   \n",
       "\n",
       "             PGD107160  PGD107216  PGD107228  PGD107368  ...  AF125682.1  \\\n",
       "SRR13160334        0.0        0.0        0.0        0.0  ...         0.0   \n",
       "ERR3642743         0.0        0.0        0.0        0.0  ...         0.0   \n",
       "SRR13234437        0.0        0.0        0.0        0.0  ...         0.0   \n",
       "\n",
       "             AF125680.1  AF125679.1  AF125678.1  AF125677.1  AF125676.1  \\\n",
       "SRR13160334         0.0         0.0         0.0         0.0         0.0   \n",
       "ERR3642743          0.0         0.0         0.0         0.0         0.0   \n",
       "SRR13234437         0.0         0.0         0.0         0.0         0.0   \n",
       "\n",
       "             AF125675.1  AF125674.1  HD029875.1  AF125681.1  \n",
       "SRR13160334         0.0         0.0         0.0         0.0  \n",
       "ERR3642743          0.0         0.0         0.0         0.0  \n",
       "SRR13234437         0.0         0.0         0.0         0.0  \n",
       "\n",
       "[3 rows x 1178 columns]"
      ]
     },
     "execution_count": 5,
     "metadata": {},
     "output_type": "execute_result"
    }
   ],
   "source": [
    "# Are there any genes that are 0 across all samples?\n",
    "expression_pao1_phage_df.loc[:,expression_pao1_phage_df.sum()==0] "
   ]
  },
  {
   "cell_type": "code",
   "execution_count": 6,
   "metadata": {},
   "outputs": [
    {
     "data": {
      "text/html": [
       "<div>\n",
       "<style scoped>\n",
       "    .dataframe tbody tr th:only-of-type {\n",
       "        vertical-align: middle;\n",
       "    }\n",
       "\n",
       "    .dataframe tbody tr th {\n",
       "        vertical-align: top;\n",
       "    }\n",
       "\n",
       "    .dataframe thead th {\n",
       "        text-align: right;\n",
       "    }\n",
       "</style>\n",
       "<table border=\"1\" class=\"dataframe\">\n",
       "  <thead>\n",
       "    <tr style=\"text-align: right;\">\n",
       "      <th></th>\n",
       "      <th>PGD1651355</th>\n",
       "      <th>PGD1657268</th>\n",
       "      <th>MH725810.1</th>\n",
       "      <th>MF974178.1</th>\n",
       "      <th>NC_031063.1</th>\n",
       "      <th>NC_020083.1</th>\n",
       "      <th>NC_011810.1</th>\n",
       "      <th>MT108726.1</th>\n",
       "      <th>NC_048744.1</th>\n",
       "      <th>NC_027292.1</th>\n",
       "      <th>...</th>\n",
       "      <th>AF125682.1</th>\n",
       "      <th>AF125680.1</th>\n",
       "      <th>AF125679.1</th>\n",
       "      <th>AF125678.1</th>\n",
       "      <th>AF125677.1</th>\n",
       "      <th>AF125676.1</th>\n",
       "      <th>AF125675.1</th>\n",
       "      <th>AF125674.1</th>\n",
       "      <th>HD029875.1</th>\n",
       "      <th>AF125681.1</th>\n",
       "    </tr>\n",
       "  </thead>\n",
       "  <tbody>\n",
       "    <tr>\n",
       "      <th>SRR13160334</th>\n",
       "      <td>0.0</td>\n",
       "      <td>0.0</td>\n",
       "      <td>0.0</td>\n",
       "      <td>0.0</td>\n",
       "      <td>0.0</td>\n",
       "      <td>0.0</td>\n",
       "      <td>0.0</td>\n",
       "      <td>0.0</td>\n",
       "      <td>0.0</td>\n",
       "      <td>0.0</td>\n",
       "      <td>...</td>\n",
       "      <td>0.0</td>\n",
       "      <td>0.0</td>\n",
       "      <td>0.0</td>\n",
       "      <td>0.0</td>\n",
       "      <td>0.0</td>\n",
       "      <td>0.0</td>\n",
       "      <td>0.0</td>\n",
       "      <td>0.0</td>\n",
       "      <td>0.0</td>\n",
       "      <td>0.0</td>\n",
       "    </tr>\n",
       "    <tr>\n",
       "      <th>ERR3642743</th>\n",
       "      <td>0.0</td>\n",
       "      <td>0.0</td>\n",
       "      <td>0.0</td>\n",
       "      <td>0.0</td>\n",
       "      <td>0.0</td>\n",
       "      <td>0.0</td>\n",
       "      <td>0.0</td>\n",
       "      <td>0.0</td>\n",
       "      <td>0.0</td>\n",
       "      <td>0.0</td>\n",
       "      <td>...</td>\n",
       "      <td>0.0</td>\n",
       "      <td>0.0</td>\n",
       "      <td>0.0</td>\n",
       "      <td>0.0</td>\n",
       "      <td>0.0</td>\n",
       "      <td>0.0</td>\n",
       "      <td>0.0</td>\n",
       "      <td>0.0</td>\n",
       "      <td>0.0</td>\n",
       "      <td>0.0</td>\n",
       "    </tr>\n",
       "    <tr>\n",
       "      <th>SRR13234437</th>\n",
       "      <td>0.0</td>\n",
       "      <td>0.0</td>\n",
       "      <td>0.0</td>\n",
       "      <td>0.0</td>\n",
       "      <td>0.0</td>\n",
       "      <td>0.0</td>\n",
       "      <td>0.0</td>\n",
       "      <td>0.0</td>\n",
       "      <td>0.0</td>\n",
       "      <td>0.0</td>\n",
       "      <td>...</td>\n",
       "      <td>0.0</td>\n",
       "      <td>0.0</td>\n",
       "      <td>0.0</td>\n",
       "      <td>0.0</td>\n",
       "      <td>0.0</td>\n",
       "      <td>0.0</td>\n",
       "      <td>0.0</td>\n",
       "      <td>0.0</td>\n",
       "      <td>0.0</td>\n",
       "      <td>0.0</td>\n",
       "    </tr>\n",
       "  </tbody>\n",
       "</table>\n",
       "<p>3 rows × 1159 columns</p>\n",
       "</div>"
      ],
      "text/plain": [
       "             PGD1651355  PGD1657268  MH725810.1  MF974178.1  NC_031063.1  \\\n",
       "SRR13160334         0.0         0.0         0.0         0.0          0.0   \n",
       "ERR3642743          0.0         0.0         0.0         0.0          0.0   \n",
       "SRR13234437         0.0         0.0         0.0         0.0          0.0   \n",
       "\n",
       "             NC_020083.1  NC_011810.1  MT108726.1  NC_048744.1  NC_027292.1  \\\n",
       "SRR13160334          0.0          0.0         0.0          0.0          0.0   \n",
       "ERR3642743           0.0          0.0         0.0          0.0          0.0   \n",
       "SRR13234437          0.0          0.0         0.0          0.0          0.0   \n",
       "\n",
       "             ...  AF125682.1  AF125680.1  AF125679.1  AF125678.1  AF125677.1  \\\n",
       "SRR13160334  ...         0.0         0.0         0.0         0.0         0.0   \n",
       "ERR3642743   ...         0.0         0.0         0.0         0.0         0.0   \n",
       "SRR13234437  ...         0.0         0.0         0.0         0.0         0.0   \n",
       "\n",
       "             AF125676.1  AF125675.1  AF125674.1  HD029875.1  AF125681.1  \n",
       "SRR13160334         0.0         0.0         0.0         0.0         0.0  \n",
       "ERR3642743          0.0         0.0         0.0         0.0         0.0  \n",
       "SRR13234437         0.0         0.0         0.0         0.0         0.0  \n",
       "\n",
       "[3 rows x 1159 columns]"
      ]
     },
     "execution_count": 6,
     "metadata": {},
     "output_type": "execute_result"
    }
   ],
   "source": [
    "expression_pa14_phage_df.loc[:,expression_pa14_phage_df.sum()==0] "
   ]
  },
  {
   "cell_type": "code",
   "execution_count": 7,
   "metadata": {},
   "outputs": [],
   "source": [
    "# What does the distribution of activity look like? Are there outliers?\n",
    "#sns.distplot(np.log10(expression_pao1_phage_df.mean()))"
   ]
  },
  {
   "cell_type": "code",
   "execution_count": 8,
   "metadata": {},
   "outputs": [],
   "source": [
    "#sns.distplot(expression_pa14_phage_df.mean(), kde=False)"
   ]
  },
  {
   "cell_type": "markdown",
   "metadata": {},
   "source": [
    "## Negative case\n",
    "\n",
    "Check that *E. Coli* sample (SRR13234437) poorly aligns with all *P. aeruginosa* reference genomes including PAO1+phage, PA14+phage."
   ]
  },
  {
   "cell_type": "code",
   "execution_count": 9,
   "metadata": {
    "scrolled": false
   },
   "outputs": [
    {
     "name": "stdout",
     "output_type": "stream",
     "text": [
      "Total number of genes: 6973\n",
      "Percent of 0 expressed genes: 0.9169654381184569\n"
     ]
    }
   ],
   "source": [
    "# Check there is no expression in E. Coli sample using phage reference\n",
    "print(\"Total number of genes:\", len(expression_pao1_phage_df.loc[\"SRR13234437\"]))\n",
    "print(\"Percent of 0 expressed genes:\",\n",
    "      (expression_pao1_phage_df.loc[\"SRR13234437\"] == 0).sum()/len(expression_pao1_phage_df.loc[\"SRR13234437\"]))"
   ]
  },
  {
   "cell_type": "code",
   "execution_count": 10,
   "metadata": {},
   "outputs": [
    {
     "name": "stderr",
     "output_type": "stream",
     "text": [
      "/home/alexandra/anaconda3/envs/core_acc/lib/python3.7/site-packages/ipykernel_launcher.py:2: FutureWarning: Series.nonzero() is deprecated and will be removed in a future version.Use Series.to_numpy().nonzero() instead\n",
      "  \n",
      "/home/alexandra/anaconda3/envs/core_acc/lib/python3.7/site-packages/scipy/stats/stats.py:1713: FutureWarning: Using a non-tuple sequence for multidimensional indexing is deprecated; use `arr[tuple(seq)]` instead of `arr[seq]`. In the future this will be interpreted as an array index, `arr[np.array(seq)]`, which will result either in an error or a different result.\n",
      "  return np.add.reduce(sorted[indexer] * weights, axis=axis) / sumval\n"
     ]
    },
    {
     "data": {
      "text/plain": [
       "Text(0.5, 1.0, 'Expression of E. Coli sample mapped to PAO1+phage reference (TPM)')"
      ]
     },
     "execution_count": 10,
     "metadata": {},
     "output_type": "execute_result"
    },
    {
     "data": {
      "image/png": "[encoded data removed]",
      "text/plain": [
       "<Figure size 432x288 with 1 Axes>"
      ]
     },
     "metadata": {
      "needs_background": "light"
     },
     "output_type": "display_data"
    }
   ],
   "source": [
    "EColi_pao1_phage_ref_series = expression_pao1_phage_df.loc[\"SRR13234437\"]\n",
    "nonzero_genes_EColi_pao1_phage_ref = EColi_pao1_phage_ref_series.iloc[EColi_pao1_phage_ref_series.nonzero()]\n",
    "\n",
    "# Plot\n",
    "fig2 = sns.distplot(nonzero_genes_EColi_pao1_phage_ref, kde=False)\n",
    "fig2.set_title(\"Expression of E. Coli sample mapped to PAO1+phage reference (TPM)\")\n",
    "\n",
    "# Get gene with the max expression\n",
    "# What is the outlier one?"
   ]
  },
  {
   "cell_type": "code",
   "execution_count": 11,
   "metadata": {},
   "outputs": [
    {
     "name": "stdout",
     "output_type": "stream",
     "text": [
      "Percent of nonzero genes below 1000: 0.9533678756476683\n"
     ]
    },
    {
     "data": {
      "image/png": "[encoded data removed]",
      "text/plain": [
       "<Figure size 432x288 with 1 Axes>"
      ]
     },
     "metadata": {
      "needs_background": "light"
     },
     "output_type": "display_data"
    }
   ],
   "source": [
    "# If we remove the outlier gene, what does the expression look like\n",
    "# Does this distribution look correct?\n",
    "# What are the genes outside of this distribution? Why are they outside\n",
    "threshold = 1000\n",
    "majority_genes_EColi_pao1_phage_ref = nonzero_genes_EColi_pao1_phage_ref[nonzero_genes_EColi_pao1_phage_ref < threshold]\n",
    "\n",
    "print(f\"Percent of nonzero genes below {threshold}:\", \n",
    "      (len(majority_genes_EColi_pao1_phage_ref))/len(nonzero_genes_EColi_pao1_phage_ref))\n",
    "\n",
    "fig5 = sns.distplot(majority_genes_EColi_pao1_phage_ref, kde=False)"
   ]
  },
  {
   "cell_type": "code",
   "execution_count": 12,
   "metadata": {
    "scrolled": false
   },
   "outputs": [
    {
     "name": "stdout",
     "output_type": "stream",
     "text": [
      "Total number of genes: 7195\n",
      "Percent of 0 expressed genes: 0.9220291869353718\n"
     ]
    }
   ],
   "source": [
    "# Check there is no expression in E. Coli sample using PAO1 reference\n",
    "print(\"Total number of genes:\", len(expression_pa14_phage_df.loc[\"SRR13234437\"]))\n",
    "print(\"Percent of 0 expressed genes:\", \n",
    "      (expression_pa14_phage_df.loc[\"SRR13234437\"] == 0).sum()/len(expression_pa14_phage_df.loc[\"SRR13234437\"]))"
   ]
  },
  {
   "cell_type": "code",
   "execution_count": 13,
   "metadata": {},
   "outputs": [
    {
     "name": "stderr",
     "output_type": "stream",
     "text": [
      "/home/alexandra/anaconda3/envs/core_acc/lib/python3.7/site-packages/ipykernel_launcher.py:2: FutureWarning: Series.nonzero() is deprecated and will be removed in a future version.Use Series.to_numpy().nonzero() instead\n",
      "  \n"
     ]
    },
    {
     "data": {
      "text/plain": [
       "Text(0.5, 1.0, 'Expression of E. Coli sample mapped to PA14+phage reference (TPM)')"
      ]
     },
     "execution_count": 13,
     "metadata": {},
     "output_type": "execute_result"
    },
    {
     "data": {
      "image/png": "[encoded data removed]",
      "text/plain": [
       "<Figure size 432x288 with 1 Axes>"
      ]
     },
     "metadata": {
      "needs_background": "light"
     },
     "output_type": "display_data"
    }
   ],
   "source": [
    "EColi_pa14_phage_ref_series = expression_pa14_phage_df.loc[\"SRR13234437\"]\n",
    "nonzero_genes_EColi_pa14_phage_ref = EColi_pa14_phage_ref_series.iloc[EColi_pa14_phage_ref_series.nonzero()]\n",
    "\n",
    "# Plot\n",
    "fig2 = sns.distplot(nonzero_genes_EColi_pa14_phage_ref, kde=False)\n",
    "fig2.set_title(\"Expression of E. Coli sample mapped to PA14+phage reference (TPM)\")\n",
    "\n",
    "# Get gene with the max expression\n",
    "# What is the outlier one?"
   ]
  },
  {
   "cell_type": "code",
   "execution_count": 14,
   "metadata": {},
   "outputs": [
    {
     "name": "stdout",
     "output_type": "stream",
     "text": [
      "Percent of nonzero genes below 1000: 0.964349376114082\n"
     ]
    },
    {
     "data": {
      "image/png": "[encoded data removed]",
      "text/plain": [
       "<Figure size 432x288 with 1 Axes>"
      ]
     },
     "metadata": {
      "needs_background": "light"
     },
     "output_type": "display_data"
    }
   ],
   "source": [
    "# If we remove the outlier gene, what does the expression look like\n",
    "# Does this distribution look correct?\n",
    "# What are the genes outside of this distribution? Why are they outside\n",
    "threshold = 1000\n",
    "majority_genes_EColi_pa14_phage_ref = nonzero_genes_EColi_pa14_phage_ref[nonzero_genes_EColi_pa14_phage_ref < threshold]\n",
    "\n",
    "print(f\"Percent of nonzero genes below {threshold}:\", \n",
    "      (len(majority_genes_EColi_pa14_phage_ref))/len(nonzero_genes_EColi_pa14_phage_ref))\n",
    "\n",
    "fig5 = sns.distplot(majority_genes_EColi_pa14_phage_ref, kde=False)"
   ]
  },
  {
   "cell_type": "code",
   "execution_count": 15,
   "metadata": {},
   "outputs": [
    {
     "name": "stdout",
     "output_type": "stream",
     "text": [
      "PGD108432    200502.359292\n",
      "PGD109072    200502.359292\n",
      "Name: SRR13234437, dtype: float64\n",
      "PGD1654645    472788.588229\n",
      "Name: SRR13234437, dtype: float64\n"
     ]
    }
   ],
   "source": [
    "# Get outlier gene\n",
    "print(nonzero_genes_EColi_pao1_phage_ref[nonzero_genes_EColi_pao1_phage_ref == nonzero_genes_EColi_pao1_phage_ref.max()])\n",
    "print(nonzero_genes_EColi_pa14_phage_ref[nonzero_genes_EColi_pa14_phage_ref == nonzero_genes_EColi_pa14_phage_ref.max()])"
   ]
  },
  {
   "cell_type": "markdown",
   "metadata": {},
   "source": [
    "## Positive case: PAO1\n",
    "\n",
    "Given a PAO1 sample (SRR13160334), we want to check that: \n",
    "* It aligns well to PAO1 reference. \n",
    "* It has expression at LUZ19 phage (NC_010326.1 in phage genome), since this sample was known to contain this phage gene."
   ]
  },
  {
   "cell_type": "code",
   "execution_count": 16,
   "metadata": {
    "scrolled": false
   },
   "outputs": [
    {
     "name": "stdout",
     "output_type": "stream",
     "text": [
      "Total number of genes: 6973\n",
      "Percent of positive-expressed genes: 0.784310913523591\n"
     ]
    }
   ],
   "source": [
    "# Check there is expression in PAO1 sample using PAO1 reference\n",
    "print(\"Total number of genes:\", len(expression_pao1_phage_df.loc[\"SRR13160334\"]))\n",
    "print(\"Percent of positive-expressed genes:\", \n",
    "      (expression_pao1_phage_df.loc[\"SRR13160334\"] > 0).sum()/len(expression_pao1_phage_df.loc[\"SRR13160334\"]))"
   ]
  },
  {
   "cell_type": "code",
   "execution_count": 17,
   "metadata": {
    "scrolled": false
   },
   "outputs": [
    {
     "name": "stderr",
     "output_type": "stream",
     "text": [
      "/home/alexandra/anaconda3/envs/core_acc/lib/python3.7/site-packages/ipykernel_launcher.py:3: FutureWarning: Series.nonzero() is deprecated and will be removed in a future version.Use Series.to_numpy().nonzero() instead\n",
      "  This is separate from the ipykernel package so we can avoid doing imports until\n"
     ]
    },
    {
     "data": {
      "text/plain": [
       "Text(0.5, 1.0, 'Expression of PAO1 sample mapped to PAO1+phage reference (TPM)')"
      ]
     },
     "execution_count": 17,
     "metadata": {},
     "output_type": "execute_result"
    },
    {
     "data": {
      "image/png": "[encoded data removed]",
      "text/plain": [
       "<Figure size 432x288 with 1 Axes>"
      ]
     },
     "metadata": {
      "needs_background": "light"
     },
     "output_type": "display_data"
    }
   ],
   "source": [
    "# Plot the expression of PAO1 nonzero genes\n",
    "pao1_sample_pao1_phage_ref_series = expression_pao1_phage_df.loc[\"SRR13160334\"]\n",
    "nonzero_genes_pao1_sample_pao1_phage_ref = pao1_sample_pao1_phage_ref_series.iloc[pao1_sample_pao1_phage_ref_series.nonzero()]\n",
    "\n",
    "# Plot\n",
    "fig3 = sns.distplot(nonzero_genes_pao1_sample_pao1_phage_ref, kde=False)\n",
    "fig3.set_title(\"Expression of PAO1 sample mapped to PAO1+phage reference (TPM)\")"
   ]
  },
  {
   "cell_type": "code",
   "execution_count": 18,
   "metadata": {},
   "outputs": [
    {
     "name": "stdout",
     "output_type": "stream",
     "text": [
      "Percent of nonzero genes below 1000: 0.9899433168769428\n"
     ]
    },
    {
     "data": {
      "image/png": "[encoded data removed]",
      "text/plain": [
       "<Figure size 432x288 with 1 Axes>"
      ]
     },
     "metadata": {
      "needs_background": "light"
     },
     "output_type": "display_data"
    }
   ],
   "source": [
    "# If we remove the outlier gene, what does the expression look like\n",
    "# Does this distribution look correct?\n",
    "# What are the genes outside of this distribution? Why are they outside\n",
    "threshold = 1000\n",
    "majority_genes_pao1_sample_pao1_phage_ref = nonzero_genes_pao1_sample_pao1_phage_ref[nonzero_genes_pao1_sample_pao1_phage_ref < threshold]\n",
    "\n",
    "print(f\"Percent of nonzero genes below {threshold}:\", \n",
    "      (len(majority_genes_pao1_sample_pao1_phage_ref))/len(nonzero_genes_pao1_sample_pao1_phage_ref))\n",
    "\n",
    "fig5 = sns.distplot(nonzero_genes_pao1_sample_pao1_phage_ref[nonzero_genes_pao1_sample_pao1_phage_ref < threshold], kde=False)"
   ]
  },
  {
   "cell_type": "code",
   "execution_count": 19,
   "metadata": {},
   "outputs": [
    {
     "data": {
      "text/plain": [
       "2266.456087"
      ]
     },
     "execution_count": 19,
     "metadata": {},
     "output_type": "execute_result"
    }
   ],
   "source": [
    "# Check there is expression in PAO1 sample using phage reference gene: NC_010326.1\n",
    "expression_pao1_phage_df.loc[\"SRR13160334\", \"NC_010326.1\"]"
   ]
  },
  {
   "cell_type": "code",
   "execution_count": 20,
   "metadata": {
    "scrolled": true
   },
   "outputs": [
    {
     "data": {
      "text/plain": [
       "PGD103649        2342.361036\n",
       "PGD160433       49381.524362\n",
       "PGD104077       41788.502191\n",
       "PGD104081        4265.075158\n",
       "PGD104083       76878.857346\n",
       "PGD104085      293078.052486\n",
       "PGD104406       31649.227252\n",
       "PGD106364        3246.752871\n",
       "PGD106386        1448.627561\n",
       "PGD108270        2038.487721\n",
       "PGD108272        5863.498364\n",
       "PGD108432        1059.547779\n",
       "PGD108502        6390.911181\n",
       "PGD108728        3002.050726\n",
       "PGD108736        1081.853486\n",
       "PGD108988        4413.267491\n",
       "PGD108992        3343.024650\n",
       "PGD109078        1158.489609\n",
       "PGD109349        1236.380258\n",
       "PGD160435       56823.167704\n",
       "PGD110308        1315.553032\n",
       "PGD110468        2555.738711\n",
       "PGD111304        4693.529282\n",
       "PGD111310        3155.826357\n",
       "PGD111328        1060.940852\n",
       "PGD111338        2123.177571\n",
       "PGD111348        1440.208358\n",
       "PGD111362        1260.002507\n",
       "PGD191121        9880.317165\n",
       "PGD111380        1215.678486\n",
       "PGD111382        2321.505072\n",
       "PGD111390       30960.217732\n",
       "PGD111394       22086.621168\n",
       "PGD111396       51502.613790\n",
       "PGD111398       14797.342479\n",
       "PGD111610        1059.932837\n",
       "PGD191123       61671.636305\n",
       "PGD111924        3925.008698\n",
       "PGD111926        1481.920398\n",
       "PGD111928        4953.012806\n",
       "PGD111980        2205.571469\n",
       "PGD112010        2226.467339\n",
       "PGD112240       45419.696469\n",
       "PGD302417        3528.106882\n",
       "PGD191129       16380.588139\n",
       "PGD112342        4175.597413\n",
       "PGD112734        2011.746414\n",
       "PGD112742        4841.776351\n",
       "PGD112968        6721.715809\n",
       "PGD302403       31413.091225\n",
       "PGD113504        1084.570925\n",
       "PGD113506        1701.924296\n",
       "PGD113576        1192.314701\n",
       "PGD133886        1888.462465\n",
       "NC_010326.1      2266.456087\n",
       "Name: SRR13160334, dtype: float64"
      ]
     },
     "execution_count": 20,
     "metadata": {},
     "output_type": "execute_result"
    }
   ],
   "source": [
    "# Look at outlier genes\n",
    "nonzero_genes_pao1_sample_pao1_phage_ref[nonzero_genes_pao1_sample_pao1_phage_ref > threshold]"
   ]
  },
  {
   "cell_type": "markdown",
   "metadata": {},
   "source": [
    "## Positive case: PA14\n",
    "\n",
    "Given a PA14 sample (ERR3642743), we want to check that:\n",
    "* It aligns well to PA14 reference. \n",
    "* It has expression at Pf5 (PA14_49010, PA14_49020 in PA14 genome) which the sample is known to contain\n",
    "\n",
    "Implementation note:\n",
    "* Here is the mapping from PA14 id to sequence id: PA14_49010, PA14_49020 = PGD1658748, PGD1658750"
   ]
  },
  {
   "cell_type": "code",
   "execution_count": 21,
   "metadata": {
    "scrolled": false
   },
   "outputs": [
    {
     "name": "stdout",
     "output_type": "stream",
     "text": [
      "Total number of genes: 7195\n",
      "Percent of positive-expressed genes: 0.8308547602501737\n"
     ]
    }
   ],
   "source": [
    "# Check there is expression in PA14 sample using PA14 reference\n",
    "print(\"Total number of genes:\", len(expression_pa14_phage_df.loc[\"ERR3642743\"]))\n",
    "print(\"Percent of positive-expressed genes:\", \n",
    "      (expression_pa14_phage_df.loc[\"ERR3642743\"] > 0).sum()/len(expression_pa14_phage_df.loc[\"ERR3642743\"]))"
   ]
  },
  {
   "cell_type": "code",
   "execution_count": 22,
   "metadata": {},
   "outputs": [
    {
     "name": "stderr",
     "output_type": "stream",
     "text": [
      "/home/alexandra/anaconda3/envs/core_acc/lib/python3.7/site-packages/ipykernel_launcher.py:3: FutureWarning: Series.nonzero() is deprecated and will be removed in a future version.Use Series.to_numpy().nonzero() instead\n",
      "  This is separate from the ipykernel package so we can avoid doing imports until\n"
     ]
    },
    {
     "data": {
      "text/plain": [
       "Text(0.5, 1.0, 'Expression of PA14 sample mapped to PA14+phage reference (TPM)')"
      ]
     },
     "execution_count": 22,
     "metadata": {},
     "output_type": "execute_result"
    },
    {
     "data": {
      "image/png": "[encoded data removed]",
      "text/plain": [
       "<Figure size 432x288 with 1 Axes>"
      ]
     },
     "metadata": {
      "needs_background": "light"
     },
     "output_type": "display_data"
    }
   ],
   "source": [
    "# Plot the expression of PAO1 nonzero genes\n",
    "pa14_sample_pa14_phage_ref_series = expression_pa14_phage_df.loc[\"ERR3642743\"]\n",
    "nonzero_genes_pa14_sample_pa14_phage_ref = pa14_sample_pa14_phage_ref_series.iloc[pa14_sample_pa14_phage_ref_series.nonzero()]\n",
    "\n",
    "# Plot\n",
    "fig4 = sns.distplot(nonzero_genes_pa14_sample_pa14_phage_ref, kde=False)\n",
    "fig4.set_title(\"Expression of PA14 sample mapped to PA14+phage reference (TPM)\")\n",
    "\n",
    "# Get gene with the max expression\n",
    "#len(pa14_sample_pa14_ref_series[(pa14_sample_pa14_ref_series < 1000) & pa14_sample_pa14_ref_series > 0])/len(pa14_sample_pa14_ref_series)"
   ]
  },
  {
   "cell_type": "code",
   "execution_count": 23,
   "metadata": {},
   "outputs": [
    {
     "name": "stdout",
     "output_type": "stream",
     "text": [
      "Percent of nonzero genes below 1000: 0.9799263967882235\n"
     ]
    },
    {
     "data": {
      "image/png": "[encoded data removed]",
      "text/plain": [
       "<Figure size 432x288 with 1 Axes>"
      ]
     },
     "metadata": {
      "needs_background": "light"
     },
     "output_type": "display_data"
    }
   ],
   "source": [
    "# If we remove the outlier gene, what does the expression look like\n",
    "# Does this distribution look correct?\n",
    "# What are the genes outside of this distribution? Why are they outside\n",
    "threshold = 1000\n",
    "majority_genes_pa14_sample_pa14_phage_ref = nonzero_genes_pa14_sample_pa14_phage_ref[nonzero_genes_pa14_sample_pa14_phage_ref < threshold]\n",
    "\n",
    "print(f\"Percent of nonzero genes below {threshold}:\", \n",
    "      (len(majority_genes_pa14_sample_pa14_phage_ref))/len(nonzero_genes_pa14_sample_pa14_phage_ref))\n",
    "\n",
    "fig5 = sns.distplot(nonzero_genes_pa14_sample_pa14_phage_ref[nonzero_genes_pa14_sample_pa14_phage_ref < threshold], kde=False)"
   ]
  },
  {
   "cell_type": "code",
   "execution_count": 24,
   "metadata": {
    "scrolled": true
   },
   "outputs": [
    {
     "data": {
      "text/plain": [
       "PGD1658748     55.177163\n",
       "PGD1658750    151.759760\n",
       "Name: ERR3642743, dtype: float64"
      ]
     },
     "execution_count": 24,
     "metadata": {},
     "output_type": "execute_result"
    }
   ],
   "source": [
    "# Check there is expression in PA14 sample using PA14 reference genes: PA14_49010, PA14_49020\n",
    "expression_pa14_phage_df.loc[\"ERR3642743\", [\"PGD1658748\", \"PGD1658750\"]]"
   ]
  },
  {
   "cell_type": "code",
   "execution_count": 25,
   "metadata": {
    "scrolled": true
   },
   "outputs": [
    {
     "data": {
      "text/plain": [
       "PGD1650913       1327.289580\n",
       "PGD1651083       1399.706982\n",
       "PGD1651783       6068.096270\n",
       "PGD1651899       1479.981213\n",
       "PGD1651917       3796.945773\n",
       "PGD1651921     128744.701456\n",
       "PGD1651975       1750.237390\n",
       "PGD1652003       1125.878813\n",
       "PGD1652021       1322.755353\n",
       "PGD1652033       2118.803078\n",
       "PGD1652207       1117.345161\n",
       "PGD1652209       1300.240368\n",
       "PGD1652211      20802.586355\n",
       "PGD1652213       3526.318404\n",
       "PGD1652215       7622.927377\n",
       "PGD1652223      16711.571066\n",
       "PGD1652225      14346.869175\n",
       "PGD1652227      15445.029799\n",
       "PGD1652231       6276.398710\n",
       "PGD1652233       1037.797995\n",
       "PGD1652263       1302.388480\n",
       "PGD1652267       1060.090486\n",
       "PGD1652275       2593.137980\n",
       "PGD1652277       1216.830200\n",
       "PGD1652295       3082.140688\n",
       "PGD1652301       6272.382521\n",
       "PGD1652505       5178.934500\n",
       "PGD1652523       1058.758469\n",
       "PGD1652803       1024.330527\n",
       "PGD1653062       1129.371063\n",
       "                   ...      \n",
       "PGD1660602       1013.009989\n",
       "PGD1660640       5873.596643\n",
       "PGD1660682       1203.265527\n",
       "PGD1660690       5407.106105\n",
       "PGD1660692       1351.822341\n",
       "PGD1660780       1146.867339\n",
       "PGD1660904      34443.820261\n",
       "PGD1660954       1586.846956\n",
       "PGD1661058       1881.278231\n",
       "PGD1661064       2047.304266\n",
       "PGD1661076       2616.306694\n",
       "PGD1661078      10576.894061\n",
       "PGD1661080       1221.123263\n",
       "PGD1661244       2515.374536\n",
       "PGD1661464       2570.649924\n",
       "PGD1661472       9051.818712\n",
       "PGD1661480       1639.442771\n",
       "PGD1661488       2421.846389\n",
       "PGD1661700       1477.828362\n",
       "PGD1661820       1370.303590\n",
       "PGD1662248      12300.928181\n",
       "PGD1662250      10480.930846\n",
       "PGD1662318       1055.738918\n",
       "PGD1662478       1154.260202\n",
       "PGD1662526       1941.745231\n",
       "PGD1662616       2282.108825\n",
       "PGD21131237      1574.417893\n",
       "PGD1662622       2406.030912\n",
       "PGD1662754       4275.440419\n",
       "PGD1662774       1456.346300\n",
       "Name: ERR3642743, Length: 120, dtype: float64"
      ]
     },
     "execution_count": 25,
     "metadata": {},
     "output_type": "execute_result"
    }
   ],
   "source": [
    "# Look at outlier genes\n",
    "nonzero_genes_pa14_sample_pa14_phage_ref[nonzero_genes_pa14_sample_pa14_phage_ref > threshold]"
   ]
  },
  {
   "cell_type": "markdown",
   "metadata": {},
   "source": [
    "**Takeaways:**\n",
    "\n",
    "As expected,\n",
    "* 92%, 96% of genes in E. Coli samples had 0 expression using PAO1+phage reference and PA14+phage reference respectively\n",
    "* 78% of genes in PAO1 sample had positive expression using PAO1+phage reference, including phage gene it was known to contain\n",
    "* 83% of genes in PA14 sample had positive expression using PA14+phage reference, including phage gene it was known to contain\n",
    "* Of the genes that had nonzero expression, most (97-98%) were < 1000 TPM nonzero genes were found. Genes exceeding this threshold are rRNAs, tRNAs\n",
    "\n",
    "On the other hand we found some unexpected mapping_rates.\n",
    "* Some rates are nearly equal when mapping a PAO1 sample using the PAO1 reference versus PA14 reference\n",
    "* Overall many mappings are close to around 50% which seems low\n",
    "* No clear trend relating processing methods to the samples that had unexpected mapping patterns\n",
    "\n",
    "(Slide 10): https://docs.google.com/presentation/d/1QqyNcvyLF83bdxgqyGFV2fLSfSs2yP-9eg8fQeSN5mU/edit?usp=sharing\n",
    "\n",
    "TO DO:\n",
    "* BLAST sequences that should differ between PAO1 and PA14 against PAO1 and PA14 references to make sure that the PA14 reference actually contains PA14 sequences."
   ]
  }
 ],
 "metadata": {
  "kernelspec": {
   "display_name": "Python [conda env:core_acc] *",
   "language": "python",
   "name": "conda-env-core_acc-py"
  },
  "language_info": {
   "codemirror_mode": {
    "name": "ipython",
    "version": 3
   },
   "file_extension": ".py",
   "mimetype": "text/x-python",
   "name": "python",
   "nbconvert_exporter": "python",
   "pygments_lexer": "ipython3",
   "version": "3.7.9"
  }
 },
 "nbformat": 4,
 "nbformat_minor": 4
}
