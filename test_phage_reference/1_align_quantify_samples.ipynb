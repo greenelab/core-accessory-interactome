{
 "cells": [
  {
   "cell_type": "markdown",
   "metadata": {},
   "source": [
    "# Aign and quantify samples\n",
    "\n",
    "This notebook aligns test samples against the phage reference genome\n",
    "\n",
    "*Positive test cases:*\n",
    "* ???\n",
    "\n",
    "*Negative test cases:*\n",
    "* E. Coli sample\n",
    "* Pseudomonas sample containing only core genes"
   ]
  },
  {
   "cell_type": "code",
   "execution_count": 1,
   "metadata": {},
   "outputs": [],
   "source": [
    "%load_ext autoreload\n",
    "%autoreload 2\n",
    "\n",
    "import os\n",
    "from pathlib import Path\n",
    "import pandas as pd\n",
    "import numpy as np\n",
    "from core_acc_modules import utils, paths_phage\n",
    "\n",
    "np.random.seed(123)"
   ]
  },
  {
   "cell_type": "markdown",
   "metadata": {},
   "source": [
    "### Setup SRA toolkit -- only needs to be run once"
   ]
  },
  {
   "cell_type": "code",
   "execution_count": 2,
   "metadata": {},
   "outputs": [],
   "source": [
    "# Download latest version of compiled binaries of NCBI SRA toolkit \n",
    "#if not os.path.exists(\"sratoolkit.current-centos_linux64.tar.gz\"):\n",
    "#    ! wget \"ftp://ftp-trace.ncbi.nlm.nih.gov/sra/sdk/current/sratoolkit.current-centos_linux64.tar.gz\""
   ]
  },
  {
   "cell_type": "code",
   "execution_count": 3,
   "metadata": {},
   "outputs": [],
   "source": [
    "# Extract tar.gz file \n",
    "#if os.path.exists(\"sratoolkit.current-centos_linux64.tar.gz\"):\n",
    "#    ! tar -xzf sratoolkit.current-centos_linux64.tar.gz\n",
    "\n",
    "# add binaries to path using export path or editing ~/.bashrc file\n",
    "#! export PATH=$PATH:sratoolkit.2.10.7-centos_linux64/bin\n",
    "\n",
    "# Now SRA binaries added to path and ready to use"
   ]
  },
  {
   "cell_type": "markdown",
   "metadata": {},
   "source": [
    "### Download SRA data"
   ]
  },
  {
   "cell_type": "code",
   "execution_count": 4,
   "metadata": {
    "scrolled": true
   },
   "outputs": [
    {
     "data": {
      "text/plain": [
       "'# Download sra data files\\n! prefetch --option-file $paths.SRA_ACC '"
      ]
     },
     "execution_count": 4,
     "metadata": {},
     "output_type": "execute_result"
    }
   ],
   "source": [
    "\"\"\"# Download sra data files\n",
    "! prefetch --option-file $paths.SRA_ACC \"\"\""
   ]
  },
  {
   "cell_type": "markdown",
   "metadata": {},
   "source": [
    "### Get FASTQ files associated with SRA downloads\n",
    "\n",
    "The fastq files store the RNA-seq results, including: sequencing and quality scores for each base call.\n",
    "\n",
    "Here is a nice blog to explain how to read fastq files: https://thesequencingcenter.com/knowledge-base/fastq-files/\n",
    "\n",
    "The fastq files gives the sequence of a read at a given location. Our goal is to map these reads to a reference genome so that we can quantify the number of reads that are at a given location, to determine the level of expression."
   ]
  },
  {
   "cell_type": "code",
   "execution_count": 5,
   "metadata": {},
   "outputs": [],
   "source": [
    "#!mkdir $paths.FASTQ_DIR"
   ]
  },
  {
   "cell_type": "code",
   "execution_count": 6,
   "metadata": {
    "scrolled": true
   },
   "outputs": [],
   "source": [
    "#!fastq-dump $paths.SRA_DIR/* --split-files --outdir $paths.FASTQ_DIR/"
   ]
  },
  {
   "cell_type": "markdown",
   "metadata": {},
   "source": [
    "### Obtain a transcriptome and build an index\n",
    "\n",
    "Here we are using [Salmon](https://combine-lab.github.io/salmon/)\n",
    "\n",
    "**Input:**\n",
    "* Target transcriptome\n",
    "* This transcriptome is given to Salmon in the form of a (possibly compressed) multi-FASTA file, with each entry providing the sequence of a transcript\n",
    "* We downloaded the phage GENOMES from NCBI GenBank\n",
    "\n",
    "**Note:** For prokaryotes, transcripts and genes have a more 1-1 mapping so we're using genes for our reference transcriptome and so we don't need to use tximport to map transcript quants to genes. \n",
    "\n",
    "**Output:**\n",
    "* The index is a structure that salmon uses to quasi-map RNA-seq reads during quantification\n",
    "* [Quasi-map](https://academic.oup.com/bioinformatics/article/32/12/i192/2288985) is a way to map sequenced fragments (single or paired-end reads) to a target transcriptome. Quasi-mapping produces what we refer to as fragment mapping information. In particular, it provides, for each query (fragment), the reference sequences (transcripts), strand and position from which the query may have likely originated. In many cases, this mapping information is sufficient for downstream analysis like quantification.\n",
    "\n",
    "*Algorithm:*\n",
    "\n",
    "For a query read r through repeated application of: \n",
    "1. Determining the next hash table k-mer that starts past the current query position\n",
    "2. Computing the maximum mappable prefix (MMP) of the query beginning with this k-mer\n",
    "3. Determining the next informative position (NIP) by performing a longest common prefix (LCP) query on two specifically chosen suffixes in the SA"
   ]
  },
  {
   "cell_type": "code",
   "execution_count": 7,
   "metadata": {},
   "outputs": [],
   "source": [
    "#! salmon index -t $paths_phage.PAO1_REF -i $paths_phage.PAO1_INDEX"
   ]
  },
  {
   "cell_type": "code",
   "execution_count": null,
   "metadata": {
    "scrolled": true
   },
   "outputs": [
    {
     "name": "stdout",
     "output_type": "stream",
     "text": [
      "Version Info: ### PLEASE UPGRADE SALMON ###\n",
      "### A newer version of salmon with important bug fixes and improvements is available. ####\n",
      "###\n",
      "The newest version, available at https://github.com/COMBINE-lab/salmon/releases\n",
      "contains new features, improvements, and bug fixes; please upgrade at your\n",
      "earliest convenience.\n",
      "###\n",
      "Sign up for the salmon mailing list to hear about new versions, features and updates at:\n",
      "https://oceangenomics.com/subscribe\n",
      "###\n",
      "[2020-12-15 17:51:18.938] [jLog] [warning] The salmon index is being built without any decoy sequences.  It is recommended that decoy sequence (either computed auxiliary decoy sequence or the genome of the organism) be provided during indexing. Further details can be found at https://salmon.readthedocs.io/en/latest/salmon.html#preparing-transcriptome-indices-mapping-based-mode.\n",
      "[2020-12-15 17:51:18.938] [jLog] [info] building index\n",
      "out : /home/alexandra/Documents/Data/Core_accessory/phage_index\n",
      "\u001b[00m[2020-12-15 17:51:18.938] [puff::index::jointLog] [info] Running fixFasta\n",
      "\u001b[00m\n",
      "[Step 1 of 4] : counting k-mers\n",
      "\u001b[35m[2020-12-15 17:51:19.048] [puff::index::jointLog] [warning] Entry with header [NC_028999.1] was longer than 200000 nucleotides.  This is probably a chromosome instead of a transcript.\n",
      "\u001b[00m\u001b[35m[2020-12-15 17:51:19.054] [puff::index::jointLog] [warning] Entry with header [HQ630627.1] was longer than 200000 nucleotides.  This is probably a chromosome instead of a transcript.\n",
      "\u001b[00m\u001b[35m[2020-12-15 17:51:19.060] [puff::index::jointLog] [warning] Entry with header [MT133560.1] was longer than 200000 nucleotides.  This is probably a chromosome instead of a transcript.\n",
      "\u001b[00m\u001b[35m[2020-12-15 17:51:19.067] [puff::index::jointLog] [warning] Entry with header [MK599315.1] was longer than 200000 nucleotides.  This is probably a chromosome instead of a transcript.\n",
      "\u001b[00m\u001b[35m[2020-12-15 17:51:19.325] [puff::index::jointLog] [warning] Entry with header [CP029707.1] was longer than 200000 nucleotides.  This is probably a chromosome instead of a transcript.\n",
      "\u001b[00m\u001b[35m[2020-12-15 17:51:19.377] [puff::index::jointLog] [warning] Entry with header [LR588166.1] was longer than 200000 nucleotides.  This is probably a chromosome instead of a transcript.\n",
      "\u001b[00m\u001b[35m[2020-12-15 17:51:19.383] [puff::index::jointLog] [warning] Entry with header [AP019418.1] was longer than 200000 nucleotides.  This is probably a chromosome instead of a transcript.\n",
      "\u001b[00m\u001b[35m[2020-12-15 17:51:19.398] [puff::index::jointLog] [warning] Entry with header [NC_007623.1] was longer than 200000 nucleotides.  This is probably a chromosome instead of a transcript.\n",
      "\u001b[00m\u001b[35m[2020-12-15 17:51:19.439] [puff::index::jointLog] [warning] Entry with header [AJ697969.1] was longer than 200000 nucleotides.  This is probably a chromosome instead of a transcript.\n",
      "\u001b[00m\u001b[35m[2020-12-15 17:51:19.523] [puff::index::jointLog] [warning] Entry with header [NC_010821.1] was longer than 200000 nucleotides.  This is probably a chromosome instead of a transcript.\n",
      "\u001b[00m\u001b[35m[2020-12-15 17:51:19.568] [puff::index::jointLog] [warning] Entry with header [MK797984.1] was longer than 200000 nucleotides.  This is probably a chromosome instead of a transcript.\n",
      "\u001b[00m\u001b[35m[2020-12-15 17:51:19.584] [puff::index::jointLog] [warning] Entry with header [EU197055.1] was longer than 200000 nucleotides.  This is probably a chromosome instead of a transcript.\n",
      "\u001b[00m\u001b[35m[2020-12-15 17:51:19.625] [puff::index::jointLog] [warning] Entry with header [NC_017972.1] was longer than 200000 nucleotides.  This is probably a chromosome instead of a transcript.\n",
      "\u001b[00m\u001b[35m[2020-12-15 17:51:19.650] [puff::index::jointLog] [warning] Entry with header [JQ768459.1] was longer than 200000 nucleotides.  This is probably a chromosome instead of a transcript.\n",
      "\u001b[00m\u001b[35m[2020-12-15 17:51:19.666] [puff::index::jointLog] [warning] Entry with header [NC_022096.1] was longer than 200000 nucleotides.  This is probably a chromosome instead of a transcript.\n",
      "\u001b[00m\u001b[35m[2020-12-15 17:51:19.671] [puff::index::jointLog] [warning] Entry with header [KF147891.1] was longer than 200000 nucleotides.  This is probably a chromosome instead of a transcript.\n",
      "\u001b[00m\u001b[35m[2020-12-15 17:51:19.700] [puff::index::jointLog] [warning] Entry with header [NC_016571.1] was longer than 200000 nucleotides.  This is probably a chromosome instead of a transcript.\n",
      "\u001b[00m\u001b[35m[2020-12-15 17:51:19.750] [puff::index::jointLog] [warning] Entry with header [JN627160.1] was longer than 200000 nucleotides.  This is probably a chromosome instead of a transcript.\n",
      "\u001b[00m\u001b[35m[2020-12-15 17:51:19.804] [puff::index::jointLog] [warning] Entry with header [NC_041994.1] was longer than 200000 nucleotides.  This is probably a chromosome instead of a transcript.\n",
      "\u001b[00m\u001b[35m[2020-12-15 17:51:19.823] [puff::index::jointLog] [warning] Entry with header [MF063068.1] was longer than 200000 nucleotides.  This is probably a chromosome instead of a transcript.\n",
      "\u001b[00m\u001b[35m[2020-12-15 17:51:19.907] [puff::index::jointLog] [warning] Entry with header [MK552327.1] was longer than 200000 nucleotides.  This is probably a chromosome instead of a transcript.\n",
      "\u001b[00m\u001b[35m[2020-12-15 17:51:19.943] [puff::index::jointLog] [warning] Entry with header [MF042360.1] was longer than 200000 nucleotides.  This is probably a chromosome instead of a transcript.\n",
      "\u001b[00m\u001b[35m[2020-12-15 17:51:19.954] [puff::index::jointLog] [warning] Entry with header [KU521356.1] was longer than 200000 nucleotides.  This is probably a chromosome instead of a transcript.\n",
      "\u001b[00m\u001b[35m[2020-12-15 17:51:19.988] [puff::index::jointLog] [warning] Entry with header [MW057919.1] was longer than 200000 nucleotides.  This is probably a chromosome instead of a transcript.\n",
      "\u001b[00m\u001b[35m[2020-12-15 17:51:20.002] [puff::index::jointLog] [warning] Entry with header [NC_042081.1] was longer than 200000 nucleotides.  This is probably a chromosome instead of a transcript.\n",
      "\u001b[00m\u001b[35m[2020-12-15 17:51:20.171] [puff::index::jointLog] [warning] Entry with header [NZ_CP029707.1] was longer than 200000 nucleotides.  This is probably a chromosome instead of a transcript.\n",
      "\u001b[00m\u001b[35m[2020-12-15 17:51:20.186] [puff::index::jointLog] [warning] Entry with header [MN103543.1] was longer than 200000 nucleotides.  This is probably a chromosome instead of a transcript.\n",
      "\u001b[00m\u001b[35m[2020-12-15 17:51:20.230] [puff::index::jointLog] [warning] Entry with header [MF805716.1] was longer than 200000 nucleotides.  This is probably a chromosome instead of a transcript.\n",
      "\u001b[00m\u001b[35m[2020-12-15 17:51:20.362] [puff::index::jointLog] [warning] Entry with header [NC_004629.1] was longer than 200000 nucleotides.  This is probably a chromosome instead of a transcript.\n",
      "\u001b[00m\u001b[35m[2020-12-15 17:51:20.387] [puff::index::jointLog] [warning] Entry with header [MN871489.1] was longer than 200000 nucleotides.  This is probably a chromosome instead of a transcript.\n",
      "\u001b[00m\u001b[35m[2020-12-15 17:51:20.403] [puff::index::jointLog] [warning] Entry with header [MN871480.1] was longer than 200000 nucleotides.  This is probably a chromosome instead of a transcript.\n",
      "\u001b[00m\u001b[35m[2020-12-15 17:51:20.437] [puff::index::jointLog] [warning] Entry with header [NC_042060.1] was longer than 200000 nucleotides.  This is probably a chromosome instead of a transcript.\n",
      "\u001b[00m\u001b[35m[2020-12-15 17:51:20.486] [puff::index::jointLog] [warning] Entry with header [AF399011.1] was longer than 200000 nucleotides.  This is probably a chromosome instead of a transcript.\n",
      "\u001b[00m\u001b[35m[2020-12-15 17:51:20.492] [puff::index::jointLog] [warning] Entry with header [JX233784.1] was longer than 200000 nucleotides.  This is probably a chromosome instead of a transcript.\n",
      "\u001b[00m\u001b[35m[2020-12-15 17:51:20.571] [puff::index::jointLog] [warning] Entry with header [DI373487.1] was longer than 200000 nucleotides.  This is probably a chromosome instead of a transcript.\n",
      "\u001b[00m\n",
      "\u001b[35m[2020-12-15 17:51:20.571] [puff::index::jointLog] [warning] Removed 391 transcripts that were sequence duplicates of indexed transcripts.\n",
      "\u001b[00m\u001b[35m[2020-12-15 17:51:20.571] [puff::index::jointLog] [warning] If you wish to retain duplicate transcripts, please use the `--keepDuplicates` flag\n",
      "\u001b[00m\u001b[00m[2020-12-15 17:51:20.572] [puff::index::jointLog] [info] Replaced 6,326 non-ATCG nucleotides\n",
      "\u001b[00m\u001b[00m[2020-12-15 17:51:20.572] [puff::index::jointLog] [info] Clipped poly-A tails from 0 transcripts\n"
     ]
    },
    {
     "name": "stdout",
     "output_type": "stream",
     "text": [
      "\u001b[00mwrote 1128 cleaned references\n",
      "\u001b[00m[2020-12-15 17:51:20.619] [puff::index::jointLog] [info] Filter size not provided; estimating from number of distinct k-mers\n",
      "\u001b[00m\u001b[00m[2020-12-15 17:51:20.951] [puff::index::jointLog] [info] ntHll estimated 22009247 distinct k-mers, setting filter size to 2^29\n",
      "\u001b[00mThreads = 2\n",
      "Vertex length = 31\n",
      "Hash functions = 5\n",
      "Filter size = 536870912\n",
      "Capacity = 2\n",
      "Files: \n",
      "/home/alexandra/Documents/Data/Core_accessory/phage_index/ref_k31_fixed.fa\n",
      "--------------------------------------------------------------------------------\n",
      "Round 0, 0:536870912\n",
      "Pass\tFilling\tFiltering\n",
      "1\t6\t13\t\n",
      "2\t1\t0\n",
      "True junctions count = 183497\n",
      "False junctions count = 203448\n",
      "Hash table size = 386945\n",
      "Candidate marks count = 3294042\n",
      "--------------------------------------------------------------------------------\n",
      "Reallocating bifurcations time: 1\n",
      "True marks count: 2238898\n",
      "Edges construction time: 1\n",
      "--------------------------------------------------------------------------------\n",
      "Distinct junctions = 183497\n",
      "\n",
      "allowedIn: 11\n",
      "Max Junction ID: 184101\n",
      "seen.size():1472817 kmerInfo.size():184102\n",
      "approximateContigTotalLength: 10966072\n",
      "counters for complex kmers:\n",
      "(prec>1 & succ>1)=3091 | (succ>1 & isStart)=10 | (prec>1 & isEnd)=23 | (isStart & isEnd)=2\n"
     ]
    }
   ],
   "source": [
    "! salmon index -t $paths_phage.PHAGE_REF -i $paths_phage.PHAGE_INDEX"
   ]
  },
  {
   "cell_type": "markdown",
   "metadata": {},
   "source": [
    "### Quantify gene expression\n",
    "Now that we have our index built and all of our data downloaded, we’re ready to quantify our samples\n",
    "\n",
    "**Input:**\n",
    "* Index of reference transcriptome\n",
    "* FASTQ of experimental samples\n",
    "\n",
    "**Output:**\n",
    "\n",
    "After the salmon commands finish running, you should have a directory named quants, which will have a sub-directory for each sample. These sub-directories contain the quantification results of salmon, as well as a lot of other information salmon records about the sample and the run. \n",
    "\n",
    "The main output file (called `quant.sf`). Inside the quantification file for sample DRR016125 in quants/DRR016125/quant.sf, you’ll see a TSV format file listing the name (`Name`) of each transcript, its length (`Length`), effective length (`EffectiveLength`), and its abundance in terms of Transcripts Per Million (`TPM`) and estimated number of reads (`NumReads`) originating from this transcript.\n",
    "\n",
    "**For each sample we have read counts per gene (where the genes are based on the reference gene file provided above).** "
   ]
  },
  {
   "cell_type": "markdown",
   "metadata": {},
   "source": [
    "#### Get quants using phage reference"
   ]
  },
  {
   "cell_type": "code",
   "execution_count": null,
   "metadata": {
    "scrolled": true
   },
   "outputs": [],
   "source": [
    "%%bash -s $paths_phage.PHAGE_QUANT $paths_phage.FASTQ_DIR $paths_phage.PHAGE_INDEX\n",
    "mkdir $1\n",
    "\n",
    "for FILE_PATH in $2/*;\n",
    "do\n",
    "\n",
    "# get file name\n",
    "sample_name=`basename ${FILE_PATH}`\n",
    "\n",
    "# remove extension from file name\n",
    "sample_name=\"${sample_name%_*}\"\n",
    "\n",
    "# get base path\n",
    "base_name=${FILE_PATH%/*}\n",
    "\n",
    "echo \"Processing sample ${sample_name}\"\n",
    "\n",
    "salmon quant -i $3 -l A \\\n",
    "            -1 ${base_name}/${sample_name}_1.fastq \\\n",
    "            -2 ${base_name}/${sample_name}_2.fastq \\\n",
    "            -p 8 --validateMappings -o $1/${sample_name}_quant\n",
    "done"
   ]
  },
  {
   "cell_type": "markdown",
   "metadata": {},
   "source": [
    "### Consolidate sample quantification to gene expression dataframe"
   ]
  },
  {
   "cell_type": "code",
   "execution_count": null,
   "metadata": {},
   "outputs": [],
   "source": [
    "# PAO1\n",
    "# Read through all sample subdirectories in quant/\n",
    "# Within each sample subdirectory, get quant.sf file\n",
    "data_dir = paths_phage.PHAGE_QUANT\n",
    "\n",
    "expression_phage_df = pd.DataFrame(\n",
    "    pd.read_csv(file, sep=\"\\t\", index_col=0)[\"TPM\"].\n",
    "    rename(file.parent.name.split(\"_\")[0]) \n",
    "    for file in data_dir.rglob(\"*/quant.sf\"))    \n",
    "\n",
    "expression_phage_df.head()"
   ]
  },
  {
   "cell_type": "code",
   "execution_count": null,
   "metadata": {},
   "outputs": [],
   "source": [
    "# Save gene expression data\n",
    "expression_phage_df.to_csv(paths_phage.PHAGE_GE, sep='\\t')"
   ]
  }
 ],
 "metadata": {
  "kernelspec": {
   "display_name": "Python [conda env:core_acc] *",
   "language": "python",
   "name": "conda-env-core_acc-py"
  },
  "language_info": {
   "codemirror_mode": {
    "name": "ipython",
    "version": 3
   },
   "file_extension": ".py",
   "mimetype": "text/x-python",
   "name": "python",
   "nbconvert_exporter": "python",
   "pygments_lexer": "ipython3",
   "version": "3.7.8"
  }
 },
 "nbformat": 4,
 "nbformat_minor": 4
}
