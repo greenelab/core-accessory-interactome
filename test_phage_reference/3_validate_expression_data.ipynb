{
 "cells": [
  {
   "cell_type": "markdown",
   "metadata": {},
   "source": [
    "# Validate expression data"
   ]
  },
  {
   "cell_type": "code",
   "execution_count": 1,
   "metadata": {},
   "outputs": [
    {
     "name": "stderr",
     "output_type": "stream",
     "text": [
      "/home/alexandra/anaconda3/envs/core_acc/lib/python3.7/site-packages/matplotlib/__init__.py:886: MatplotlibDeprecationWarning: \n",
      "examples.directory is deprecated; in the future, examples will be found relative to the 'datapath' directory.\n",
      "  \"found relative to the 'datapath' directory.\".format(key))\n"
     ]
    }
   ],
   "source": [
    "import seaborn as sns\n",
    "import pandas as pd\n",
    "from core_acc_modules import paths"
   ]
  },
  {
   "cell_type": "code",
   "execution_count": 2,
   "metadata": {},
   "outputs": [],
   "source": [
    "# Load expression data\n",
    "expression_phage_df = pd.read_csv(paths.PHAGE_GE, sep='\\t', index_col=0, header=0)\n",
    "expression_pao1_df = pd.read_csv(paths.PAO1_GE, sep='\\t', index_col=0, header=0)"
   ]
  },
  {
   "cell_type": "code",
   "execution_count": 21,
   "metadata": {},
   "outputs": [
    {
     "data": {
      "text/html": [
       "<div>\n",
       "<style scoped>\n",
       "    .dataframe tbody tr th:only-of-type {\n",
       "        vertical-align: middle;\n",
       "    }\n",
       "\n",
       "    .dataframe tbody tr th {\n",
       "        vertical-align: top;\n",
       "    }\n",
       "\n",
       "    .dataframe thead th {\n",
       "        text-align: right;\n",
       "    }\n",
       "</style>\n",
       "<table border=\"1\" class=\"dataframe\">\n",
       "  <thead>\n",
       "    <tr style=\"text-align: right;\">\n",
       "      <th></th>\n",
       "      <th>NC_028999.1</th>\n",
       "      <th>MT133560.1</th>\n",
       "      <th>MK599315.1</th>\n",
       "      <th>MH725810.1</th>\n",
       "      <th>MF974178.1</th>\n",
       "      <th>NC_016765.1</th>\n",
       "      <th>NC_031063.1</th>\n",
       "      <th>NC_027375.1</th>\n",
       "      <th>NC_011810.1</th>\n",
       "      <th>MT108726.1</th>\n",
       "      <th>...</th>\n",
       "      <th>DI373497.1</th>\n",
       "      <th>DI373496.1</th>\n",
       "      <th>DI373495.1</th>\n",
       "      <th>DI373494.1</th>\n",
       "      <th>DI373493.1</th>\n",
       "      <th>DI373492.1</th>\n",
       "      <th>DI373491.1</th>\n",
       "      <th>DI373490.1</th>\n",
       "      <th>DI373489.1</th>\n",
       "      <th>DI373488.1</th>\n",
       "    </tr>\n",
       "  </thead>\n",
       "  <tbody>\n",
       "    <tr>\n",
       "      <th>SRR13196071</th>\n",
       "      <td>0.0</td>\n",
       "      <td>0.0</td>\n",
       "      <td>0.0</td>\n",
       "      <td>0.0</td>\n",
       "      <td>0.0</td>\n",
       "      <td>0.0</td>\n",
       "      <td>0.0</td>\n",
       "      <td>0.0</td>\n",
       "      <td>0.0</td>\n",
       "      <td>0.0</td>\n",
       "      <td>...</td>\n",
       "      <td>0.0</td>\n",
       "      <td>0.0</td>\n",
       "      <td>0.0</td>\n",
       "      <td>0.0</td>\n",
       "      <td>0.0</td>\n",
       "      <td>0.0</td>\n",
       "      <td>0.0</td>\n",
       "      <td>0.0</td>\n",
       "      <td>0.0</td>\n",
       "      <td>0.0</td>\n",
       "    </tr>\n",
       "    <tr>\n",
       "      <th>SRR13196068</th>\n",
       "      <td>0.0</td>\n",
       "      <td>0.0</td>\n",
       "      <td>0.0</td>\n",
       "      <td>0.0</td>\n",
       "      <td>0.0</td>\n",
       "      <td>0.0</td>\n",
       "      <td>0.0</td>\n",
       "      <td>0.0</td>\n",
       "      <td>0.0</td>\n",
       "      <td>0.0</td>\n",
       "      <td>...</td>\n",
       "      <td>0.0</td>\n",
       "      <td>0.0</td>\n",
       "      <td>0.0</td>\n",
       "      <td>0.0</td>\n",
       "      <td>0.0</td>\n",
       "      <td>0.0</td>\n",
       "      <td>0.0</td>\n",
       "      <td>0.0</td>\n",
       "      <td>0.0</td>\n",
       "      <td>0.0</td>\n",
       "    </tr>\n",
       "    <tr>\n",
       "      <th>SRR12922100</th>\n",
       "      <td>0.0</td>\n",
       "      <td>0.0</td>\n",
       "      <td>0.0</td>\n",
       "      <td>0.0</td>\n",
       "      <td>0.0</td>\n",
       "      <td>0.0</td>\n",
       "      <td>0.0</td>\n",
       "      <td>0.0</td>\n",
       "      <td>0.0</td>\n",
       "      <td>0.0</td>\n",
       "      <td>...</td>\n",
       "      <td>0.0</td>\n",
       "      <td>0.0</td>\n",
       "      <td>0.0</td>\n",
       "      <td>0.0</td>\n",
       "      <td>0.0</td>\n",
       "      <td>0.0</td>\n",
       "      <td>0.0</td>\n",
       "      <td>0.0</td>\n",
       "      <td>0.0</td>\n",
       "      <td>0.0</td>\n",
       "    </tr>\n",
       "    <tr>\n",
       "      <th>SRR11809598</th>\n",
       "      <td>0.0</td>\n",
       "      <td>0.0</td>\n",
       "      <td>0.0</td>\n",
       "      <td>0.0</td>\n",
       "      <td>0.0</td>\n",
       "      <td>0.0</td>\n",
       "      <td>0.0</td>\n",
       "      <td>0.0</td>\n",
       "      <td>0.0</td>\n",
       "      <td>0.0</td>\n",
       "      <td>...</td>\n",
       "      <td>0.0</td>\n",
       "      <td>0.0</td>\n",
       "      <td>0.0</td>\n",
       "      <td>0.0</td>\n",
       "      <td>0.0</td>\n",
       "      <td>0.0</td>\n",
       "      <td>0.0</td>\n",
       "      <td>0.0</td>\n",
       "      <td>0.0</td>\n",
       "      <td>0.0</td>\n",
       "    </tr>\n",
       "  </tbody>\n",
       "</table>\n",
       "<p>4 rows × 1128 columns</p>\n",
       "</div>"
      ],
      "text/plain": [
       "             NC_028999.1  MT133560.1  MK599315.1  MH725810.1  MF974178.1  \\\n",
       "SRR13196071          0.0         0.0         0.0         0.0         0.0   \n",
       "SRR13196068          0.0         0.0         0.0         0.0         0.0   \n",
       "SRR12922100          0.0         0.0         0.0         0.0         0.0   \n",
       "SRR11809598          0.0         0.0         0.0         0.0         0.0   \n",
       "\n",
       "             NC_016765.1  NC_031063.1  NC_027375.1  NC_011810.1  MT108726.1  \\\n",
       "SRR13196071          0.0          0.0          0.0          0.0         0.0   \n",
       "SRR13196068          0.0          0.0          0.0          0.0         0.0   \n",
       "SRR12922100          0.0          0.0          0.0          0.0         0.0   \n",
       "SRR11809598          0.0          0.0          0.0          0.0         0.0   \n",
       "\n",
       "             ...  DI373497.1  DI373496.1  DI373495.1  DI373494.1  DI373493.1  \\\n",
       "SRR13196071  ...         0.0         0.0         0.0         0.0         0.0   \n",
       "SRR13196068  ...         0.0         0.0         0.0         0.0         0.0   \n",
       "SRR12922100  ...         0.0         0.0         0.0         0.0         0.0   \n",
       "SRR11809598  ...         0.0         0.0         0.0         0.0         0.0   \n",
       "\n",
       "             DI373492.1  DI373491.1  DI373490.1  DI373489.1  DI373488.1  \n",
       "SRR13196071         0.0         0.0         0.0         0.0         0.0  \n",
       "SRR13196068         0.0         0.0         0.0         0.0         0.0  \n",
       "SRR12922100         0.0         0.0         0.0         0.0         0.0  \n",
       "SRR11809598         0.0         0.0         0.0         0.0         0.0  \n",
       "\n",
       "[4 rows x 1128 columns]"
      ]
     },
     "execution_count": 21,
     "metadata": {},
     "output_type": "execute_result"
    }
   ],
   "source": [
    "expression_phage_df"
   ]
  },
  {
   "cell_type": "code",
   "execution_count": 22,
   "metadata": {},
   "outputs": [
    {
     "data": {
      "text/html": [
       "<div>\n",
       "<style scoped>\n",
       "    .dataframe tbody tr th:only-of-type {\n",
       "        vertical-align: middle;\n",
       "    }\n",
       "\n",
       "    .dataframe tbody tr th {\n",
       "        vertical-align: top;\n",
       "    }\n",
       "\n",
       "    .dataframe thead th {\n",
       "        text-align: right;\n",
       "    }\n",
       "</style>\n",
       "<table border=\"1\" class=\"dataframe\">\n",
       "  <thead>\n",
       "    <tr style=\"text-align: right;\">\n",
       "      <th></th>\n",
       "      <th>PGD134012</th>\n",
       "      <th>PGD134018</th>\n",
       "      <th>PGD134020</th>\n",
       "      <th>PGD134022</th>\n",
       "      <th>PGD134024</th>\n",
       "      <th>PGD134014</th>\n",
       "      <th>PGD134016</th>\n",
       "      <th>PGD134026</th>\n",
       "      <th>PGD134030</th>\n",
       "      <th>PGD134032</th>\n",
       "      <th>...</th>\n",
       "      <th>PGD133904</th>\n",
       "      <th>PGD133906</th>\n",
       "      <th>PGD133902</th>\n",
       "      <th>PGD133898</th>\n",
       "      <th>PGD133900</th>\n",
       "      <th>PGD133894</th>\n",
       "      <th>PGD133896</th>\n",
       "      <th>PGD133892</th>\n",
       "      <th>PGD133884</th>\n",
       "      <th>PGD133886</th>\n",
       "    </tr>\n",
       "  </thead>\n",
       "  <tbody>\n",
       "    <tr>\n",
       "      <th>SRR7886564</th>\n",
       "      <td>231.716766</td>\n",
       "      <td>190.742049</td>\n",
       "      <td>251.434363</td>\n",
       "      <td>244.575451</td>\n",
       "      <td>232.667420</td>\n",
       "      <td>338.778285</td>\n",
       "      <td>154.619466</td>\n",
       "      <td>135.309196</td>\n",
       "      <td>197.297614</td>\n",
       "      <td>208.656767</td>\n",
       "      <td>...</td>\n",
       "      <td>384.006646</td>\n",
       "      <td>160.423009</td>\n",
       "      <td>217.461069</td>\n",
       "      <td>156.885980</td>\n",
       "      <td>207.875748</td>\n",
       "      <td>401.447266</td>\n",
       "      <td>243.877369</td>\n",
       "      <td>242.992502</td>\n",
       "      <td>246.314856</td>\n",
       "      <td>2505.558825</td>\n",
       "    </tr>\n",
       "    <tr>\n",
       "      <th>SRR7886563</th>\n",
       "      <td>221.861101</td>\n",
       "      <td>206.228200</td>\n",
       "      <td>262.510896</td>\n",
       "      <td>236.227489</td>\n",
       "      <td>218.772353</td>\n",
       "      <td>277.169311</td>\n",
       "      <td>172.770017</td>\n",
       "      <td>131.655150</td>\n",
       "      <td>203.906846</td>\n",
       "      <td>195.419829</td>\n",
       "      <td>...</td>\n",
       "      <td>422.431994</td>\n",
       "      <td>186.070549</td>\n",
       "      <td>221.798564</td>\n",
       "      <td>169.894611</td>\n",
       "      <td>206.047320</td>\n",
       "      <td>364.537806</td>\n",
       "      <td>220.715998</td>\n",
       "      <td>222.137392</td>\n",
       "      <td>290.767265</td>\n",
       "      <td>1822.432926</td>\n",
       "    </tr>\n",
       "    <tr>\n",
       "      <th>SRR13196071</th>\n",
       "      <td>0.000000</td>\n",
       "      <td>0.000000</td>\n",
       "      <td>0.000000</td>\n",
       "      <td>0.000000</td>\n",
       "      <td>0.000000</td>\n",
       "      <td>0.000000</td>\n",
       "      <td>0.000000</td>\n",
       "      <td>0.000000</td>\n",
       "      <td>0.000000</td>\n",
       "      <td>0.000000</td>\n",
       "      <td>...</td>\n",
       "      <td>0.000000</td>\n",
       "      <td>0.000000</td>\n",
       "      <td>0.000000</td>\n",
       "      <td>0.000000</td>\n",
       "      <td>0.000000</td>\n",
       "      <td>0.000000</td>\n",
       "      <td>0.000000</td>\n",
       "      <td>0.000000</td>\n",
       "      <td>0.000000</td>\n",
       "      <td>0.000000</td>\n",
       "    </tr>\n",
       "    <tr>\n",
       "      <th>SRR7886556</th>\n",
       "      <td>239.035540</td>\n",
       "      <td>214.717657</td>\n",
       "      <td>274.756361</td>\n",
       "      <td>234.900934</td>\n",
       "      <td>211.425667</td>\n",
       "      <td>331.008247</td>\n",
       "      <td>182.534175</td>\n",
       "      <td>151.789441</td>\n",
       "      <td>177.389040</td>\n",
       "      <td>214.459340</td>\n",
       "      <td>...</td>\n",
       "      <td>313.613041</td>\n",
       "      <td>203.419543</td>\n",
       "      <td>219.460975</td>\n",
       "      <td>122.112693</td>\n",
       "      <td>216.618620</td>\n",
       "      <td>356.472812</td>\n",
       "      <td>204.935818</td>\n",
       "      <td>236.919636</td>\n",
       "      <td>344.232315</td>\n",
       "      <td>840.672326</td>\n",
       "    </tr>\n",
       "    <tr>\n",
       "      <th>SRR7886554</th>\n",
       "      <td>207.540231</td>\n",
       "      <td>225.539932</td>\n",
       "      <td>225.249527</td>\n",
       "      <td>219.545459</td>\n",
       "      <td>187.796107</td>\n",
       "      <td>288.503175</td>\n",
       "      <td>170.652752</td>\n",
       "      <td>152.999445</td>\n",
       "      <td>178.938258</td>\n",
       "      <td>189.161895</td>\n",
       "      <td>...</td>\n",
       "      <td>310.622609</td>\n",
       "      <td>162.000331</td>\n",
       "      <td>226.673993</td>\n",
       "      <td>151.294458</td>\n",
       "      <td>188.400366</td>\n",
       "      <td>344.227676</td>\n",
       "      <td>230.639268</td>\n",
       "      <td>215.712007</td>\n",
       "      <td>231.559415</td>\n",
       "      <td>2818.206826</td>\n",
       "    </tr>\n",
       "  </tbody>\n",
       "</table>\n",
       "<p>5 rows × 5685 columns</p>\n",
       "</div>"
      ],
      "text/plain": [
       "              PGD134012   PGD134018   PGD134020   PGD134022   PGD134024  \\\n",
       "SRR7886564   231.716766  190.742049  251.434363  244.575451  232.667420   \n",
       "SRR7886563   221.861101  206.228200  262.510896  236.227489  218.772353   \n",
       "SRR13196071    0.000000    0.000000    0.000000    0.000000    0.000000   \n",
       "SRR7886556   239.035540  214.717657  274.756361  234.900934  211.425667   \n",
       "SRR7886554   207.540231  225.539932  225.249527  219.545459  187.796107   \n",
       "\n",
       "              PGD134014   PGD134016   PGD134026   PGD134030   PGD134032  ...  \\\n",
       "SRR7886564   338.778285  154.619466  135.309196  197.297614  208.656767  ...   \n",
       "SRR7886563   277.169311  172.770017  131.655150  203.906846  195.419829  ...   \n",
       "SRR13196071    0.000000    0.000000    0.000000    0.000000    0.000000  ...   \n",
       "SRR7886556   331.008247  182.534175  151.789441  177.389040  214.459340  ...   \n",
       "SRR7886554   288.503175  170.652752  152.999445  178.938258  189.161895  ...   \n",
       "\n",
       "              PGD133904   PGD133906   PGD133902   PGD133898   PGD133900  \\\n",
       "SRR7886564   384.006646  160.423009  217.461069  156.885980  207.875748   \n",
       "SRR7886563   422.431994  186.070549  221.798564  169.894611  206.047320   \n",
       "SRR13196071    0.000000    0.000000    0.000000    0.000000    0.000000   \n",
       "SRR7886556   313.613041  203.419543  219.460975  122.112693  216.618620   \n",
       "SRR7886554   310.622609  162.000331  226.673993  151.294458  188.400366   \n",
       "\n",
       "              PGD133894   PGD133896   PGD133892   PGD133884    PGD133886  \n",
       "SRR7886564   401.447266  243.877369  242.992502  246.314856  2505.558825  \n",
       "SRR7886563   364.537806  220.715998  222.137392  290.767265  1822.432926  \n",
       "SRR13196071    0.000000    0.000000    0.000000    0.000000     0.000000  \n",
       "SRR7886556   356.472812  204.935818  236.919636  344.232315   840.672326  \n",
       "SRR7886554   344.227676  230.639268  215.712007  231.559415  2818.206826  \n",
       "\n",
       "[5 rows x 5685 columns]"
      ]
     },
     "execution_count": 22,
     "metadata": {},
     "output_type": "execute_result"
    }
   ],
   "source": [
    "expression_pao1_df.head()"
   ]
  },
  {
   "cell_type": "markdown",
   "metadata": {},
   "source": [
    "## Negative case"
   ]
  },
  {
   "cell_type": "code",
   "execution_count": 16,
   "metadata": {
    "scrolled": true
   },
   "outputs": [
    {
     "data": {
      "text/plain": [
       "<matplotlib.axes._subplots.AxesSubplot at 0x7fb2162773d0>"
      ]
     },
     "execution_count": 16,
     "metadata": {},
     "output_type": "execute_result"
    },
    {
     "data": {
      "image/png": "[encoded data removed]",
      "text/plain": [
       "<Figure size 432x288 with 1 Axes>"
      ]
     },
     "metadata": {
      "needs_background": "light"
     },
     "output_type": "display_data"
    }
   ],
   "source": [
    "# Check there is no expression in E. Coli sample using phage reference\n",
    "sns.distplot(expression_phage_df.loc[\"SRR12922100\"], kde=False)"
   ]
  },
  {
   "cell_type": "code",
   "execution_count": 17,
   "metadata": {
    "scrolled": false
   },
   "outputs": [
    {
     "data": {
      "text/plain": [
       "<matplotlib.axes._subplots.AxesSubplot at 0x7fb2161ac990>"
      ]
     },
     "execution_count": 17,
     "metadata": {},
     "output_type": "execute_result"
    },
    {
     "data": {
      "image/png": "[encoded data removed]",
      "text/plain": [
       "<Figure size 432x288 with 1 Axes>"
      ]
     },
     "metadata": {
      "needs_background": "light"
     },
     "output_type": "display_data"
    }
   ],
   "source": [
    "# Check there is no expression in E. Coli sample using PAO1 reference\n",
    "sns.distplot(expression_pao1_df.loc[\"SRR12922100\"], kde=False)"
   ]
  },
  {
   "cell_type": "markdown",
   "metadata": {},
   "source": [
    "## Positive case"
   ]
  },
  {
   "cell_type": "code",
   "execution_count": 14,
   "metadata": {
    "scrolled": true
   },
   "outputs": [
    {
     "data": {
      "text/plain": [
       "<matplotlib.axes._subplots.AxesSubplot at 0x7fb2163c09d0>"
      ]
     },
     "execution_count": 14,
     "metadata": {},
     "output_type": "execute_result"
    },
    {
     "data": {
      "image/png": "[encoded data removed]",
      "text/plain": [
       "<Figure size 432x288 with 1 Axes>"
      ]
     },
     "metadata": {
      "needs_background": "light"
     },
     "output_type": "display_data"
    }
   ],
   "source": [
    "# Check there is expression in PAO1 sample using PAO1 reference(MT118305.1)\n",
    "sns.distplot(expression_pao1_df.loc[\"SRR11809598\"], kde=False)"
   ]
  },
  {
   "cell_type": "code",
   "execution_count": 8,
   "metadata": {},
   "outputs": [
    {
     "data": {
      "text/plain": [
       "SRR13196071    0.0\n",
       "SRR13196068    0.0\n",
       "Name: MT118305.1, dtype: float64"
      ]
     },
     "execution_count": 8,
     "metadata": {},
     "output_type": "execute_result"
    }
   ],
   "source": [
    "# Check there is expression in Epa41 phage sample using phage genome (Epa41 MT118305.1)\n",
    "expression_phage_df.loc[[\"SRR13196071\", \"SRR13196068\"], \"MT118305.1\"]"
   ]
  },
  {
   "cell_type": "code",
   "execution_count": 10,
   "metadata": {},
   "outputs": [
    {
     "data": {
      "text/html": [
       "<div>\n",
       "<style scoped>\n",
       "    .dataframe tbody tr th:only-of-type {\n",
       "        vertical-align: middle;\n",
       "    }\n",
       "\n",
       "    .dataframe tbody tr th {\n",
       "        vertical-align: top;\n",
       "    }\n",
       "\n",
       "    .dataframe thead th {\n",
       "        text-align: right;\n",
       "    }\n",
       "</style>\n",
       "<table border=\"1\" class=\"dataframe\">\n",
       "  <thead>\n",
       "    <tr style=\"text-align: right;\">\n",
       "      <th></th>\n",
       "      <th>NC_028999.1</th>\n",
       "      <th>MT133560.1</th>\n",
       "      <th>MK599315.1</th>\n",
       "      <th>MH725810.1</th>\n",
       "      <th>MF974178.1</th>\n",
       "      <th>NC_016765.1</th>\n",
       "      <th>NC_031063.1</th>\n",
       "      <th>NC_027375.1</th>\n",
       "      <th>NC_011810.1</th>\n",
       "      <th>MT108726.1</th>\n",
       "      <th>...</th>\n",
       "      <th>DI373497.1</th>\n",
       "      <th>DI373496.1</th>\n",
       "      <th>DI373495.1</th>\n",
       "      <th>DI373494.1</th>\n",
       "      <th>DI373493.1</th>\n",
       "      <th>DI373492.1</th>\n",
       "      <th>DI373491.1</th>\n",
       "      <th>DI373490.1</th>\n",
       "      <th>DI373489.1</th>\n",
       "      <th>DI373488.1</th>\n",
       "    </tr>\n",
       "  </thead>\n",
       "  <tbody>\n",
       "    <tr>\n",
       "      <th>SRR13196071</th>\n",
       "      <td>0.0</td>\n",
       "      <td>0.0</td>\n",
       "      <td>0.0</td>\n",
       "      <td>0.0</td>\n",
       "      <td>0.0</td>\n",
       "      <td>0.0</td>\n",
       "      <td>0.0</td>\n",
       "      <td>0.0</td>\n",
       "      <td>0.0</td>\n",
       "      <td>0.0</td>\n",
       "      <td>...</td>\n",
       "      <td>0.0</td>\n",
       "      <td>0.0</td>\n",
       "      <td>0.0</td>\n",
       "      <td>0.0</td>\n",
       "      <td>0.0</td>\n",
       "      <td>0.0</td>\n",
       "      <td>0.0</td>\n",
       "      <td>0.0</td>\n",
       "      <td>0.0</td>\n",
       "      <td>0.0</td>\n",
       "    </tr>\n",
       "    <tr>\n",
       "      <th>SRR13196068</th>\n",
       "      <td>0.0</td>\n",
       "      <td>0.0</td>\n",
       "      <td>0.0</td>\n",
       "      <td>0.0</td>\n",
       "      <td>0.0</td>\n",
       "      <td>0.0</td>\n",
       "      <td>0.0</td>\n",
       "      <td>0.0</td>\n",
       "      <td>0.0</td>\n",
       "      <td>0.0</td>\n",
       "      <td>...</td>\n",
       "      <td>0.0</td>\n",
       "      <td>0.0</td>\n",
       "      <td>0.0</td>\n",
       "      <td>0.0</td>\n",
       "      <td>0.0</td>\n",
       "      <td>0.0</td>\n",
       "      <td>0.0</td>\n",
       "      <td>0.0</td>\n",
       "      <td>0.0</td>\n",
       "      <td>0.0</td>\n",
       "    </tr>\n",
       "  </tbody>\n",
       "</table>\n",
       "<p>2 rows × 1128 columns</p>\n",
       "</div>"
      ],
      "text/plain": [
       "             NC_028999.1  MT133560.1  MK599315.1  MH725810.1  MF974178.1  \\\n",
       "SRR13196071          0.0         0.0         0.0         0.0         0.0   \n",
       "SRR13196068          0.0         0.0         0.0         0.0         0.0   \n",
       "\n",
       "             NC_016765.1  NC_031063.1  NC_027375.1  NC_011810.1  MT108726.1  \\\n",
       "SRR13196071          0.0          0.0          0.0          0.0         0.0   \n",
       "SRR13196068          0.0          0.0          0.0          0.0         0.0   \n",
       "\n",
       "             ...  DI373497.1  DI373496.1  DI373495.1  DI373494.1  DI373493.1  \\\n",
       "SRR13196071  ...         0.0         0.0         0.0         0.0         0.0   \n",
       "SRR13196068  ...         0.0         0.0         0.0         0.0         0.0   \n",
       "\n",
       "             DI373492.1  DI373491.1  DI373490.1  DI373489.1  DI373488.1  \n",
       "SRR13196071         0.0         0.0         0.0         0.0         0.0  \n",
       "SRR13196068         0.0         0.0         0.0         0.0         0.0  \n",
       "\n",
       "[2 rows x 1128 columns]"
      ]
     },
     "execution_count": 10,
     "metadata": {},
     "output_type": "execute_result"
    }
   ],
   "source": [
    "expression_phage_df.loc[[\"SRR13196071\", \"SRR13196068\"]]"
   ]
  },
  {
   "cell_type": "code",
   "execution_count": 18,
   "metadata": {},
   "outputs": [
    {
     "data": {
      "text/plain": [
       "<matplotlib.axes._subplots.AxesSubplot at 0x7fb2160872d0>"
      ]
     },
     "execution_count": 18,
     "metadata": {},
     "output_type": "execute_result"
    },
    {
     "data": {
      "image/png": "[encoded data removed]",
      "text/plain": [
       "<Figure size 432x288 with 1 Axes>"
      ]
     },
     "metadata": {
      "needs_background": "light"
     },
     "output_type": "display_data"
    }
   ],
   "source": [
    "sns.distplot(expression_pao1_df.loc[\"SRR13196071\"])"
   ]
  },
  {
   "cell_type": "code",
   "execution_count": 19,
   "metadata": {},
   "outputs": [
    {
     "data": {
      "text/plain": [
       "<matplotlib.axes._subplots.AxesSubplot at 0x7fb216020ed0>"
      ]
     },
     "execution_count": 19,
     "metadata": {},
     "output_type": "execute_result"
    },
    {
     "data": {
      "image/png": "[encoded data removed]",
      "text/plain": [
       "<Figure size 432x288 with 1 Axes>"
      ]
     },
     "metadata": {
      "needs_background": "light"
     },
     "output_type": "display_data"
    }
   ],
   "source": [
    "sns.distplot(expression_pao1_df.loc[\"SRR13196068\"])"
   ]
  },
  {
   "cell_type": "code",
   "execution_count": 9,
   "metadata": {},
   "outputs": [
    {
     "data": {
      "text/plain": [
       "SRR13196071    0.0\n",
       "SRR13196068    0.0\n",
       "Name: NC_050144.1, dtype: float64"
      ]
     },
     "execution_count": 9,
     "metadata": {},
     "output_type": "execute_result"
    }
   ],
   "source": [
    "# Check there is expression in Epa14 phage sample using phage genome (Epa14 NC_050144.1)\n",
    "expression_phage_df.loc[[\"SRR13196071\", \"SRR13196068\"],\"NC_050144.1\"]"
   ]
  },
  {
   "cell_type": "markdown",
   "metadata": {},
   "source": [
    "**Initial Takeaways:**\n",
    "\n",
    "As expected:\n",
    "* E. Coli samples had 0 expression using phage and PAO1 references\n",
    "* PAO1 sample had expression using PAO1 reference\n",
    "* Phage samples had 0 expression using PAO1 reference\n",
    "\n",
    "Issues:\n",
    "* Pseudomonas phage Epa14, Epa41 samples had 0 expression using phage reference → Not sure why\n"
   ]
  }
 ],
 "metadata": {
  "kernelspec": {
   "display_name": "Python [conda env:core_acc] *",
   "language": "python",
   "name": "conda-env-core_acc-py"
  },
  "language_info": {
   "codemirror_mode": {
    "name": "ipython",
    "version": 3
   },
   "file_extension": ".py",
   "mimetype": "text/x-python",
   "name": "python",
   "nbconvert_exporter": "python",
   "pygments_lexer": "ipython3",
   "version": "3.7.8"
  }
 },
 "nbformat": 4,
 "nbformat_minor": 4
}
