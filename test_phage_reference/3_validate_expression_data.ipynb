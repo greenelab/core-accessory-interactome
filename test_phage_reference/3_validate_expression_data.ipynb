{
 "cells": [
  {
   "cell_type": "markdown",
   "metadata": {},
   "source": [
    "# Validate expression data"
   ]
  },
  {
   "cell_type": "code",
   "execution_count": 1,
   "metadata": {},
   "outputs": [
    {
     "name": "stderr",
     "output_type": "stream",
     "text": [
      "/home/alexandra/anaconda3/envs/core_acc/lib/python3.7/site-packages/matplotlib/__init__.py:886: MatplotlibDeprecationWarning: \n",
      "examples.directory is deprecated; in the future, examples will be found relative to the 'datapath' directory.\n",
      "  \"found relative to the 'datapath' directory.\".format(key))\n"
     ]
    }
   ],
   "source": [
    "import seaborn as sns\n",
    "import pandas as pd\n",
    "from core_acc_modules import paths"
   ]
  },
  {
   "cell_type": "code",
   "execution_count": 2,
   "metadata": {},
   "outputs": [],
   "source": [
    "# Load expression data\n",
    "\n",
    "expression_pao1_df = pd.read_csv(paths.PAO1_GE, sep='\\t', index_col=0, header=0)\n",
    "expression_pa14_df = pd.read_csv(paths.PA14_GE, sep='\\t', index_col=0, header=0)\n",
    "expression_phage_df = pd.read_csv(paths.PHAGE_GE, sep='\\t', index_col=0, header=0)"
   ]
  },
  {
   "cell_type": "code",
   "execution_count": 3,
   "metadata": {},
   "outputs": [
    {
     "data": {
      "text/html": [
       "<div>\n",
       "<style scoped>\n",
       "    .dataframe tbody tr th:only-of-type {\n",
       "        vertical-align: middle;\n",
       "    }\n",
       "\n",
       "    .dataframe tbody tr th {\n",
       "        vertical-align: top;\n",
       "    }\n",
       "\n",
       "    .dataframe thead th {\n",
       "        text-align: right;\n",
       "    }\n",
       "</style>\n",
       "<table border=\"1\" class=\"dataframe\">\n",
       "  <thead>\n",
       "    <tr style=\"text-align: right;\">\n",
       "      <th></th>\n",
       "      <th>NC_028999.1</th>\n",
       "      <th>MT133560.1</th>\n",
       "      <th>MK599315.1</th>\n",
       "      <th>MH725810.1</th>\n",
       "      <th>MF974178.1</th>\n",
       "      <th>NC_016765.1</th>\n",
       "      <th>NC_031063.1</th>\n",
       "      <th>NC_027375.1</th>\n",
       "      <th>NC_011810.1</th>\n",
       "      <th>MT108726.1</th>\n",
       "      <th>...</th>\n",
       "      <th>DI373497.1</th>\n",
       "      <th>DI373496.1</th>\n",
       "      <th>DI373495.1</th>\n",
       "      <th>DI373494.1</th>\n",
       "      <th>DI373493.1</th>\n",
       "      <th>DI373492.1</th>\n",
       "      <th>DI373491.1</th>\n",
       "      <th>DI373490.1</th>\n",
       "      <th>DI373489.1</th>\n",
       "      <th>DI373488.1</th>\n",
       "    </tr>\n",
       "  </thead>\n",
       "  <tbody>\n",
       "    <tr>\n",
       "      <th>SRR13160334</th>\n",
       "      <td>0.0</td>\n",
       "      <td>0.0</td>\n",
       "      <td>0.00000</td>\n",
       "      <td>0.0</td>\n",
       "      <td>0.0</td>\n",
       "      <td>0.0</td>\n",
       "      <td>0.0</td>\n",
       "      <td>23.371706</td>\n",
       "      <td>0.0</td>\n",
       "      <td>0.0</td>\n",
       "      <td>...</td>\n",
       "      <td>0.0</td>\n",
       "      <td>0.0</td>\n",
       "      <td>0.0</td>\n",
       "      <td>0.0</td>\n",
       "      <td>0.0</td>\n",
       "      <td>0.0</td>\n",
       "      <td>0.0</td>\n",
       "      <td>0.0</td>\n",
       "      <td>0.0</td>\n",
       "      <td>0.0</td>\n",
       "    </tr>\n",
       "    <tr>\n",
       "      <th>SRR13196071</th>\n",
       "      <td>0.0</td>\n",
       "      <td>0.0</td>\n",
       "      <td>0.00000</td>\n",
       "      <td>0.0</td>\n",
       "      <td>0.0</td>\n",
       "      <td>0.0</td>\n",
       "      <td>0.0</td>\n",
       "      <td>0.000000</td>\n",
       "      <td>0.0</td>\n",
       "      <td>0.0</td>\n",
       "      <td>...</td>\n",
       "      <td>0.0</td>\n",
       "      <td>0.0</td>\n",
       "      <td>0.0</td>\n",
       "      <td>0.0</td>\n",
       "      <td>0.0</td>\n",
       "      <td>0.0</td>\n",
       "      <td>0.0</td>\n",
       "      <td>0.0</td>\n",
       "      <td>0.0</td>\n",
       "      <td>0.0</td>\n",
       "    </tr>\n",
       "    <tr>\n",
       "      <th>ERR3642743</th>\n",
       "      <td>0.0</td>\n",
       "      <td>0.0</td>\n",
       "      <td>0.27459</td>\n",
       "      <td>0.0</td>\n",
       "      <td>0.0</td>\n",
       "      <td>0.0</td>\n",
       "      <td>0.0</td>\n",
       "      <td>0.000000</td>\n",
       "      <td>0.0</td>\n",
       "      <td>0.0</td>\n",
       "      <td>...</td>\n",
       "      <td>0.0</td>\n",
       "      <td>0.0</td>\n",
       "      <td>0.0</td>\n",
       "      <td>0.0</td>\n",
       "      <td>0.0</td>\n",
       "      <td>0.0</td>\n",
       "      <td>0.0</td>\n",
       "      <td>0.0</td>\n",
       "      <td>0.0</td>\n",
       "      <td>0.0</td>\n",
       "    </tr>\n",
       "    <tr>\n",
       "      <th>SRR13234437</th>\n",
       "      <td>0.0</td>\n",
       "      <td>0.0</td>\n",
       "      <td>0.00000</td>\n",
       "      <td>0.0</td>\n",
       "      <td>0.0</td>\n",
       "      <td>0.0</td>\n",
       "      <td>0.0</td>\n",
       "      <td>0.000000</td>\n",
       "      <td>0.0</td>\n",
       "      <td>0.0</td>\n",
       "      <td>...</td>\n",
       "      <td>0.0</td>\n",
       "      <td>0.0</td>\n",
       "      <td>0.0</td>\n",
       "      <td>0.0</td>\n",
       "      <td>0.0</td>\n",
       "      <td>0.0</td>\n",
       "      <td>0.0</td>\n",
       "      <td>0.0</td>\n",
       "      <td>0.0</td>\n",
       "      <td>0.0</td>\n",
       "    </tr>\n",
       "    <tr>\n",
       "      <th>SRR13196068</th>\n",
       "      <td>0.0</td>\n",
       "      <td>0.0</td>\n",
       "      <td>0.00000</td>\n",
       "      <td>0.0</td>\n",
       "      <td>0.0</td>\n",
       "      <td>0.0</td>\n",
       "      <td>0.0</td>\n",
       "      <td>0.000000</td>\n",
       "      <td>0.0</td>\n",
       "      <td>0.0</td>\n",
       "      <td>...</td>\n",
       "      <td>0.0</td>\n",
       "      <td>0.0</td>\n",
       "      <td>0.0</td>\n",
       "      <td>0.0</td>\n",
       "      <td>0.0</td>\n",
       "      <td>0.0</td>\n",
       "      <td>0.0</td>\n",
       "      <td>0.0</td>\n",
       "      <td>0.0</td>\n",
       "      <td>0.0</td>\n",
       "    </tr>\n",
       "    <tr>\n",
       "      <th>SRR12922100</th>\n",
       "      <td>0.0</td>\n",
       "      <td>0.0</td>\n",
       "      <td>0.00000</td>\n",
       "      <td>0.0</td>\n",
       "      <td>0.0</td>\n",
       "      <td>0.0</td>\n",
       "      <td>0.0</td>\n",
       "      <td>0.000000</td>\n",
       "      <td>0.0</td>\n",
       "      <td>0.0</td>\n",
       "      <td>...</td>\n",
       "      <td>0.0</td>\n",
       "      <td>0.0</td>\n",
       "      <td>0.0</td>\n",
       "      <td>0.0</td>\n",
       "      <td>0.0</td>\n",
       "      <td>0.0</td>\n",
       "      <td>0.0</td>\n",
       "      <td>0.0</td>\n",
       "      <td>0.0</td>\n",
       "      <td>0.0</td>\n",
       "    </tr>\n",
       "    <tr>\n",
       "      <th>SRR11809598</th>\n",
       "      <td>0.0</td>\n",
       "      <td>0.0</td>\n",
       "      <td>0.00000</td>\n",
       "      <td>0.0</td>\n",
       "      <td>0.0</td>\n",
       "      <td>0.0</td>\n",
       "      <td>0.0</td>\n",
       "      <td>0.000000</td>\n",
       "      <td>0.0</td>\n",
       "      <td>0.0</td>\n",
       "      <td>...</td>\n",
       "      <td>0.0</td>\n",
       "      <td>0.0</td>\n",
       "      <td>0.0</td>\n",
       "      <td>0.0</td>\n",
       "      <td>0.0</td>\n",
       "      <td>0.0</td>\n",
       "      <td>0.0</td>\n",
       "      <td>0.0</td>\n",
       "      <td>0.0</td>\n",
       "      <td>0.0</td>\n",
       "    </tr>\n",
       "  </tbody>\n",
       "</table>\n",
       "<p>7 rows × 1128 columns</p>\n",
       "</div>"
      ],
      "text/plain": [
       "             NC_028999.1  MT133560.1  MK599315.1  MH725810.1  MF974178.1  \\\n",
       "SRR13160334          0.0         0.0     0.00000         0.0         0.0   \n",
       "SRR13196071          0.0         0.0     0.00000         0.0         0.0   \n",
       "ERR3642743           0.0         0.0     0.27459         0.0         0.0   \n",
       "SRR13234437          0.0         0.0     0.00000         0.0         0.0   \n",
       "SRR13196068          0.0         0.0     0.00000         0.0         0.0   \n",
       "SRR12922100          0.0         0.0     0.00000         0.0         0.0   \n",
       "SRR11809598          0.0         0.0     0.00000         0.0         0.0   \n",
       "\n",
       "             NC_016765.1  NC_031063.1  NC_027375.1  NC_011810.1  MT108726.1  \\\n",
       "SRR13160334          0.0          0.0    23.371706          0.0         0.0   \n",
       "SRR13196071          0.0          0.0     0.000000          0.0         0.0   \n",
       "ERR3642743           0.0          0.0     0.000000          0.0         0.0   \n",
       "SRR13234437          0.0          0.0     0.000000          0.0         0.0   \n",
       "SRR13196068          0.0          0.0     0.000000          0.0         0.0   \n",
       "SRR12922100          0.0          0.0     0.000000          0.0         0.0   \n",
       "SRR11809598          0.0          0.0     0.000000          0.0         0.0   \n",
       "\n",
       "             ...  DI373497.1  DI373496.1  DI373495.1  DI373494.1  DI373493.1  \\\n",
       "SRR13160334  ...         0.0         0.0         0.0         0.0         0.0   \n",
       "SRR13196071  ...         0.0         0.0         0.0         0.0         0.0   \n",
       "ERR3642743   ...         0.0         0.0         0.0         0.0         0.0   \n",
       "SRR13234437  ...         0.0         0.0         0.0         0.0         0.0   \n",
       "SRR13196068  ...         0.0         0.0         0.0         0.0         0.0   \n",
       "SRR12922100  ...         0.0         0.0         0.0         0.0         0.0   \n",
       "SRR11809598  ...         0.0         0.0         0.0         0.0         0.0   \n",
       "\n",
       "             DI373492.1  DI373491.1  DI373490.1  DI373489.1  DI373488.1  \n",
       "SRR13160334         0.0         0.0         0.0         0.0         0.0  \n",
       "SRR13196071         0.0         0.0         0.0         0.0         0.0  \n",
       "ERR3642743          0.0         0.0         0.0         0.0         0.0  \n",
       "SRR13234437         0.0         0.0         0.0         0.0         0.0  \n",
       "SRR13196068         0.0         0.0         0.0         0.0         0.0  \n",
       "SRR12922100         0.0         0.0         0.0         0.0         0.0  \n",
       "SRR11809598         0.0         0.0         0.0         0.0         0.0  \n",
       "\n",
       "[7 rows x 1128 columns]"
      ]
     },
     "execution_count": 3,
     "metadata": {},
     "output_type": "execute_result"
    }
   ],
   "source": [
    "expression_phage_df"
   ]
  },
  {
   "cell_type": "code",
   "execution_count": 4,
   "metadata": {},
   "outputs": [
    {
     "data": {
      "text/html": [
       "<div>\n",
       "<style scoped>\n",
       "    .dataframe tbody tr th:only-of-type {\n",
       "        vertical-align: middle;\n",
       "    }\n",
       "\n",
       "    .dataframe tbody tr th {\n",
       "        vertical-align: top;\n",
       "    }\n",
       "\n",
       "    .dataframe thead th {\n",
       "        text-align: right;\n",
       "    }\n",
       "</style>\n",
       "<table border=\"1\" class=\"dataframe\">\n",
       "  <thead>\n",
       "    <tr style=\"text-align: right;\">\n",
       "      <th></th>\n",
       "      <th>PGD134012</th>\n",
       "      <th>PGD134018</th>\n",
       "      <th>PGD134020</th>\n",
       "      <th>PGD134022</th>\n",
       "      <th>PGD134024</th>\n",
       "      <th>PGD134014</th>\n",
       "      <th>PGD134016</th>\n",
       "      <th>PGD134026</th>\n",
       "      <th>PGD134030</th>\n",
       "      <th>PGD134032</th>\n",
       "      <th>...</th>\n",
       "      <th>PGD133904</th>\n",
       "      <th>PGD133906</th>\n",
       "      <th>PGD133902</th>\n",
       "      <th>PGD133898</th>\n",
       "      <th>PGD133900</th>\n",
       "      <th>PGD133894</th>\n",
       "      <th>PGD133896</th>\n",
       "      <th>PGD133892</th>\n",
       "      <th>PGD133884</th>\n",
       "      <th>PGD133886</th>\n",
       "    </tr>\n",
       "  </thead>\n",
       "  <tbody>\n",
       "    <tr>\n",
       "      <th>SRR7886564</th>\n",
       "      <td>231.716766</td>\n",
       "      <td>190.742049</td>\n",
       "      <td>251.434363</td>\n",
       "      <td>244.575451</td>\n",
       "      <td>232.667420</td>\n",
       "      <td>338.778285</td>\n",
       "      <td>154.619466</td>\n",
       "      <td>135.309196</td>\n",
       "      <td>197.297614</td>\n",
       "      <td>208.656767</td>\n",
       "      <td>...</td>\n",
       "      <td>384.006646</td>\n",
       "      <td>160.423009</td>\n",
       "      <td>217.461069</td>\n",
       "      <td>156.885980</td>\n",
       "      <td>207.875748</td>\n",
       "      <td>401.447266</td>\n",
       "      <td>243.877369</td>\n",
       "      <td>242.992502</td>\n",
       "      <td>246.314856</td>\n",
       "      <td>2505.558825</td>\n",
       "    </tr>\n",
       "    <tr>\n",
       "      <th>SRR7886563</th>\n",
       "      <td>221.861101</td>\n",
       "      <td>206.228200</td>\n",
       "      <td>262.510896</td>\n",
       "      <td>236.227489</td>\n",
       "      <td>218.772353</td>\n",
       "      <td>277.169311</td>\n",
       "      <td>172.770017</td>\n",
       "      <td>131.655150</td>\n",
       "      <td>203.906846</td>\n",
       "      <td>195.419829</td>\n",
       "      <td>...</td>\n",
       "      <td>422.431994</td>\n",
       "      <td>186.070549</td>\n",
       "      <td>221.798564</td>\n",
       "      <td>169.894611</td>\n",
       "      <td>206.047320</td>\n",
       "      <td>364.537806</td>\n",
       "      <td>220.715998</td>\n",
       "      <td>222.137392</td>\n",
       "      <td>290.767265</td>\n",
       "      <td>1822.432926</td>\n",
       "    </tr>\n",
       "    <tr>\n",
       "      <th>SRR13160334</th>\n",
       "      <td>9.290001</td>\n",
       "      <td>10.396172</td>\n",
       "      <td>23.601431</td>\n",
       "      <td>16.471582</td>\n",
       "      <td>2.448420</td>\n",
       "      <td>8.705120</td>\n",
       "      <td>0.979054</td>\n",
       "      <td>4.639901</td>\n",
       "      <td>4.973794</td>\n",
       "      <td>0.000000</td>\n",
       "      <td>...</td>\n",
       "      <td>165.995489</td>\n",
       "      <td>15.839910</td>\n",
       "      <td>6.455705</td>\n",
       "      <td>6.528371</td>\n",
       "      <td>10.306895</td>\n",
       "      <td>0.000000</td>\n",
       "      <td>1.126866</td>\n",
       "      <td>7.395994</td>\n",
       "      <td>31.574521</td>\n",
       "      <td>404.809250</td>\n",
       "    </tr>\n",
       "    <tr>\n",
       "      <th>SRR13196071</th>\n",
       "      <td>0.000000</td>\n",
       "      <td>0.000000</td>\n",
       "      <td>0.000000</td>\n",
       "      <td>0.000000</td>\n",
       "      <td>0.000000</td>\n",
       "      <td>0.000000</td>\n",
       "      <td>0.000000</td>\n",
       "      <td>0.000000</td>\n",
       "      <td>0.000000</td>\n",
       "      <td>0.000000</td>\n",
       "      <td>...</td>\n",
       "      <td>0.000000</td>\n",
       "      <td>0.000000</td>\n",
       "      <td>0.000000</td>\n",
       "      <td>0.000000</td>\n",
       "      <td>0.000000</td>\n",
       "      <td>0.000000</td>\n",
       "      <td>0.000000</td>\n",
       "      <td>0.000000</td>\n",
       "      <td>0.000000</td>\n",
       "      <td>0.000000</td>\n",
       "    </tr>\n",
       "    <tr>\n",
       "      <th>SRR7886556</th>\n",
       "      <td>239.035540</td>\n",
       "      <td>214.717657</td>\n",
       "      <td>274.756361</td>\n",
       "      <td>234.900934</td>\n",
       "      <td>211.425667</td>\n",
       "      <td>331.008247</td>\n",
       "      <td>182.534175</td>\n",
       "      <td>151.789441</td>\n",
       "      <td>177.389040</td>\n",
       "      <td>214.459340</td>\n",
       "      <td>...</td>\n",
       "      <td>313.613041</td>\n",
       "      <td>203.419543</td>\n",
       "      <td>219.460975</td>\n",
       "      <td>122.112693</td>\n",
       "      <td>216.618620</td>\n",
       "      <td>356.472812</td>\n",
       "      <td>204.935818</td>\n",
       "      <td>236.919636</td>\n",
       "      <td>344.232315</td>\n",
       "      <td>840.672326</td>\n",
       "    </tr>\n",
       "  </tbody>\n",
       "</table>\n",
       "<p>5 rows × 5685 columns</p>\n",
       "</div>"
      ],
      "text/plain": [
       "              PGD134012   PGD134018   PGD134020   PGD134022   PGD134024  \\\n",
       "SRR7886564   231.716766  190.742049  251.434363  244.575451  232.667420   \n",
       "SRR7886563   221.861101  206.228200  262.510896  236.227489  218.772353   \n",
       "SRR13160334    9.290001   10.396172   23.601431   16.471582    2.448420   \n",
       "SRR13196071    0.000000    0.000000    0.000000    0.000000    0.000000   \n",
       "SRR7886556   239.035540  214.717657  274.756361  234.900934  211.425667   \n",
       "\n",
       "              PGD134014   PGD134016   PGD134026   PGD134030   PGD134032  ...  \\\n",
       "SRR7886564   338.778285  154.619466  135.309196  197.297614  208.656767  ...   \n",
       "SRR7886563   277.169311  172.770017  131.655150  203.906846  195.419829  ...   \n",
       "SRR13160334    8.705120    0.979054    4.639901    4.973794    0.000000  ...   \n",
       "SRR13196071    0.000000    0.000000    0.000000    0.000000    0.000000  ...   \n",
       "SRR7886556   331.008247  182.534175  151.789441  177.389040  214.459340  ...   \n",
       "\n",
       "              PGD133904   PGD133906   PGD133902   PGD133898   PGD133900  \\\n",
       "SRR7886564   384.006646  160.423009  217.461069  156.885980  207.875748   \n",
       "SRR7886563   422.431994  186.070549  221.798564  169.894611  206.047320   \n",
       "SRR13160334  165.995489   15.839910    6.455705    6.528371   10.306895   \n",
       "SRR13196071    0.000000    0.000000    0.000000    0.000000    0.000000   \n",
       "SRR7886556   313.613041  203.419543  219.460975  122.112693  216.618620   \n",
       "\n",
       "              PGD133894   PGD133896   PGD133892   PGD133884    PGD133886  \n",
       "SRR7886564   401.447266  243.877369  242.992502  246.314856  2505.558825  \n",
       "SRR7886563   364.537806  220.715998  222.137392  290.767265  1822.432926  \n",
       "SRR13160334    0.000000    1.126866    7.395994   31.574521   404.809250  \n",
       "SRR13196071    0.000000    0.000000    0.000000    0.000000     0.000000  \n",
       "SRR7886556   356.472812  204.935818  236.919636  344.232315   840.672326  \n",
       "\n",
       "[5 rows x 5685 columns]"
      ]
     },
     "execution_count": 4,
     "metadata": {},
     "output_type": "execute_result"
    }
   ],
   "source": [
    "expression_pao1_df.head()"
   ]
  },
  {
   "cell_type": "code",
   "execution_count": 5,
   "metadata": {},
   "outputs": [
    {
     "data": {
      "text/html": [
       "<div>\n",
       "<style scoped>\n",
       "    .dataframe tbody tr th:only-of-type {\n",
       "        vertical-align: middle;\n",
       "    }\n",
       "\n",
       "    .dataframe tbody tr th {\n",
       "        vertical-align: top;\n",
       "    }\n",
       "\n",
       "    .dataframe thead th {\n",
       "        text-align: right;\n",
       "    }\n",
       "</style>\n",
       "<table border=\"1\" class=\"dataframe\">\n",
       "  <thead>\n",
       "    <tr style=\"text-align: right;\">\n",
       "      <th></th>\n",
       "      <th>PGD1650835</th>\n",
       "      <th>PGD1650837</th>\n",
       "      <th>PGD1650839</th>\n",
       "      <th>PGD1650841</th>\n",
       "      <th>PGD1650843</th>\n",
       "      <th>PGD1650845</th>\n",
       "      <th>PGD1650847</th>\n",
       "      <th>PGD1650849</th>\n",
       "      <th>PGD1650851</th>\n",
       "      <th>PGD1650853</th>\n",
       "      <th>...</th>\n",
       "      <th>PGD1662756</th>\n",
       "      <th>PGD1662758</th>\n",
       "      <th>PGD1662760</th>\n",
       "      <th>PGD1662762</th>\n",
       "      <th>PGD1662764</th>\n",
       "      <th>PGD1662766</th>\n",
       "      <th>PGD1662768</th>\n",
       "      <th>PGD1662770</th>\n",
       "      <th>PGD1662772</th>\n",
       "      <th>PGD1662774</th>\n",
       "    </tr>\n",
       "  </thead>\n",
       "  <tbody>\n",
       "    <tr>\n",
       "      <th>SRR7886564</th>\n",
       "      <td>192.751566</td>\n",
       "      <td>158.720852</td>\n",
       "      <td>214.625977</td>\n",
       "      <td>202.781724</td>\n",
       "      <td>191.179817</td>\n",
       "      <td>284.389596</td>\n",
       "      <td>128.577961</td>\n",
       "      <td>111.754485</td>\n",
       "      <td>169.494706</td>\n",
       "      <td>181.962984</td>\n",
       "      <td>...</td>\n",
       "      <td>206.279768</td>\n",
       "      <td>318.390036</td>\n",
       "      <td>137.651423</td>\n",
       "      <td>176.686931</td>\n",
       "      <td>128.913082</td>\n",
       "      <td>172.640748</td>\n",
       "      <td>325.020691</td>\n",
       "      <td>207.769043</td>\n",
       "      <td>203.636922</td>\n",
       "      <td>198.203200</td>\n",
       "    </tr>\n",
       "    <tr>\n",
       "      <th>SRR7886563</th>\n",
       "      <td>185.983215</td>\n",
       "      <td>176.439379</td>\n",
       "      <td>226.761790</td>\n",
       "      <td>199.513132</td>\n",
       "      <td>181.198447</td>\n",
       "      <td>239.846511</td>\n",
       "      <td>148.182413</td>\n",
       "      <td>112.657855</td>\n",
       "      <td>173.914475</td>\n",
       "      <td>171.601826</td>\n",
       "      <td>...</td>\n",
       "      <td>214.476862</td>\n",
       "      <td>349.078921</td>\n",
       "      <td>160.861156</td>\n",
       "      <td>179.750922</td>\n",
       "      <td>147.525041</td>\n",
       "      <td>173.583246</td>\n",
       "      <td>327.571838</td>\n",
       "      <td>190.270258</td>\n",
       "      <td>187.372917</td>\n",
       "      <td>233.744611</td>\n",
       "    </tr>\n",
       "    <tr>\n",
       "      <th>SRR13160334</th>\n",
       "      <td>11.000647</td>\n",
       "      <td>12.457031</td>\n",
       "      <td>28.087817</td>\n",
       "      <td>19.657212</td>\n",
       "      <td>2.933759</td>\n",
       "      <td>10.904760</td>\n",
       "      <td>1.173137</td>\n",
       "      <td>5.367987</td>\n",
       "      <td>5.959752</td>\n",
       "      <td>0.000000</td>\n",
       "      <td>...</td>\n",
       "      <td>66.349304</td>\n",
       "      <td>198.877568</td>\n",
       "      <td>18.979817</td>\n",
       "      <td>7.735392</td>\n",
       "      <td>7.773980</td>\n",
       "      <td>12.363816</td>\n",
       "      <td>0.000000</td>\n",
       "      <td>1.350250</td>\n",
       "      <td>8.862147</td>\n",
       "      <td>46.316389</td>\n",
       "    </tr>\n",
       "    <tr>\n",
       "      <th>SRR13196071</th>\n",
       "      <td>0.000000</td>\n",
       "      <td>0.000000</td>\n",
       "      <td>0.000000</td>\n",
       "      <td>0.000000</td>\n",
       "      <td>0.000000</td>\n",
       "      <td>0.000000</td>\n",
       "      <td>0.000000</td>\n",
       "      <td>0.000000</td>\n",
       "      <td>0.000000</td>\n",
       "      <td>0.000000</td>\n",
       "      <td>...</td>\n",
       "      <td>0.000000</td>\n",
       "      <td>0.000000</td>\n",
       "      <td>0.000000</td>\n",
       "      <td>0.000000</td>\n",
       "      <td>0.000000</td>\n",
       "      <td>0.000000</td>\n",
       "      <td>0.000000</td>\n",
       "      <td>0.000000</td>\n",
       "      <td>0.000000</td>\n",
       "      <td>0.000000</td>\n",
       "    </tr>\n",
       "    <tr>\n",
       "      <th>SRR7886556</th>\n",
       "      <td>206.748915</td>\n",
       "      <td>182.729266</td>\n",
       "      <td>239.196084</td>\n",
       "      <td>204.343926</td>\n",
       "      <td>177.187986</td>\n",
       "      <td>281.314948</td>\n",
       "      <td>156.850235</td>\n",
       "      <td>130.633713</td>\n",
       "      <td>157.585184</td>\n",
       "      <td>183.599883</td>\n",
       "      <td>...</td>\n",
       "      <td>184.616302</td>\n",
       "      <td>266.232608</td>\n",
       "      <td>176.685663</td>\n",
       "      <td>187.728499</td>\n",
       "      <td>108.815371</td>\n",
       "      <td>185.383883</td>\n",
       "      <td>340.062547</td>\n",
       "      <td>179.374152</td>\n",
       "      <td>204.736395</td>\n",
       "      <td>291.297672</td>\n",
       "    </tr>\n",
       "  </tbody>\n",
       "</table>\n",
       "<p>5 rows × 5959 columns</p>\n",
       "</div>"
      ],
      "text/plain": [
       "             PGD1650835  PGD1650837  PGD1650839  PGD1650841  PGD1650843  \\\n",
       "SRR7886564   192.751566  158.720852  214.625977  202.781724  191.179817   \n",
       "SRR7886563   185.983215  176.439379  226.761790  199.513132  181.198447   \n",
       "SRR13160334   11.000647   12.457031   28.087817   19.657212    2.933759   \n",
       "SRR13196071    0.000000    0.000000    0.000000    0.000000    0.000000   \n",
       "SRR7886556   206.748915  182.729266  239.196084  204.343926  177.187986   \n",
       "\n",
       "             PGD1650845  PGD1650847  PGD1650849  PGD1650851  PGD1650853  ...  \\\n",
       "SRR7886564   284.389596  128.577961  111.754485  169.494706  181.962984  ...   \n",
       "SRR7886563   239.846511  148.182413  112.657855  173.914475  171.601826  ...   \n",
       "SRR13160334   10.904760    1.173137    5.367987    5.959752    0.000000  ...   \n",
       "SRR13196071    0.000000    0.000000    0.000000    0.000000    0.000000  ...   \n",
       "SRR7886556   281.314948  156.850235  130.633713  157.585184  183.599883  ...   \n",
       "\n",
       "             PGD1662756  PGD1662758  PGD1662760  PGD1662762  PGD1662764  \\\n",
       "SRR7886564   206.279768  318.390036  137.651423  176.686931  128.913082   \n",
       "SRR7886563   214.476862  349.078921  160.861156  179.750922  147.525041   \n",
       "SRR13160334   66.349304  198.877568   18.979817    7.735392    7.773980   \n",
       "SRR13196071    0.000000    0.000000    0.000000    0.000000    0.000000   \n",
       "SRR7886556   184.616302  266.232608  176.685663  187.728499  108.815371   \n",
       "\n",
       "             PGD1662766  PGD1662768  PGD1662770  PGD1662772  PGD1662774  \n",
       "SRR7886564   172.640748  325.020691  207.769043  203.636922  198.203200  \n",
       "SRR7886563   173.583246  327.571838  190.270258  187.372917  233.744611  \n",
       "SRR13160334   12.363816    0.000000    1.350250    8.862147   46.316389  \n",
       "SRR13196071    0.000000    0.000000    0.000000    0.000000    0.000000  \n",
       "SRR7886556   185.383883  340.062547  179.374152  204.736395  291.297672  \n",
       "\n",
       "[5 rows x 5959 columns]"
      ]
     },
     "execution_count": 5,
     "metadata": {},
     "output_type": "execute_result"
    }
   ],
   "source": [
    "expression_pa14_df.head()"
   ]
  },
  {
   "cell_type": "markdown",
   "metadata": {},
   "source": [
    "## Negative case\n",
    "\n",
    "Check that *E. Coli* sample (SRR13234437) poorly aligns with all reference genomes"
   ]
  },
  {
   "cell_type": "code",
   "execution_count": 6,
   "metadata": {
    "scrolled": false
   },
   "outputs": [
    {
     "name": "stdout",
     "output_type": "stream",
     "text": [
      "Total number of genes: 1128\n",
      "Percent of 0 expressed genes: 0.9973404255319149\n",
      "986884.97628\n"
     ]
    },
    {
     "name": "stderr",
     "output_type": "stream",
     "text": [
      "/home/alexandra/anaconda3/envs/core_acc/lib/python3.7/site-packages/scipy/stats/stats.py:1713: FutureWarning: Using a non-tuple sequence for multidimensional indexing is deprecated; use `arr[tuple(seq)]` instead of `arr[seq]`. In the future this will be interpreted as an array index, `arr[np.array(seq)]`, which will result either in an error or a different result.\n",
      "  return np.add.reduce(sorted[indexer] * weights, axis=axis) / sumval\n"
     ]
    },
    {
     "data": {
      "text/plain": [
       "<matplotlib.axes._subplots.AxesSubplot at 0x7f87fbdd51d0>"
      ]
     },
     "execution_count": 6,
     "metadata": {},
     "output_type": "execute_result"
    },
    {
     "data": {
      "image/png": "[encoded data removed]",
      "text/plain": [
       "<Figure size 432x288 with 1 Axes>"
      ]
     },
     "metadata": {
      "needs_background": "light"
     },
     "output_type": "display_data"
    }
   ],
   "source": [
    "# Check there is no expression in E. Coli sample using phage reference\n",
    "print(\"Total number of genes:\", len(expression_phage_df.loc[\"SRR13234437\"]))\n",
    "print(\"Percent of 0 expressed genes:\",\n",
    "      (expression_phage_df.loc[\"SRR13234437\"] == 0).sum()/len(expression_phage_df.loc[\"SRR13234437\"]))"
   ]
  },
  {
   "cell_type": "code",
   "execution_count": 27,
   "metadata": {
    "scrolled": true
   },
   "outputs": [
    {
     "name": "stdout",
     "output_type": "stream",
     "text": [
      "CP029707.1    986884.976280\n",
      "MH643778.1      6655.577065\n",
      "MT121966.1      6459.446655\n",
      "Name: SRR13234437, dtype: float64\n"
     ]
    },
    {
     "name": "stderr",
     "output_type": "stream",
     "text": [
      "/home/alexandra/anaconda3/envs/core_acc/lib/python3.7/site-packages/ipykernel_launcher.py:2: FutureWarning: Series.nonzero() is deprecated and will be removed in a future version.Use Series.to_numpy().nonzero() instead\n",
      "  \n"
     ]
    }
   ],
   "source": [
    "EColi_phage_ref_series = expression_phage_df.loc[\"SRR13234437\"]\n",
    "nonzero_genes_EColi_phage_ref = EColi_phage_ref_series.iloc[EColi_phage_ref_series.nonzero()]\n",
    "print(nonzero_genes_EColi_phage_ref)"
   ]
  },
  {
   "cell_type": "code",
   "execution_count": 42,
   "metadata": {
    "scrolled": false
   },
   "outputs": [
    {
     "name": "stdout",
     "output_type": "stream",
     "text": [
      "Total number of genes: 5685\n",
      "Percent of 0 expressed genes: 0.9226033421284081\n",
      "Percent of 0 expressed genes: 0.07211961301671065\n"
     ]
    }
   ],
   "source": [
    "# Check there is no expression in E. Coli sample using PAO1 reference\n",
    "print(\"Total number of genes:\", len(expression_pao1_df.loc[\"SRR13234437\"]))\n",
    "print(\"Percent of 0 expressed genes:\", \n",
    "      (expression_pao1_df.loc[\"SRR13234437\"] == 0).sum()/len(expression_pao1_df.loc[\"SRR13234437\"]))\n",
    "\n",
    "print(\"Percent of 0 expressed genes:\", \n",
    "      ((expression_pao1_df.loc[\"SRR13234437\"] > 0) & (expression_pao1_df.loc[\"SRR13234437\"] < 1000))\n",
    "       .sum()/len(expression_pao1_df.loc[\"SRR13234437\"]))"
   ]
  },
  {
   "cell_type": "code",
   "execution_count": 48,
   "metadata": {},
   "outputs": [
    {
     "name": "stderr",
     "output_type": "stream",
     "text": [
      "/home/alexandra/anaconda3/envs/core_acc/lib/python3.7/site-packages/ipykernel_launcher.py:2: FutureWarning: Series.nonzero() is deprecated and will be removed in a future version.Use Series.to_numpy().nonzero() instead\n",
      "  \n"
     ]
    },
    {
     "data": {
      "text/plain": [
       "PGD111376    296495.703384\n",
       "Name: SRR13234437, dtype: float64"
      ]
     },
     "execution_count": 48,
     "metadata": {},
     "output_type": "execute_result"
    },
    {
     "data": {
      "image/png": "[encoded data removed]",
      "text/plain": [
       "<Figure size 432x288 with 1 Axes>"
      ]
     },
     "metadata": {
      "needs_background": "light"
     },
     "output_type": "display_data"
    }
   ],
   "source": [
    "EColi_pao1_ref_series = expression_pao1_df.loc[\"SRR13234437\"]\n",
    "nonzero_genes_EColi_pao1_ref = EColi_pao1_ref_series.iloc[EColi_pao1_ref_series.nonzero()]\n",
    "sns.distplot(nonzero_genes_EColi_pao1_ref, kde=False)\n",
    "\n",
    "# Get gene with the max expression\n",
    "EColi_pao1_ref_series[EColi_pao1_ref_series > 290000]"
   ]
  },
  {
   "cell_type": "code",
   "execution_count": 41,
   "metadata": {},
   "outputs": [
    {
     "name": "stdout",
     "output_type": "stream",
     "text": [
      "Total number of genes: 5959\n",
      "Percent of 0 expressed genes: 0.9285114952173184\n",
      "Percent of 0 expressed genes: 0.06578284947138782\n"
     ]
    }
   ],
   "source": [
    "# Check there is no expression in E. Coli sample using PA14 reference\n",
    "print(\"Total number of genes:\", len(expression_pa14_df.loc[\"SRR13234437\"]))\n",
    "print(\"Percent of 0 expressed genes:\", \n",
    "      (expression_pa14_df.loc[\"SRR13234437\"] == 0).sum()/len(expression_pa14_df.loc[\"SRR13234437\"]))\n",
    "\n",
    "print(\"Percent of 0 expressed genes:\", \n",
    "      ((expression_pa14_df.loc[\"SRR13234437\"] > 0) & (expression_pa14_df.loc[\"SRR13234437\"] < 1000))\n",
    "       .sum()/len(expression_pa14_df.loc[\"SRR13234437\"]))"
   ]
  },
  {
   "cell_type": "code",
   "execution_count": 47,
   "metadata": {
    "scrolled": false
   },
   "outputs": [
    {
     "name": "stderr",
     "output_type": "stream",
     "text": [
      "/home/alexandra/anaconda3/envs/core_acc/lib/python3.7/site-packages/ipykernel_launcher.py:2: FutureWarning: Series.nonzero() is deprecated and will be removed in a future version.Use Series.to_numpy().nonzero() instead\n",
      "  \n"
     ]
    },
    {
     "data": {
      "text/plain": [
       "PGD1652229    320107.658891\n",
       "Name: SRR13234437, dtype: float64"
      ]
     },
     "execution_count": 47,
     "metadata": {},
     "output_type": "execute_result"
    },
    {
     "data": {
      "image/png": "[encoded data removed]",
      "text/plain": [
       "<Figure size 432x288 with 1 Axes>"
      ]
     },
     "metadata": {
      "needs_background": "light"
     },
     "output_type": "display_data"
    }
   ],
   "source": [
    "EColi_pa14_ref_series = expression_pa14_df.loc[\"SRR13234437\"]\n",
    "nonzero_genes_EColi_pa14_ref = EColi_pa14_ref_series.iloc[EColi_pa14_ref_series.nonzero()]\n",
    "sns.distplot(nonzero_genes_EColi_pa14_ref, kde=False)\n",
    "\n",
    "# Get gene with the max expression\n",
    "EColi_pa14_ref_series[EColi_pa14_ref_series > 290000]"
   ]
  },
  {
   "cell_type": "markdown",
   "metadata": {},
   "source": [
    "**Takeaway:**\n",
    "\n",
    "* Most genes were found to have 0 expression, as expected\n",
    "* Looks like the outlier gene encodes the elongation Tu which appears to be conserved across prokaryotes: https://pubmed.ncbi.nlm.nih.gov/6985898/"
   ]
  },
  {
   "cell_type": "markdown",
   "metadata": {},
   "source": [
    "## Positive case: PAO1\n",
    "\n",
    "* Check that PAO1 sample (SRR13160334) aligns well to PAO1 and phage reference. \n",
    "* Check that PAO1 sample has expression at LUZ19 (NC_010326.1 in phage genome)"
   ]
  },
  {
   "cell_type": "code",
   "execution_count": 10,
   "metadata": {
    "scrolled": false
   },
   "outputs": [
    {
     "name": "stdout",
     "output_type": "stream",
     "text": [
      "Total number of genes: 5685\n",
      "Percent of 0 expressed genes: 0.8520668425681618\n",
      "206449.578392\n"
     ]
    },
    {
     "data": {
      "text/plain": [
       "<matplotlib.axes._subplots.AxesSubplot at 0x7f87f96e2a50>"
      ]
     },
     "execution_count": 10,
     "metadata": {},
     "output_type": "execute_result"
    },
    {
     "data": {
      "image/png": "[encoded data removed]",
      "text/plain": [
       "<Figure size 432x288 with 1 Axes>"
      ]
     },
     "metadata": {
      "needs_background": "light"
     },
     "output_type": "display_data"
    }
   ],
   "source": [
    "# Check there is expression in PAO1 sample using PAO1 reference\n",
    "print(\"Total number of genes:\", len(expression_pao1_df.loc[\"SRR13160334\"]))\n",
    "print(\"Percent of 0 expressed genes:\", \n",
    "      (expression_pao1_df.loc[\"SRR13160334\"] > 0).sum()/len(expression_pao1_df.loc[\"SRR13160334\"]))"
   ]
  },
  {
   "cell_type": "code",
   "execution_count": 58,
   "metadata": {
    "scrolled": false
   },
   "outputs": [
    {
     "name": "stderr",
     "output_type": "stream",
     "text": [
      "/home/alexandra/anaconda3/envs/core_acc/lib/python3.7/site-packages/ipykernel_launcher.py:3: FutureWarning: Series.nonzero() is deprecated and will be removed in a future version.Use Series.to_numpy().nonzero() instead\n",
      "  This is separate from the ipykernel package so we can avoid doing imports until\n"
     ]
    },
    {
     "data": {
      "text/plain": [
       "0.8464379947229551"
      ]
     },
     "execution_count": 58,
     "metadata": {},
     "output_type": "execute_result"
    },
    {
     "data": {
      "image/png": "[encoded data removed]",
      "text/plain": [
       "<Figure size 432x288 with 1 Axes>"
      ]
     },
     "metadata": {
      "needs_background": "light"
     },
     "output_type": "display_data"
    }
   ],
   "source": [
    "# Plot the expression of PAO1 nonzero genes\n",
    "pao1_sample_pao1_ref_series = expression_pao1_df.loc[\"SRR13160334\"]\n",
    "nonzero_genes_pao1_sample_pao1_ref = pao1_sample_pao1_ref_series.iloc[pao1_sample_pao1_ref_series.nonzero()]\n",
    "sns.distplot(nonzero_genes_pao1_sample_pao1_ref, kde=False)\n",
    "\n",
    "# Get gene with the max expression\n",
    "\n",
    "len(pao1_sample_pao1_ref_series[(pao1_sample_pao1_ref_series < 1000) & pao1_sample_pao1_ref_series > 0])/len(pao1_sample_pao1_ref_series)"
   ]
  },
  {
   "cell_type": "code",
   "execution_count": 13,
   "metadata": {},
   "outputs": [
    {
     "data": {
      "text/plain": [
       "971961.851541"
      ]
     },
     "execution_count": 13,
     "metadata": {},
     "output_type": "execute_result"
    }
   ],
   "source": [
    "# Check there is expression in PAO1 sample using phage reference gene: NC_010326.1\n",
    "expression_phage_df.loc[\"SRR13160334\", \"NC_010326.1\"]"
   ]
  },
  {
   "cell_type": "markdown",
   "metadata": {},
   "source": [
    "**Takeaway:**\n",
    "\n",
    "* Most genes in PAO1 sample are nonzero, including phage gene that the sample is known to contain -- as expected\n",
    "* Is the TPM < 1000 expected?\n",
    "* Why is TPM of phage gene higher than other PAO1 genes?"
   ]
  },
  {
   "cell_type": "markdown",
   "metadata": {},
   "source": [
    "## Positive case: PA14\n",
    "\n",
    "* Check that PA14 sample (ERR3642743) aligns well to PA14 and phage references. \n",
    "* Check that PA14 sample has expression at Pf5 (PA14_49010, PA14_49020 in PA14 genome) \n",
    "* PA14_49010, PA14_49020 = PGD1658748, PGD1658750"
   ]
  },
  {
   "cell_type": "code",
   "execution_count": 14,
   "metadata": {
    "scrolled": false
   },
   "outputs": [
    {
     "name": "stdout",
     "output_type": "stream",
     "text": [
      "Total number of genes: 5959\n",
      "Percent of 0 expressed genes: 0.9993287464339654\n",
      "142287.587592\n"
     ]
    },
    {
     "data": {
      "text/plain": [
       "<matplotlib.axes._subplots.AxesSubplot at 0x7f87f9697550>"
      ]
     },
     "execution_count": 14,
     "metadata": {},
     "output_type": "execute_result"
    },
    {
     "data": {
      "image/png": "[encoded data removed]",
      "text/plain": [
       "<Figure size 432x288 with 1 Axes>"
      ]
     },
     "metadata": {
      "needs_background": "light"
     },
     "output_type": "display_data"
    }
   ],
   "source": [
    "# Check there is expression in PA14 sample using PA14 reference\n",
    "print(\"Total number of genes:\", len(expression_pa14_df.loc[\"ERR3642743\"]))\n",
    "print(\"Percent of 0 expressed genes:\", \n",
    "      (expression_pa14_df.loc[\"ERR3642743\"] > 0).sum()/len(expression_pa14_df.loc[\"ERR3642743\"]))\n",
    "sns.distplot(expression_pa14_df.loc[\"ERR3642743\"], kde=False)"
   ]
  },
  {
   "cell_type": "code",
   "execution_count": 60,
   "metadata": {},
   "outputs": [
    {
     "name": "stderr",
     "output_type": "stream",
     "text": [
      "/home/alexandra/anaconda3/envs/core_acc/lib/python3.7/site-packages/ipykernel_launcher.py:3: FutureWarning: Series.nonzero() is deprecated and will be removed in a future version.Use Series.to_numpy().nonzero() instead\n",
      "  This is separate from the ipykernel package so we can avoid doing imports until\n"
     ]
    },
    {
     "data": {
      "text/plain": [
       "0.979358952844437"
      ]
     },
     "execution_count": 60,
     "metadata": {},
     "output_type": "execute_result"
    },
    {
     "data": {
      "image/png": "[encoded data removed]",
      "text/plain": [
       "<Figure size 432x288 with 1 Axes>"
      ]
     },
     "metadata": {
      "needs_background": "light"
     },
     "output_type": "display_data"
    }
   ],
   "source": [
    "# Plot the expression of PAO1 nonzero genes\n",
    "pa14_sample_pa14_ref_series = expression_pa14_df.loc[\"ERR3642743\"]\n",
    "nonzero_genes_pa14_sample_pa14_ref = pa14_sample_pa14_ref_series.iloc[pa14_sample_pa14_ref_series.nonzero()]\n",
    "sns.distplot(nonzero_genes_pa14_sample_pa14_ref, kde=False)\n",
    "\n",
    "# Get gene with the max expression\n",
    "\n",
    "len(pa14_sample_pa14_ref_series[(pa14_sample_pa14_ref_series < 1000) & pa14_sample_pa14_ref_series > 0])/len(pa14_sample_pa14_ref_series)"
   ]
  },
  {
   "cell_type": "code",
   "execution_count": 15,
   "metadata": {
    "scrolled": true
   },
   "outputs": [
    {
     "data": {
      "text/plain": [
       "PGD1658748     31.010130\n",
       "PGD1658750    256.503188\n",
       "Name: ERR3642743, dtype: float64"
      ]
     },
     "execution_count": 15,
     "metadata": {},
     "output_type": "execute_result"
    }
   ],
   "source": [
    "# Check there is expression in PA14 sample using PA14 reference genes: PA14_49010, PA14_49020\n",
    "expression_pa14_df.loc[\"ERR3642743\", [\"PGD1658748\", \"PGD1658750\"]]"
   ]
  },
  {
   "cell_type": "markdown",
   "metadata": {},
   "source": [
    "**Takeaways:**\n",
    "\n",
    "* Most genes in PA14 sample are nonzero, including phage gene that the sample is known to contain -- as expected\n",
    "* Is the TPM < 1000 expected?"
   ]
  }
 ],
 "metadata": {
  "kernelspec": {
   "display_name": "Python [conda env:core_acc] *",
   "language": "python",
   "name": "conda-env-core_acc-py"
  },
  "language_info": {
   "codemirror_mode": {
    "name": "ipython",
    "version": 3
   },
   "file_extension": ".py",
   "mimetype": "text/x-python",
   "name": "python",
   "nbconvert_exporter": "python",
   "pygments_lexer": "ipython3",
   "version": "3.7.8"
  }
 },
 "nbformat": 4,
 "nbformat_minor": 4
}
