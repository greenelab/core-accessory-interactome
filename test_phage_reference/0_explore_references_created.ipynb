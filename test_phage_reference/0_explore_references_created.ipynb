{
 "cells": [
  {
   "cell_type": "markdown",
   "id": "strong-frontier",
   "metadata": {},
   "source": [
    "# Test references created\n",
    "\n",
    "Here we want to see how well _pilA_ gene aligns against PAO1+phage reference vs PA14+phage reference. This _pilA_ gene has a low sequence identity with ????"
   ]
  },
  {
   "cell_type": "code",
   "execution_count": 1,
   "id": "saving-joint",
   "metadata": {},
   "outputs": [],
   "source": [
    "import os\n",
    "import pandas as pd\n",
    "import numpy as np\n",
    "from Bio import SeqIO\n",
    "from core_acc_modules import paths"
   ]
  },
  {
   "cell_type": "code",
   "execution_count": 2,
   "id": "realistic-international",
   "metadata": {},
   "outputs": [
    {
     "name": "stdout",
     "output_type": "stream",
     "text": [
      "\n",
      "\n",
      "Building a new DB, current time: 01/28/2021 16:44:08\n",
      "New DB name:   /home/alexandra/Documents/Data/Core_accessory/blast/db/PAO1_PHAGE_DB\n",
      "New DB title:  /home/alexandra/Documents/Data/Core_accessory/Pseudomonas_aeruginosa_PAO1_107_phage.fasta\n",
      "Sequence type: Nucleotide\n",
      "Deleted existing Nucleotide BLAST database named /home/alexandra/Documents/Data/Core_accessory/blast/db/PAO1_PHAGE_DB\n",
      "Keep MBits: T\n",
      "Maximum file size: 1000000000B\n",
      "Adding sequences from FASTA; added 7483 sequences in 0.621432 seconds.\n"
     ]
    }
   ],
   "source": [
    "%%bash -s $paths.PAO1_PHAGE_REF $paths.PAO1_PHAGE_DB_DIR\n",
    "\n",
    "makeblastdb -in $1 -dbtype nucl -parse_seqids -out $2"
   ]
  },
  {
   "cell_type": "code",
   "execution_count": 3,
   "id": "collectible-germany",
   "metadata": {},
   "outputs": [
    {
     "name": "stdout",
     "output_type": "stream",
     "text": [
      "\n",
      "\n",
      "Building a new DB, current time: 01/28/2021 16:44:09\n",
      "New DB name:   /home/alexandra/Documents/Data/Core_accessory/blast/db/PA14_PHAGE_DB\n",
      "New DB title:  /home/alexandra/Documents/Data/Core_accessory/Pseudomonas_aeruginosa_UCBPP-PA14_109_phage.fasta\n",
      "Sequence type: Nucleotide\n",
      "Deleted existing Nucleotide BLAST database named /home/alexandra/Documents/Data/Core_accessory/blast/db/PA14_PHAGE_DB\n",
      "Keep MBits: T\n",
      "Maximum file size: 1000000000B\n",
      "Adding sequences from FASTA; added 7685 sequences in 0.627573 seconds.\n"
     ]
    }
   ],
   "source": [
    "%%bash -s $paths.PA14_PHAGE_REF $paths.PA14_PHAGE_DB_DIR\n",
    "\n",
    "makeblastdb -in $1 -dbtype nucl -parse_seqids -out $2"
   ]
  },
  {
   "cell_type": "code",
   "execution_count": 4,
   "id": "digital-nurse",
   "metadata": {},
   "outputs": [],
   "source": [
    "%%bash -s $paths.PILA_QUERY $paths.PAO1_PILA_BLAST_RESULT $paths.PAO1_PHAGE_DB_DIR\n",
    "blastn -query $1 -out $2 -db $3 -outfmt 6 "
   ]
  },
  {
   "cell_type": "code",
   "execution_count": 5,
   "id": "dated-cache",
   "metadata": {},
   "outputs": [],
   "source": [
    "%%bash -s $paths.PILA_QUERY $paths.PA14_PILA_BLAST_RESULT $paths.PA14_PHAGE_DB_DIR\n",
    "blastn -query $1 -out $2 -db $3 -outfmt 6 "
   ]
  },
  {
   "cell_type": "code",
   "execution_count": 6,
   "id": "continent-postcard",
   "metadata": {},
   "outputs": [],
   "source": [
    "pao1_blast_result = pd.read_csv(paths.PAO1_PILA_BLAST_RESULT, sep=\"\\t\", header=None)\n",
    "pa14_blast_result = pd.read_csv(paths.PA14_PILA_BLAST_RESULT, sep=\"\\t\", header=None)"
   ]
  },
  {
   "cell_type": "code",
   "execution_count": 7,
   "id": "obvious-compression",
   "metadata": {},
   "outputs": [],
   "source": [
    "# Add column names described above\n",
    "col_names = [\n",
    "    \"qseqid\",\n",
    "    \"sseqid\",\n",
    "    \"pident\",\n",
    "    \"length\",\n",
    "    \"mismatch\",\n",
    "    \"gapopen\",\n",
    "    \"qstart\",\n",
    "    \"qend\",\n",
    "    \"sstart\",\n",
    "    \"send\",\n",
    "    \"evalue\",\n",
    "    \"bitscore\"\n",
    "    \n",
    "]"
   ]
  },
  {
   "cell_type": "code",
   "execution_count": 8,
   "id": "atlantic-keyboard",
   "metadata": {},
   "outputs": [
    {
     "name": "stdout",
     "output_type": "stream",
     "text": [
      "(2, 12)\n",
      "3.12e-23\n"
     ]
    },
    {
     "data": {
      "text/html": [
       "<div>\n",
       "<style scoped>\n",
       "    .dataframe tbody tr th:only-of-type {\n",
       "        vertical-align: middle;\n",
       "    }\n",
       "\n",
       "    .dataframe tbody tr th {\n",
       "        vertical-align: top;\n",
       "    }\n",
       "\n",
       "    .dataframe thead th {\n",
       "        text-align: right;\n",
       "    }\n",
       "</style>\n",
       "<table border=\"1\" class=\"dataframe\">\n",
       "  <thead>\n",
       "    <tr style=\"text-align: right;\">\n",
       "      <th></th>\n",
       "      <th>qseqid</th>\n",
       "      <th>sseqid</th>\n",
       "      <th>pident</th>\n",
       "      <th>length</th>\n",
       "      <th>mismatch</th>\n",
       "      <th>gapopen</th>\n",
       "      <th>qstart</th>\n",
       "      <th>qend</th>\n",
       "      <th>sstart</th>\n",
       "      <th>send</th>\n",
       "      <th>evalue</th>\n",
       "      <th>bitscore</th>\n",
       "    </tr>\n",
       "  </thead>\n",
       "  <tbody>\n",
       "    <tr>\n",
       "      <th>0</th>\n",
       "      <td>PA14_58730</td>\n",
       "      <td>PGD111890</td>\n",
       "      <td>98.387</td>\n",
       "      <td>62</td>\n",
       "      <td>1</td>\n",
       "      <td>0</td>\n",
       "      <td>1</td>\n",
       "      <td>62</td>\n",
       "      <td>1</td>\n",
       "      <td>62</td>\n",
       "      <td>3.120000e-23</td>\n",
       "      <td>110</td>\n",
       "    </tr>\n",
       "    <tr>\n",
       "      <th>1</th>\n",
       "      <td>PA4525</td>\n",
       "      <td>PGD111890</td>\n",
       "      <td>100.000</td>\n",
       "      <td>450</td>\n",
       "      <td>0</td>\n",
       "      <td>0</td>\n",
       "      <td>1</td>\n",
       "      <td>450</td>\n",
       "      <td>1</td>\n",
       "      <td>450</td>\n",
       "      <td>0.000000e+00</td>\n",
       "      <td>832</td>\n",
       "    </tr>\n",
       "  </tbody>\n",
       "</table>\n",
       "</div>"
      ],
      "text/plain": [
       "       qseqid     sseqid   pident  length  mismatch  gapopen  qstart  qend  \\\n",
       "0  PA14_58730  PGD111890   98.387      62         1        0       1    62   \n",
       "1      PA4525  PGD111890  100.000     450         0        0       1   450   \n",
       "\n",
       "   sstart  send        evalue  bitscore  \n",
       "0       1    62  3.120000e-23       110  \n",
       "1       1   450  0.000000e+00       832  "
      ]
     },
     "execution_count": 8,
     "metadata": {},
     "output_type": "execute_result"
    }
   ],
   "source": [
    "# BLAST results for PAO1\n",
    "pao1_blast_result.columns = col_names\n",
    "print(pao1_blast_result.shape)\n",
    "print(pao1_blast_result[\"evalue\"].max())\n",
    "pao1_blast_result.head()"
   ]
  },
  {
   "cell_type": "code",
   "execution_count": 9,
   "id": "dangerous-guidance",
   "metadata": {},
   "outputs": [
    {
     "name": "stdout",
     "output_type": "stream",
     "text": [
      "(2, 12)\n",
      "2.5100000000000002e-23\n"
     ]
    },
    {
     "data": {
      "text/html": [
       "<div>\n",
       "<style scoped>\n",
       "    .dataframe tbody tr th:only-of-type {\n",
       "        vertical-align: middle;\n",
       "    }\n",
       "\n",
       "    .dataframe tbody tr th {\n",
       "        vertical-align: top;\n",
       "    }\n",
       "\n",
       "    .dataframe thead th {\n",
       "        text-align: right;\n",
       "    }\n",
       "</style>\n",
       "<table border=\"1\" class=\"dataframe\">\n",
       "  <thead>\n",
       "    <tr style=\"text-align: right;\">\n",
       "      <th></th>\n",
       "      <th>qseqid</th>\n",
       "      <th>sseqid</th>\n",
       "      <th>pident</th>\n",
       "      <th>length</th>\n",
       "      <th>mismatch</th>\n",
       "      <th>gapopen</th>\n",
       "      <th>qstart</th>\n",
       "      <th>qend</th>\n",
       "      <th>sstart</th>\n",
       "      <th>send</th>\n",
       "      <th>evalue</th>\n",
       "      <th>bitscore</th>\n",
       "    </tr>\n",
       "  </thead>\n",
       "  <tbody>\n",
       "    <tr>\n",
       "      <th>0</th>\n",
       "      <td>PA14_58730</td>\n",
       "      <td>PGD1660373</td>\n",
       "      <td>100.000</td>\n",
       "      <td>540</td>\n",
       "      <td>0</td>\n",
       "      <td>0</td>\n",
       "      <td>1</td>\n",
       "      <td>540</td>\n",
       "      <td>1</td>\n",
       "      <td>540</td>\n",
       "      <td>0.000000e+00</td>\n",
       "      <td>998</td>\n",
       "    </tr>\n",
       "    <tr>\n",
       "      <th>1</th>\n",
       "      <td>PA4525</td>\n",
       "      <td>PGD1660373</td>\n",
       "      <td>98.387</td>\n",
       "      <td>62</td>\n",
       "      <td>1</td>\n",
       "      <td>0</td>\n",
       "      <td>1</td>\n",
       "      <td>62</td>\n",
       "      <td>1</td>\n",
       "      <td>62</td>\n",
       "      <td>2.510000e-23</td>\n",
       "      <td>110</td>\n",
       "    </tr>\n",
       "  </tbody>\n",
       "</table>\n",
       "</div>"
      ],
      "text/plain": [
       "       qseqid      sseqid   pident  length  mismatch  gapopen  qstart  qend  \\\n",
       "0  PA14_58730  PGD1660373  100.000     540         0        0       1   540   \n",
       "1      PA4525  PGD1660373   98.387      62         1        0       1    62   \n",
       "\n",
       "   sstart  send        evalue  bitscore  \n",
       "0       1   540  0.000000e+00       998  \n",
       "1       1    62  2.510000e-23       110  "
      ]
     },
     "execution_count": 9,
     "metadata": {},
     "output_type": "execute_result"
    }
   ],
   "source": [
    "# BLAST results for PA14\n",
    "pa14_blast_result.columns = col_names\n",
    "print(pa14_blast_result.shape)\n",
    "print(pa14_blast_result[\"evalue\"].max())\n",
    "pa14_blast_result.head()"
   ]
  }
 ],
 "metadata": {
  "kernelspec": {
   "display_name": "Python [conda env:core_acc] *",
   "language": "python",
   "name": "conda-env-core_acc-py"
  },
  "language_info": {
   "codemirror_mode": {
    "name": "ipython",
    "version": 3
   },
   "file_extension": ".py",
   "mimetype": "text/x-python",
   "name": "python",
   "nbconvert_exporter": "python",
   "pygments_lexer": "ipython3",
   "version": "3.7.9"
  }
 },
 "nbformat": 4,
 "nbformat_minor": 5
}
