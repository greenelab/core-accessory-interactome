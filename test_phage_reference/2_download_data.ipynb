{
 "cells": [
  {
   "cell_type": "markdown",
   "metadata": {},
   "source": [
    "# Download data\n",
    "\n",
    "This notebook is downloading data from SRA and then using the module, `fasterq-dump`, from the SRA toolkit to get the fastq files associated with the downloaded SRA files.\n",
    "\n",
    "Note: Need to delete `sra` folder between runs; otherwise, `fastq-dump` will be called on all files in `sra` folder which can include more than your sra accessions."
   ]
  },
  {
   "cell_type": "code",
   "execution_count": 1,
   "metadata": {},
   "outputs": [],
   "source": [
    "%load_ext autoreload\n",
    "%autoreload 2\n",
    "\n",
    "import os\n",
    "import shutil\n",
    "import pandas as pd\n",
    "import numpy as np\n",
    "from core_acc_modules import paths\n",
    "\n",
    "np.random.seed(123)"
   ]
  },
  {
   "cell_type": "markdown",
   "metadata": {},
   "source": [
    "### Download SRA data\n",
    "\n",
    "Note: Need to delete `sra` folder between runs otherwise `fastq-dump` will be called on all files in `sra` folder which can include more than your sra accessions."
   ]
  },
  {
   "cell_type": "code",
   "execution_count": 2,
   "metadata": {},
   "outputs": [],
   "source": [
    "shutil.rmtree(paths.SRA_DIR)"
   ]
  },
  {
   "cell_type": "code",
   "execution_count": 3,
   "metadata": {
    "scrolled": false
   },
   "outputs": [
    {
     "name": "stdout",
     "output_type": "stream",
     "text": [
      "\n",
      "2021-01-15T20:24:08 prefetch.2.10.9: 1) Downloading 'SRR13160334'...\n",
      "2021-01-15T20:24:08 prefetch.2.10.9:  Downloading via HTTPS...\n",
      "2021-01-15T20:45:33 prefetch.2.10.9:  HTTPS download succeed\n",
      "2021-01-15T20:45:34 prefetch.2.10.9:  'SRR13160334' is valid\n",
      "2021-01-15T20:45:34 prefetch.2.10.9: 1) 'SRR13160334' was downloaded successfully\n",
      "2021-01-15T20:45:34 prefetch.2.10.9: 'SRR13160334' has 0 unresolved dependencies\n",
      "\n",
      "2021-01-15T20:45:37 prefetch.2.10.9: 2) Downloading 'ERR3642743'...\n",
      "2021-01-15T20:45:37 prefetch.2.10.9:  Downloading via HTTPS...\n",
      "2021-01-15T21:24:42 prefetch.2.10.9:  HTTPS download succeed\n",
      "2021-01-15T21:24:43 prefetch.2.10.9:  'ERR3642743' is valid\n",
      "2021-01-15T21:24:43 prefetch.2.10.9: 2) 'ERR3642743' was downloaded successfully\n",
      "2021-01-15T21:24:43 prefetch.2.10.9: 'ERR3642743' has 0 unresolved dependencies\n",
      "\n",
      "2021-01-15T21:24:43 prefetch.2.10.9: 3) Downloading 'SRR13234437'...\n",
      "2021-01-15T21:24:43 prefetch.2.10.9:  Downloading via HTTPS...\n",
      "2021-01-15T21:50:10 prefetch.2.10.9:  HTTPS download succeed\n",
      "2021-01-15T21:50:12 prefetch.2.10.9:  'SRR13234437' is valid\n",
      "2021-01-15T21:50:12 prefetch.2.10.9: 3) 'SRR13234437' was downloaded successfully\n",
      "2021-01-15T21:50:12 prefetch.2.10.9: 'SRR13234437' has 0 unresolved dependencies\n"
     ]
    }
   ],
   "source": [
    "# Download sra data files\n",
    "! prefetch --option-file $paths.SRA_ACC"
   ]
  },
  {
   "cell_type": "markdown",
   "metadata": {},
   "source": [
    "### Get FASTQ files associated with SRA downloads\n",
    "\n",
    "The fastq files store the RNA-seq results, including: sequencing and quality scores for each base call.\n",
    "\n",
    "Here is a nice blog to explain how to read fastq files: https://thesequencingcenter.com/knowledge-base/fastq-files/\n",
    "\n",
    "The fastq files gives the sequence of a read at a given location. Our goal is to map these reads to a reference genome so that we can quantify the number of reads that are at a given location, to determine the level of expression.\n",
    "\n",
    "`fasterq-dump` automatically splits paired-end data into 3 files:\n",
    "* file_1.fastq having read 1\n",
    "* file_2.fastq having read 2\n",
    "* file.fastq having unmatched reads (i.e. read doesn't have a mate pair). \n",
    "https://www.rdocumentation.org/packages/geomedb/versions/2.0.1/topics/fasterqDump"
   ]
  },
  {
   "cell_type": "code",
   "execution_count": 4,
   "metadata": {},
   "outputs": [],
   "source": [
    "os.makedirs(paths.FASTQ_DIR, exist_ok=True)"
   ]
  },
  {
   "cell_type": "code",
   "execution_count": 5,
   "metadata": {
    "scrolled": true
   },
   "outputs": [
    {
     "name": "stderr",
     "output_type": "stream",
     "text": [
      "spots read      : 24,096,032\n",
      "reads read      : 48,192,064\n",
      "reads written   : 48,192,064\n",
      "spots read      : 8,669,682\n",
      "reads read      : 17,339,364\n",
      "reads written   : 17,339,364\n",
      "spots read      : 15,672,801\n",
      "reads read      : 31,345,602\n",
      "reads written   : 31,345,602\n"
     ]
    }
   ],
   "source": [
    "%%bash -s $paths.SRA_DIR $paths.FASTQ_DIR\n",
    "for FILE_PATH in $1/*;\n",
    "\n",
    "do\n",
    "    # get file name\n",
    "    sample_name=`basename ${FILE_PATH}`\n",
    "\n",
    "    # remove extension from file name\n",
    "    sample_name=\"${sample_name%.*}\"\n",
    "    \n",
    "    echo \"Getting fastq for $FILE_PATH\"\n",
    "    fasterq-dump $FILE_PATH -O $2/${sample_name} -f\n",
    "done"
   ]
  }
 ],
 "metadata": {
  "kernelspec": {
   "display_name": "Python [conda env:core_acc] *",
   "language": "python",
   "name": "conda-env-core_acc-py"
  },
  "language_info": {
   "codemirror_mode": {
    "name": "ipython",
    "version": 3
   },
   "file_extension": ".py",
   "mimetype": "text/x-python",
   "name": "python",
   "nbconvert_exporter": "python",
   "pygments_lexer": "ipython3",
   "version": "3.7.9"
  }
 },
 "nbformat": 4,
 "nbformat_minor": 4
}
