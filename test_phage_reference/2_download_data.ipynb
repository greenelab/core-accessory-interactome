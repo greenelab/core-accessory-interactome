{
 "cells": [
  {
   "cell_type": "markdown",
   "metadata": {},
   "source": [
    "# Download data\n",
    "\n",
    "This notebook is downloading data from SRA and then using the module, `fasterq-dump`, from the SRA toolkit to get the fastq files associated with the downloaded SRA files.\n",
    "\n",
    "Note: Need to delete `sra` folder between runs; otherwise, `fastq-dump` will be called on all files in `sra` folder which can include more than your sra accessions."
   ]
  },
  {
   "cell_type": "code",
   "execution_count": 1,
   "metadata": {},
   "outputs": [],
   "source": [
    "%load_ext autoreload\n",
    "%autoreload 2\n",
    "\n",
    "import os\n",
    "import shutil\n",
    "import pandas as pd\n",
    "import numpy as np\n",
    "from core_acc_modules import paths\n",
    "\n",
    "np.random.seed(123)"
   ]
  },
  {
   "cell_type": "markdown",
   "metadata": {},
   "source": [
    "### Download SRA data\n",
    "\n",
    "Note: Need to delete `sra` folder between runs otherwise `fastq-dump` will be called on all files in `sra` folder which can include more than your sra accessions."
   ]
  },
  {
   "cell_type": "code",
   "execution_count": 2,
   "metadata": {},
   "outputs": [],
   "source": [
    "shutil.rmtree(paths.SRA_DIR)"
   ]
  },
  {
   "cell_type": "code",
   "execution_count": 3,
   "metadata": {
    "scrolled": false
   },
   "outputs": [
    {
     "name": "stdout",
     "output_type": "stream",
     "text": [
      "\n",
      "2021-01-27T20:23:39 prefetch.2.10.9: 1) Downloading 'SRR13559121'...\n",
      "2021-01-27T20:23:39 prefetch.2.10.9:  Downloading via HTTPS...\n",
      "2021-01-27T20:25:04 prefetch.2.10.9:  HTTPS download succeed\n",
      "2021-01-27T20:25:04 prefetch.2.10.9:  'SRR13559121' is valid\n",
      "2021-01-27T20:25:04 prefetch.2.10.9: 1) 'SRR13559121' was downloaded successfully\n",
      "2021-01-27T20:25:04 prefetch.2.10.9: 'SRR13559121' has 0 unresolved dependencies\n",
      "\n",
      "2021-01-27T20:25:05 prefetch.2.10.9: 2) Downloading 'SRR13063396'...\n",
      "2021-01-27T20:25:05 prefetch.2.10.9:  Downloading via HTTPS...\n",
      "2021-01-27T20:27:57 prefetch.2.10.9:  HTTPS download succeed\n",
      "2021-01-27T20:27:58 prefetch.2.10.9:  'SRR13063396' is valid\n",
      "2021-01-27T20:27:58 prefetch.2.10.9: 2) 'SRR13063396' was downloaded successfully\n",
      "2021-01-27T20:27:58 prefetch.2.10.9: 'SRR13063396' has 0 unresolved dependencies\n",
      "\n",
      "2021-01-27T20:27:59 prefetch.2.10.9: 3) Downloading 'SRR12995208'...\n",
      "2021-01-27T20:27:59 prefetch.2.10.9:  Downloading via HTTPS...\n",
      "2021-01-27T20:28:08 prefetch.2.10.9:  HTTPS download succeed\n",
      "2021-01-27T20:28:08 prefetch.2.10.9:  'SRR12995208' is valid\n",
      "2021-01-27T20:28:08 prefetch.2.10.9: 3) 'SRR12995208' was downloaded successfully\n",
      "2021-01-27T20:28:08 prefetch.2.10.9: 'SRR12995208' has 0 unresolved dependencies\n"
     ]
    }
   ],
   "source": [
    "# Download sra data files\n",
    "! prefetch --option-file $paths.SRA_ACC"
   ]
  },
  {
   "cell_type": "markdown",
   "metadata": {},
   "source": [
    "### Get FASTQ files associated with SRA downloads\n",
    "\n",
    "The fastq files store the RNA-seq results, including: sequencing and quality scores for each base call.\n",
    "\n",
    "Here is a nice blog to explain how to read fastq files: https://thesequencingcenter.com/knowledge-base/fastq-files/\n",
    "\n",
    "The fastq files gives the sequence of a read at a given location. Our goal is to map these reads to a reference genome so that we can quantify the number of reads that are at a given location, to determine the level of expression.\n",
    "\n",
    "`fasterq-dump` automatically splits paired-end data into 3 files:\n",
    "* file_1.fastq having read 1\n",
    "* file_2.fastq having read 2\n",
    "* file.fastq having unmatched reads (i.e. read doesn't have a mate pair). \n",
    "https://www.rdocumentation.org/packages/geomedb/versions/2.0.1/topics/fasterqDump"
   ]
  },
  {
   "cell_type": "code",
   "execution_count": 4,
   "metadata": {},
   "outputs": [],
   "source": [
    "os.makedirs(paths.FASTQ_DIR, exist_ok=True)"
   ]
  },
  {
   "cell_type": "code",
   "execution_count": 5,
   "metadata": {
    "scrolled": true
   },
   "outputs": [
    {
     "name": "stdout",
     "output_type": "stream",
     "text": [
      "Getting fastq for /home/alexandra/ncbi/public/sra/SRR12995208.sra\n",
      "Getting fastq for /home/alexandra/ncbi/public/sra/SRR13063396.sra\n",
      "Getting fastq for /home/alexandra/ncbi/public/sra/SRR13559121.sra\n"
     ]
    },
    {
     "name": "stderr",
     "output_type": "stream",
     "text": [
      "spots read      : 1,477,620\n",
      "reads read      : 2,955,240\n",
      "reads written   : 2,955,240\n",
      "spots read      : 9,300,866\n",
      "reads read      : 18,601,732\n",
      "reads written   : 18,601,732\n",
      "spots read      : 12,279,719\n",
      "reads read      : 24,559,438\n",
      "reads written   : 12,279,719\n",
      "reads 0-length  : 12,279,719\n"
     ]
    }
   ],
   "source": [
    "%%bash -s $paths.SRA_DIR $paths.FASTQ_DIR\n",
    "for FILE_PATH in $1/*;\n",
    "\n",
    "do\n",
    "    # get file name\n",
    "    sample_name=`basename ${FILE_PATH}`\n",
    "\n",
    "    # remove extension from file name\n",
    "    sample_name=\"${sample_name%.*}\"\n",
    "    \n",
    "    echo \"Getting fastq for $FILE_PATH\"\n",
    "    fasterq-dump $FILE_PATH -O $2/${sample_name} -f\n",
    "done"
   ]
  }
 ],
 "metadata": {
  "kernelspec": {
   "display_name": "Python [conda env:core_acc] *",
   "language": "python",
   "name": "conda-env-core_acc-py"
  },
  "language_info": {
   "codemirror_mode": {
    "name": "ipython",
    "version": 3
   },
   "file_extension": ".py",
   "mimetype": "text/x-python",
   "name": "python",
   "nbconvert_exporter": "python",
   "pygments_lexer": "ipython3",
   "version": "3.7.9"
  }
 },
 "nbformat": 4,
 "nbformat_minor": 4
}
