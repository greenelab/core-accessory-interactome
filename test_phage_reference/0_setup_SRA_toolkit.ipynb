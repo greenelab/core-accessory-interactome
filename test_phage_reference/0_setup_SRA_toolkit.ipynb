{
 "cells": [
  {
   "cell_type": "markdown",
   "metadata": {},
   "source": [
    "# Setup SRA toolkit\n",
    "\n",
    "This notebook only needs to run once to download and setup SRA toolkit"
   ]
  },
  {
   "cell_type": "code",
   "execution_count": null,
   "metadata": {},
   "outputs": [],
   "source": [
    "import os"
   ]
  },
  {
   "cell_type": "code",
   "execution_count": null,
   "metadata": {},
   "outputs": [],
   "source": [
    "# Download latest version of compiled binaries of NCBI SRA toolkit \n",
    "if not os.path.exists(\"sratoolkit.current-centos_linux64.tar.gz\"):\n",
    "    ! wget \"ftp://ftp-trace.ncbi.nlm.nih.gov/sra/sdk/current/sratoolkit.current-centos_linux64.tar.gz\""
   ]
  },
  {
   "cell_type": "code",
   "execution_count": null,
   "metadata": {},
   "outputs": [],
   "source": [
    "# Extract tar.gz file \n",
    "if os.path.exists(\"sratoolkit.current-centos_linux64.tar.gz\"):\n",
    "    ! tar -xzf sratoolkit.current-centos_linux64.tar.gz\n",
    "\n",
    "# add binaries to path using export path or editing ~/.bashrc file\n",
    "! export PATH=$PATH:sratoolkit.2.10.7-centos_linux64/bin\n",
    "\n",
    "# Now SRA binaries added to path and ready to use"
   ]
  }
 ],
 "metadata": {
  "kernelspec": {
   "display_name": "Python [conda env:core_acc] *",
   "language": "python",
   "name": "conda-env-core_acc-py"
  },
  "language_info": {
   "codemirror_mode": {
    "name": "ipython",
    "version": 3
   },
   "file_extension": ".py",
   "mimetype": "text/x-python",
   "name": "python",
   "nbconvert_exporter": "python",
   "pygments_lexer": "ipython3",
   "version": "3.7.8"
  }
 },
 "nbformat": 4,
 "nbformat_minor": 4
}
