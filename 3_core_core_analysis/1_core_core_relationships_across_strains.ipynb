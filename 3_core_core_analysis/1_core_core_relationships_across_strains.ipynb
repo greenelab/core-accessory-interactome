{
 "cells": [
  {
   "cell_type": "markdown",
   "id": "981dc4bc",
   "metadata": {},
   "source": [
    "# Compare core-core modules in PAO1 vs PA14\n",
    "\n",
    "This notebook examines how _stable_ core genes are across strains PAO1, PA14. Here we start with a given PAO1 gene and rank who its related to from most to least correlated. We then ask if the homologous PA14 gene as the same ranking. If they do, then this gene is considered _stable_.\n",
    "\n",
    "The approach:\n",
    "1. Make core-core correlation matrix\n",
    "2. For given core gene A, get rank of how other genes are correlated to A in PAO1. Do the same in PA14.\n",
    "3. Are the correlations for homologous genes correlated?\n",
    "4. Each gene will have a correlation score\n",
    "5. Which genes have the most similar transcriptional relationships (i.e., highest correlation)? Which are the least? What does the distribution of stabilities look like?"
   ]
  },
  {
   "cell_type": "code",
   "execution_count": 1,
   "id": "3501ada0",
   "metadata": {},
   "outputs": [
    {
     "name": "stderr",
     "output_type": "stream",
     "text": [
      "/home/alexandra/anaconda3/envs/core_acc/lib/python3.7/site-packages/matplotlib/__init__.py:886: MatplotlibDeprecationWarning: \n",
      "examples.directory is deprecated; in the future, examples will be found relative to the 'datapath' directory.\n",
      "  \"found relative to the 'datapath' directory.\".format(key))\n"
     ]
    }
   ],
   "source": [
    "%load_ext autoreload\n",
    "%autoreload 2\n",
    "%matplotlib inline\n",
    "import os\n",
    "import random\n",
    "import scipy.stats\n",
    "import pandas as pd\n",
    "import numpy as np\n",
    "import seaborn as sns\n",
    "from matplotlib_venn import venn2\n",
    "import matplotlib.pyplot as plt\n",
    "from scripts import utils, paths\n",
    "\n",
    "random.seed(1)"
   ]
  },
  {
   "cell_type": "code",
   "execution_count": 2,
   "id": "f75472ea",
   "metadata": {},
   "outputs": [],
   "source": [
    "# Params\n",
    "high_threshold = 0.5\n",
    "low_threshold = 0.2"
   ]
  },
  {
   "cell_type": "code",
   "execution_count": 3,
   "id": "76007266",
   "metadata": {},
   "outputs": [],
   "source": [
    "# Output filenames\n",
    "pao1_similarity_dist_filename = \"pao1_similarity_scores_dist.svg\"\n",
    "pa14_similarity_dist_filename = \"pa14_similarity_scores_dist.svg\"\n",
    "\n",
    "# Files containing genes with highest and lowest transcriptional similarity scores high and low\n",
    "pao1_similarity_scores_filename = \"pao1_similarity_scores.tsv\"\n",
    "pa14_similarity_scores_filename = \"pa14_similarity_scores.tsv\""
   ]
  },
  {
   "cell_type": "code",
   "execution_count": 4,
   "id": "2906d898",
   "metadata": {},
   "outputs": [],
   "source": [
    "# Import correlation matrix\n",
    "pao1_corr_filename = paths.PAO1_CORR_RAW_CORE\n",
    "pa14_corr_filename = paths.PA14_CORR_RAW_CORE\n",
    "\n",
    "pao1_corr = pd.read_csv(pao1_corr_filename, sep=\"\\t\", index_col=0, header=0)\n",
    "pa14_corr = pd.read_csv(pa14_corr_filename, sep=\"\\t\", index_col=0, header=0)"
   ]
  },
  {
   "cell_type": "code",
   "execution_count": 5,
   "id": "29c2f32b",
   "metadata": {},
   "outputs": [
    {
     "name": "stdout",
     "output_type": "stream",
     "text": [
      "(5361, 5361)\n"
     ]
    },
    {
     "data": {
      "text/html": [
       "<div>\n",
       "<style scoped>\n",
       "    .dataframe tbody tr th:only-of-type {\n",
       "        vertical-align: middle;\n",
       "    }\n",
       "\n",
       "    .dataframe tbody tr th {\n",
       "        vertical-align: top;\n",
       "    }\n",
       "\n",
       "    .dataframe thead th {\n",
       "        text-align: right;\n",
       "    }\n",
       "</style>\n",
       "<table border=\"1\" class=\"dataframe\">\n",
       "  <thead>\n",
       "    <tr style=\"text-align: right;\">\n",
       "      <th></th>\n",
       "      <th>PA2389</th>\n",
       "      <th>PA0557</th>\n",
       "      <th>PA1122</th>\n",
       "      <th>PA4334</th>\n",
       "      <th>PA5384</th>\n",
       "      <th>PA1308</th>\n",
       "      <th>PA3611</th>\n",
       "      <th>PA3040</th>\n",
       "      <th>PA1890</th>\n",
       "      <th>PA3782</th>\n",
       "      <th>...</th>\n",
       "      <th>PA4355</th>\n",
       "      <th>PA5082</th>\n",
       "      <th>PA1019</th>\n",
       "      <th>PA1292</th>\n",
       "      <th>PA2042</th>\n",
       "      <th>PA1293</th>\n",
       "      <th>PA3205</th>\n",
       "      <th>PA2193</th>\n",
       "      <th>PA2004</th>\n",
       "      <th>PA4726</th>\n",
       "    </tr>\n",
       "  </thead>\n",
       "  <tbody>\n",
       "    <tr>\n",
       "      <th>PA2389</th>\n",
       "      <td>1.000000</td>\n",
       "      <td>-0.035188</td>\n",
       "      <td>-0.088492</td>\n",
       "      <td>0.034389</td>\n",
       "      <td>-0.026536</td>\n",
       "      <td>0.039799</td>\n",
       "      <td>0.020976</td>\n",
       "      <td>0.020258</td>\n",
       "      <td>0.069194</td>\n",
       "      <td>-0.022226</td>\n",
       "      <td>...</td>\n",
       "      <td>-0.021062</td>\n",
       "      <td>-0.038773</td>\n",
       "      <td>-0.100692</td>\n",
       "      <td>0.196630</td>\n",
       "      <td>0.027233</td>\n",
       "      <td>0.118548</td>\n",
       "      <td>-0.039581</td>\n",
       "      <td>0.060237</td>\n",
       "      <td>-0.000695</td>\n",
       "      <td>-0.041963</td>\n",
       "    </tr>\n",
       "    <tr>\n",
       "      <th>PA0557</th>\n",
       "      <td>-0.035188</td>\n",
       "      <td>1.000000</td>\n",
       "      <td>0.113785</td>\n",
       "      <td>-0.136430</td>\n",
       "      <td>0.158925</td>\n",
       "      <td>-0.091979</td>\n",
       "      <td>-0.011324</td>\n",
       "      <td>0.294198</td>\n",
       "      <td>0.056098</td>\n",
       "      <td>0.013905</td>\n",
       "      <td>...</td>\n",
       "      <td>0.258326</td>\n",
       "      <td>0.028279</td>\n",
       "      <td>0.300540</td>\n",
       "      <td>-0.108268</td>\n",
       "      <td>-0.093595</td>\n",
       "      <td>-0.182449</td>\n",
       "      <td>0.026512</td>\n",
       "      <td>0.004868</td>\n",
       "      <td>0.147867</td>\n",
       "      <td>-0.104501</td>\n",
       "    </tr>\n",
       "    <tr>\n",
       "      <th>PA1122</th>\n",
       "      <td>-0.088492</td>\n",
       "      <td>0.113785</td>\n",
       "      <td>1.000000</td>\n",
       "      <td>-0.193853</td>\n",
       "      <td>-0.213067</td>\n",
       "      <td>0.258031</td>\n",
       "      <td>-0.033537</td>\n",
       "      <td>0.262054</td>\n",
       "      <td>0.005184</td>\n",
       "      <td>0.027986</td>\n",
       "      <td>...</td>\n",
       "      <td>-0.140436</td>\n",
       "      <td>0.045981</td>\n",
       "      <td>-0.196530</td>\n",
       "      <td>0.121505</td>\n",
       "      <td>-0.306272</td>\n",
       "      <td>-0.226890</td>\n",
       "      <td>0.072913</td>\n",
       "      <td>0.114470</td>\n",
       "      <td>0.052211</td>\n",
       "      <td>0.223952</td>\n",
       "    </tr>\n",
       "    <tr>\n",
       "      <th>PA4334</th>\n",
       "      <td>0.034389</td>\n",
       "      <td>-0.136430</td>\n",
       "      <td>-0.193853</td>\n",
       "      <td>1.000000</td>\n",
       "      <td>0.223729</td>\n",
       "      <td>0.027283</td>\n",
       "      <td>-0.283873</td>\n",
       "      <td>-0.346977</td>\n",
       "      <td>0.090631</td>\n",
       "      <td>0.221488</td>\n",
       "      <td>...</td>\n",
       "      <td>0.082646</td>\n",
       "      <td>-0.046509</td>\n",
       "      <td>0.206753</td>\n",
       "      <td>-0.085638</td>\n",
       "      <td>-0.048869</td>\n",
       "      <td>-0.017466</td>\n",
       "      <td>-0.045981</td>\n",
       "      <td>-0.242798</td>\n",
       "      <td>-0.155182</td>\n",
       "      <td>-0.042470</td>\n",
       "    </tr>\n",
       "    <tr>\n",
       "      <th>PA5384</th>\n",
       "      <td>-0.026536</td>\n",
       "      <td>0.158925</td>\n",
       "      <td>-0.213067</td>\n",
       "      <td>0.223729</td>\n",
       "      <td>1.000000</td>\n",
       "      <td>-0.283545</td>\n",
       "      <td>-0.133361</td>\n",
       "      <td>-0.189752</td>\n",
       "      <td>-0.153224</td>\n",
       "      <td>0.077779</td>\n",
       "      <td>...</td>\n",
       "      <td>0.042247</td>\n",
       "      <td>-0.023096</td>\n",
       "      <td>0.470392</td>\n",
       "      <td>-0.199749</td>\n",
       "      <td>-0.204937</td>\n",
       "      <td>-0.215583</td>\n",
       "      <td>-0.026338</td>\n",
       "      <td>-0.065605</td>\n",
       "      <td>0.008329</td>\n",
       "      <td>-0.226633</td>\n",
       "    </tr>\n",
       "  </tbody>\n",
       "</table>\n",
       "<p>5 rows × 5361 columns</p>\n",
       "</div>"
      ],
      "text/plain": [
       "          PA2389    PA0557    PA1122    PA4334    PA5384    PA1308    PA3611  \\\n",
       "PA2389  1.000000 -0.035188 -0.088492  0.034389 -0.026536  0.039799  0.020976   \n",
       "PA0557 -0.035188  1.000000  0.113785 -0.136430  0.158925 -0.091979 -0.011324   \n",
       "PA1122 -0.088492  0.113785  1.000000 -0.193853 -0.213067  0.258031 -0.033537   \n",
       "PA4334  0.034389 -0.136430 -0.193853  1.000000  0.223729  0.027283 -0.283873   \n",
       "PA5384 -0.026536  0.158925 -0.213067  0.223729  1.000000 -0.283545 -0.133361   \n",
       "\n",
       "          PA3040    PA1890    PA3782  ...    PA4355    PA5082    PA1019  \\\n",
       "PA2389  0.020258  0.069194 -0.022226  ... -0.021062 -0.038773 -0.100692   \n",
       "PA0557  0.294198  0.056098  0.013905  ...  0.258326  0.028279  0.300540   \n",
       "PA1122  0.262054  0.005184  0.027986  ... -0.140436  0.045981 -0.196530   \n",
       "PA4334 -0.346977  0.090631  0.221488  ...  0.082646 -0.046509  0.206753   \n",
       "PA5384 -0.189752 -0.153224  0.077779  ...  0.042247 -0.023096  0.470392   \n",
       "\n",
       "          PA1292    PA2042    PA1293    PA3205    PA2193    PA2004    PA4726  \n",
       "PA2389  0.196630  0.027233  0.118548 -0.039581  0.060237 -0.000695 -0.041963  \n",
       "PA0557 -0.108268 -0.093595 -0.182449  0.026512  0.004868  0.147867 -0.104501  \n",
       "PA1122  0.121505 -0.306272 -0.226890  0.072913  0.114470  0.052211  0.223952  \n",
       "PA4334 -0.085638 -0.048869 -0.017466 -0.045981 -0.242798 -0.155182 -0.042470  \n",
       "PA5384 -0.199749 -0.204937 -0.215583 -0.026338 -0.065605  0.008329 -0.226633  \n",
       "\n",
       "[5 rows x 5361 columns]"
      ]
     },
     "execution_count": 5,
     "metadata": {},
     "output_type": "execute_result"
    }
   ],
   "source": [
    "print(pao1_corr.shape)\n",
    "pao1_corr.head()"
   ]
  },
  {
   "cell_type": "code",
   "execution_count": null,
   "id": "2f483926",
   "metadata": {},
   "outputs": [],
   "source": [
    "print(pa14_corr.shape)\n",
    "pa14_corr.head()"
   ]
  },
  {
   "cell_type": "markdown",
   "id": "7452b9e5",
   "metadata": {},
   "source": [
    "## Get mapping from PAO1 to PA14"
   ]
  },
  {
   "cell_type": "code",
   "execution_count": 7,
   "id": "71f422a3",
   "metadata": {},
   "outputs": [],
   "source": [
    "pao1_annotation_filename = paths.GENE_PAO1_ANNOT\n",
    "pa14_annotation_filename = paths.GENE_PA14_ANNOT\n",
    "gene_mapping_pao1 = utils.get_pao1_pa14_gene_map(pao1_annotation_filename, \"pao1\")\n",
    "gene_mapping_pa14 = utils.get_pao1_pa14_gene_map(pa14_annotation_filename, \"pa14\")"
   ]
  },
  {
   "cell_type": "code",
   "execution_count": 8,
   "id": "5d3ae8c1",
   "metadata": {},
   "outputs": [],
   "source": [
    "pao1_gene_name_map = gene_mapping_pao1[\"Name\"].to_frame()\n",
    "pa14_gene_name_map = gene_mapping_pa14[\"Name\"].to_frame()"
   ]
  },
  {
   "cell_type": "code",
   "execution_count": 9,
   "id": "78b9e308",
   "metadata": {},
   "outputs": [],
   "source": [
    "# Function to compare gene ranking\n",
    "def compare_gene_relationships(gene_mapping_dict, mapping_to, pao1_corr, pa14_corr):\n",
    "    # Only use genes with 1-1 mapping\n",
    "    gene_mapping = gene_mapping_dict.query(\"num_mapped_genes==1\")\n",
    "\n",
    "    # Map PAO1 ids to PA14 ids\n",
    "    # Note: reindex adds NaN in locations where there is no previous index, so PAO1 genes in the keys of the\n",
    "    # dictionary that are not found in our correlation matrix were added as NaN columns\n",
    "    # Instead we're using rename here, which drops any extra values that are not contained in our dictionary\n",
    "    if mapping_to == \"pa14\":\n",
    "        gene_mapping = gene_mapping[\"PA14_ID\"].to_dict()\n",
    "\n",
    "        shared_genes_dict = set(gene_mapping.keys()).intersection(pao1_corr.index)\n",
    "        pao1_corr = pao1_corr.loc[shared_genes_dict, shared_genes_dict]\n",
    "\n",
    "        pao1_corr_mapped = pao1_corr.rename(mapper=gene_mapping, axis=0).rename(\n",
    "            mapper=gene_mapping, axis=1\n",
    "        )\n",
    "\n",
    "        # There are a handful of cases where multiple PAO1 ids map to the same PA14 id\n",
    "        # results in duplicate PA14 ids, for our purposes we will remove this ambiguity\n",
    "        pao1_corr_mapped = pao1_corr_mapped.loc[\n",
    "            ~pao1_corr_mapped.index.duplicated(keep=False),\n",
    "            ~pao1_corr_mapped.columns.duplicated(keep=False),\n",
    "        ]\n",
    "        rows = []\n",
    "        for pao1_mapped_id in pao1_corr_mapped.index:\n",
    "\n",
    "            # Check if mapped gene exist in other strain\n",
    "            if pao1_mapped_id in list(pa14_corr.index):\n",
    "                pao1_id = list(gene_mapping.keys())[\n",
    "                    list(gene_mapping.values()).index(pao1_mapped_id)\n",
    "                ]\n",
    "                pao1_corr_scores = pao1_corr_mapped[pao1_mapped_id]\n",
    "                pa14_corr_scores = pa14_corr[pao1_mapped_id]\n",
    "\n",
    "                # Get shared genes\n",
    "                shared_genes = list(\n",
    "                    set(pao1_corr_scores.index).intersection(\n",
    "                        set(pa14_corr_scores.index)\n",
    "                    )\n",
    "                )\n",
    "\n",
    "                # Index by shared genes\n",
    "                pao1_corr_scores_reordered = pao1_corr_scores[shared_genes]\n",
    "                pa14_corr_scores_reordered = pa14_corr_scores[shared_genes]\n",
    "\n",
    "                # Check that there are no NaNs (i.e. check that index mapping works correctly)\n",
    "                assert pao1_corr_scores_reordered[\n",
    "                    pao1_corr_scores_reordered.isna()\n",
    "                ].empty\n",
    "                assert pa14_corr_scores_reordered[\n",
    "                    pa14_corr_scores_reordered.isna()\n",
    "                ].empty\n",
    "\n",
    "                # Get correlation score\n",
    "                # Make dataframe  with PAO1 id, PA14 homolog, correlation score\n",
    "                corr_coef, pval = scipy.stats.pearsonr(\n",
    "                    pao1_corr_scores_reordered.values, pa14_corr_scores_reordered.values\n",
    "                )\n",
    "\n",
    "                rows.append(\n",
    "                    {\n",
    "                        \"PAO1 id\": pao1_id,\n",
    "                        \"PA14 homolog id\": pao1_mapped_id,\n",
    "                        \"Transcriptional similarity across strains\": corr_coef,\n",
    "                        \"P-value\": pval,\n",
    "                    }\n",
    "                )\n",
    "\n",
    "    elif mapping_to == \"pao1\":\n",
    "        gene_mapping = gene_mapping[\"PAO1_ID\"].to_dict()\n",
    "\n",
    "        shared_genes_dict = set(gene_mapping.keys()).intersection(pa14_corr.index)\n",
    "        pa14_corr = pa14_corr.loc[shared_genes_dict, shared_genes_dict]\n",
    "\n",
    "        pa14_corr_mapped = pa14_corr.rename(mapper=gene_mapping, axis=0).rename(\n",
    "            mapper=gene_mapping, axis=1\n",
    "        )\n",
    "\n",
    "        # There are a handful of cases where multiple PAO1 ids map to the same PA14 id\n",
    "        # results in duplicate PA14 ids, for our purposes we will remove this ambiguity\n",
    "        pa14_corr_mapped = pa14_corr_mapped.loc[\n",
    "            ~pa14_corr_mapped.index.duplicated(keep=False),\n",
    "            ~pa14_corr_mapped.columns.duplicated(keep=False),\n",
    "        ]\n",
    "\n",
    "        rows = []\n",
    "        for pa14_mapped_id in pa14_corr_mapped.index:\n",
    "\n",
    "            # Check if mapped gene exist in other strain\n",
    "            if pa14_mapped_id in list(pao1_corr.index):\n",
    "                pa14_id = list(gene_mapping.keys())[\n",
    "                    list(gene_mapping.values()).index(pa14_mapped_id)\n",
    "                ]\n",
    "                pa14_corr_scores = pa14_corr_mapped[pa14_mapped_id]\n",
    "                pao1_corr_scores = pao1_corr[pa14_mapped_id]\n",
    "\n",
    "                # Get shared genes\n",
    "                shared_genes = list(\n",
    "                    set(pao1_corr_scores.index).intersection(\n",
    "                        set(pa14_corr_scores.index)\n",
    "                    )\n",
    "                )\n",
    "\n",
    "                # Index by shared genes\n",
    "                pao1_corr_scores_reordered = pao1_corr_scores[shared_genes]\n",
    "                pa14_corr_scores_reordered = pa14_corr_scores[shared_genes]\n",
    "\n",
    "                # Check that there are no NaNs (i.e. check that index mapping works correctly)\n",
    "                assert pao1_corr_scores_reordered[\n",
    "                    pao1_corr_scores_reordered.isna()\n",
    "                ].empty\n",
    "                assert pa14_corr_scores_reordered[\n",
    "                    pa14_corr_scores_reordered.isna()\n",
    "                ].empty\n",
    "\n",
    "                # Get correlation score\n",
    "                # Make dataframe  with PAO1 id, PA14 homolog, correlation score\n",
    "                corr_coef, pval = scipy.stats.pearsonr(\n",
    "                    pao1_corr_scores_reordered.values, pa14_corr_scores_reordered.values\n",
    "                )\n",
    "\n",
    "                rows.append(\n",
    "                    {\n",
    "                        \"PA14 id\": pa14_id,\n",
    "                        \"PAO1 homolog id\": pa14_mapped_id,\n",
    "                        \"Transcriptional similarity across strains\": corr_coef,\n",
    "                        \"P-value\": pval,\n",
    "                    }\n",
    "                )\n",
    "\n",
    "    corr_summary = pd.DataFrame(rows)\n",
    "    return corr_summary"
   ]
  },
  {
   "cell_type": "code",
   "execution_count": 10,
   "id": "f6cf2c44",
   "metadata": {
    "scrolled": true
   },
   "outputs": [],
   "source": [
    "pao1_corr_df = compare_gene_relationships(\n",
    "    gene_mapping_pao1, \"pa14\", pao1_corr, pa14_corr\n",
    ")\n",
    "pa14_corr_df = compare_gene_relationships(\n",
    "    gene_mapping_pa14, \"pao1\", pao1_corr, pa14_corr\n",
    ")"
   ]
  },
  {
   "cell_type": "code",
   "execution_count": 11,
   "id": "adf3a95e",
   "metadata": {},
   "outputs": [],
   "source": [
    "# Add gene name column\n",
    "pao1_corr_df = pao1_corr_df.set_index(\"PAO1 id\")\n",
    "pao1_corr_df = pao1_corr_df.merge(\n",
    "    pao1_gene_name_map, left_index=True, right_index=True, how=\"left\"\n",
    ")\n",
    "\n",
    "pa14_corr_df = pa14_corr_df.set_index(\"PA14 id\")\n",
    "pa14_corr_df = pa14_corr_df.merge(\n",
    "    pa14_gene_name_map, left_index=True, right_index=True, how=\"left\"\n",
    ")"
   ]
  },
  {
   "cell_type": "code",
   "execution_count": 12,
   "id": "0651fe4e",
   "metadata": {},
   "outputs": [
    {
     "name": "stdout",
     "output_type": "stream",
     "text": [
      "(5349, 4)\n"
     ]
    },
    {
     "data": {
      "text/html": [
       "<div>\n",
       "<style scoped>\n",
       "    .dataframe tbody tr th:only-of-type {\n",
       "        vertical-align: middle;\n",
       "    }\n",
       "\n",
       "    .dataframe tbody tr th {\n",
       "        vertical-align: top;\n",
       "    }\n",
       "\n",
       "    .dataframe thead th {\n",
       "        text-align: right;\n",
       "    }\n",
       "</style>\n",
       "<table border=\"1\" class=\"dataframe\">\n",
       "  <thead>\n",
       "    <tr style=\"text-align: right;\">\n",
       "      <th></th>\n",
       "      <th>PA14 homolog id</th>\n",
       "      <th>Transcriptional similarity across strains</th>\n",
       "      <th>P-value</th>\n",
       "      <th>Name</th>\n",
       "    </tr>\n",
       "    <tr>\n",
       "      <th>PAO1 id</th>\n",
       "      <th></th>\n",
       "      <th></th>\n",
       "      <th></th>\n",
       "      <th></th>\n",
       "    </tr>\n",
       "  </thead>\n",
       "  <tbody>\n",
       "    <tr>\n",
       "      <th>PA3634</th>\n",
       "      <td>PA14_17330</td>\n",
       "      <td>0.460290</td>\n",
       "      <td>8.589379e-279</td>\n",
       "      <td>NaN</td>\n",
       "    </tr>\n",
       "    <tr>\n",
       "      <th>PA0186</th>\n",
       "      <td>PA14_02360</td>\n",
       "      <td>0.687988</td>\n",
       "      <td>0.000000e+00</td>\n",
       "      <td>NaN</td>\n",
       "    </tr>\n",
       "    <tr>\n",
       "      <th>PA4268</th>\n",
       "      <td>PA14_08790</td>\n",
       "      <td>0.818866</td>\n",
       "      <td>0.000000e+00</td>\n",
       "      <td>rpsL</td>\n",
       "    </tr>\n",
       "    <tr>\n",
       "      <th>PA4471</th>\n",
       "      <td>PA14_58040</td>\n",
       "      <td>0.733858</td>\n",
       "      <td>0.000000e+00</td>\n",
       "      <td>NaN</td>\n",
       "    </tr>\n",
       "    <tr>\n",
       "      <th>PA2323</th>\n",
       "      <td>PA14_34600</td>\n",
       "      <td>0.549771</td>\n",
       "      <td>0.000000e+00</td>\n",
       "      <td>NaN</td>\n",
       "    </tr>\n",
       "  </tbody>\n",
       "</table>\n",
       "</div>"
      ],
      "text/plain": [
       "        PA14 homolog id  Transcriptional similarity across strains  \\\n",
       "PAO1 id                                                              \n",
       "PA3634       PA14_17330                                   0.460290   \n",
       "PA0186       PA14_02360                                   0.687988   \n",
       "PA4268       PA14_08790                                   0.818866   \n",
       "PA4471       PA14_58040                                   0.733858   \n",
       "PA2323       PA14_34600                                   0.549771   \n",
       "\n",
       "               P-value  Name  \n",
       "PAO1 id                       \n",
       "PA3634   8.589379e-279   NaN  \n",
       "PA0186    0.000000e+00   NaN  \n",
       "PA4268    0.000000e+00  rpsL  \n",
       "PA4471    0.000000e+00   NaN  \n",
       "PA2323    0.000000e+00   NaN  "
      ]
     },
     "execution_count": 12,
     "metadata": {},
     "output_type": "execute_result"
    }
   ],
   "source": [
    "print(pao1_corr_df.shape)\n",
    "pao1_corr_df.head()"
   ]
  },
  {
   "cell_type": "code",
   "execution_count": 13,
   "id": "cd3ce380",
   "metadata": {},
   "outputs": [
    {
     "name": "stdout",
     "output_type": "stream",
     "text": [
      "(5348, 4)\n"
     ]
    },
    {
     "data": {
      "text/html": [
       "<div>\n",
       "<style scoped>\n",
       "    .dataframe tbody tr th:only-of-type {\n",
       "        vertical-align: middle;\n",
       "    }\n",
       "\n",
       "    .dataframe tbody tr th {\n",
       "        vertical-align: top;\n",
       "    }\n",
       "\n",
       "    .dataframe thead th {\n",
       "        text-align: right;\n",
       "    }\n",
       "</style>\n",
       "<table border=\"1\" class=\"dataframe\">\n",
       "  <thead>\n",
       "    <tr style=\"text-align: right;\">\n",
       "      <th></th>\n",
       "      <th>PAO1 homolog id</th>\n",
       "      <th>Transcriptional similarity across strains</th>\n",
       "      <th>P-value</th>\n",
       "      <th>Name</th>\n",
       "    </tr>\n",
       "    <tr>\n",
       "      <th>PA14 id</th>\n",
       "      <th></th>\n",
       "      <th></th>\n",
       "      <th></th>\n",
       "      <th></th>\n",
       "    </tr>\n",
       "  </thead>\n",
       "  <tbody>\n",
       "    <tr>\n",
       "      <th>PA14_31460</th>\n",
       "      <td>PA2558</td>\n",
       "      <td>0.379687</td>\n",
       "      <td>5.494738e-183</td>\n",
       "      <td>NaN</td>\n",
       "    </tr>\n",
       "    <tr>\n",
       "      <th>PA14_63920</th>\n",
       "      <td>PA4835</td>\n",
       "      <td>0.473845</td>\n",
       "      <td>1.481802e-297</td>\n",
       "      <td>NaN</td>\n",
       "    </tr>\n",
       "    <tr>\n",
       "      <th>PA14_07850</th>\n",
       "      <td>PA0602</td>\n",
       "      <td>0.502272</td>\n",
       "      <td>0.000000e+00</td>\n",
       "      <td>NaN</td>\n",
       "    </tr>\n",
       "    <tr>\n",
       "      <th>PA14_33230</th>\n",
       "      <td>PA2429</td>\n",
       "      <td>0.828851</td>\n",
       "      <td>0.000000e+00</td>\n",
       "      <td>NaN</td>\n",
       "    </tr>\n",
       "    <tr>\n",
       "      <th>PA14_47950</th>\n",
       "      <td>PA1257</td>\n",
       "      <td>0.856514</td>\n",
       "      <td>0.000000e+00</td>\n",
       "      <td>NaN</td>\n",
       "    </tr>\n",
       "  </tbody>\n",
       "</table>\n",
       "</div>"
      ],
      "text/plain": [
       "           PAO1 homolog id  Transcriptional similarity across strains  \\\n",
       "PA14 id                                                                 \n",
       "PA14_31460          PA2558                                   0.379687   \n",
       "PA14_63920          PA4835                                   0.473845   \n",
       "PA14_07850          PA0602                                   0.502272   \n",
       "PA14_33230          PA2429                                   0.828851   \n",
       "PA14_47950          PA1257                                   0.856514   \n",
       "\n",
       "                  P-value Name  \n",
       "PA14 id                         \n",
       "PA14_31460  5.494738e-183  NaN  \n",
       "PA14_63920  1.481802e-297  NaN  \n",
       "PA14_07850   0.000000e+00  NaN  \n",
       "PA14_33230   0.000000e+00  NaN  \n",
       "PA14_47950   0.000000e+00  NaN  "
      ]
     },
     "execution_count": 13,
     "metadata": {},
     "output_type": "execute_result"
    }
   ],
   "source": [
    "print(pa14_corr_df.shape)\n",
    "pa14_corr_df.head()"
   ]
  },
  {
   "cell_type": "markdown",
   "id": "6c8f5742",
   "metadata": {},
   "source": [
    "## Plots"
   ]
  },
  {
   "cell_type": "code",
   "execution_count": 14,
   "id": "cdf20e82",
   "metadata": {
    "scrolled": true
   },
   "outputs": [],
   "source": [
    "# Add label for most and least stable genes\n",
    "pao1_corr_df[\"label\"] = \"\"\n",
    "pa14_corr_df[\"label\"] = \"\"\n",
    "pao1_corr_df.loc[\n",
    "    pao1_corr_df[\"Transcriptional similarity across strains\"] > high_threshold, \"label\"\n",
    "] = \"most stable\"\n",
    "pao1_corr_df.loc[\n",
    "    pao1_corr_df[\"Transcriptional similarity across strains\"] < low_threshold, \"label\"\n",
    "] = \"least stable\"\n",
    "\n",
    "pa14_corr_df.loc[\n",
    "    pa14_corr_df[\"Transcriptional similarity across strains\"] > high_threshold, \"label\"\n",
    "] = \"most stable\"\n",
    "pa14_corr_df.loc[\n",
    "    pa14_corr_df[\"Transcriptional similarity across strains\"] < low_threshold, \"label\"\n",
    "] = \"least stable\""
   ]
  },
  {
   "cell_type": "code",
   "execution_count": 15,
   "id": "60fb972b",
   "metadata": {},
   "outputs": [
    {
     "data": {
      "text/plain": [
       "Text(0.5, 1.0, 'Similarity of core-core modules PAO1 to PA14')"
      ]
     },
     "execution_count": 15,
     "metadata": {},
     "output_type": "execute_result"
    },
    {
     "data": {
      "image/png": "[encoded data removed]",
      "text/plain": [
       "<Figure size 454.375x360 with 1 Axes>"
      ]
     },
     "metadata": {
      "needs_background": "light"
     },
     "output_type": "display_data"
    }
   ],
   "source": [
    "# Plot distribution of correlation scores\n",
    "# This scores indicate how transcriptionally similar genes are across PAO1 and PA14 strains\n",
    "fig_pao1 = sns.displot(\n",
    "    data=pao1_corr_df,\n",
    "    x=\"Transcriptional similarity across strains\",\n",
    "    hue=\"label\",\n",
    "    # bins=np.linspace(0, 0.7, 36),\n",
    ")\n",
    "# TO DO\n",
    "# Select certain colors\n",
    "# Remove empty legend\n",
    "\n",
    "plt.title(\"Similarity of core-core modules PAO1 to PA14\")"
   ]
  },
  {
   "cell_type": "code",
   "execution_count": 16,
   "id": "1242ebbc",
   "metadata": {},
   "outputs": [
    {
     "data": {
      "text/plain": [
       "Text(0.5, 1.0, 'Similarity of core-core modules PA14 to PAO1')"
      ]
     },
     "execution_count": 16,
     "metadata": {},
     "output_type": "execute_result"
    },
    {
     "data": {
      "image/png": "[encoded data removed]",
      "text/plain": [
       "<Figure size 454.375x360 with 1 Axes>"
      ]
     },
     "metadata": {
      "needs_background": "light"
     },
     "output_type": "display_data"
    }
   ],
   "source": [
    "fig_pa14 = sns.displot(\n",
    "    data=pa14_corr_df,\n",
    "    x=\"Transcriptional similarity across strains\",\n",
    "    hue=\"label\",\n",
    "    # bins=np.linspace(0, 0.7, 36),\n",
    ")\n",
    "plt.title(\"Similarity of core-core modules PA14 to PAO1\")"
   ]
  },
  {
   "cell_type": "code",
   "execution_count": 17,
   "id": "86cecfe7",
   "metadata": {},
   "outputs": [],
   "source": [
    "# Select genes that are on the high and low end to examine, map gene names\n",
    "high_pao1 = pao1_corr_df[\n",
    "    pao1_corr_df[\"Transcriptional similarity across strains\"] > high_threshold\n",
    "]\n",
    "low_pao1 = pao1_corr_df[\n",
    "    pao1_corr_df[\"Transcriptional similarity across strains\"] < low_threshold\n",
    "]"
   ]
  },
  {
   "cell_type": "code",
   "execution_count": 18,
   "id": "ed3d905b",
   "metadata": {},
   "outputs": [],
   "source": [
    "high_pa14 = pa14_corr_df[\n",
    "    pa14_corr_df[\"Transcriptional similarity across strains\"] > high_threshold\n",
    "]\n",
    "low_pa14 = pa14_corr_df[\n",
    "    pa14_corr_df[\"Transcriptional similarity across strains\"] < low_threshold\n",
    "]"
   ]
  },
  {
   "cell_type": "code",
   "execution_count": 19,
   "id": "c951445e",
   "metadata": {},
   "outputs": [
    {
     "data": {
      "text/html": [
       "<div>\n",
       "<style scoped>\n",
       "    .dataframe tbody tr th:only-of-type {\n",
       "        vertical-align: middle;\n",
       "    }\n",
       "\n",
       "    .dataframe tbody tr th {\n",
       "        vertical-align: top;\n",
       "    }\n",
       "\n",
       "    .dataframe thead th {\n",
       "        text-align: right;\n",
       "    }\n",
       "</style>\n",
       "<table border=\"1\" class=\"dataframe\">\n",
       "  <thead>\n",
       "    <tr style=\"text-align: right;\">\n",
       "      <th></th>\n",
       "      <th>PA14 homolog id</th>\n",
       "      <th>Transcriptional similarity across strains</th>\n",
       "      <th>P-value</th>\n",
       "      <th>Name</th>\n",
       "      <th>label</th>\n",
       "    </tr>\n",
       "    <tr>\n",
       "      <th>PAO1 id</th>\n",
       "      <th></th>\n",
       "      <th></th>\n",
       "      <th></th>\n",
       "      <th></th>\n",
       "      <th></th>\n",
       "    </tr>\n",
       "  </thead>\n",
       "  <tbody>\n",
       "    <tr>\n",
       "      <th>PA0186</th>\n",
       "      <td>PA14_02360</td>\n",
       "      <td>0.687988</td>\n",
       "      <td>0.0</td>\n",
       "      <td>NaN</td>\n",
       "      <td>most stable</td>\n",
       "    </tr>\n",
       "    <tr>\n",
       "      <th>PA4268</th>\n",
       "      <td>PA14_08790</td>\n",
       "      <td>0.818866</td>\n",
       "      <td>0.0</td>\n",
       "      <td>rpsL</td>\n",
       "      <td>most stable</td>\n",
       "    </tr>\n",
       "    <tr>\n",
       "      <th>PA4471</th>\n",
       "      <td>PA14_58040</td>\n",
       "      <td>0.733858</td>\n",
       "      <td>0.0</td>\n",
       "      <td>NaN</td>\n",
       "      <td>most stable</td>\n",
       "    </tr>\n",
       "    <tr>\n",
       "      <th>PA2323</th>\n",
       "      <td>PA14_34600</td>\n",
       "      <td>0.549771</td>\n",
       "      <td>0.0</td>\n",
       "      <td>NaN</td>\n",
       "      <td>most stable</td>\n",
       "    </tr>\n",
       "    <tr>\n",
       "      <th>PA2412</th>\n",
       "      <td>PA14_33510</td>\n",
       "      <td>0.664828</td>\n",
       "      <td>0.0</td>\n",
       "      <td>NaN</td>\n",
       "      <td>most stable</td>\n",
       "    </tr>\n",
       "  </tbody>\n",
       "</table>\n",
       "</div>"
      ],
      "text/plain": [
       "        PA14 homolog id  Transcriptional similarity across strains  P-value  \\\n",
       "PAO1 id                                                                       \n",
       "PA0186       PA14_02360                                   0.687988      0.0   \n",
       "PA4268       PA14_08790                                   0.818866      0.0   \n",
       "PA4471       PA14_58040                                   0.733858      0.0   \n",
       "PA2323       PA14_34600                                   0.549771      0.0   \n",
       "PA2412       PA14_33510                                   0.664828      0.0   \n",
       "\n",
       "         Name        label  \n",
       "PAO1 id                     \n",
       "PA0186    NaN  most stable  \n",
       "PA4268   rpsL  most stable  \n",
       "PA4471    NaN  most stable  \n",
       "PA2323    NaN  most stable  \n",
       "PA2412    NaN  most stable  "
      ]
     },
     "execution_count": 19,
     "metadata": {},
     "output_type": "execute_result"
    }
   ],
   "source": [
    "high_pao1.head()"
   ]
  },
  {
   "cell_type": "code",
   "execution_count": 20,
   "id": "2cd175fa",
   "metadata": {},
   "outputs": [
    {
     "data": {
      "text/html": [
       "<div>\n",
       "<style scoped>\n",
       "    .dataframe tbody tr th:only-of-type {\n",
       "        vertical-align: middle;\n",
       "    }\n",
       "\n",
       "    .dataframe tbody tr th {\n",
       "        vertical-align: top;\n",
       "    }\n",
       "\n",
       "    .dataframe thead th {\n",
       "        text-align: right;\n",
       "    }\n",
       "</style>\n",
       "<table border=\"1\" class=\"dataframe\">\n",
       "  <thead>\n",
       "    <tr style=\"text-align: right;\">\n",
       "      <th></th>\n",
       "      <th>PAO1 homolog id</th>\n",
       "      <th>Transcriptional similarity across strains</th>\n",
       "      <th>P-value</th>\n",
       "      <th>Name</th>\n",
       "      <th>label</th>\n",
       "    </tr>\n",
       "    <tr>\n",
       "      <th>PA14 id</th>\n",
       "      <th></th>\n",
       "      <th></th>\n",
       "      <th></th>\n",
       "      <th></th>\n",
       "      <th></th>\n",
       "    </tr>\n",
       "  </thead>\n",
       "  <tbody>\n",
       "    <tr>\n",
       "      <th>PA14_07850</th>\n",
       "      <td>PA0602</td>\n",
       "      <td>0.502272</td>\n",
       "      <td>0.0</td>\n",
       "      <td>NaN</td>\n",
       "      <td>most stable</td>\n",
       "    </tr>\n",
       "    <tr>\n",
       "      <th>PA14_33230</th>\n",
       "      <td>PA2429</td>\n",
       "      <td>0.828851</td>\n",
       "      <td>0.0</td>\n",
       "      <td>NaN</td>\n",
       "      <td>most stable</td>\n",
       "    </tr>\n",
       "    <tr>\n",
       "      <th>PA14_47950</th>\n",
       "      <td>PA1257</td>\n",
       "      <td>0.856514</td>\n",
       "      <td>0.0</td>\n",
       "      <td>NaN</td>\n",
       "      <td>most stable</td>\n",
       "    </tr>\n",
       "    <tr>\n",
       "      <th>PA14_61010</th>\n",
       "      <td>PA4611</td>\n",
       "      <td>0.606674</td>\n",
       "      <td>0.0</td>\n",
       "      <td>NaN</td>\n",
       "      <td>most stable</td>\n",
       "    </tr>\n",
       "    <tr>\n",
       "      <th>PA14_42670</th>\n",
       "      <td>PA1689</td>\n",
       "      <td>0.768301</td>\n",
       "      <td>0.0</td>\n",
       "      <td>NaN</td>\n",
       "      <td>most stable</td>\n",
       "    </tr>\n",
       "  </tbody>\n",
       "</table>\n",
       "</div>"
      ],
      "text/plain": [
       "           PAO1 homolog id  Transcriptional similarity across strains  \\\n",
       "PA14 id                                                                 \n",
       "PA14_07850          PA0602                                   0.502272   \n",
       "PA14_33230          PA2429                                   0.828851   \n",
       "PA14_47950          PA1257                                   0.856514   \n",
       "PA14_61010          PA4611                                   0.606674   \n",
       "PA14_42670          PA1689                                   0.768301   \n",
       "\n",
       "            P-value Name        label  \n",
       "PA14 id                                \n",
       "PA14_07850      0.0  NaN  most stable  \n",
       "PA14_33230      0.0  NaN  most stable  \n",
       "PA14_47950      0.0  NaN  most stable  \n",
       "PA14_61010      0.0  NaN  most stable  \n",
       "PA14_42670      0.0  NaN  most stable  "
      ]
     },
     "execution_count": 20,
     "metadata": {},
     "output_type": "execute_result"
    }
   ],
   "source": [
    "high_pa14.head()"
   ]
  },
  {
   "cell_type": "code",
   "execution_count": 21,
   "id": "9c8f0557",
   "metadata": {},
   "outputs": [
    {
     "data": {
      "text/html": [
       "<div>\n",
       "<style scoped>\n",
       "    .dataframe tbody tr th:only-of-type {\n",
       "        vertical-align: middle;\n",
       "    }\n",
       "\n",
       "    .dataframe tbody tr th {\n",
       "        vertical-align: top;\n",
       "    }\n",
       "\n",
       "    .dataframe thead th {\n",
       "        text-align: right;\n",
       "    }\n",
       "</style>\n",
       "<table border=\"1\" class=\"dataframe\">\n",
       "  <thead>\n",
       "    <tr style=\"text-align: right;\">\n",
       "      <th></th>\n",
       "      <th>PA14 homolog id</th>\n",
       "      <th>Transcriptional similarity across strains</th>\n",
       "      <th>P-value</th>\n",
       "      <th>Name</th>\n",
       "      <th>label</th>\n",
       "    </tr>\n",
       "    <tr>\n",
       "      <th>PAO1 id</th>\n",
       "      <th></th>\n",
       "      <th></th>\n",
       "      <th></th>\n",
       "      <th></th>\n",
       "      <th></th>\n",
       "    </tr>\n",
       "  </thead>\n",
       "  <tbody>\n",
       "    <tr>\n",
       "      <th>PA2064</th>\n",
       "      <td>PA14_37810</td>\n",
       "      <td>-0.102582</td>\n",
       "      <td>5.450728e-14</td>\n",
       "      <td>pcoB</td>\n",
       "      <td>least stable</td>\n",
       "    </tr>\n",
       "    <tr>\n",
       "      <th>PA0159</th>\n",
       "      <td>PA14_01980</td>\n",
       "      <td>0.017515</td>\n",
       "      <td>2.002690e-01</td>\n",
       "      <td>NaN</td>\n",
       "      <td>least stable</td>\n",
       "    </tr>\n",
       "    <tr>\n",
       "      <th>PA1949</th>\n",
       "      <td>PA14_39300</td>\n",
       "      <td>0.176052</td>\n",
       "      <td>1.710361e-38</td>\n",
       "      <td>rbsR</td>\n",
       "      <td>least stable</td>\n",
       "    </tr>\n",
       "    <tr>\n",
       "      <th>PA0140</th>\n",
       "      <td>PA14_01720</td>\n",
       "      <td>0.147510</td>\n",
       "      <td>2.100803e-27</td>\n",
       "      <td>ahpF</td>\n",
       "      <td>least stable</td>\n",
       "    </tr>\n",
       "    <tr>\n",
       "      <th>PA5480</th>\n",
       "      <td>PA14_72350</td>\n",
       "      <td>0.156368</td>\n",
       "      <td>1.253665e-30</td>\n",
       "      <td>NaN</td>\n",
       "      <td>least stable</td>\n",
       "    </tr>\n",
       "  </tbody>\n",
       "</table>\n",
       "</div>"
      ],
      "text/plain": [
       "        PA14 homolog id  Transcriptional similarity across strains  \\\n",
       "PAO1 id                                                              \n",
       "PA2064       PA14_37810                                  -0.102582   \n",
       "PA0159       PA14_01980                                   0.017515   \n",
       "PA1949       PA14_39300                                   0.176052   \n",
       "PA0140       PA14_01720                                   0.147510   \n",
       "PA5480       PA14_72350                                   0.156368   \n",
       "\n",
       "              P-value  Name         label  \n",
       "PAO1 id                                    \n",
       "PA2064   5.450728e-14  pcoB  least stable  \n",
       "PA0159   2.002690e-01   NaN  least stable  \n",
       "PA1949   1.710361e-38  rbsR  least stable  \n",
       "PA0140   2.100803e-27  ahpF  least stable  \n",
       "PA5480   1.253665e-30   NaN  least stable  "
      ]
     },
     "execution_count": 21,
     "metadata": {},
     "output_type": "execute_result"
    }
   ],
   "source": [
    "low_pao1.head()"
   ]
  },
  {
   "cell_type": "code",
   "execution_count": 22,
   "id": "7fb880b3",
   "metadata": {},
   "outputs": [
    {
     "data": {
      "text/html": [
       "<div>\n",
       "<style scoped>\n",
       "    .dataframe tbody tr th:only-of-type {\n",
       "        vertical-align: middle;\n",
       "    }\n",
       "\n",
       "    .dataframe tbody tr th {\n",
       "        vertical-align: top;\n",
       "    }\n",
       "\n",
       "    .dataframe thead th {\n",
       "        text-align: right;\n",
       "    }\n",
       "</style>\n",
       "<table border=\"1\" class=\"dataframe\">\n",
       "  <thead>\n",
       "    <tr style=\"text-align: right;\">\n",
       "      <th></th>\n",
       "      <th>PAO1 homolog id</th>\n",
       "      <th>Transcriptional similarity across strains</th>\n",
       "      <th>P-value</th>\n",
       "      <th>Name</th>\n",
       "      <th>label</th>\n",
       "    </tr>\n",
       "    <tr>\n",
       "      <th>PA14 id</th>\n",
       "      <th></th>\n",
       "      <th></th>\n",
       "      <th></th>\n",
       "      <th></th>\n",
       "      <th></th>\n",
       "    </tr>\n",
       "  </thead>\n",
       "  <tbody>\n",
       "    <tr>\n",
       "      <th>PA14_10020</th>\n",
       "      <td>PA4164</td>\n",
       "      <td>0.106994</td>\n",
       "      <td>4.322921e-15</td>\n",
       "      <td>NaN</td>\n",
       "      <td>least stable</td>\n",
       "    </tr>\n",
       "    <tr>\n",
       "      <th>PA14_66510</th>\n",
       "      <td>PA5030</td>\n",
       "      <td>0.128784</td>\n",
       "      <td>3.224806e-21</td>\n",
       "      <td>NaN</td>\n",
       "      <td>least stable</td>\n",
       "    </tr>\n",
       "    <tr>\n",
       "      <th>PA14_38320</th>\n",
       "      <td>PA2026</td>\n",
       "      <td>0.155539</td>\n",
       "      <td>2.590166e-30</td>\n",
       "      <td>NaN</td>\n",
       "      <td>least stable</td>\n",
       "    </tr>\n",
       "    <tr>\n",
       "      <th>PA14_56600</th>\n",
       "      <td>PA4353</td>\n",
       "      <td>0.109732</td>\n",
       "      <td>8.475024e-16</td>\n",
       "      <td>NaN</td>\n",
       "      <td>least stable</td>\n",
       "    </tr>\n",
       "    <tr>\n",
       "      <th>PA14_16340</th>\n",
       "      <td>PA3715</td>\n",
       "      <td>-0.090266</td>\n",
       "      <td>3.762965e-11</td>\n",
       "      <td>NaN</td>\n",
       "      <td>least stable</td>\n",
       "    </tr>\n",
       "  </tbody>\n",
       "</table>\n",
       "</div>"
      ],
      "text/plain": [
       "           PAO1 homolog id  Transcriptional similarity across strains  \\\n",
       "PA14 id                                                                 \n",
       "PA14_10020          PA4164                                   0.106994   \n",
       "PA14_66510          PA5030                                   0.128784   \n",
       "PA14_38320          PA2026                                   0.155539   \n",
       "PA14_56600          PA4353                                   0.109732   \n",
       "PA14_16340          PA3715                                  -0.090266   \n",
       "\n",
       "                 P-value Name         label  \n",
       "PA14 id                                      \n",
       "PA14_10020  4.322921e-15  NaN  least stable  \n",
       "PA14_66510  3.224806e-21  NaN  least stable  \n",
       "PA14_38320  2.590166e-30  NaN  least stable  \n",
       "PA14_56600  8.475024e-16  NaN  least stable  \n",
       "PA14_16340  3.762965e-11  NaN  least stable  "
      ]
     },
     "execution_count": 22,
     "metadata": {},
     "output_type": "execute_result"
    }
   ],
   "source": [
    "low_pa14.head()"
   ]
  },
  {
   "cell_type": "markdown",
   "id": "66b58e68",
   "metadata": {},
   "source": [
    "As a check, we would expect that the most stable core genes are the same if we start with PAO1 gene ids and map to PA14 gene ids (`high_pao1_set`) versus if we start with PA14 gene ids and map to PAO1 gene ids (`high_pa14_set`). Similarly if we compare the least stable core genes.\n",
    "\n",
    "Below we can see that all but a few genes overlap. These genes seem to have fallen slighly outside the bounds of what is considered most/least stable which is why they are not found in the other mapped set."
   ]
  },
  {
   "cell_type": "code",
   "execution_count": 23,
   "id": "bb17ec1d",
   "metadata": {},
   "outputs": [
    {
     "data": {
      "text/plain": [
       "<matplotlib_venn._common.VennDiagram at 0x7f59501bf890>"
      ]
     },
     "execution_count": 23,
     "metadata": {},
     "output_type": "execute_result"
    },
    {
     "data": {
      "image/png": "[encoded data removed]",
      "text/plain": [
       "<Figure size 432x288 with 1 Axes>"
      ]
     },
     "metadata": {},
     "output_type": "display_data"
    }
   ],
   "source": [
    "# Check if the highly correlated genes from PAO1 to PA14 are the same as the ones from PA14 to PAO1\n",
    "high_pao1_set = set(high_pao1[\"PA14 homolog id\"])\n",
    "high_pa14_set = set(high_pa14.index)\n",
    "venn2(\n",
    "    [high_pao1_set, high_pa14_set],\n",
    "    set_labels=(\"highly corr PAO1 to PA14\", \"highly corr PA14 to PAO1\"),\n",
    ")"
   ]
  },
  {
   "cell_type": "code",
   "execution_count": 24,
   "id": "37b900a3",
   "metadata": {},
   "outputs": [
    {
     "data": {
      "text/plain": [
       "{'PA14_09440', 'PA14_09450'}"
      ]
     },
     "execution_count": 24,
     "metadata": {},
     "output_type": "execute_result"
    }
   ],
   "source": [
    "unmapped_pao1_gene_ids = high_pao1_set.difference(high_pa14_set)\n",
    "unmapped_pao1_gene_ids"
   ]
  },
  {
   "cell_type": "code",
   "execution_count": 25,
   "id": "e5b89f9a",
   "metadata": {},
   "outputs": [
    {
     "name": "stdout",
     "output_type": "stream",
     "text": [
      "PA14_09440\n",
      "PA14_09450\n"
     ]
    }
   ],
   "source": [
    "# Look at the PAO1 gene ids that the unmapped PA14 genes map to\n",
    "# Maybe these gene ids are not in the expression compendium\n",
    "# That does not seem to be the case\n",
    "for gene_id in unmapped_pao1_gene_ids:\n",
    "    if gene_id in pa14_corr.index:\n",
    "        print(gene_id)"
   ]
  },
  {
   "cell_type": "code",
   "execution_count": 26,
   "id": "f7587ce0",
   "metadata": {
    "scrolled": true
   },
   "outputs": [
    {
     "data": {
      "text/html": [
       "<div>\n",
       "<style scoped>\n",
       "    .dataframe tbody tr th:only-of-type {\n",
       "        vertical-align: middle;\n",
       "    }\n",
       "\n",
       "    .dataframe tbody tr th {\n",
       "        vertical-align: top;\n",
       "    }\n",
       "\n",
       "    .dataframe thead th {\n",
       "        text-align: right;\n",
       "    }\n",
       "</style>\n",
       "<table border=\"1\" class=\"dataframe\">\n",
       "  <thead>\n",
       "    <tr style=\"text-align: right;\">\n",
       "      <th></th>\n",
       "      <th>Name</th>\n",
       "      <th>Product.Name</th>\n",
       "      <th>GeneID.(PAO1)</th>\n",
       "      <th>PAO1_ID</th>\n",
       "      <th>annotation</th>\n",
       "      <th>num_mapped_genes</th>\n",
       "    </tr>\n",
       "    <tr>\n",
       "      <th>PA14_ID</th>\n",
       "      <th></th>\n",
       "      <th></th>\n",
       "      <th></th>\n",
       "      <th></th>\n",
       "      <th></th>\n",
       "      <th></th>\n",
       "    </tr>\n",
       "  </thead>\n",
       "  <tbody>\n",
       "    <tr>\n",
       "      <th>PA14_09450</th>\n",
       "      <td>phzD1</td>\n",
       "      <td>phenazine biosynthesis protein PhzD</td>\n",
       "      <td>NaN</td>\n",
       "      <td>PA1902, PA4213</td>\n",
       "      <td>core</td>\n",
       "      <td>2.0</td>\n",
       "    </tr>\n",
       "    <tr>\n",
       "      <th>PA14_09440</th>\n",
       "      <td>phzE1</td>\n",
       "      <td>phenazine biosynthesis protein PhzE</td>\n",
       "      <td>NaN</td>\n",
       "      <td>PA1903, PA4214</td>\n",
       "      <td>core</td>\n",
       "      <td>2.0</td>\n",
       "    </tr>\n",
       "  </tbody>\n",
       "</table>\n",
       "</div>"
      ],
      "text/plain": [
       "             Name                         Product.Name  GeneID.(PAO1)  \\\n",
       "PA14_ID                                                                 \n",
       "PA14_09450  phzD1  phenazine biosynthesis protein PhzD            NaN   \n",
       "PA14_09440  phzE1  phenazine biosynthesis protein PhzE            NaN   \n",
       "\n",
       "                   PAO1_ID annotation  num_mapped_genes  \n",
       "PA14_ID                                                  \n",
       "PA14_09450  PA1902, PA4213       core               2.0  \n",
       "PA14_09440  PA1903, PA4214       core               2.0  "
      ]
     },
     "execution_count": 26,
     "metadata": {},
     "output_type": "execute_result"
    }
   ],
   "source": [
    "# Looks like they barely fell below the most stable threshold used (0.5)\n",
    "# pa14_corr_df.loc[[\"PA14_07050\", \"PA14_15310\"]] # using spell input\n",
    "# Looks like there is no equivalent mapping in our annotations\n",
    "# Not sure the reason for this\n",
    "gene_mapping_pa14.loc[[\"PA14_09450\", \"PA14_09440\"]]"
   ]
  },
  {
   "cell_type": "code",
   "execution_count": 27,
   "id": "5d61f208",
   "metadata": {},
   "outputs": [
    {
     "data": {
      "text/plain": [
       "<matplotlib_venn._common.VennDiagram at 0x7f5950e740d0>"
      ]
     },
     "execution_count": 27,
     "metadata": {},
     "output_type": "execute_result"
    },
    {
     "data": {
      "image/png": "[encoded data removed]",
      "text/plain": [
       "<Figure size 432x288 with 1 Axes>"
      ]
     },
     "metadata": {},
     "output_type": "display_data"
    }
   ],
   "source": [
    "# Check if the lowly correlated genes from PAO1 to PA14 are the same as the ones from PA14 to PAO1\n",
    "low_pao1_set = set(low_pao1[\"PA14 homolog id\"])\n",
    "low_pa14_set = set(low_pa14.index)\n",
    "venn2(\n",
    "    [low_pao1_set, low_pa14_set],\n",
    "    set_labels=(\"low corr PAO1 to PA14\", \"low corr PA14 to PAO1\"),\n",
    ")"
   ]
  },
  {
   "cell_type": "code",
   "execution_count": 28,
   "id": "b7423528",
   "metadata": {},
   "outputs": [
    {
     "data": {
      "text/plain": [
       "set()"
      ]
     },
     "execution_count": 28,
     "metadata": {},
     "output_type": "execute_result"
    }
   ],
   "source": [
    "# There are unmapped ids using spell\n",
    "unmapped_pa14_gene_ids = low_pa14_set.difference(low_pao1_set)\n",
    "unmapped_pa14_gene_ids"
   ]
  },
  {
   "cell_type": "code",
   "execution_count": 29,
   "id": "f84a81b7",
   "metadata": {},
   "outputs": [],
   "source": [
    "# Look at the PA14 gene ids that the unmapped PAO1 genes map to\n",
    "# Maybe these PA14 gene ids are not in the expression compendium\n",
    "# That does not seem to be the case\n",
    "for gene_id in unmapped_pa14_gene_ids:\n",
    "    if gene_id in pa14_corr.index:\n",
    "        print(gene_id)"
   ]
  },
  {
   "cell_type": "code",
   "execution_count": 30,
   "id": "552e4ce7",
   "metadata": {},
   "outputs": [],
   "source": [
    "# Looks like they barely fell above the least stable threshold used (0.2)\n",
    "# pa14_corr_df.loc[\"PA14_36900\"] # using spell data"
   ]
  },
  {
   "cell_type": "code",
   "execution_count": 31,
   "id": "51146b30",
   "metadata": {},
   "outputs": [],
   "source": [
    "# Save\n",
    "fig_pao1.savefig(\n",
    "    pao1_similarity_dist_filename,\n",
    "    format=\"svg\",\n",
    "    bbox_inches=\"tight\",\n",
    "    transparent=True,\n",
    "    pad_inches=0,\n",
    "    dpi=300,\n",
    ")\n",
    "\n",
    "fig_pa14.savefig(\n",
    "    pa14_similarity_dist_filename,\n",
    "    format=\"svg\",\n",
    "    bbox_inches=\"tight\",\n",
    "    transparent=True,\n",
    "    pad_inches=0,\n",
    "    dpi=300,\n",
    ")"
   ]
  },
  {
   "cell_type": "code",
   "execution_count": 32,
   "id": "df2f8ca2",
   "metadata": {},
   "outputs": [],
   "source": [
    "# Save transcriptional similarity df\n",
    "pao1_corr_df.to_csv(pao1_similarity_scores_filename, sep=\"\\t\")\n",
    "pa14_corr_df.to_csv(pa14_similarity_scores_filename, sep=\"\\t\")"
   ]
  },
  {
   "cell_type": "markdown",
   "id": "c8b418de",
   "metadata": {},
   "source": [
    "**Takeaways:**\n",
    "The distribution plots are the distribution of correlation scores, which represent how correlated a core gene was with its homolog. As an example, say we have core gene PA0001, we can get its correlation profile (i.e. the row of the correlation matrix) that tells us which core genes PA0001 is highly and lowly correlated with. Then we can map PA0001 to its homolog in PA14 and get its correlation profile. Finally we can take the correlation of those correlation profile to determine how consistent PA0001's relationships are across strains. Genes with a high correlation score (right tail of the distribution) represent genes that are stable and are core genes that are related to the same set of core genes in PAO1 and PA14. While genes with a low correlation score (left tail of the distribution) represent genes that are unstable and are core genes that are not related to the same set of core genes in PAO1 and PA14.\n",
    "\n",
    "* Some of the the highly consistent core genes include those related to type VI secretion system that plays an important role in resistance of biofilms to antibiotics (_tssC1_, https://www.ncbi.nlm.nih.gov/pmc/articles/PMC3187457/; _hcp1_, https://www.ncbi.nlm.nih.gov/pmc/articles/PMC2831478/; _tssF1_)\n",
    "\n",
    "* Some of the not consistent core genes include _gloA2_ (related to metabolism); PA3507, PA0478 (putative enzymes); PA4685 (hypothetical protein)"
   ]
  },
  {
   "cell_type": "markdown",
   "id": "fa8d5306",
   "metadata": {},
   "source": [
    "#### Compare results using SPELL-processed expression data vs raw expression data\n",
    "\n",
    "Here we want to compare the composition of the most and least stable genes using the different versions of input."
   ]
  },
  {
   "cell_type": "code",
   "execution_count": 33,
   "id": "f7c266ce",
   "metadata": {},
   "outputs": [],
   "source": [
    "# Load version using raw expression data\n",
    "pao1_similarity_scores_filename = \"pao1_similarity_scores.tsv\"\n",
    "pa14_similarity_scores_filename = \"pa14_similarity_scores.tsv\"\n",
    "\n",
    "pao1_similarity_scores = pd.read_csv(\n",
    "    pao1_similarity_scores_filename, sep=\"\\t\", header=0, index_col=0\n",
    ")\n",
    "pa14_similarity_scores = pd.read_csv(\n",
    "    pa14_similarity_scores_filename, sep=\"\\t\", header=0, index_col=0\n",
    ")"
   ]
  },
  {
   "cell_type": "code",
   "execution_count": 34,
   "id": "edfd0139",
   "metadata": {},
   "outputs": [],
   "source": [
    "# Load version using SPELL-processed expression data\n",
    "pao1_similarity_scores_filename = \"pao1_core_similarity_associations_final_spell.tsv\"\n",
    "pa14_similarity_scores_filename = \"pa14_core_similarity_associations_final_spell.tsv\"\n",
    "\n",
    "pao1_similarity_scores_spell = pd.read_csv(\n",
    "    pao1_similarity_scores_filename, sep=\"\\t\", header=0, index_col=0\n",
    ")\n",
    "pa14_similarity_scores_spell = pd.read_csv(\n",
    "    pa14_similarity_scores_filename, sep=\"\\t\", header=0, index_col=0\n",
    ")"
   ]
  },
  {
   "cell_type": "code",
   "execution_count": 47,
   "id": "dc99cfc4",
   "metadata": {},
   "outputs": [],
   "source": [
    "# Merge scores across raw and SPELL-processed versions\n",
    "pao1_raw_spell = pao1_similarity_scores.merge(\n",
    "    pao1_similarity_scores_spell,\n",
    "    left_index=True,\n",
    "    right_index=True,\n",
    "    suffixes=[\"_raw\", \"_spell\"],\n",
    ")\n",
    "pa14_raw_spell = pa14_similarity_scores.merge(\n",
    "    pa14_similarity_scores_spell,\n",
    "    left_index=True,\n",
    "    right_index=True,\n",
    "    suffixes=[\"_raw\", \"_spell\"],\n",
    ")"
   ]
  },
  {
   "cell_type": "code",
   "execution_count": 72,
   "id": "58b9690b",
   "metadata": {},
   "outputs": [
    {
     "data": {
      "text/plain": [
       "Text(0.5, 0.98, 'PAO1 raw vs SPELL')"
      ]
     },
     "execution_count": 72,
     "metadata": {},
     "output_type": "execute_result"
    },
    {
     "data": {
      "image/png": "[encoded data removed]",
      "text/plain": [
       "<Figure size 432x432 with 3 Axes>"
      ]
     },
     "metadata": {
      "needs_background": "light"
     },
     "output_type": "display_data"
    }
   ],
   "source": [
    "# Pairplot\n",
    "sns.jointplot(\n",
    "    data=pao1_raw_spell,\n",
    "    x=\"Transcriptional similarity across strains_raw\",\n",
    "    y=\"Transcriptional similarity across strains_spell\",\n",
    "    kind=\"hex\",\n",
    ")\n",
    "plt.suptitle(\"PAO1 raw vs SPELL\")"
   ]
  },
  {
   "cell_type": "code",
   "execution_count": 80,
   "id": "740ee00c",
   "metadata": {},
   "outputs": [
    {
     "data": {
      "text/plain": [
       "Text(0.5, 0.98, 'PA14 raw vs SPELL')"
      ]
     },
     "execution_count": 80,
     "metadata": {},
     "output_type": "execute_result"
    },
    {
     "data": {
      "image/png": "[encoded data removed]",
      "text/plain": [
       "<Figure size 432x432 with 3 Axes>"
      ]
     },
     "metadata": {
      "needs_background": "light"
     },
     "output_type": "display_data"
    }
   ],
   "source": [
    "sns.jointplot(\n",
    "    data=pa14_raw_spell,\n",
    "    x=\"Transcriptional similarity across strains_raw\",\n",
    "    y=\"Transcriptional similarity across strains_spell\",\n",
    "    kind=\"hex\",\n",
    ")\n",
    "plt.suptitle(\"PA14 raw vs SPELL\")"
   ]
  },
  {
   "cell_type": "code",
   "execution_count": 35,
   "id": "e521e91a",
   "metadata": {},
   "outputs": [],
   "source": [
    "# Get most stable genes\n",
    "pao1_most_stable = pao1_similarity_scores[\n",
    "    pao1_similarity_scores[\"label\"] == \"most stable\"\n",
    "].index\n",
    "pao1_most_stable_spell = pao1_similarity_scores_spell[\n",
    "    pao1_similarity_scores_spell[\"label\"] == \"most stable\"\n",
    "].index\n",
    "\n",
    "pa14_most_stable = pa14_similarity_scores[\n",
    "    pa14_similarity_scores[\"label\"] == \"most stable\"\n",
    "].index\n",
    "pa14_most_stable_spell = pa14_similarity_scores_spell[\n",
    "    pa14_similarity_scores_spell[\"label\"] == \"most stable\"\n",
    "].index"
   ]
  },
  {
   "cell_type": "code",
   "execution_count": 36,
   "id": "cbf6857d",
   "metadata": {},
   "outputs": [
    {
     "name": "stdout",
     "output_type": "stream",
     "text": [
      "Index(['PA4275', 'PA2393', 'PA4025', 'PA2092', 'PA5223', 'PA3356', 'PA3860',\n",
      "       'PA0934', 'PA0826', 'PA3135',\n",
      "       ...\n",
      "       'PA1740', 'PA1634', 'PA1022', 'PA1879', 'PA1730', 'PA3820', 'PA5148',\n",
      "       'PA5378', 'PA0101', 'PA1346'],\n",
      "      dtype='object', name='PAO1 id', length=3928)\n",
      "Index(['PA0586', 'PA3382', 'PA3803', 'PA3162', 'PA5114', 'PA4056', 'PA3692',\n",
      "       'PA2616', 'PA1804', 'PA2614',\n",
      "       ...\n",
      "       'PA5065', 'PA5544', 'PA4720', 'PA3444', 'PA1838', 'PA1767', 'PA3799',\n",
      "       'PA4851', 'PA4320', 'PA2195'],\n",
      "      dtype='object', name='PAO1 id', length=473)\n",
      "Index(['PA14_68200', 'PA14_69780', 'PA14_55200', 'PA14_42320', 'PA14_14700',\n",
      "       'PA14_57870', 'PA14_01310', 'PA14_37100', 'PA14_38825', 'PA14_65630',\n",
      "       ...\n",
      "       'PA14_55450', 'PA14_13370', 'PA14_52420', 'PA14_65940', 'PA14_11560',\n",
      "       'PA14_08100', 'PA14_28650', 'PA14_64030', 'PA14_41510', 'PA14_73170'],\n",
      "      dtype='object', name='PA14 id', length=3927)\n",
      "Index(['PA14_65170', 'PA14_08860', 'PA14_08830', 'PA14_08920', 'PA14_12410',\n",
      "       'PA14_42610', 'PA14_36730', 'PA14_62770', 'PA14_42340', 'PA14_72230',\n",
      "       ...\n",
      "       'PA14_15980', 'PA14_41150', 'PA14_56720', 'PA14_07760', 'PA14_62910',\n",
      "       'PA14_01060', 'PA14_09080', 'PA14_37710', 'PA14_00910', 'PA14_06670'],\n",
      "      dtype='object', name='PA14 id', length=471)\n"
     ]
    }
   ],
   "source": [
    "print(pao1_most_stable)\n",
    "print(pao1_most_stable_spell)\n",
    "print(pa14_most_stable)\n",
    "print(pa14_most_stable_spell)"
   ]
  },
  {
   "cell_type": "code",
   "execution_count": 37,
   "id": "bdd3e2b0",
   "metadata": {},
   "outputs": [],
   "source": [
    "# Get least stable genes\n",
    "pao1_least_stable = pao1_similarity_scores[\n",
    "    pao1_similarity_scores[\"label\"] == \"least stable\"\n",
    "].index\n",
    "pao1_least_stable_spell = pao1_similarity_scores_spell[\n",
    "    pao1_similarity_scores_spell[\"label\"] == \"least stable\"\n",
    "].index\n",
    "\n",
    "pa14_least_stable = pa14_similarity_scores[\n",
    "    pa14_similarity_scores[\"label\"] == \"least stable\"\n",
    "].index\n",
    "pa14_least_stable_spell = pa14_similarity_scores_spell[\n",
    "    pa14_similarity_scores_spell[\"label\"] == \"least stable\"\n",
    "].index"
   ]
  },
  {
   "cell_type": "code",
   "execution_count": 38,
   "id": "fc6d6d2e",
   "metadata": {},
   "outputs": [
    {
     "name": "stdout",
     "output_type": "stream",
     "text": [
      "Index(['PA4722', 'PA3283', 'PA4508', 'PA2929', 'PA0223', 'PA2505', 'PA5111',\n",
      "       'PA2128', 'PA4598', 'PA1570',\n",
      "       ...\n",
      "       'PA2527', 'PA3867', 'PA1527', 'PA5081', 'PA4799', 'PA3901', 'PA4381',\n",
      "       'PA4592', 'PA0868', 'PA2523'],\n",
      "      dtype='object', name='PAO1 id', length=205)\n",
      "Index(['PA3077', 'PA2929', 'PA1962', 'PA1183', 'PA4973', 'PA5082', 'PA1939',\n",
      "       'PA0605', 'PA2065', 'PA1015',\n",
      "       ...\n",
      "       'PA1298', 'PA0603', 'PA1631', 'PA2917', 'PA0321', 'PA0978', 'PA2808',\n",
      "       'PA0740', 'PA2283', 'PA1928'],\n",
      "      dtype='object', name='PAO1 id', length=201)\n",
      "Index(['PA14_11660', 'PA14_29410', 'PA14_03180', 'PA14_10020', 'PA14_18620',\n",
      "       'PA14_18080', 'PA14_37060', 'PA14_48200', 'PA14_18060', 'PA14_42770',\n",
      "       ...\n",
      "       'PA14_37790', 'PA14_03010', 'PA14_28350', 'PA14_13250', 'PA14_35620',\n",
      "       'PA14_25980', 'PA14_02730', 'PA14_19680', 'PA14_70350', 'PA14_35690'],\n",
      "      dtype='object', name='PA14 id', length=205)\n",
      "Index(['PA14_48650', 'PA14_17810', 'PA14_58800', 'PA14_55150', 'PA14_53090',\n",
      "       'PA14_52380', 'PA14_58930', 'PA14_55600', 'PA14_46400', 'PA14_52820',\n",
      "       ...\n",
      "       'PA14_43380', 'PA14_30560', 'PA14_47970', 'PA14_05820', 'PA14_06080',\n",
      "       'PA14_38410', 'PA14_45910', 'PA14_53830', 'PA14_23450', 'PA14_28350'],\n",
      "      dtype='object', name='PA14 id', length=202)\n"
     ]
    }
   ],
   "source": [
    "print(pao1_least_stable)\n",
    "print(pao1_least_stable_spell)\n",
    "print(pa14_least_stable)\n",
    "print(pa14_least_stable_spell)"
   ]
  },
  {
   "cell_type": "code",
   "execution_count": 39,
   "id": "233b6be0",
   "metadata": {},
   "outputs": [
    {
     "data": {
      "text/plain": [
       "Text(0.5, 1.0, 'PAO1 most stable')"
      ]
     },
     "execution_count": 39,
     "metadata": {},
     "output_type": "execute_result"
    },
    {
     "data": {
      "image/png": "[encoded data removed]",
      "text/plain": [
       "<Figure size 432x288 with 1 Axes>"
      ]
     },
     "metadata": {},
     "output_type": "display_data"
    }
   ],
   "source": [
    "# Compare gene sets\n",
    "venn2(\n",
    "    [set(pao1_most_stable), set(pao1_most_stable_spell)],\n",
    "    set_labels=(\"PAO1 most\", \"PAO1 most SPELL\"),\n",
    ")\n",
    "plt.title(\"PAO1 most stable\")"
   ]
  },
  {
   "cell_type": "code",
   "execution_count": 40,
   "id": "61060dcf",
   "metadata": {},
   "outputs": [
    {
     "data": {
      "text/plain": [
       "Text(0.5, 1.0, 'PA14 most stable')"
      ]
     },
     "execution_count": 40,
     "metadata": {},
     "output_type": "execute_result"
    },
    {
     "data": {
      "image/png": "[encoded data removed]",
      "text/plain": [
       "<Figure size 432x288 with 1 Axes>"
      ]
     },
     "metadata": {},
     "output_type": "display_data"
    }
   ],
   "source": [
    "venn2(\n",
    "    [set(pa14_most_stable), set(pa14_most_stable_spell)],\n",
    "    set_labels=(\"PA14 most\", \"PA14 most SPELL\"),\n",
    ")\n",
    "plt.title(\"PA14 most stable\")"
   ]
  },
  {
   "cell_type": "code",
   "execution_count": 41,
   "id": "a11e5885",
   "metadata": {},
   "outputs": [
    {
     "data": {
      "text/plain": [
       "Text(0.5, 1.0, 'PAO1 least stable')"
      ]
     },
     "execution_count": 41,
     "metadata": {},
     "output_type": "execute_result"
    },
    {
     "data": {
      "image/png": "[encoded data removed]",
      "text/plain": [
       "<Figure size 432x288 with 1 Axes>"
      ]
     },
     "metadata": {},
     "output_type": "display_data"
    }
   ],
   "source": [
    "venn2(\n",
    "    [set(pao1_least_stable), set(pao1_least_stable_spell)],\n",
    "    set_labels=(\"PAO1 least\", \"PAO1 least SPELL\"),\n",
    ")\n",
    "plt.title(\"PAO1 least stable\")"
   ]
  },
  {
   "cell_type": "code",
   "execution_count": 42,
   "id": "fa7f4460",
   "metadata": {},
   "outputs": [
    {
     "data": {
      "text/plain": [
       "Text(0.5, 1.0, 'PA14 least stable')"
      ]
     },
     "execution_count": 42,
     "metadata": {},
     "output_type": "execute_result"
    },
    {
     "data": {
      "image/png": "[encoded data removed]",
      "text/plain": [
       "<Figure size 432x288 with 1 Axes>"
      ]
     },
     "metadata": {},
     "output_type": "display_data"
    }
   ],
   "source": [
    "venn2(\n",
    "    [set(pa14_least_stable), set(pa14_least_stable_spell)],\n",
    "    set_labels=(\"PA14 least\", \"PA14 least SPELL\"),\n",
    ")\n",
    "plt.title(\"PA14 least stable\")"
   ]
  },
  {
   "cell_type": "markdown",
   "id": "c11c1607",
   "metadata": {},
   "source": [
    "Looks like there is good consistency in the most stable genes but not the least stable genes. This data will help us to decide which input dataset to use?"
   ]
  }
 ],
 "metadata": {
  "jupytext": {
   "formats": "ipynb,py"
  },
  "kernelspec": {
   "display_name": "Python [conda env:core_acc] *",
   "language": "python",
   "name": "conda-env-core_acc-py"
  },
  "language_info": {
   "codemirror_mode": {
    "name": "ipython",
    "version": 3
   },
   "file_extension": ".py",
   "mimetype": "text/x-python",
   "name": "python",
   "nbconvert_exporter": "python",
   "pygments_lexer": "ipython3",
   "version": "3.7.10"
  }
 },
 "nbformat": 4,
 "nbformat_minor": 5
}
