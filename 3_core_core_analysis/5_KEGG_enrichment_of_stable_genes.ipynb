{
 "cells": [
  {
   "cell_type": "markdown",
   "id": "c31a0c93",
   "metadata": {},
   "source": [
    "# KEGG enrichment of stable genes\n",
    "\n",
    "This notebooks looks at the group of most and least stable genes and performs a KEGG enrichment analysis to determine if there are any KEGG pathways that are significantly over-represented in our most or least stable gene sets."
   ]
  },
  {
   "cell_type": "code",
   "execution_count": 1,
   "id": "7d4fd6b3",
   "metadata": {},
   "outputs": [
    {
     "name": "stderr",
     "output_type": "stream",
     "text": [
      "/home/alexandra/anaconda3/envs/core_acc/lib/python3.7/site-packages/matplotlib/__init__.py:886: MatplotlibDeprecationWarning: \n",
      "examples.directory is deprecated; in the future, examples will be found relative to the 'datapath' directory.\n",
      "  \"found relative to the 'datapath' directory.\".format(key))\n"
     ]
    }
   ],
   "source": [
    "%load_ext autoreload\n",
    "%autoreload 2\n",
    "%matplotlib inline\n",
    "import os\n",
    "import pandas as pd\n",
    "import numpy as np\n",
    "import seaborn as sns\n",
    "import matplotlib.pyplot as plt\n",
    "import scipy.stats\n",
    "import json\n",
    "import statsmodels.stats.multitest\n",
    "from scripts import paths, utils, annotations"
   ]
  },
  {
   "cell_type": "code",
   "execution_count": 2,
   "id": "b91c7ae9",
   "metadata": {},
   "outputs": [],
   "source": [
    "# Load KEGG pathway data\n",
    "pao1_pathway_filename = \"pao1_kegg_annot.tsv\""
   ]
  },
  {
   "cell_type": "code",
   "execution_count": 3,
   "id": "44a6cb0e",
   "metadata": {},
   "outputs": [],
   "source": [
    "pao1_pathways = pd.read_csv(pao1_pathway_filename, sep=\"\\t\", header=0, index_col=0)"
   ]
  },
  {
   "cell_type": "code",
   "execution_count": 5,
   "id": "57366d1f",
   "metadata": {},
   "outputs": [
    {
     "name": "stdout",
     "output_type": "stream",
     "text": [
      "(123, 3)\n"
     ]
    },
    {
     "data": {
      "text/html": [
       "<div>\n",
       "<style scoped>\n",
       "    .dataframe tbody tr th:only-of-type {\n",
       "        vertical-align: middle;\n",
       "    }\n",
       "\n",
       "    .dataframe tbody tr th {\n",
       "        vertical-align: top;\n",
       "    }\n",
       "\n",
       "    .dataframe thead th {\n",
       "        text-align: right;\n",
       "    }\n",
       "</style>\n",
       "<table border=\"1\" class=\"dataframe\">\n",
       "  <thead>\n",
       "    <tr style=\"text-align: right;\">\n",
       "      <th></th>\n",
       "      <th>pathway_name</th>\n",
       "      <th>num_genes</th>\n",
       "      <th>gene_ids</th>\n",
       "    </tr>\n",
       "    <tr>\n",
       "      <th>pathway_id_name</th>\n",
       "      <th></th>\n",
       "      <th></th>\n",
       "      <th></th>\n",
       "    </tr>\n",
       "  </thead>\n",
       "  <tbody>\n",
       "    <tr>\n",
       "      <th>path:pae00010 : Glycolysis / Gluconeogenesis</th>\n",
       "      <td>Glycolysis / Gluconeogenesis</td>\n",
       "      <td>37</td>\n",
       "      <td>['PA3193', 'PA4732', 'PA5110', 'PA0555', 'PA47...</td>\n",
       "    </tr>\n",
       "    <tr>\n",
       "      <th>path:pae00020 : Citrate cycle (TCA cycle)</th>\n",
       "      <td>Citrate cycle (TCA cycle)</td>\n",
       "      <td>28</td>\n",
       "      <td>['PA1580', 'PA1562', 'PA1787', 'PA2623', 'PA26...</td>\n",
       "    </tr>\n",
       "    <tr>\n",
       "      <th>path:pae00030 : Pentose phosphate pathway</th>\n",
       "      <td>Pentose phosphate pathway</td>\n",
       "      <td>28</td>\n",
       "      <td>['PA4732', 'PA5439', 'PA3183', 'PA3182', 'PA42...</td>\n",
       "    </tr>\n",
       "    <tr>\n",
       "      <th>path:pae00040 : Pentose and glucuronate interconversions</th>\n",
       "      <td>Pentose and glucuronate interconversions</td>\n",
       "      <td>8</td>\n",
       "      <td>['PA2022', 'PA3559', 'PA2023', 'PA0607', 'PA23...</td>\n",
       "    </tr>\n",
       "    <tr>\n",
       "      <th>path:pae00051 : Fructose and mannose metabolism</th>\n",
       "      <td>Fructose and mannose metabolism</td>\n",
       "      <td>19</td>\n",
       "      <td>['PA2344', 'PA3551', 'PA2232', 'PA5452', 'PA53...</td>\n",
       "    </tr>\n",
       "  </tbody>\n",
       "</table>\n",
       "</div>"
      ],
      "text/plain": [
       "                                                                                pathway_name  \\\n",
       "pathway_id_name                                                                                \n",
       "path:pae00010 : Glycolysis / Gluconeogenesis                    Glycolysis / Gluconeogenesis   \n",
       "path:pae00020 : Citrate cycle (TCA cycle)                          Citrate cycle (TCA cycle)   \n",
       "path:pae00030 : Pentose phosphate pathway                          Pentose phosphate pathway   \n",
       "path:pae00040 : Pentose and glucuronate interco...  Pentose and glucuronate interconversions   \n",
       "path:pae00051 : Fructose and mannose metabolism              Fructose and mannose metabolism   \n",
       "\n",
       "                                                    num_genes  \\\n",
       "pathway_id_name                                                 \n",
       "path:pae00010 : Glycolysis / Gluconeogenesis               37   \n",
       "path:pae00020 : Citrate cycle (TCA cycle)                  28   \n",
       "path:pae00030 : Pentose phosphate pathway                  28   \n",
       "path:pae00040 : Pentose and glucuronate interco...          8   \n",
       "path:pae00051 : Fructose and mannose metabolism            19   \n",
       "\n",
       "                                                                                             gene_ids  \n",
       "pathway_id_name                                                                                        \n",
       "path:pae00010 : Glycolysis / Gluconeogenesis        ['PA3193', 'PA4732', 'PA5110', 'PA0555', 'PA47...  \n",
       "path:pae00020 : Citrate cycle (TCA cycle)           ['PA1580', 'PA1562', 'PA1787', 'PA2623', 'PA26...  \n",
       "path:pae00030 : Pentose phosphate pathway           ['PA4732', 'PA5439', 'PA3183', 'PA3182', 'PA42...  \n",
       "path:pae00040 : Pentose and glucuronate interco...  ['PA2022', 'PA3559', 'PA2023', 'PA0607', 'PA23...  \n",
       "path:pae00051 : Fructose and mannose metabolism     ['PA2344', 'PA3551', 'PA2232', 'PA5452', 'PA53...  "
      ]
     },
     "execution_count": 5,
     "metadata": {},
     "output_type": "execute_result"
    }
   ],
   "source": [
    "print(pao1_pathways.shape)\n",
    "pao1_pathways.head()"
   ]
  },
  {
   "cell_type": "code",
   "execution_count": 6,
   "id": "e6ca29b6",
   "metadata": {},
   "outputs": [],
   "source": [
    "# Load transcriptional similarity df\n",
    "# These are the subset of genes that we will consider\n",
    "pao1_similarity_scores_filename = \"pao1_similarity_scores_spell.tsv\"\n",
    "\n",
    "pao1_similarity_scores = pd.read_csv(\n",
    "    pao1_similarity_scores_filename, sep=\"\\t\", header=0, index_col=0\n",
    ")"
   ]
  },
  {
   "cell_type": "code",
   "execution_count": 7,
   "id": "d04c5f06",
   "metadata": {},
   "outputs": [
    {
     "data": {
      "text/html": [
       "<div>\n",
       "<style scoped>\n",
       "    .dataframe tbody tr th:only-of-type {\n",
       "        vertical-align: middle;\n",
       "    }\n",
       "\n",
       "    .dataframe tbody tr th {\n",
       "        vertical-align: top;\n",
       "    }\n",
       "\n",
       "    .dataframe thead th {\n",
       "        text-align: right;\n",
       "    }\n",
       "</style>\n",
       "<table border=\"1\" class=\"dataframe\">\n",
       "  <thead>\n",
       "    <tr style=\"text-align: right;\">\n",
       "      <th></th>\n",
       "      <th>PA14 homolog id</th>\n",
       "      <th>Transcriptional similarity across strains</th>\n",
       "      <th>P-value</th>\n",
       "      <th>Name</th>\n",
       "      <th>label</th>\n",
       "    </tr>\n",
       "    <tr>\n",
       "      <th>PAO1 id</th>\n",
       "      <th></th>\n",
       "      <th></th>\n",
       "      <th></th>\n",
       "      <th></th>\n",
       "      <th></th>\n",
       "    </tr>\n",
       "  </thead>\n",
       "  <tbody>\n",
       "    <tr>\n",
       "      <th>PA0118</th>\n",
       "      <td>PA14_01440</td>\n",
       "      <td>0.290443</td>\n",
       "      <td>1.771504e-104</td>\n",
       "      <td>NaN</td>\n",
       "      <td>NaN</td>\n",
       "    </tr>\n",
       "    <tr>\n",
       "      <th>PA1859</th>\n",
       "      <td>PA14_40440</td>\n",
       "      <td>0.143328</td>\n",
       "      <td>5.986934e-26</td>\n",
       "      <td>NaN</td>\n",
       "      <td>NaN</td>\n",
       "    </tr>\n",
       "    <tr>\n",
       "      <th>PA3190</th>\n",
       "      <td>PA14_22980</td>\n",
       "      <td>0.257508</td>\n",
       "      <td>9.170620e-82</td>\n",
       "      <td>NaN</td>\n",
       "      <td>NaN</td>\n",
       "    </tr>\n",
       "    <tr>\n",
       "      <th>PA1009</th>\n",
       "      <td>PA14_51280</td>\n",
       "      <td>0.549950</td>\n",
       "      <td>0.000000e+00</td>\n",
       "      <td>NaN</td>\n",
       "      <td>NaN</td>\n",
       "    </tr>\n",
       "    <tr>\n",
       "      <th>PA1065</th>\n",
       "      <td>PA14_50620</td>\n",
       "      <td>0.329633</td>\n",
       "      <td>9.188709e-136</td>\n",
       "      <td>NaN</td>\n",
       "      <td>NaN</td>\n",
       "    </tr>\n",
       "  </tbody>\n",
       "</table>\n",
       "</div>"
      ],
      "text/plain": [
       "        PA14 homolog id  Transcriptional similarity across strains  \\\n",
       "PAO1 id                                                              \n",
       "PA0118       PA14_01440                                   0.290443   \n",
       "PA1859       PA14_40440                                   0.143328   \n",
       "PA3190       PA14_22980                                   0.257508   \n",
       "PA1009       PA14_51280                                   0.549950   \n",
       "PA1065       PA14_50620                                   0.329633   \n",
       "\n",
       "               P-value Name label  \n",
       "PAO1 id                            \n",
       "PA0118   1.771504e-104  NaN   NaN  \n",
       "PA1859    5.986934e-26  NaN   NaN  \n",
       "PA3190    9.170620e-82  NaN   NaN  \n",
       "PA1009    0.000000e+00  NaN   NaN  \n",
       "PA1065   9.188709e-136  NaN   NaN  "
      ]
     },
     "execution_count": 7,
     "metadata": {},
     "output_type": "execute_result"
    }
   ],
   "source": [
    "pao1_similarity_scores.head()"
   ]
  },
  {
   "cell_type": "code",
   "execution_count": 8,
   "id": "fba64fd2",
   "metadata": {},
   "outputs": [],
   "source": [
    "# Get most and least stable core genes based on label\n",
    "pao1_most_stable_genes = list(\n",
    "    pao1_similarity_scores[pao1_similarity_scores[\"label\"] == \"most stable\"].index\n",
    ")\n",
    "pao1_least_stable_genes = list(\n",
    "    pao1_similarity_scores[pao1_similarity_scores[\"label\"] == \"least stable\"].index\n",
    ")"
   ]
  },
  {
   "cell_type": "code",
   "execution_count": 9,
   "id": "51ab5e82",
   "metadata": {},
   "outputs": [],
   "source": [
    "# For each KEGG pathway, perform stat test, save p-values to get corrected p-values, report stats per pathway\n",
    "def KEGG_enrichment_of_stable_genes(similarity_score_df, gene_list, kegg_df):\n",
    "    \"\"\"\n",
    "    This function performs a KEGG enrichment using most or least stable genes,\n",
    "    provided in `gene_list`\n",
    "    \"\"\"\n",
    "\n",
    "    all_genes = set(similarity_score_df.index)\n",
    "    module_genes = set(gene_list)\n",
    "    not_module_genes = all_genes.difference(module_genes)\n",
    "\n",
    "    rows = []\n",
    "    # Find the KEGG pathway with significant over-representation\n",
    "    for kegg_name in kegg_df.index:\n",
    "        num_kegg_genes = kegg_df.loc[kegg_name, \"num_genes\"]\n",
    "        kegg_genes = kegg_df.loc[kegg_name, \"gene_ids\"]\n",
    "        kegg_genes = set(json.loads(kegg_genes.replace(\"'\", '\"')))\n",
    "\n",
    "        not_kegg_genes = all_genes.difference(kegg_genes)\n",
    "\n",
    "        # Make contingency table\n",
    "        # ---------------------| most stable  | not most stable\n",
    "        # in KEGG pathway      | # genes      | # genes\n",
    "        # not in KEGG pathway  | # genes     | # genes\n",
    "        module_kegg_genes = module_genes.intersection(kegg_genes)\n",
    "        not_module_kegg_genes = not_module_genes.intersection(kegg_genes)\n",
    "        module_not_kegg_genes = module_genes.intersection(not_kegg_genes)\n",
    "        not_module_not_kegg_genes = not_module_genes.intersection(not_kegg_genes)\n",
    "\n",
    "        observed_contingency_table = np.array(\n",
    "            [\n",
    "                [len(module_kegg_genes), len(not_module_kegg_genes)],\n",
    "                [len(module_not_kegg_genes), len(not_module_not_kegg_genes)],\n",
    "            ]\n",
    "        )\n",
    "        # Fisher's exact test\n",
    "        oddsr, pval = scipy.stats.fisher_exact(\n",
    "            observed_contingency_table, alternative=\"greater\"\n",
    "        )\n",
    "        # chi2 test will not accept 0 counts for the contingency table\n",
    "        # chi2, pval, dof, expected_counts = scipy.stats.chi2_contingency(\n",
    "        #    observed_contingency_table\n",
    "        # )\n",
    "        # print(oddsr, pval)\n",
    "\n",
    "        rows.append(\n",
    "            {\n",
    "                \"enriched KEGG pathway\": kegg_name,\n",
    "                \"odds ratio\": oddsr,\n",
    "                \"p-value\": pval,\n",
    "                \"num shared genes\": len(module_kegg_genes),\n",
    "                \"size gene set\": len(module_genes),\n",
    "                \"size KEGG pathway\": num_kegg_genes,\n",
    "            }\n",
    "        )\n",
    "\n",
    "    enrichment_df = pd.DataFrame(rows)\n",
    "\n",
    "    # Get corrected pvalues\n",
    "    (\n",
    "        reject_,\n",
    "        pvals_corrected_,\n",
    "        alphacSidak,\n",
    "        alphacBonf,\n",
    "    ) = statsmodels.stats.multitest.multipletests(\n",
    "        enrichment_df[\"p-value\"].values,\n",
    "        alpha=0.05,\n",
    "        method=\"fdr_bh\",\n",
    "        is_sorted=False,\n",
    "    )\n",
    "\n",
    "    enrichment_df[\"corrected p-value\"] = pvals_corrected_\n",
    "    enrichment_df[\"-log10 adj p-value\"] = -np.log10(enrichment_df[\"corrected p-value\"])\n",
    "\n",
    "    return enrichment_df"
   ]
  },
  {
   "cell_type": "code",
   "execution_count": 10,
   "id": "68639ce9",
   "metadata": {},
   "outputs": [],
   "source": [
    "pao1_most_stable_enrichment = KEGG_enrichment_of_stable_genes(\n",
    "    pao1_similarity_scores, pao1_most_stable_genes, pao1_pathways\n",
    ")"
   ]
  },
  {
   "cell_type": "code",
   "execution_count": 11,
   "id": "ab49683c",
   "metadata": {},
   "outputs": [],
   "source": [
    "pao1_least_stable_enrichment = KEGG_enrichment_of_stable_genes(\n",
    "    pao1_similarity_scores, pao1_least_stable_genes, pao1_pathways\n",
    ")"
   ]
  },
  {
   "cell_type": "code",
   "execution_count": 12,
   "id": "d4d6967d",
   "metadata": {},
   "outputs": [
    {
     "name": "stdout",
     "output_type": "stream",
     "text": [
      "(123, 8)\n"
     ]
    },
    {
     "data": {
      "text/html": [
       "<div>\n",
       "<style scoped>\n",
       "    .dataframe tbody tr th:only-of-type {\n",
       "        vertical-align: middle;\n",
       "    }\n",
       "\n",
       "    .dataframe tbody tr th {\n",
       "        vertical-align: top;\n",
       "    }\n",
       "\n",
       "    .dataframe thead th {\n",
       "        text-align: right;\n",
       "    }\n",
       "</style>\n",
       "<table border=\"1\" class=\"dataframe\">\n",
       "  <thead>\n",
       "    <tr style=\"text-align: right;\">\n",
       "      <th></th>\n",
       "      <th>enriched KEGG pathway</th>\n",
       "      <th>odds ratio</th>\n",
       "      <th>p-value</th>\n",
       "      <th>num shared genes</th>\n",
       "      <th>size gene set</th>\n",
       "      <th>size KEGG pathway</th>\n",
       "      <th>corrected p-value</th>\n",
       "      <th>-log10 adj p-value</th>\n",
       "    </tr>\n",
       "  </thead>\n",
       "  <tbody>\n",
       "    <tr>\n",
       "      <th>111</th>\n",
       "      <td>path:pae03010 : Ribosome</td>\n",
       "      <td>49.440021</td>\n",
       "      <td>8.053203e-38</td>\n",
       "      <td>38</td>\n",
       "      <td>267</td>\n",
       "      <td>68</td>\n",
       "      <td>9.905439e-36</td>\n",
       "      <td>35.004126</td>\n",
       "    </tr>\n",
       "    <tr>\n",
       "      <th>86</th>\n",
       "      <td>path:pae00970 : Aminoacyl-tRNA biosynthesis</td>\n",
       "      <td>21.576771</td>\n",
       "      <td>4.774402e-12</td>\n",
       "      <td>14</td>\n",
       "      <td>267</td>\n",
       "      <td>90</td>\n",
       "      <td>2.936257e-10</td>\n",
       "      <td>9.532206</td>\n",
       "    </tr>\n",
       "    <tr>\n",
       "      <th>1</th>\n",
       "      <td>path:pae00020 : Citrate cycle (TCA cycle)</td>\n",
       "      <td>14.900000</td>\n",
       "      <td>2.788134e-09</td>\n",
       "      <td>12</td>\n",
       "      <td>267</td>\n",
       "      <td>28</td>\n",
       "      <td>1.143135e-07</td>\n",
       "      <td>6.941902</td>\n",
       "    </tr>\n",
       "    <tr>\n",
       "      <th>115</th>\n",
       "      <td>path:pae03060 : Protein export</td>\n",
       "      <td>13.655385</td>\n",
       "      <td>9.021727e-06</td>\n",
       "      <td>7</td>\n",
       "      <td>267</td>\n",
       "      <td>18</td>\n",
       "      <td>2.774181e-04</td>\n",
       "      <td>3.556865</td>\n",
       "    </tr>\n",
       "    <tr>\n",
       "      <th>10</th>\n",
       "      <td>path:pae00190 : Oxidative phosphorylation</td>\n",
       "      <td>5.151918</td>\n",
       "      <td>2.123878e-05</td>\n",
       "      <td>12</td>\n",
       "      <td>267</td>\n",
       "      <td>59</td>\n",
       "      <td>5.224739e-04</td>\n",
       "      <td>3.281935</td>\n",
       "    </tr>\n",
       "  </tbody>\n",
       "</table>\n",
       "</div>"
      ],
      "text/plain": [
       "                           enriched KEGG pathway  odds ratio       p-value  \\\n",
       "111                     path:pae03010 : Ribosome   49.440021  8.053203e-38   \n",
       "86   path:pae00970 : Aminoacyl-tRNA biosynthesis   21.576771  4.774402e-12   \n",
       "1      path:pae00020 : Citrate cycle (TCA cycle)   14.900000  2.788134e-09   \n",
       "115               path:pae03060 : Protein export   13.655385  9.021727e-06   \n",
       "10     path:pae00190 : Oxidative phosphorylation    5.151918  2.123878e-05   \n",
       "\n",
       "     num shared genes  size gene set  size KEGG pathway  corrected p-value  \\\n",
       "111                38            267                 68       9.905439e-36   \n",
       "86                 14            267                 90       2.936257e-10   \n",
       "1                  12            267                 28       1.143135e-07   \n",
       "115                 7            267                 18       2.774181e-04   \n",
       "10                 12            267                 59       5.224739e-04   \n",
       "\n",
       "     -log10 adj p-value  \n",
       "111           35.004126  \n",
       "86             9.532206  \n",
       "1              6.941902  \n",
       "115            3.556865  \n",
       "10             3.281935  "
      ]
     },
     "execution_count": 12,
     "metadata": {},
     "output_type": "execute_result"
    }
   ],
   "source": [
    "print(pao1_most_stable_enrichment.shape)\n",
    "pao1_most_stable_enrichment.sort_values(by=\"corrected p-value\").head()"
   ]
  },
  {
   "cell_type": "code",
   "execution_count": 13,
   "id": "df5cf0aa",
   "metadata": {},
   "outputs": [
    {
     "name": "stdout",
     "output_type": "stream",
     "text": [
      "(123, 8)\n"
     ]
    },
    {
     "data": {
      "text/html": [
       "<div>\n",
       "<style scoped>\n",
       "    .dataframe tbody tr th:only-of-type {\n",
       "        vertical-align: middle;\n",
       "    }\n",
       "\n",
       "    .dataframe tbody tr th {\n",
       "        vertical-align: top;\n",
       "    }\n",
       "\n",
       "    .dataframe thead th {\n",
       "        text-align: right;\n",
       "    }\n",
       "</style>\n",
       "<table border=\"1\" class=\"dataframe\">\n",
       "  <thead>\n",
       "    <tr style=\"text-align: right;\">\n",
       "      <th></th>\n",
       "      <th>enriched KEGG pathway</th>\n",
       "      <th>odds ratio</th>\n",
       "      <th>p-value</th>\n",
       "      <th>num shared genes</th>\n",
       "      <th>size gene set</th>\n",
       "      <th>size KEGG pathway</th>\n",
       "      <th>corrected p-value</th>\n",
       "      <th>-log10 adj p-value</th>\n",
       "    </tr>\n",
       "  </thead>\n",
       "  <tbody>\n",
       "    <tr>\n",
       "      <th>87</th>\n",
       "      <td>path:pae00997 : Biosynthesis of various other ...</td>\n",
       "      <td>inf</td>\n",
       "      <td>0.000006</td>\n",
       "      <td>4</td>\n",
       "      <td>267</td>\n",
       "      <td>4</td>\n",
       "      <td>0.000747</td>\n",
       "      <td>3.126455</td>\n",
       "    </tr>\n",
       "    <tr>\n",
       "      <th>29</th>\n",
       "      <td>path:pae00362 : Benzoate degradation</td>\n",
       "      <td>6.531008</td>\n",
       "      <td>0.000048</td>\n",
       "      <td>9</td>\n",
       "      <td>267</td>\n",
       "      <td>36</td>\n",
       "      <td>0.002961</td>\n",
       "      <td>2.528532</td>\n",
       "    </tr>\n",
       "    <tr>\n",
       "      <th>26</th>\n",
       "      <td>path:pae00350 : Tyrosine metabolism</td>\n",
       "      <td>6.488462</td>\n",
       "      <td>0.000342</td>\n",
       "      <td>7</td>\n",
       "      <td>267</td>\n",
       "      <td>28</td>\n",
       "      <td>0.014013</td>\n",
       "      <td>1.853475</td>\n",
       "    </tr>\n",
       "    <tr>\n",
       "      <th>40</th>\n",
       "      <td>path:pae00470 : D-Amino acid metabolism</td>\n",
       "      <td>6.849222</td>\n",
       "      <td>0.000718</td>\n",
       "      <td>6</td>\n",
       "      <td>267</td>\n",
       "      <td>23</td>\n",
       "      <td>0.022094</td>\n",
       "      <td>1.655731</td>\n",
       "    </tr>\n",
       "    <tr>\n",
       "      <th>58</th>\n",
       "      <td>path:pae00622 : Xylene degradation</td>\n",
       "      <td>9.581132</td>\n",
       "      <td>0.032585</td>\n",
       "      <td>2</td>\n",
       "      <td>267</td>\n",
       "      <td>6</td>\n",
       "      <td>0.801601</td>\n",
       "      <td>0.096042</td>\n",
       "    </tr>\n",
       "  </tbody>\n",
       "</table>\n",
       "</div>"
      ],
      "text/plain": [
       "                                enriched KEGG pathway  odds ratio   p-value  \\\n",
       "87  path:pae00997 : Biosynthesis of various other ...         inf  0.000006   \n",
       "29               path:pae00362 : Benzoate degradation    6.531008  0.000048   \n",
       "26                path:pae00350 : Tyrosine metabolism    6.488462  0.000342   \n",
       "40            path:pae00470 : D-Amino acid metabolism    6.849222  0.000718   \n",
       "58                 path:pae00622 : Xylene degradation    9.581132  0.032585   \n",
       "\n",
       "    num shared genes  size gene set  size KEGG pathway  corrected p-value  \\\n",
       "87                 4            267                  4           0.000747   \n",
       "29                 9            267                 36           0.002961   \n",
       "26                 7            267                 28           0.014013   \n",
       "40                 6            267                 23           0.022094   \n",
       "58                 2            267                  6           0.801601   \n",
       "\n",
       "    -log10 adj p-value  \n",
       "87            3.126455  \n",
       "29            2.528532  \n",
       "26            1.853475  \n",
       "40            1.655731  \n",
       "58            0.096042  "
      ]
     },
     "execution_count": 13,
     "metadata": {},
     "output_type": "execute_result"
    }
   ],
   "source": [
    "print(pao1_least_stable_enrichment.shape)\n",
    "pao1_least_stable_enrichment.sort_values(by=\"corrected p-value\").head()"
   ]
  },
  {
   "cell_type": "markdown",
   "id": "40acb848",
   "metadata": {},
   "source": [
    "## Plot"
   ]
  },
  {
   "cell_type": "code",
   "execution_count": 14,
   "id": "a2ce117d",
   "metadata": {},
   "outputs": [],
   "source": [
    "# Create a shared scale to use for both plots\n",
    "# np.linspace(3.759057e-22, 1)"
   ]
  },
  {
   "cell_type": "code",
   "execution_count": 15,
   "id": "38b46f28",
   "metadata": {
    "scrolled": false
   },
   "outputs": [
    {
     "data": {
      "text/plain": [
       "Text(0, 0.5, '')"
      ]
     },
     "execution_count": 15,
     "metadata": {},
     "output_type": "execute_result"
    },
    {
     "data": {
      "image/png": "[encoded data removed]",
      "text/plain": [
       "<Figure size 576x432 with 2 Axes>"
      ]
     },
     "metadata": {
      "needs_background": "light"
     },
     "output_type": "display_data"
    }
   ],
   "source": [
    "# Plot top most stable\n",
    "pao1_most_stable_enrichment_top = pao1_most_stable_enrichment.sort_values(\n",
    "    by=\"corrected p-value\"\n",
    ").head(10)\n",
    "norm = plt.Normalize(0, 22)\n",
    "cmap = sns.cubehelix_palette(as_cmap=True)\n",
    "\n",
    "plt.figure(figsize=(8, 6))\n",
    "f = plt.scatter(\n",
    "    data=pao1_most_stable_enrichment_top,\n",
    "    x=\"odds ratio\",\n",
    "    y=\"enriched KEGG pathway\",\n",
    "    s=300,\n",
    "    c=\"-log10 adj p-value\",\n",
    "    norm=norm,\n",
    "    cmap=cmap,\n",
    ")\n",
    "sm = plt.cm.ScalarMappable(cmap=cmap, norm=norm)\n",
    "sm.set_array([])\n",
    "cf = plt.colorbar(sm)\n",
    "cf.ax.set_title(\"-log10 adj p-value\", fontsize=12)\n",
    "\n",
    "plt.title(\"Enrichment of most stable core genes\", fontsize=16, y=1.05)\n",
    "plt.xticks(fontsize=14)\n",
    "plt.yticks(fontsize=14)\n",
    "plt.xlabel(\"Odds ratio\", fontsize=16)\n",
    "plt.ylabel(\"\")"
   ]
  },
  {
   "cell_type": "code",
   "execution_count": 16,
   "id": "812c591d",
   "metadata": {},
   "outputs": [
    {
     "data": {
      "text/plain": [
       "Text(0, 0.5, '')"
      ]
     },
     "execution_count": 16,
     "metadata": {},
     "output_type": "execute_result"
    },
    {
     "data": {
      "image/png": "[encoded data removed]",
      "text/plain": [
       "<Figure size 576x432 with 2 Axes>"
      ]
     },
     "metadata": {
      "needs_background": "light"
     },
     "output_type": "display_data"
    }
   ],
   "source": [
    "# Plot top most stable\n",
    "pao1_least_stable_enrichment_top = pao1_least_stable_enrichment.sort_values(\n",
    "    by=\"corrected p-value\"\n",
    ").head(10)\n",
    "plt.figure(figsize=(8, 6))\n",
    "norm = plt.Normalize(0.0, 22)\n",
    "cmap = sns.cubehelix_palette(as_cmap=True)\n",
    "\n",
    "g = plt.scatter(\n",
    "    data=pao1_least_stable_enrichment_top,\n",
    "    x=\"odds ratio\",\n",
    "    y=\"enriched KEGG pathway\",\n",
    "    s=300,\n",
    "    c=\"-log10 adj p-value\",\n",
    "    norm=norm,\n",
    "    cmap=cmap,\n",
    ")\n",
    "\n",
    "sm = plt.cm.ScalarMappable(cmap=cmap, norm=norm)\n",
    "sm.set_array([])\n",
    "cg = plt.colorbar(sm)\n",
    "cg.ax.set_title(\"-log10 adj p-value\", fontsize=12)\n",
    "\n",
    "plt.title(\"Enrichment of least stable core genes\", fontsize=16, y=1.05)\n",
    "plt.xticks(fontsize=14)\n",
    "plt.yticks(fontsize=14)\n",
    "plt.xlabel(\"Odds ratio\", fontsize=16)\n",
    "plt.ylabel(\"\")\n",
    "\n",
    "# TO DO\n",
    "# Update colorbar text to include label for -log10 p-value"
   ]
  },
  {
   "cell_type": "code",
   "execution_count": 17,
   "id": "cc42c147",
   "metadata": {},
   "outputs": [],
   "source": [
    "# Save\n",
    "pao1_most_stable_enrichment.to_csv(\"pao1_most_stable_enrichment_spell.tsv\", sep=\"\\t\")\n",
    "pao1_least_stable_enrichment.to_csv(\"pao1_least_stable_enrichment_spell.tsv\", sep=\"\\t\")"
   ]
  },
  {
   "cell_type": "markdown",
   "id": "00cb6dbc",
   "metadata": {},
   "source": [
    "**Takeaway:**\n",
    "\n",
    "KEGG enrichment analysis found that stable genes were significantly associated with essential functions: ribosome, lipopolysaccharide biosynthesis, citrate cycle. While least stable core genes are enriched in pathways related to degredation of aromatic compounds\n",
    "\n",
    "KEGG enrichment: https://docs.google.com/spreadsheets/d/1lXZZXXjZSOuQ-cMOZ9I5llIJ2OBOQBur0Spso2WN4oY/edit#gid=0"
   ]
  }
 ],
 "metadata": {
  "jupytext": {
   "encoding": "# -*- coding: utf-8 -*-",
   "formats": "ipynb,py"
  },
  "kernelspec": {
   "display_name": "Python [conda env:core_acc] *",
   "language": "python",
   "name": "conda-env-core_acc-py"
  },
  "language_info": {
   "codemirror_mode": {
    "name": "ipython",
    "version": 3
   },
   "file_extension": ".py",
   "mimetype": "text/x-python",
   "name": "python",
   "nbconvert_exporter": "python",
   "pygments_lexer": "ipython3",
   "version": "3.7.10"
  }
 },
 "nbformat": 4,
 "nbformat_minor": 5
}
