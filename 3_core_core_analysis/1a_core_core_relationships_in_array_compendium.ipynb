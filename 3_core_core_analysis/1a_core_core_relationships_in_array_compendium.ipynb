{
 "cells": [
  {
   "cell_type": "markdown",
   "id": "981dc4bc",
   "metadata": {},
   "source": [
    "# Core-core relationships in array compendium\n",
    "\n",
    "This notebook performs the same stability analysis using the *P. aeruginosa* array compendium that is described in ____."
   ]
  },
  {
   "cell_type": "code",
   "execution_count": 1,
   "id": "3501ada0",
   "metadata": {},
   "outputs": [
    {
     "name": "stderr",
     "output_type": "stream",
     "text": [
      "/home/alexandra/anaconda3/envs/core_acc/lib/python3.7/site-packages/matplotlib/__init__.py:886: MatplotlibDeprecationWarning: \n",
      "examples.directory is deprecated; in the future, examples will be found relative to the 'datapath' directory.\n",
      "  \"found relative to the 'datapath' directory.\".format(key))\n"
     ]
    }
   ],
   "source": [
    "%load_ext autoreload\n",
    "%autoreload 2\n",
    "%matplotlib inline\n",
    "import os\n",
    "import random\n",
    "import scipy.stats\n",
    "import pandas as pd\n",
    "import numpy as np\n",
    "import seaborn as sns\n",
    "from matplotlib_venn import venn2\n",
    "import matplotlib.pyplot as plt\n",
    "from scripts import utils, paths\n",
    "\n",
    "random.seed(1)"
   ]
  },
  {
   "cell_type": "code",
   "execution_count": 2,
   "id": "f75472ea",
   "metadata": {},
   "outputs": [],
   "source": [
    "# Params\n",
    "most_percent = 0.05\n",
    "least_percent = 0.05"
   ]
  },
  {
   "cell_type": "code",
   "execution_count": 3,
   "id": "76007266",
   "metadata": {},
   "outputs": [
    {
     "data": {
      "text/plain": [
       "'\\n# Output filenames\\npao1_similarity_dist_filename = \"pao1_similarity_scores_dist_spell.svg\"\\npa14_similarity_dist_filename = \"pa14_similarity_scores_dist_spell.svg\"\\n\\n# Files containing genes with highest and lowest transcriptional similarity scores high and low\\npao1_similarity_scores_filename = \"pao1_similarity_scores_spell.tsv\"\\npa14_similarity_scores_filename = \"pa14_similarity_scores_spell.tsv\"\\n'"
      ]
     },
     "execution_count": 3,
     "metadata": {},
     "output_type": "execute_result"
    }
   ],
   "source": [
    "\"\"\"\n",
    "# Output filenames\n",
    "pao1_similarity_dist_filename = \"pao1_similarity_scores_dist_spell.svg\"\n",
    "pa14_similarity_dist_filename = \"pa14_similarity_scores_dist_spell.svg\"\n",
    "\n",
    "# Files containing genes with highest and lowest transcriptional similarity scores high and low\n",
    "pao1_similarity_scores_filename = \"pao1_similarity_scores_spell.tsv\"\n",
    "pa14_similarity_scores_filename = \"pa14_similarity_scores_spell.tsv\"\n",
    "\"\"\""
   ]
  },
  {
   "cell_type": "code",
   "execution_count": 4,
   "id": "2906d898",
   "metadata": {},
   "outputs": [],
   "source": [
    "# Import correlation matrix\n",
    "array_expression_filename = paths.ARRAY_COMPENDIUM_GE\n",
    "array_metadata_filename = paths.ARRAY_COMPENDIUM_METADATA\n",
    "\n",
    "array_expression = pd.read_csv(\n",
    "    array_expression_filename, sep=\"\\t\", index_col=0, header=0\n",
    ").T\n",
    "array_metadata = pd.read_csv(array_metadata_filename, sep=\"\\t\", index_col=0, header=0)"
   ]
  },
  {
   "cell_type": "code",
   "execution_count": 5,
   "id": "29c2f32b",
   "metadata": {},
   "outputs": [
    {
     "name": "stdout",
     "output_type": "stream",
     "text": [
      "(950, 5549)\n"
     ]
    },
    {
     "data": {
      "text/html": [
       "<div>\n",
       "<style scoped>\n",
       "    .dataframe tbody tr th:only-of-type {\n",
       "        vertical-align: middle;\n",
       "    }\n",
       "\n",
       "    .dataframe tbody tr th {\n",
       "        vertical-align: top;\n",
       "    }\n",
       "\n",
       "    .dataframe thead th {\n",
       "        text-align: right;\n",
       "    }\n",
       "</style>\n",
       "<table border=\"1\" class=\"dataframe\">\n",
       "  <thead>\n",
       "    <tr style=\"text-align: right;\">\n",
       "      <th></th>\n",
       "      <th>PA0001</th>\n",
       "      <th>PA0002</th>\n",
       "      <th>PA0003</th>\n",
       "      <th>PA0004</th>\n",
       "      <th>PA0005</th>\n",
       "      <th>PA0006</th>\n",
       "      <th>PA0007</th>\n",
       "      <th>PA0008</th>\n",
       "      <th>PA0009</th>\n",
       "      <th>PA0010</th>\n",
       "      <th>...</th>\n",
       "      <th>PA5561</th>\n",
       "      <th>PA5562</th>\n",
       "      <th>PA5563</th>\n",
       "      <th>PA5564</th>\n",
       "      <th>PA5565</th>\n",
       "      <th>PA5566</th>\n",
       "      <th>PA5567</th>\n",
       "      <th>PA5568</th>\n",
       "      <th>PA5569</th>\n",
       "      <th>PA5570</th>\n",
       "    </tr>\n",
       "  </thead>\n",
       "  <tbody>\n",
       "    <tr>\n",
       "      <th>05_PA14000-4-2_5-10-07_S2.CEL</th>\n",
       "      <td>9.620090</td>\n",
       "      <td>10.575783</td>\n",
       "      <td>9.296287</td>\n",
       "      <td>9.870074</td>\n",
       "      <td>8.512268</td>\n",
       "      <td>7.903954</td>\n",
       "      <td>7.039473</td>\n",
       "      <td>10.209826</td>\n",
       "      <td>9.784684</td>\n",
       "      <td>5.485688</td>\n",
       "      <td>...</td>\n",
       "      <td>7.740609</td>\n",
       "      <td>9.730384</td>\n",
       "      <td>10.516061</td>\n",
       "      <td>10.639916</td>\n",
       "      <td>9.746849</td>\n",
       "      <td>5.768592</td>\n",
       "      <td>9.224442</td>\n",
       "      <td>11.512176</td>\n",
       "      <td>12.529719</td>\n",
       "      <td>11.804896</td>\n",
       "    </tr>\n",
       "    <tr>\n",
       "      <th>54375-4-05.CEL</th>\n",
       "      <td>9.327996</td>\n",
       "      <td>10.781977</td>\n",
       "      <td>9.169988</td>\n",
       "      <td>10.269239</td>\n",
       "      <td>7.237999</td>\n",
       "      <td>7.663758</td>\n",
       "      <td>6.855194</td>\n",
       "      <td>9.631573</td>\n",
       "      <td>9.404465</td>\n",
       "      <td>5.684067</td>\n",
       "      <td>...</td>\n",
       "      <td>7.127736</td>\n",
       "      <td>9.687607</td>\n",
       "      <td>10.199612</td>\n",
       "      <td>9.457152</td>\n",
       "      <td>9.318372</td>\n",
       "      <td>5.523898</td>\n",
       "      <td>7.911031</td>\n",
       "      <td>10.828271</td>\n",
       "      <td>11.597643</td>\n",
       "      <td>11.268520</td>\n",
       "    </tr>\n",
       "    <tr>\n",
       "      <th>AKGlu_plus_nt_7-8-09_s1.CEL</th>\n",
       "      <td>9.368599</td>\n",
       "      <td>10.596248</td>\n",
       "      <td>9.714517</td>\n",
       "      <td>9.487155</td>\n",
       "      <td>7.804147</td>\n",
       "      <td>7.681754</td>\n",
       "      <td>6.714411</td>\n",
       "      <td>9.497601</td>\n",
       "      <td>9.523126</td>\n",
       "      <td>5.766331</td>\n",
       "      <td>...</td>\n",
       "      <td>7.343241</td>\n",
       "      <td>9.717993</td>\n",
       "      <td>10.419979</td>\n",
       "      <td>10.164667</td>\n",
       "      <td>10.305005</td>\n",
       "      <td>5.806817</td>\n",
       "      <td>8.575730</td>\n",
       "      <td>10.858250</td>\n",
       "      <td>12.255953</td>\n",
       "      <td>11.309662</td>\n",
       "    </tr>\n",
       "    <tr>\n",
       "      <th>anaerobic_NO3_1.CEL</th>\n",
       "      <td>9.083292</td>\n",
       "      <td>9.897050</td>\n",
       "      <td>8.068471</td>\n",
       "      <td>7.310218</td>\n",
       "      <td>6.723634</td>\n",
       "      <td>7.141148</td>\n",
       "      <td>8.492302</td>\n",
       "      <td>7.740717</td>\n",
       "      <td>7.640251</td>\n",
       "      <td>5.267993</td>\n",
       "      <td>...</td>\n",
       "      <td>7.374740</td>\n",
       "      <td>8.287819</td>\n",
       "      <td>9.437053</td>\n",
       "      <td>8.936576</td>\n",
       "      <td>9.418147</td>\n",
       "      <td>5.956482</td>\n",
       "      <td>7.481406</td>\n",
       "      <td>7.687985</td>\n",
       "      <td>9.205525</td>\n",
       "      <td>9.395773</td>\n",
       "    </tr>\n",
       "    <tr>\n",
       "      <th>anaerobic_NO3_2.CEL</th>\n",
       "      <td>8.854901</td>\n",
       "      <td>9.931392</td>\n",
       "      <td>8.167126</td>\n",
       "      <td>7.526595</td>\n",
       "      <td>6.864015</td>\n",
       "      <td>7.154523</td>\n",
       "      <td>8.492109</td>\n",
       "      <td>7.716687</td>\n",
       "      <td>7.268094</td>\n",
       "      <td>5.427256</td>\n",
       "      <td>...</td>\n",
       "      <td>7.425398</td>\n",
       "      <td>8.588969</td>\n",
       "      <td>9.313851</td>\n",
       "      <td>8.684602</td>\n",
       "      <td>9.272818</td>\n",
       "      <td>5.729479</td>\n",
       "      <td>7.699086</td>\n",
       "      <td>7.414436</td>\n",
       "      <td>9.363494</td>\n",
       "      <td>9.424762</td>\n",
       "    </tr>\n",
       "  </tbody>\n",
       "</table>\n",
       "<p>5 rows × 5549 columns</p>\n",
       "</div>"
      ],
      "text/plain": [
       "                                 PA0001     PA0002    PA0003     PA0004  \\\n",
       "05_PA14000-4-2_5-10-07_S2.CEL  9.620090  10.575783  9.296287   9.870074   \n",
       "54375-4-05.CEL                 9.327996  10.781977  9.169988  10.269239   \n",
       "AKGlu_plus_nt_7-8-09_s1.CEL    9.368599  10.596248  9.714517   9.487155   \n",
       "anaerobic_NO3_1.CEL            9.083292   9.897050  8.068471   7.310218   \n",
       "anaerobic_NO3_2.CEL            8.854901   9.931392  8.167126   7.526595   \n",
       "\n",
       "                                 PA0005    PA0006    PA0007     PA0008  \\\n",
       "05_PA14000-4-2_5-10-07_S2.CEL  8.512268  7.903954  7.039473  10.209826   \n",
       "54375-4-05.CEL                 7.237999  7.663758  6.855194   9.631573   \n",
       "AKGlu_plus_nt_7-8-09_s1.CEL    7.804147  7.681754  6.714411   9.497601   \n",
       "anaerobic_NO3_1.CEL            6.723634  7.141148  8.492302   7.740717   \n",
       "anaerobic_NO3_2.CEL            6.864015  7.154523  8.492109   7.716687   \n",
       "\n",
       "                                 PA0009    PA0010  ...    PA5561    PA5562  \\\n",
       "05_PA14000-4-2_5-10-07_S2.CEL  9.784684  5.485688  ...  7.740609  9.730384   \n",
       "54375-4-05.CEL                 9.404465  5.684067  ...  7.127736  9.687607   \n",
       "AKGlu_plus_nt_7-8-09_s1.CEL    9.523126  5.766331  ...  7.343241  9.717993   \n",
       "anaerobic_NO3_1.CEL            7.640251  5.267993  ...  7.374740  8.287819   \n",
       "anaerobic_NO3_2.CEL            7.268094  5.427256  ...  7.425398  8.588969   \n",
       "\n",
       "                                  PA5563     PA5564     PA5565    PA5566  \\\n",
       "05_PA14000-4-2_5-10-07_S2.CEL  10.516061  10.639916   9.746849  5.768592   \n",
       "54375-4-05.CEL                 10.199612   9.457152   9.318372  5.523898   \n",
       "AKGlu_plus_nt_7-8-09_s1.CEL    10.419979  10.164667  10.305005  5.806817   \n",
       "anaerobic_NO3_1.CEL             9.437053   8.936576   9.418147  5.956482   \n",
       "anaerobic_NO3_2.CEL             9.313851   8.684602   9.272818  5.729479   \n",
       "\n",
       "                                 PA5567     PA5568     PA5569     PA5570  \n",
       "05_PA14000-4-2_5-10-07_S2.CEL  9.224442  11.512176  12.529719  11.804896  \n",
       "54375-4-05.CEL                 7.911031  10.828271  11.597643  11.268520  \n",
       "AKGlu_plus_nt_7-8-09_s1.CEL    8.575730  10.858250  12.255953  11.309662  \n",
       "anaerobic_NO3_1.CEL            7.481406   7.687985   9.205525   9.395773  \n",
       "anaerobic_NO3_2.CEL            7.699086   7.414436   9.363494   9.424762  \n",
       "\n",
       "[5 rows x 5549 columns]"
      ]
     },
     "execution_count": 5,
     "metadata": {},
     "output_type": "execute_result"
    }
   ],
   "source": [
    "print(array_expression.shape)\n",
    "array_expression.head()"
   ]
  },
  {
   "cell_type": "code",
   "execution_count": 6,
   "id": "2f483926",
   "metadata": {},
   "outputs": [
    {
     "name": "stdout",
     "output_type": "stream",
     "text": [
      "(1217, 17)\n"
     ]
    },
    {
     "data": {
      "text/html": [
       "<div>\n",
       "<style scoped>\n",
       "    .dataframe tbody tr th:only-of-type {\n",
       "        vertical-align: middle;\n",
       "    }\n",
       "\n",
       "    .dataframe tbody tr th {\n",
       "        vertical-align: top;\n",
       "    }\n",
       "\n",
       "    .dataframe thead th {\n",
       "        text-align: right;\n",
       "    }\n",
       "</style>\n",
       "<table border=\"1\" class=\"dataframe\">\n",
       "  <thead>\n",
       "    <tr style=\"text-align: right;\">\n",
       "      <th></th>\n",
       "      <th>sample_name</th>\n",
       "      <th>ml_data_source</th>\n",
       "      <th>description</th>\n",
       "      <th>nucleic_acid</th>\n",
       "      <th>medium</th>\n",
       "      <th>genotype</th>\n",
       "      <th>od</th>\n",
       "      <th>growth_setting_1</th>\n",
       "      <th>growth_setting_2</th>\n",
       "      <th>strain</th>\n",
       "      <th>temperature</th>\n",
       "      <th>treatment</th>\n",
       "      <th>additional_notes</th>\n",
       "      <th>variant_phenotype</th>\n",
       "      <th>abx_marker</th>\n",
       "      <th>biotic_int_lv_2</th>\n",
       "      <th>biotic_int_lv_1</th>\n",
       "    </tr>\n",
       "    <tr>\n",
       "      <th>experiment</th>\n",
       "      <th></th>\n",
       "      <th></th>\n",
       "      <th></th>\n",
       "      <th></th>\n",
       "      <th></th>\n",
       "      <th></th>\n",
       "      <th></th>\n",
       "      <th></th>\n",
       "      <th></th>\n",
       "      <th></th>\n",
       "      <th></th>\n",
       "      <th></th>\n",
       "      <th></th>\n",
       "      <th></th>\n",
       "      <th></th>\n",
       "      <th></th>\n",
       "      <th></th>\n",
       "    </tr>\n",
       "  </thead>\n",
       "  <tbody>\n",
       "    <tr>\n",
       "      <th>E-GEOD-46947</th>\n",
       "      <td>GSM1141730 1</td>\n",
       "      <td>GSM1141730_PA01_ZnO_PZO_.CEL</td>\n",
       "      <td>Pseudomonas aeruginosa PAO1 LB aerated  5 h wi...</td>\n",
       "      <td>RNA</td>\n",
       "      <td>LB</td>\n",
       "      <td>NaN</td>\n",
       "      <td>NaN</td>\n",
       "      <td>planktonic</td>\n",
       "      <td>aerated</td>\n",
       "      <td>PAO1</td>\n",
       "      <td>37.0</td>\n",
       "      <td>1 mM ZnO nanoparticles</td>\n",
       "      <td>Grown for 5h</td>\n",
       "      <td>NaN</td>\n",
       "      <td>NaN</td>\n",
       "      <td>NaN</td>\n",
       "      <td>NaN</td>\n",
       "    </tr>\n",
       "    <tr>\n",
       "      <th>E-GEOD-46947</th>\n",
       "      <td>GSM1141729 1</td>\n",
       "      <td>GSM1141729_PA01_none_PC_.CEL</td>\n",
       "      <td>Pseudomonas aeruginosa PAO1 LB aerated  5 h</td>\n",
       "      <td>RNA</td>\n",
       "      <td>LB</td>\n",
       "      <td>NaN</td>\n",
       "      <td>NaN</td>\n",
       "      <td>planktonic</td>\n",
       "      <td>aerated</td>\n",
       "      <td>PAO1</td>\n",
       "      <td>37.0</td>\n",
       "      <td>NaN</td>\n",
       "      <td>Grown for 5h</td>\n",
       "      <td>NaN</td>\n",
       "      <td>NaN</td>\n",
       "      <td>NaN</td>\n",
       "      <td>NaN</td>\n",
       "    </tr>\n",
       "    <tr>\n",
       "      <th>E-GEOD-65882</th>\n",
       "      <td>GSM1608059 1</td>\n",
       "      <td>GSM1608059_Planktonic_1.CEL</td>\n",
       "      <td>PAO1 WT. Planktonic. Rep1</td>\n",
       "      <td>RNA</td>\n",
       "      <td>PBM plus 1 g / L glucose.</td>\n",
       "      <td>WT</td>\n",
       "      <td>0.26</td>\n",
       "      <td>Planktonic</td>\n",
       "      <td>Aerated</td>\n",
       "      <td>PAO1</td>\n",
       "      <td>37.0</td>\n",
       "      <td>NaN</td>\n",
       "      <td>Grown shaking at 200rpm</td>\n",
       "      <td>NaN</td>\n",
       "      <td>NaN</td>\n",
       "      <td>NaN</td>\n",
       "      <td>NaN</td>\n",
       "    </tr>\n",
       "    <tr>\n",
       "      <th>E-GEOD-65882</th>\n",
       "      <td>GSM1608060 1</td>\n",
       "      <td>GSM1608060_Planktonic_2.CEL</td>\n",
       "      <td>PAO1 WT. Planktonic. Rep2</td>\n",
       "      <td>RNA</td>\n",
       "      <td>PBM plus 1 g / L glucose.</td>\n",
       "      <td>WT</td>\n",
       "      <td>0.26</td>\n",
       "      <td>Planktonic</td>\n",
       "      <td>Aerated</td>\n",
       "      <td>PAO1</td>\n",
       "      <td>37.0</td>\n",
       "      <td>NaN</td>\n",
       "      <td>Grown shaking at 200rpm</td>\n",
       "      <td>NaN</td>\n",
       "      <td>NaN</td>\n",
       "      <td>NaN</td>\n",
       "      <td>NaN</td>\n",
       "    </tr>\n",
       "    <tr>\n",
       "      <th>E-GEOD-65882</th>\n",
       "      <td>GSM1608061 1</td>\n",
       "      <td>GSM1608061_Planktonic_3.CEL</td>\n",
       "      <td>PAO1 WT. Planktonic. Rep3</td>\n",
       "      <td>RNA</td>\n",
       "      <td>PBM plus 1 g / L glucose.</td>\n",
       "      <td>WT</td>\n",
       "      <td>0.26</td>\n",
       "      <td>Planktonic</td>\n",
       "      <td>Aerated</td>\n",
       "      <td>PAO1</td>\n",
       "      <td>37.0</td>\n",
       "      <td>NaN</td>\n",
       "      <td>Grown shaking at 200rpm</td>\n",
       "      <td>NaN</td>\n",
       "      <td>NaN</td>\n",
       "      <td>NaN</td>\n",
       "      <td>NaN</td>\n",
       "    </tr>\n",
       "  </tbody>\n",
       "</table>\n",
       "</div>"
      ],
      "text/plain": [
       "               sample_name                ml_data_source  \\\n",
       "experiment                                                 \n",
       "E-GEOD-46947  GSM1141730 1  GSM1141730_PA01_ZnO_PZO_.CEL   \n",
       "E-GEOD-46947  GSM1141729 1  GSM1141729_PA01_none_PC_.CEL   \n",
       "E-GEOD-65882  GSM1608059 1   GSM1608059_Planktonic_1.CEL   \n",
       "E-GEOD-65882  GSM1608060 1   GSM1608060_Planktonic_2.CEL   \n",
       "E-GEOD-65882  GSM1608061 1   GSM1608061_Planktonic_3.CEL   \n",
       "\n",
       "                                                    description nucleic_acid  \\\n",
       "experiment                                                                     \n",
       "E-GEOD-46947  Pseudomonas aeruginosa PAO1 LB aerated  5 h wi...          RNA   \n",
       "E-GEOD-46947        Pseudomonas aeruginosa PAO1 LB aerated  5 h          RNA   \n",
       "E-GEOD-65882                          PAO1 WT. Planktonic. Rep1          RNA   \n",
       "E-GEOD-65882                          PAO1 WT. Planktonic. Rep2          RNA   \n",
       "E-GEOD-65882                          PAO1 WT. Planktonic. Rep3          RNA   \n",
       "\n",
       "                                  medium genotype    od growth_setting_1  \\\n",
       "experiment                                                                 \n",
       "E-GEOD-46947                          LB      NaN   NaN       planktonic   \n",
       "E-GEOD-46947                          LB      NaN   NaN       planktonic   \n",
       "E-GEOD-65882  PBM plus 1 g / L glucose.        WT  0.26      Planktonic    \n",
       "E-GEOD-65882  PBM plus 1 g / L glucose.        WT  0.26      Planktonic    \n",
       "E-GEOD-65882  PBM plus 1 g / L glucose.        WT  0.26      Planktonic    \n",
       "\n",
       "             growth_setting_2 strain  temperature               treatment  \\\n",
       "experiment                                                                  \n",
       "E-GEOD-46947          aerated   PAO1         37.0  1 mM ZnO nanoparticles   \n",
       "E-GEOD-46947          aerated   PAO1         37.0                     NaN   \n",
       "E-GEOD-65882          Aerated   PAO1         37.0                     NaN   \n",
       "E-GEOD-65882          Aerated   PAO1         37.0                     NaN   \n",
       "E-GEOD-65882          Aerated   PAO1         37.0                     NaN   \n",
       "\n",
       "                     additional_notes variant_phenotype abx_marker  \\\n",
       "experiment                                                           \n",
       "E-GEOD-46947             Grown for 5h               NaN        NaN   \n",
       "E-GEOD-46947             Grown for 5h               NaN        NaN   \n",
       "E-GEOD-65882  Grown shaking at 200rpm               NaN        NaN   \n",
       "E-GEOD-65882  Grown shaking at 200rpm               NaN        NaN   \n",
       "E-GEOD-65882  Grown shaking at 200rpm               NaN        NaN   \n",
       "\n",
       "             biotic_int_lv_2 biotic_int_lv_1  \n",
       "experiment                                    \n",
       "E-GEOD-46947             NaN             NaN  \n",
       "E-GEOD-46947             NaN             NaN  \n",
       "E-GEOD-65882             NaN             NaN  \n",
       "E-GEOD-65882             NaN             NaN  \n",
       "E-GEOD-65882             NaN             NaN  "
      ]
     },
     "execution_count": 6,
     "metadata": {},
     "output_type": "execute_result"
    }
   ],
   "source": [
    "print(array_metadata.shape)\n",
    "array_metadata.head()"
   ]
  },
  {
   "cell_type": "markdown",
   "id": "52588992",
   "metadata": {},
   "source": [
    "## Make PAO1, PA14 array compendia"
   ]
  },
  {
   "cell_type": "code",
   "execution_count": 7,
   "id": "cd449358",
   "metadata": {},
   "outputs": [],
   "source": [
    "## TO DO\n",
    "# Look into getting samples with strain containing \"PAO1\" as a substring to expand number of samples\n",
    "# Update comments in notebook about where data came from\n",
    "# Update comments in notebook about core genes"
   ]
  },
  {
   "cell_type": "code",
   "execution_count": 8,
   "id": "57f6af64",
   "metadata": {},
   "outputs": [],
   "source": [
    "# Set \"ml_data_source\" (which corresponds to the sample ids in our expression matrix) as the index\n",
    "array_metadata.set_index(\"ml_data_source\", inplace=True)"
   ]
  },
  {
   "cell_type": "code",
   "execution_count": 9,
   "id": "a1ddcbe6",
   "metadata": {},
   "outputs": [],
   "source": [
    "# Select and separate between samples that are using PAO1 strain and those using PA14 strain\n",
    "pao1_sample_ids = array_metadata.query(\"strain=='PAO1'\").index.dropna()\n",
    "pa14_sample_ids = array_metadata.query(\"strain=='PA14'\").index.dropna()"
   ]
  },
  {
   "cell_type": "code",
   "execution_count": 10,
   "id": "6b8a35b3",
   "metadata": {},
   "outputs": [
    {
     "name": "stdout",
     "output_type": "stream",
     "text": [
      "527\n",
      "135\n"
     ]
    }
   ],
   "source": [
    "print(len(pao1_sample_ids))\n",
    "print(len(pa14_sample_ids))"
   ]
  },
  {
   "cell_type": "code",
   "execution_count": 11,
   "id": "f5d8ec75",
   "metadata": {},
   "outputs": [],
   "source": [
    "# Make PAO1, PA14 array compendia\n",
    "pao1_sample_ids_shared = set(array_expression.index).intersection(pao1_sample_ids)\n",
    "pa14_sample_ids_shared = set(array_expression.index).intersection(pa14_sample_ids)\n",
    "\n",
    "pao1_array_compendium = array_expression.loc[pao1_sample_ids_shared]\n",
    "pa14_array_compendium = array_expression.loc[pa14_sample_ids_shared]"
   ]
  },
  {
   "cell_type": "code",
   "execution_count": 12,
   "id": "1574ecfc",
   "metadata": {},
   "outputs": [
    {
     "name": "stdout",
     "output_type": "stream",
     "text": [
      "(436, 5549)\n"
     ]
    },
    {
     "data": {
      "text/html": [
       "<div>\n",
       "<style scoped>\n",
       "    .dataframe tbody tr th:only-of-type {\n",
       "        vertical-align: middle;\n",
       "    }\n",
       "\n",
       "    .dataframe tbody tr th {\n",
       "        vertical-align: top;\n",
       "    }\n",
       "\n",
       "    .dataframe thead th {\n",
       "        text-align: right;\n",
       "    }\n",
       "</style>\n",
       "<table border=\"1\" class=\"dataframe\">\n",
       "  <thead>\n",
       "    <tr style=\"text-align: right;\">\n",
       "      <th></th>\n",
       "      <th>PA0001</th>\n",
       "      <th>PA0002</th>\n",
       "      <th>PA0003</th>\n",
       "      <th>PA0004</th>\n",
       "      <th>PA0005</th>\n",
       "      <th>PA0006</th>\n",
       "      <th>PA0007</th>\n",
       "      <th>PA0008</th>\n",
       "      <th>PA0009</th>\n",
       "      <th>PA0010</th>\n",
       "      <th>...</th>\n",
       "      <th>PA5561</th>\n",
       "      <th>PA5562</th>\n",
       "      <th>PA5563</th>\n",
       "      <th>PA5564</th>\n",
       "      <th>PA5565</th>\n",
       "      <th>PA5566</th>\n",
       "      <th>PA5567</th>\n",
       "      <th>PA5568</th>\n",
       "      <th>PA5569</th>\n",
       "      <th>PA5570</th>\n",
       "    </tr>\n",
       "  </thead>\n",
       "  <tbody>\n",
       "    <tr>\n",
       "      <th>GSM356959.CEL</th>\n",
       "      <td>7.831176</td>\n",
       "      <td>8.888008</td>\n",
       "      <td>7.628324</td>\n",
       "      <td>8.327866</td>\n",
       "      <td>7.510601</td>\n",
       "      <td>7.282403</td>\n",
       "      <td>8.297633</td>\n",
       "      <td>8.074435</td>\n",
       "      <td>7.835853</td>\n",
       "      <td>6.326645</td>\n",
       "      <td>...</td>\n",
       "      <td>7.026707</td>\n",
       "      <td>8.887717</td>\n",
       "      <td>8.432394</td>\n",
       "      <td>9.383928</td>\n",
       "      <td>8.439319</td>\n",
       "      <td>8.354865</td>\n",
       "      <td>8.812926</td>\n",
       "      <td>10.549417</td>\n",
       "      <td>9.767572</td>\n",
       "      <td>6.856875</td>\n",
       "    </tr>\n",
       "    <tr>\n",
       "      <th>GSM573327.CEL</th>\n",
       "      <td>9.828436</td>\n",
       "      <td>10.622570</td>\n",
       "      <td>8.445784</td>\n",
       "      <td>9.268213</td>\n",
       "      <td>7.861100</td>\n",
       "      <td>7.904047</td>\n",
       "      <td>9.459565</td>\n",
       "      <td>8.119346</td>\n",
       "      <td>7.659150</td>\n",
       "      <td>5.391863</td>\n",
       "      <td>...</td>\n",
       "      <td>6.709793</td>\n",
       "      <td>8.872446</td>\n",
       "      <td>8.903135</td>\n",
       "      <td>8.473775</td>\n",
       "      <td>8.820738</td>\n",
       "      <td>5.407110</td>\n",
       "      <td>7.325192</td>\n",
       "      <td>8.718344</td>\n",
       "      <td>9.811456</td>\n",
       "      <td>8.713361</td>\n",
       "    </tr>\n",
       "    <tr>\n",
       "      <th>GSM738264.CEL</th>\n",
       "      <td>8.448770</td>\n",
       "      <td>9.626820</td>\n",
       "      <td>7.385247</td>\n",
       "      <td>8.337985</td>\n",
       "      <td>6.836922</td>\n",
       "      <td>7.052397</td>\n",
       "      <td>8.695432</td>\n",
       "      <td>7.568807</td>\n",
       "      <td>6.081330</td>\n",
       "      <td>5.202479</td>\n",
       "      <td>...</td>\n",
       "      <td>7.382325</td>\n",
       "      <td>8.709510</td>\n",
       "      <td>8.273531</td>\n",
       "      <td>7.564287</td>\n",
       "      <td>9.309100</td>\n",
       "      <td>5.857080</td>\n",
       "      <td>6.592029</td>\n",
       "      <td>8.596912</td>\n",
       "      <td>9.685516</td>\n",
       "      <td>10.272361</td>\n",
       "    </tr>\n",
       "    <tr>\n",
       "      <th>GSM854798.CEL</th>\n",
       "      <td>8.141903</td>\n",
       "      <td>8.500719</td>\n",
       "      <td>9.583403</td>\n",
       "      <td>8.220238</td>\n",
       "      <td>7.968872</td>\n",
       "      <td>6.599308</td>\n",
       "      <td>7.611115</td>\n",
       "      <td>7.683929</td>\n",
       "      <td>7.161676</td>\n",
       "      <td>9.025246</td>\n",
       "      <td>...</td>\n",
       "      <td>9.256157</td>\n",
       "      <td>10.444852</td>\n",
       "      <td>9.379144</td>\n",
       "      <td>7.608174</td>\n",
       "      <td>8.887947</td>\n",
       "      <td>6.028305</td>\n",
       "      <td>8.608385</td>\n",
       "      <td>7.320712</td>\n",
       "      <td>13.145665</td>\n",
       "      <td>12.287916</td>\n",
       "    </tr>\n",
       "    <tr>\n",
       "      <th>GSM738263.CEL</th>\n",
       "      <td>8.199297</td>\n",
       "      <td>9.296063</td>\n",
       "      <td>7.319120</td>\n",
       "      <td>8.186714</td>\n",
       "      <td>6.751955</td>\n",
       "      <td>7.071101</td>\n",
       "      <td>9.066277</td>\n",
       "      <td>7.364962</td>\n",
       "      <td>6.070027</td>\n",
       "      <td>5.237654</td>\n",
       "      <td>...</td>\n",
       "      <td>6.931656</td>\n",
       "      <td>8.878709</td>\n",
       "      <td>7.913382</td>\n",
       "      <td>7.499154</td>\n",
       "      <td>8.716736</td>\n",
       "      <td>6.117004</td>\n",
       "      <td>6.883521</td>\n",
       "      <td>8.612266</td>\n",
       "      <td>9.288379</td>\n",
       "      <td>9.852740</td>\n",
       "    </tr>\n",
       "  </tbody>\n",
       "</table>\n",
       "<p>5 rows × 5549 columns</p>\n",
       "</div>"
      ],
      "text/plain": [
       "                 PA0001     PA0002    PA0003    PA0004    PA0005    PA0006  \\\n",
       "GSM356959.CEL  7.831176   8.888008  7.628324  8.327866  7.510601  7.282403   \n",
       "GSM573327.CEL  9.828436  10.622570  8.445784  9.268213  7.861100  7.904047   \n",
       "GSM738264.CEL  8.448770   9.626820  7.385247  8.337985  6.836922  7.052397   \n",
       "GSM854798.CEL  8.141903   8.500719  9.583403  8.220238  7.968872  6.599308   \n",
       "GSM738263.CEL  8.199297   9.296063  7.319120  8.186714  6.751955  7.071101   \n",
       "\n",
       "                 PA0007    PA0008    PA0009    PA0010  ...    PA5561  \\\n",
       "GSM356959.CEL  8.297633  8.074435  7.835853  6.326645  ...  7.026707   \n",
       "GSM573327.CEL  9.459565  8.119346  7.659150  5.391863  ...  6.709793   \n",
       "GSM738264.CEL  8.695432  7.568807  6.081330  5.202479  ...  7.382325   \n",
       "GSM854798.CEL  7.611115  7.683929  7.161676  9.025246  ...  9.256157   \n",
       "GSM738263.CEL  9.066277  7.364962  6.070027  5.237654  ...  6.931656   \n",
       "\n",
       "                  PA5562    PA5563    PA5564    PA5565    PA5566    PA5567  \\\n",
       "GSM356959.CEL   8.887717  8.432394  9.383928  8.439319  8.354865  8.812926   \n",
       "GSM573327.CEL   8.872446  8.903135  8.473775  8.820738  5.407110  7.325192   \n",
       "GSM738264.CEL   8.709510  8.273531  7.564287  9.309100  5.857080  6.592029   \n",
       "GSM854798.CEL  10.444852  9.379144  7.608174  8.887947  6.028305  8.608385   \n",
       "GSM738263.CEL   8.878709  7.913382  7.499154  8.716736  6.117004  6.883521   \n",
       "\n",
       "                  PA5568     PA5569     PA5570  \n",
       "GSM356959.CEL  10.549417   9.767572   6.856875  \n",
       "GSM573327.CEL   8.718344   9.811456   8.713361  \n",
       "GSM738264.CEL   8.596912   9.685516  10.272361  \n",
       "GSM854798.CEL   7.320712  13.145665  12.287916  \n",
       "GSM738263.CEL   8.612266   9.288379   9.852740  \n",
       "\n",
       "[5 rows x 5549 columns]"
      ]
     },
     "execution_count": 12,
     "metadata": {},
     "output_type": "execute_result"
    }
   ],
   "source": [
    "print(pao1_array_compendium.shape)\n",
    "pao1_array_compendium.head()"
   ]
  },
  {
   "cell_type": "code",
   "execution_count": 13,
   "id": "ecc57c80",
   "metadata": {},
   "outputs": [
    {
     "name": "stdout",
     "output_type": "stream",
     "text": [
      "(99, 5549)\n"
     ]
    },
    {
     "data": {
      "text/html": [
       "<div>\n",
       "<style scoped>\n",
       "    .dataframe tbody tr th:only-of-type {\n",
       "        vertical-align: middle;\n",
       "    }\n",
       "\n",
       "    .dataframe tbody tr th {\n",
       "        vertical-align: top;\n",
       "    }\n",
       "\n",
       "    .dataframe thead th {\n",
       "        text-align: right;\n",
       "    }\n",
       "</style>\n",
       "<table border=\"1\" class=\"dataframe\">\n",
       "  <thead>\n",
       "    <tr style=\"text-align: right;\">\n",
       "      <th></th>\n",
       "      <th>PA0001</th>\n",
       "      <th>PA0002</th>\n",
       "      <th>PA0003</th>\n",
       "      <th>PA0004</th>\n",
       "      <th>PA0005</th>\n",
       "      <th>PA0006</th>\n",
       "      <th>PA0007</th>\n",
       "      <th>PA0008</th>\n",
       "      <th>PA0009</th>\n",
       "      <th>PA0010</th>\n",
       "      <th>...</th>\n",
       "      <th>PA5561</th>\n",
       "      <th>PA5562</th>\n",
       "      <th>PA5563</th>\n",
       "      <th>PA5564</th>\n",
       "      <th>PA5565</th>\n",
       "      <th>PA5566</th>\n",
       "      <th>PA5567</th>\n",
       "      <th>PA5568</th>\n",
       "      <th>PA5569</th>\n",
       "      <th>PA5570</th>\n",
       "    </tr>\n",
       "  </thead>\n",
       "  <tbody>\n",
       "    <tr>\n",
       "      <th>Pae_noFe_11.CEL</th>\n",
       "      <td>7.790687</td>\n",
       "      <td>8.190760</td>\n",
       "      <td>7.580155</td>\n",
       "      <td>6.792974</td>\n",
       "      <td>6.591583</td>\n",
       "      <td>8.306807</td>\n",
       "      <td>7.530801</td>\n",
       "      <td>6.778851</td>\n",
       "      <td>7.108261</td>\n",
       "      <td>5.354359</td>\n",
       "      <td>...</td>\n",
       "      <td>8.989196</td>\n",
       "      <td>7.475966</td>\n",
       "      <td>7.294207</td>\n",
       "      <td>9.569809</td>\n",
       "      <td>8.272383</td>\n",
       "      <td>6.291103</td>\n",
       "      <td>6.711106</td>\n",
       "      <td>8.344328</td>\n",
       "      <td>9.187512</td>\n",
       "      <td>10.640756</td>\n",
       "    </tr>\n",
       "    <tr>\n",
       "      <th>GSM591624.CEL</th>\n",
       "      <td>8.261934</td>\n",
       "      <td>10.456280</td>\n",
       "      <td>7.374900</td>\n",
       "      <td>8.390597</td>\n",
       "      <td>7.081823</td>\n",
       "      <td>6.977250</td>\n",
       "      <td>7.949154</td>\n",
       "      <td>7.993091</td>\n",
       "      <td>7.198635</td>\n",
       "      <td>5.787675</td>\n",
       "      <td>...</td>\n",
       "      <td>6.481081</td>\n",
       "      <td>9.175091</td>\n",
       "      <td>9.496421</td>\n",
       "      <td>8.135078</td>\n",
       "      <td>9.026133</td>\n",
       "      <td>5.835051</td>\n",
       "      <td>7.477615</td>\n",
       "      <td>9.284945</td>\n",
       "      <td>9.813574</td>\n",
       "      <td>9.628016</td>\n",
       "    </tr>\n",
       "    <tr>\n",
       "      <th>GSM462353.CEL</th>\n",
       "      <td>9.216926</td>\n",
       "      <td>10.285517</td>\n",
       "      <td>9.233304</td>\n",
       "      <td>8.841665</td>\n",
       "      <td>7.638163</td>\n",
       "      <td>7.457721</td>\n",
       "      <td>7.209868</td>\n",
       "      <td>8.818182</td>\n",
       "      <td>8.504049</td>\n",
       "      <td>5.443283</td>\n",
       "      <td>...</td>\n",
       "      <td>8.218436</td>\n",
       "      <td>9.806456</td>\n",
       "      <td>10.362544</td>\n",
       "      <td>10.402226</td>\n",
       "      <td>9.795384</td>\n",
       "      <td>5.609057</td>\n",
       "      <td>8.392721</td>\n",
       "      <td>11.174594</td>\n",
       "      <td>11.973593</td>\n",
       "      <td>10.789994</td>\n",
       "    </tr>\n",
       "    <tr>\n",
       "      <th>GSM1206645_WT-CHO-1.CEL</th>\n",
       "      <td>8.880273</td>\n",
       "      <td>11.008027</td>\n",
       "      <td>8.533665</td>\n",
       "      <td>9.204062</td>\n",
       "      <td>7.260366</td>\n",
       "      <td>8.389066</td>\n",
       "      <td>8.119364</td>\n",
       "      <td>8.021955</td>\n",
       "      <td>7.757232</td>\n",
       "      <td>5.355534</td>\n",
       "      <td>...</td>\n",
       "      <td>8.703210</td>\n",
       "      <td>7.984877</td>\n",
       "      <td>10.959859</td>\n",
       "      <td>8.256356</td>\n",
       "      <td>8.136450</td>\n",
       "      <td>6.995742</td>\n",
       "      <td>6.527662</td>\n",
       "      <td>9.063525</td>\n",
       "      <td>11.653815</td>\n",
       "      <td>9.992327</td>\n",
       "    </tr>\n",
       "    <tr>\n",
       "      <th>GSM252501.CEL</th>\n",
       "      <td>9.227238</td>\n",
       "      <td>10.599580</td>\n",
       "      <td>8.497225</td>\n",
       "      <td>8.441499</td>\n",
       "      <td>7.268252</td>\n",
       "      <td>7.665157</td>\n",
       "      <td>8.333018</td>\n",
       "      <td>8.631129</td>\n",
       "      <td>8.363320</td>\n",
       "      <td>5.333992</td>\n",
       "      <td>...</td>\n",
       "      <td>8.348068</td>\n",
       "      <td>8.778397</td>\n",
       "      <td>10.513588</td>\n",
       "      <td>10.277491</td>\n",
       "      <td>9.080569</td>\n",
       "      <td>5.860684</td>\n",
       "      <td>7.966813</td>\n",
       "      <td>11.191529</td>\n",
       "      <td>12.462472</td>\n",
       "      <td>11.523245</td>\n",
       "    </tr>\n",
       "  </tbody>\n",
       "</table>\n",
       "<p>5 rows × 5549 columns</p>\n",
       "</div>"
      ],
      "text/plain": [
       "                           PA0001     PA0002    PA0003    PA0004    PA0005  \\\n",
       "Pae_noFe_11.CEL          7.790687   8.190760  7.580155  6.792974  6.591583   \n",
       "GSM591624.CEL            8.261934  10.456280  7.374900  8.390597  7.081823   \n",
       "GSM462353.CEL            9.216926  10.285517  9.233304  8.841665  7.638163   \n",
       "GSM1206645_WT-CHO-1.CEL  8.880273  11.008027  8.533665  9.204062  7.260366   \n",
       "GSM252501.CEL            9.227238  10.599580  8.497225  8.441499  7.268252   \n",
       "\n",
       "                           PA0006    PA0007    PA0008    PA0009    PA0010  \\\n",
       "Pae_noFe_11.CEL          8.306807  7.530801  6.778851  7.108261  5.354359   \n",
       "GSM591624.CEL            6.977250  7.949154  7.993091  7.198635  5.787675   \n",
       "GSM462353.CEL            7.457721  7.209868  8.818182  8.504049  5.443283   \n",
       "GSM1206645_WT-CHO-1.CEL  8.389066  8.119364  8.021955  7.757232  5.355534   \n",
       "GSM252501.CEL            7.665157  8.333018  8.631129  8.363320  5.333992   \n",
       "\n",
       "                         ...    PA5561    PA5562     PA5563     PA5564  \\\n",
       "Pae_noFe_11.CEL          ...  8.989196  7.475966   7.294207   9.569809   \n",
       "GSM591624.CEL            ...  6.481081  9.175091   9.496421   8.135078   \n",
       "GSM462353.CEL            ...  8.218436  9.806456  10.362544  10.402226   \n",
       "GSM1206645_WT-CHO-1.CEL  ...  8.703210  7.984877  10.959859   8.256356   \n",
       "GSM252501.CEL            ...  8.348068  8.778397  10.513588  10.277491   \n",
       "\n",
       "                           PA5565    PA5566    PA5567     PA5568     PA5569  \\\n",
       "Pae_noFe_11.CEL          8.272383  6.291103  6.711106   8.344328   9.187512   \n",
       "GSM591624.CEL            9.026133  5.835051  7.477615   9.284945   9.813574   \n",
       "GSM462353.CEL            9.795384  5.609057  8.392721  11.174594  11.973593   \n",
       "GSM1206645_WT-CHO-1.CEL  8.136450  6.995742  6.527662   9.063525  11.653815   \n",
       "GSM252501.CEL            9.080569  5.860684  7.966813  11.191529  12.462472   \n",
       "\n",
       "                            PA5570  \n",
       "Pae_noFe_11.CEL          10.640756  \n",
       "GSM591624.CEL             9.628016  \n",
       "GSM462353.CEL            10.789994  \n",
       "GSM1206645_WT-CHO-1.CEL   9.992327  \n",
       "GSM252501.CEL            11.523245  \n",
       "\n",
       "[5 rows x 5549 columns]"
      ]
     },
     "execution_count": 13,
     "metadata": {},
     "output_type": "execute_result"
    }
   ],
   "source": [
    "print(pa14_array_compendium.shape)\n",
    "pa14_array_compendium.head()"
   ]
  },
  {
   "cell_type": "markdown",
   "id": "71cf1ea4",
   "metadata": {},
   "source": [
    "## Calculate correlation matrix"
   ]
  },
  {
   "cell_type": "code",
   "execution_count": 14,
   "id": "665e5460",
   "metadata": {},
   "outputs": [],
   "source": [
    "num_SVs = 100"
   ]
  },
  {
   "cell_type": "code",
   "execution_count": 15,
   "id": "6ccff668",
   "metadata": {},
   "outputs": [],
   "source": [
    "# Transpose compendia to be gene x sample\n",
    "# Here we're interested in how genes cluster\n",
    "pao1_array_compendium_T = pao1_array_compendium.T\n",
    "pa14_array_compendium_T = pa14_array_compendium.T"
   ]
  },
  {
   "cell_type": "code",
   "execution_count": 16,
   "id": "3d372f3b",
   "metadata": {},
   "outputs": [],
   "source": [
    "# log transform data\n",
    "pao1_array_compendium_log10 = np.log10(1 + pao1_array_compendium_T)\n",
    "pa14_array_compendium_log10 = np.log10(1 + pa14_array_compendium_T)"
   ]
  },
  {
   "cell_type": "code",
   "execution_count": 17,
   "id": "63d6308e",
   "metadata": {},
   "outputs": [],
   "source": [
    "# Apply SVD\n",
    "pao1_U, pao1_s, pao1_Vh = np.linalg.svd(\n",
    "    pao1_array_compendium_log10, full_matrices=False\n",
    ")\n",
    "pa14_U, pa14_s, pa14_Vh = np.linalg.svd(\n",
    "    pa14_array_compendium_log10, full_matrices=False\n",
    ")"
   ]
  },
  {
   "cell_type": "code",
   "execution_count": 18,
   "id": "74fb7be8",
   "metadata": {},
   "outputs": [
    {
     "name": "stdout",
     "output_type": "stream",
     "text": [
      "(5549, 436)\n",
      "(5549, 436) (436,) (436, 436)\n"
     ]
    }
   ],
   "source": [
    "print(pao1_array_compendium_T.shape)\n",
    "print(pao1_U.shape, pao1_s.shape, pao1_Vh.shape)"
   ]
  },
  {
   "cell_type": "code",
   "execution_count": 19,
   "id": "7d96f618",
   "metadata": {},
   "outputs": [
    {
     "name": "stdout",
     "output_type": "stream",
     "text": [
      "(5549, 99)\n",
      "(5549, 99) (99,) (99, 99)\n"
     ]
    }
   ],
   "source": [
    "print(pa14_array_compendium_T.shape)\n",
    "print(pa14_U.shape, pa14_s.shape, pa14_Vh.shape)"
   ]
  },
  {
   "cell_type": "code",
   "execution_count": 20,
   "id": "fe657e4d",
   "metadata": {},
   "outputs": [],
   "source": [
    "# Convert ndarray to df to use corr()\n",
    "pao1_U_df = pd.DataFrame(data=pao1_U, index=pao1_array_compendium_T.index)\n",
    "pa14_U_df = pd.DataFrame(data=pa14_U, index=pa14_array_compendium_T.index)"
   ]
  },
  {
   "cell_type": "code",
   "execution_count": 21,
   "id": "7d4b0a97",
   "metadata": {},
   "outputs": [],
   "source": [
    "# Correlation of U\n",
    "# Since `corr()` computes pairwise correlation of columns we need to invert U\n",
    "pao1_corr_log_spell = pao1_U_df.iloc[:, :num_SVs].T.corr()\n",
    "pa14_corr_log_spell = pa14_U_df.iloc[:, :num_SVs].T.corr()"
   ]
  },
  {
   "cell_type": "markdown",
   "id": "85dad7f7",
   "metadata": {},
   "source": [
    "Visually inspect that our log-SPELL processed data removes the dominant correlation signal that is present. Since the visualization can take a few minutes to plot, we've commented it out moving forward. Can refer to the saved plots"
   ]
  },
  {
   "cell_type": "code",
   "execution_count": 22,
   "id": "2e2bb09d",
   "metadata": {},
   "outputs": [
    {
     "data": {
      "text/plain": [
       "'%%time\\nh1a = sns.clustermap(pao1_corr_log_spell, cmap=\"BrBG\", center=0, figsize=(20, 20))\\nh1a.fig.suptitle(\\n    f\"log transform + SPELL corrected using {num_SVs} vectors (PAO1)\",\\n    y=1.05,\\n    fontsize=24,\\n)\\n\\n# Save\\npao1_log_spell_filename = os.path.join(\\n    paths.LOCAL_DATA_DIR, f\"pao1_array_log_spell_clustermap.png\"\\n)\\nh1a.savefig(pao1_log_spell_filename, dpi=300)'"
      ]
     },
     "execution_count": 22,
     "metadata": {},
     "output_type": "execute_result"
    }
   ],
   "source": [
    "\"\"\"%%time\n",
    "h1a = sns.clustermap(pao1_corr_log_spell, cmap=\"BrBG\", center=0, figsize=(20, 20))\n",
    "h1a.fig.suptitle(\n",
    "    f\"log transform + SPELL corrected using {num_SVs} vectors (PAO1)\",\n",
    "    y=1.05,\n",
    "    fontsize=24,\n",
    ")\n",
    "\n",
    "# Save\n",
    "pao1_log_spell_filename = os.path.join(\n",
    "    paths.LOCAL_DATA_DIR, f\"pao1_array_log_spell_clustermap.png\"\n",
    ")\n",
    "h1a.savefig(pao1_log_spell_filename, dpi=300)\"\"\""
   ]
  },
  {
   "cell_type": "code",
   "execution_count": 23,
   "id": "464efd93",
   "metadata": {},
   "outputs": [
    {
     "data": {
      "text/plain": [
       "'%%time\\nh2a = sns.clustermap(pa14_corr_log_spell, cmap=\"BrBG\", center=0, figsize=(20, 20))\\nh2a.fig.suptitle(\\n    f\"log transformed + SPELL corrected using {num_SVs} vectors (PA14)\",\\n    y=1.05,\\n    fontsize=24,\\n)\\n\\n# Save\\npa14_log_spell_filename = os.path.join(\\n    paths.LOCAL_DATA_DIR, \"pa14_array_log_spell_clustermap.png\"\\n)\\nh2a.savefig(pa14_log_spell_filename, dpi=300)'"
      ]
     },
     "execution_count": 23,
     "metadata": {},
     "output_type": "execute_result"
    }
   ],
   "source": [
    "\"\"\"%%time\n",
    "h2a = sns.clustermap(pa14_corr_log_spell, cmap=\"BrBG\", center=0, figsize=(20, 20))\n",
    "h2a.fig.suptitle(\n",
    "    f\"log transformed + SPELL corrected using {num_SVs} vectors (PA14)\",\n",
    "    y=1.05,\n",
    "    fontsize=24,\n",
    ")\n",
    "\n",
    "# Save\n",
    "pa14_log_spell_filename = os.path.join(\n",
    "    paths.LOCAL_DATA_DIR, \"pa14_array_log_spell_clustermap.png\"\n",
    ")\n",
    "h2a.savefig(pa14_log_spell_filename, dpi=300)\"\"\""
   ]
  },
  {
   "cell_type": "markdown",
   "id": "10672afc",
   "metadata": {},
   "source": [
    "## Calculate transcriptional stability\n",
    "\n",
    "TO DO -- Add mention about how all genes in this dataset are core genes, since they were selected based on mapping so we don't need to map between id types like we did for the rna-seq"
   ]
  },
  {
   "cell_type": "code",
   "execution_count": 24,
   "id": "6da51f08",
   "metadata": {},
   "outputs": [],
   "source": [
    "rows = []\n",
    "for gene_id in array_expression.columns:\n",
    "    # Make sure that the genes in the correlation profile are in the same order\n",
    "    # in the PAO1 correlation matrix and the PA14 correlation matrix\n",
    "    # Otherwise reorder\n",
    "    if (pao1_corr_log_spell.index.equals(pa14_corr_log_spell.index)) & (\n",
    "        pao1_corr_log_spell.columns.equals(pa14_corr_log_spell.columns)\n",
    "    ):\n",
    "        pass\n",
    "    else:\n",
    "        print(\"ordering is not the same, going to reorder\")\n",
    "        pa14_corr_log_spell = pa14_corr_log_spell.loc[\n",
    "            pao1_corr_log_spell.index, pao1_corr_log_spell.columns\n",
    "        ]\n",
    "    # Get correlation score\n",
    "    # Make dataframe  with PAO1 id, PA14 homolog, correlation score\n",
    "    corr_coef, pval = scipy.stats.pearsonr(\n",
    "        pao1_corr_log_spell[gene_id], pa14_corr_log_spell[gene_id]\n",
    "    )\n",
    "\n",
    "    rows.append(\n",
    "        {\n",
    "            \"PAO1 id\": gene_id,\n",
    "            \"Transcriptional similarity across strains\": corr_coef,\n",
    "            \"P-value\": pval,\n",
    "        }\n",
    "    )\n",
    "\n",
    "corr_summary_df = pd.DataFrame(rows)"
   ]
  },
  {
   "cell_type": "code",
   "execution_count": 25,
   "id": "fe2d8690",
   "metadata": {},
   "outputs": [],
   "source": [
    "corr_summary_df.set_index(\"PAO1 id\", inplace=True)"
   ]
  },
  {
   "cell_type": "code",
   "execution_count": 26,
   "id": "1231d081",
   "metadata": {},
   "outputs": [
    {
     "name": "stdout",
     "output_type": "stream",
     "text": [
      "(5549, 2)\n"
     ]
    },
    {
     "data": {
      "text/html": [
       "<div>\n",
       "<style scoped>\n",
       "    .dataframe tbody tr th:only-of-type {\n",
       "        vertical-align: middle;\n",
       "    }\n",
       "\n",
       "    .dataframe tbody tr th {\n",
       "        vertical-align: top;\n",
       "    }\n",
       "\n",
       "    .dataframe thead th {\n",
       "        text-align: right;\n",
       "    }\n",
       "</style>\n",
       "<table border=\"1\" class=\"dataframe\">\n",
       "  <thead>\n",
       "    <tr style=\"text-align: right;\">\n",
       "      <th></th>\n",
       "      <th>Transcriptional similarity across strains</th>\n",
       "      <th>P-value</th>\n",
       "    </tr>\n",
       "    <tr>\n",
       "      <th>PAO1 id</th>\n",
       "      <th></th>\n",
       "      <th></th>\n",
       "    </tr>\n",
       "  </thead>\n",
       "  <tbody>\n",
       "    <tr>\n",
       "      <th>PA0001</th>\n",
       "      <td>0.193107</td>\n",
       "      <td>9.260176e-48</td>\n",
       "    </tr>\n",
       "    <tr>\n",
       "      <th>PA0002</th>\n",
       "      <td>0.268234</td>\n",
       "      <td>4.576813e-92</td>\n",
       "    </tr>\n",
       "    <tr>\n",
       "      <th>PA0003</th>\n",
       "      <td>0.194586</td>\n",
       "      <td>1.759836e-48</td>\n",
       "    </tr>\n",
       "    <tr>\n",
       "      <th>PA0004</th>\n",
       "      <td>0.270893</td>\n",
       "      <td>6.225830e-94</td>\n",
       "    </tr>\n",
       "    <tr>\n",
       "      <th>PA0005</th>\n",
       "      <td>0.114840</td>\n",
       "      <td>9.396560e-18</td>\n",
       "    </tr>\n",
       "  </tbody>\n",
       "</table>\n",
       "</div>"
      ],
      "text/plain": [
       "         Transcriptional similarity across strains       P-value\n",
       "PAO1 id                                                         \n",
       "PA0001                                    0.193107  9.260176e-48\n",
       "PA0002                                    0.268234  4.576813e-92\n",
       "PA0003                                    0.194586  1.759836e-48\n",
       "PA0004                                    0.270893  6.225830e-94\n",
       "PA0005                                    0.114840  9.396560e-18"
      ]
     },
     "execution_count": 26,
     "metadata": {},
     "output_type": "execute_result"
    }
   ],
   "source": [
    "print(corr_summary_df.shape)\n",
    "corr_summary_df.head()"
   ]
  },
  {
   "cell_type": "markdown",
   "id": "6c8f5742",
   "metadata": {},
   "source": [
    "## Plots"
   ]
  },
  {
   "cell_type": "code",
   "execution_count": 27,
   "id": "cdf20e82",
   "metadata": {
    "scrolled": true
   },
   "outputs": [],
   "source": [
    "# Add label for most and least stable genes\n",
    "corr_summary_df[\"label\"] = \"\""
   ]
  },
  {
   "cell_type": "code",
   "execution_count": 28,
   "id": "4ec3aaee",
   "metadata": {},
   "outputs": [],
   "source": [
    "# Add label for most and least stable genes based on top X%\n",
    "array_most_stable = corr_summary_df.sort_values(\n",
    "    \"Transcriptional similarity across strains\", ascending=False\n",
    ").head(round(most_percent * len(corr_summary_df)))\n",
    "array_least_stable = corr_summary_df.sort_values(\n",
    "    \"Transcriptional similarity across strains\", ascending=False\n",
    ").tail(round(least_percent * len(corr_summary_df)))"
   ]
  },
  {
   "cell_type": "code",
   "execution_count": 29,
   "id": "e3589152",
   "metadata": {},
   "outputs": [
    {
     "name": "stdout",
     "output_type": "stream",
     "text": [
      "0.08555328930421635 0.30662776117432866\n"
     ]
    }
   ],
   "source": [
    "array_most_threshold = array_most_stable.iloc[-1][\n",
    "    \"Transcriptional similarity across strains\"\n",
    "]\n",
    "array_least_threshold = array_least_stable.iloc[0][\n",
    "    \"Transcriptional similarity across strains\"\n",
    "]\n",
    "print(array_least_threshold, array_most_threshold)"
   ]
  },
  {
   "cell_type": "code",
   "execution_count": 30,
   "id": "08db31e8",
   "metadata": {
    "scrolled": true
   },
   "outputs": [],
   "source": [
    "corr_summary_df.loc[array_most_stable.index, \"label\"] = \"most stable\"\n",
    "corr_summary_df.loc[array_least_stable.index, \"label\"] = \"least stable\""
   ]
  },
  {
   "cell_type": "code",
   "execution_count": 31,
   "id": "60fb972b",
   "metadata": {
    "scrolled": false
   },
   "outputs": [
    {
     "data": {
      "text/plain": [
       "Text(12.627994791666666, 0.5, 'Count')"
      ]
     },
     "execution_count": 31,
     "metadata": {},
     "output_type": "execute_result"
    },
    {
     "data": {
      "image/png": "[encoded data removed]",
      "text/plain": [
       "<Figure size 454.375x360 with 1 Axes>"
      ]
     },
     "metadata": {
      "needs_background": "light"
     },
     "output_type": "display_data"
    }
   ],
   "source": [
    "# Plot distribution of correlation scores\n",
    "# This scores indicate how transcriptionally similar genes are across PAO1 and PA14 strains\n",
    "fig_pao1 = sns.displot(\n",
    "    data=corr_summary_df,\n",
    "    x=\"Transcriptional similarity across strains\",\n",
    "    hue=\"label\",\n",
    "    hue_order=[\"least stable\", \"most stable\", \"\"],\n",
    "    # label=[\"\", \"least stable\", \"most stable\"],\n",
    "    palette={\"\": \"lightgrey\", \"least stable\": \"#a6aed0ff\", \"most stable\": \"#4e1c80\"},\n",
    "    legend=True,\n",
    "    alpha=0.8,\n",
    "    bins=np.linspace(0, 1, 50),\n",
    ")\n",
    "fig_pao1._legend.remove()\n",
    "\n",
    "old_legend = fig_pao1._legend\n",
    "handles = old_legend.legendHandles\n",
    "\n",
    "legend = plt.legend(\n",
    "    handles=[handles[0], handles[1]],\n",
    "    labels=[fig_pao1._legend.texts[0].get_text(), fig_pao1._legend.texts[1].get_text()],\n",
    "    bbox_to_anchor=(1.05, 0.6),\n",
    "    loc=\"upper left\",\n",
    "    borderaxespad=0,\n",
    "    fontsize=12,\n",
    ")\n",
    "\n",
    "plt.title(\"Stability of core genes across strain types\", fontsize=14, y=1.1)\n",
    "plt.xlabel(\"Transcriptional stability\", fontsize=12)\n",
    "plt.ylabel(\"Count\", fontsize=12)"
   ]
  },
  {
   "cell_type": "markdown",
   "id": "852246e0",
   "metadata": {},
   "source": [
    "## Compare most stable core genes\n",
    "\n",
    "We want to compare the most stable core genes obtained using the P. aeruginosa RNA-seq compendium vs the array compendium to validate our findings are robust."
   ]
  },
  {
   "cell_type": "code",
   "execution_count": 32,
   "id": "137d63d3",
   "metadata": {},
   "outputs": [],
   "source": [
    "# Read in RNA-seq transcriptional statistics\n",
    "pao1_similarity_scores_filename = \"pao1_core_similarity_associations_final_spell.tsv\"\n",
    "\n",
    "pao1_rnaseq_similarity_scores = pd.read_csv(\n",
    "    pao1_similarity_scores_filename, sep=\"\\t\", header=0, index_col=0\n",
    ")"
   ]
  },
  {
   "cell_type": "code",
   "execution_count": 33,
   "id": "530aa27c",
   "metadata": {},
   "outputs": [
    {
     "name": "stdout",
     "output_type": "stream",
     "text": [
      "5349\n",
      "5549\n",
      "5339\n"
     ]
    }
   ],
   "source": [
    "# Check overlap of gene ids\n",
    "print(len(pao1_rnaseq_similarity_scores.index))\n",
    "print(len(corr_summary_df.index))\n",
    "\n",
    "shared_core_genes = set(pao1_rnaseq_similarity_scores.index).intersection(\n",
    "    corr_summary_df.index\n",
    ")\n",
    "print(len(shared_core_genes))"
   ]
  },
  {
   "cell_type": "code",
   "execution_count": 34,
   "id": "733be2a9",
   "metadata": {},
   "outputs": [],
   "source": [
    "# Get most and least stable core genes\n",
    "rnaseq_most_stable_genes = list(\n",
    "    pao1_rnaseq_similarity_scores[\n",
    "        pao1_rnaseq_similarity_scores[\"label\"] == \"most stable\"\n",
    "    ].index\n",
    ")\n",
    "rnaseq_least_stable_genes = list(\n",
    "    pao1_rnaseq_similarity_scores[\n",
    "        pao1_rnaseq_similarity_scores[\"label\"] == \"least stable\"\n",
    "    ].index\n",
    ")\n",
    "\n",
    "array_most_stable_genes = list(\n",
    "    corr_summary_df[corr_summary_df[\"label\"] == \"most stable\"].index\n",
    ")\n",
    "array_least_stable_genes = list(\n",
    "    corr_summary_df[corr_summary_df[\"label\"] == \"least stable\"].index\n",
    ")"
   ]
  },
  {
   "cell_type": "code",
   "execution_count": 35,
   "id": "aa36d8b0",
   "metadata": {},
   "outputs": [
    {
     "data": {
      "text/plain": [
       "'# Save figure\\nmatplotlib.pyplot.savefig(\\n    \"cross_platform_venn.svg\",\\n    format=\"svg\",\\n    bbox_inches=\"tight\",\\n    transparent=True,\\n    pad_inches=0,\\n    dpi=300,\\n)'"
      ]
     },
     "execution_count": 35,
     "metadata": {},
     "output_type": "execute_result"
    },
    {
     "name": "stderr",
     "output_type": "stream",
     "text": [
      "/home/alexandra/anaconda3/envs/core_acc/lib/python3.7/site-packages/matplotlib/font_manager.py:1238: UserWarning: findfont: Font family ['Verdana'] not found. Falling back to DejaVu Sans.\n",
      "  (prop.get_family(), self.defaultFamily[fontext]))\n"
     ]
    },
    {
     "data": {
      "image/png": "[encoded data removed]",
      "text/plain": [
       "<Figure size 432x288 with 1 Axes>"
      ]
     },
     "metadata": {},
     "output_type": "display_data"
    }
   ],
   "source": [
    "# Compare\n",
    "most_stable_venn = venn2(\n",
    "    [set(rnaseq_most_stable_genes), set(array_most_stable_genes)],\n",
    "    set_labels=(\"RNA-seq compendium\", \"Array compendium\"),\n",
    ")\n",
    "\n",
    "most_stable_venn.get_patch_by_id(\"11\").set_color(\"purple\")\n",
    "most_stable_venn.get_patch_by_id(\"11\").set_edgecolor(\"none\")\n",
    "most_stable_venn.get_patch_by_id(\"11\").set_alpha(0.3)\n",
    "most_stable_venn.get_patch_by_id(\"01\").set_color(\"blue\")\n",
    "most_stable_venn.get_patch_by_id(\"01\").set_edgecolor(\"none\")\n",
    "most_stable_venn.get_patch_by_id(\"01\").set_alpha(0.3)\n",
    "\n",
    "plt.title(\"Most stable core genes\", fontsize=16, fontname=\"Verdana\")\n",
    "for text in most_stable_venn.set_labels:\n",
    "    text.set_fontsize(14)\n",
    "    text.set_fontname(\"Verdana\")\n",
    "\n",
    "for text in most_stable_venn.subset_labels:\n",
    "    text.set_fontsize(12)\n",
    "    text.set_fontname(\"Verdana\")\n",
    "\n",
    "\"\"\"# Save figure\n",
    "matplotlib.pyplot.savefig(\n",
    "    \"cross_platform_venn.svg\",\n",
    "    format=\"svg\",\n",
    "    bbox_inches=\"tight\",\n",
    "    transparent=True,\n",
    "    pad_inches=0,\n",
    "    dpi=300,\n",
    ")\"\"\""
   ]
  },
  {
   "cell_type": "code",
   "execution_count": 36,
   "id": "af3cb7a6",
   "metadata": {},
   "outputs": [
    {
     "data": {
      "image/png": "[encoded data removed]",
      "text/plain": [
       "<Figure size 432x288 with 1 Axes>"
      ]
     },
     "metadata": {},
     "output_type": "display_data"
    }
   ],
   "source": [
    "least_stable_venn = venn2(\n",
    "    [set(rnaseq_least_stable_genes), set(array_least_stable_genes)],\n",
    "    set_labels=(\"RNA-seq compendium\", \"Array compendium\"),\n",
    ")\n",
    "\n",
    "least_stable_venn.get_patch_by_id(\"11\").set_color(\"purple\")\n",
    "least_stable_venn.get_patch_by_id(\"11\").set_edgecolor(\"none\")\n",
    "least_stable_venn.get_patch_by_id(\"11\").set_alpha(0.3)\n",
    "least_stable_venn.get_patch_by_id(\"01\").set_color(\"blue\")\n",
    "least_stable_venn.get_patch_by_id(\"01\").set_edgecolor(\"none\")\n",
    "least_stable_venn.get_patch_by_id(\"01\").set_alpha(0.3)\n",
    "\n",
    "plt.title(\"Least stable core genes\", fontsize=16, fontname=\"Verdana\")\n",
    "for text in least_stable_venn.set_labels:\n",
    "    text.set_fontsize(14)\n",
    "    text.set_fontname(\"Verdana\")\n",
    "\n",
    "for text in least_stable_venn.subset_labels:\n",
    "    text.set_fontsize(12)\n",
    "    text.set_fontname(\"Verdana\")\n",
    "\n",
    "\n",
    "\"\"\"# Save figure\n",
    "matplotlib.pyplot.savefig(\n",
    "    \"cross_platform_venn.svg\",\n",
    "    format=\"svg\",\n",
    "    bbox_inches=\"tight\",\n",
    "    transparent=True,\n",
    "    pad_inches=0,\n",
    "    dpi=300,\n",
    ")\"\"\""
   ]
  },
  {
   "cell_type": "code",
   "execution_count": 37,
   "id": "51146b30",
   "metadata": {},
   "outputs": [
    {
     "data": {
      "text/plain": [
       "'# Save\\nfig_pao1.savefig(\\n    pao1_similarity_dist_filename,\\n    format=\"svg\",\\n    bbox_inches=\"tight\",\\n    transparent=True,\\n    pad_inches=0,\\n    dpi=300,\\n)'"
      ]
     },
     "execution_count": 37,
     "metadata": {},
     "output_type": "execute_result"
    }
   ],
   "source": [
    "\"\"\"# Save\n",
    "fig_pao1.savefig(\n",
    "    pao1_similarity_dist_filename,\n",
    "    format=\"svg\",\n",
    "    bbox_inches=\"tight\",\n",
    "    transparent=True,\n",
    "    pad_inches=0,\n",
    "    dpi=300,\n",
    ")\"\"\""
   ]
  },
  {
   "cell_type": "code",
   "execution_count": 38,
   "id": "df2f8ca2",
   "metadata": {},
   "outputs": [
    {
     "data": {
      "text/plain": [
       "'# Save transcriptional similarity df\\npao1_corr_df.to_csv(pao1_similarity_scores_filename, sep=\"\\t\")\\npa14_corr_df.to_csv(pa14_similarity_scores_filename, sep=\"\\t\")'"
      ]
     },
     "execution_count": 38,
     "metadata": {},
     "output_type": "execute_result"
    }
   ],
   "source": [
    "\"\"\"# Save transcriptional similarity df\n",
    "pao1_corr_df.to_csv(pao1_similarity_scores_filename, sep=\"\\t\")\n",
    "pa14_corr_df.to_csv(pa14_similarity_scores_filename, sep=\"\\t\")\"\"\""
   ]
  }
 ],
 "metadata": {
  "jupytext": {
   "formats": "ipynb,py"
  },
  "kernelspec": {
   "display_name": "Python [conda env:core_acc] *",
   "language": "python",
   "name": "conda-env-core_acc-py"
  },
  "language_info": {
   "codemirror_mode": {
    "name": "ipython",
    "version": 3
   },
   "file_extension": ".py",
   "mimetype": "text/x-python",
   "name": "python",
   "nbconvert_exporter": "python",
   "pygments_lexer": "ipython3",
   "version": "3.7.10"
  }
 },
 "nbformat": 4,
 "nbformat_minor": 5
}
