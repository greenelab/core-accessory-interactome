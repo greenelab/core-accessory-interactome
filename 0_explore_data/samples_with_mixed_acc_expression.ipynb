{
 "cells": [
  {
   "cell_type": "markdown",
   "id": "58d0dcd4",
   "metadata": {},
   "source": [
    "# Examine samples with high PAO1 and PA14 accessory expression\n",
    "\n",
    "There are some samples with high PAO1 accessory and high PA14 accessory expression. We want to know what these samples are"
   ]
  },
  {
   "cell_type": "code",
   "execution_count": 1,
   "id": "4673eb76",
   "metadata": {},
   "outputs": [],
   "source": [
    "%load_ext autoreload\n",
    "%autoreload 2\n",
    "%matplotlib inline\n",
    "import os\n",
    "import pandas as pd\n",
    "from scripts import paths, utils"
   ]
  },
  {
   "cell_type": "code",
   "execution_count": 2,
   "id": "0a070dc8",
   "metadata": {},
   "outputs": [],
   "source": [
    "# Expression data pre-binning\n",
    "pao1_expression_prebin_filename = paths.PAO1_PREBIN_COMPENDIUM\n",
    "pa14_expression_prebin_filename = paths.PA14_PREBIN_COMPENDIUM"
   ]
  },
  {
   "cell_type": "code",
   "execution_count": 3,
   "id": "8e83bb57",
   "metadata": {},
   "outputs": [],
   "source": [
    "# Load data\n",
    "pao1_expression_prebin = pd.read_csv(\n",
    "    pao1_expression_prebin_filename, sep=\"\\t\", index_col=0, header=0\n",
    ")\n",
    "pa14_expression_prebin = pd.read_csv(\n",
    "    pa14_expression_prebin_filename, sep=\"\\t\", index_col=0, header=0\n",
    ")"
   ]
  },
  {
   "cell_type": "markdown",
   "id": "72c9ea01",
   "metadata": {},
   "source": [
    "## Get core/accessory genes"
   ]
  },
  {
   "cell_type": "code",
   "execution_count": 4,
   "id": "1e53008e",
   "metadata": {},
   "outputs": [
    {
     "name": "stdout",
     "output_type": "stream",
     "text": [
      "Number of PAO1 core genes: 5366\n",
      "Number of PA14 core genes: 5363\n",
      "Number of PAO1 core genes in my dataset: 5361\n",
      "Number of PA14 core genes in my dataset: 5357\n",
      "Number of PAO1-specific genes: 202\n",
      "Number of PA14-specific genes: 534\n"
     ]
    }
   ],
   "source": [
    "pao1_annot_filename = paths.GENE_PAO1_ANNOT\n",
    "pa14_annot_filename = paths.GENE_PA14_ANNOT\n",
    "\n",
    "core_acc_dict = utils.get_my_core_acc_genes(\n",
    "    pao1_annot_filename,\n",
    "    pa14_annot_filename,\n",
    "    pao1_expression_prebin,\n",
    "    pa14_expression_prebin,\n",
    ")"
   ]
  },
  {
   "cell_type": "code",
   "execution_count": 5,
   "id": "16413085",
   "metadata": {},
   "outputs": [],
   "source": [
    "pao1_core = core_acc_dict[\"core_pao1\"]\n",
    "pa14_core = core_acc_dict[\"core_pa14\"]\n",
    "pao1_acc = core_acc_dict[\"acc_pao1\"]\n",
    "pa14_acc = core_acc_dict[\"acc_pa14\"]"
   ]
  },
  {
   "cell_type": "markdown",
   "id": "c6c93e0b",
   "metadata": {},
   "source": [
    "## Find accessory gene expression"
   ]
  },
  {
   "cell_type": "code",
   "execution_count": 7,
   "id": "9f0a0975",
   "metadata": {},
   "outputs": [
    {
     "name": "stderr",
     "output_type": "stream",
     "text": [
      "/home/alexandra/anaconda3/envs/core_acc/lib/python3.7/site-packages/ipykernel_launcher.py:7: SettingWithCopyWarning: \n",
      "A value is trying to be set on a copy of a slice from a DataFrame.\n",
      "Try using .loc[row_indexer,col_indexer] = value instead\n",
      "\n",
      "See the caveats in the documentation: https://pandas.pydata.org/pandas-docs/stable/user_guide/indexing.html#returning-a-view-versus-a-copy\n",
      "  import sys\n"
     ]
    }
   ],
   "source": [
    "# Create accessory df for PAO1 compendium\n",
    "# accessory gene ids | median accessory expression | strain label\n",
    "\n",
    "# PAO1-only genes in PAO1 compendium\n",
    "pao1_acc_pao1_compendium = pao1_expression_prebin[pao1_acc]\n",
    "pao1_acc_pao1_compendium[\"median acc expression\"] = pao1_acc_pao1_compendium.median(\n",
    "    axis=1\n",
    ")"
   ]
  },
  {
   "cell_type": "code",
   "execution_count": 8,
   "id": "a1d24351",
   "metadata": {},
   "outputs": [
    {
     "name": "stderr",
     "output_type": "stream",
     "text": [
      "/home/alexandra/anaconda3/envs/core_acc/lib/python3.7/site-packages/ipykernel_launcher.py:7: SettingWithCopyWarning: \n",
      "A value is trying to be set on a copy of a slice from a DataFrame.\n",
      "Try using .loc[row_indexer,col_indexer] = value instead\n",
      "\n",
      "See the caveats in the documentation: https://pandas.pydata.org/pandas-docs/stable/user_guide/indexing.html#returning-a-view-versus-a-copy\n",
      "  import sys\n"
     ]
    }
   ],
   "source": [
    "# Create accessory df for PA14 compendium\n",
    "# accessory gene ids | median accessory expression | strain label\n",
    "\n",
    "# PA14-only genes in PA14 compendium\n",
    "pa14_acc_pa14_compendium = pa14_expression_prebin[pa14_acc]\n",
    "pa14_acc_pa14_compendium[\"median acc expression\"] = pa14_acc_pa14_compendium.median(\n",
    "    axis=1\n",
    ")"
   ]
  },
  {
   "cell_type": "code",
   "execution_count": 9,
   "id": "91c626e5",
   "metadata": {},
   "outputs": [],
   "source": [
    "high_pao1_acc_samples = pao1_acc_pao1_compendium[\n",
    "    pao1_acc_pao1_compendium[\"median acc expression\"] > 50\n",
    "].index\n",
    "high_pa14_acc_samples = pa14_acc_pa14_compendium[\n",
    "    pa14_acc_pa14_compendium[\"median acc expression\"] > 50\n",
    "].index"
   ]
  },
  {
   "cell_type": "code",
   "execution_count": 10,
   "id": "de50d426",
   "metadata": {},
   "outputs": [],
   "source": [
    "shared_samples = set(high_pao1_acc_samples).intersection(high_pa14_acc_samples)"
   ]
  },
  {
   "cell_type": "code",
   "execution_count": 11,
   "id": "8fbc266e",
   "metadata": {},
   "outputs": [
    {
     "name": "stdout",
     "output_type": "stream",
     "text": [
      "19\n"
     ]
    },
    {
     "data": {
      "text/plain": [
       "{'ERX2813655',\n",
       " 'SRX1096902',\n",
       " 'SRX1097013',\n",
       " 'SRX1127442',\n",
       " 'SRX1491235',\n",
       " 'SRX1491236',\n",
       " 'SRX1516058',\n",
       " 'SRX1747042',\n",
       " 'SRX2662725',\n",
       " 'SRX2662726',\n",
       " 'SRX2662727',\n",
       " 'SRX2662728',\n",
       " 'SRX2792486',\n",
       " 'SRX389628',\n",
       " 'SRX5000019',\n",
       " 'SRX5000020',\n",
       " 'SRX5000025',\n",
       " 'SRX5000026',\n",
       " 'SRX6981195'}"
      ]
     },
     "execution_count": 11,
     "metadata": {},
     "output_type": "execute_result"
    }
   ],
   "source": [
    "print(len(shared_samples))\n",
    "shared_samples"
   ]
  },
  {
   "cell_type": "markdown",
   "id": "ade1ea11",
   "metadata": {},
   "source": [
    "Who are these samples?\n",
    "* 'ERX2813655' Negative control of RpoS synthesis, which is involved in QS: https://www.ncbi.nlm.nih.gov/sra/?term=ERX2813655\n",
    "* 2 samples ('SRX1096902', 'SRX1097013') from a study testing effect of antibiotic treatment. 'SRX1096902' is 0m after treatment, 'SRX1097013' is 30m after treatment: https://www.ncbi.nlm.nih.gov/sra/?term=SRX1096902; https://www.ncbi.nlm.nih.gov/sra/?term=SRX1097013\n",
    "* 'SRX1127442' sRNA content of P. aeruginosa OMVs compared to whole cells: https://www.ncbi.nlm.nih.gov/sra/?term=SRX1127442\n",
    "* 2 samples ('SRX1491235', 'SRX1491236') testing transcriptomic response of PAO1 under Elevated Temperature: https://www.ncbi.nlm.nih.gov/sra/?term=SRX1491235\n",
    "* Sample ('SRX1516058') from a study reports the RNA-Seq analysis of bacteriophage PAK_P3 infecting PAK strain of P. aeruginosa: https://www.ncbi.nlm.nih.gov/sra/?term=SRX1516058\n",
    "* Sample ('SRX1747042') characterzing the in vitro and in vivo transcriptome of PAO1\n",
    "* Sample ('SRX2662725', 'SRX2662726', 'SRX2662727', 'SRX2662728') characterizing the transcriptional patterns of PAO1 under different culture conditions: https://www.ncbi.nlm.nih.gov/bioproject/PRJNA360055\n",
    "* 4 samples ('SRX5000019', 'SRX5000020', 'SRX5000025', 'SRX5000026') co-cultured with Aspergillus fumigatus: https://www.ncbi.nlm.nih.gov/sra/?term=SRX5000026\n",
    "* SRX6981195, SRX389628, grown in a murine chronic wound infection: https://www.ncbi.nlm.nih.gov/sra/?term=SRX69811951\n",
    "\n",
    "Looks like there are some samples that are isolated from wounds and others that are related to specific culturing or stress conditions like antibiotic treatment, temperature, co-culture with a fungus."
   ]
  }
 ],
 "metadata": {
  "jupytext": {
   "formats": "ipynb,py"
  },
  "kernelspec": {
   "display_name": "Python [conda env:core_acc] *",
   "language": "python",
   "name": "conda-env-core_acc-py"
  },
  "language_info": {
   "codemirror_mode": {
    "name": "ipython",
    "version": 3
   },
   "file_extension": ".py",
   "mimetype": "text/x-python",
   "name": "python",
   "nbconvert_exporter": "python",
   "pygments_lexer": "ipython3",
   "version": "3.7.10"
  }
 },
 "nbformat": 4,
 "nbformat_minor": 5
}
