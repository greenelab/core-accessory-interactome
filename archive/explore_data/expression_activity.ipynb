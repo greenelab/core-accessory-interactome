{
 "cells": [
  {
   "cell_type": "markdown",
   "id": "understood-married",
   "metadata": {},
   "source": [
    "# Expression activity\n",
    "\n",
    "This notebook examines the average expression activity of genes in order to:\n",
    "1. Verify that accessory genes (i.e. PAO1 genes) mostly 0\n",
    "2. Look at the data to determine if there are additional considerations to be made for our downstream analysis"
   ]
  },
  {
   "cell_type": "code",
   "execution_count": 1,
   "id": "suffering-output",
   "metadata": {},
   "outputs": [
    {
     "name": "stderr",
     "output_type": "stream",
     "text": [
      "/home/alexandra/anaconda3/envs/core_acc_local/lib/python3.7/site-packages/matplotlib/__init__.py:886: MatplotlibDeprecationWarning: \n",
      "examples.directory is deprecated; in the future, examples will be found relative to the 'datapath' directory.\n",
      "  \"found relative to the 'datapath' directory.\".format(key))\n"
     ]
    }
   ],
   "source": [
    "%load_ext autoreload\n",
    "%load_ext rpy2.ipython\n",
    "%autoreload 2\n",
    "\n",
    "import os\n",
    "import pandas as pd\n",
    "import seaborn as sns\n",
    "import matplotlib.pyplot as plt\n",
    "from textwrap import fill\n",
    "\n",
    "from core_acc_modules import paths_corr, utils"
   ]
  },
  {
   "cell_type": "code",
   "execution_count": 2,
   "id": "czech-blood",
   "metadata": {},
   "outputs": [],
   "source": [
    "# Load gene expression data\n",
    "expression_df = pd.read_csv(paths_corr.PAO1_GE, sep=\"\\t\", index_col=0, header=0)"
   ]
  },
  {
   "cell_type": "code",
   "execution_count": 3,
   "id": "minor-efficiency",
   "metadata": {},
   "outputs": [],
   "source": [
    "# Load metadata\n",
    "pao1_metadata = pd.read_csv(paths_corr.PAO1_METADATA, index_col=0, header=0)\n",
    "pa14_metadata = pd.read_csv(paths_corr.PA14_METADATA, index_col=0, header=0)"
   ]
  },
  {
   "cell_type": "markdown",
   "id": "hourly-magnet",
   "metadata": {},
   "source": [
    "## Format gene ids"
   ]
  },
  {
   "cell_type": "code",
   "execution_count": 4,
   "id": "generous-brave",
   "metadata": {},
   "outputs": [
    {
     "data": {
      "text/html": [
       "<div>\n",
       "<style scoped>\n",
       "    .dataframe tbody tr th:only-of-type {\n",
       "        vertical-align: middle;\n",
       "    }\n",
       "\n",
       "    .dataframe tbody tr th {\n",
       "        vertical-align: top;\n",
       "    }\n",
       "\n",
       "    .dataframe thead th {\n",
       "        text-align: right;\n",
       "    }\n",
       "</style>\n",
       "<table border=\"1\" class=\"dataframe\">\n",
       "  <thead>\n",
       "    <tr style=\"text-align: right;\">\n",
       "      <th></th>\n",
       "      <th>PA0001</th>\n",
       "      <th>PA0002</th>\n",
       "      <th>PA0003</th>\n",
       "      <th>PA0004</th>\n",
       "      <th>PA0005</th>\n",
       "      <th>PA0006</th>\n",
       "      <th>PA0007</th>\n",
       "      <th>PA0008</th>\n",
       "      <th>PA0009</th>\n",
       "      <th>PA0010</th>\n",
       "      <th>...</th>\n",
       "      <th>PA5561</th>\n",
       "      <th>PA5562</th>\n",
       "      <th>PA5563</th>\n",
       "      <th>PA5564</th>\n",
       "      <th>PA5565</th>\n",
       "      <th>PA5566</th>\n",
       "      <th>PA5567</th>\n",
       "      <th>PA5568</th>\n",
       "      <th>PA5569</th>\n",
       "      <th>PA5570</th>\n",
       "    </tr>\n",
       "  </thead>\n",
       "  <tbody>\n",
       "    <tr>\n",
       "      <th>SRR2007333</th>\n",
       "      <td>16.748607</td>\n",
       "      <td>14.158337</td>\n",
       "      <td>21.634927</td>\n",
       "      <td>13.909423</td>\n",
       "      <td>1.788972</td>\n",
       "      <td>11.595190</td>\n",
       "      <td>0.357876</td>\n",
       "      <td>3.351434</td>\n",
       "      <td>20.005435</td>\n",
       "      <td>5.510585</td>\n",
       "      <td>...</td>\n",
       "      <td>72.733456</td>\n",
       "      <td>18.647072</td>\n",
       "      <td>14.590614</td>\n",
       "      <td>13.044588</td>\n",
       "      <td>14.853692</td>\n",
       "      <td>0.386506</td>\n",
       "      <td>1.771919</td>\n",
       "      <td>20.724064</td>\n",
       "      <td>58.741668</td>\n",
       "      <td>2586.632135</td>\n",
       "    </tr>\n",
       "    <tr>\n",
       "      <th>SRR8782928</th>\n",
       "      <td>69.982152</td>\n",
       "      <td>97.099262</td>\n",
       "      <td>87.449079</td>\n",
       "      <td>92.622825</td>\n",
       "      <td>13.779231</td>\n",
       "      <td>16.745594</td>\n",
       "      <td>4.421613</td>\n",
       "      <td>29.401579</td>\n",
       "      <td>68.994721</td>\n",
       "      <td>16.728675</td>\n",
       "      <td>...</td>\n",
       "      <td>323.603134</td>\n",
       "      <td>78.706919</td>\n",
       "      <td>183.358555</td>\n",
       "      <td>59.153266</td>\n",
       "      <td>50.738176</td>\n",
       "      <td>4.374359</td>\n",
       "      <td>42.394929</td>\n",
       "      <td>206.900132</td>\n",
       "      <td>818.025789</td>\n",
       "      <td>17618.048842</td>\n",
       "    </tr>\n",
       "    <tr>\n",
       "      <th>SRR8782932</th>\n",
       "      <td>43.671292</td>\n",
       "      <td>108.945058</td>\n",
       "      <td>31.600408</td>\n",
       "      <td>82.412376</td>\n",
       "      <td>9.481706</td>\n",
       "      <td>11.838603</td>\n",
       "      <td>4.957598</td>\n",
       "      <td>14.083611</td>\n",
       "      <td>30.924667</td>\n",
       "      <td>6.076368</td>\n",
       "      <td>...</td>\n",
       "      <td>50.626168</td>\n",
       "      <td>32.018869</td>\n",
       "      <td>71.347316</td>\n",
       "      <td>24.624295</td>\n",
       "      <td>16.342457</td>\n",
       "      <td>0.505114</td>\n",
       "      <td>9.933001</td>\n",
       "      <td>58.245928</td>\n",
       "      <td>397.133760</td>\n",
       "      <td>13079.049466</td>\n",
       "    </tr>\n",
       "    <tr>\n",
       "      <th>SRR12820672</th>\n",
       "      <td>30.021631</td>\n",
       "      <td>52.560065</td>\n",
       "      <td>26.536402</td>\n",
       "      <td>22.785072</td>\n",
       "      <td>18.115482</td>\n",
       "      <td>33.277848</td>\n",
       "      <td>2.962978</td>\n",
       "      <td>3.960106</td>\n",
       "      <td>8.609682</td>\n",
       "      <td>11.000073</td>\n",
       "      <td>...</td>\n",
       "      <td>137.505075</td>\n",
       "      <td>25.786259</td>\n",
       "      <td>24.032927</td>\n",
       "      <td>12.251220</td>\n",
       "      <td>26.211311</td>\n",
       "      <td>13.853613</td>\n",
       "      <td>7.087961</td>\n",
       "      <td>28.110579</td>\n",
       "      <td>552.090025</td>\n",
       "      <td>16939.944456</td>\n",
       "    </tr>\n",
       "    <tr>\n",
       "      <th>SRR12820655</th>\n",
       "      <td>56.445619</td>\n",
       "      <td>95.522156</td>\n",
       "      <td>27.881456</td>\n",
       "      <td>51.173257</td>\n",
       "      <td>21.218700</td>\n",
       "      <td>22.894728</td>\n",
       "      <td>7.746194</td>\n",
       "      <td>11.421012</td>\n",
       "      <td>14.734453</td>\n",
       "      <td>12.572734</td>\n",
       "      <td>...</td>\n",
       "      <td>133.140124</td>\n",
       "      <td>68.884391</td>\n",
       "      <td>26.866753</td>\n",
       "      <td>26.074096</td>\n",
       "      <td>28.517417</td>\n",
       "      <td>13.796927</td>\n",
       "      <td>9.017056</td>\n",
       "      <td>36.933886</td>\n",
       "      <td>576.759379</td>\n",
       "      <td>5803.250581</td>\n",
       "    </tr>\n",
       "  </tbody>\n",
       "</table>\n",
       "<p>5 rows × 5685 columns</p>\n",
       "</div>"
      ],
      "text/plain": [
       "                PA0001      PA0002     PA0003     PA0004     PA0005  \\\n",
       "SRR2007333   16.748607   14.158337  21.634927  13.909423   1.788972   \n",
       "SRR8782928   69.982152   97.099262  87.449079  92.622825  13.779231   \n",
       "SRR8782932   43.671292  108.945058  31.600408  82.412376   9.481706   \n",
       "SRR12820672  30.021631   52.560065  26.536402  22.785072  18.115482   \n",
       "SRR12820655  56.445619   95.522156  27.881456  51.173257  21.218700   \n",
       "\n",
       "                PA0006    PA0007     PA0008     PA0009     PA0010  ...  \\\n",
       "SRR2007333   11.595190  0.357876   3.351434  20.005435   5.510585  ...   \n",
       "SRR8782928   16.745594  4.421613  29.401579  68.994721  16.728675  ...   \n",
       "SRR8782932   11.838603  4.957598  14.083611  30.924667   6.076368  ...   \n",
       "SRR12820672  33.277848  2.962978   3.960106   8.609682  11.000073  ...   \n",
       "SRR12820655  22.894728  7.746194  11.421012  14.734453  12.572734  ...   \n",
       "\n",
       "                 PA5561     PA5562      PA5563     PA5564     PA5565  \\\n",
       "SRR2007333    72.733456  18.647072   14.590614  13.044588  14.853692   \n",
       "SRR8782928   323.603134  78.706919  183.358555  59.153266  50.738176   \n",
       "SRR8782932    50.626168  32.018869   71.347316  24.624295  16.342457   \n",
       "SRR12820672  137.505075  25.786259   24.032927  12.251220  26.211311   \n",
       "SRR12820655  133.140124  68.884391   26.866753  26.074096  28.517417   \n",
       "\n",
       "                PA5566     PA5567      PA5568      PA5569        PA5570  \n",
       "SRR2007333    0.386506   1.771919   20.724064   58.741668   2586.632135  \n",
       "SRR8782928    4.374359  42.394929  206.900132  818.025789  17618.048842  \n",
       "SRR8782932    0.505114   9.933001   58.245928  397.133760  13079.049466  \n",
       "SRR12820672  13.853613   7.087961   28.110579  552.090025  16939.944456  \n",
       "SRR12820655  13.796927   9.017056   36.933886  576.759379   5803.250581  \n",
       "\n",
       "[5 rows x 5685 columns]"
      ]
     },
     "execution_count": 4,
     "metadata": {},
     "output_type": "execute_result"
    }
   ],
   "source": [
    "# Replace sequencing gene ids with PA ids\n",
    "pao1_fasta_file = paths_corr.PAO1_REF\n",
    "seq_id_to_gene_id_pao1 = utils.dict_gene_num_to_ids(pao1_fasta_file)\n",
    "expression_df.rename(mapper=seq_id_to_gene_id_pao1, axis=\"columns\", inplace=True)\n",
    "\n",
    "expression_df.head()"
   ]
  },
  {
   "cell_type": "markdown",
   "id": "severe-sleep",
   "metadata": {},
   "source": [
    "## Get core and accessory genes"
   ]
  },
  {
   "cell_type": "code",
   "execution_count": 5,
   "id": "competent-warrant",
   "metadata": {},
   "outputs": [
    {
     "data": {
      "text/html": [
       "<div>\n",
       "<style scoped>\n",
       "    .dataframe tbody tr th:only-of-type {\n",
       "        vertical-align: middle;\n",
       "    }\n",
       "\n",
       "    .dataframe tbody tr th {\n",
       "        vertical-align: top;\n",
       "    }\n",
       "\n",
       "    .dataframe thead th {\n",
       "        text-align: right;\n",
       "    }\n",
       "</style>\n",
       "<table border=\"1\" class=\"dataframe\">\n",
       "  <thead>\n",
       "    <tr style=\"text-align: right;\">\n",
       "      <th></th>\n",
       "      <th>Name</th>\n",
       "      <th>Product.Name</th>\n",
       "      <th>GeneID.(PAO1)</th>\n",
       "      <th>PA14_ID</th>\n",
       "      <th>annotation</th>\n",
       "      <th>num_mapped_genes</th>\n",
       "    </tr>\n",
       "    <tr>\n",
       "      <th>PAO1_ID</th>\n",
       "      <th></th>\n",
       "      <th></th>\n",
       "      <th></th>\n",
       "      <th></th>\n",
       "      <th></th>\n",
       "      <th></th>\n",
       "    </tr>\n",
       "  </thead>\n",
       "  <tbody>\n",
       "    <tr>\n",
       "      <th>PA0001</th>\n",
       "      <td>dnaA</td>\n",
       "      <td>chromosomal replication initiator protein DnaA</td>\n",
       "      <td>878417.0</td>\n",
       "      <td>PA14_00010</td>\n",
       "      <td>core</td>\n",
       "      <td>1.0</td>\n",
       "    </tr>\n",
       "    <tr>\n",
       "      <th>PA0002</th>\n",
       "      <td>dnaN</td>\n",
       "      <td>DNA polymerase III, beta chain</td>\n",
       "      <td>879244.0</td>\n",
       "      <td>PA14_00020</td>\n",
       "      <td>core</td>\n",
       "      <td>1.0</td>\n",
       "    </tr>\n",
       "    <tr>\n",
       "      <th>PA0003</th>\n",
       "      <td>recF</td>\n",
       "      <td>RecF protein</td>\n",
       "      <td>879229.0</td>\n",
       "      <td>PA14_00030</td>\n",
       "      <td>core</td>\n",
       "      <td>1.0</td>\n",
       "    </tr>\n",
       "    <tr>\n",
       "      <th>PA0004</th>\n",
       "      <td>gyrB</td>\n",
       "      <td>DNA gyrase subunit B</td>\n",
       "      <td>879230.0</td>\n",
       "      <td>PA14_00050</td>\n",
       "      <td>core</td>\n",
       "      <td>1.0</td>\n",
       "    </tr>\n",
       "    <tr>\n",
       "      <th>PA0005</th>\n",
       "      <td>lptA</td>\n",
       "      <td>lysophosphatidic acid acyltransferase, LptA</td>\n",
       "      <td>877576.0</td>\n",
       "      <td>PA14_00060</td>\n",
       "      <td>core</td>\n",
       "      <td>1.0</td>\n",
       "    </tr>\n",
       "  </tbody>\n",
       "</table>\n",
       "</div>"
      ],
      "text/plain": [
       "         Name                                    Product.Name  GeneID.(PAO1)  \\\n",
       "PAO1_ID                                                                        \n",
       "PA0001   dnaA  chromosomal replication initiator protein DnaA       878417.0   \n",
       "PA0002   dnaN                  DNA polymerase III, beta chain       879244.0   \n",
       "PA0003   recF                                    RecF protein       879229.0   \n",
       "PA0004   gyrB                            DNA gyrase subunit B       879230.0   \n",
       "PA0005   lptA     lysophosphatidic acid acyltransferase, LptA       877576.0   \n",
       "\n",
       "            PA14_ID annotation  num_mapped_genes  \n",
       "PAO1_ID                                           \n",
       "PA0001   PA14_00010       core               1.0  \n",
       "PA0002   PA14_00020       core               1.0  \n",
       "PA0003   PA14_00030       core               1.0  \n",
       "PA0004   PA14_00050       core               1.0  \n",
       "PA0005   PA14_00060       core               1.0  "
      ]
     },
     "execution_count": 5,
     "metadata": {},
     "output_type": "execute_result"
    }
   ],
   "source": [
    "# Get mapping between PAO1 and PA14 genes using PAO1 reference\n",
    "gene_annot_file = paths_corr.GENE_PAO1_ANNOT\n",
    "gene_mapping_pao1 = utils.get_pao1_pa14_gene_map(gene_annot_file, \"pao1\")\n",
    "gene_mapping_pao1.head()"
   ]
  },
  {
   "cell_type": "code",
   "execution_count": 6,
   "id": "economic-aircraft",
   "metadata": {},
   "outputs": [
    {
     "data": {
      "text/html": [
       "<div>\n",
       "<style scoped>\n",
       "    .dataframe tbody tr th:only-of-type {\n",
       "        vertical-align: middle;\n",
       "    }\n",
       "\n",
       "    .dataframe tbody tr th {\n",
       "        vertical-align: top;\n",
       "    }\n",
       "\n",
       "    .dataframe thead th {\n",
       "        text-align: right;\n",
       "    }\n",
       "</style>\n",
       "<table border=\"1\" class=\"dataframe\">\n",
       "  <thead>\n",
       "    <tr style=\"text-align: right;\">\n",
       "      <th></th>\n",
       "      <th>Name</th>\n",
       "      <th>Product.Name</th>\n",
       "      <th>GeneID.(PAO1)</th>\n",
       "      <th>PAO1_ID</th>\n",
       "      <th>annotation</th>\n",
       "      <th>num_mapped_genes</th>\n",
       "    </tr>\n",
       "    <tr>\n",
       "      <th>PA14_ID</th>\n",
       "      <th></th>\n",
       "      <th></th>\n",
       "      <th></th>\n",
       "      <th></th>\n",
       "      <th></th>\n",
       "      <th></th>\n",
       "    </tr>\n",
       "  </thead>\n",
       "  <tbody>\n",
       "    <tr>\n",
       "      <th>PA14_00010</th>\n",
       "      <td>dnaA</td>\n",
       "      <td>chromosomal replication initiation protein</td>\n",
       "      <td>878417.0</td>\n",
       "      <td>PA0001</td>\n",
       "      <td>core</td>\n",
       "      <td>1.0</td>\n",
       "    </tr>\n",
       "    <tr>\n",
       "      <th>PA14_00020</th>\n",
       "      <td>dnaN</td>\n",
       "      <td>DNA polymerase III subunit beta</td>\n",
       "      <td>879244.0</td>\n",
       "      <td>PA0002</td>\n",
       "      <td>core</td>\n",
       "      <td>1.0</td>\n",
       "    </tr>\n",
       "    <tr>\n",
       "      <th>PA14_00030</th>\n",
       "      <td>recF</td>\n",
       "      <td>recombination protein F</td>\n",
       "      <td>879229.0</td>\n",
       "      <td>PA0003</td>\n",
       "      <td>core</td>\n",
       "      <td>1.0</td>\n",
       "    </tr>\n",
       "    <tr>\n",
       "      <th>PA14_00050</th>\n",
       "      <td>gyrB</td>\n",
       "      <td>DNA gyrase subunit B</td>\n",
       "      <td>879230.0</td>\n",
       "      <td>PA0004</td>\n",
       "      <td>core</td>\n",
       "      <td>1.0</td>\n",
       "    </tr>\n",
       "    <tr>\n",
       "      <th>PA14_00060</th>\n",
       "      <td>NaN</td>\n",
       "      <td>acyltransferase</td>\n",
       "      <td>877576.0</td>\n",
       "      <td>PA0005</td>\n",
       "      <td>core</td>\n",
       "      <td>1.0</td>\n",
       "    </tr>\n",
       "  </tbody>\n",
       "</table>\n",
       "</div>"
      ],
      "text/plain": [
       "            Name                                Product.Name  GeneID.(PAO1)  \\\n",
       "PA14_ID                                                                       \n",
       "PA14_00010  dnaA  chromosomal replication initiation protein       878417.0   \n",
       "PA14_00020  dnaN             DNA polymerase III subunit beta       879244.0   \n",
       "PA14_00030  recF                     recombination protein F       879229.0   \n",
       "PA14_00050  gyrB                        DNA gyrase subunit B       879230.0   \n",
       "PA14_00060   NaN                             acyltransferase       877576.0   \n",
       "\n",
       "           PAO1_ID annotation  num_mapped_genes  \n",
       "PA14_ID                                          \n",
       "PA14_00010  PA0001       core               1.0  \n",
       "PA14_00020  PA0002       core               1.0  \n",
       "PA14_00030  PA0003       core               1.0  \n",
       "PA14_00050  PA0004       core               1.0  \n",
       "PA14_00060  PA0005       core               1.0  "
      ]
     },
     "execution_count": 6,
     "metadata": {},
     "output_type": "execute_result"
    }
   ],
   "source": [
    "# Get mapping between PAO1 and PA14 genes using PA14 reference\n",
    "gene_annot_file = paths_corr.GENE_PA14_ANNOT\n",
    "gene_mapping_pa14 = utils.get_pao1_pa14_gene_map(gene_annot_file, \"pa14\")\n",
    "gene_mapping_pa14.head()"
   ]
  },
  {
   "cell_type": "code",
   "execution_count": 7,
   "id": "micro-delaware",
   "metadata": {},
   "outputs": [
    {
     "name": "stdout",
     "output_type": "stream",
     "text": [
      "Number of PAO1 core genes: 5366\n"
     ]
    }
   ],
   "source": [
    "# Get core genes: genes that have a homolog between PAO1 and PA14\n",
    "core_pao1_genes, core_pa14_genes = utils.get_core_genes(\n",
    "    gene_mapping_pao1, gene_mapping_pa14, False\n",
    ")\n",
    "print(f\"Number of PAO1 core genes: {len(core_pao1_genes)}\")"
   ]
  },
  {
   "cell_type": "code",
   "execution_count": 8,
   "id": "worst-memory",
   "metadata": {},
   "outputs": [
    {
     "name": "stdout",
     "output_type": "stream",
     "text": [
      "Number of PAO1 core genes in my dataset: 5363\n"
     ]
    }
   ],
   "source": [
    "# Select only core genes that are included in my dataset\n",
    "pao1_ref_genes = expression_df.columns\n",
    "my_core_pao1_genes = list(set(core_pao1_genes).intersection(pao1_ref_genes))\n",
    "\n",
    "print(f\"Number of PAO1 core genes in my dataset: {len(my_core_pao1_genes)}\")"
   ]
  },
  {
   "cell_type": "code",
   "execution_count": 9,
   "id": "indonesian-colon",
   "metadata": {},
   "outputs": [
    {
     "name": "stdout",
     "output_type": "stream",
     "text": [
      "Number of PAO1-specific genes: 322\n"
     ]
    }
   ],
   "source": [
    "# Get PAO1-specific genes\n",
    "pao1_acc = list(set(pao1_ref_genes) - set(my_core_pao1_genes))\n",
    "print(f\"Number of PAO1-specific genes: {len(pao1_acc)}\")"
   ]
  },
  {
   "cell_type": "code",
   "execution_count": 10,
   "id": "radio-bleeding",
   "metadata": {},
   "outputs": [],
   "source": [
    "assert len(expression_df.columns) == len(my_core_pao1_genes) + len(pao1_acc)"
   ]
  },
  {
   "cell_type": "code",
   "execution_count": 11,
   "id": "brilliant-exhibition",
   "metadata": {},
   "outputs": [],
   "source": [
    "# Check that `get_pao1_pa14_gene_map` function is working as expected\n",
    "assert \"PA0053\" not in core_pao1_genes and \"PA0053\" in pao1_acc"
   ]
  },
  {
   "cell_type": "markdown",
   "id": "impossible-member",
   "metadata": {},
   "source": [
    "## Get sample groups"
   ]
  },
  {
   "cell_type": "code",
   "execution_count": 12,
   "id": "rotary-possible",
   "metadata": {},
   "outputs": [],
   "source": [
    "# Get PAO1 and PA14 sample ids\n",
    "pao1_ids = list(pao1_metadata.index)\n",
    "pa14_ids = list(pa14_metadata.index)"
   ]
  },
  {
   "cell_type": "markdown",
   "id": "social-briefs",
   "metadata": {},
   "source": [
    "## Plot expression activity"
   ]
  },
  {
   "cell_type": "code",
   "execution_count": 13,
   "id": "adjustable-aging",
   "metadata": {
    "scrolled": true
   },
   "outputs": [],
   "source": [
    "# Look at the expression of core genes in PAO1 and PA14 samples\n",
    "expression_core_pao1 = expression_df.loc[pao1_ids, my_core_pao1_genes]\n",
    "expression_core_pa14 = expression_df.loc[pa14_ids, my_core_pao1_genes]\n",
    "\n",
    "expression_core_pao1_mean = expression_core_pao1.mean()\n",
    "expression_core_pa14_mean = expression_core_pa14.mean()"
   ]
  },
  {
   "cell_type": "code",
   "execution_count": 14,
   "id": "silver-bulgarian",
   "metadata": {},
   "outputs": [
    {
     "name": "stderr",
     "output_type": "stream",
     "text": [
      "/home/alexandra/anaconda3/envs/core_acc_local/lib/python3.7/site-packages/scipy/stats/stats.py:1713: FutureWarning: Using a non-tuple sequence for multidimensional indexing is deprecated; use `arr[tuple(seq)]` instead of `arr[seq]`. In the future this will be interpreted as an array index, `arr[np.array(seq)]`, which will result either in an error or a different result.\n",
      "  return np.add.reduce(sorted[indexer] * weights, axis=axis) / sumval\n"
     ]
    },
    {
     "data": {
      "text/plain": [
       "Text(0, 0.5, 'Count')"
      ]
     },
     "execution_count": 14,
     "metadata": {},
     "output_type": "execute_result"
    },
    {
     "data": {
      "image/png": "[encoded data removed]",
      "text/plain": [
       "<Figure size 432x288 with 1 Axes>"
      ]
     },
     "metadata": {
      "needs_background": "light"
     },
     "output_type": "display_data"
    }
   ],
   "source": [
    "g = sns.distplot(expression_core_pao1_mean.values, kde=False)\n",
    "g = sns.distplot(expression_core_pa14_mean.values, kde=False)\n",
    "g.set_title(\"Histogram of mean gene expression for core genes\")\n",
    "g.set_xlabel(\"average TPM\")\n",
    "g.set_ylabel(\"Count\")"
   ]
  },
  {
   "cell_type": "code",
   "execution_count": 15,
   "id": "serious-vietnamese",
   "metadata": {},
   "outputs": [],
   "source": [
    "# Look at the expression of core genes in PAO1 and PA14 samples\n",
    "expression_acc_pao1 = expression_df.loc[pao1_ids, pao1_acc]\n",
    "expression_acc_pa14 = expression_df.loc[pa14_ids, pao1_acc]\n",
    "\n",
    "expression_acc_pao1_mean = expression_acc_pao1.mean()\n",
    "expression_acc_pa14_mean = expression_acc_pa14.mean()"
   ]
  },
  {
   "cell_type": "code",
   "execution_count": 16,
   "id": "corrected-statistics",
   "metadata": {},
   "outputs": [
    {
     "name": "stdout",
     "output_type": "stream",
     "text": [
      "0\n",
      "2\n",
      "2\n",
      "54\n"
     ]
    }
   ],
   "source": [
    "print(sum(expression_core_pao1_mean == 0))\n",
    "print(sum(expression_acc_pao1_mean == 0))\n",
    "print(sum(expression_core_pa14_mean == 0))\n",
    "print(sum(expression_acc_pa14_mean == 0))"
   ]
  },
  {
   "cell_type": "code",
   "execution_count": 17,
   "id": "creative-blair",
   "metadata": {},
   "outputs": [
    {
     "data": {
      "text/plain": [
       "Text(0, 0.5, 'Count')"
      ]
     },
     "execution_count": 17,
     "metadata": {},
     "output_type": "execute_result"
    },
    {
     "data": {
      "image/png": "[encoded data removed]",
      "text/plain": [
       "<Figure size 432x288 with 1 Axes>"
      ]
     },
     "metadata": {
      "needs_background": "light"
     },
     "output_type": "display_data"
    }
   ],
   "source": [
    "f = sns.distplot(expression_acc_pao1_mean.values, kde=False)\n",
    "f = sns.distplot(expression_acc_pa14_mean.values, kde=False)\n",
    "f.set_title(\"Histogram of mean gene expression for PAO1-only genes\")\n",
    "f.set_xlabel(\"average TPM\")\n",
    "f.set_ylabel(\"Count\")"
   ]
  },
  {
   "cell_type": "markdown",
   "id": "straight-module",
   "metadata": {},
   "source": [
    "* Overall most genes have a TPM < 5000 and there is a very long tail in the distribution which is expected\n",
    "* Looks like there is a slight shift in PA14 samples have lower expression of PAO1-only genes, as expected. There is still nonzero expression for many PAO1-only genes in PA14 samples. How should we deal with this?\n",
    "  * Should we use presence/absence information to exclude certain samples from our correlation on a per-gene basis? This will be difficult because we will need to get this information somehow\n",
    "  * Should we only consider samples within PAO1 for these PAO1-only genes?\n",
    "* Looks like there is higher expression in core genes for both PAO1 and PA14 samples, as expected\n",
    "* There is a difference in the overall expression level of core vs PAO1-only genes. Since we plan to use Spearman correlation which is based on the ordering of values, I don't think the raw activity should effect the correlation."
   ]
  }
 ],
 "metadata": {
  "jupytext": {
   "formats": "ipynb,py"
  },
  "kernelspec": {
   "display_name": "Python [conda env:core_acc_local]",
   "language": "python",
   "name": "conda-env-core_acc_local-py"
  },
  "language_info": {
   "codemirror_mode": {
    "name": "ipython",
    "version": 3
   },
   "file_extension": ".py",
   "mimetype": "text/x-python",
   "name": "python",
   "nbconvert_exporter": "python",
   "pygments_lexer": "ipython3",
   "version": "3.7.9"
  }
 },
 "nbformat": 4,
 "nbformat_minor": 5
}
