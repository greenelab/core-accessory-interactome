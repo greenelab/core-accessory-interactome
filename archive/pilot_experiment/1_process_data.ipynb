{
 "cells": [
  {
   "cell_type": "markdown",
   "metadata": {},
   "source": [
    "# Process data\n",
    "This notebook processes the expression data that will be used in this pilot analysis. Specifically this notebook performs the following steps:\n",
    "\n",
    "1. Selects a small subset of expression data and outputs this dataset to file\n",
    "2. Permutes the subsetted data to use as a control and outputs this dataset to file\n",
    "3. Generates a mapping between *P. aeruginosa* gene id (PA####) and core, accessory label"
   ]
  },
  {
   "cell_type": "code",
   "execution_count": 1,
   "metadata": {},
   "outputs": [],
   "source": [
    "%load_ext rpy2.ipython\n",
    "import pandas as pd\n",
    "import os\n",
    "import argparse\n",
    "import numpy as np\n",
    "from functions import process_data\n",
    "\n",
    "np.random.seed(123)"
   ]
  },
  {
   "cell_type": "code",
   "execution_count": 2,
   "metadata": {},
   "outputs": [],
   "source": [
    "base_dir = os.path.abspath(os.path.join(os.getcwd(),\"../\"))\n",
    "local_dir = \"/home/alexandra/Documents/\""
   ]
  },
  {
   "cell_type": "markdown",
   "metadata": {},
   "source": [
    "### About input data\n",
    "Normalized expression data is the *P. aeruginosa* compendium from [Tan et. al.](https://msystems.asm.org/content/1/1/e00025-15). The dataset can be found in the associated [ADAGE github repository](https://github.com/greenelab/adage/blob/master/Data_collection_processing/Pa_compendium_02.22.2014.pcl).\n",
    "\n",
    "The corresponding metadata was downloaded from the [ADAGE website](https://adage.greenelab.com/#/download)."
   ]
  },
  {
   "cell_type": "code",
   "execution_count": 3,
   "metadata": {},
   "outputs": [],
   "source": [
    "# Input files\n",
    "data_file = os.path.join(\n",
    "    local_dir,\n",
    "    \"Data\",\n",
    "    \"Batch_effects\",\n",
    "    \"input\",\n",
    "    \"Pa_compendium_02.22.2014.pcl\")\n",
    "\n",
    "metadata_file = os.path.join(\n",
    "    base_dir,\n",
    "    \"pilot_experiment\",\n",
    "    \"data\",\n",
    "    \"annotations\",\n",
    "    \"sample_annotations.tsv\")\n",
    "\n",
    "# Load in annotation file\n",
    "# Annotation file contains the list of all PAO1 specific genes\n",
    "gene_mapping_file = os.path.join(\n",
    "    base_dir,\n",
    "    \"pilot_experiment\",\n",
    "    \"data\",\n",
    "    \"annotations\",\n",
    "    \"PAO1_ID_PA14_ID.csv\")"
   ]
  },
  {
   "cell_type": "code",
   "execution_count": 4,
   "metadata": {},
   "outputs": [],
   "source": [
    "# User define which set of samples to use\n",
    "# All - Use all selected experiments\n",
    "# PA01 - Use only PAO1 experiments\n",
    "# PA14 - Use only PA14 experiments\n",
    "which_experiments = 'PAO1'"
   ]
  },
  {
   "cell_type": "code",
   "execution_count": 5,
   "metadata": {},
   "outputs": [],
   "source": [
    "# Select specific experiments\n",
    "# In this case we selected 6 experiments (3 experiments PAO1 strains and the other 3 experiments contain PA14 strains).\n",
    "# We will use only PAO1 and PA14 strains as a first pass because these two strains are the most common and well studied\n",
    "# P. aeruginosa strains and therefore we will be able to verify the resulting gene-gene interactions with those found\n",
    "# in the literature.\n",
    "if which_experiments == \"All\":\n",
    "    lst_experiments = [\"E-GEOD-8083\",\n",
    "                       \"E-GEOD-29789\",\n",
    "                       \"E-GEOD-48982\",\n",
    "                       \"E-GEOD-24038\",\n",
    "                       \"E-GEOD-29879\",\n",
    "                       \"E-GEOD-49759\"]\n",
    "elif which_experiments == \"PAO1\":\n",
    "    lst_experiments = [\"E-GEOD-8083\",\n",
    "                       \"E-GEOD-29789\",\n",
    "                       \"E-GEOD-48982\"\n",
    "                      ]\n",
    "elif which_experiments == \"PA14\":\n",
    "    lst_experiments = [\"E-GEOD-24038\",\n",
    "                       \"E-GEOD-29879\",\n",
    "                       \"E-GEOD-49759\"]"
   ]
  },
  {
   "cell_type": "code",
   "execution_count": 6,
   "metadata": {},
   "outputs": [],
   "source": [
    "# Output files\n",
    "selected_data_file = os.path.join(\n",
    "        base_dir,\n",
    "        \"pilot_experiment\",\n",
    "        \"data\",\n",
    "        \"input\",\n",
    "        \"selected_\"+which_experiments+\"_data.tsv\")\n",
    "\n",
    "shuffled_selected_data_file = os.path.join(\n",
    "        base_dir,\n",
    "        \"pilot_experiment\",\n",
    "        \"data\",\n",
    "        \"input\",\n",
    "        \"shuffled_\"+which_experiments+\"_selected_data.tsv\")\n",
    "\n",
    "gene_annot_file = os.path.join(\n",
    "        base_dir,\n",
    "        \"pilot_experiment\",\n",
    "        \"data\",\n",
    "        \"annotations\",\n",
    "        \"selected_gene_annotations.txt\")"
   ]
  },
  {
   "cell_type": "markdown",
   "metadata": {},
   "source": [
    "# Select subset of samples\n",
    "\n",
    "Select subset of experiments to use"
   ]
  },
  {
   "cell_type": "code",
   "execution_count": 7,
   "metadata": {
    "scrolled": true
   },
   "outputs": [
    {
     "name": "stdout",
     "output_type": "stream",
     "text": [
      "The selected dataset contains 19 samples and 5549 genes\n"
     ]
    }
   ],
   "source": [
    "process_data.select_expression_data(data_file,\n",
    "                                   metadata_file,\n",
    "                                   lst_experiments,\n",
    "                                   selected_data_file)"
   ]
  },
  {
   "cell_type": "markdown",
   "metadata": {},
   "source": [
    "# Permute selected expression data\n",
    "This permuted version will serve as a baseline for our analysis"
   ]
  },
  {
   "cell_type": "code",
   "execution_count": 8,
   "metadata": {
    "scrolled": true
   },
   "outputs": [],
   "source": [
    "process_data.permute_expression_data(selected_data_file,\n",
    "                                     shuffled_selected_data_file)"
   ]
  },
  {
   "cell_type": "markdown",
   "metadata": {},
   "source": [
    "# Annotate genes as core and accessory\n",
    "\n",
    "Annotate genes as either **core** if PAO1 gene is homologous to PA14 gene, or **accessory** if there does not exist a homolog. \n",
    "\n",
    "These homologous mappings are based on the [Bactome database](https://bactome.helmholtz-hzi.de/cgi-bin/h-pange.cgi?STAT=1&Gene=PA0135)"
   ]
  },
  {
   "cell_type": "code",
   "execution_count": 9,
   "metadata": {
    "scrolled": true
   },
   "outputs": [
    {
     "name": "stdout",
     "output_type": "stream",
     "text": [
      "No. of PAO1 only genes: 201\n"
     ]
    }
   ],
   "source": [
    "process_data.annotate_genes(selected_data_file,\n",
    "                            gene_mapping_file,\n",
    "                            gene_annot_file)"
   ]
  }
 ],
 "metadata": {
  "kernelspec": {
   "display_name": "Python [conda env:core_acc] *",
   "language": "python",
   "name": "conda-env-core_acc-py"
  },
  "language_info": {
   "codemirror_mode": {
    "name": "ipython",
    "version": 3
   },
   "file_extension": ".py",
   "mimetype": "text/x-python",
   "name": "python",
   "nbconvert_exporter": "python",
   "pygments_lexer": "ipython3",
   "version": "3.7.6"
  }
 },
 "nbformat": 4,
 "nbformat_minor": 4
}
