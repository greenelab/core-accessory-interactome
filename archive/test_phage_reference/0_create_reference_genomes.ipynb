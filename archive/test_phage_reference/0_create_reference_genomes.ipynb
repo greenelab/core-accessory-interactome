{
 "cells": [
  {
   "cell_type": "markdown",
   "metadata": {},
   "source": [
    "# Create reference genome\n",
    "\n",
    "This notebook will create two combined reference genomes 1) phage and PAO1 reference sequences, 2) phage and PA14 reference sequences."
   ]
  },
  {
   "cell_type": "code",
   "execution_count": 1,
   "metadata": {},
   "outputs": [],
   "source": [
    "import os\n",
    "import pandas as pd\n",
    "import numpy as np\n",
    "from Bio import SeqIO\n",
    "from core_acc_modules import paths"
   ]
  },
  {
   "cell_type": "markdown",
   "metadata": {},
   "source": [
    "## Download phage genomes\n",
    "Phage genomes were downloaded from NCBI GenBank using search keywords: [phage] AND [pseudomonas].\n",
    "\n",
    "This search returned 1,950 samples (as of 15 December 2020)"
   ]
  },
  {
   "cell_type": "markdown",
   "metadata": {},
   "source": [
    "## Combine phage + PAO1/PA14 genomes\n",
    "\n",
    "We want to create a fasta file with PAO1 + phage gene sequences and a file with PA14 + phage gene sequences. To do this we need to make sure we are only adding unique phage genome sequences to the PAO1 or PA14 reference sequences. We will do this using BLAST. For all phage genome sequences, we will BLAST against PAO1 or PA14 sequences\n",
    "\n",
    "**BLAST (basic local alignment search tool)** which performs comparisons between pairs of sequences, searching for regions of local similarity.\n",
    "\n",
    "1. An initial search is done for a word of length \"W\" (W-mer) in the query sequence.\n",
    "2. Word hits are then extended in either direction in an attempt to generate a maximal segment pair (MSP)\n",
    "3. The MSP score is computed based on the number of mismatches/matches, gaps\n",
    "\n",
    "https://www.ncbi.nlm.nih.gov/books/NBK62051/"
   ]
  },
  {
   "cell_type": "markdown",
   "metadata": {},
   "source": [
    "### Process PAO1 and PA14 sequence files\n",
    "\n",
    "1. Make sure that file is .fasta\n",
    "2. Remove any duplicate sequence ids"
   ]
  },
  {
   "cell_type": "code",
   "execution_count": 2,
   "metadata": {},
   "outputs": [
    {
     "data": {
      "text/plain": [
       "5711"
      ]
     },
     "execution_count": 2,
     "metadata": {},
     "output_type": "execute_result"
    }
   ],
   "source": [
    "# Remove duplicate PAO1 reference sequences\n",
    "pao1_noduplicates_ref = []\n",
    "\n",
    "pao1_seq_ids_seen = []\n",
    "for record in SeqIO.parse(paths.PAO1_REF, \"fasta\"):\n",
    "    if record.id not in pao1_seq_ids_seen:\n",
    "        pao1_seq_ids_seen.append(record.id)\n",
    "        pao1_noduplicates_ref.append(record)\n",
    "\n",
    "# Write cleaned fasta records to file\n",
    "SeqIO.write(pao1_noduplicates_ref, paths.PAO1_REF, \"fasta\")"
   ]
  },
  {
   "cell_type": "code",
   "execution_count": 3,
   "metadata": {},
   "outputs": [
    {
     "data": {
      "text/plain": [
       "5983"
      ]
     },
     "execution_count": 3,
     "metadata": {},
     "output_type": "execute_result"
    }
   ],
   "source": [
    "# Remove duplicate PAO1 reference sequences\n",
    "pa14_noduplicates_ref = []\n",
    "\n",
    "pa14_seq_ids_seen = []\n",
    "for record in SeqIO.parse(paths.PA14_REF, \"fasta\"):\n",
    "    if record.id not in pa14_seq_ids_seen:\n",
    "        pa14_seq_ids_seen.append(record.id)\n",
    "        pa14_noduplicates_ref.append(record)\n",
    "\n",
    "# Write cleaned fasta records to file\n",
    "SeqIO.write(pa14_noduplicates_ref, paths.PA14_REF, \"fasta\")"
   ]
  },
  {
   "cell_type": "markdown",
   "metadata": {},
   "source": [
    "### Create BLAST DB\n",
    "\n",
    "Note: Got the following error message:\n",
    "\n",
    "```\n",
    "Error: (803.7) [makeblastdb] Blast-def-line-set.E.title\n",
    "Bad char [0xC2] in string at byte 52\n",
    "cds chromosome:3013928-3015481(+) name=fhpR ;locus_tag=PA2665;replicon_accession=NC_002516.2;product=Transcriptional activator of P. aeruginosa flavohemoglobin, FhpR\n",
    "```\n",
    "\n",
    "The error seems to be associated with non-acii characters present. https://github.com/tseemann/abricate/issues/77\n",
    "\n",
    "**Fix:** Manually changed `name=fhpR ;` to `name=fhpR;`"
   ]
  },
  {
   "cell_type": "code",
   "execution_count": 4,
   "metadata": {},
   "outputs": [],
   "source": [
    "os.makedirs(paths.BLAST_DIR, exist_ok=True)"
   ]
  },
  {
   "cell_type": "code",
   "execution_count": 5,
   "metadata": {
    "scrolled": false
   },
   "outputs": [
    {
     "name": "stdout",
     "output_type": "stream",
     "text": [
      "\n",
      "\n",
      "Building a new DB, current time: 01/22/2021 19:29:04\n",
      "New DB name:   /home/alexandra/Documents/Data/Core_accessory/blast/db/PAO1_DB\n",
      "New DB title:  /home/alexandra/Documents/Data/Core_accessory/Pseudomonas_aeruginosa_PAO1_107.fasta\n",
      "Sequence type: Nucleotide\n",
      "Deleted existing Nucleotide BLAST database named /home/alexandra/Documents/Data/Core_accessory/blast/db/PAO1_DB\n",
      "Keep MBits: T\n",
      "Maximum file size: 1000000000B\n",
      "Adding sequences from FASTA; added 5711 sequences in 0.140933 seconds.\n"
     ]
    }
   ],
   "source": [
    "%%bash -s $paths.PAO1_REF $paths.PAO1_DB_DIR\n",
    "\n",
    "makeblastdb -in $1 -dbtype nucl -parse_seqids -out $2"
   ]
  },
  {
   "cell_type": "code",
   "execution_count": 6,
   "metadata": {},
   "outputs": [
    {
     "name": "stdout",
     "output_type": "stream",
     "text": [
      "\n",
      "\n",
      "Building a new DB, current time: 01/22/2021 19:29:04\n",
      "New DB name:   /home/alexandra/Documents/Data/Core_accessory/blast/db/PA14_DB\n",
      "New DB title:  /home/alexandra/Documents/Data/Core_accessory/Pseudomonas_aeruginosa_UCBPP-PA14_109.fasta\n",
      "Sequence type: Nucleotide\n",
      "Deleted existing Nucleotide BLAST database named /home/alexandra/Documents/Data/Core_accessory/blast/db/PA14_DB\n",
      "Keep MBits: T\n",
      "Maximum file size: 1000000000B\n",
      "Adding sequences from FASTA; added 5983 sequences in 0.160871 seconds.\n"
     ]
    }
   ],
   "source": [
    "%%bash -s $paths.PA14_REF $paths.PA14_DB_DIR\n",
    "\n",
    "makeblastdb -in $1 -dbtype nucl -parse_seqids -out $2"
   ]
  },
  {
   "cell_type": "markdown",
   "metadata": {},
   "source": [
    "### BLAST phage sequences against PAO1/PA14 DB\n",
    "\n",
    "http://www.metagenomics.wiki/tools/blast/blastn-output-format-6\n",
    "\n",
    "| Column header | Description |\n",
    "| --- | --- |\n",
    "| qseqid | query (e.g., unknown gene) sequence id |\n",
    "| sseqid | subject (e.g., reference genome) sequence id |\n",
    "| pident | percentage of identical matches |\n",
    "| length | alignment length (sequence overlap) |\n",
    "| mismatch | number of mismatches |\n",
    "| gapopen | number of gap openings |\n",
    "| qstart | start of alignment in query |\n",
    "| qend | end of alignment in query |\n",
    "| sstart | start of alignment in subject\n",
    "| send | end of alignment in subject |\n",
    "| evalue | expect value |\n",
    "| bitscore | bit score|\n",
    "\n",
    "E-value: expected number of chance alignments; the smaller the E-value, the better the match."
   ]
  },
  {
   "cell_type": "code",
   "execution_count": 7,
   "metadata": {
    "scrolled": true
   },
   "outputs": [],
   "source": [
    "%%bash -s $paths.PHAGE_REF $paths.PAO1_BLAST_RESULT $paths.PAO1_DB_DIR\n",
    "blastn -query $1 -out $2 -db $3 -outfmt 6"
   ]
  },
  {
   "cell_type": "code",
   "execution_count": 8,
   "metadata": {},
   "outputs": [],
   "source": [
    "%%bash -s $paths.PHAGE_REF $paths.PA14_BLAST_RESULT $paths.PA14_DB_DIR\n",
    "blastn -query $1 -out $2 -db $3 -outfmt 6"
   ]
  },
  {
   "cell_type": "code",
   "execution_count": 9,
   "metadata": {},
   "outputs": [],
   "source": [
    "pao1_blast_result = pd.read_csv(paths.PAO1_BLAST_RESULT, sep=\"\\t\", header=None)\n",
    "pa14_blast_result = pd.read_csv(paths.PA14_BLAST_RESULT, sep=\"\\t\", header=None)"
   ]
  },
  {
   "cell_type": "code",
   "execution_count": 10,
   "metadata": {},
   "outputs": [],
   "source": [
    "# Add column names described above\n",
    "col_names = [\n",
    "    \"qseqid\",\n",
    "    \"sseqid\",\n",
    "    \"pident\",\n",
    "    \"length\",\n",
    "    \"mismatch\",\n",
    "    \"gapopen\",\n",
    "    \"qstart\",\n",
    "    \"qend\",\n",
    "    \"sstart\",\n",
    "    \"send\",\n",
    "    \"evalue\",\n",
    "    \"bitscore\",\n",
    "]"
   ]
  },
  {
   "cell_type": "code",
   "execution_count": 11,
   "metadata": {},
   "outputs": [
    {
     "name": "stdout",
     "output_type": "stream",
     "text": [
      "(2856, 12)\n",
      "0.005\n"
     ]
    },
    {
     "data": {
      "text/html": [
       "<div>\n",
       "<style scoped>\n",
       "    .dataframe tbody tr th:only-of-type {\n",
       "        vertical-align: middle;\n",
       "    }\n",
       "\n",
       "    .dataframe tbody tr th {\n",
       "        vertical-align: top;\n",
       "    }\n",
       "\n",
       "    .dataframe thead th {\n",
       "        text-align: right;\n",
       "    }\n",
       "</style>\n",
       "<table border=\"1\" class=\"dataframe\">\n",
       "  <thead>\n",
       "    <tr style=\"text-align: right;\">\n",
       "      <th></th>\n",
       "      <th>qseqid</th>\n",
       "      <th>sseqid</th>\n",
       "      <th>pident</th>\n",
       "      <th>length</th>\n",
       "      <th>mismatch</th>\n",
       "      <th>gapopen</th>\n",
       "      <th>qstart</th>\n",
       "      <th>qend</th>\n",
       "      <th>sstart</th>\n",
       "      <th>send</th>\n",
       "      <th>evalue</th>\n",
       "      <th>bitscore</th>\n",
       "    </tr>\n",
       "  </thead>\n",
       "  <tbody>\n",
       "    <tr>\n",
       "      <th>0</th>\n",
       "      <td>NC_028999.1</td>\n",
       "      <td>PGD113194</td>\n",
       "      <td>89.474</td>\n",
       "      <td>76</td>\n",
       "      <td>7</td>\n",
       "      <td>1</td>\n",
       "      <td>294862</td>\n",
       "      <td>294937</td>\n",
       "      <td>76</td>\n",
       "      <td>2</td>\n",
       "      <td>3.470000e-17</td>\n",
       "      <td>95.3</td>\n",
       "    </tr>\n",
       "    <tr>\n",
       "      <th>1</th>\n",
       "      <td>HQ630627.1</td>\n",
       "      <td>PGD113194</td>\n",
       "      <td>89.474</td>\n",
       "      <td>76</td>\n",
       "      <td>7</td>\n",
       "      <td>1</td>\n",
       "      <td>294862</td>\n",
       "      <td>294937</td>\n",
       "      <td>76</td>\n",
       "      <td>2</td>\n",
       "      <td>3.470000e-17</td>\n",
       "      <td>95.3</td>\n",
       "    </tr>\n",
       "    <tr>\n",
       "      <th>2</th>\n",
       "      <td>CP019649.1</td>\n",
       "      <td>PGD113616</td>\n",
       "      <td>85.562</td>\n",
       "      <td>2916</td>\n",
       "      <td>358</td>\n",
       "      <td>51</td>\n",
       "      <td>4219366</td>\n",
       "      <td>4222257</td>\n",
       "      <td>12</td>\n",
       "      <td>2888</td>\n",
       "      <td>0.000000e+00</td>\n",
       "      <td>2994.0</td>\n",
       "    </tr>\n",
       "    <tr>\n",
       "      <th>3</th>\n",
       "      <td>CP019649.1</td>\n",
       "      <td>PGD113616</td>\n",
       "      <td>86.872</td>\n",
       "      <td>2369</td>\n",
       "      <td>274</td>\n",
       "      <td>33</td>\n",
       "      <td>2808398</td>\n",
       "      <td>2810750</td>\n",
       "      <td>2888</td>\n",
       "      <td>541</td>\n",
       "      <td>0.000000e+00</td>\n",
       "      <td>2617.0</td>\n",
       "    </tr>\n",
       "    <tr>\n",
       "      <th>4</th>\n",
       "      <td>CP019649.1</td>\n",
       "      <td>PGD113616</td>\n",
       "      <td>86.705</td>\n",
       "      <td>1730</td>\n",
       "      <td>206</td>\n",
       "      <td>21</td>\n",
       "      <td>4124539</td>\n",
       "      <td>4126257</td>\n",
       "      <td>1172</td>\n",
       "      <td>2888</td>\n",
       "      <td>0.000000e+00</td>\n",
       "      <td>1899.0</td>\n",
       "    </tr>\n",
       "  </tbody>\n",
       "</table>\n",
       "</div>"
      ],
      "text/plain": [
       "        qseqid     sseqid  pident  length  mismatch  gapopen   qstart  \\\n",
       "0  NC_028999.1  PGD113194  89.474      76         7        1   294862   \n",
       "1   HQ630627.1  PGD113194  89.474      76         7        1   294862   \n",
       "2   CP019649.1  PGD113616  85.562    2916       358       51  4219366   \n",
       "3   CP019649.1  PGD113616  86.872    2369       274       33  2808398   \n",
       "4   CP019649.1  PGD113616  86.705    1730       206       21  4124539   \n",
       "\n",
       "      qend  sstart  send        evalue  bitscore  \n",
       "0   294937      76     2  3.470000e-17      95.3  \n",
       "1   294937      76     2  3.470000e-17      95.3  \n",
       "2  4222257      12  2888  0.000000e+00    2994.0  \n",
       "3  2810750    2888   541  0.000000e+00    2617.0  \n",
       "4  4126257    1172  2888  0.000000e+00    1899.0  "
      ]
     },
     "execution_count": 11,
     "metadata": {},
     "output_type": "execute_result"
    }
   ],
   "source": [
    "# BLAST results for PAO1\n",
    "pao1_blast_result.columns = col_names\n",
    "print(pao1_blast_result.shape)\n",
    "print(pao1_blast_result[\"evalue\"].max())\n",
    "pao1_blast_result.head()"
   ]
  },
  {
   "cell_type": "code",
   "execution_count": 12,
   "metadata": {},
   "outputs": [
    {
     "name": "stdout",
     "output_type": "stream",
     "text": [
      "(3036, 12)\n",
      "0.005\n"
     ]
    },
    {
     "data": {
      "text/html": [
       "<div>\n",
       "<style scoped>\n",
       "    .dataframe tbody tr th:only-of-type {\n",
       "        vertical-align: middle;\n",
       "    }\n",
       "\n",
       "    .dataframe tbody tr th {\n",
       "        vertical-align: top;\n",
       "    }\n",
       "\n",
       "    .dataframe thead th {\n",
       "        text-align: right;\n",
       "    }\n",
       "</style>\n",
       "<table border=\"1\" class=\"dataframe\">\n",
       "  <thead>\n",
       "    <tr style=\"text-align: right;\">\n",
       "      <th></th>\n",
       "      <th>qseqid</th>\n",
       "      <th>sseqid</th>\n",
       "      <th>pident</th>\n",
       "      <th>length</th>\n",
       "      <th>mismatch</th>\n",
       "      <th>gapopen</th>\n",
       "      <th>qstart</th>\n",
       "      <th>qend</th>\n",
       "      <th>sstart</th>\n",
       "      <th>send</th>\n",
       "      <th>evalue</th>\n",
       "      <th>bitscore</th>\n",
       "    </tr>\n",
       "  </thead>\n",
       "  <tbody>\n",
       "    <tr>\n",
       "      <th>0</th>\n",
       "      <td>NC_028999.1</td>\n",
       "      <td>PGD1661932</td>\n",
       "      <td>93.651</td>\n",
       "      <td>63</td>\n",
       "      <td>3</td>\n",
       "      <td>1</td>\n",
       "      <td>294875</td>\n",
       "      <td>294937</td>\n",
       "      <td>62</td>\n",
       "      <td>1</td>\n",
       "      <td>1.300000e-16</td>\n",
       "      <td>93.5</td>\n",
       "    </tr>\n",
       "    <tr>\n",
       "      <th>1</th>\n",
       "      <td>HQ630627.1</td>\n",
       "      <td>PGD1661932</td>\n",
       "      <td>93.651</td>\n",
       "      <td>63</td>\n",
       "      <td>3</td>\n",
       "      <td>1</td>\n",
       "      <td>294875</td>\n",
       "      <td>294937</td>\n",
       "      <td>62</td>\n",
       "      <td>1</td>\n",
       "      <td>1.300000e-16</td>\n",
       "      <td>93.5</td>\n",
       "    </tr>\n",
       "    <tr>\n",
       "      <th>2</th>\n",
       "      <td>CP019649.1</td>\n",
       "      <td>PGD1660954</td>\n",
       "      <td>85.490</td>\n",
       "      <td>2929</td>\n",
       "      <td>360</td>\n",
       "      <td>52</td>\n",
       "      <td>4219354</td>\n",
       "      <td>4222257</td>\n",
       "      <td>1</td>\n",
       "      <td>2889</td>\n",
       "      <td>0.000000e+00</td>\n",
       "      <td>2994.0</td>\n",
       "    </tr>\n",
       "    <tr>\n",
       "      <th>3</th>\n",
       "      <td>CP019649.1</td>\n",
       "      <td>PGD1660954</td>\n",
       "      <td>86.878</td>\n",
       "      <td>2370</td>\n",
       "      <td>272</td>\n",
       "      <td>34</td>\n",
       "      <td>2808398</td>\n",
       "      <td>2810750</td>\n",
       "      <td>2889</td>\n",
       "      <td>542</td>\n",
       "      <td>0.000000e+00</td>\n",
       "      <td>2617.0</td>\n",
       "    </tr>\n",
       "    <tr>\n",
       "      <th>4</th>\n",
       "      <td>CP019649.1</td>\n",
       "      <td>PGD1660954</td>\n",
       "      <td>86.713</td>\n",
       "      <td>1731</td>\n",
       "      <td>204</td>\n",
       "      <td>23</td>\n",
       "      <td>4124539</td>\n",
       "      <td>4126257</td>\n",
       "      <td>1173</td>\n",
       "      <td>2889</td>\n",
       "      <td>0.000000e+00</td>\n",
       "      <td>1899.0</td>\n",
       "    </tr>\n",
       "  </tbody>\n",
       "</table>\n",
       "</div>"
      ],
      "text/plain": [
       "        qseqid      sseqid  pident  length  mismatch  gapopen   qstart  \\\n",
       "0  NC_028999.1  PGD1661932  93.651      63         3        1   294875   \n",
       "1   HQ630627.1  PGD1661932  93.651      63         3        1   294875   \n",
       "2   CP019649.1  PGD1660954  85.490    2929       360       52  4219354   \n",
       "3   CP019649.1  PGD1660954  86.878    2370       272       34  2808398   \n",
       "4   CP019649.1  PGD1660954  86.713    1731       204       23  4124539   \n",
       "\n",
       "      qend  sstart  send        evalue  bitscore  \n",
       "0   294937      62     1  1.300000e-16      93.5  \n",
       "1   294937      62     1  1.300000e-16      93.5  \n",
       "2  4222257       1  2889  0.000000e+00    2994.0  \n",
       "3  2810750    2889   542  0.000000e+00    2617.0  \n",
       "4  4126257    1173  2889  0.000000e+00    1899.0  "
      ]
     },
     "execution_count": 12,
     "metadata": {},
     "output_type": "execute_result"
    }
   ],
   "source": [
    "# BLAST results for PA14\n",
    "pa14_blast_result.columns = col_names\n",
    "print(pa14_blast_result.shape)\n",
    "print(pa14_blast_result[\"evalue\"].max())\n",
    "pa14_blast_result.head()"
   ]
  },
  {
   "cell_type": "markdown",
   "metadata": {},
   "source": [
    "## Add non-duplicate phage sequences only\n",
    "The smaller the E-value, the better the match. So we want to add phage sequences with high E-value (i.e. evalue > 0.05) or phage sequences that are not on this table at all, because there was no hit found.\n",
    "\n",
    "In this case, there were no sequences with high evalues so we are treating all the sequences in the above table as duplicates"
   ]
  },
  {
   "cell_type": "code",
   "execution_count": 13,
   "metadata": {},
   "outputs": [
    {
     "name": "stdout",
     "output_type": "stream",
     "text": [
      "5711\n",
      "1949\n",
      "177\n",
      "7483\n"
     ]
    }
   ],
   "source": [
    "duplicate_pao1_phage_seq_ids = np.unique(pao1_blast_result[\"qseqid\"].values)\n",
    "\n",
    "pao1_phage_ref_seqs = []\n",
    "\n",
    "# Add all PAO1 reference sequences\n",
    "for record in SeqIO.parse(paths.PAO1_REF, \"fasta\"):\n",
    "    pao1_phage_ref_seqs.append(record)\n",
    "\n",
    "num_pao1_seqs = len(pao1_phage_ref_seqs)\n",
    "print(num_pao1_seqs)\n",
    "\n",
    "# Only add non-redundant phage sequences\n",
    "num_phage_seqs = 0\n",
    "for record in SeqIO.parse(paths.PHAGE_REF, \"fasta\"):\n",
    "    num_phage_seqs += 1\n",
    "    if record.id not in duplicate_pao1_phage_seq_ids:\n",
    "        pao1_phage_ref_seqs.append(record)\n",
    "\n",
    "print(num_phage_seqs)\n",
    "print(len(duplicate_pao1_phage_seq_ids))\n",
    "print(len(pao1_phage_ref_seqs))\n",
    "\n",
    "# Check length\n",
    "assert len(pao1_phage_ref_seqs) == (\n",
    "    num_pao1_seqs + num_phage_seqs - len(duplicate_pao1_phage_seq_ids)\n",
    ")"
   ]
  },
  {
   "cell_type": "code",
   "execution_count": 14,
   "metadata": {},
   "outputs": [
    {
     "name": "stdout",
     "output_type": "stream",
     "text": [
      "5983\n",
      "1949\n",
      "247\n",
      "7685\n"
     ]
    }
   ],
   "source": [
    "duplicate_pa14_phage_seq_ids = np.unique(pa14_blast_result[\"qseqid\"].values)\n",
    "\n",
    "pa14_phage_ref_seqs = []\n",
    "\n",
    "# Add all PAO1 reference sequences\n",
    "for record in SeqIO.parse(paths.PA14_REF, \"fasta\"):\n",
    "    pa14_phage_ref_seqs.append(record)\n",
    "\n",
    "num_pa14_seqs = len(pa14_phage_ref_seqs)\n",
    "print(num_pa14_seqs)\n",
    "\n",
    "# Only add non-redundant phage sequences\n",
    "for record in SeqIO.parse(paths.PHAGE_REF, \"fasta\"):\n",
    "    if record.id not in duplicate_pa14_phage_seq_ids:\n",
    "        pa14_phage_ref_seqs.append(record)\n",
    "\n",
    "print(num_phage_seqs)\n",
    "print(len(duplicate_pa14_phage_seq_ids))\n",
    "print(len(pa14_phage_ref_seqs))\n",
    "\n",
    "# Check length\n",
    "assert len(pa14_phage_ref_seqs) == (\n",
    "    num_pa14_seqs + num_phage_seqs - len(duplicate_pa14_phage_seq_ids)\n",
    ")"
   ]
  },
  {
   "cell_type": "code",
   "execution_count": 15,
   "metadata": {},
   "outputs": [
    {
     "data": {
      "text/plain": [
       "7685"
      ]
     },
     "execution_count": 15,
     "metadata": {},
     "output_type": "execute_result"
    }
   ],
   "source": [
    "# Write cleaned fasta records to file\n",
    "SeqIO.write(pao1_phage_ref_seqs, paths.PAO1_PHAGE_REF, \"fasta\")\n",
    "SeqIO.write(pa14_phage_ref_seqs, paths.PA14_PHAGE_REF, \"fasta\")"
   ]
  }
 ],
 "metadata": {
  "jupytext": {
   "formats": "ipynb,py"
  },
  "kernelspec": {
   "display_name": "Python [conda env:core_acc] *",
   "language": "python",
   "name": "conda-env-core_acc-py"
  },
  "language_info": {
   "codemirror_mode": {
    "name": "ipython",
    "version": 3
   },
   "file_extension": ".py",
   "mimetype": "text/x-python",
   "name": "python",
   "nbconvert_exporter": "python",
   "pygments_lexer": "ipython3",
   "version": "3.7.9"
  }
 },
 "nbformat": 4,
 "nbformat_minor": 4
}
